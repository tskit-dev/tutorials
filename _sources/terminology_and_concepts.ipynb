{
 "cells": [
  {
   "cell_type": "markdown",
   "id": "0a121a7d",
   "metadata": {},
   "source": [
    "```{currentmodule} tskit\n",
    "```"
   ]
  },
  {
   "cell_type": "code",
   "execution_count": 1,
   "id": "fdfaba38",
   "metadata": {
    "tags": [
     "remove-cell"
    ]
   },
   "outputs": [],
   "source": [
    "import msprime\n",
    "import tskit\n",
    "import numpy as np\n",
    "\n",
    "def basics():\n",
    "    # Use \"record full ARG\" so we can get a nice SPR animation if we want it at the end\n",
    "    # random_seed picked to get 2nd SPR involving 2 edges only (at the root)\n",
    "    arg = msprime.sim_ancestry(\n",
    "        3,\n",
    "        population_size=100,\n",
    "        random_seed=1440,\n",
    "        sequence_length=1000,\n",
    "        recombination_rate=1e-6,\n",
    "        record_full_arg=True)\n",
    "    arg = msprime.sim_mutations(arg, rate=1e-6, random_seed=23)\n",
    "    ts = arg.simplify()\n",
    "    tables = ts.dump_tables()\n",
    "    # populations already has a schema\n",
    "    populations_md = [p.metadata for p in ts.populations()]\n",
    "    populations_md[0][\"name\"] = \"GBR\"\n",
    "    populations_md[0][\"description\"] = \"British from England and Scotland\"\n",
    "    \n",
    "    tables.populations.packset_metadata(\n",
    "        [tables.populations.metadata_schema.validate_and_encode_row(r) for r in populations_md]\n",
    "    )\n",
    "    individuals_md = [{\"name\": \"Ada\"}, {\"name\": \"Bob\"}, {\"name\": \"Cat\"}]\n",
    "    tables.individuals.metadata_schema = tskit.MetadataSchema({'codec': 'json'})\n",
    "    tables.individuals.packset_metadata(\n",
    "        [tables.individuals.metadata_schema.validate_and_encode_row(r) for r in individuals_md]\n",
    "    )\n",
    "    tables.mutations.time = np.full_like(tables.mutations.time, tskit.UNKNOWN_TIME)\n",
    "    tables.tree_sequence().dump(\"data/basics.trees\")\n",
    "    \n",
    "\n",
    "\n",
    "def create_notebook_data():\n",
    "    basics()\n",
    "\n",
    "# create_notebook_data()  # uncomment to recreate the tree seqs used in this notebook"
   ]
  },
  {
   "cell_type": "markdown",
   "id": "ca5e07e6",
   "metadata": {},
   "source": [
    "(sec_terminology_and_concepts)=\n",
    "\n",
    "# Terminology & concepts\n",
    "\n",
    "If you have read \"{ref}`sec_what_is`\" we hope to have piqued your interest in tree\n",
    "sequences. This tutorial serves as an introduction to the terminology and some of the\n",
    "concepts behind {program}`tskit`, the tree sequence toolkit.\n",
    "\n",
    "(sec_terminology)=\n",
    "\n",
    "## Terminology\n",
    "\n",
    "::::{margin}\n",
    ":::{note}\n",
    "See {ref}`sec_intro_downloading_datafiles` to run this tutorial on your own computer\n",
    ":::\n",
    "::::\n",
    "\n",
    "A tree sequence is a data structure which describes a set of correlated\n",
    "evolutionary trees, together with some associated data that specifies, for example,\n",
    "the location of mutations in the tree sequence. More technically, a tree sequence\n",
    "stores a biological structure known as an \"Ancestral Recombination Graph\", or ARG.\n",
    "\n",
    "Below are the most important {ref}`terms and concepts <tskit:sec_data_model_definitions>`\n",
    "that you'll encounter in these tutorials,  but first we'll {func}`~tskit.load` a tree\n",
    "sequence from a `.trees` file using the\n",
    "{ref}`tskit:sec_python_api` (which will be used in the rest of this tutorial):"
   ]
  },
  {
   "cell_type": "code",
   "execution_count": 2,
   "id": "837e485b",
   "metadata": {},
   "outputs": [],
   "source": [
    "import tskit\n",
    "# We will often store the python tree sequence object in a variable named \"ts\"\n",
    "ts = tskit.load(\"data/basics.trees\")"
   ]
  },
  {
   "cell_type": "markdown",
   "id": "0674a4f3",
   "metadata": {},
   "source": [
    "### Genomes\n",
    "\n",
    "::::{margin}\n",
    ":::{note}\n",
    "{ref}`Workarounds<msprime:sec_ancestry_multiple_chromosomes>` exist\n",
    "to represent a multi-chromosome genome as a tree\n",
    "sequence, but are not covered here\n",
    ":::\n",
    "::::\n",
    "\n",
    "A tree sequence covers a contiguous section of a single chromosome.\n",
    "For clarity of explanation, we use the word \"genome\" to refer to the section spanned by\n",
    "the whole tree sequence (if you find it easier, imagine our examples describe an\n",
    "organism with a single, short chromosome).\n",
    "\n",
    "In the tree sequence we have just loaded,\n",
    "the genome is of length 1000, conventionally interpreted as the number of base\n",
    "pairs. This is accessible using the {attr}`~TreeSequence.sequence_length` attribute."
   ]
  },
  {
   "cell_type": "code",
   "execution_count": 3,
   "id": "e055ac27",
   "metadata": {},
   "outputs": [
    {
     "data": {
      "text/plain": [
       "1000.0"
      ]
     },
     "execution_count": 3,
     "metadata": {},
     "output_type": "execute_result"
    }
   ],
   "source": [
    "ts.sequence_length  # a floating point number: positions need not be integers"
   ]
  },
  {
   "cell_type": "markdown",
   "id": "19165873",
   "metadata": {},
   "source": [
    "It can be helpful to visualize the tree sequence as a set of local trees along the genome:"
   ]
  },
  {
   "cell_type": "code",
   "execution_count": 4,
   "id": "22132571",
   "metadata": {
    "tags": [
     "hide-input"
    ]
   },
   "outputs": [
    {
     "data": {
      "image/svg+xml": [
       "<svg baseProfile=\"full\" height=\"200\" version=\"1.1\" width=\"600\" xmlns=\"http://www.w3.org/2000/svg\" xmlns:ev=\"http://www.w3.org/2001/xml-events\" xmlns:xlink=\"http://www.w3.org/1999/xlink\"><defs><style type=\"text/css\"><![CDATA[.background path {fill: #808080; fill-opacity: 0}.background path:nth-child(odd) {fill-opacity: .1}.axes {font-size: 14px}.x-axis .tick .lab {font-weight: bold; dominant-baseline: hanging}.axes, .tree {font-size: 14px; text-anchor: middle}.axes line, .edge {stroke: black; fill: none}.y-axis .grid {stroke: #FAFAFA}.node > .sym {fill: black; stroke: none}.site > .sym {stroke: black}.mut text {fill: red; font-style: italic}.mut.extra text {fill: hotpink}.mut line {fill: none; stroke: none}.mut .sym {fill: none; stroke: red}.mut.extra .sym {stroke: hotpink}.node .mut .sym {stroke-width: 1.5px}.tree text, .tree-sequence text {dominant-baseline: central}.plotbox .lab.lft {text-anchor: end}.plotbox .lab.rgt {text-anchor: start}]]></style></defs><g class=\"tree-sequence\"><g class=\"background\"><path d=\"M56.8,0 l174.4,0 l0,138.2 l-13.7776,25 l0,5 l-160.622,0 l0,-5 l0,-25 l0,-138.2z\" /><path d=\"M231.2,0 l174.4,0 l0,138.2 l-52.1456,25 l0,5 l-136.032,0 l0,-5 l13.7776,-25 l0,-138.2z\" /><path d=\"M405.6,0 l174.4,0 l0,138.2 l0,25 l0,5 l-226.546,0 l0,-5 l52.1456,-25 l0,-138.2z\" /></g><g class=\"axes\"><g class=\"x-axis\"><g transform=\"translate(318.4 200)\"><text class=\"lab\" text-anchor=\"middle\" transform=\"translate(0 -11)\">Genome position</text></g><line x1=\"56.8\" x2=\"580\" y1=\"163.2\" y2=\"163.2\" /><g class=\"ticks\"><g class=\"tick\" transform=\"translate(56.8 163.2)\"><line x1=\"0\" x2=\"0\" y1=\"0\" y2=\"5\" /><g transform=\"translate(0 6)\"><text class=\"lab\">0</text></g></g><g class=\"tick\" transform=\"translate(217.422 163.2)\"><line x1=\"0\" x2=\"0\" y1=\"0\" y2=\"5\" /><g transform=\"translate(0 6)\"><text class=\"lab\">307</text></g></g><g class=\"tick\" transform=\"translate(353.454 163.2)\"><line x1=\"0\" x2=\"0\" y1=\"0\" y2=\"5\" /><g transform=\"translate(0 6)\"><text class=\"lab\">567</text></g></g><g class=\"tick\" transform=\"translate(580 163.2)\"><line x1=\"0\" x2=\"0\" y1=\"0\" y2=\"5\" /><g transform=\"translate(0 6)\"><text class=\"lab\">1000</text></g></g></g><g class=\"site s0\" transform=\"translate(449.723 163.2)\"><line class=\"sym\" x1=\"0\" x2=\"0\" y1=\"0\" y2=\"-10\" /><g class=\"mut m0\"><polyline class=\"sym\" points=\"2.5,-6.5 0,-1.5 -2.5,-6.5\" /></g></g></g><g class=\"y-axis\"><g transform=\"translate(0 65.7)\"><text class=\"lab\" text-anchor=\"middle\" transform=\"translate(11) rotate(-90)\">Time (generations)</text></g><line x1=\"56.8\" x2=\"56.8\" y1=\"121.4\" y2=\"10\" /><g class=\"ticks\"><g class=\"tick\" transform=\"translate(56.8 121.4)\"><line class=\"grid\" x1=\"0\" x2=\"523.2\" y1=\"0\" y2=\"0\" /><line x1=\"0\" x2=\"-5\" y1=\"0\" y2=\"0\" /><g transform=\"translate(-6 0)\"><text class=\"lab\" text-anchor=\"end\">0</text></g></g><g class=\"tick\" transform=\"translate(56.8 100.933)\"><line class=\"grid\" x1=\"0\" x2=\"523.2\" y1=\"0\" y2=\"0\" /><line x1=\"0\" x2=\"-5\" y1=\"0\" y2=\"0\" /><g transform=\"translate(-6 0)\"><text class=\"lab\" text-anchor=\"end\">3</text></g></g><g class=\"tick\" transform=\"translate(56.8 85.9974)\"><line class=\"grid\" x1=\"0\" x2=\"523.2\" y1=\"0\" y2=\"0\" /><line x1=\"0\" x2=\"-5\" y1=\"0\" y2=\"0\" /><g transform=\"translate(-6 0)\"><text class=\"lab\" text-anchor=\"end\">10</text></g></g><g class=\"tick\" transform=\"translate(56.8 70.7006)\"><line class=\"grid\" x1=\"0\" x2=\"523.2\" y1=\"0\" y2=\"0\" /><line x1=\"0\" x2=\"-5\" y1=\"0\" y2=\"0\" /><g transform=\"translate(-6 0)\"><text class=\"lab\" text-anchor=\"end\">30</text></g></g><g class=\"tick\" transform=\"translate(56.8 53.2623)\"><line class=\"grid\" x1=\"0\" x2=\"523.2\" y1=\"0\" y2=\"0\" /><line x1=\"0\" x2=\"-5\" y1=\"0\" y2=\"0\" /><g transform=\"translate(-6 0)\"><text class=\"lab\" text-anchor=\"end\">100</text></g></g><g class=\"tick\" transform=\"translate(56.8 37.1402)\"><line class=\"grid\" x1=\"0\" x2=\"523.2\" y1=\"0\" y2=\"0\" /><line x1=\"0\" x2=\"-5\" y1=\"0\" y2=\"0\" /><g transform=\"translate(-6 0)\"><text class=\"lab\" text-anchor=\"end\">300</text></g></g><g class=\"tick\" transform=\"translate(56.8 19.3991)\"><line class=\"grid\" x1=\"0\" x2=\"523.2\" y1=\"0\" y2=\"0\" /><line x1=\"0\" x2=\"-5\" y1=\"0\" y2=\"0\" /><g transform=\"translate(-6 0)\"><text class=\"lab\" text-anchor=\"end\">1000</text></g></g></g></g></g><g class=\"plotbox trees\"><g class=\"tree t0\" transform=\"translate(56.8 0)\"><g class=\"plotbox\"><g class=\"c2 node n11 p0 root\" transform=\"translate(94.2 26.8)\"><g class=\"a11 c2 node n7 p0\" transform=\"translate(37.8 39.4313)\"><g class=\"a7 i0 leaf node n1 p0 sample\" transform=\"translate(-11.2 55.1687)\"><path class=\"edge\" d=\"M 0 0 V -55.1687 H 11.2\" /><rect class=\"sym\" height=\"6\" width=\"6\" x=\"-3\" y=\"-3\" /><text class=\"lab\" transform=\"translate(0 11)\">1</text></g><g class=\"a7 i2 leaf node n4 p0 sample\" transform=\"translate(11.2 55.1687)\"><path class=\"edge\" d=\"M 0 0 V -55.1687 H -11.2\" /><rect class=\"sym\" height=\"6\" width=\"6\" x=\"-3\" y=\"-3\" /><text class=\"lab\" transform=\"translate(0 11)\">4</text></g><path class=\"edge\" d=\"M 0 0 V -39.4313 H -37.8\" /><circle class=\"sym\" cx=\"0\" cy=\"0\" r=\"3\" /><text class=\"lab rgt\" transform=\"translate(3 -7.0)\">7</text></g><g class=\"a11 c2 node n10 p0\" transform=\"translate(-37.8 8.49131)\"><g class=\"a10 i0 leaf node n0 p0 sample\" transform=\"translate(-25.2 86.1087)\"><path class=\"edge\" d=\"M 0 0 V -86.1087 H 25.2\" /><rect class=\"sym\" height=\"6\" width=\"6\" x=\"-3\" y=\"-3\" /><text class=\"lab\" transform=\"translate(0 11)\">0</text></g><g class=\"a10 c2 node n8 p0\" transform=\"translate(25.2 22.6576)\"><g class=\"a8 i1 leaf node n3 p0 sample\" transform=\"translate(16.8 63.4511)\"><path class=\"edge\" d=\"M 0 0 V -63.4511 H -16.8\" /><rect class=\"sym\" height=\"6\" width=\"6\" x=\"-3\" y=\"-3\" /><text class=\"lab\" transform=\"translate(0 11)\">3</text></g><g class=\"a8 c2 node n6 p0\" transform=\"translate(-16.8 22.7955)\"><g class=\"a6 i1 leaf node n2 p0 sample\" transform=\"translate(-11.2 40.6556)\"><path class=\"edge\" d=\"M 0 0 V -40.6556 H 11.2\" /><rect class=\"sym\" height=\"6\" width=\"6\" x=\"-3\" y=\"-3\" /><text class=\"lab\" transform=\"translate(0 11)\">2</text></g><g class=\"a6 i2 leaf node n5 p0 sample\" transform=\"translate(11.2 40.6556)\"><path class=\"edge\" d=\"M 0 0 V -40.6556 H -11.2\" /><rect class=\"sym\" height=\"6\" width=\"6\" x=\"-3\" y=\"-3\" /><text class=\"lab\" transform=\"translate(0 11)\">5</text></g><path class=\"edge\" d=\"M 0 0 V -22.7955 H 16.8\" /><circle class=\"sym\" cx=\"0\" cy=\"0\" r=\"3\" /><text class=\"lab lft\" transform=\"translate(-3 -7.0)\">6</text></g><path class=\"edge\" d=\"M 0 0 V -22.6576 H -25.2\" /><circle class=\"sym\" cx=\"0\" cy=\"0\" r=\"3\" /><text class=\"lab rgt\" transform=\"translate(3 -7.0)\">8</text></g><path class=\"edge\" d=\"M 0 0 V -8.49131 H 37.8\" /><circle class=\"sym\" cx=\"0\" cy=\"0\" r=\"3\" /><text class=\"lab lft\" transform=\"translate(-3 -7.0)\">10</text></g><circle class=\"sym\" cx=\"0\" cy=\"0\" r=\"3\" /><text class=\"lab\" transform=\"translate(0 -11)\">11</text></g></g></g><g class=\"tree t1\" transform=\"translate(231.2 0)\"><g class=\"plotbox\"><g class=\"c2 node n10 p0 root\" transform=\"translate(87.2 35.2913)\"><g class=\"a10 c2 node n8 p0\" transform=\"translate(39.2 22.6576)\"><g class=\"a8 i1 leaf node n3 p0 sample\" transform=\"translate(16.8 63.4511)\"><path class=\"edge\" d=\"M 0 0 V -63.4511 H -16.8\" /><rect class=\"sym\" height=\"6\" width=\"6\" x=\"-3\" y=\"-3\" /><text class=\"lab\" transform=\"translate(0 11)\">3</text></g><g class=\"a8 c2 node n6 p0\" transform=\"translate(-16.8 22.7955)\"><g class=\"a6 i1 leaf node n2 p0 sample\" transform=\"translate(-11.2 40.6556)\"><path class=\"edge\" d=\"M 0 0 V -40.6556 H 11.2\" /><rect class=\"sym\" height=\"6\" width=\"6\" x=\"-3\" y=\"-3\" /><text class=\"lab\" transform=\"translate(0 11)\">2</text></g><g class=\"a6 i2 leaf node n5 p0 sample\" transform=\"translate(11.2 40.6556)\"><path class=\"edge\" d=\"M 0 0 V -40.6556 H -11.2\" /><rect class=\"sym\" height=\"6\" width=\"6\" x=\"-3\" y=\"-3\" /><text class=\"lab\" transform=\"translate(0 11)\">5</text></g><path class=\"edge\" d=\"M 0 0 V -22.7955 H 16.8\" /><circle class=\"sym\" cx=\"0\" cy=\"0\" r=\"3\" /><text class=\"lab lft\" transform=\"translate(-3 -7.0)\">6</text></g><path class=\"edge\" d=\"M 0 0 V -22.6576 H -39.2\" /><circle class=\"sym\" cx=\"0\" cy=\"0\" r=\"3\" /><text class=\"lab rgt\" transform=\"translate(3 -7.0)\">8</text></g><g class=\"a10 c2 node n9 p0\" transform=\"translate(-39.2 1.98569)\"><g class=\"a9 i0 leaf node n0 p0 sample\" transform=\"translate(-16.8 84.123)\"><path class=\"edge\" d=\"M 0 0 V -84.123 H 16.8\" /><rect class=\"sym\" height=\"6\" width=\"6\" x=\"-3\" y=\"-3\" /><text class=\"lab\" transform=\"translate(0 11)\">0</text></g><g class=\"a9 c2 node n7 p0\" transform=\"translate(16.8 28.9543)\"><g class=\"a7 i0 leaf node n1 p0 sample\" transform=\"translate(-11.2 55.1687)\"><path class=\"edge\" d=\"M 0 0 V -55.1687 H 11.2\" /><rect class=\"sym\" height=\"6\" width=\"6\" x=\"-3\" y=\"-3\" /><text class=\"lab\" transform=\"translate(0 11)\">1</text></g><g class=\"a7 i2 leaf node n4 p0 sample\" transform=\"translate(11.2 55.1687)\"><path class=\"edge\" d=\"M 0 0 V -55.1687 H -11.2\" /><rect class=\"sym\" height=\"6\" width=\"6\" x=\"-3\" y=\"-3\" /><text class=\"lab\" transform=\"translate(0 11)\">4</text></g><path class=\"edge\" d=\"M 0 0 V -28.9543 H -16.8\" /><circle class=\"sym\" cx=\"0\" cy=\"0\" r=\"3\" /><text class=\"lab rgt\" transform=\"translate(3 -7.0)\">7</text></g><path class=\"edge\" d=\"M 0 0 V -1.98569 H 39.2\" /><circle class=\"sym\" cx=\"0\" cy=\"0\" r=\"3\" /><text class=\"lab lft\" transform=\"translate(-3 -7.0)\">9</text></g><circle class=\"sym\" cx=\"0\" cy=\"0\" r=\"3\" /><text class=\"lab\" transform=\"translate(0 -11)\">10</text></g></g></g><g class=\"tree t2\" transform=\"translate(405.6 0)\"><g class=\"plotbox\"><g class=\"c2 node n11 p0 root\" transform=\"translate(87.2 26.8)\"><g class=\"a11 c2 m0 node n8 p0 s0\" transform=\"translate(39.2 31.1489)\"><g class=\"a8 i1 leaf node n3 p0 sample\" transform=\"translate(16.8 63.4511)\"><path class=\"edge\" d=\"M 0 0 V -63.4511 H -16.8\" /><rect class=\"sym\" height=\"6\" width=\"6\" x=\"-3\" y=\"-3\" /><text class=\"lab\" transform=\"translate(0 11)\">3</text></g><g class=\"a8 c2 node n6 p0\" transform=\"translate(-16.8 22.7955)\"><g class=\"a6 i1 leaf node n2 p0 sample\" transform=\"translate(-11.2 40.6556)\"><path class=\"edge\" d=\"M 0 0 V -40.6556 H 11.2\" /><rect class=\"sym\" height=\"6\" width=\"6\" x=\"-3\" y=\"-3\" /><text class=\"lab\" transform=\"translate(0 11)\">2</text></g><g class=\"a6 i2 leaf node n5 p0 sample\" transform=\"translate(11.2 40.6556)\"><path class=\"edge\" d=\"M 0 0 V -40.6556 H -11.2\" /><rect class=\"sym\" height=\"6\" width=\"6\" x=\"-3\" y=\"-3\" /><text class=\"lab\" transform=\"translate(0 11)\">5</text></g><path class=\"edge\" d=\"M 0 0 V -22.7955 H 16.8\" /><circle class=\"sym\" cx=\"0\" cy=\"0\" r=\"3\" /><text class=\"lab lft\" transform=\"translate(-3 -7.0)\">6</text></g><path class=\"edge\" d=\"M 0 0 V -31.1489 H -39.2\" /><g class=\"mut m0 s0 unknown_time\" transform=\"translate(0 -22.6051)\"><line x1=\"0\" x2=\"0\" y1=\"0\" y2=\"22.6051\" /><path class=\"sym\" d=\"M -3,-3 l 6,6 M -3,3 l 6,-6\" /><text class=\"lab rgt\" transform=\"translate(5 0)\">0</text></g><circle class=\"sym\" cx=\"0\" cy=\"0\" r=\"3\" /><text class=\"lab rgt\" transform=\"translate(3 -7.0)\">8</text></g><g class=\"a11 c2 node n9 p0\" transform=\"translate(-39.2 10.477)\"><g class=\"a9 i0 leaf node n0 p0 sample\" transform=\"translate(-16.8 84.123)\"><path class=\"edge\" d=\"M 0 0 V -84.123 H 16.8\" /><rect class=\"sym\" height=\"6\" width=\"6\" x=\"-3\" y=\"-3\" /><text class=\"lab\" transform=\"translate(0 11)\">0</text></g><g class=\"a9 c2 node n7 p0\" transform=\"translate(16.8 28.9543)\"><g class=\"a7 i0 leaf node n1 p0 sample\" transform=\"translate(-11.2 55.1687)\"><path class=\"edge\" d=\"M 0 0 V -55.1687 H 11.2\" /><rect class=\"sym\" height=\"6\" width=\"6\" x=\"-3\" y=\"-3\" /><text class=\"lab\" transform=\"translate(0 11)\">1</text></g><g class=\"a7 i2 leaf node n4 p0 sample\" transform=\"translate(11.2 55.1687)\"><path class=\"edge\" d=\"M 0 0 V -55.1687 H -11.2\" /><rect class=\"sym\" height=\"6\" width=\"6\" x=\"-3\" y=\"-3\" /><text class=\"lab\" transform=\"translate(0 11)\">4</text></g><path class=\"edge\" d=\"M 0 0 V -28.9543 H -16.8\" /><circle class=\"sym\" cx=\"0\" cy=\"0\" r=\"3\" /><text class=\"lab rgt\" transform=\"translate(3 -7.0)\">7</text></g><path class=\"edge\" d=\"M 0 0 V -10.477 H 39.2\" /><circle class=\"sym\" cx=\"0\" cy=\"0\" r=\"3\" /><text class=\"lab lft\" transform=\"translate(-3 -7.0)\">9</text></g><circle class=\"sym\" cx=\"0\" cy=\"0\" r=\"3\" /><text class=\"lab\" transform=\"translate(0 -11)\">11</text></g></g></g></g></g></svg>"
      ],
      "text/plain": [
       "'<svg baseProfile=\"full\" height=\"200\" version=\"1.1\" width=\"600\" xmlns=\"http://www.w3.org/2000/svg\" xmlns:ev=\"http://www.w3.org/2001/xml-events\" xmlns:xlink=\"http://www.w3.org/1999/xlink\"><defs><style type=\"text/css\"><![CDATA[.background path {fill: #808080; fill-opacity: 0}.background path:nth-child(odd) {fill-opacity: .1}.axes {font-size: 14px}.x-axis .tick .lab {font-weight: bold; dominant-baseline: hanging}.axes, .tree {font-size: 14px; text-anchor: middle}.axes line, .edge {stroke: black; fill: none}.y-axis .grid {stroke: #FAFAFA}.node > .sym {fill: black; stroke: none}.site > .sym {stroke: black}.mut text {fill: red; font-style: italic}.mut.extra text {fill: hotpink}.mut line {fill: none; stroke: none}.mut .sym {fill: none; stroke: red}.mut.extra .sym {stroke: hotpink}.node .mut .sym {stroke-width: 1.5px}.tree text, .tree-sequence text {dominant-baseline: central}.plotbox .lab.lft {text-anchor: end}.plotbox .lab.rgt {text-anchor: start}]]></style></defs><g class=\"tree-sequence\"><g class=\"background\"><path d=\"M56.8,0 l174.4,0 l0,138.2 l-13.7776,25 l0,5 l-160.622,0 l0,-5 l0,-25 l0,-138.2z\" /><path d=\"M231.2,0 l174.4,0 l0,138.2 l-52.1456,25 l0,5 l-136.032,0 l0,-5 l13.7776,-25 l0,-138.2z\" /><path d=\"M405.6,0 l174.4,0 l0,138.2 l0,25 l0,5 l-226.546,0 l0,-5 l52.1456,-25 l0,-138.2z\" /></g><g class=\"axes\"><g class=\"x-axis\"><g transform=\"translate(318.4 200)\"><text class=\"lab\" text-anchor=\"middle\" transform=\"translate(0 -11)\">Genome position</text></g><line x1=\"56.8\" x2=\"580\" y1=\"163.2\" y2=\"163.2\" /><g class=\"ticks\"><g class=\"tick\" transform=\"translate(56.8 163.2)\"><line x1=\"0\" x2=\"0\" y1=\"0\" y2=\"5\" /><g transform=\"translate(0 6)\"><text class=\"lab\">0</text></g></g><g class=\"tick\" transform=\"translate(217.422 163.2)\"><line x1=\"0\" x2=\"0\" y1=\"0\" y2=\"5\" /><g transform=\"translate(0 6)\"><text class=\"lab\">307</text></g></g><g class=\"tick\" transform=\"translate(353.454 163.2)\"><line x1=\"0\" x2=\"0\" y1=\"0\" y2=\"5\" /><g transform=\"translate(0 6)\"><text class=\"lab\">567</text></g></g><g class=\"tick\" transform=\"translate(580 163.2)\"><line x1=\"0\" x2=\"0\" y1=\"0\" y2=\"5\" /><g transform=\"translate(0 6)\"><text class=\"lab\">1000</text></g></g></g><g class=\"site s0\" transform=\"translate(449.723 163.2)\"><line class=\"sym\" x1=\"0\" x2=\"0\" y1=\"0\" y2=\"-10\" /><g class=\"mut m0\"><polyline class=\"sym\" points=\"2.5,-6.5 0,-1.5 -2.5,-6.5\" /></g></g></g><g class=\"y-axis\"><g transform=\"translate(0 65.7)\"><text class=\"lab\" text-anchor=\"middle\" transform=\"translate(11) rotate(-90)\">Time (generations)</text></g><line x1=\"56.8\" x2=\"56.8\" y1=\"121.4\" y2=\"10\" /><g class=\"ticks\"><g class=\"tick\" transform=\"translate(56.8 121.4)\"><line class=\"grid\" x1=\"0\" x2=\"523.2\" y1=\"0\" y2=\"0\" /><line x1=\"0\" x2=\"-5\" y1=\"0\" y2=\"0\" /><g transform=\"translate(-6 0)\"><text class=\"lab\" text-anchor=\"end\">0</text></g></g><g class=\"tick\" transform=\"translate(56.8 100.933)\"><line class=\"grid\" x1=\"0\" x2=\"523.2\" y1=\"0\" y2=\"0\" /><line x1=\"0\" x2=\"-5\" y1=\"0\" y2=\"0\" /><g transform=\"translate(-6 0)\"><text class=\"lab\" text-anchor=\"end\">3</text></g></g><g class=\"tick\" transform=\"translate(56.8 85.9974)\"><line class=\"grid\" x1=\"0\" x2=\"523.2\" y1=\"0\" y2=\"0\" /><line x1=\"0\" x2=\"-5\" y1=\"0\" y2=\"0\" /><g transform=\"translate(-6 0)\"><text class=\"lab\" text-anchor=\"end\">10</text></g></g><g class=\"tick\" transform=\"translate(56.8 70.7006)\"><line class=\"grid\" x1=\"0\" x2=\"523.2\" y1=\"0\" y2=\"0\" /><line x1=\"0\" x2=\"-5\" y1=\"0\" y2=\"0\" /><g transform=\"translate(-6 0)\"><text class=\"lab\" text-anchor=\"end\">30</text></g></g><g class=\"tick\" transform=\"translate(56.8 53.2623)\"><line class=\"grid\" x1=\"0\" x2=\"523.2\" y1=\"0\" y2=\"0\" /><line x1=\"0\" x2=\"-5\" y1=\"0\" y2=\"0\" /><g transform=\"translate(-6 0)\"><text class=\"lab\" text-anchor=\"end\">100</text></g></g><g class=\"tick\" transform=\"translate(56.8 37.1402)\"><line class=\"grid\" x1=\"0\" x2=\"523.2\" y1=\"0\" y2=\"0\" /><line x1=\"0\" x2=\"-5\" y1=\"0\" y2=\"0\" /><g transform=\"translate(-6 0)\"><text class=\"lab\" text-anchor=\"end\">300</text></g></g><g class=\"tick\" transform=\"translate(56.8 19.3991)\"><line class=\"grid\" x1=\"0\" x2=\"523.2\" y1=\"0\" y2=\"0\" /><line x1=\"0\" x2=\"-5\" y1=\"0\" y2=\"0\" /><g transform=\"translate(-6 0)\"><text class=\"lab\" text-anchor=\"end\">1000</text></g></g></g></g></g><g class=\"plotbox trees\"><g class=\"tree t0\" transform=\"translate(56.8 0)\"><g class=\"plotbox\"><g class=\"c2 node n11 p0 root\" transform=\"translate(94.2 26.8)\"><g class=\"a11 c2 node n7 p0\" transform=\"translate(37.8 39.4313)\"><g class=\"a7 i0 leaf node n1 p0 sample\" transform=\"translate(-11.2 55.1687)\"><path class=\"edge\" d=\"M 0 0 V -55.1687 H 11.2\" /><rect class=\"sym\" height=\"6\" width=\"6\" x=\"-3\" y=\"-3\" /><text class=\"lab\" transform=\"translate(0 11)\">1</text></g><g class=\"a7 i2 leaf node n4 p0 sample\" transform=\"translate(11.2 55.1687)\"><path class=\"edge\" d=\"M 0 0 V -55.1687 H -11.2\" /><rect class=\"sym\" height=\"6\" width=\"6\" x=\"-3\" y=\"-3\" /><text class=\"lab\" transform=\"translate(0 11)\">4</text></g><path class=\"edge\" d=\"M 0 0 V -39.4313 H -37.8\" /><circle class=\"sym\" cx=\"0\" cy=\"0\" r=\"3\" /><text class=\"lab rgt\" transform=\"translate(3 -7.0)\">7</text></g><g class=\"a11 c2 node n10 p0\" transform=\"translate(-37.8 8.49131)\"><g class=\"a10 i0 leaf node n0 p0 sample\" transform=\"translate(-25.2 86.1087)\"><path class=\"edge\" d=\"M 0 0 V -86.1087 H 25.2\" /><rect class=\"sym\" height=\"6\" width=\"6\" x=\"-3\" y=\"-3\" /><text class=\"lab\" transform=\"translate(0 11)\">0</text></g><g class=\"a10 c2 node n8 p0\" transform=\"translate(25.2 22.6576)\"><g class=\"a8 i1 leaf node n3 p0 sample\" transform=\"translate(16.8 63.4511)\"><path class=\"edge\" d=\"M 0 0 V -63.4511 H -16.8\" /><rect class=\"sym\" height=\"6\" width=\"6\" x=\"-3\" y=\"-3\" /><text class=\"lab\" transform=\"translate(0 11)\">3</text></g><g class=\"a8 c2 node n6 p0\" transform=\"translate(-16.8 22.7955)\"><g class=\"a6 i1 leaf node n2 p0 sample\" transform=\"translate(-11.2 40.6556)\"><path class=\"edge\" d=\"M 0 0 V -40.6556 H 11.2\" /><rect class=\"sym\" height=\"6\" width=\"6\" x=\"-3\" y=\"-3\" /><text class=\"lab\" transform=\"translate(0 11)\">2</text></g><g class=\"a6 i2 leaf node n5 p0 sample\" transform=\"translate(11.2 40.6556)\"><path class=\"edge\" d=\"M 0 0 V -40.6556 H -11.2\" /><rect class=\"sym\" height=\"6\" width=\"6\" x=\"-3\" y=\"-3\" /><text class=\"lab\" transform=\"translate(0 11)\">5</text></g><path class=\"edge\" d=\"M 0 0 V -22.7955 H 16.8\" /><circle class=\"sym\" cx=\"0\" cy=\"0\" r=\"3\" /><text class=\"lab lft\" transform=\"translate(-3 -7.0)\">6</text></g><path class=\"edge\" d=\"M 0 0 V -22.6576 H -25.2\" /><circle class=\"sym\" cx=\"0\" cy=\"0\" r=\"3\" /><text class=\"lab rgt\" transform=\"translate(3 -7.0)\">8</text></g><path class=\"edge\" d=\"M 0 0 V -8.49131 H 37.8\" /><circle class=\"sym\" cx=\"0\" cy=\"0\" r=\"3\" /><text class=\"lab lft\" transform=\"translate(-3 -7.0)\">10</text></g><circle class=\"sym\" cx=\"0\" cy=\"0\" r=\"3\" /><text class=\"lab\" transform=\"translate(0 -11)\">11</text></g></g></g><g class=\"tree t1\" transform=\"translate(231.2 0)\"><g class=\"plotbox\"><g class=\"c2 node n10 p0 root\" transform=\"translate(87.2 35.2913)\"><g class=\"a10 c2 node n8 p0\" transform=\"translate(39.2 22.6576)\"><g class=\"a8 i1 leaf node n3 p0 sample\" transform=\"translate(16.8 63.4511)\"><path class=\"edge\" d=\"M 0 0 V -63.4511 H -16.8\" /><rect class=\"sym\" height=\"6\" width=\"6\" x=\"-3\" y=\"-3\" /><text class=\"lab\" transform=\"translate(0 11)\">3</text></g><g class=\"a8 c2 node n6 p0\" transform=\"translate(-16.8 22.7955)\"><g class=\"a6 i1 leaf node n2 p0 sample\" transform=\"translate(-11.2 40.6556)\"><path class=\"edge\" d=\"M 0 0 V -40.6556 H 11.2\" /><rect class=\"sym\" height=\"6\" width=\"6\" x=\"-3\" y=\"-3\" /><text class=\"lab\" transform=\"translate(0 11)\">2</text></g><g class=\"a6 i2 leaf node n5 p0 sample\" transform=\"translate(11.2 40.6556)\"><path class=\"edge\" d=\"M 0 0 V -40.6556 H -11.2\" /><rect class=\"sym\" height=\"6\" width=\"6\" x=\"-3\" y=\"-3\" /><text class=\"lab\" transform=\"translate(0 11)\">5</text></g><path class=\"edge\" d=\"M 0 0 V -22.7955 H 16.8\" /><circle class=\"sym\" cx=\"0\" cy=\"0\" r=\"3\" /><text class=\"lab lft\" transform=\"translate(-3 -7.0)\">6</text></g><path class=\"edge\" d=\"M 0 0 V -22.6576 H -39.2\" /><circle class=\"sym\" cx=\"0\" cy=\"0\" r=\"3\" /><text class=\"lab rgt\" transform=\"translate(3 -7.0)\">8</text></g><g class=\"a10 c2 node n9 p0\" transform=\"translate(-39.2 1.98569)\"><g class=\"a9 i0 leaf node n0 p0 sample\" transform=\"translate(-16.8 84.123)\"><path class=\"edge\" d=\"M 0 0 V -84.123 H 16.8\" /><rect class=\"sym\" height=\"6\" width=\"6\" x=\"-3\" y=\"-3\" /><text class=\"lab\" transform=\"translate(0 11)\">0</text></g><g class=\"a9 c2 node n7 p0\" transform=\"translate(16.8 28.9543)\"><g class=\"a7 i0 leaf node n1 p0 sample\" transform=\"translate(-11.2 55.1687)\"><path class=\"edge\" d=\"M 0 0 V -55.1687 H 11.2\" /><rect class=\"sym\" height=\"6\" width=\"6\" x=\"-3\" y=\"-3\" /><text class=\"lab\" transform=\"translate(0 11)\">1</text></g><g class=\"a7 i2 leaf node n4 p0 sample\" transform=\"translate(11.2 55.1687)\"><path class=\"edge\" d=\"M 0 0 V -55.1687 H -11.2\" /><rect class=\"sym\" height=\"6\" width=\"6\" x=\"-3\" y=\"-3\" /><text class=\"lab\" transform=\"translate(0 11)\">4</text></g><path class=\"edge\" d=\"M 0 0 V -28.9543 H -16.8\" /><circle class=\"sym\" cx=\"0\" cy=\"0\" r=\"3\" /><text class=\"lab rgt\" transform=\"translate(3 -7.0)\">7</text></g><path class=\"edge\" d=\"M 0 0 V -1.98569 H 39.2\" /><circle class=\"sym\" cx=\"0\" cy=\"0\" r=\"3\" /><text class=\"lab lft\" transform=\"translate(-3 -7.0)\">9</text></g><circle class=\"sym\" cx=\"0\" cy=\"0\" r=\"3\" /><text class=\"lab\" transform=\"translate(0 -11)\">10</text></g></g></g><g class=\"tree t2\" transform=\"translate(405.6 0)\"><g class=\"plotbox\"><g class=\"c2 node n11 p0 root\" transform=\"translate(87.2 26.8)\"><g class=\"a11 c2 m0 node n8 p0 s0\" transform=\"translate(39.2 31.1489)\"><g class=\"a8 i1 leaf node n3 p0 sample\" transform=\"translate(16.8 63.4511)\"><path class=\"edge\" d=\"M 0 0 V -63.4511 H -16.8\" /><rect class=\"sym\" height=\"6\" width=\"6\" x=\"-3\" y=\"-3\" /><text class=\"lab\" transform=\"translate(0 11)\">3</text></g><g class=\"a8 c2 node n6 p0\" transform=\"translate(-16.8 22.7955)\"><g class=\"a6 i1 leaf node n2 p0 sample\" transform=\"translate(-11.2 40.6556)\"><path class=\"edge\" d=\"M 0 0 V -40.6556 H 11.2\" /><rect class=\"sym\" height=\"6\" width=\"6\" x=\"-3\" y=\"-3\" /><text class=\"lab\" transform=\"translate(0 11)\">2</text></g><g class=\"a6 i2 leaf node n5 p0 sample\" transform=\"translate(11.2 40.6556)\"><path class=\"edge\" d=\"M 0 0 V -40.6556 H -11.2\" /><rect class=\"sym\" height=\"6\" width=\"6\" x=\"-3\" y=\"-3\" /><text class=\"lab\" transform=\"translate(0 11)\">5</text></g><path class=\"edge\" d=\"M 0 0 V -22.7955 H 16.8\" /><circle class=\"sym\" cx=\"0\" cy=\"0\" r=\"3\" /><text class=\"lab lft\" transform=\"translate(-3 -7.0)\">6</text></g><path class=\"edge\" d=\"M 0 0 V -31.1489 H -39.2\" /><g class=\"mut m0 s0 unknown_time\" transform=\"translate(0 -22.6051)\"><line x1=\"0\" x2=\"0\" y1=\"0\" y2=\"22.6051\" /><path class=\"sym\" d=\"M -3,-3 l 6,6 M -3,3 l 6,-6\" /><text class=\"lab rgt\" transform=\"translate(5 0)\">0</text></g><circle class=\"sym\" cx=\"0\" cy=\"0\" r=\"3\" /><text class=\"lab rgt\" transform=\"translate(3 -7.0)\">8</text></g><g class=\"a11 c2 node n9 p0\" transform=\"translate(-39.2 10.477)\"><g class=\"a9 i0 leaf node n0 p0 sample\" transform=\"translate(-16.8 84.123)\"><path class=\"edge\" d=\"M 0 0 V -84.123 H 16.8\" /><rect class=\"sym\" height=\"6\" width=\"6\" x=\"-3\" y=\"-3\" /><text class=\"lab\" transform=\"translate(0 11)\">0</text></g><g class=\"a9 c2 node n7 p0\" transform=\"translate(16.8 28.9543)\"><g class=\"a7 i0 leaf node n1 p0 sample\" transform=\"translate(-11.2 55.1687)\"><path class=\"edge\" d=\"M 0 0 V -55.1687 H 11.2\" /><rect class=\"sym\" height=\"6\" width=\"6\" x=\"-3\" y=\"-3\" /><text class=\"lab\" transform=\"translate(0 11)\">1</text></g><g class=\"a7 i2 leaf node n4 p0 sample\" transform=\"translate(11.2 55.1687)\"><path class=\"edge\" d=\"M 0 0 V -55.1687 H -11.2\" /><rect class=\"sym\" height=\"6\" width=\"6\" x=\"-3\" y=\"-3\" /><text class=\"lab\" transform=\"translate(0 11)\">4</text></g><path class=\"edge\" d=\"M 0 0 V -28.9543 H -16.8\" /><circle class=\"sym\" cx=\"0\" cy=\"0\" r=\"3\" /><text class=\"lab rgt\" transform=\"translate(3 -7.0)\">7</text></g><path class=\"edge\" d=\"M 0 0 V -10.477 H 39.2\" /><circle class=\"sym\" cx=\"0\" cy=\"0\" r=\"3\" /><text class=\"lab lft\" transform=\"translate(-3 -7.0)\">9</text></g><circle class=\"sym\" cx=\"0\" cy=\"0\" r=\"3\" /><text class=\"lab\" transform=\"translate(0 -11)\">11</text></g></g></g></g></g></svg>'"
      ]
     },
     "execution_count": 4,
     "metadata": {
      "filenames": {
       "image/svg+xml": "/home/runner/work/tutorials/tutorials/_build/jupyter_execute/terminology_and_concepts_7_0.svg"
      }
     },
     "output_type": "execute_result"
    }
   ],
   "source": [
    "ts.draw_svg(\n",
    "    y_axis=True,\n",
    "    y_gridlines=True,\n",
    "    time_scale=\"log_time\",\n",
    "    y_ticks=[0, 3, 10, 30, 100, 300,1000],\n",
    ")"
   ]
  },
  {
   "cell_type": "markdown",
   "id": "ef514092",
   "metadata": {},
   "source": [
    "Each tree records the lines of descent along which a piece of DNA has been\n",
    "inherited (ignore for the moment the red symbols, which represent a mutation).\n",
    "For example, the first tree tells us that DNA from ancestral genome 7 duplicated\n",
    "to produce two lineages, which ended up in genomes 1 and 4, both of which exist in the\n",
    "current population. In fact, since this pattern is seen in all trees, these particular\n",
    "lines of inheritance were taken by all the DNA in this 1000 base pair genome.\n",
    "\n",
    "\n",
    "(sec_terminology_nodes)=\n",
    "\n",
    "### Nodes\n",
    "\n",
    "Trees in a tree sequence are represented in a slightly unusual way.\n",
    "In the majority of libraries dealing with trees, each node is represented\n",
    "as an object in memory and the relationship between nodes as pointers between these\n",
    "objects. In tree sequences, however, all nodes, both internal and terminal,\n",
    "are represented by an **integer ID**, unique over the entire tree sequence, and which exists\n",
    "at a specific point in time. A branch point in any of the trees is associated with\n",
    "an *internal node*, representing an ancestor in which a single DNA\n",
    "sequence was duplicated (in forwards-time terminology) or in which multiple sequences\n",
    "coalesced (in backwards-time terminology). \n",
    "\n",
    "\n",
    "(sec_terminology_nodes_samples)=\n",
    "\n",
    "#### Sample nodes\n",
    "\n",
    "The tip (leaf) nodes of the tree are usually marked as *sample nodes*, plotted as square\n",
    "symbols in the visualization. Sample nodes are the focal nodes in a tree sequence; they\n",
    "normally represent genomes from which we have obtained data (i.e. which we have \"sampled\"),\n",
    "and which therefore have a fully known genetic sequence. There are 6 sample nodes,\n",
    "labelled $0..5$, and also 6 non-sample nodes, labelled $6..11$, in the tree sequence above:"
   ]
  },
  {
   "cell_type": "code",
   "execution_count": 5,
   "id": "16200be3",
   "metadata": {},
   "outputs": [
    {
     "name": "stdout",
     "output_type": "stream",
     "text": [
      "There are 12 nodes, of which 6 are sample nodes\n"
     ]
    }
   ],
   "source": [
    "print(\"There are\", ts.num_nodes, \"nodes, of which\", ts.num_samples, \"are sample nodes\")"
   ]
  },
  {
   "cell_type": "markdown",
   "id": "147338a2",
   "metadata": {},
   "source": [
    "(sec_terminology_edges)=\n",
    "\n",
    "### Edges\n",
    "\n",
    "In an evolutionary tree, the connections between nodes are conventionally referred to as\n",
    "\"branches\". In a tree sequence, we instead refer to directional connections between nodes\n",
    "as _edges_, emphasizing that they usually persist across multiple trees. Thus each of the\n",
    "three trees in the example above has a branch from node 7 to node 1, but those three\n",
    "branches represent just a single edge.\n",
    "\n",
    "Each edge is associated with a parent node ID and a child node ID. The time of the parent\n",
    "node must be\n",
    "strictly greater than the time of the child node, and the difference in these times is\n",
    "sometimes referred to as the \"length\" of the edge. Since trees in a tree sequence are\n",
    "usually taken to represent marginal trees along a genome, as well as the time dimension\n",
    "each edge also has a genomic _span_, defined by a *left* and a *right* position\n",
    "along the genome. There are 15 edges in the tree sequence above. Here's an example of\n",
    "one of them:"
   ]
  },
  {
   "cell_type": "code",
   "execution_count": 6,
   "id": "e363dbda",
   "metadata": {},
   "outputs": [
    {
     "name": "stdout",
     "output_type": "stream",
     "text": [
      "There are 15 edges, one of which is:\n",
      "  Edge(left=307.0, right=567.0, parent=10, child=9, metadata=b'', id=10)\n"
     ]
    }
   ],
   "source": [
    "print(\"There are\", ts.num_edges, \"edges, one of which is:\\n \", ts.edge(10))"
   ]
  },
  {
   "cell_type": "markdown",
   "id": "cd49e7e8",
   "metadata": {},
   "source": [
    "(the `metadata` value is discussed below)\n",
    "\n",
    ":::{note}\n",
    "The *number of edges* largely determines the entire size of a tree sequence file. Edges\n",
    "essentially encode ancestral information, and the number in a tree sequence can\n",
    "be used as a rough measure of many things such as the compressibility of a simulation,\n",
    "the speed with which analyses are likely to run, or even the effectiveness of ancestral\n",
    "inference. To give some sense of scale, a basic inferred tree sequence of human\n",
    "chromosome 20 in the UK Biobank dataset of a million genomes consists of 62 million edges\n",
    "which define 16 thousand trees; the uncompressed tree sequence takes 2.1 gigabytes of\n",
    "disk space, and it takes of the order of a few seconds to iterate over all the trees.\n",
    ":::\n",
    "\n",
    "(sec_terminology_trees_and_tree_sequences)=\n",
    "\n",
    "### Trees and tree sequences\n",
    "\n",
    "The combination of nodes and edges results in a tree sequence. This can be visualized,\n",
    "as in the drawing above, as a set of correlated trees. The\n",
    "sample nodes, $0..5$ in the drawing, are present in all the trees (since we have their\n",
    "full genomes), but the other nodes, such as node $9$, need not be: indeed in larger\n",
    "tree sequences they are rarely so.\n",
    "\n",
    "In tree sequence terminology, we don't explictly keep track of where nodes\n",
    "start and end. Only edges (not nodes) possess a genomic span. So for example, this tree\n",
    "sequence is defined using edges like $(7\\rightarrow1)$ which span the entire genome,\n",
    "edges like $(11\\rightarrow10)$ which only span the leftmost section of the genome, and\n",
    "edges like $(11\\rightarrow8)$ which span the rightmost part of the genome. Every time an\n",
    "edge changes it creates a new tree; the location of the change is known as a _breakpoint_:"
   ]
  },
  {
   "cell_type": "code",
   "execution_count": 7,
   "id": "bdade5a6",
   "metadata": {},
   "outputs": [
    {
     "name": "stdout",
     "output_type": "stream",
     "text": [
      "There are 3 trees, associated with breakpoints [   0.  307.  567. 1000.]\n"
     ]
    }
   ],
   "source": [
    "breakpoints = ts.breakpoints(as_array=True)\n",
    "print(\"There are\", ts.num_trees, \"trees, associated with breakpoints\", breakpoints)"
   ]
  },
  {
   "cell_type": "markdown",
   "id": "a4f65848",
   "metadata": {},
   "source": [
    "::::{margin}\n",
    "More details about these and related methods are given in the {ref}`sec_analysing_trees`\n",
    "and {ref}`Getting started<sec_tskit_getting_started>` tutorials.\n",
    "::::\n",
    "\n",
    "Note that in keeping with the reliance on node numbers (rather than objects), information\n",
    "about the relationships between nodes in a tree is obtained using their **integer IDs**.\n",
    "In the Python API, for instance, the {meth}`TreeSequence.first`\n",
    "method will return the first tree, which then provides basic methods to obtain\n",
    "information about (say) node $7$, including the IDs of its parent and child nodes:"
   ]
  },
  {
   "cell_type": "code",
   "execution_count": 8,
   "id": "06ce2d62",
   "metadata": {},
   "outputs": [
    {
     "name": "stdout",
     "output_type": "stream",
     "text": [
      "Node 7's parent is 11 and childen are (1, 4) in the first tree\n"
     ]
    }
   ],
   "source": [
    "first_tree = ts.first()\n",
    "parent_of_7 = first_tree.parent(7)\n",
    "children_of_7 = first_tree.children(7)\n",
    "print(\"Node 7's parent is\", parent_of_7, \"and childen are\", children_of_7, \"in the first tree\")"
   ]
  },
  {
   "cell_type": "markdown",
   "id": "15cc37b4",
   "metadata": {},
   "source": [
    "(sec_terminology_individuals_and_populations)=\n",
    "\n",
    "### Individuals and populations\n",
    "\n",
    "Sometimes we know that one or more nodes belong to a particular\n",
    "*{ref}`individual<tskit:sec_nodes_or_individuals>`*. For example,\n",
    "most organisms are diploid, so if we sequence the DNA from an individual we are likely to\n",
    "obtain two copies of each autosomal chromosome. The tree with six sample nodes above\n",
    "could therefore represent the result of sampling three diploid individuals from a larger\n",
    "population. The tree sequence can keep track of the individuals in which nodes reside,\n",
    "and store specific information about them (such as the individuals' spatial location)\n",
    "as well as arbitrary {ref}`metadata <sec_metadata>` (such as a name). In this particular\n",
    "tree sequence the sample nodes are indeed associated with three named diploid\n",
    "individuals: ``Ada``, ``Bob`` and ``Cat``."
   ]
  },
  {
   "cell_type": "code",
   "execution_count": 9,
   "id": "7693c5d4",
   "metadata": {},
   "outputs": [
    {
     "name": "stdout",
     "output_type": "stream",
     "text": [
      "There are 3 individuals defined in the tree sequence:\n",
      "* Individual 0: metadata={'name': 'Ada'}\n",
      "* Individual 1: metadata={'name': 'Bob'}\n",
      "* Individual 2: metadata={'name': 'Cat'}\n"
     ]
    }
   ],
   "source": [
    "print(f\"There are {ts.num_individuals} individuals defined in the tree sequence:\")\n",
    "for individual in ts.individuals():\n",
    "    print(\"*\", f\"Individual {individual.id}: metadata={individual.metadata}\")"
   ]
  },
  {
   "cell_type": "markdown",
   "id": "f1a6285b",
   "metadata": {},
   "source": [
    "Adding these individual names to the sample node labels show that indeed, each of the\n",
    "three individuals has 2 sample nodes (note that these 2 nodes do not always cluster\n",
    "together in the trees, as the original simulation was of a randomly mating population)"
   ]
  },
  {
   "cell_type": "code",
   "execution_count": 10,
   "id": "90a8db28",
   "metadata": {
    "tags": [
     "hide-input"
    ]
   },
   "outputs": [
    {
     "data": {
      "image/svg+xml": [
       "<svg baseProfile=\"full\" height=\"200\" version=\"1.1\" width=\"600\" xmlns=\"http://www.w3.org/2000/svg\" xmlns:ev=\"http://www.w3.org/2001/xml-events\" xmlns:xlink=\"http://www.w3.org/1999/xlink\"><defs><style type=\"text/css\"><![CDATA[.background path {fill: #808080; fill-opacity: 0}.background path:nth-child(odd) {fill-opacity: .1}.axes {font-size: 14px}.x-axis .tick .lab {font-weight: bold; dominant-baseline: hanging}.axes, .tree {font-size: 14px; text-anchor: middle}.axes line, .edge {stroke: black; fill: none}.y-axis .grid {stroke: #FAFAFA}.node > .sym {fill: black; stroke: none}.site > .sym {stroke: black}.mut text {fill: red; font-style: italic}.mut.extra text {fill: hotpink}.mut line {fill: none; stroke: none}.mut .sym {fill: none; stroke: red}.mut.extra .sym {stroke: hotpink}.node .mut .sym {stroke-width: 1.5px}.tree text, .tree-sequence text {dominant-baseline: central}.plotbox .lab.lft {text-anchor: end}.plotbox .lab.rgt {text-anchor: start}.node > .lab {font-size: 70%}.leaf > .lab {text-anchor: start; transform: rotate(90deg) translate(6px)}]]></style></defs><g class=\"tree-sequence\"><g class=\"background\"><path d=\"M56.8,0 l174.4,0 l0,138.2 l-13.7776,25 l0,5 l-160.622,0 l0,-5 l0,-25 l0,-138.2z\" /><path d=\"M231.2,0 l174.4,0 l0,138.2 l-52.1456,25 l0,5 l-136.032,0 l0,-5 l13.7776,-25 l0,-138.2z\" /><path d=\"M405.6,0 l174.4,0 l0,138.2 l0,25 l0,5 l-226.546,0 l0,-5 l52.1456,-25 l0,-138.2z\" /></g><g class=\"axes\"><g class=\"x-axis\"><g transform=\"translate(318.4 200)\"><text class=\"lab\" text-anchor=\"middle\" transform=\"translate(0 -11)\">Genome position</text></g><line x1=\"56.8\" x2=\"580\" y1=\"163.2\" y2=\"163.2\" /><g class=\"ticks\"><g class=\"tick\" transform=\"translate(56.8 163.2)\"><line x1=\"0\" x2=\"0\" y1=\"0\" y2=\"5\" /><g transform=\"translate(0 6)\"><text class=\"lab\">0</text></g></g><g class=\"tick\" transform=\"translate(217.422 163.2)\"><line x1=\"0\" x2=\"0\" y1=\"0\" y2=\"5\" /><g transform=\"translate(0 6)\"><text class=\"lab\">307</text></g></g><g class=\"tick\" transform=\"translate(353.454 163.2)\"><line x1=\"0\" x2=\"0\" y1=\"0\" y2=\"5\" /><g transform=\"translate(0 6)\"><text class=\"lab\">567</text></g></g><g class=\"tick\" transform=\"translate(580 163.2)\"><line x1=\"0\" x2=\"0\" y1=\"0\" y2=\"5\" /><g transform=\"translate(0 6)\"><text class=\"lab\">1000</text></g></g></g><g class=\"site s0\" transform=\"translate(449.723 163.2)\"><line class=\"sym\" x1=\"0\" x2=\"0\" y1=\"0\" y2=\"-10\" /><g class=\"mut m0\"><polyline class=\"sym\" points=\"2.5,-6.5 0,-1.5 -2.5,-6.5\" /></g></g></g><g class=\"y-axis\"><g transform=\"translate(0 65.7)\"><text class=\"lab\" text-anchor=\"middle\" transform=\"translate(11) rotate(-90)\">Time (generations)</text></g><line x1=\"56.8\" x2=\"56.8\" y1=\"121.4\" y2=\"10\" /><g class=\"ticks\"><g class=\"tick\" transform=\"translate(56.8 121.4)\"><line class=\"grid\" x1=\"0\" x2=\"523.2\" y1=\"0\" y2=\"0\" /><line x1=\"0\" x2=\"-5\" y1=\"0\" y2=\"0\" /><g transform=\"translate(-6 0)\"><text class=\"lab\" text-anchor=\"end\">0</text></g></g><g class=\"tick\" transform=\"translate(56.8 100.933)\"><line class=\"grid\" x1=\"0\" x2=\"523.2\" y1=\"0\" y2=\"0\" /><line x1=\"0\" x2=\"-5\" y1=\"0\" y2=\"0\" /><g transform=\"translate(-6 0)\"><text class=\"lab\" text-anchor=\"end\">3</text></g></g><g class=\"tick\" transform=\"translate(56.8 85.9974)\"><line class=\"grid\" x1=\"0\" x2=\"523.2\" y1=\"0\" y2=\"0\" /><line x1=\"0\" x2=\"-5\" y1=\"0\" y2=\"0\" /><g transform=\"translate(-6 0)\"><text class=\"lab\" text-anchor=\"end\">10</text></g></g><g class=\"tick\" transform=\"translate(56.8 70.7006)\"><line class=\"grid\" x1=\"0\" x2=\"523.2\" y1=\"0\" y2=\"0\" /><line x1=\"0\" x2=\"-5\" y1=\"0\" y2=\"0\" /><g transform=\"translate(-6 0)\"><text class=\"lab\" text-anchor=\"end\">30</text></g></g><g class=\"tick\" transform=\"translate(56.8 53.2623)\"><line class=\"grid\" x1=\"0\" x2=\"523.2\" y1=\"0\" y2=\"0\" /><line x1=\"0\" x2=\"-5\" y1=\"0\" y2=\"0\" /><g transform=\"translate(-6 0)\"><text class=\"lab\" text-anchor=\"end\">100</text></g></g><g class=\"tick\" transform=\"translate(56.8 37.1402)\"><line class=\"grid\" x1=\"0\" x2=\"523.2\" y1=\"0\" y2=\"0\" /><line x1=\"0\" x2=\"-5\" y1=\"0\" y2=\"0\" /><g transform=\"translate(-6 0)\"><text class=\"lab\" text-anchor=\"end\">300</text></g></g><g class=\"tick\" transform=\"translate(56.8 19.3991)\"><line class=\"grid\" x1=\"0\" x2=\"523.2\" y1=\"0\" y2=\"0\" /><line x1=\"0\" x2=\"-5\" y1=\"0\" y2=\"0\" /><g transform=\"translate(-6 0)\"><text class=\"lab\" text-anchor=\"end\">1000</text></g></g></g></g></g><g class=\"plotbox trees\"><g class=\"tree t0\" transform=\"translate(56.8 0)\"><g class=\"plotbox\"><g class=\"c2 node n11 p0 root\" transform=\"translate(94.2 26.8)\"><g class=\"a11 c2 node n7 p0\" transform=\"translate(37.8 39.4313)\"><g class=\"a7 i0 leaf node n1 p0 sample\" transform=\"translate(-11.2 55.1687)\"><path class=\"edge\" d=\"M 0 0 V -55.1687 H 11.2\" /><rect class=\"sym\" height=\"6\" width=\"6\" x=\"-3\" y=\"-3\" /><text class=\"lab\" transform=\"translate(0 11)\">1 (Ada)</text></g><g class=\"a7 i2 leaf node n4 p0 sample\" transform=\"translate(11.2 55.1687)\"><path class=\"edge\" d=\"M 0 0 V -55.1687 H -11.2\" /><rect class=\"sym\" height=\"6\" width=\"6\" x=\"-3\" y=\"-3\" /><text class=\"lab\" transform=\"translate(0 11)\">4 (Cat)</text></g><path class=\"edge\" d=\"M 0 0 V -39.4313 H -37.8\" /><circle class=\"sym\" cx=\"0\" cy=\"0\" r=\"3\" /><text class=\"lab rgt\" transform=\"translate(3 -7.0)\">7</text></g><g class=\"a11 c2 node n10 p0\" transform=\"translate(-37.8 8.49131)\"><g class=\"a10 i0 leaf node n0 p0 sample\" transform=\"translate(-25.2 86.1087)\"><path class=\"edge\" d=\"M 0 0 V -86.1087 H 25.2\" /><rect class=\"sym\" height=\"6\" width=\"6\" x=\"-3\" y=\"-3\" /><text class=\"lab\" transform=\"translate(0 11)\">0 (Ada)</text></g><g class=\"a10 c2 node n8 p0\" transform=\"translate(25.2 22.6576)\"><g class=\"a8 i1 leaf node n3 p0 sample\" transform=\"translate(16.8 63.4511)\"><path class=\"edge\" d=\"M 0 0 V -63.4511 H -16.8\" /><rect class=\"sym\" height=\"6\" width=\"6\" x=\"-3\" y=\"-3\" /><text class=\"lab\" transform=\"translate(0 11)\">3 (Bob)</text></g><g class=\"a8 c2 node n6 p0\" transform=\"translate(-16.8 22.7955)\"><g class=\"a6 i1 leaf node n2 p0 sample\" transform=\"translate(-11.2 40.6556)\"><path class=\"edge\" d=\"M 0 0 V -40.6556 H 11.2\" /><rect class=\"sym\" height=\"6\" width=\"6\" x=\"-3\" y=\"-3\" /><text class=\"lab\" transform=\"translate(0 11)\">2 (Bob)</text></g><g class=\"a6 i2 leaf node n5 p0 sample\" transform=\"translate(11.2 40.6556)\"><path class=\"edge\" d=\"M 0 0 V -40.6556 H -11.2\" /><rect class=\"sym\" height=\"6\" width=\"6\" x=\"-3\" y=\"-3\" /><text class=\"lab\" transform=\"translate(0 11)\">5 (Cat)</text></g><path class=\"edge\" d=\"M 0 0 V -22.7955 H 16.8\" /><circle class=\"sym\" cx=\"0\" cy=\"0\" r=\"3\" /><text class=\"lab lft\" transform=\"translate(-3 -7.0)\">6</text></g><path class=\"edge\" d=\"M 0 0 V -22.6576 H -25.2\" /><circle class=\"sym\" cx=\"0\" cy=\"0\" r=\"3\" /><text class=\"lab rgt\" transform=\"translate(3 -7.0)\">8</text></g><path class=\"edge\" d=\"M 0 0 V -8.49131 H 37.8\" /><circle class=\"sym\" cx=\"0\" cy=\"0\" r=\"3\" /><text class=\"lab lft\" transform=\"translate(-3 -7.0)\">10</text></g><circle class=\"sym\" cx=\"0\" cy=\"0\" r=\"3\" /><text class=\"lab\" transform=\"translate(0 -11)\">11</text></g></g></g><g class=\"tree t1\" transform=\"translate(231.2 0)\"><g class=\"plotbox\"><g class=\"c2 node n10 p0 root\" transform=\"translate(87.2 35.2913)\"><g class=\"a10 c2 node n8 p0\" transform=\"translate(39.2 22.6576)\"><g class=\"a8 i1 leaf node n3 p0 sample\" transform=\"translate(16.8 63.4511)\"><path class=\"edge\" d=\"M 0 0 V -63.4511 H -16.8\" /><rect class=\"sym\" height=\"6\" width=\"6\" x=\"-3\" y=\"-3\" /><text class=\"lab\" transform=\"translate(0 11)\">3 (Bob)</text></g><g class=\"a8 c2 node n6 p0\" transform=\"translate(-16.8 22.7955)\"><g class=\"a6 i1 leaf node n2 p0 sample\" transform=\"translate(-11.2 40.6556)\"><path class=\"edge\" d=\"M 0 0 V -40.6556 H 11.2\" /><rect class=\"sym\" height=\"6\" width=\"6\" x=\"-3\" y=\"-3\" /><text class=\"lab\" transform=\"translate(0 11)\">2 (Bob)</text></g><g class=\"a6 i2 leaf node n5 p0 sample\" transform=\"translate(11.2 40.6556)\"><path class=\"edge\" d=\"M 0 0 V -40.6556 H -11.2\" /><rect class=\"sym\" height=\"6\" width=\"6\" x=\"-3\" y=\"-3\" /><text class=\"lab\" transform=\"translate(0 11)\">5 (Cat)</text></g><path class=\"edge\" d=\"M 0 0 V -22.7955 H 16.8\" /><circle class=\"sym\" cx=\"0\" cy=\"0\" r=\"3\" /><text class=\"lab lft\" transform=\"translate(-3 -7.0)\">6</text></g><path class=\"edge\" d=\"M 0 0 V -22.6576 H -39.2\" /><circle class=\"sym\" cx=\"0\" cy=\"0\" r=\"3\" /><text class=\"lab rgt\" transform=\"translate(3 -7.0)\">8</text></g><g class=\"a10 c2 node n9 p0\" transform=\"translate(-39.2 1.98569)\"><g class=\"a9 i0 leaf node n0 p0 sample\" transform=\"translate(-16.8 84.123)\"><path class=\"edge\" d=\"M 0 0 V -84.123 H 16.8\" /><rect class=\"sym\" height=\"6\" width=\"6\" x=\"-3\" y=\"-3\" /><text class=\"lab\" transform=\"translate(0 11)\">0 (Ada)</text></g><g class=\"a9 c2 node n7 p0\" transform=\"translate(16.8 28.9543)\"><g class=\"a7 i0 leaf node n1 p0 sample\" transform=\"translate(-11.2 55.1687)\"><path class=\"edge\" d=\"M 0 0 V -55.1687 H 11.2\" /><rect class=\"sym\" height=\"6\" width=\"6\" x=\"-3\" y=\"-3\" /><text class=\"lab\" transform=\"translate(0 11)\">1 (Ada)</text></g><g class=\"a7 i2 leaf node n4 p0 sample\" transform=\"translate(11.2 55.1687)\"><path class=\"edge\" d=\"M 0 0 V -55.1687 H -11.2\" /><rect class=\"sym\" height=\"6\" width=\"6\" x=\"-3\" y=\"-3\" /><text class=\"lab\" transform=\"translate(0 11)\">4 (Cat)</text></g><path class=\"edge\" d=\"M 0 0 V -28.9543 H -16.8\" /><circle class=\"sym\" cx=\"0\" cy=\"0\" r=\"3\" /><text class=\"lab rgt\" transform=\"translate(3 -7.0)\">7</text></g><path class=\"edge\" d=\"M 0 0 V -1.98569 H 39.2\" /><circle class=\"sym\" cx=\"0\" cy=\"0\" r=\"3\" /><text class=\"lab lft\" transform=\"translate(-3 -7.0)\">9</text></g><circle class=\"sym\" cx=\"0\" cy=\"0\" r=\"3\" /><text class=\"lab\" transform=\"translate(0 -11)\">10</text></g></g></g><g class=\"tree t2\" transform=\"translate(405.6 0)\"><g class=\"plotbox\"><g class=\"c2 node n11 p0 root\" transform=\"translate(87.2 26.8)\"><g class=\"a11 c2 m0 node n8 p0 s0\" transform=\"translate(39.2 31.1489)\"><g class=\"a8 i1 leaf node n3 p0 sample\" transform=\"translate(16.8 63.4511)\"><path class=\"edge\" d=\"M 0 0 V -63.4511 H -16.8\" /><rect class=\"sym\" height=\"6\" width=\"6\" x=\"-3\" y=\"-3\" /><text class=\"lab\" transform=\"translate(0 11)\">3 (Bob)</text></g><g class=\"a8 c2 node n6 p0\" transform=\"translate(-16.8 22.7955)\"><g class=\"a6 i1 leaf node n2 p0 sample\" transform=\"translate(-11.2 40.6556)\"><path class=\"edge\" d=\"M 0 0 V -40.6556 H 11.2\" /><rect class=\"sym\" height=\"6\" width=\"6\" x=\"-3\" y=\"-3\" /><text class=\"lab\" transform=\"translate(0 11)\">2 (Bob)</text></g><g class=\"a6 i2 leaf node n5 p0 sample\" transform=\"translate(11.2 40.6556)\"><path class=\"edge\" d=\"M 0 0 V -40.6556 H -11.2\" /><rect class=\"sym\" height=\"6\" width=\"6\" x=\"-3\" y=\"-3\" /><text class=\"lab\" transform=\"translate(0 11)\">5 (Cat)</text></g><path class=\"edge\" d=\"M 0 0 V -22.7955 H 16.8\" /><circle class=\"sym\" cx=\"0\" cy=\"0\" r=\"3\" /><text class=\"lab lft\" transform=\"translate(-3 -7.0)\">6</text></g><path class=\"edge\" d=\"M 0 0 V -31.1489 H -39.2\" /><g class=\"mut m0 s0 unknown_time\" transform=\"translate(0 -22.6051)\"><line x1=\"0\" x2=\"0\" y1=\"0\" y2=\"22.6051\" /><path class=\"sym\" d=\"M -3,-3 l 6,6 M -3,3 l 6,-6\" /><text class=\"lab rgt\" transform=\"translate(5 0)\">0</text></g><circle class=\"sym\" cx=\"0\" cy=\"0\" r=\"3\" /><text class=\"lab rgt\" transform=\"translate(3 -7.0)\">8</text></g><g class=\"a11 c2 node n9 p0\" transform=\"translate(-39.2 10.477)\"><g class=\"a9 i0 leaf node n0 p0 sample\" transform=\"translate(-16.8 84.123)\"><path class=\"edge\" d=\"M 0 0 V -84.123 H 16.8\" /><rect class=\"sym\" height=\"6\" width=\"6\" x=\"-3\" y=\"-3\" /><text class=\"lab\" transform=\"translate(0 11)\">0 (Ada)</text></g><g class=\"a9 c2 node n7 p0\" transform=\"translate(16.8 28.9543)\"><g class=\"a7 i0 leaf node n1 p0 sample\" transform=\"translate(-11.2 55.1687)\"><path class=\"edge\" d=\"M 0 0 V -55.1687 H 11.2\" /><rect class=\"sym\" height=\"6\" width=\"6\" x=\"-3\" y=\"-3\" /><text class=\"lab\" transform=\"translate(0 11)\">1 (Ada)</text></g><g class=\"a7 i2 leaf node n4 p0 sample\" transform=\"translate(11.2 55.1687)\"><path class=\"edge\" d=\"M 0 0 V -55.1687 H -11.2\" /><rect class=\"sym\" height=\"6\" width=\"6\" x=\"-3\" y=\"-3\" /><text class=\"lab\" transform=\"translate(0 11)\">4 (Cat)</text></g><path class=\"edge\" d=\"M 0 0 V -28.9543 H -16.8\" /><circle class=\"sym\" cx=\"0\" cy=\"0\" r=\"3\" /><text class=\"lab rgt\" transform=\"translate(3 -7.0)\">7</text></g><path class=\"edge\" d=\"M 0 0 V -10.477 H 39.2\" /><circle class=\"sym\" cx=\"0\" cy=\"0\" r=\"3\" /><text class=\"lab lft\" transform=\"translate(-3 -7.0)\">9</text></g><circle class=\"sym\" cx=\"0\" cy=\"0\" r=\"3\" /><text class=\"lab\" transform=\"translate(0 -11)\">11</text></g></g></g></g></g></svg>"
      ],
      "text/plain": [
       "'<svg baseProfile=\"full\" height=\"200\" version=\"1.1\" width=\"600\" xmlns=\"http://www.w3.org/2000/svg\" xmlns:ev=\"http://www.w3.org/2001/xml-events\" xmlns:xlink=\"http://www.w3.org/1999/xlink\"><defs><style type=\"text/css\"><![CDATA[.background path {fill: #808080; fill-opacity: 0}.background path:nth-child(odd) {fill-opacity: .1}.axes {font-size: 14px}.x-axis .tick .lab {font-weight: bold; dominant-baseline: hanging}.axes, .tree {font-size: 14px; text-anchor: middle}.axes line, .edge {stroke: black; fill: none}.y-axis .grid {stroke: #FAFAFA}.node > .sym {fill: black; stroke: none}.site > .sym {stroke: black}.mut text {fill: red; font-style: italic}.mut.extra text {fill: hotpink}.mut line {fill: none; stroke: none}.mut .sym {fill: none; stroke: red}.mut.extra .sym {stroke: hotpink}.node .mut .sym {stroke-width: 1.5px}.tree text, .tree-sequence text {dominant-baseline: central}.plotbox .lab.lft {text-anchor: end}.plotbox .lab.rgt {text-anchor: start}.node > .lab {font-size: 70%}.leaf > .lab {text-anchor: start; transform: rotate(90deg) translate(6px)}]]></style></defs><g class=\"tree-sequence\"><g class=\"background\"><path d=\"M56.8,0 l174.4,0 l0,138.2 l-13.7776,25 l0,5 l-160.622,0 l0,-5 l0,-25 l0,-138.2z\" /><path d=\"M231.2,0 l174.4,0 l0,138.2 l-52.1456,25 l0,5 l-136.032,0 l0,-5 l13.7776,-25 l0,-138.2z\" /><path d=\"M405.6,0 l174.4,0 l0,138.2 l0,25 l0,5 l-226.546,0 l0,-5 l52.1456,-25 l0,-138.2z\" /></g><g class=\"axes\"><g class=\"x-axis\"><g transform=\"translate(318.4 200)\"><text class=\"lab\" text-anchor=\"middle\" transform=\"translate(0 -11)\">Genome position</text></g><line x1=\"56.8\" x2=\"580\" y1=\"163.2\" y2=\"163.2\" /><g class=\"ticks\"><g class=\"tick\" transform=\"translate(56.8 163.2)\"><line x1=\"0\" x2=\"0\" y1=\"0\" y2=\"5\" /><g transform=\"translate(0 6)\"><text class=\"lab\">0</text></g></g><g class=\"tick\" transform=\"translate(217.422 163.2)\"><line x1=\"0\" x2=\"0\" y1=\"0\" y2=\"5\" /><g transform=\"translate(0 6)\"><text class=\"lab\">307</text></g></g><g class=\"tick\" transform=\"translate(353.454 163.2)\"><line x1=\"0\" x2=\"0\" y1=\"0\" y2=\"5\" /><g transform=\"translate(0 6)\"><text class=\"lab\">567</text></g></g><g class=\"tick\" transform=\"translate(580 163.2)\"><line x1=\"0\" x2=\"0\" y1=\"0\" y2=\"5\" /><g transform=\"translate(0 6)\"><text class=\"lab\">1000</text></g></g></g><g class=\"site s0\" transform=\"translate(449.723 163.2)\"><line class=\"sym\" x1=\"0\" x2=\"0\" y1=\"0\" y2=\"-10\" /><g class=\"mut m0\"><polyline class=\"sym\" points=\"2.5,-6.5 0,-1.5 -2.5,-6.5\" /></g></g></g><g class=\"y-axis\"><g transform=\"translate(0 65.7)\"><text class=\"lab\" text-anchor=\"middle\" transform=\"translate(11) rotate(-90)\">Time (generations)</text></g><line x1=\"56.8\" x2=\"56.8\" y1=\"121.4\" y2=\"10\" /><g class=\"ticks\"><g class=\"tick\" transform=\"translate(56.8 121.4)\"><line class=\"grid\" x1=\"0\" x2=\"523.2\" y1=\"0\" y2=\"0\" /><line x1=\"0\" x2=\"-5\" y1=\"0\" y2=\"0\" /><g transform=\"translate(-6 0)\"><text class=\"lab\" text-anchor=\"end\">0</text></g></g><g class=\"tick\" transform=\"translate(56.8 100.933)\"><line class=\"grid\" x1=\"0\" x2=\"523.2\" y1=\"0\" y2=\"0\" /><line x1=\"0\" x2=\"-5\" y1=\"0\" y2=\"0\" /><g transform=\"translate(-6 0)\"><text class=\"lab\" text-anchor=\"end\">3</text></g></g><g class=\"tick\" transform=\"translate(56.8 85.9974)\"><line class=\"grid\" x1=\"0\" x2=\"523.2\" y1=\"0\" y2=\"0\" /><line x1=\"0\" x2=\"-5\" y1=\"0\" y2=\"0\" /><g transform=\"translate(-6 0)\"><text class=\"lab\" text-anchor=\"end\">10</text></g></g><g class=\"tick\" transform=\"translate(56.8 70.7006)\"><line class=\"grid\" x1=\"0\" x2=\"523.2\" y1=\"0\" y2=\"0\" /><line x1=\"0\" x2=\"-5\" y1=\"0\" y2=\"0\" /><g transform=\"translate(-6 0)\"><text class=\"lab\" text-anchor=\"end\">30</text></g></g><g class=\"tick\" transform=\"translate(56.8 53.2623)\"><line class=\"grid\" x1=\"0\" x2=\"523.2\" y1=\"0\" y2=\"0\" /><line x1=\"0\" x2=\"-5\" y1=\"0\" y2=\"0\" /><g transform=\"translate(-6 0)\"><text class=\"lab\" text-anchor=\"end\">100</text></g></g><g class=\"tick\" transform=\"translate(56.8 37.1402)\"><line class=\"grid\" x1=\"0\" x2=\"523.2\" y1=\"0\" y2=\"0\" /><line x1=\"0\" x2=\"-5\" y1=\"0\" y2=\"0\" /><g transform=\"translate(-6 0)\"><text class=\"lab\" text-anchor=\"end\">300</text></g></g><g class=\"tick\" transform=\"translate(56.8 19.3991)\"><line class=\"grid\" x1=\"0\" x2=\"523.2\" y1=\"0\" y2=\"0\" /><line x1=\"0\" x2=\"-5\" y1=\"0\" y2=\"0\" /><g transform=\"translate(-6 0)\"><text class=\"lab\" text-anchor=\"end\">1000</text></g></g></g></g></g><g class=\"plotbox trees\"><g class=\"tree t0\" transform=\"translate(56.8 0)\"><g class=\"plotbox\"><g class=\"c2 node n11 p0 root\" transform=\"translate(94.2 26.8)\"><g class=\"a11 c2 node n7 p0\" transform=\"translate(37.8 39.4313)\"><g class=\"a7 i0 leaf node n1 p0 sample\" transform=\"translate(-11.2 55.1687)\"><path class=\"edge\" d=\"M 0 0 V -55.1687 H 11.2\" /><rect class=\"sym\" height=\"6\" width=\"6\" x=\"-3\" y=\"-3\" /><text class=\"lab\" transform=\"translate(0 11)\">1 (Ada)</text></g><g class=\"a7 i2 leaf node n4 p0 sample\" transform=\"translate(11.2 55.1687)\"><path class=\"edge\" d=\"M 0 0 V -55.1687 H -11.2\" /><rect class=\"sym\" height=\"6\" width=\"6\" x=\"-3\" y=\"-3\" /><text class=\"lab\" transform=\"translate(0 11)\">4 (Cat)</text></g><path class=\"edge\" d=\"M 0 0 V -39.4313 H -37.8\" /><circle class=\"sym\" cx=\"0\" cy=\"0\" r=\"3\" /><text class=\"lab rgt\" transform=\"translate(3 -7.0)\">7</text></g><g class=\"a11 c2 node n10 p0\" transform=\"translate(-37.8 8.49131)\"><g class=\"a10 i0 leaf node n0 p0 sample\" transform=\"translate(-25.2 86.1087)\"><path class=\"edge\" d=\"M 0 0 V -86.1087 H 25.2\" /><rect class=\"sym\" height=\"6\" width=\"6\" x=\"-3\" y=\"-3\" /><text class=\"lab\" transform=\"translate(0 11)\">0 (Ada)</text></g><g class=\"a10 c2 node n8 p0\" transform=\"translate(25.2 22.6576)\"><g class=\"a8 i1 leaf node n3 p0 sample\" transform=\"translate(16.8 63.4511)\"><path class=\"edge\" d=\"M 0 0 V -63.4511 H -16.8\" /><rect class=\"sym\" height=\"6\" width=\"6\" x=\"-3\" y=\"-3\" /><text class=\"lab\" transform=\"translate(0 11)\">3 (Bob)</text></g><g class=\"a8 c2 node n6 p0\" transform=\"translate(-16.8 22.7955)\"><g class=\"a6 i1 leaf node n2 p0 sample\" transform=\"translate(-11.2 40.6556)\"><path class=\"edge\" d=\"M 0 0 V -40.6556 H 11.2\" /><rect class=\"sym\" height=\"6\" width=\"6\" x=\"-3\" y=\"-3\" /><text class=\"lab\" transform=\"translate(0 11)\">2 (Bob)</text></g><g class=\"a6 i2 leaf node n5 p0 sample\" transform=\"translate(11.2 40.6556)\"><path class=\"edge\" d=\"M 0 0 V -40.6556 H -11.2\" /><rect class=\"sym\" height=\"6\" width=\"6\" x=\"-3\" y=\"-3\" /><text class=\"lab\" transform=\"translate(0 11)\">5 (Cat)</text></g><path class=\"edge\" d=\"M 0 0 V -22.7955 H 16.8\" /><circle class=\"sym\" cx=\"0\" cy=\"0\" r=\"3\" /><text class=\"lab lft\" transform=\"translate(-3 -7.0)\">6</text></g><path class=\"edge\" d=\"M 0 0 V -22.6576 H -25.2\" /><circle class=\"sym\" cx=\"0\" cy=\"0\" r=\"3\" /><text class=\"lab rgt\" transform=\"translate(3 -7.0)\">8</text></g><path class=\"edge\" d=\"M 0 0 V -8.49131 H 37.8\" /><circle class=\"sym\" cx=\"0\" cy=\"0\" r=\"3\" /><text class=\"lab lft\" transform=\"translate(-3 -7.0)\">10</text></g><circle class=\"sym\" cx=\"0\" cy=\"0\" r=\"3\" /><text class=\"lab\" transform=\"translate(0 -11)\">11</text></g></g></g><g class=\"tree t1\" transform=\"translate(231.2 0)\"><g class=\"plotbox\"><g class=\"c2 node n10 p0 root\" transform=\"translate(87.2 35.2913)\"><g class=\"a10 c2 node n8 p0\" transform=\"translate(39.2 22.6576)\"><g class=\"a8 i1 leaf node n3 p0 sample\" transform=\"translate(16.8 63.4511)\"><path class=\"edge\" d=\"M 0 0 V -63.4511 H -16.8\" /><rect class=\"sym\" height=\"6\" width=\"6\" x=\"-3\" y=\"-3\" /><text class=\"lab\" transform=\"translate(0 11)\">3 (Bob)</text></g><g class=\"a8 c2 node n6 p0\" transform=\"translate(-16.8 22.7955)\"><g class=\"a6 i1 leaf node n2 p0 sample\" transform=\"translate(-11.2 40.6556)\"><path class=\"edge\" d=\"M 0 0 V -40.6556 H 11.2\" /><rect class=\"sym\" height=\"6\" width=\"6\" x=\"-3\" y=\"-3\" /><text class=\"lab\" transform=\"translate(0 11)\">2 (Bob)</text></g><g class=\"a6 i2 leaf node n5 p0 sample\" transform=\"translate(11.2 40.6556)\"><path class=\"edge\" d=\"M 0 0 V -40.6556 H -11.2\" /><rect class=\"sym\" height=\"6\" width=\"6\" x=\"-3\" y=\"-3\" /><text class=\"lab\" transform=\"translate(0 11)\">5 (Cat)</text></g><path class=\"edge\" d=\"M 0 0 V -22.7955 H 16.8\" /><circle class=\"sym\" cx=\"0\" cy=\"0\" r=\"3\" /><text class=\"lab lft\" transform=\"translate(-3 -7.0)\">6</text></g><path class=\"edge\" d=\"M 0 0 V -22.6576 H -39.2\" /><circle class=\"sym\" cx=\"0\" cy=\"0\" r=\"3\" /><text class=\"lab rgt\" transform=\"translate(3 -7.0)\">8</text></g><g class=\"a10 c2 node n9 p0\" transform=\"translate(-39.2 1.98569)\"><g class=\"a9 i0 leaf node n0 p0 sample\" transform=\"translate(-16.8 84.123)\"><path class=\"edge\" d=\"M 0 0 V -84.123 H 16.8\" /><rect class=\"sym\" height=\"6\" width=\"6\" x=\"-3\" y=\"-3\" /><text class=\"lab\" transform=\"translate(0 11)\">0 (Ada)</text></g><g class=\"a9 c2 node n7 p0\" transform=\"translate(16.8 28.9543)\"><g class=\"a7 i0 leaf node n1 p0 sample\" transform=\"translate(-11.2 55.1687)\"><path class=\"edge\" d=\"M 0 0 V -55.1687 H 11.2\" /><rect class=\"sym\" height=\"6\" width=\"6\" x=\"-3\" y=\"-3\" /><text class=\"lab\" transform=\"translate(0 11)\">1 (Ada)</text></g><g class=\"a7 i2 leaf node n4 p0 sample\" transform=\"translate(11.2 55.1687)\"><path class=\"edge\" d=\"M 0 0 V -55.1687 H -11.2\" /><rect class=\"sym\" height=\"6\" width=\"6\" x=\"-3\" y=\"-3\" /><text class=\"lab\" transform=\"translate(0 11)\">4 (Cat)</text></g><path class=\"edge\" d=\"M 0 0 V -28.9543 H -16.8\" /><circle class=\"sym\" cx=\"0\" cy=\"0\" r=\"3\" /><text class=\"lab rgt\" transform=\"translate(3 -7.0)\">7</text></g><path class=\"edge\" d=\"M 0 0 V -1.98569 H 39.2\" /><circle class=\"sym\" cx=\"0\" cy=\"0\" r=\"3\" /><text class=\"lab lft\" transform=\"translate(-3 -7.0)\">9</text></g><circle class=\"sym\" cx=\"0\" cy=\"0\" r=\"3\" /><text class=\"lab\" transform=\"translate(0 -11)\">10</text></g></g></g><g class=\"tree t2\" transform=\"translate(405.6 0)\"><g class=\"plotbox\"><g class=\"c2 node n11 p0 root\" transform=\"translate(87.2 26.8)\"><g class=\"a11 c2 m0 node n8 p0 s0\" transform=\"translate(39.2 31.1489)\"><g class=\"a8 i1 leaf node n3 p0 sample\" transform=\"translate(16.8 63.4511)\"><path class=\"edge\" d=\"M 0 0 V -63.4511 H -16.8\" /><rect class=\"sym\" height=\"6\" width=\"6\" x=\"-3\" y=\"-3\" /><text class=\"lab\" transform=\"translate(0 11)\">3 (Bob)</text></g><g class=\"a8 c2 node n6 p0\" transform=\"translate(-16.8 22.7955)\"><g class=\"a6 i1 leaf node n2 p0 sample\" transform=\"translate(-11.2 40.6556)\"><path class=\"edge\" d=\"M 0 0 V -40.6556 H 11.2\" /><rect class=\"sym\" height=\"6\" width=\"6\" x=\"-3\" y=\"-3\" /><text class=\"lab\" transform=\"translate(0 11)\">2 (Bob)</text></g><g class=\"a6 i2 leaf node n5 p0 sample\" transform=\"translate(11.2 40.6556)\"><path class=\"edge\" d=\"M 0 0 V -40.6556 H -11.2\" /><rect class=\"sym\" height=\"6\" width=\"6\" x=\"-3\" y=\"-3\" /><text class=\"lab\" transform=\"translate(0 11)\">5 (Cat)</text></g><path class=\"edge\" d=\"M 0 0 V -22.7955 H 16.8\" /><circle class=\"sym\" cx=\"0\" cy=\"0\" r=\"3\" /><text class=\"lab lft\" transform=\"translate(-3 -7.0)\">6</text></g><path class=\"edge\" d=\"M 0 0 V -31.1489 H -39.2\" /><g class=\"mut m0 s0 unknown_time\" transform=\"translate(0 -22.6051)\"><line x1=\"0\" x2=\"0\" y1=\"0\" y2=\"22.6051\" /><path class=\"sym\" d=\"M -3,-3 l 6,6 M -3,3 l 6,-6\" /><text class=\"lab rgt\" transform=\"translate(5 0)\">0</text></g><circle class=\"sym\" cx=\"0\" cy=\"0\" r=\"3\" /><text class=\"lab rgt\" transform=\"translate(3 -7.0)\">8</text></g><g class=\"a11 c2 node n9 p0\" transform=\"translate(-39.2 10.477)\"><g class=\"a9 i0 leaf node n0 p0 sample\" transform=\"translate(-16.8 84.123)\"><path class=\"edge\" d=\"M 0 0 V -84.123 H 16.8\" /><rect class=\"sym\" height=\"6\" width=\"6\" x=\"-3\" y=\"-3\" /><text class=\"lab\" transform=\"translate(0 11)\">0 (Ada)</text></g><g class=\"a9 c2 node n7 p0\" transform=\"translate(16.8 28.9543)\"><g class=\"a7 i0 leaf node n1 p0 sample\" transform=\"translate(-11.2 55.1687)\"><path class=\"edge\" d=\"M 0 0 V -55.1687 H 11.2\" /><rect class=\"sym\" height=\"6\" width=\"6\" x=\"-3\" y=\"-3\" /><text class=\"lab\" transform=\"translate(0 11)\">1 (Ada)</text></g><g class=\"a7 i2 leaf node n4 p0 sample\" transform=\"translate(11.2 55.1687)\"><path class=\"edge\" d=\"M 0 0 V -55.1687 H -11.2\" /><rect class=\"sym\" height=\"6\" width=\"6\" x=\"-3\" y=\"-3\" /><text class=\"lab\" transform=\"translate(0 11)\">4 (Cat)</text></g><path class=\"edge\" d=\"M 0 0 V -28.9543 H -16.8\" /><circle class=\"sym\" cx=\"0\" cy=\"0\" r=\"3\" /><text class=\"lab rgt\" transform=\"translate(3 -7.0)\">7</text></g><path class=\"edge\" d=\"M 0 0 V -10.477 H 39.2\" /><circle class=\"sym\" cx=\"0\" cy=\"0\" r=\"3\" /><text class=\"lab lft\" transform=\"translate(-3 -7.0)\">9</text></g><circle class=\"sym\" cx=\"0\" cy=\"0\" r=\"3\" /><text class=\"lab\" transform=\"translate(0 -11)\">11</text></g></g></g></g></g></svg>'"
      ]
     },
     "execution_count": 10,
     "metadata": {
      "filenames": {
       "image/svg+xml": "/home/runner/work/tutorials/tutorials/_build/jupyter_execute/terminology_and_concepts_19_0.svg"
      }
     },
     "output_type": "execute_result"
    }
   ],
   "source": [
    "node_labels = {node.id: str(node.id) for node in ts.nodes()}\n",
    "for n in ts.samples():\n",
    "    node_labels[n] = f\"{n} ({ts.individual(ts.node(n).individual).metadata['name']})\"\n",
    "styles = (\n",
    "    \".node > .lab {font-size: 70%}\"\n",
    "    \".leaf > .lab {text-anchor: start; transform: rotate(90deg) translate(6px)}\"\n",
    ")\n",
    "ts.draw_svg(\n",
    "    node_labels=node_labels,\n",
    "    style=styles,\n",
    "    y_axis=True,\n",
    "    y_gridlines=True,\n",
    "    time_scale=\"log_time\",\n",
    "    y_ticks=[0, 3, 10, 30, 100, 300,1000],\n",
    ")"
   ]
  },
  {
   "cell_type": "markdown",
   "id": "91362238",
   "metadata": {},
   "source": [
    "In the same way that nodes can be associated with a specific individual, nodes can also\n",
    "be associated with a larger _population_. In this example, there is only one population\n",
    "(to which all the nodes belong):"
   ]
  },
  {
   "cell_type": "code",
   "execution_count": 11,
   "id": "8f6904b9",
   "metadata": {},
   "outputs": [
    {
     "name": "stdout",
     "output_type": "stream",
     "text": [
      "1 population(s) defined:\n",
      "* Population(id=0, metadata={'description': 'British from England and Scotland', 'name': 'GBR'})\n"
     ]
    }
   ],
   "source": [
    "print(f\"{ts.num_populations} population(s) defined:\")\n",
    "for population in ts.populations():\n",
    "    print(\"*\", population)"
   ]
  },
  {
   "cell_type": "markdown",
   "id": "4eef3eac",
   "metadata": {},
   "source": [
    "(sec_terminology_mutations_and_sites)=\n",
    "\n",
    "### Mutations and sites\n",
    "\n",
    "In {program}`tskit`, _mutations_ occur at specific, defined _sites_. A mutation is\n",
    "positioned above a particular node (specified by the node ID), occurs at a particular\n",
    "site (specified by a site ID), and involves a change of allelic state to a defined\n",
    "{attr}`~Mutation.derived_state`. A mutation therefore can be specified something like\n",
    "this:"
   ]
  },
  {
   "cell_type": "code",
   "execution_count": 12,
   "id": "359cc132",
   "metadata": {},
   "outputs": [
    {
     "name": "stdout",
     "output_type": "stream",
     "text": [
      "1 mutation(s) in the tree sequence:\n",
      "* Mutation(id=0, site=0, node=8, derived_state='G', parent=-1, metadata=b'', time=nan, edge=12)\n"
     ]
    }
   ],
   "source": [
    "print(f\"{ts.num_mutations} mutation(s) in the tree sequence:\")\n",
    "for mutation in ts.mutations():\n",
    "    print(\"*\", mutation)"
   ]
  },
  {
   "cell_type": "markdown",
   "id": "bddfc305",
   "metadata": {},
   "source": [
    "The mutation can have a {attr}`~Mutation.time` or if, as in this case, the times of\n",
    "mutations in the tree sequence are unknown, all mutations can have the special NaN value\n",
    "{data}`tskit.UNKNOWN_TIME`. Notice that the genomic position of the mutation is not\n",
    "included. Instead, that is a property of the _site_ to which the mutation refers, in\n",
    "this case, site ID 0 (which happens to be at position 751):"
   ]
  },
  {
   "cell_type": "code",
   "execution_count": 13,
   "id": "41abfc12",
   "metadata": {},
   "outputs": [
    {
     "name": "stdout",
     "output_type": "stream",
     "text": [
      "Site(id=0, position=751.0, ancestral_state='T', mutations=[Mutation(id=0, site=0, node=8, derived_state='G', parent=-1, metadata=b'', time=nan, edge=12)], metadata=b'')\n"
     ]
    }
   ],
   "source": [
    "print(ts.site(0))  # For convenience, the Python API also returns the mutations at the site"
   ]
  },
  {
   "cell_type": "markdown",
   "id": "321b5b0b",
   "metadata": {},
   "source": [
    "In the plot above, since the the only mutation is above node 8 in the last tree, and has\n",
    "a {attr}`~Mutation.derived_state` of \"G\", we know that the samples descending from node\n",
    "8 in the last tree (sample genomes 2, 3, and 5) have a \"G\" at {attr}`~Site.position` 751,\n",
    "while the others have the {attr}`~Site.ancestral_state` of \"T\". This means that Ada is\n",
    "homozygous for \"T\", Bob is homozygous for \"G\", and Cat is heterozygous \"T/G\".\n",
    "In other words the ancestral state and the details of any mutations at that site,\n",
    "when coupled with the tree topology at the site {attr}`~Site.position`, is sufficient to\n",
    "define the allelic state possessed by each sample.\n",
    "\n",
    "Note that even though the genome is 1000 base pairs long, the tree sequence only contains\n",
    "a single site, because we usually only bother defining *variable* sites in a tree\n",
    "sequence (e.g. positions seen in studies to have samples possessing different alleles at\n",
    "that genomic location). It is perfectly possible to have a site with no mutations\n",
    "(or silent mutations) --- i.e. a \"monomorphic\" site --- but such sites are not normally\n",
    "used in further analysis.\n",
    "\n",
    "\n",
    "(sec_terminology_provenance)=\n",
    "\n",
    "### Provenance\n",
    "\n",
    "The history of the tree sequence is recorded in a set of provenance entries. That\n",
    "includes what produced it, and what operations have been done to it and when. For\n",
    "instance, if it was produced by {ref}`simplifying<sec_simplification>` a tree\n",
    "sequence produced by the msprime simulator, the first provenance entry would record the\n",
    "call to msprime that produced it, and the second the call to\n",
    "{meth}`~TreeSequence.simplify` that was done on the result. Ideally, the list of\n",
    "provenance entries are sufficient to exactly recreate the tree sequence, but this\n",
    "is not always possible.\n",
    "\n",
    "\n",
    "(sec_concepts)=\n",
    "\n",
    "## Concepts\n",
    "\n",
    "There are some basic population genetic concepts which can be helpful with thinking about\n",
    "tree sequences. For reference, here is the tree sequence topology that we have been using:"
   ]
  },
  {
   "cell_type": "code",
   "execution_count": 14,
   "id": "aeecbe4d",
   "metadata": {
    "tags": [
     "hide-input"
    ]
   },
   "outputs": [
    {
     "data": {
      "image/svg+xml": [
       "<svg baseProfile=\"full\" height=\"200\" version=\"1.1\" width=\"600\" xmlns=\"http://www.w3.org/2000/svg\" xmlns:ev=\"http://www.w3.org/2001/xml-events\" xmlns:xlink=\"http://www.w3.org/1999/xlink\"><defs><style type=\"text/css\"><![CDATA[.background path {fill: #808080; fill-opacity: 0}.background path:nth-child(odd) {fill-opacity: .1}.axes {font-size: 14px}.x-axis .tick .lab {font-weight: bold; dominant-baseline: hanging}.axes, .tree {font-size: 14px; text-anchor: middle}.axes line, .edge {stroke: black; fill: none}.y-axis .grid {stroke: #FAFAFA}.node > .sym {fill: black; stroke: none}.site > .sym {stroke: black}.mut text {fill: red; font-style: italic}.mut.extra text {fill: hotpink}.mut line {fill: none; stroke: none}.mut .sym {fill: none; stroke: red}.mut.extra .sym {stroke: hotpink}.node .mut .sym {stroke-width: 1.5px}.tree text, .tree-sequence text {dominant-baseline: central}.plotbox .lab.lft {text-anchor: end}.plotbox .lab.rgt {text-anchor: start}.mut, .site {display: none}]]></style></defs><g class=\"tree-sequence\"><g class=\"background\"><path d=\"M56.8,0 l174.4,0 l0,138.2 l-13.7776,25 l0,5 l-160.622,0 l0,-5 l0,-25 l0,-138.2z\" /><path d=\"M231.2,0 l174.4,0 l0,138.2 l-52.1456,25 l0,5 l-136.032,0 l0,-5 l13.7776,-25 l0,-138.2z\" /><path d=\"M405.6,0 l174.4,0 l0,138.2 l0,25 l0,5 l-226.546,0 l0,-5 l52.1456,-25 l0,-138.2z\" /></g><g class=\"axes\"><g class=\"x-axis\"><g transform=\"translate(318.4 200)\"><text class=\"lab\" text-anchor=\"middle\" transform=\"translate(0 -11)\">Genome position</text></g><line x1=\"56.8\" x2=\"580\" y1=\"163.2\" y2=\"163.2\" /><g class=\"ticks\"><g class=\"tick\" transform=\"translate(56.8 163.2)\"><line x1=\"0\" x2=\"0\" y1=\"0\" y2=\"5\" /><g transform=\"translate(0 6)\"><text class=\"lab\">0</text></g></g><g class=\"tick\" transform=\"translate(217.422 163.2)\"><line x1=\"0\" x2=\"0\" y1=\"0\" y2=\"5\" /><g transform=\"translate(0 6)\"><text class=\"lab\">307</text></g></g><g class=\"tick\" transform=\"translate(353.454 163.2)\"><line x1=\"0\" x2=\"0\" y1=\"0\" y2=\"5\" /><g transform=\"translate(0 6)\"><text class=\"lab\">567</text></g></g><g class=\"tick\" transform=\"translate(580 163.2)\"><line x1=\"0\" x2=\"0\" y1=\"0\" y2=\"5\" /><g transform=\"translate(0 6)\"><text class=\"lab\">1000</text></g></g></g><g class=\"site s0\" transform=\"translate(449.723 163.2)\"><line class=\"sym\" x1=\"0\" x2=\"0\" y1=\"0\" y2=\"-10\" /><g class=\"mut m0\"><polyline class=\"sym\" points=\"2.5,-6.5 0,-1.5 -2.5,-6.5\" /></g></g></g><g class=\"y-axis\"><g transform=\"translate(0 65.7)\"><text class=\"lab\" text-anchor=\"middle\" transform=\"translate(11) rotate(-90)\">Time (generations)</text></g><line x1=\"56.8\" x2=\"56.8\" y1=\"121.4\" y2=\"10\" /><g class=\"ticks\"><g class=\"tick\" transform=\"translate(56.8 121.4)\"><line class=\"grid\" x1=\"0\" x2=\"523.2\" y1=\"0\" y2=\"0\" /><line x1=\"0\" x2=\"-5\" y1=\"0\" y2=\"0\" /><g transform=\"translate(-6 0)\"><text class=\"lab\" text-anchor=\"end\">0</text></g></g><g class=\"tick\" transform=\"translate(56.8 100.933)\"><line class=\"grid\" x1=\"0\" x2=\"523.2\" y1=\"0\" y2=\"0\" /><line x1=\"0\" x2=\"-5\" y1=\"0\" y2=\"0\" /><g transform=\"translate(-6 0)\"><text class=\"lab\" text-anchor=\"end\">3</text></g></g><g class=\"tick\" transform=\"translate(56.8 85.9974)\"><line class=\"grid\" x1=\"0\" x2=\"523.2\" y1=\"0\" y2=\"0\" /><line x1=\"0\" x2=\"-5\" y1=\"0\" y2=\"0\" /><g transform=\"translate(-6 0)\"><text class=\"lab\" text-anchor=\"end\">10</text></g></g><g class=\"tick\" transform=\"translate(56.8 70.7006)\"><line class=\"grid\" x1=\"0\" x2=\"523.2\" y1=\"0\" y2=\"0\" /><line x1=\"0\" x2=\"-5\" y1=\"0\" y2=\"0\" /><g transform=\"translate(-6 0)\"><text class=\"lab\" text-anchor=\"end\">30</text></g></g><g class=\"tick\" transform=\"translate(56.8 53.2623)\"><line class=\"grid\" x1=\"0\" x2=\"523.2\" y1=\"0\" y2=\"0\" /><line x1=\"0\" x2=\"-5\" y1=\"0\" y2=\"0\" /><g transform=\"translate(-6 0)\"><text class=\"lab\" text-anchor=\"end\">100</text></g></g><g class=\"tick\" transform=\"translate(56.8 37.1402)\"><line class=\"grid\" x1=\"0\" x2=\"523.2\" y1=\"0\" y2=\"0\" /><line x1=\"0\" x2=\"-5\" y1=\"0\" y2=\"0\" /><g transform=\"translate(-6 0)\"><text class=\"lab\" text-anchor=\"end\">300</text></g></g><g class=\"tick\" transform=\"translate(56.8 19.3991)\"><line class=\"grid\" x1=\"0\" x2=\"523.2\" y1=\"0\" y2=\"0\" /><line x1=\"0\" x2=\"-5\" y1=\"0\" y2=\"0\" /><g transform=\"translate(-6 0)\"><text class=\"lab\" text-anchor=\"end\">1000</text></g></g></g></g></g><g class=\"plotbox trees\"><g class=\"tree t0\" transform=\"translate(56.8 0)\"><g class=\"plotbox\"><g class=\"c2 node n11 p0 root\" transform=\"translate(94.2 26.8)\"><g class=\"a11 c2 node n7 p0\" transform=\"translate(37.8 39.4313)\"><g class=\"a7 i0 leaf node n1 p0 sample\" transform=\"translate(-11.2 55.1687)\"><path class=\"edge\" d=\"M 0 0 V -55.1687 H 11.2\" /><rect class=\"sym\" height=\"6\" width=\"6\" x=\"-3\" y=\"-3\" /><text class=\"lab\" transform=\"translate(0 11)\">1</text></g><g class=\"a7 i2 leaf node n4 p0 sample\" transform=\"translate(11.2 55.1687)\"><path class=\"edge\" d=\"M 0 0 V -55.1687 H -11.2\" /><rect class=\"sym\" height=\"6\" width=\"6\" x=\"-3\" y=\"-3\" /><text class=\"lab\" transform=\"translate(0 11)\">4</text></g><path class=\"edge\" d=\"M 0 0 V -39.4313 H -37.8\" /><circle class=\"sym\" cx=\"0\" cy=\"0\" r=\"3\" /><text class=\"lab rgt\" transform=\"translate(3 -7.0)\">7</text></g><g class=\"a11 c2 node n10 p0\" transform=\"translate(-37.8 8.49131)\"><g class=\"a10 i0 leaf node n0 p0 sample\" transform=\"translate(-25.2 86.1087)\"><path class=\"edge\" d=\"M 0 0 V -86.1087 H 25.2\" /><rect class=\"sym\" height=\"6\" width=\"6\" x=\"-3\" y=\"-3\" /><text class=\"lab\" transform=\"translate(0 11)\">0</text></g><g class=\"a10 c2 node n8 p0\" transform=\"translate(25.2 22.6576)\"><g class=\"a8 i1 leaf node n3 p0 sample\" transform=\"translate(16.8 63.4511)\"><path class=\"edge\" d=\"M 0 0 V -63.4511 H -16.8\" /><rect class=\"sym\" height=\"6\" width=\"6\" x=\"-3\" y=\"-3\" /><text class=\"lab\" transform=\"translate(0 11)\">3</text></g><g class=\"a8 c2 node n6 p0\" transform=\"translate(-16.8 22.7955)\"><g class=\"a6 i1 leaf node n2 p0 sample\" transform=\"translate(-11.2 40.6556)\"><path class=\"edge\" d=\"M 0 0 V -40.6556 H 11.2\" /><rect class=\"sym\" height=\"6\" width=\"6\" x=\"-3\" y=\"-3\" /><text class=\"lab\" transform=\"translate(0 11)\">2</text></g><g class=\"a6 i2 leaf node n5 p0 sample\" transform=\"translate(11.2 40.6556)\"><path class=\"edge\" d=\"M 0 0 V -40.6556 H -11.2\" /><rect class=\"sym\" height=\"6\" width=\"6\" x=\"-3\" y=\"-3\" /><text class=\"lab\" transform=\"translate(0 11)\">5</text></g><path class=\"edge\" d=\"M 0 0 V -22.7955 H 16.8\" /><circle class=\"sym\" cx=\"0\" cy=\"0\" r=\"3\" /><text class=\"lab lft\" transform=\"translate(-3 -7.0)\">6</text></g><path class=\"edge\" d=\"M 0 0 V -22.6576 H -25.2\" /><circle class=\"sym\" cx=\"0\" cy=\"0\" r=\"3\" /><text class=\"lab rgt\" transform=\"translate(3 -7.0)\">8</text></g><path class=\"edge\" d=\"M 0 0 V -8.49131 H 37.8\" /><circle class=\"sym\" cx=\"0\" cy=\"0\" r=\"3\" /><text class=\"lab lft\" transform=\"translate(-3 -7.0)\">10</text></g><circle class=\"sym\" cx=\"0\" cy=\"0\" r=\"3\" /><text class=\"lab\" transform=\"translate(0 -11)\">11</text></g></g></g><g class=\"tree t1\" transform=\"translate(231.2 0)\"><g class=\"plotbox\"><g class=\"c2 node n10 p0 root\" transform=\"translate(87.2 35.2913)\"><g class=\"a10 c2 node n8 p0\" transform=\"translate(39.2 22.6576)\"><g class=\"a8 i1 leaf node n3 p0 sample\" transform=\"translate(16.8 63.4511)\"><path class=\"edge\" d=\"M 0 0 V -63.4511 H -16.8\" /><rect class=\"sym\" height=\"6\" width=\"6\" x=\"-3\" y=\"-3\" /><text class=\"lab\" transform=\"translate(0 11)\">3</text></g><g class=\"a8 c2 node n6 p0\" transform=\"translate(-16.8 22.7955)\"><g class=\"a6 i1 leaf node n2 p0 sample\" transform=\"translate(-11.2 40.6556)\"><path class=\"edge\" d=\"M 0 0 V -40.6556 H 11.2\" /><rect class=\"sym\" height=\"6\" width=\"6\" x=\"-3\" y=\"-3\" /><text class=\"lab\" transform=\"translate(0 11)\">2</text></g><g class=\"a6 i2 leaf node n5 p0 sample\" transform=\"translate(11.2 40.6556)\"><path class=\"edge\" d=\"M 0 0 V -40.6556 H -11.2\" /><rect class=\"sym\" height=\"6\" width=\"6\" x=\"-3\" y=\"-3\" /><text class=\"lab\" transform=\"translate(0 11)\">5</text></g><path class=\"edge\" d=\"M 0 0 V -22.7955 H 16.8\" /><circle class=\"sym\" cx=\"0\" cy=\"0\" r=\"3\" /><text class=\"lab lft\" transform=\"translate(-3 -7.0)\">6</text></g><path class=\"edge\" d=\"M 0 0 V -22.6576 H -39.2\" /><circle class=\"sym\" cx=\"0\" cy=\"0\" r=\"3\" /><text class=\"lab rgt\" transform=\"translate(3 -7.0)\">8</text></g><g class=\"a10 c2 node n9 p0\" transform=\"translate(-39.2 1.98569)\"><g class=\"a9 i0 leaf node n0 p0 sample\" transform=\"translate(-16.8 84.123)\"><path class=\"edge\" d=\"M 0 0 V -84.123 H 16.8\" /><rect class=\"sym\" height=\"6\" width=\"6\" x=\"-3\" y=\"-3\" /><text class=\"lab\" transform=\"translate(0 11)\">0</text></g><g class=\"a9 c2 node n7 p0\" transform=\"translate(16.8 28.9543)\"><g class=\"a7 i0 leaf node n1 p0 sample\" transform=\"translate(-11.2 55.1687)\"><path class=\"edge\" d=\"M 0 0 V -55.1687 H 11.2\" /><rect class=\"sym\" height=\"6\" width=\"6\" x=\"-3\" y=\"-3\" /><text class=\"lab\" transform=\"translate(0 11)\">1</text></g><g class=\"a7 i2 leaf node n4 p0 sample\" transform=\"translate(11.2 55.1687)\"><path class=\"edge\" d=\"M 0 0 V -55.1687 H -11.2\" /><rect class=\"sym\" height=\"6\" width=\"6\" x=\"-3\" y=\"-3\" /><text class=\"lab\" transform=\"translate(0 11)\">4</text></g><path class=\"edge\" d=\"M 0 0 V -28.9543 H -16.8\" /><circle class=\"sym\" cx=\"0\" cy=\"0\" r=\"3\" /><text class=\"lab rgt\" transform=\"translate(3 -7.0)\">7</text></g><path class=\"edge\" d=\"M 0 0 V -1.98569 H 39.2\" /><circle class=\"sym\" cx=\"0\" cy=\"0\" r=\"3\" /><text class=\"lab lft\" transform=\"translate(-3 -7.0)\">9</text></g><circle class=\"sym\" cx=\"0\" cy=\"0\" r=\"3\" /><text class=\"lab\" transform=\"translate(0 -11)\">10</text></g></g></g><g class=\"tree t2\" transform=\"translate(405.6 0)\"><g class=\"plotbox\"><g class=\"c2 node n11 p0 root\" transform=\"translate(87.2 26.8)\"><g class=\"a11 c2 m0 node n8 p0 s0\" transform=\"translate(39.2 31.1489)\"><g class=\"a8 i1 leaf node n3 p0 sample\" transform=\"translate(16.8 63.4511)\"><path class=\"edge\" d=\"M 0 0 V -63.4511 H -16.8\" /><rect class=\"sym\" height=\"6\" width=\"6\" x=\"-3\" y=\"-3\" /><text class=\"lab\" transform=\"translate(0 11)\">3</text></g><g class=\"a8 c2 node n6 p0\" transform=\"translate(-16.8 22.7955)\"><g class=\"a6 i1 leaf node n2 p0 sample\" transform=\"translate(-11.2 40.6556)\"><path class=\"edge\" d=\"M 0 0 V -40.6556 H 11.2\" /><rect class=\"sym\" height=\"6\" width=\"6\" x=\"-3\" y=\"-3\" /><text class=\"lab\" transform=\"translate(0 11)\">2</text></g><g class=\"a6 i2 leaf node n5 p0 sample\" transform=\"translate(11.2 40.6556)\"><path class=\"edge\" d=\"M 0 0 V -40.6556 H -11.2\" /><rect class=\"sym\" height=\"6\" width=\"6\" x=\"-3\" y=\"-3\" /><text class=\"lab\" transform=\"translate(0 11)\">5</text></g><path class=\"edge\" d=\"M 0 0 V -22.7955 H 16.8\" /><circle class=\"sym\" cx=\"0\" cy=\"0\" r=\"3\" /><text class=\"lab lft\" transform=\"translate(-3 -7.0)\">6</text></g><path class=\"edge\" d=\"M 0 0 V -31.1489 H -39.2\" /><g class=\"mut m0 s0 unknown_time\" transform=\"translate(0 -22.6051)\"><line x1=\"0\" x2=\"0\" y1=\"0\" y2=\"22.6051\" /><path class=\"sym\" d=\"M -3,-3 l 6,6 M -3,3 l 6,-6\" /><text class=\"lab rgt\" transform=\"translate(5 0)\">0</text></g><circle class=\"sym\" cx=\"0\" cy=\"0\" r=\"3\" /><text class=\"lab rgt\" transform=\"translate(3 -7.0)\">8</text></g><g class=\"a11 c2 node n9 p0\" transform=\"translate(-39.2 10.477)\"><g class=\"a9 i0 leaf node n0 p0 sample\" transform=\"translate(-16.8 84.123)\"><path class=\"edge\" d=\"M 0 0 V -84.123 H 16.8\" /><rect class=\"sym\" height=\"6\" width=\"6\" x=\"-3\" y=\"-3\" /><text class=\"lab\" transform=\"translate(0 11)\">0</text></g><g class=\"a9 c2 node n7 p0\" transform=\"translate(16.8 28.9543)\"><g class=\"a7 i0 leaf node n1 p0 sample\" transform=\"translate(-11.2 55.1687)\"><path class=\"edge\" d=\"M 0 0 V -55.1687 H 11.2\" /><rect class=\"sym\" height=\"6\" width=\"6\" x=\"-3\" y=\"-3\" /><text class=\"lab\" transform=\"translate(0 11)\">1</text></g><g class=\"a7 i2 leaf node n4 p0 sample\" transform=\"translate(11.2 55.1687)\"><path class=\"edge\" d=\"M 0 0 V -55.1687 H -11.2\" /><rect class=\"sym\" height=\"6\" width=\"6\" x=\"-3\" y=\"-3\" /><text class=\"lab\" transform=\"translate(0 11)\">4</text></g><path class=\"edge\" d=\"M 0 0 V -28.9543 H -16.8\" /><circle class=\"sym\" cx=\"0\" cy=\"0\" r=\"3\" /><text class=\"lab rgt\" transform=\"translate(3 -7.0)\">7</text></g><path class=\"edge\" d=\"M 0 0 V -10.477 H 39.2\" /><circle class=\"sym\" cx=\"0\" cy=\"0\" r=\"3\" /><text class=\"lab lft\" transform=\"translate(-3 -7.0)\">9</text></g><circle class=\"sym\" cx=\"0\" cy=\"0\" r=\"3\" /><text class=\"lab\" transform=\"translate(0 -11)\">11</text></g></g></g></g></g></svg>"
      ],
      "text/plain": [
       "'<svg baseProfile=\"full\" height=\"200\" version=\"1.1\" width=\"600\" xmlns=\"http://www.w3.org/2000/svg\" xmlns:ev=\"http://www.w3.org/2001/xml-events\" xmlns:xlink=\"http://www.w3.org/1999/xlink\"><defs><style type=\"text/css\"><![CDATA[.background path {fill: #808080; fill-opacity: 0}.background path:nth-child(odd) {fill-opacity: .1}.axes {font-size: 14px}.x-axis .tick .lab {font-weight: bold; dominant-baseline: hanging}.axes, .tree {font-size: 14px; text-anchor: middle}.axes line, .edge {stroke: black; fill: none}.y-axis .grid {stroke: #FAFAFA}.node > .sym {fill: black; stroke: none}.site > .sym {stroke: black}.mut text {fill: red; font-style: italic}.mut.extra text {fill: hotpink}.mut line {fill: none; stroke: none}.mut .sym {fill: none; stroke: red}.mut.extra .sym {stroke: hotpink}.node .mut .sym {stroke-width: 1.5px}.tree text, .tree-sequence text {dominant-baseline: central}.plotbox .lab.lft {text-anchor: end}.plotbox .lab.rgt {text-anchor: start}.mut, .site {display: none}]]></style></defs><g class=\"tree-sequence\"><g class=\"background\"><path d=\"M56.8,0 l174.4,0 l0,138.2 l-13.7776,25 l0,5 l-160.622,0 l0,-5 l0,-25 l0,-138.2z\" /><path d=\"M231.2,0 l174.4,0 l0,138.2 l-52.1456,25 l0,5 l-136.032,0 l0,-5 l13.7776,-25 l0,-138.2z\" /><path d=\"M405.6,0 l174.4,0 l0,138.2 l0,25 l0,5 l-226.546,0 l0,-5 l52.1456,-25 l0,-138.2z\" /></g><g class=\"axes\"><g class=\"x-axis\"><g transform=\"translate(318.4 200)\"><text class=\"lab\" text-anchor=\"middle\" transform=\"translate(0 -11)\">Genome position</text></g><line x1=\"56.8\" x2=\"580\" y1=\"163.2\" y2=\"163.2\" /><g class=\"ticks\"><g class=\"tick\" transform=\"translate(56.8 163.2)\"><line x1=\"0\" x2=\"0\" y1=\"0\" y2=\"5\" /><g transform=\"translate(0 6)\"><text class=\"lab\">0</text></g></g><g class=\"tick\" transform=\"translate(217.422 163.2)\"><line x1=\"0\" x2=\"0\" y1=\"0\" y2=\"5\" /><g transform=\"translate(0 6)\"><text class=\"lab\">307</text></g></g><g class=\"tick\" transform=\"translate(353.454 163.2)\"><line x1=\"0\" x2=\"0\" y1=\"0\" y2=\"5\" /><g transform=\"translate(0 6)\"><text class=\"lab\">567</text></g></g><g class=\"tick\" transform=\"translate(580 163.2)\"><line x1=\"0\" x2=\"0\" y1=\"0\" y2=\"5\" /><g transform=\"translate(0 6)\"><text class=\"lab\">1000</text></g></g></g><g class=\"site s0\" transform=\"translate(449.723 163.2)\"><line class=\"sym\" x1=\"0\" x2=\"0\" y1=\"0\" y2=\"-10\" /><g class=\"mut m0\"><polyline class=\"sym\" points=\"2.5,-6.5 0,-1.5 -2.5,-6.5\" /></g></g></g><g class=\"y-axis\"><g transform=\"translate(0 65.7)\"><text class=\"lab\" text-anchor=\"middle\" transform=\"translate(11) rotate(-90)\">Time (generations)</text></g><line x1=\"56.8\" x2=\"56.8\" y1=\"121.4\" y2=\"10\" /><g class=\"ticks\"><g class=\"tick\" transform=\"translate(56.8 121.4)\"><line class=\"grid\" x1=\"0\" x2=\"523.2\" y1=\"0\" y2=\"0\" /><line x1=\"0\" x2=\"-5\" y1=\"0\" y2=\"0\" /><g transform=\"translate(-6 0)\"><text class=\"lab\" text-anchor=\"end\">0</text></g></g><g class=\"tick\" transform=\"translate(56.8 100.933)\"><line class=\"grid\" x1=\"0\" x2=\"523.2\" y1=\"0\" y2=\"0\" /><line x1=\"0\" x2=\"-5\" y1=\"0\" y2=\"0\" /><g transform=\"translate(-6 0)\"><text class=\"lab\" text-anchor=\"end\">3</text></g></g><g class=\"tick\" transform=\"translate(56.8 85.9974)\"><line class=\"grid\" x1=\"0\" x2=\"523.2\" y1=\"0\" y2=\"0\" /><line x1=\"0\" x2=\"-5\" y1=\"0\" y2=\"0\" /><g transform=\"translate(-6 0)\"><text class=\"lab\" text-anchor=\"end\">10</text></g></g><g class=\"tick\" transform=\"translate(56.8 70.7006)\"><line class=\"grid\" x1=\"0\" x2=\"523.2\" y1=\"0\" y2=\"0\" /><line x1=\"0\" x2=\"-5\" y1=\"0\" y2=\"0\" /><g transform=\"translate(-6 0)\"><text class=\"lab\" text-anchor=\"end\">30</text></g></g><g class=\"tick\" transform=\"translate(56.8 53.2623)\"><line class=\"grid\" x1=\"0\" x2=\"523.2\" y1=\"0\" y2=\"0\" /><line x1=\"0\" x2=\"-5\" y1=\"0\" y2=\"0\" /><g transform=\"translate(-6 0)\"><text class=\"lab\" text-anchor=\"end\">100</text></g></g><g class=\"tick\" transform=\"translate(56.8 37.1402)\"><line class=\"grid\" x1=\"0\" x2=\"523.2\" y1=\"0\" y2=\"0\" /><line x1=\"0\" x2=\"-5\" y1=\"0\" y2=\"0\" /><g transform=\"translate(-6 0)\"><text class=\"lab\" text-anchor=\"end\">300</text></g></g><g class=\"tick\" transform=\"translate(56.8 19.3991)\"><line class=\"grid\" x1=\"0\" x2=\"523.2\" y1=\"0\" y2=\"0\" /><line x1=\"0\" x2=\"-5\" y1=\"0\" y2=\"0\" /><g transform=\"translate(-6 0)\"><text class=\"lab\" text-anchor=\"end\">1000</text></g></g></g></g></g><g class=\"plotbox trees\"><g class=\"tree t0\" transform=\"translate(56.8 0)\"><g class=\"plotbox\"><g class=\"c2 node n11 p0 root\" transform=\"translate(94.2 26.8)\"><g class=\"a11 c2 node n7 p0\" transform=\"translate(37.8 39.4313)\"><g class=\"a7 i0 leaf node n1 p0 sample\" transform=\"translate(-11.2 55.1687)\"><path class=\"edge\" d=\"M 0 0 V -55.1687 H 11.2\" /><rect class=\"sym\" height=\"6\" width=\"6\" x=\"-3\" y=\"-3\" /><text class=\"lab\" transform=\"translate(0 11)\">1</text></g><g class=\"a7 i2 leaf node n4 p0 sample\" transform=\"translate(11.2 55.1687)\"><path class=\"edge\" d=\"M 0 0 V -55.1687 H -11.2\" /><rect class=\"sym\" height=\"6\" width=\"6\" x=\"-3\" y=\"-3\" /><text class=\"lab\" transform=\"translate(0 11)\">4</text></g><path class=\"edge\" d=\"M 0 0 V -39.4313 H -37.8\" /><circle class=\"sym\" cx=\"0\" cy=\"0\" r=\"3\" /><text class=\"lab rgt\" transform=\"translate(3 -7.0)\">7</text></g><g class=\"a11 c2 node n10 p0\" transform=\"translate(-37.8 8.49131)\"><g class=\"a10 i0 leaf node n0 p0 sample\" transform=\"translate(-25.2 86.1087)\"><path class=\"edge\" d=\"M 0 0 V -86.1087 H 25.2\" /><rect class=\"sym\" height=\"6\" width=\"6\" x=\"-3\" y=\"-3\" /><text class=\"lab\" transform=\"translate(0 11)\">0</text></g><g class=\"a10 c2 node n8 p0\" transform=\"translate(25.2 22.6576)\"><g class=\"a8 i1 leaf node n3 p0 sample\" transform=\"translate(16.8 63.4511)\"><path class=\"edge\" d=\"M 0 0 V -63.4511 H -16.8\" /><rect class=\"sym\" height=\"6\" width=\"6\" x=\"-3\" y=\"-3\" /><text class=\"lab\" transform=\"translate(0 11)\">3</text></g><g class=\"a8 c2 node n6 p0\" transform=\"translate(-16.8 22.7955)\"><g class=\"a6 i1 leaf node n2 p0 sample\" transform=\"translate(-11.2 40.6556)\"><path class=\"edge\" d=\"M 0 0 V -40.6556 H 11.2\" /><rect class=\"sym\" height=\"6\" width=\"6\" x=\"-3\" y=\"-3\" /><text class=\"lab\" transform=\"translate(0 11)\">2</text></g><g class=\"a6 i2 leaf node n5 p0 sample\" transform=\"translate(11.2 40.6556)\"><path class=\"edge\" d=\"M 0 0 V -40.6556 H -11.2\" /><rect class=\"sym\" height=\"6\" width=\"6\" x=\"-3\" y=\"-3\" /><text class=\"lab\" transform=\"translate(0 11)\">5</text></g><path class=\"edge\" d=\"M 0 0 V -22.7955 H 16.8\" /><circle class=\"sym\" cx=\"0\" cy=\"0\" r=\"3\" /><text class=\"lab lft\" transform=\"translate(-3 -7.0)\">6</text></g><path class=\"edge\" d=\"M 0 0 V -22.6576 H -25.2\" /><circle class=\"sym\" cx=\"0\" cy=\"0\" r=\"3\" /><text class=\"lab rgt\" transform=\"translate(3 -7.0)\">8</text></g><path class=\"edge\" d=\"M 0 0 V -8.49131 H 37.8\" /><circle class=\"sym\" cx=\"0\" cy=\"0\" r=\"3\" /><text class=\"lab lft\" transform=\"translate(-3 -7.0)\">10</text></g><circle class=\"sym\" cx=\"0\" cy=\"0\" r=\"3\" /><text class=\"lab\" transform=\"translate(0 -11)\">11</text></g></g></g><g class=\"tree t1\" transform=\"translate(231.2 0)\"><g class=\"plotbox\"><g class=\"c2 node n10 p0 root\" transform=\"translate(87.2 35.2913)\"><g class=\"a10 c2 node n8 p0\" transform=\"translate(39.2 22.6576)\"><g class=\"a8 i1 leaf node n3 p0 sample\" transform=\"translate(16.8 63.4511)\"><path class=\"edge\" d=\"M 0 0 V -63.4511 H -16.8\" /><rect class=\"sym\" height=\"6\" width=\"6\" x=\"-3\" y=\"-3\" /><text class=\"lab\" transform=\"translate(0 11)\">3</text></g><g class=\"a8 c2 node n6 p0\" transform=\"translate(-16.8 22.7955)\"><g class=\"a6 i1 leaf node n2 p0 sample\" transform=\"translate(-11.2 40.6556)\"><path class=\"edge\" d=\"M 0 0 V -40.6556 H 11.2\" /><rect class=\"sym\" height=\"6\" width=\"6\" x=\"-3\" y=\"-3\" /><text class=\"lab\" transform=\"translate(0 11)\">2</text></g><g class=\"a6 i2 leaf node n5 p0 sample\" transform=\"translate(11.2 40.6556)\"><path class=\"edge\" d=\"M 0 0 V -40.6556 H -11.2\" /><rect class=\"sym\" height=\"6\" width=\"6\" x=\"-3\" y=\"-3\" /><text class=\"lab\" transform=\"translate(0 11)\">5</text></g><path class=\"edge\" d=\"M 0 0 V -22.7955 H 16.8\" /><circle class=\"sym\" cx=\"0\" cy=\"0\" r=\"3\" /><text class=\"lab lft\" transform=\"translate(-3 -7.0)\">6</text></g><path class=\"edge\" d=\"M 0 0 V -22.6576 H -39.2\" /><circle class=\"sym\" cx=\"0\" cy=\"0\" r=\"3\" /><text class=\"lab rgt\" transform=\"translate(3 -7.0)\">8</text></g><g class=\"a10 c2 node n9 p0\" transform=\"translate(-39.2 1.98569)\"><g class=\"a9 i0 leaf node n0 p0 sample\" transform=\"translate(-16.8 84.123)\"><path class=\"edge\" d=\"M 0 0 V -84.123 H 16.8\" /><rect class=\"sym\" height=\"6\" width=\"6\" x=\"-3\" y=\"-3\" /><text class=\"lab\" transform=\"translate(0 11)\">0</text></g><g class=\"a9 c2 node n7 p0\" transform=\"translate(16.8 28.9543)\"><g class=\"a7 i0 leaf node n1 p0 sample\" transform=\"translate(-11.2 55.1687)\"><path class=\"edge\" d=\"M 0 0 V -55.1687 H 11.2\" /><rect class=\"sym\" height=\"6\" width=\"6\" x=\"-3\" y=\"-3\" /><text class=\"lab\" transform=\"translate(0 11)\">1</text></g><g class=\"a7 i2 leaf node n4 p0 sample\" transform=\"translate(11.2 55.1687)\"><path class=\"edge\" d=\"M 0 0 V -55.1687 H -11.2\" /><rect class=\"sym\" height=\"6\" width=\"6\" x=\"-3\" y=\"-3\" /><text class=\"lab\" transform=\"translate(0 11)\">4</text></g><path class=\"edge\" d=\"M 0 0 V -28.9543 H -16.8\" /><circle class=\"sym\" cx=\"0\" cy=\"0\" r=\"3\" /><text class=\"lab rgt\" transform=\"translate(3 -7.0)\">7</text></g><path class=\"edge\" d=\"M 0 0 V -1.98569 H 39.2\" /><circle class=\"sym\" cx=\"0\" cy=\"0\" r=\"3\" /><text class=\"lab lft\" transform=\"translate(-3 -7.0)\">9</text></g><circle class=\"sym\" cx=\"0\" cy=\"0\" r=\"3\" /><text class=\"lab\" transform=\"translate(0 -11)\">10</text></g></g></g><g class=\"tree t2\" transform=\"translate(405.6 0)\"><g class=\"plotbox\"><g class=\"c2 node n11 p0 root\" transform=\"translate(87.2 26.8)\"><g class=\"a11 c2 m0 node n8 p0 s0\" transform=\"translate(39.2 31.1489)\"><g class=\"a8 i1 leaf node n3 p0 sample\" transform=\"translate(16.8 63.4511)\"><path class=\"edge\" d=\"M 0 0 V -63.4511 H -16.8\" /><rect class=\"sym\" height=\"6\" width=\"6\" x=\"-3\" y=\"-3\" /><text class=\"lab\" transform=\"translate(0 11)\">3</text></g><g class=\"a8 c2 node n6 p0\" transform=\"translate(-16.8 22.7955)\"><g class=\"a6 i1 leaf node n2 p0 sample\" transform=\"translate(-11.2 40.6556)\"><path class=\"edge\" d=\"M 0 0 V -40.6556 H 11.2\" /><rect class=\"sym\" height=\"6\" width=\"6\" x=\"-3\" y=\"-3\" /><text class=\"lab\" transform=\"translate(0 11)\">2</text></g><g class=\"a6 i2 leaf node n5 p0 sample\" transform=\"translate(11.2 40.6556)\"><path class=\"edge\" d=\"M 0 0 V -40.6556 H -11.2\" /><rect class=\"sym\" height=\"6\" width=\"6\" x=\"-3\" y=\"-3\" /><text class=\"lab\" transform=\"translate(0 11)\">5</text></g><path class=\"edge\" d=\"M 0 0 V -22.7955 H 16.8\" /><circle class=\"sym\" cx=\"0\" cy=\"0\" r=\"3\" /><text class=\"lab lft\" transform=\"translate(-3 -7.0)\">6</text></g><path class=\"edge\" d=\"M 0 0 V -31.1489 H -39.2\" /><g class=\"mut m0 s0 unknown_time\" transform=\"translate(0 -22.6051)\"><line x1=\"0\" x2=\"0\" y1=\"0\" y2=\"22.6051\" /><path class=\"sym\" d=\"M -3,-3 l 6,6 M -3,3 l 6,-6\" /><text class=\"lab rgt\" transform=\"translate(5 0)\">0</text></g><circle class=\"sym\" cx=\"0\" cy=\"0\" r=\"3\" /><text class=\"lab rgt\" transform=\"translate(3 -7.0)\">8</text></g><g class=\"a11 c2 node n9 p0\" transform=\"translate(-39.2 10.477)\"><g class=\"a9 i0 leaf node n0 p0 sample\" transform=\"translate(-16.8 84.123)\"><path class=\"edge\" d=\"M 0 0 V -84.123 H 16.8\" /><rect class=\"sym\" height=\"6\" width=\"6\" x=\"-3\" y=\"-3\" /><text class=\"lab\" transform=\"translate(0 11)\">0</text></g><g class=\"a9 c2 node n7 p0\" transform=\"translate(16.8 28.9543)\"><g class=\"a7 i0 leaf node n1 p0 sample\" transform=\"translate(-11.2 55.1687)\"><path class=\"edge\" d=\"M 0 0 V -55.1687 H 11.2\" /><rect class=\"sym\" height=\"6\" width=\"6\" x=\"-3\" y=\"-3\" /><text class=\"lab\" transform=\"translate(0 11)\">1</text></g><g class=\"a7 i2 leaf node n4 p0 sample\" transform=\"translate(11.2 55.1687)\"><path class=\"edge\" d=\"M 0 0 V -55.1687 H -11.2\" /><rect class=\"sym\" height=\"6\" width=\"6\" x=\"-3\" y=\"-3\" /><text class=\"lab\" transform=\"translate(0 11)\">4</text></g><path class=\"edge\" d=\"M 0 0 V -28.9543 H -16.8\" /><circle class=\"sym\" cx=\"0\" cy=\"0\" r=\"3\" /><text class=\"lab rgt\" transform=\"translate(3 -7.0)\">7</text></g><path class=\"edge\" d=\"M 0 0 V -10.477 H 39.2\" /><circle class=\"sym\" cx=\"0\" cy=\"0\" r=\"3\" /><text class=\"lab lft\" transform=\"translate(-3 -7.0)\">9</text></g><circle class=\"sym\" cx=\"0\" cy=\"0\" r=\"3\" /><text class=\"lab\" transform=\"translate(0 -11)\">11</text></g></g></g></g></g></svg>'"
      ]
     },
     "execution_count": 14,
     "metadata": {
      "filenames": {
       "image/svg+xml": "/home/runner/work/tutorials/tutorials/_build/jupyter_execute/terminology_and_concepts_27_0.svg"
      }
     },
     "output_type": "execute_result"
    }
   ],
   "source": [
    "ts.draw_svg(\n",
    "    y_axis=True,\n",
    "    y_gridlines=True,\n",
    "    time_scale=\"log_time\",\n",
    "    y_ticks=[0, 3, 10, 30, 100, 300,1000],\n",
    "    style=\".mut, .site {display: none}\",\n",
    ")"
   ]
  },
  {
   "cell_type": "markdown",
   "id": "ea357f0e",
   "metadata": {},
   "source": [
    "Note that all these trees show strictly bifurcating splits, but this does not need to be\n",
    "the case for tree sequences in general. In particular, where tree sequences have been\n",
    "created by the multiple-merger coalecent process, or in tree\n",
    "sequences that have been inferred from real data, it is possible to have a parent node\n",
    "with 3 or more children in a particular tree (these are known as *polytomies*).\n",
    "\n",
    "\n",
    "(sec_concepts_sprs)=\n",
    "\n",
    "### Tree changes, ancestral recombinations, and SPRs\n",
    "\n",
    "The reason that tree sequences are efficient is that very few edges\n",
    "{ref}`change from tree to tree<fig_what_is_edge_diffs>`. More specifically, recombination\n",
    "results in adjacent trees that differ by only a few \"tree edit\" or SPR\n",
    "(subtree-prune-and-regraft) operations. This is seen in the example tree sequence above.\n",
    "\n",
    "In this (simulated) tree sequence, each tree differs from the next by a single SPR.\n",
    "The subtree defined by node 7 in the first tree has been pruned and regrafted onto the\n",
    "branch between 0 and 10, to create the second tree. The second and third trees have the\n",
    "same topology, but differ because their ultimate coalesence happened in a different\n",
    "ancestor (easy to spot in a simulation, but hard to detect in real data). This is also\n",
    "caused by a single SPR: looking at the second tree, either the subtree below node 8 or\n",
    "the subtree below node 9 must have been pruned and regrafted higher up on the same\n",
    "lineage to create the third tree. Because this is a fully {ref}`simplified<sec_simplification>`\n",
    "tree sequence, it is impossible to tell which of these two possible SPRs occurred. To\n",
    "know this, we would need to have a tree sequence with the exact history of recombinations\n",
    "recorded (see below).\n",
    "\n",
    "In general, each detectable recombination occurring in ancestral history results in a\n",
    "single SPR in the tree sequence. If recombination breakpoints occurs at unique\n",
    "positions (an \"infinite sites\" model of breakpoints), then the number of trees in a tree\n",
    "sequence equals the number of ancestral recombination events plus one. If recombinations\n",
    "can occur at the same physical position (e.g. if the genome is treated as a set of\n",
    "discrete integer positions, as in the simulation that created this tree sequence) then\n",
    "moving from  one tree to the next in a tree sequence might require multiple SPRs if\n",
    "there are multiple, overlaid ancestral recombination events.\n",
    "\n",
    "(sec_concepts_args)=\n",
    "\n",
    "### Tree sequences and ARGs\n",
    "\n",
    "Much of the literature on ancestral inference concentrates on the Ancestral Recombination\n",
    "Graph, or ARG, in which details of the position and potentially the timing of\n",
    "recombination events are explictly stored. Although a tree sequence *can* represent such\n",
    "an ARG, by incorporating nodes that represent recombination events (see the\n",
    "{ref}`sec_args` tutorial), this is not normally done for two reasons:\n",
    "\n",
    "1. Many recombination events are undetectable from sequence data, and even if they are\n",
    "   detectable, they can be logically impossible to place in the genealogy (as in the\n",
    "   second SPR example above).\n",
    "2. The number of recombination events in the genealogy can grow to dominate the total\n",
    "   number of nodes in the total tree sequence, without actually contributing to the\n",
    "   realised sequences in the samples. In other words, recombination nodes are redundant\n",
    "   to the storing of genome data.\n",
    "\n",
    "Therefore, compared to an ARG, you can think of a standard tree sequence as simply\n",
    "storing the trees *created by* recombination events, rather than attempting to record the\n",
    "recombination events themselves. The actual recombination events can be sometimes be\n",
    "inferred from these trees but, as we have seen, it's not always possible. Here's another\n",
    "way to put it:\n",
    "\n",
    "> \"an ARG encodes the events that occurred in the history of a sample,\n",
    "> whereas a tree sequence encodes the outcome of those events\"\n",
    "> ([Kelleher _et al._, 2019](https://doi.org/10.1534/genetics.120.303253))\n",
    "\n",
    "\n",
    "### Tables\n",
    "\n",
    "The underlying data in a tree sequence are stored in a collection of tables. Details of\n",
    "these tables, as well as some basic properties of the tree sequence which they encode,\n",
    "are shown when printing a tree sequence to the screen:"
   ]
  },
  {
   "cell_type": "code",
   "execution_count": 15,
   "id": "e8cac5cc",
   "metadata": {},
   "outputs": [
    {
     "data": {
      "text/html": [
       "\n",
       "<div>\n",
       "  <style>\n",
       "    .tskit-table thead tr th {text-align: left;padding: 0.5em 0.5em;}\n",
       "    .tskit-table tbody tr td {padding: 0.5em 0.5em;}\n",
       "    .tskit-table tbody tr td:first-of-type {text-align: left;}\n",
       "    .tskit-details-label {vertical-align: top; padding-right:5px;}\n",
       "    .tskit-table-set {display: inline-flex;flex-wrap: wrap;margin: -12px 0 0 -12px;width: calc(100% + 12px);}\n",
       "    .tskit-table-set-table {margin: 12px 0 0 12px;}\n",
       "    details {display: inline-block;}\n",
       "    summary {cursor: pointer; outline: 0; display: list-item;}\n",
       "  </style>\n",
       "  <div class=\"tskit-table-set\">\n",
       "    <div class=\"tskit-table-set-table\">\n",
       "      <table class=\"tskit-table\">\n",
       "        <thead>\n",
       "          <tr>\n",
       "            <th style=\"padding:0;line-height:21px;\">\n",
       "              <img style=\"height: 32px;display: inline-block;padding: 3px 5px 3px 0;\" src=\"https://raw.githubusercontent.com/tskit-dev/administrative/main/tskit_logo.svg\"/>\n",
       "              <a target=\"_blank\" href=\"https://tskit.dev/tskit/docs/latest/python-api.html#the-treesequence-class\"> Tree Sequence </a>\n",
       "            </th>\n",
       "          </tr>\n",
       "        </thead>\n",
       "        <tbody>\n",
       "          <tr><td>Trees</td><td>3</td></tr>\n",
       "          <tr><td>Sequence Length</td><td>1000.0</td></tr>\n",
       "          <tr><td>Time Units</td><td>generations</td></tr>\n",
       "          <tr><td>Sample Nodes</td><td>6</td></tr>\n",
       "          <tr><td>Total Size</td><td>3.7 KiB</td></tr>\n",
       "          <tr>\n",
       "            <td>Metadata</td><td style=\"text-align: left;\">No Metadata</td></tr>\n",
       "        </tbody>\n",
       "      </table>\n",
       "    </div>\n",
       "    <div class=\"tskit-table-set-table\">\n",
       "      <table class=\"tskit-table\">\n",
       "        <thead>\n",
       "          <tr>\n",
       "            <th style=\"line-height:21px;\">Table</th>\n",
       "            <th>Rows</th>\n",
       "            <th>Size</th>\n",
       "            <th>Has Metadata</th>\n",
       "          </tr>\n",
       "        </thead>\n",
       "        <tbody>\n",
       "\n",
       "      <tr>\n",
       "        <td>Edges</td>\n",
       "          <td>15</td>\n",
       "          <td>488 Bytes</td>\n",
       "          <td style=\"text-align: center;\">\n",
       "\n",
       "          </td>\n",
       "        </tr>\n",
       "\n",
       "      <tr>\n",
       "        <td>Individuals</td>\n",
       "          <td>3</td>\n",
       "          <td>166 Bytes</td>\n",
       "          <td style=\"text-align: center;\">\n",
       "            ✅\n",
       "          </td>\n",
       "        </tr>\n",
       "\n",
       "      <tr>\n",
       "        <td>Migrations</td>\n",
       "          <td>0</td>\n",
       "          <td>8 Bytes</td>\n",
       "          <td style=\"text-align: center;\">\n",
       "\n",
       "          </td>\n",
       "        </tr>\n",
       "\n",
       "      <tr>\n",
       "        <td>Mutations</td>\n",
       "          <td>1</td>\n",
       "          <td>53 Bytes</td>\n",
       "          <td style=\"text-align: center;\">\n",
       "\n",
       "          </td>\n",
       "        </tr>\n",
       "\n",
       "      <tr>\n",
       "        <td>Nodes</td>\n",
       "          <td>12</td>\n",
       "          <td>344 Bytes</td>\n",
       "          <td style=\"text-align: center;\">\n",
       "\n",
       "          </td>\n",
       "        </tr>\n",
       "\n",
       "      <tr>\n",
       "        <td>Populations</td>\n",
       "          <td>1</td>\n",
       "          <td>255 Bytes</td>\n",
       "          <td style=\"text-align: center;\">\n",
       "            ✅\n",
       "          </td>\n",
       "        </tr>\n",
       "\n",
       "      <tr>\n",
       "        <td>Provenances</td>\n",
       "          <td>3</td>\n",
       "          <td>2.2 KiB</td>\n",
       "          <td style=\"text-align: center;\">\n",
       "\n",
       "          </td>\n",
       "        </tr>\n",
       "\n",
       "      <tr>\n",
       "        <td>Sites</td>\n",
       "          <td>1</td>\n",
       "          <td>41 Bytes</td>\n",
       "          <td style=\"text-align: center;\">\n",
       "\n",
       "          </td>\n",
       "        </tr>\n",
       "\n",
       "        </tbody>\n",
       "      </table>\n",
       "    </div>\n",
       "  </div>\n",
       "</div>\n"
      ],
      "text/plain": [
       "<tskit.trees.TreeSequence at 0x7f2e247f62b0>"
      ]
     },
     "execution_count": 15,
     "metadata": {},
     "output_type": "execute_result"
    }
   ],
   "source": [
    "ts  # or use `print(ts)` for the plain text representation"
   ]
  },
  {
   "cell_type": "markdown",
   "id": "eec1dc7e",
   "metadata": {},
   "source": [
    "There is a separate API for dealing with a tree sequence as a collection of tables,\n",
    "which can be useful for dealing with large datasets, and is needed if you want to\n",
    "{ref}`edit<sec_tables_editing>` an existing tree sequence. This is covered in\n",
    "the {ref}`sec_tables` tutorial."
   ]
  }
 ],
 "metadata": {
  "jupytext": {
   "text_representation": {
    "extension": ".md",
    "format_name": "myst",
    "format_version": 0.12,
    "jupytext_version": "1.9.1"
   }
  },
  "kernelspec": {
   "display_name": "Python 3",
   "language": "python",
   "name": "python3"
  },
  "language_info": {
   "codemirror_mode": {
    "name": "ipython",
    "version": 3
   },
   "file_extension": ".py",
   "mimetype": "text/x-python",
   "name": "python",
   "nbconvert_exporter": "python",
   "pygments_lexer": "ipython3",
   "version": "3.8.14"
  },
  "source_map": [
   12,
   17,
   58,
   88,
   92,
   113,
   115,
   119,
   127,
   162,
   164,
   186,
   188,
   220,
   223,
   236,
   241,
   261,
   265,
   271,
   288,
   294,
   298,
   311,
   315,
   323,
   325,
   365,
   374,
   448,
   450
  ]
 },
 "nbformat": 4,
 "nbformat_minor": 5
}