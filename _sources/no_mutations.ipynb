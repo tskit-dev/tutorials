{
 "cells": [
  {
   "cell_type": "markdown",
   "id": "5126f4a0",
   "metadata": {},
   "source": [
    "```{currentmodule} tskit\n",
    "```\n",
    "\n",
    "(sec_tskit_no_mutations)=\n",
    "\n",
    "# Do you really need mutations?\n",
    "\n",
    "In tree sequences, the genetic genealogy exists independently of the mutations that\n",
    "generate genetic variation, and often we are primarily interested in genetic variation\n",
    "because of what it can tell us about those genealogies. This tutorial aims to illustrate\n",
    "when we can leave mutations and genetic variation aside and study the genealogies directly.\n",
    "\n",
    "In simulations we know the true genealogies, and so it can be very helpful to work\n",
    "with these directly. \n",
    "In real data, we might infer the trees and then work with the resulting genealogies.\n",
    "(Of course, mutations add additional noise, and would be necessary\n",
    "to produce data directly comparable to sequencing data.)\n",
    "If you're wondering whether you need to add mutations at all,\n",
    "it's worth considering the following points:\n",
    "\n",
    "1. Neutral mutations and sites can always be added to a genealogy later\n",
    "2. Simulating sites and mutations increases memory requirements and tree\n",
    "sequence file size somewhat, as well as adding to CPU time (although usually this is\n",
    "inconsequential)\n",
    "3. Quantities of interest can often be inferred equally well (or better!) on tree sequences\n",
    "that have no sites or mutations.\n",
    "\n",
    "To illustrate the first two points, we can use the [msprime](https://tskit.dev/msprime)\n",
    "{func}`~msprime.sim_mutations` function to add neutral sites and mutations onto an\n",
    "simulated mutationless tree sequence of 20 diploid individuals:"
   ]
  },
  {
   "cell_type": "code",
   "execution_count": 1,
   "id": "17cf7fe2",
   "metadata": {},
   "outputs": [
    {
     "name": "stdout",
     "output_type": "stream",
     "text": [
      "Adding mutations has increased the tree sequence file size by 151%\n"
     ]
    }
   ],
   "source": [
    "import msprime\n",
    "L = 1_000_000  # simulate 1 megabase length (could increase for a larger example)\n",
    "rho = mu = 1e-8  # Human-like recombination and mutation parameters\n",
    "n_subpops = 2\n",
    "subpop_size = 1e4\n",
    "migration_rate = 1e-4\n",
    "# Create a mutationless diploid tree sequence of n_subpops demes\n",
    "ts_no_mut = msprime.sim_ancestry(\n",
    "    samples={f\"pop_{i}\": 10 for i in range(n_subpops)},  # 10 samples from each subpop\n",
    "    demography=msprime.Demography.island_model([subpop_size] * n_subpops, migration_rate),\n",
    "    ploidy=2,\n",
    "    recombination_rate=rho,\n",
    "    sequence_length=L,\n",
    "    random_seed=123,\n",
    ")\n",
    "\n",
    "# Optionally, add neutral mutations later, after simulating. This takes some CPU time\n",
    "# (although it is usually fast compared to simulating the original tree sequence)\n",
    "ts_mutated = msprime.sim_mutations(ts_no_mut, rate=mu, random_seed=456)\n",
    "print(\n",
    "    \"Adding mutations has increased the tree sequence file size by \"\n",
    "    f\"{ts_mutated.nbytes / ts_no_mut.nbytes * 100:.0f}%\",\n",
    ")"
   ]
  },
  {
   "cell_type": "markdown",
   "id": "cacb3e89",
   "metadata": {},
   "source": [
    ":::{note}\n",
    "Above we have overlaid sites and mutations onto an existing tree sequence by simulation.\n",
    "It is also possible to overlay mutations in such a way as to generate a known pattern of\n",
    "genetic variation, using {meth}`tskit.Tree.map_mutations`.\n",
    ":::\n",
    "\n",
    "\n",
    "Although including mutations has increased the file size a fair bit in this example,\n",
    "unless you are running simulations with vast numbers of mutations, tree sequences are\n",
    "usually compact enough that the cost of including them shouldn't be prohibitive.\n",
    "Nevertheless, it may not be obvious that it is perfectly possible, indeed sometimes\n",
    "preferable, to perform genetic analyses on tree sequences that do not contain mutations\n",
    "and variable sites. This is the focus of the remainder of this tutorial.\n",
    "\n",
    "\n",
    "## Analysis in the absence of genetic variation\n",
    "\n",
    "### Patterns of relationship\n",
    "\n",
    "Some genetic analyses are primarily focussed on patterns or degrees of relationship\n",
    "between genomes. In this case, the genealogy tells you all you need to know.\n",
    "This includes:\n",
    "\n",
    "* analyses of local ancestry, global ancestry and identity-by-descent\n",
    "* identification of most recent common ancestors and their descendants (including e.g.\n",
    "genealogical nearest neighbour analysis)\n",
    "\n",
    "Although these methods are primarily described elsewhere, the code below illustrates\n",
    "how a tree sequence without mutations can be used to find the average time to the\n",
    "most recent common ancestor (tMRCA) of two sample genomes. The genomes have been\n",
    "pcked at random from the two different populations, and the times averaged over\n",
    "the entire 1Mb genome."
   ]
  },
  {
   "cell_type": "code",
   "execution_count": 2,
   "id": "bb1b1f55",
   "metadata": {},
   "outputs": [
    {
     "name": "stdout",
     "output_type": "stream",
     "text": [
      "Average tMRCA between sample 9 (pop_0) and 24 (pop_1) is 42396.75 generations\n"
     ]
    }
   ],
   "source": [
    "import numpy as np\n",
    "np.random.seed(10)\n",
    "sample_a = np.random.choice(ts_no_mut.samples(population=0), size=1)[0]\n",
    "sample_b = np.random.choice(ts_no_mut.samples(population=1), size=1)[0]\n",
    "av_tMRCA = 0\n",
    "for tree in ts_no_mut.trees():\n",
    "    # weight the tMRCA by the span of genome covered\n",
    "    av_tMRCA += tree.tmrca(sample_a, sample_b) * tree.span/ts_no_mut.sequence_length\n",
    "print(f\"Average tMRCA between sample {sample_a} (pop_0) and\",\n",
    "      f\"{sample_b} (pop_1) is {av_tMRCA:.2f} {ts_no_mut.time_units}\")"
   ]
  },
  {
   "cell_type": "markdown",
   "id": "f8833939",
   "metadata": {},
   "source": [
    "### Genetic statistics and branch-length equivalents\n",
    "\n",
    "Although many genetic analyses are based on patterns of genetic variation, for many\n",
    "purposes the genetic variation can be thought of as a measure of the relative length of\n",
    "branches on the local trees in a tree sequence. So while mutations are necessary to\n",
    "generate realistically variable genetic sequences, some statistical analyses do not\n",
    "necessarily require them to be present in a tree sequence (see\n",
    "[this paper](https://doi.org/10.1534/genetics.120.303253) which explains the duality\n",
    "between statistics based on genetic variation and their branch length equivalents).\n",
    "Such statistics include all those based on the allele frequency spectrum, such as genetic\n",
    "diversity and Tajima's D, and those based on genetic divergence between populations\n",
    "such as Fst and Patterson's f statistics.\n",
    "\n",
    "A simple example of a statistic that is normally calculated by looking at variable sites\n",
    "is the genetic divergence. This is usually defined as the\n",
    "proportion of the genome that differs between two sample genomes. In a tree sequence with\n",
    "mutations, it can be calculated using the {meth}`~TreeSequence.divergence` method:"
   ]
  },
  {
   "cell_type": "code",
   "execution_count": 3,
   "id": "a18d973e",
   "metadata": {},
   "outputs": [
    {
     "name": "stdout",
     "output_type": "stream",
     "text": [
      "Genetic divergence between samples 9 and 24 is 0.000840\n"
     ]
    }
   ],
   "source": [
    "# By default, estimating average \"genetic divergence\" requires mutations to be present\n",
    "print(\n",
    "    f\"Genetic divergence between samples {sample_a} and {sample_b} is\",\n",
    "    f\"{ts_mutated.divergence([[sample_a], [sample_b]]):.6f}\"\n",
    ")"
   ]
  },
  {
   "cell_type": "markdown",
   "id": "e47245f9",
   "metadata": {},
   "source": [
    "If mutation rates are low (i.e. when the \"infinite sites\" model of mutation is\n",
    "a good approximation), each genetic difference between sequences corresponds to a\n",
    "mutation on the lineage connecting the two samples. Since the number of mutations is\n",
    "expected to be proportional to the length of the lineage, we can use the\n",
    "lineage length directly to measure divergence (in this case adding the branch length\n",
    "from the first sample to the MRCA and the branch from the MRCA to the second sample).\n",
    "The {ref}`general statistics framework<tskit:sec_stats_mode>`, allows you to switch to\n",
    "these \"branch length\" measures by using the `mode=\"branch\"` parameter:"
   ]
  },
  {
   "cell_type": "code",
   "execution_count": 4,
   "id": "1e52ae4e",
   "metadata": {},
   "outputs": [
    {
     "name": "stdout",
     "output_type": "stream",
     "text": [
      "Av. genealogical distance between samples 9 and 24 is 84793.5 generations\n",
      "With both samples at time 0, this is twice the previously calculated av tMRCA:\n",
      " av_tMRCA was 42396.8 (2 * 42396.8 = 84793.5)\n",
      "Estimated genetic divergence from the genealogy is 0.000848\n"
     ]
    }
   ],
   "source": [
    "# By default, statistics are calculated base on variable sites (mode=\"site\"), but\n",
    "# we can switch to the branch-length equivalent using mode = \"branch\"\n",
    "sample_sets = [sample_a], [sample_b]\n",
    "ab_dist = ts_no_mut.divergence(sample_sets, mode=\"branch\")\n",
    "print(\n",
    "    f\"Av. genealogical distance between samples {sample_a} and {sample_b} is\",\n",
    "    f\"{ab_dist:.1f} {ts_no_mut.time_units}\"\n",
    ")\n",
    "print(\"With both samples at time 0, this is twice the previously calculated av tMRCA:\")\n",
    "print(f\" av_tMRCA was {av_tMRCA:.1f} (2 * {av_tMRCA:.1f} = {2 * av_tMRCA:.1f})\")\n",
    "\n",
    "# To compare it to the standard genetic divergence, simply multiply by the mutation rate\n",
    "print(\n",
    "    f\"Estimated genetic divergence from the genealogy is\",\n",
    "    f\"{ts_no_mut.divergence(sample_sets, mode='branch') * mu:.6f}\"\n",
    ")"
   ]
  },
  {
   "cell_type": "markdown",
   "id": "093ec409",
   "metadata": {},
   "source": [
    "#### Genealogy-based measures are less noisy\n",
    "\n",
    "Analyses based on observed genetic variation have a random component due to the\n",
    "stochastic nature of the mutational process. This \"random mutational noise\" is missing\n",
    "from analyses that use the genealogy directly: something that is particularly evident\n",
    "when the analysis is dependent on a small number of mutations.  Here's an example\n",
    "which contrasts conventional and branch length versions of the well-known $F_{st}$\n",
    "statistic, across the two populations we previously simulated."
   ]
  },
  {
   "cell_type": "code",
   "execution_count": 5,
   "id": "84684bac",
   "metadata": {},
   "outputs": [
    {
     "data": {
      "image/png": "[encoded data removed]",
      "text/plain": [
       "<Figure size 432x288 with 1 Axes>"
      ]
     },
     "metadata": {
      "filenames": {
       "image/png": "/home/runner/work/tutorials/tutorials/_build/jupyter_execute/no_mutations_9_0.png"
      },
      "needs_background": "light"
     },
     "output_type": "display_data"
    }
   ],
   "source": [
    "import matplotlib_inline\n",
    "import matplotlib.pyplot as plt\n",
    "\n",
    "n_reps = 20\n",
    "ts_reps = list(msprime.sim_ancestry(\n",
    "    samples={f\"pop_{i}\": 10 for i in range(n_subpops)},\n",
    "    demography=msprime.Demography.island_model([subpop_size] * n_subpops, migration_rate),\n",
    "    ploidy=2,\n",
    "    recombination_rate=rho,\n",
    "    sequence_length=L,\n",
    "    random_seed=123,\n",
    "    num_replicates=n_reps,\n",
    "))\n",
    "\n",
    "ts_mutated_reps = [\n",
    "    # Decrease the mutation rate to exaggerate effect of random mutational noise\n",
    "    msprime.sim_mutations(ts, rate=mu/100, random_seed=i+4) \n",
    "    for i, ts in enumerate(ts_reps)\n",
    "]\n",
    "\n",
    "# Return sample sets as all samples from each population (uses all pairwise comparisons)\n",
    "def sample_sets(ts):\n",
    "    return [ts.samples(population=p.id) for p in ts.populations()]\n",
    "\n",
    "Fst_genealogy = np.array([ts.Fst(sample_sets(ts), mode=\"branch\") for ts in ts_reps])\n",
    "Fst_genetic_var = np.array([ts.Fst(sample_sets(ts)) for ts in ts_mutated_reps])\n",
    "\n",
    "# For the theoretical expectation see e.g. Crow and Aoki (1984) PNAS 81: 6073, eqn 7\n",
    "Fst_theory = 1/(4*subpop_size*migration_rate*(n_subpops/(n_subpops-1))**2 + 1)\n",
    "\n",
    "plt.scatter([\"Genetic variation\"] * 20, Fst_genetic_var)\n",
    "plt.scatter([\"Genealogy\"] * 20, Fst_genealogy)\n",
    "plt.xlabel(\"Basis of estimate\")\n",
    "plt.ylabel(\"Fst\\n(20 replicates)\")\n",
    "\n",
    "plt.axhline(y=Fst_theory, ls=\":\", c=\"grey\")\n",
    "plt.text(0.5, Fst_theory, 'theoretical prediction', ha='center')\n",
    "plt.show()"
   ]
  },
  {
   "cell_type": "markdown",
   "id": "404d1aa2",
   "metadata": {},
   "source": [
    "::::{margin}\n",
    ":::{note}\n",
    "In real data there is additional noise introduced by\n",
    "inference of the underlying tree sequence which is not accounted for in these examples\n",
    ":::\n",
    "::::\n",
    "\n",
    "Therefore, if your ultimate goal is to compare or estimate genetic statistics of this\n",
    "sort (rather than to examine the genetic sequence itself), then using the\n",
    "genealogy-based approach should give you more statistical power.\n",
    "\n",
    "As with genetic diversity, there also exist a \"branch length\" version of the allele\n",
    "frequency spectrum (the AFS), which measures the length of branches subtending 1 sample,\n",
    "2 samples, 3 samples, etc. This is a slightly less noisy version of the AFS based on\n",
    "actual allele frequencies, and it too can be calculated on a tree sequence with no\n",
    "mutations:"
   ]
  },
  {
   "cell_type": "code",
   "execution_count": 6,
   "id": "07529408",
   "metadata": {},
   "outputs": [
    {
     "data": {
      "image/png": "[encoded data removed]",
      "text/plain": [
       "<Figure size 864x216 with 2 Axes>"
      ]
     },
     "metadata": {
      "filenames": {
       "image/png": "/home/runner/work/tutorials/tutorials/_build/jupyter_execute/no_mutations_11_0.png"
      },
      "needs_background": "light"
     },
     "output_type": "display_data"
    }
   ],
   "source": [
    "fig, (ax1, ax2) = plt.subplots(ncols=2, figsize=(12, 3))\n",
    "\n",
    "afs1 = ts_mutated.allele_frequency_spectrum(polarised=True, mode=\"site\")\n",
    "ax1.bar(np.arange(ts_mutated.num_samples+1), afs1)\n",
    "ax1.set_title(\"AFS using variable sites (ts with mutations)\")\n",
    "\n",
    "afs2 = ts_no_mut.allele_frequency_spectrum(polarised=True, mode=\"branch\")\n",
    "ax2.bar(np.arange(ts_no_mut.num_samples+1), afs1)\n",
    "ax2.set_title(\"Branch length AFS (ts without mutations)\")\n",
    "\n",
    "plt.show()"
   ]
  },
  {
   "cell_type": "markdown",
   "id": "ac2dab04",
   "metadata": {},
   "source": [
    "In this case, the plots are almost identical because there are thousands of\n",
    "mutations over the entire sequence, so the mutational noise has been smoothed out\n",
    "(the remaining unevenness in the AFS plots is due to stochasticity in genealogy, rather\n",
    "than the mutations).\n",
    "\n",
    "However, if we are doing a windowed analysis, and the windows over\n",
    "the genome are small, each window will contain relatively few mutations, and statistics\n",
    "based on the genetic variation generated by mutations will be be subject to greater\n",
    "mutational noise than those based on branch lengths in the genealogy. Here's an\n",
    "example using the basic {meth}`genetic diversity <tskit.TreeSequence.diversity>`\n",
    "in 1Kb windows along our simulated genome:"
   ]
  },
  {
   "cell_type": "code",
   "execution_count": 7,
   "id": "0c3ebc0b",
   "metadata": {},
   "outputs": [
    {
     "data": {
      "image/png": "[encoded data removed]",
      "text/plain": [
       "<Figure size 864x216 with 2 Axes>"
      ]
     },
     "metadata": {
      "filenames": {
       "image/png": "/home/runner/work/tutorials/tutorials/_build/jupyter_execute/no_mutations_13_0.png"
      },
      "needs_background": "light"
     },
     "output_type": "display_data"
    }
   ],
   "source": [
    "fig, (ax1, ax2) = plt.subplots(ncols=2, figsize=(12, 3), sharey=True)\n",
    "w = np.linspace(0, L, num=L//1_000)\n",
    "ax1.stairs(ts_mutated.diversity(windows=w), w/1_000, baseline=None)\n",
    "ax1.set_ylabel(\"Diversity\")\n",
    "ax1.set_xlabel(\"Genome position (kb)\")\n",
    "ax1.set_title(\"Site-based calculation\")\n",
    "ax1.set_yscale(\"log\")\n",
    "ax2.stairs(ts_no_mut.diversity(windows=w, mode=\"branch\") * mu, w/1_000, baseline=None)\n",
    "ax2.set_xlabel(\"Genome position (kb)\")\n",
    "ax2.set_title(\"Branch-length-based calculation\")\n",
    "ax2.set_yscale(\"log\")\n",
    "plt.show()"
   ]
  },
  {
   "cell_type": "markdown",
   "id": "008291c6",
   "metadata": {},
   "source": [
    "## Summary\n",
    "\n",
    "In summary, if you are analysing tree sequences, especially those produced by simulation,\n",
    "think carefully. Do you really need to analyse information about alleles and mutations?\n",
    "If not, you may be able to omit sites and mutations from the tree sequence,\n",
    "yet still retain the ability to calculate parameters of interest. This genealogical\n",
    "approach can provide more accurate descriptors of the quantities of interest\n",
    "than those explicitly based on genetic variation."
   ]
  }
 ],
 "metadata": {
  "jupytext": {
   "text_representation": {
    "extension": ".md",
    "format_name": "myst",
    "format_version": 0.12,
    "jupytext_version": "1.9.1"
   }
  },
  "kernelspec": {
   "display_name": "Python 3",
   "language": "python",
   "name": "python3"
  },
  "language_info": {
   "codemirror_mode": {
    "name": "ipython",
    "version": 3
   },
   "file_extension": ".py",
   "mimetype": "text/x-python",
   "name": "python",
   "nbconvert_exporter": "python",
   "pygments_lexer": "ipython3",
   "version": "3.8.12"
  },
  "source_map": [
   12,
   45,
   69,
   104,
   115,
   135,
   141,
   152,
   169,
   180,
   219,
   238,
   250,
   264,
   277
  ]
 },
 "nbformat": 4,
 "nbformat_minor": 5
}