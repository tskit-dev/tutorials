{
 "cells": [
  {
   "cell_type": "markdown",
   "id": "5f8e5e7f",
   "metadata": {},
   "source": [
    "(sec_tskit_no_mutations)=\n",
    "\n",
    "# _Do you really need mutations?_\n",
    "% remove underscores in title when tutorial is complete or near-complete\n",
    "\n",
    "\n",
    "Maybe not! This tutorial takes you through a number of common tasks \n",
    "and shows how to do things by working directly with the underlying \n",
    "topology.\n",
    "\n",
    "## Background\n",
    "\n",
    "Why is it better to avoid using mutations if we don't have to?\n",
    "\n",
    "## Computing statistics"
   ]
  }
 ],
 "metadata": {
  "jupytext": {
   "text_representation": {
    "extension": ".md",
    "format_name": "myst",
    "format_version": 0.12,
    "jupytext_version": "1.9.1"
   }
  },
  "kernelspec": {
   "display_name": "Python 3",
   "language": "python",
   "name": "python3"
  },
  "language_info": {
   "codemirror_mode": {
    "name": "ipython",
    "version": 3
   },
   "file_extension": ".py",
   "mimetype": "text/x-python",
   "name": "python",
   "nbconvert_exporter": "python",
   "pygments_lexer": "ipython3",
   "version": "3.8.12"
  },
  "source_map": [
   12
  ]
 },
 "nbformat": 4,
 "nbformat_minor": 5
}