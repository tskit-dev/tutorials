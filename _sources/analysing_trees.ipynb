{
 "cells": [
  {
   "cell_type": "markdown",
   "id": "2fe2ee55",
   "metadata": {},
   "source": [
    "```{currentmodule} tskit\n",
    "```"
   ]
  },
  {
   "cell_type": "code",
   "execution_count": 1,
   "id": "5716de86",
   "metadata": {
    "tags": [
     "remove-cell"
    ]
   },
   "outputs": [],
   "source": [
    "import io\n",
    "import pickle\n",
    "\n",
    "import msprime\n",
    "import tskit\n",
    "\n",
    "def tree_traversals():\n",
    "    nodes = \"\"\"\\\n",
    "    id      is_sample   time\n",
    "    0       1           0\n",
    "    1       1           0\n",
    "    2       1           0\n",
    "    3       1           0\n",
    "    4       1           0\n",
    "    5       0           1\n",
    "    6       0           2\n",
    "    7       0           3\n",
    "    \"\"\"\n",
    "    edges = \"\"\"\\\n",
    "    left    right   parent  child\n",
    "    0       1       5       0,1,2\n",
    "    0       1       6       3,4\n",
    "    0       1       7       5,6\n",
    "    \"\"\"\n",
    "    # NB same tree as used above, and we're using the same diagram.\n",
    "    ts = tskit.load_text(\n",
    "        nodes=io.StringIO(nodes), edges=io.StringIO(edges), strict=False\n",
    "    )\n",
    "    ts.dump(\"data/tree_traversals.trees\")\n",
    "\n",
    "def different_time_samples():\n",
    "    samples = [\n",
    "        msprime.Sample(0, 0),\n",
    "        msprime.Sample(0, 1),\n",
    "        msprime.Sample(0, 20),\n",
    "    ]\n",
    "    ts = msprime.simulate(\n",
    "        Ne=1e6,\n",
    "        samples=samples,\n",
    "        demographic_events=[\n",
    "            msprime.PopulationParametersChange(time=10, growth_rate=2, population_id=0),\n",
    "        ],\n",
    "        random_seed=42,\n",
    "    )\n",
    "    ts.dump(\"data/different_time_samples.trees\")\n",
    "\n",
    "def parsimony_simple():\n",
    "    ts = msprime.sim_ancestry(3, random_seed=42)\n",
    "    ts.dump(\"data/parsimony_simple.trees\")\n",
    "\n",
    "def parsimony_map():\n",
    "    # pick a seed that gives the tips in the right order\n",
    "    ts = msprime.sim_ancestry(3, sequence_length=100, random_seed=38)\n",
    "    ts.dump(\"data/parsimony_map.trees\")\n",
    "    ts = msprime.sim_mutations(\n",
    "        ts, rate=0.01, random_seed=123, discrete_genome=False)\n",
    "    data = [\n",
    "        {'pos':v.site.position, 'alleles': v.alleles, 'genotypes':v.genotypes}\n",
    "        for v in ts.variants()]\n",
    "    with open(\"data/parsimony_map.pickle\", \"wb\") as f:\n",
    "        pickle.dump(data, f)\n",
    "\n",
    "\n",
    "def create_notebook_data():\n",
    "    tree_traversals()\n",
    "    different_time_samples()\n",
    "    parsimony_simple()\n",
    "    parsimony_map()\n",
    "\n",
    "# create_notebook_data()  # uncomment to recreate the tree seqs used in this notebook"
   ]
  },
  {
   "cell_type": "markdown",
   "id": "5f644937",
   "metadata": {},
   "source": [
    "(sec_analysing_trees)=\n",
    "# Analysing trees\n",
    "\n",
    "There are a number of different ways we might want to analyse a single  {class}`Tree`.\n",
    "Most involve some sort of traversal over the nodes, mutations, or branches in the tree.\n",
    "{program}`tskit` provides various way of traversing through a tree, and also some\n",
    "built in phylogenetic algorithms such as {meth}`Tree.map_mutations` which efficently\n",
    "places mutations (\"characters\" in phylogenetic terminology) on a given tree.\n",
    "\n",
    "\n",
    "(sec_analysing_trees_traversals)=\n",
    "\n",
    "## Tree traversals\n",
    "\n",
    "Given a single {class}`Tree`, traversals in various orders are possible using the\n",
    "{meth}`~Tree.nodes` iterator. Take the following tree:"
   ]
  },
  {
   "cell_type": "code",
   "execution_count": 2,
   "id": "7aedd631",
   "metadata": {},
   "outputs": [
    {
     "data": {
      "image/svg+xml": [
       "<svg baseProfile=\"full\" height=\"200\" version=\"1.1\" width=\"200\" xmlns=\"http://www.w3.org/2000/svg\" xmlns:ev=\"http://www.w3.org/2001/xml-events\" xmlns:xlink=\"http://www.w3.org/1999/xlink\"><defs><style type=\"text/css\"><![CDATA[.background path {fill: #808080; fill-opacity: 0}.background path:nth-child(odd) {fill-opacity: .1}.axes {font-size: 14px}.x-axis .tick .lab {font-weight: bold; dominant-baseline: hanging}.axes, .tree {font-size: 14px; text-anchor: middle}.axes line, .edge {stroke: black; fill: none}.y-axis .grid {stroke: #FAFAFA}.node > .sym {fill: black; stroke: none}.site > .sym {stroke: black}.mut text {fill: red; font-style: italic}.mut.extra text {fill: hotpink}.mut line {fill: none; stroke: none}.mut .sym {fill: none; stroke: red}.mut.extra .sym {stroke: hotpink}.node .mut .sym {stroke-width: 1.5px}.tree text, .tree-sequence text {dominant-baseline: central}.plotbox .lab.lft {text-anchor: end}.plotbox .lab.rgt {text-anchor: start}]]></style></defs><g class=\"tree t0\"><g class=\"plotbox\"><g class=\"c2 node n7 root\" transform=\"translate(108 26.8)\"><g class=\"a7 c3 node n5\" transform=\"translate(-40 94.2667)\"><g class=\"a5 leaf node n0 sample\" transform=\"translate(-32 47.1333)\"><path class=\"edge\" d=\"M 0 0 V -47.1333 H 32\" /><rect class=\"sym\" height=\"6\" width=\"6\" x=\"-3\" y=\"-3\" /><text class=\"lab\" transform=\"translate(0 11)\">0</text></g><g class=\"a5 leaf node n1 sample\" transform=\"translate(0.0 47.1333)\"><path class=\"edge\" d=\"M 0 0 V -47.1333 H 0.0\" /><rect class=\"sym\" height=\"6\" width=\"6\" x=\"-3\" y=\"-3\" /><text class=\"lab\" transform=\"translate(0 11)\">1</text></g><g class=\"a5 leaf node n2 sample\" transform=\"translate(32 47.1333)\"><path class=\"edge\" d=\"M 0 0 V -47.1333 H -32\" /><rect class=\"sym\" height=\"6\" width=\"6\" x=\"-3\" y=\"-3\" /><text class=\"lab\" transform=\"translate(0 11)\">2</text></g><path class=\"edge\" d=\"M 0 0 V -94.2667 H 40\" /><circle class=\"sym\" cx=\"0\" cy=\"0\" r=\"3\" /><text class=\"lab lft\" transform=\"translate(-3 -7.0)\">5</text></g><g class=\"a7 c2 node n6\" transform=\"translate(40 47.1333)\"><g class=\"a6 leaf node n3 sample\" transform=\"translate(-16 94.2667)\"><path class=\"edge\" d=\"M 0 0 V -94.2667 H 16\" /><rect class=\"sym\" height=\"6\" width=\"6\" x=\"-3\" y=\"-3\" /><text class=\"lab\" transform=\"translate(0 11)\">3</text></g><g class=\"a6 leaf node n4 sample\" transform=\"translate(16 94.2667)\"><path class=\"edge\" d=\"M 0 0 V -94.2667 H -16\" /><rect class=\"sym\" height=\"6\" width=\"6\" x=\"-3\" y=\"-3\" /><text class=\"lab\" transform=\"translate(0 11)\">4</text></g><path class=\"edge\" d=\"M 0 0 V -47.1333 H -40\" /><circle class=\"sym\" cx=\"0\" cy=\"0\" r=\"3\" /><text class=\"lab rgt\" transform=\"translate(3 -7.0)\">6</text></g><circle class=\"sym\" cx=\"0\" cy=\"0\" r=\"3\" /><text class=\"lab\" transform=\"translate(0 -11)\">7</text></g></g></g></svg>"
      ],
      "text/plain": [
       "'<svg baseProfile=\"full\" height=\"200\" version=\"1.1\" width=\"200\" xmlns=\"http://www.w3.org/2000/svg\" xmlns:ev=\"http://www.w3.org/2001/xml-events\" xmlns:xlink=\"http://www.w3.org/1999/xlink\"><defs><style type=\"text/css\"><![CDATA[.background path {fill: #808080; fill-opacity: 0}.background path:nth-child(odd) {fill-opacity: .1}.axes {font-size: 14px}.x-axis .tick .lab {font-weight: bold; dominant-baseline: hanging}.axes, .tree {font-size: 14px; text-anchor: middle}.axes line, .edge {stroke: black; fill: none}.y-axis .grid {stroke: #FAFAFA}.node > .sym {fill: black; stroke: none}.site > .sym {stroke: black}.mut text {fill: red; font-style: italic}.mut.extra text {fill: hotpink}.mut line {fill: none; stroke: none}.mut .sym {fill: none; stroke: red}.mut.extra .sym {stroke: hotpink}.node .mut .sym {stroke-width: 1.5px}.tree text, .tree-sequence text {dominant-baseline: central}.plotbox .lab.lft {text-anchor: end}.plotbox .lab.rgt {text-anchor: start}]]></style></defs><g class=\"tree t0\"><g class=\"plotbox\"><g class=\"c2 node n7 root\" transform=\"translate(108 26.8)\"><g class=\"a7 c3 node n5\" transform=\"translate(-40 94.2667)\"><g class=\"a5 leaf node n0 sample\" transform=\"translate(-32 47.1333)\"><path class=\"edge\" d=\"M 0 0 V -47.1333 H 32\" /><rect class=\"sym\" height=\"6\" width=\"6\" x=\"-3\" y=\"-3\" /><text class=\"lab\" transform=\"translate(0 11)\">0</text></g><g class=\"a5 leaf node n1 sample\" transform=\"translate(0.0 47.1333)\"><path class=\"edge\" d=\"M 0 0 V -47.1333 H 0.0\" /><rect class=\"sym\" height=\"6\" width=\"6\" x=\"-3\" y=\"-3\" /><text class=\"lab\" transform=\"translate(0 11)\">1</text></g><g class=\"a5 leaf node n2 sample\" transform=\"translate(32 47.1333)\"><path class=\"edge\" d=\"M 0 0 V -47.1333 H -32\" /><rect class=\"sym\" height=\"6\" width=\"6\" x=\"-3\" y=\"-3\" /><text class=\"lab\" transform=\"translate(0 11)\">2</text></g><path class=\"edge\" d=\"M 0 0 V -94.2667 H 40\" /><circle class=\"sym\" cx=\"0\" cy=\"0\" r=\"3\" /><text class=\"lab lft\" transform=\"translate(-3 -7.0)\">5</text></g><g class=\"a7 c2 node n6\" transform=\"translate(40 47.1333)\"><g class=\"a6 leaf node n3 sample\" transform=\"translate(-16 94.2667)\"><path class=\"edge\" d=\"M 0 0 V -94.2667 H 16\" /><rect class=\"sym\" height=\"6\" width=\"6\" x=\"-3\" y=\"-3\" /><text class=\"lab\" transform=\"translate(0 11)\">3</text></g><g class=\"a6 leaf node n4 sample\" transform=\"translate(16 94.2667)\"><path class=\"edge\" d=\"M 0 0 V -94.2667 H -16\" /><rect class=\"sym\" height=\"6\" width=\"6\" x=\"-3\" y=\"-3\" /><text class=\"lab\" transform=\"translate(0 11)\">4</text></g><path class=\"edge\" d=\"M 0 0 V -47.1333 H -40\" /><circle class=\"sym\" cx=\"0\" cy=\"0\" r=\"3\" /><text class=\"lab rgt\" transform=\"translate(3 -7.0)\">6</text></g><circle class=\"sym\" cx=\"0\" cy=\"0\" r=\"3\" /><text class=\"lab\" transform=\"translate(0 -11)\">7</text></g></g></g></svg>'"
      ]
     },
     "execution_count": 2,
     "metadata": {
      "filenames": {
       "image/svg+xml": "/home/runner/work/tutorials/tutorials/_build/jupyter_execute/analysing_trees_3_0.svg"
      }
     },
     "output_type": "execute_result"
    }
   ],
   "source": [
    "import tskit\n",
    "\n",
    "ts = tskit.load(\"data/tree_traversals.trees\")\n",
    "tree = ts.first()\n",
    "tree.draw_svg()"
   ]
  },
  {
   "cell_type": "markdown",
   "id": "85b7872a",
   "metadata": {},
   "source": [
    "We can visit the nodes in different orders by providing an `order` parameter to\n",
    "the {meth}`Tree.nodes` iterator:"
   ]
  },
  {
   "cell_type": "code",
   "execution_count": 3,
   "id": "56ddc906",
   "metadata": {},
   "outputs": [
    {
     "name": "stdout",
     "output_type": "stream",
     "text": [
      "preorder:\t [7, 5, 0, 1, 2, 6, 3, 4]\n",
      "inorder:\t [0, 5, 1, 2, 7, 3, 6, 4]\n",
      "postorder:\t [0, 1, 2, 5, 3, 4, 6, 7]\n"
     ]
    }
   ],
   "source": [
    "for order in [\"preorder\", \"inorder\", \"postorder\"]:\n",
    "    print(f\"{order}:\\t\", list(tree.nodes(order=order)))"
   ]
  },
  {
   "cell_type": "markdown",
   "id": "ca01f8dc",
   "metadata": {},
   "source": [
    "Much of the time, the specific ordering of the nodes is not important\n",
    "and we can leave it out (defaulting to preorder traversal). For example,\n",
    "here we compute the total branch length of a tree:"
   ]
  },
  {
   "cell_type": "code",
   "execution_count": 4,
   "id": "a5b064b6",
   "metadata": {},
   "outputs": [
    {
     "name": "stdout",
     "output_type": "stream",
     "text": [
      "Total branch length: 10.0\n"
     ]
    }
   ],
   "source": [
    "total_branch_length = sum(tree.branch_length(u) for u in tree.nodes())\n",
    "print(f\"Total branch length: {total_branch_length}\")"
   ]
  },
  {
   "cell_type": "markdown",
   "id": "ab1b21da",
   "metadata": {},
   "source": [
    "Note that this is also available as the {attr}`Tree.total_branch_length` attribute.\n",
    "\n",
    "### Traversing upwards\n",
    "\n",
    "For many applications it is useful to be able to traverse upwards from the\n",
    "leaves. We can do this using the {meth}`Tree.parent` method, which\n",
    "returns the parent of a node. For example, we can traverse upwards from\n",
    "each of the samples in the tree:"
   ]
  },
  {
   "cell_type": "code",
   "execution_count": 5,
   "id": "f9f48bf6",
   "metadata": {},
   "outputs": [
    {
     "name": "stdout",
     "output_type": "stream",
     "text": [
      "0 -> [0, 5, 7]\n",
      "1 -> [1, 5, 7]\n",
      "2 -> [2, 5, 7]\n",
      "3 -> [3, 6, 7]\n",
      "4 -> [4, 6, 7]\n"
     ]
    }
   ],
   "source": [
    "for u in tree.samples():\n",
    "    path = []\n",
    "    v = u\n",
    "    while v != tskit.NULL:\n",
    "        path.append(v)\n",
    "        v = tree.parent(v)\n",
    "    print(u, \"->\", path)"
   ]
  },
  {
   "cell_type": "markdown",
   "id": "82c645db",
   "metadata": {},
   "source": [
    "### Traversals with information\n",
    "\n",
    "Sometimes we will need to traverse down the tree while maintaining\n",
    "some information about the nodes that are above it. While this\n",
    "can be done using recursive algorithms, it is often more convenient\n",
    "and efficient to use an iterative approach. Here, for example,\n",
    "we define an iterator that yields all nodes in preorder along with\n",
    "their path length to root:"
   ]
  },
  {
   "cell_type": "code",
   "execution_count": 6,
   "id": "36ce8da1",
   "metadata": {},
   "outputs": [
    {
     "name": "stdout",
     "output_type": "stream",
     "text": [
      "[(7, 0), (6, 1), (4, 2), (3, 2), (5, 1), (2, 2), (1, 2), (0, 2)]\n"
     ]
    }
   ],
   "source": [
    "def preorder_dist(tree):\n",
    "    for root in tree.roots:\n",
    "        stack = [(root, 0)]\n",
    "        while len(stack) > 0:\n",
    "            u, distance = stack.pop()\n",
    "            yield u, distance\n",
    "            for v in tree.children(u):\n",
    "                stack.append((v, distance + 1))\n",
    "\n",
    "print(list(preorder_dist(tree)))"
   ]
  },
  {
   "cell_type": "markdown",
   "id": "2df321c4",
   "metadata": {},
   "source": [
    "(sec_tutorial_networkx)=\n",
    "\n",
    "## Networkx\n",
    "\n",
    "Traversals and other network analysis can also be performed using the sizeable\n",
    "[networkx](https://networkx.github.io/documentation/stable/index.html)\n",
    "library. This can be achieved by calling {meth}`Tree.as_dict_of_dicts` to\n",
    "convert a {class}`Tree` instance to a format that can be imported by networkx to\n",
    "create a graph:"
   ]
  },
  {
   "cell_type": "code",
   "execution_count": 7,
   "id": "9089b8dc",
   "metadata": {},
   "outputs": [
    {
     "name": "stdout",
     "output_type": "stream",
     "text": [
      "[(5, 0), (5, 1), (5, 2), (6, 3), (6, 4), (7, 5), (7, 6)]\n"
     ]
    }
   ],
   "source": [
    "import networkx as nx\n",
    "\n",
    "g = nx.DiGraph(tree.as_dict_of_dicts())\n",
    "print(sorted(g.edges))"
   ]
  },
  {
   "cell_type": "markdown",
   "id": "8d6450c1",
   "metadata": {},
   "source": [
    "### Traversing upwards in networkx\n",
    "\n",
    "We can revisit the above examples and traverse upwards with\n",
    "networkx using a depth-first search algorithm:"
   ]
  },
  {
   "cell_type": "code",
   "execution_count": 8,
   "id": "1bf1ac3b",
   "metadata": {},
   "outputs": [
    {
     "name": "stdout",
     "output_type": "stream",
     "text": [
      "0 -> [0, 5, 7]\n",
      "1 -> [1, 5, 7]\n",
      "2 -> [2, 5, 7]\n",
      "3 -> [3, 6, 7]\n",
      "4 -> [4, 6, 7]\n"
     ]
    }
   ],
   "source": [
    "g = nx.DiGraph(tree.as_dict_of_dicts())\n",
    "for u in tree.samples():\n",
    "    path = [u] + [parent for parent, child, _ in\n",
    "                  nx.edge_dfs(g, source=u, orientation=\"reverse\")]\n",
    "    print(u, \"->\", path)"
   ]
  },
  {
   "cell_type": "markdown",
   "id": "2fa06fbc",
   "metadata": {},
   "source": [
    "### Calculating distances to the root\n",
    "\n",
    "Similarly, we can yield the nodes of a tree along with their distance to the\n",
    "root in pre-order in networkx as well. Running this on the example above gives us\n",
    "the same result as before:"
   ]
  },
  {
   "cell_type": "code",
   "execution_count": 9,
   "id": "27e00826",
   "metadata": {},
   "outputs": [
    {
     "name": "stdout",
     "output_type": "stream",
     "text": [
      "[(0, 2), (1, 2), (2, 2), (3, 2), (4, 2), (5, 1), (6, 1), (7, 0)]\n"
     ]
    }
   ],
   "source": [
    "g = nx.DiGraph(tree.as_dict_of_dicts())\n",
    "for root in tree.roots:\n",
    "    print(sorted(list(nx.shortest_path_length(g, source=root).items())))"
   ]
  },
  {
   "cell_type": "markdown",
   "id": "50f552bb",
   "metadata": {},
   "source": [
    "### Finding nearest neighbors\n",
    "\n",
    "If some samples in a tree are not at time 0, then finding the nearest neighbor\n",
    "of a sample is a bit more involved. Instead of writing our own traversal code\n",
    "we can again draw on a networkx algorithm.\n",
    "Let us start with an example tree with three samples that were sampled at\n",
    "different time points:"
   ]
  },
  {
   "cell_type": "code",
   "execution_count": 10,
   "id": "89d557fd",
   "metadata": {},
   "outputs": [
    {
     "data": {
      "image/svg+xml": [
       "<svg baseProfile=\"full\" height=\"200\" version=\"1.1\" width=\"200\" xmlns=\"http://www.w3.org/2000/svg\" xmlns:ev=\"http://www.w3.org/2001/xml-events\" xmlns:xlink=\"http://www.w3.org/1999/xlink\"><defs><style type=\"text/css\"><![CDATA[.background path {fill: #808080; fill-opacity: 0}.background path:nth-child(odd) {fill-opacity: .1}.axes {font-size: 14px}.x-axis .tick .lab {font-weight: bold; dominant-baseline: hanging}.axes, .tree {font-size: 14px; text-anchor: middle}.axes line, .edge {stroke: black; fill: none}.y-axis .grid {stroke: #FAFAFA}.node > .sym {fill: black; stroke: none}.site > .sym {stroke: black}.mut text {fill: red; font-style: italic}.mut.extra text {fill: hotpink}.mut line {fill: none; stroke: none}.mut .sym {fill: none; stroke: red}.mut.extra .sym {stroke: hotpink}.node .mut .sym {stroke-width: 1.5px}.tree text, .tree-sequence text {dominant-baseline: central}.plotbox .lab.lft {text-anchor: end}.plotbox .lab.rgt {text-anchor: start}]]></style></defs><g class=\"tree t0\"><g class=\"axes\"><g class=\"y-axis\"><g transform=\"translate(0 89.1)\"><text class=\"lab\" text-anchor=\"middle\" transform=\"translate(11) rotate(-90)\">Node time</text></g><line x1=\"56.8\" x2=\"56.8\" y1=\"168.2\" y2=\"10\" /><g class=\"ticks\"><g class=\"tick\" transform=\"translate(56.8 26.8)\"><line x1=\"0\" x2=\"-5\" y1=\"0\" y2=\"0\" /><g transform=\"translate(-6 0)\"><text class=\"lab\" text-anchor=\"end\">20.01</text></g></g><g class=\"tick\" transform=\"translate(56.8 62.15)\"><line x1=\"0\" x2=\"-5\" y1=\"0\" y2=\"0\" /><g transform=\"translate(-6 0)\"><text class=\"lab\" text-anchor=\"end\">20.00</text></g></g><g class=\"tick\" transform=\"translate(56.8 97.5)\"><line x1=\"0\" x2=\"-5\" y1=\"0\" y2=\"0\" /><g transform=\"translate(-6 0)\"><text class=\"lab\" text-anchor=\"end\">17.83</text></g></g><g class=\"tick\" transform=\"translate(56.8 168.2)\"><line x1=\"0\" x2=\"-5\" y1=\"0\" y2=\"0\" /><g transform=\"translate(-6 0)\"><text class=\"lab\" text-anchor=\"end\">0.00</text></g></g><g class=\"tick\" transform=\"translate(56.8 132.85)\"><line x1=\"0\" x2=\"-5\" y1=\"0\" y2=\"0\" /><g transform=\"translate(-6 0)\"><text class=\"lab\" text-anchor=\"end\">1.00</text></g></g></g></g></g><g class=\"plotbox\"><g class=\"c2 node n4 p0 root\" transform=\"translate(128.667 26.8)\"><g class=\"a4 leaf node n2 p0 sample\" transform=\"translate(30.8 35.35)\"><path class=\"edge\" d=\"M 0 0 V -35.35 H -30.8\" /><rect class=\"sym\" height=\"6\" width=\"6\" x=\"-3\" y=\"-3\" /><text class=\"lab\" transform=\"translate(0 11)\">2</text></g><g class=\"a4 c2 node n3 p0\" transform=\"translate(-30.8 70.7)\"><g class=\"a3 leaf node n0 p0 sample\" transform=\"translate(-20.5333 70.7)\"><path class=\"edge\" d=\"M 0 0 V -70.7 H 20.5333\" /><rect class=\"sym\" height=\"6\" width=\"6\" x=\"-3\" y=\"-3\" /><text class=\"lab\" transform=\"translate(0 11)\">0</text></g><g class=\"a3 leaf node n1 p0 sample\" transform=\"translate(20.5333 35.35)\"><path class=\"edge\" d=\"M 0 0 V -35.35 H -20.5333\" /><rect class=\"sym\" height=\"6\" width=\"6\" x=\"-3\" y=\"-3\" /><text class=\"lab\" transform=\"translate(0 11)\">1</text></g><path class=\"edge\" d=\"M 0 0 V -70.7 H 30.8\" /><circle class=\"sym\" cx=\"0\" cy=\"0\" r=\"3\" /><text class=\"lab lft\" transform=\"translate(-3 -7.0)\">3</text></g><circle class=\"sym\" cx=\"0\" cy=\"0\" r=\"3\" /><text class=\"lab\" transform=\"translate(0 -11)\">4</text></g></g></g></svg>"
      ],
      "text/plain": [
       "'<svg baseProfile=\"full\" height=\"200\" version=\"1.1\" width=\"200\" xmlns=\"http://www.w3.org/2000/svg\" xmlns:ev=\"http://www.w3.org/2001/xml-events\" xmlns:xlink=\"http://www.w3.org/1999/xlink\"><defs><style type=\"text/css\"><![CDATA[.background path {fill: #808080; fill-opacity: 0}.background path:nth-child(odd) {fill-opacity: .1}.axes {font-size: 14px}.x-axis .tick .lab {font-weight: bold; dominant-baseline: hanging}.axes, .tree {font-size: 14px; text-anchor: middle}.axes line, .edge {stroke: black; fill: none}.y-axis .grid {stroke: #FAFAFA}.node > .sym {fill: black; stroke: none}.site > .sym {stroke: black}.mut text {fill: red; font-style: italic}.mut.extra text {fill: hotpink}.mut line {fill: none; stroke: none}.mut .sym {fill: none; stroke: red}.mut.extra .sym {stroke: hotpink}.node .mut .sym {stroke-width: 1.5px}.tree text, .tree-sequence text {dominant-baseline: central}.plotbox .lab.lft {text-anchor: end}.plotbox .lab.rgt {text-anchor: start}]]></style></defs><g class=\"tree t0\"><g class=\"axes\"><g class=\"y-axis\"><g transform=\"translate(0 89.1)\"><text class=\"lab\" text-anchor=\"middle\" transform=\"translate(11) rotate(-90)\">Node time</text></g><line x1=\"56.8\" x2=\"56.8\" y1=\"168.2\" y2=\"10\" /><g class=\"ticks\"><g class=\"tick\" transform=\"translate(56.8 26.8)\"><line x1=\"0\" x2=\"-5\" y1=\"0\" y2=\"0\" /><g transform=\"translate(-6 0)\"><text class=\"lab\" text-anchor=\"end\">20.01</text></g></g><g class=\"tick\" transform=\"translate(56.8 62.15)\"><line x1=\"0\" x2=\"-5\" y1=\"0\" y2=\"0\" /><g transform=\"translate(-6 0)\"><text class=\"lab\" text-anchor=\"end\">20.00</text></g></g><g class=\"tick\" transform=\"translate(56.8 97.5)\"><line x1=\"0\" x2=\"-5\" y1=\"0\" y2=\"0\" /><g transform=\"translate(-6 0)\"><text class=\"lab\" text-anchor=\"end\">17.83</text></g></g><g class=\"tick\" transform=\"translate(56.8 168.2)\"><line x1=\"0\" x2=\"-5\" y1=\"0\" y2=\"0\" /><g transform=\"translate(-6 0)\"><text class=\"lab\" text-anchor=\"end\">0.00</text></g></g><g class=\"tick\" transform=\"translate(56.8 132.85)\"><line x1=\"0\" x2=\"-5\" y1=\"0\" y2=\"0\" /><g transform=\"translate(-6 0)\"><text class=\"lab\" text-anchor=\"end\">1.00</text></g></g></g></g></g><g class=\"plotbox\"><g class=\"c2 node n4 p0 root\" transform=\"translate(128.667 26.8)\"><g class=\"a4 leaf node n2 p0 sample\" transform=\"translate(30.8 35.35)\"><path class=\"edge\" d=\"M 0 0 V -35.35 H -30.8\" /><rect class=\"sym\" height=\"6\" width=\"6\" x=\"-3\" y=\"-3\" /><text class=\"lab\" transform=\"translate(0 11)\">2</text></g><g class=\"a4 c2 node n3 p0\" transform=\"translate(-30.8 70.7)\"><g class=\"a3 leaf node n0 p0 sample\" transform=\"translate(-20.5333 70.7)\"><path class=\"edge\" d=\"M 0 0 V -70.7 H 20.5333\" /><rect class=\"sym\" height=\"6\" width=\"6\" x=\"-3\" y=\"-3\" /><text class=\"lab\" transform=\"translate(0 11)\">0</text></g><g class=\"a3 leaf node n1 p0 sample\" transform=\"translate(20.5333 35.35)\"><path class=\"edge\" d=\"M 0 0 V -35.35 H -20.5333\" /><rect class=\"sym\" height=\"6\" width=\"6\" x=\"-3\" y=\"-3\" /><text class=\"lab\" transform=\"translate(0 11)\">1</text></g><path class=\"edge\" d=\"M 0 0 V -70.7 H 30.8\" /><circle class=\"sym\" cx=\"0\" cy=\"0\" r=\"3\" /><text class=\"lab lft\" transform=\"translate(-3 -7.0)\">3</text></g><circle class=\"sym\" cx=\"0\" cy=\"0\" r=\"3\" /><text class=\"lab\" transform=\"translate(0 -11)\">4</text></g></g></g></svg>'"
      ]
     },
     "execution_count": 10,
     "metadata": {
      "filenames": {
       "image/svg+xml": "/home/runner/work/tutorials/tutorials/_build/jupyter_execute/analysing_trees_19_0.svg"
      }
     },
     "output_type": "execute_result"
    }
   ],
   "source": [
    "ts = tskit.load(\"data/different_time_samples.trees\")\n",
    "tree = ts.first()\n",
    "tree.draw_svg(y_axis=True, time_scale=\"rank\")"
   ]
  },
  {
   "cell_type": "markdown",
   "id": "305086c2",
   "metadata": {},
   "source": [
    "The generation times for these nodes are as follows:"
   ]
  },
  {
   "cell_type": "code",
   "execution_count": 11,
   "id": "e883e219",
   "metadata": {},
   "outputs": [
    {
     "name": "stdout",
     "output_type": "stream",
     "text": [
      "Node 4: time 20.00539877826333\n",
      "Node 2: time 20.0\n",
      "Node 3: time 17.833492457579652\n",
      "Node 0: time 0.0\n",
      "Node 1: time 1.0\n"
     ]
    }
   ],
   "source": [
    "for u in tree.nodes():\n",
    "    print(f\"Node {u}: time {tree.time(u)}\")"
   ]
  },
  {
   "cell_type": "markdown",
   "id": "823b5413",
   "metadata": {},
   "source": [
    "Note that samples 0 and 1 are about 35 generations apart from each other even though\n",
    "they were sampled at almost the same time. This is why samples 0 and 1 are\n",
    "closer to sample 2 than to each other.\n",
    "\n",
    "For this nearest neighbor search we will be traversing up and down the tree,\n",
    "so it is easier to treat the tree as an undirected graph:"
   ]
  },
  {
   "cell_type": "code",
   "execution_count": 12,
   "id": "de5f761e",
   "metadata": {},
   "outputs": [],
   "source": [
    "g = nx.Graph(tree.as_dict_of_dicts())"
   ]
  },
  {
   "cell_type": "markdown",
   "id": "5fc5b7f7",
   "metadata": {},
   "source": [
    "When converting the tree to a networkx graph the edges are annotated with their\n",
    "branch length:"
   ]
  },
  {
   "cell_type": "code",
   "execution_count": 13,
   "id": "be12e753",
   "metadata": {},
   "outputs": [
    {
     "name": "stdout",
     "output_type": "stream",
     "text": [
      "(4, 2, {'branch_length': 0.0053987782633306836})\n",
      "(4, 3, {'branch_length': 2.1719063206836786})\n",
      "(3, 0, {'branch_length': 17.833492457579652})\n",
      "(3, 1, {'branch_length': 16.833492457579652})\n"
     ]
    }
   ],
   "source": [
    "for e in g.edges(data=True):\n",
    "    print(e)"
   ]
  },
  {
   "cell_type": "markdown",
   "id": "59c6f9cb",
   "metadata": {},
   "source": [
    "We can now use the \"branch_length\" field as a weight for a weighted shortest path\n",
    "search:"
   ]
  },
  {
   "cell_type": "code",
   "execution_count": 14,
   "id": "1d4b2fbf",
   "metadata": {},
   "outputs": [
    {
     "name": "stdout",
     "output_type": "stream",
     "text": [
      "{0: 2, 1: 2, 2: 1}\n"
     ]
    }
   ],
   "source": [
    "import collections\n",
    "import itertools\n",
    "\n",
    "# a dictionary of dictionaries to represent our distance matrix\n",
    "dist_dod = collections.defaultdict(dict)\n",
    "for source, target in itertools.combinations(tree.samples(), 2):\n",
    "    dist_dod[source][target] = nx.shortest_path_length(\n",
    "        g, source=source, target=target, weight=\"branch_length\"\n",
    "    )\n",
    "    dist_dod[target][source] = dist_dod[source][target]\n",
    "\n",
    "# extract the nearest neighbor of nodes 0, 1, and 2\n",
    "nearest_neighbor_of = [min(dist_dod[u], key=dist_dod[u].get) for u in range(3)]\n",
    "\n",
    "print(dict(zip(range(3), nearest_neighbor_of)))"
   ]
  },
  {
   "cell_type": "markdown",
   "id": "b1202d3f",
   "metadata": {},
   "source": [
    "(sec_analysing_trees_parsimony)=\n",
    "\n",
    "## Parsimony\n",
    "\n",
    "Take a site on the following tree with three allelic states, where the\n",
    "samples are coloured by the allele they possess, but where we don't know\n",
    "the position of the mutations that caused this variation:"
   ]
  },
  {
   "cell_type": "code",
   "execution_count": 15,
   "id": "f690ba1b",
   "metadata": {},
   "outputs": [
    {
     "data": {
      "image/svg+xml": [
       "<svg baseProfile=\"full\" height=\"200\" version=\"1.1\" width=\"200\" xmlns=\"http://www.w3.org/2000/svg\" xmlns:ev=\"http://www.w3.org/2001/xml-events\" xmlns:xlink=\"http://www.w3.org/1999/xlink\"><defs><style type=\"text/css\"><![CDATA[.background path {fill: #808080; fill-opacity: 0}.background path:nth-child(odd) {fill-opacity: .1}.axes {font-size: 14px}.x-axis .tick .lab {font-weight: bold; dominant-baseline: hanging}.axes, .tree {font-size: 14px; text-anchor: middle}.axes line, .edge {stroke: black; fill: none}.y-axis .grid {stroke: #FAFAFA}.node > .sym {fill: black; stroke: none}.site > .sym {stroke: black}.mut text {fill: red; font-style: italic}.mut.extra text {fill: hotpink}.mut line {fill: none; stroke: none}.mut .sym {fill: none; stroke: red}.mut.extra .sym {stroke: hotpink}.node .mut .sym {stroke-width: 1.5px}.tree text, .tree-sequence text {dominant-baseline: central}.plotbox .lab.lft {text-anchor: end}.plotbox .lab.rgt {text-anchor: start}.n0 > .sym {fill: red}.n1 > .sym {fill: red}.n2 > .sym {fill: red}.n3 > .sym {fill: red}.n4 > .sym {fill: blue}.n5 > .sym {fill: green}]]></style></defs><g class=\"tree t0\"><g class=\"plotbox\"><g class=\"c2 node n10 p0 root\" transform=\"translate(121.667 26.8)\"><g class=\"a10 c2 node n7 p0\" transform=\"translate(31.6667 125.565)\"><g class=\"a7 i1 leaf node n2 p0 sample\" transform=\"translate(-13.3333 15.8352)\"><path class=\"edge\" d=\"M 0 0 V -15.8352 H 13.3333\" /><rect class=\"sym\" height=\"6\" width=\"6\" x=\"-3\" y=\"-3\" /><text class=\"lab\" transform=\"translate(0 11)\">2</text></g><g class=\"a7 i1 leaf node n3 p0 sample\" transform=\"translate(13.3333 15.8352)\"><path class=\"edge\" d=\"M 0 0 V -15.8352 H -13.3333\" /><rect class=\"sym\" height=\"6\" width=\"6\" x=\"-3\" y=\"-3\" /><text class=\"lab\" transform=\"translate(0 11)\">3</text></g><path class=\"edge\" d=\"M 0 0 V -125.565 H -31.6667\" /><circle class=\"sym\" cx=\"0\" cy=\"0\" r=\"3\" /><text class=\"lab rgt\" transform=\"translate(3 -7.0)\">7</text></g><g class=\"a10 c2 node n9 p0\" transform=\"translate(-31.6667 18.3816)\"><g class=\"a9 i2 leaf node n5 p0 sample\" transform=\"translate(23.3333 123.018)\"><path class=\"edge\" d=\"M 0 0 V -123.018 H -23.3333\" /><rect class=\"sym\" height=\"6\" width=\"6\" x=\"-3\" y=\"-3\" /><text class=\"lab\" transform=\"translate(0 11)\">5</text></g><g class=\"a9 c2 node n8 p0\" transform=\"translate(-23.3333 60.4427)\"><g class=\"a8 i2 leaf node n4 p0 sample\" transform=\"translate(20 62.5757)\"><path class=\"edge\" d=\"M 0 0 V -62.5757 H -20\" /><rect class=\"sym\" height=\"6\" width=\"6\" x=\"-3\" y=\"-3\" /><text class=\"lab\" transform=\"translate(0 11)\">4</text></g><g class=\"a8 c2 node n6 p0\" transform=\"translate(-20 52.9655)\"><g class=\"a6 i0 leaf node n0 p0 sample\" transform=\"translate(-13.3333 9.61016)\"><path class=\"edge\" d=\"M 0 0 V -9.61016 H 13.3333\" /><rect class=\"sym\" height=\"6\" width=\"6\" x=\"-3\" y=\"-3\" /><text class=\"lab\" transform=\"translate(0 11)\">0</text></g><g class=\"a6 i0 leaf node n1 p0 sample\" transform=\"translate(13.3333 9.61016)\"><path class=\"edge\" d=\"M 0 0 V -9.61016 H -13.3333\" /><rect class=\"sym\" height=\"6\" width=\"6\" x=\"-3\" y=\"-3\" /><text class=\"lab\" transform=\"translate(0 11)\">1</text></g><path class=\"edge\" d=\"M 0 0 V -52.9655 H 20\" /><circle class=\"sym\" cx=\"0\" cy=\"0\" r=\"3\" /><text class=\"lab lft\" transform=\"translate(-3 -7.0)\">6</text></g><path class=\"edge\" d=\"M 0 0 V -60.4427 H 23.3333\" /><circle class=\"sym\" cx=\"0\" cy=\"0\" r=\"3\" /><text class=\"lab lft\" transform=\"translate(-3 -7.0)\">8</text></g><path class=\"edge\" d=\"M 0 0 V -18.3816 H 31.6667\" /><circle class=\"sym\" cx=\"0\" cy=\"0\" r=\"3\" /><text class=\"lab lft\" transform=\"translate(-3 -7.0)\">9</text></g><circle class=\"sym\" cx=\"0\" cy=\"0\" r=\"3\" /><text class=\"lab\" transform=\"translate(0 -11)\">10</text></g></g></g></svg>"
      ],
      "text/plain": [
       "'<svg baseProfile=\"full\" height=\"200\" version=\"1.1\" width=\"200\" xmlns=\"http://www.w3.org/2000/svg\" xmlns:ev=\"http://www.w3.org/2001/xml-events\" xmlns:xlink=\"http://www.w3.org/1999/xlink\"><defs><style type=\"text/css\"><![CDATA[.background path {fill: #808080; fill-opacity: 0}.background path:nth-child(odd) {fill-opacity: .1}.axes {font-size: 14px}.x-axis .tick .lab {font-weight: bold; dominant-baseline: hanging}.axes, .tree {font-size: 14px; text-anchor: middle}.axes line, .edge {stroke: black; fill: none}.y-axis .grid {stroke: #FAFAFA}.node > .sym {fill: black; stroke: none}.site > .sym {stroke: black}.mut text {fill: red; font-style: italic}.mut.extra text {fill: hotpink}.mut line {fill: none; stroke: none}.mut .sym {fill: none; stroke: red}.mut.extra .sym {stroke: hotpink}.node .mut .sym {stroke-width: 1.5px}.tree text, .tree-sequence text {dominant-baseline: central}.plotbox .lab.lft {text-anchor: end}.plotbox .lab.rgt {text-anchor: start}.n0 > .sym {fill: red}.n1 > .sym {fill: red}.n2 > .sym {fill: red}.n3 > .sym {fill: red}.n4 > .sym {fill: blue}.n5 > .sym {fill: green}]]></style></defs><g class=\"tree t0\"><g class=\"plotbox\"><g class=\"c2 node n10 p0 root\" transform=\"translate(121.667 26.8)\"><g class=\"a10 c2 node n7 p0\" transform=\"translate(31.6667 125.565)\"><g class=\"a7 i1 leaf node n2 p0 sample\" transform=\"translate(-13.3333 15.8352)\"><path class=\"edge\" d=\"M 0 0 V -15.8352 H 13.3333\" /><rect class=\"sym\" height=\"6\" width=\"6\" x=\"-3\" y=\"-3\" /><text class=\"lab\" transform=\"translate(0 11)\">2</text></g><g class=\"a7 i1 leaf node n3 p0 sample\" transform=\"translate(13.3333 15.8352)\"><path class=\"edge\" d=\"M 0 0 V -15.8352 H -13.3333\" /><rect class=\"sym\" height=\"6\" width=\"6\" x=\"-3\" y=\"-3\" /><text class=\"lab\" transform=\"translate(0 11)\">3</text></g><path class=\"edge\" d=\"M 0 0 V -125.565 H -31.6667\" /><circle class=\"sym\" cx=\"0\" cy=\"0\" r=\"3\" /><text class=\"lab rgt\" transform=\"translate(3 -7.0)\">7</text></g><g class=\"a10 c2 node n9 p0\" transform=\"translate(-31.6667 18.3816)\"><g class=\"a9 i2 leaf node n5 p0 sample\" transform=\"translate(23.3333 123.018)\"><path class=\"edge\" d=\"M 0 0 V -123.018 H -23.3333\" /><rect class=\"sym\" height=\"6\" width=\"6\" x=\"-3\" y=\"-3\" /><text class=\"lab\" transform=\"translate(0 11)\">5</text></g><g class=\"a9 c2 node n8 p0\" transform=\"translate(-23.3333 60.4427)\"><g class=\"a8 i2 leaf node n4 p0 sample\" transform=\"translate(20 62.5757)\"><path class=\"edge\" d=\"M 0 0 V -62.5757 H -20\" /><rect class=\"sym\" height=\"6\" width=\"6\" x=\"-3\" y=\"-3\" /><text class=\"lab\" transform=\"translate(0 11)\">4</text></g><g class=\"a8 c2 node n6 p0\" transform=\"translate(-20 52.9655)\"><g class=\"a6 i0 leaf node n0 p0 sample\" transform=\"translate(-13.3333 9.61016)\"><path class=\"edge\" d=\"M 0 0 V -9.61016 H 13.3333\" /><rect class=\"sym\" height=\"6\" width=\"6\" x=\"-3\" y=\"-3\" /><text class=\"lab\" transform=\"translate(0 11)\">0</text></g><g class=\"a6 i0 leaf node n1 p0 sample\" transform=\"translate(13.3333 9.61016)\"><path class=\"edge\" d=\"M 0 0 V -9.61016 H -13.3333\" /><rect class=\"sym\" height=\"6\" width=\"6\" x=\"-3\" y=\"-3\" /><text class=\"lab\" transform=\"translate(0 11)\">1</text></g><path class=\"edge\" d=\"M 0 0 V -52.9655 H 20\" /><circle class=\"sym\" cx=\"0\" cy=\"0\" r=\"3\" /><text class=\"lab lft\" transform=\"translate(-3 -7.0)\">6</text></g><path class=\"edge\" d=\"M 0 0 V -60.4427 H 23.3333\" /><circle class=\"sym\" cx=\"0\" cy=\"0\" r=\"3\" /><text class=\"lab lft\" transform=\"translate(-3 -7.0)\">8</text></g><path class=\"edge\" d=\"M 0 0 V -18.3816 H 31.6667\" /><circle class=\"sym\" cx=\"0\" cy=\"0\" r=\"3\" /><text class=\"lab lft\" transform=\"translate(-3 -7.0)\">9</text></g><circle class=\"sym\" cx=\"0\" cy=\"0\" r=\"3\" /><text class=\"lab\" transform=\"translate(0 -11)\">10</text></g></g></g></svg>'"
      ]
     },
     "execution_count": 15,
     "metadata": {
      "filenames": {
       "image/svg+xml": "/home/runner/work/tutorials/tutorials/_build/jupyter_execute/analysing_trees_29_0.svg"
      }
     },
     "output_type": "execute_result"
    }
   ],
   "source": [
    "tree = tskit.load(\"data/parsimony_simple.trees\").first()\n",
    "alleles = [\"red\", \"blue\", \"green\"]\n",
    "genotypes = [0, 0, 0, 0, 1, 2]\n",
    "styles = [f\".n{j} > .sym {{fill: {alleles[g]}}}\" for j, g in enumerate(genotypes)]\n",
    "tree.draw_svg(style=\"\".join(styles))"
   ]
  },
  {
   "cell_type": "markdown",
   "id": "bf9d3d80",
   "metadata": {},
   "source": [
    "The {meth}`Tree.map_mutations` method finds a parsimonious explanation for a\n",
    "set of discrete character observations on the samples in a tree using classical\n",
    "phylogenetic algorithms:"
   ]
  },
  {
   "cell_type": "code",
   "execution_count": 16,
   "id": "34d7b335",
   "metadata": {},
   "outputs": [
    {
     "name": "stdout",
     "output_type": "stream",
     "text": [
      "Ancestral state =  red\n",
      "Mutation: node = 4 derived_state = blue\n",
      "Mutation: node = 5 derived_state = green\n"
     ]
    }
   ],
   "source": [
    "ancestral_state, mutations = tree.map_mutations(genotypes, alleles)\n",
    "print(\"Ancestral state = \", ancestral_state)\n",
    "for mut in mutations:\n",
    "    print(f\"Mutation: node = {mut.node} derived_state = {mut.derived_state}\")"
   ]
  },
  {
   "cell_type": "markdown",
   "id": "82a0c98d",
   "metadata": {},
   "source": [
    "In this case, the algorithm has concluded, quite reasonably, that the most parsimonious\n",
    "description of this state is that the ancestral state is red and there was\n",
    "a mutation to blue and green over nodes 4 and 5.\n",
    "\n",
    "### Building tables\n",
    "\n",
    "Below we show how a set of tables can be updated using the\n",
    "{ref}`Tables API<tskit:sec_tables_api>`, taking advantage of the\n",
    "{meth}`Tree.map_mutations` method to identify parsimonious positions\n",
    "for mutations on a tree. Here's the tree we'll use:"
   ]
  },
  {
   "cell_type": "code",
   "execution_count": 17,
   "id": "24782dfa",
   "metadata": {},
   "outputs": [
    {
     "data": {
      "image/svg+xml": [
       "<svg baseProfile=\"full\" height=\"300\" version=\"1.1\" width=\"500\" xmlns=\"http://www.w3.org/2000/svg\" xmlns:ev=\"http://www.w3.org/2001/xml-events\" xmlns:xlink=\"http://www.w3.org/1999/xlink\"><defs><style type=\"text/css\"><![CDATA[.background path {fill: #808080; fill-opacity: 0}.background path:nth-child(odd) {fill-opacity: .1}.axes {font-size: 14px}.x-axis .tick .lab {font-weight: bold; dominant-baseline: hanging}.axes, .tree {font-size: 14px; text-anchor: middle}.axes line, .edge {stroke: black; fill: none}.y-axis .grid {stroke: #FAFAFA}.node > .sym {fill: black; stroke: none}.site > .sym {stroke: black}.mut text {fill: red; font-style: italic}.mut.extra text {fill: hotpink}.mut line {fill: none; stroke: none}.mut .sym {fill: none; stroke: red}.mut.extra .sym {stroke: hotpink}.node .mut .sym {stroke-width: 1.5px}.tree text, .tree-sequence text {dominant-baseline: central}.plotbox .lab.lft {text-anchor: end}.plotbox .lab.rgt {text-anchor: start}]]></style></defs><g class=\"tree-sequence\"><g class=\"background\"><path d=\"M20,0 l460,0 l0,238.2 l0,25 l0,5 l-460,0 l0,-5 l0,-25 l0,-238.2z\" /></g><g class=\"axes\"><g class=\"x-axis\"><g transform=\"translate(250 300)\"><text class=\"lab\" text-anchor=\"middle\" transform=\"translate(0 -11)\">Genome position</text></g><line x1=\"20\" x2=\"480\" y1=\"263.2\" y2=\"263.2\" /><g class=\"ticks\"><g class=\"tick\" transform=\"translate(20 263.2)\"><line x1=\"0\" x2=\"0\" y1=\"0\" y2=\"5\" /><g transform=\"translate(0 6)\"><text class=\"lab\">0</text></g></g><g class=\"tick\" transform=\"translate(480 263.2)\"><line x1=\"0\" x2=\"0\" y1=\"0\" y2=\"5\" /><g transform=\"translate(0 6)\"><text class=\"lab\">100</text></g></g></g></g></g><g class=\"plotbox trees\"><g class=\"tree t0\" transform=\"translate(20 0)\"><g class=\"plotbox\"><g class=\"c2 node n10 p0 root\" transform=\"translate(195 26.8)\"><g class=\"a10 c2 node n6 p0\" transform=\"translate(-105 155.68)\"><g class=\"a6 i0 leaf node n0 p0 sample\" transform=\"translate(-35 38.92)\"><path class=\"edge\" d=\"M 0 0 V -38.92 H 35\" /><rect class=\"sym\" height=\"6\" width=\"6\" x=\"-3\" y=\"-3\" /><text class=\"lab\" transform=\"translate(0 11)\">0</text></g><g class=\"a6 i0 leaf node n1 p0 sample\" transform=\"translate(35 38.92)\"><path class=\"edge\" d=\"M 0 0 V -38.92 H -35\" /><rect class=\"sym\" height=\"6\" width=\"6\" x=\"-3\" y=\"-3\" /><text class=\"lab\" transform=\"translate(0 11)\">1</text></g><path class=\"edge\" d=\"M 0 0 V -155.68 H 105\" /><circle class=\"sym\" cx=\"0\" cy=\"0\" r=\"3\" /><text class=\"lab lft\" transform=\"translate(-3 -7.0)\">6</text></g><g class=\"a10 c2 node n9 p0\" transform=\"translate(105 38.92)\"><g class=\"a9 c2 node n7 p0\" transform=\"translate(-70 77.84)\"><g class=\"a7 i1 leaf node n2 p0 sample\" transform=\"translate(-35 77.84)\"><path class=\"edge\" d=\"M 0 0 V -77.84 H 35\" /><rect class=\"sym\" height=\"6\" width=\"6\" x=\"-3\" y=\"-3\" /><text class=\"lab\" transform=\"translate(0 11)\">2</text></g><g class=\"a7 i1 leaf node n3 p0 sample\" transform=\"translate(35 77.84)\"><path class=\"edge\" d=\"M 0 0 V -77.84 H -35\" /><rect class=\"sym\" height=\"6\" width=\"6\" x=\"-3\" y=\"-3\" /><text class=\"lab\" transform=\"translate(0 11)\">3</text></g><path class=\"edge\" d=\"M 0 0 V -77.84 H 70\" /><circle class=\"sym\" cx=\"0\" cy=\"0\" r=\"3\" /><text class=\"lab lft\" transform=\"translate(-3 -7.0)\">7</text></g><g class=\"a9 c2 node n8 p0\" transform=\"translate(70 38.92)\"><g class=\"a8 i2 leaf node n4 p0 sample\" transform=\"translate(-35 116.76)\"><path class=\"edge\" d=\"M 0 0 V -116.76 H 35\" /><rect class=\"sym\" height=\"6\" width=\"6\" x=\"-3\" y=\"-3\" /><text class=\"lab\" transform=\"translate(0 11)\">4</text></g><g class=\"a8 i2 leaf node n5 p0 sample\" transform=\"translate(35 116.76)\"><path class=\"edge\" d=\"M 0 0 V -116.76 H -35\" /><rect class=\"sym\" height=\"6\" width=\"6\" x=\"-3\" y=\"-3\" /><text class=\"lab\" transform=\"translate(0 11)\">5</text></g><path class=\"edge\" d=\"M 0 0 V -38.92 H -70\" /><circle class=\"sym\" cx=\"0\" cy=\"0\" r=\"3\" /><text class=\"lab rgt\" transform=\"translate(3 -7.0)\">8</text></g><path class=\"edge\" d=\"M 0 0 V -38.92 H -105\" /><circle class=\"sym\" cx=\"0\" cy=\"0\" r=\"3\" /><text class=\"lab rgt\" transform=\"translate(3 -7.0)\">9</text></g><circle class=\"sym\" cx=\"0\" cy=\"0\" r=\"3\" /><text class=\"lab\" transform=\"translate(0 -11)\">10</text></g></g></g></g></g></svg>"
      ],
      "text/plain": [
       "'<svg baseProfile=\"full\" height=\"300\" version=\"1.1\" width=\"500\" xmlns=\"http://www.w3.org/2000/svg\" xmlns:ev=\"http://www.w3.org/2001/xml-events\" xmlns:xlink=\"http://www.w3.org/1999/xlink\"><defs><style type=\"text/css\"><![CDATA[.background path {fill: #808080; fill-opacity: 0}.background path:nth-child(odd) {fill-opacity: .1}.axes {font-size: 14px}.x-axis .tick .lab {font-weight: bold; dominant-baseline: hanging}.axes, .tree {font-size: 14px; text-anchor: middle}.axes line, .edge {stroke: black; fill: none}.y-axis .grid {stroke: #FAFAFA}.node > .sym {fill: black; stroke: none}.site > .sym {stroke: black}.mut text {fill: red; font-style: italic}.mut.extra text {fill: hotpink}.mut line {fill: none; stroke: none}.mut .sym {fill: none; stroke: red}.mut.extra .sym {stroke: hotpink}.node .mut .sym {stroke-width: 1.5px}.tree text, .tree-sequence text {dominant-baseline: central}.plotbox .lab.lft {text-anchor: end}.plotbox .lab.rgt {text-anchor: start}]]></style></defs><g class=\"tree-sequence\"><g class=\"background\"><path d=\"M20,0 l460,0 l0,238.2 l0,25 l0,5 l-460,0 l0,-5 l0,-25 l0,-238.2z\" /></g><g class=\"axes\"><g class=\"x-axis\"><g transform=\"translate(250 300)\"><text class=\"lab\" text-anchor=\"middle\" transform=\"translate(0 -11)\">Genome position</text></g><line x1=\"20\" x2=\"480\" y1=\"263.2\" y2=\"263.2\" /><g class=\"ticks\"><g class=\"tick\" transform=\"translate(20 263.2)\"><line x1=\"0\" x2=\"0\" y1=\"0\" y2=\"5\" /><g transform=\"translate(0 6)\"><text class=\"lab\">0</text></g></g><g class=\"tick\" transform=\"translate(480 263.2)\"><line x1=\"0\" x2=\"0\" y1=\"0\" y2=\"5\" /><g transform=\"translate(0 6)\"><text class=\"lab\">100</text></g></g></g></g></g><g class=\"plotbox trees\"><g class=\"tree t0\" transform=\"translate(20 0)\"><g class=\"plotbox\"><g class=\"c2 node n10 p0 root\" transform=\"translate(195 26.8)\"><g class=\"a10 c2 node n6 p0\" transform=\"translate(-105 155.68)\"><g class=\"a6 i0 leaf node n0 p0 sample\" transform=\"translate(-35 38.92)\"><path class=\"edge\" d=\"M 0 0 V -38.92 H 35\" /><rect class=\"sym\" height=\"6\" width=\"6\" x=\"-3\" y=\"-3\" /><text class=\"lab\" transform=\"translate(0 11)\">0</text></g><g class=\"a6 i0 leaf node n1 p0 sample\" transform=\"translate(35 38.92)\"><path class=\"edge\" d=\"M 0 0 V -38.92 H -35\" /><rect class=\"sym\" height=\"6\" width=\"6\" x=\"-3\" y=\"-3\" /><text class=\"lab\" transform=\"translate(0 11)\">1</text></g><path class=\"edge\" d=\"M 0 0 V -155.68 H 105\" /><circle class=\"sym\" cx=\"0\" cy=\"0\" r=\"3\" /><text class=\"lab lft\" transform=\"translate(-3 -7.0)\">6</text></g><g class=\"a10 c2 node n9 p0\" transform=\"translate(105 38.92)\"><g class=\"a9 c2 node n7 p0\" transform=\"translate(-70 77.84)\"><g class=\"a7 i1 leaf node n2 p0 sample\" transform=\"translate(-35 77.84)\"><path class=\"edge\" d=\"M 0 0 V -77.84 H 35\" /><rect class=\"sym\" height=\"6\" width=\"6\" x=\"-3\" y=\"-3\" /><text class=\"lab\" transform=\"translate(0 11)\">2</text></g><g class=\"a7 i1 leaf node n3 p0 sample\" transform=\"translate(35 77.84)\"><path class=\"edge\" d=\"M 0 0 V -77.84 H -35\" /><rect class=\"sym\" height=\"6\" width=\"6\" x=\"-3\" y=\"-3\" /><text class=\"lab\" transform=\"translate(0 11)\">3</text></g><path class=\"edge\" d=\"M 0 0 V -77.84 H 70\" /><circle class=\"sym\" cx=\"0\" cy=\"0\" r=\"3\" /><text class=\"lab lft\" transform=\"translate(-3 -7.0)\">7</text></g><g class=\"a9 c2 node n8 p0\" transform=\"translate(70 38.92)\"><g class=\"a8 i2 leaf node n4 p0 sample\" transform=\"translate(-35 116.76)\"><path class=\"edge\" d=\"M 0 0 V -116.76 H 35\" /><rect class=\"sym\" height=\"6\" width=\"6\" x=\"-3\" y=\"-3\" /><text class=\"lab\" transform=\"translate(0 11)\">4</text></g><g class=\"a8 i2 leaf node n5 p0 sample\" transform=\"translate(35 116.76)\"><path class=\"edge\" d=\"M 0 0 V -116.76 H -35\" /><rect class=\"sym\" height=\"6\" width=\"6\" x=\"-3\" y=\"-3\" /><text class=\"lab\" transform=\"translate(0 11)\">5</text></g><path class=\"edge\" d=\"M 0 0 V -38.92 H -70\" /><circle class=\"sym\" cx=\"0\" cy=\"0\" r=\"3\" /><text class=\"lab rgt\" transform=\"translate(3 -7.0)\">8</text></g><path class=\"edge\" d=\"M 0 0 V -38.92 H -105\" /><circle class=\"sym\" cx=\"0\" cy=\"0\" r=\"3\" /><text class=\"lab rgt\" transform=\"translate(3 -7.0)\">9</text></g><circle class=\"sym\" cx=\"0\" cy=\"0\" r=\"3\" /><text class=\"lab\" transform=\"translate(0 -11)\">10</text></g></g></g></g></g></svg>'"
      ]
     },
     "execution_count": 17,
     "metadata": {
      "filenames": {
       "image/svg+xml": "/home/runner/work/tutorials/tutorials/_build/jupyter_execute/analysing_trees_33_0.svg"
      }
     },
     "output_type": "execute_result"
    }
   ],
   "source": [
    "import pickle\n",
    "ts = tskit.load(\"data/parsimony_map.trees\")\n",
    "ts.draw_svg(size=(500, 300), time_scale=\"rank\")"
   ]
  },
  {
   "cell_type": "markdown",
   "id": "c42baaf5",
   "metadata": {},
   "source": [
    "Now we can modify the tables by adding mutations. To find the location of mutations,\n",
    "we infer them from some observed data (some site positions with associated genotypes\n",
    "and allelic states, in the conventional {class}`tskit encoding <Variant>`):"
   ]
  },
  {
   "cell_type": "code",
   "execution_count": 18,
   "id": "3d13fd70",
   "metadata": {},
   "outputs": [
    {
     "name": "stdout",
     "output_type": "stream",
     "text": [
      "Variant data: each site has a position, allele list, and genotypes array:\n",
      "Site 0 (pos  8.3726): alleles: ('G', 'A'), genotypes: [1 1 0 0 0 0]\n",
      "Site 1 (pos 24.4759): alleles: ('T', 'C'), genotypes: [0 0 0 0 1 1]\n",
      "Site 2 (pos 34.3178): alleles: ('G', 'T'), genotypes: [0 0 1 1 0 0]\n",
      "Site 3 (pos 39.2118): alleles: ('G', 'C'), genotypes: [0 0 1 1 0 0]\n",
      "Site 4 (pos 44.0257): alleles: ('G', 'C'), genotypes: [1 1 0 0 0 0]\n",
      "Site 5 (pos 48.0932): alleles: ('C', 'G'), genotypes: [0 0 1 1 0 0]\n",
      "Site 6 (pos 68.4830): alleles: ('C', 'G'), genotypes: [0 0 1 1 0 0]\n",
      "Site 7 (pos 69.4755): alleles: ('A', 'C'), genotypes: [0 0 0 0 1 1]\n",
      "Site 8 (pos 71.2330): alleles: ('C', 'T'), genotypes: [1 1 0 0 0 0]\n",
      "Site 9 (pos 71.9150): alleles: ('G', 'T'), genotypes: [0 0 0 0 0 1]\n",
      "\n",
      "Site 0: parsimony sets ancestral state to G, and places mutation 0 to A above node 6\n",
      "Site 1: parsimony sets ancestral state to T, and places mutation 1 to C above node 8\n",
      "Site 2: parsimony sets ancestral state to G, and places mutation 2 to T above node 7\n",
      "Site 3: parsimony sets ancestral state to G, and places mutation 3 to C above node 7\n",
      "Site 4: parsimony sets ancestral state to G, and places mutation 4 to C above node 6\n",
      "Site 5: parsimony sets ancestral state to C, and places mutation 5 to G above node 7\n",
      "Site 6: parsimony sets ancestral state to C, and places mutation 6 to G above node 7\n",
      "Site 7: parsimony sets ancestral state to A, and places mutation 7 to C above node 8\n",
      "Site 8: parsimony sets ancestral state to C, and places mutation 8 to T above node 6\n",
      "Site 9: parsimony sets ancestral state to G, and places mutation 9 to T above node 5\n"
     ]
    }
   ],
   "source": [
    "with open(\"data/parsimony_map.pickle\", \"rb\") as file:\n",
    "    data = pickle.load(file)  # Load saved variant data from a file\n",
    "print(\"Variant data: each site has a position, allele list, and genotypes array:\")\n",
    "for i, v in enumerate(data):\n",
    "    print(f\"Site {i} (pos {v['pos']:7.4f}): alleles: {v['alleles']}, genotypes: {v['genotypes']}\")\n",
    "print()\n",
    "tree = ts.first()  # there's only one tree anyway\n",
    "tables = ts.dump_tables()\n",
    "# Infer the sites and mutations from the variants.\n",
    "for variant in data:\n",
    "    ancestral_state, mutations = tree.map_mutations(variant[\"genotypes\"], variant['alleles'])\n",
    "    site_id = tables.sites.add_row(variant['pos'], ancestral_state=ancestral_state)\n",
    "    info = f\"Site {site_id}: parsimony sets ancestral state to {ancestral_state}\"\n",
    "    parent_offset = len(tables.mutations)\n",
    "    for mut in mutations:\n",
    "        parent = mut.parent\n",
    "        if parent != tskit.NULL:\n",
    "            parent += parent_offset\n",
    "        mut_id = tables.mutations.add_row(\n",
    "            site_id, node=mut.node, parent=parent, derived_state=mut.derived_state)\n",
    "        info += f\", and places mutation {mut_id} to {mut.derived_state} above node {mut.node}\"\n",
    "    print(info)\n",
    "new_ts = tables.tree_sequence()"
   ]
  },
  {
   "cell_type": "markdown",
   "id": "8c3ce50d",
   "metadata": {},
   "source": [
    "And here are the parsimoniously positioned mutations on the tree"
   ]
  },
  {
   "cell_type": "code",
   "execution_count": 19,
   "id": "f6d9d448",
   "metadata": {},
   "outputs": [
    {
     "data": {
      "image/svg+xml": [
       "<svg baseProfile=\"full\" height=\"300\" version=\"1.1\" width=\"500\" xmlns=\"http://www.w3.org/2000/svg\" xmlns:ev=\"http://www.w3.org/2001/xml-events\" xmlns:xlink=\"http://www.w3.org/1999/xlink\"><defs><style type=\"text/css\"><![CDATA[.background path {fill: #808080; fill-opacity: 0}.background path:nth-child(odd) {fill-opacity: .1}.axes {font-size: 14px}.x-axis .tick .lab {font-weight: bold; dominant-baseline: hanging}.axes, .tree {font-size: 14px; text-anchor: middle}.axes line, .edge {stroke: black; fill: none}.y-axis .grid {stroke: #FAFAFA}.node > .sym {fill: black; stroke: none}.site > .sym {stroke: black}.mut text {fill: red; font-style: italic}.mut.extra text {fill: hotpink}.mut line {fill: none; stroke: none}.mut .sym {fill: none; stroke: red}.mut.extra .sym {stroke: hotpink}.node .mut .sym {stroke-width: 1.5px}.tree text, .tree-sequence text {dominant-baseline: central}.plotbox .lab.lft {text-anchor: end}.plotbox .lab.rgt {text-anchor: start}]]></style></defs><g class=\"tree-sequence\"><g class=\"background\"><path d=\"M20,0 l460,0 l0,238.2 l0,25 l0,5 l-460,0 l0,-5 l0,-25 l0,-238.2z\" /></g><g class=\"axes\"><g class=\"x-axis\"><g transform=\"translate(250 300)\"><text class=\"lab\" text-anchor=\"middle\" transform=\"translate(0 -11)\">Genome position</text></g><line x1=\"20\" x2=\"480\" y1=\"263.2\" y2=\"263.2\" /><g class=\"ticks\"><g class=\"tick\" transform=\"translate(20 263.2)\"><line x1=\"0\" x2=\"0\" y1=\"0\" y2=\"5\" /><g transform=\"translate(0 6)\"><text class=\"lab\">0</text></g></g><g class=\"tick\" transform=\"translate(480 263.2)\"><line x1=\"0\" x2=\"0\" y1=\"0\" y2=\"5\" /><g transform=\"translate(0 6)\"><text class=\"lab\">100</text></g></g></g><g class=\"site s0\" transform=\"translate(58.5142 263.2)\"><line class=\"sym\" x1=\"0\" x2=\"0\" y1=\"0\" y2=\"-10\" /><g class=\"mut m0\"><polyline class=\"sym\" points=\"2.5,-6.5 0,-1.5 -2.5,-6.5\" /></g></g><g class=\"site s1\" transform=\"translate(132.589 263.2)\"><line class=\"sym\" x1=\"0\" x2=\"0\" y1=\"0\" y2=\"-10\" /><g class=\"mut m1\"><polyline class=\"sym\" points=\"2.5,-6.5 0,-1.5 -2.5,-6.5\" /></g></g><g class=\"site s2\" transform=\"translate(177.862 263.2)\"><line class=\"sym\" x1=\"0\" x2=\"0\" y1=\"0\" y2=\"-10\" /><g class=\"mut m2\"><polyline class=\"sym\" points=\"2.5,-6.5 0,-1.5 -2.5,-6.5\" /></g></g><g class=\"site s3\" transform=\"translate(200.374 263.2)\"><line class=\"sym\" x1=\"0\" x2=\"0\" y1=\"0\" y2=\"-10\" /><g class=\"mut m3\"><polyline class=\"sym\" points=\"2.5,-6.5 0,-1.5 -2.5,-6.5\" /></g></g><g class=\"site s4\" transform=\"translate(222.518 263.2)\"><line class=\"sym\" x1=\"0\" x2=\"0\" y1=\"0\" y2=\"-10\" /><g class=\"mut m4\"><polyline class=\"sym\" points=\"2.5,-6.5 0,-1.5 -2.5,-6.5\" /></g></g><g class=\"site s5\" transform=\"translate(241.229 263.2)\"><line class=\"sym\" x1=\"0\" x2=\"0\" y1=\"0\" y2=\"-10\" /><g class=\"mut m5\"><polyline class=\"sym\" points=\"2.5,-6.5 0,-1.5 -2.5,-6.5\" /></g></g><g class=\"site s6\" transform=\"translate(335.022 263.2)\"><line class=\"sym\" x1=\"0\" x2=\"0\" y1=\"0\" y2=\"-10\" /><g class=\"mut m6\"><polyline class=\"sym\" points=\"2.5,-6.5 0,-1.5 -2.5,-6.5\" /></g></g><g class=\"site s7\" transform=\"translate(339.587 263.2)\"><line class=\"sym\" x1=\"0\" x2=\"0\" y1=\"0\" y2=\"-10\" /><g class=\"mut m7\"><polyline class=\"sym\" points=\"2.5,-6.5 0,-1.5 -2.5,-6.5\" /></g></g><g class=\"site s8\" transform=\"translate(347.672 263.2)\"><line class=\"sym\" x1=\"0\" x2=\"0\" y1=\"0\" y2=\"-10\" /><g class=\"mut m8\"><polyline class=\"sym\" points=\"2.5,-6.5 0,-1.5 -2.5,-6.5\" /></g></g><g class=\"site s9\" transform=\"translate(350.809 263.2)\"><line class=\"sym\" x1=\"0\" x2=\"0\" y1=\"0\" y2=\"-10\" /><g class=\"mut m9\"><polyline class=\"sym\" points=\"2.5,-6.5 0,-1.5 -2.5,-6.5\" /></g></g></g></g><g class=\"plotbox trees\"><g class=\"tree t0\" transform=\"translate(20 0)\"><g class=\"plotbox\"><g class=\"c2 node n10 p0 root\" transform=\"translate(195 26.8)\"><g class=\"a10 c2 m0 m4 m8 node n6 p0 s0 s4 s8\" transform=\"translate(-105 155.68)\"><g class=\"a6 i0 leaf node n0 p0 sample\" transform=\"translate(-35 38.92)\"><path class=\"edge\" d=\"M 0 0 V -38.92 H 35\" /><rect class=\"sym\" height=\"6\" width=\"6\" x=\"-3\" y=\"-3\" /><text class=\"lab\" transform=\"translate(0 11)\">0</text></g><g class=\"a6 i0 leaf node n1 p0 sample\" transform=\"translate(35 38.92)\"><path class=\"edge\" d=\"M 0 0 V -38.92 H -35\" /><rect class=\"sym\" height=\"6\" width=\"6\" x=\"-3\" y=\"-3\" /><text class=\"lab\" transform=\"translate(0 11)\">1</text></g><path class=\"edge\" d=\"M 0 0 V -155.68 H 105\" /><g class=\"mut m0 s0 unknown_time\" transform=\"translate(0 -116.76)\"><line x1=\"0\" x2=\"0\" y1=\"0\" y2=\"116.76\" /><path class=\"sym\" d=\"M -3,-3 l 6,6 M -3,3 l 6,-6\" /><text class=\"lab lft\" transform=\"translate(-5 0)\">0: G→A</text></g><g class=\"mut m4 s4 unknown_time\" transform=\"translate(0 -77.84)\"><line x1=\"0\" x2=\"0\" y1=\"0\" y2=\"77.84\" /><path class=\"sym\" d=\"M -3,-3 l 6,6 M -3,3 l 6,-6\" /><text class=\"lab lft\" transform=\"translate(-5 0)\">4: G→C</text></g><g class=\"mut m8 s8 unknown_time\" transform=\"translate(0 -38.92)\"><line x1=\"0\" x2=\"0\" y1=\"0\" y2=\"38.92\" /><path class=\"sym\" d=\"M -3,-3 l 6,6 M -3,3 l 6,-6\" /><text class=\"lab lft\" transform=\"translate(-5 0)\">8: C→T</text></g><circle class=\"sym\" cx=\"0\" cy=\"0\" r=\"3\" /><text class=\"lab lft\" transform=\"translate(-3 -7.0)\">6</text></g><g class=\"a10 c2 node n9 p0\" transform=\"translate(105 38.92)\"><g class=\"a9 c2 m2 m3 m5 m6 node n7 p0 s2 s3 s5 s6\" transform=\"translate(-70 77.84)\"><g class=\"a7 i1 leaf node n2 p0 sample\" transform=\"translate(-35 77.84)\"><path class=\"edge\" d=\"M 0 0 V -77.84 H 35\" /><rect class=\"sym\" height=\"6\" width=\"6\" x=\"-3\" y=\"-3\" /><text class=\"lab\" transform=\"translate(0 11)\">2</text></g><g class=\"a7 i1 leaf node n3 p0 sample\" transform=\"translate(35 77.84)\"><path class=\"edge\" d=\"M 0 0 V -77.84 H -35\" /><rect class=\"sym\" height=\"6\" width=\"6\" x=\"-3\" y=\"-3\" /><text class=\"lab\" transform=\"translate(0 11)\">3</text></g><path class=\"edge\" d=\"M 0 0 V -77.84 H 70\" /><g class=\"mut m2 s2 unknown_time\" transform=\"translate(0 -62.272)\"><line x1=\"0\" x2=\"0\" y1=\"0\" y2=\"62.272\" /><path class=\"sym\" d=\"M -3,-3 l 6,6 M -3,3 l 6,-6\" /><text class=\"lab lft\" transform=\"translate(-5 0)\">2: G→T</text></g><g class=\"mut m3 s3 unknown_time\" transform=\"translate(0 -46.704)\"><line x1=\"0\" x2=\"0\" y1=\"0\" y2=\"46.704\" /><path class=\"sym\" d=\"M -3,-3 l 6,6 M -3,3 l 6,-6\" /><text class=\"lab lft\" transform=\"translate(-5 0)\">3: G→C</text></g><g class=\"mut m5 s5 unknown_time\" transform=\"translate(0 -31.136)\"><line x1=\"0\" x2=\"0\" y1=\"0\" y2=\"31.136\" /><path class=\"sym\" d=\"M -3,-3 l 6,6 M -3,3 l 6,-6\" /><text class=\"lab lft\" transform=\"translate(-5 0)\">5: C→G</text></g><g class=\"mut m6 s6 unknown_time\" transform=\"translate(0 -15.568)\"><line x1=\"0\" x2=\"0\" y1=\"0\" y2=\"15.568\" /><path class=\"sym\" d=\"M -3,-3 l 6,6 M -3,3 l 6,-6\" /><text class=\"lab lft\" transform=\"translate(-5 0)\">6: C→G</text></g><circle class=\"sym\" cx=\"0\" cy=\"0\" r=\"3\" /><text class=\"lab lft\" transform=\"translate(-3 -7.0)\">7</text></g><g class=\"a9 c2 m1 m7 node n8 p0 s1 s7\" transform=\"translate(70 38.92)\"><g class=\"a8 i2 leaf node n4 p0 sample\" transform=\"translate(-35 116.76)\"><path class=\"edge\" d=\"M 0 0 V -116.76 H 35\" /><rect class=\"sym\" height=\"6\" width=\"6\" x=\"-3\" y=\"-3\" /><text class=\"lab\" transform=\"translate(0 11)\">4</text></g><g class=\"a8 i2 leaf m9 node n5 p0 s9 sample\" transform=\"translate(35 116.76)\"><path class=\"edge\" d=\"M 0 0 V -116.76 H -35\" /><g class=\"mut m9 s9 unknown_time\" transform=\"translate(0 -58.38)\"><line x1=\"0\" x2=\"0\" y1=\"0\" y2=\"58.38\" /><path class=\"sym\" d=\"M -3,-3 l 6,6 M -3,3 l 6,-6\" /><text class=\"lab rgt\" transform=\"translate(5 0)\">9: G→T</text></g><rect class=\"sym\" height=\"6\" width=\"6\" x=\"-3\" y=\"-3\" /><text class=\"lab\" transform=\"translate(0 11)\">5</text></g><path class=\"edge\" d=\"M 0 0 V -38.92 H -70\" /><g class=\"mut m1 s1 unknown_time\" transform=\"translate(0 -25.9467)\"><line x1=\"0\" x2=\"0\" y1=\"0\" y2=\"25.9467\" /><path class=\"sym\" d=\"M -3,-3 l 6,6 M -3,3 l 6,-6\" /><text class=\"lab rgt\" transform=\"translate(5 0)\">1: T→C</text></g><g class=\"mut m7 s7 unknown_time\" transform=\"translate(0 -12.9733)\"><line x1=\"0\" x2=\"0\" y1=\"0\" y2=\"12.9733\" /><path class=\"sym\" d=\"M -3,-3 l 6,6 M -3,3 l 6,-6\" /><text class=\"lab rgt\" transform=\"translate(5 0)\">7: A→C</text></g><circle class=\"sym\" cx=\"0\" cy=\"0\" r=\"3\" /><text class=\"lab rgt\" transform=\"translate(3 -7.0)\">8</text></g><path class=\"edge\" d=\"M 0 0 V -38.92 H -105\" /><circle class=\"sym\" cx=\"0\" cy=\"0\" r=\"3\" /><text class=\"lab rgt\" transform=\"translate(3 -7.0)\">9</text></g><circle class=\"sym\" cx=\"0\" cy=\"0\" r=\"3\" /><text class=\"lab\" transform=\"translate(0 -11)\">10</text></g></g></g></g></g></svg>"
      ],
      "text/plain": [
       "'<svg baseProfile=\"full\" height=\"300\" version=\"1.1\" width=\"500\" xmlns=\"http://www.w3.org/2000/svg\" xmlns:ev=\"http://www.w3.org/2001/xml-events\" xmlns:xlink=\"http://www.w3.org/1999/xlink\"><defs><style type=\"text/css\"><![CDATA[.background path {fill: #808080; fill-opacity: 0}.background path:nth-child(odd) {fill-opacity: .1}.axes {font-size: 14px}.x-axis .tick .lab {font-weight: bold; dominant-baseline: hanging}.axes, .tree {font-size: 14px; text-anchor: middle}.axes line, .edge {stroke: black; fill: none}.y-axis .grid {stroke: #FAFAFA}.node > .sym {fill: black; stroke: none}.site > .sym {stroke: black}.mut text {fill: red; font-style: italic}.mut.extra text {fill: hotpink}.mut line {fill: none; stroke: none}.mut .sym {fill: none; stroke: red}.mut.extra .sym {stroke: hotpink}.node .mut .sym {stroke-width: 1.5px}.tree text, .tree-sequence text {dominant-baseline: central}.plotbox .lab.lft {text-anchor: end}.plotbox .lab.rgt {text-anchor: start}]]></style></defs><g class=\"tree-sequence\"><g class=\"background\"><path d=\"M20,0 l460,0 l0,238.2 l0,25 l0,5 l-460,0 l0,-5 l0,-25 l0,-238.2z\" /></g><g class=\"axes\"><g class=\"x-axis\"><g transform=\"translate(250 300)\"><text class=\"lab\" text-anchor=\"middle\" transform=\"translate(0 -11)\">Genome position</text></g><line x1=\"20\" x2=\"480\" y1=\"263.2\" y2=\"263.2\" /><g class=\"ticks\"><g class=\"tick\" transform=\"translate(20 263.2)\"><line x1=\"0\" x2=\"0\" y1=\"0\" y2=\"5\" /><g transform=\"translate(0 6)\"><text class=\"lab\">0</text></g></g><g class=\"tick\" transform=\"translate(480 263.2)\"><line x1=\"0\" x2=\"0\" y1=\"0\" y2=\"5\" /><g transform=\"translate(0 6)\"><text class=\"lab\">100</text></g></g></g><g class=\"site s0\" transform=\"translate(58.5142 263.2)\"><line class=\"sym\" x1=\"0\" x2=\"0\" y1=\"0\" y2=\"-10\" /><g class=\"mut m0\"><polyline class=\"sym\" points=\"2.5,-6.5 0,-1.5 -2.5,-6.5\" /></g></g><g class=\"site s1\" transform=\"translate(132.589 263.2)\"><line class=\"sym\" x1=\"0\" x2=\"0\" y1=\"0\" y2=\"-10\" /><g class=\"mut m1\"><polyline class=\"sym\" points=\"2.5,-6.5 0,-1.5 -2.5,-6.5\" /></g></g><g class=\"site s2\" transform=\"translate(177.862 263.2)\"><line class=\"sym\" x1=\"0\" x2=\"0\" y1=\"0\" y2=\"-10\" /><g class=\"mut m2\"><polyline class=\"sym\" points=\"2.5,-6.5 0,-1.5 -2.5,-6.5\" /></g></g><g class=\"site s3\" transform=\"translate(200.374 263.2)\"><line class=\"sym\" x1=\"0\" x2=\"0\" y1=\"0\" y2=\"-10\" /><g class=\"mut m3\"><polyline class=\"sym\" points=\"2.5,-6.5 0,-1.5 -2.5,-6.5\" /></g></g><g class=\"site s4\" transform=\"translate(222.518 263.2)\"><line class=\"sym\" x1=\"0\" x2=\"0\" y1=\"0\" y2=\"-10\" /><g class=\"mut m4\"><polyline class=\"sym\" points=\"2.5,-6.5 0,-1.5 -2.5,-6.5\" /></g></g><g class=\"site s5\" transform=\"translate(241.229 263.2)\"><line class=\"sym\" x1=\"0\" x2=\"0\" y1=\"0\" y2=\"-10\" /><g class=\"mut m5\"><polyline class=\"sym\" points=\"2.5,-6.5 0,-1.5 -2.5,-6.5\" /></g></g><g class=\"site s6\" transform=\"translate(335.022 263.2)\"><line class=\"sym\" x1=\"0\" x2=\"0\" y1=\"0\" y2=\"-10\" /><g class=\"mut m6\"><polyline class=\"sym\" points=\"2.5,-6.5 0,-1.5 -2.5,-6.5\" /></g></g><g class=\"site s7\" transform=\"translate(339.587 263.2)\"><line class=\"sym\" x1=\"0\" x2=\"0\" y1=\"0\" y2=\"-10\" /><g class=\"mut m7\"><polyline class=\"sym\" points=\"2.5,-6.5 0,-1.5 -2.5,-6.5\" /></g></g><g class=\"site s8\" transform=\"translate(347.672 263.2)\"><line class=\"sym\" x1=\"0\" x2=\"0\" y1=\"0\" y2=\"-10\" /><g class=\"mut m8\"><polyline class=\"sym\" points=\"2.5,-6.5 0,-1.5 -2.5,-6.5\" /></g></g><g class=\"site s9\" transform=\"translate(350.809 263.2)\"><line class=\"sym\" x1=\"0\" x2=\"0\" y1=\"0\" y2=\"-10\" /><g class=\"mut m9\"><polyline class=\"sym\" points=\"2.5,-6.5 0,-1.5 -2.5,-6.5\" /></g></g></g></g><g class=\"plotbox trees\"><g class=\"tree t0\" transform=\"translate(20 0)\"><g class=\"plotbox\"><g class=\"c2 node n10 p0 root\" transform=\"translate(195 26.8)\"><g class=\"a10 c2 m0 m4 m8 node n6 p0 s0 s4 s8\" transform=\"translate(-105 155.68)\"><g class=\"a6 i0 leaf node n0 p0 sample\" transform=\"translate(-35 38.92)\"><path class=\"edge\" d=\"M 0 0 V -38.92 H 35\" /><rect class=\"sym\" height=\"6\" width=\"6\" x=\"-3\" y=\"-3\" /><text class=\"lab\" transform=\"translate(0 11)\">0</text></g><g class=\"a6 i0 leaf node n1 p0 sample\" transform=\"translate(35 38.92)\"><path class=\"edge\" d=\"M 0 0 V -38.92 H -35\" /><rect class=\"sym\" height=\"6\" width=\"6\" x=\"-3\" y=\"-3\" /><text class=\"lab\" transform=\"translate(0 11)\">1</text></g><path class=\"edge\" d=\"M 0 0 V -155.68 H 105\" /><g class=\"mut m0 s0 unknown_time\" transform=\"translate(0 -116.76)\"><line x1=\"0\" x2=\"0\" y1=\"0\" y2=\"116.76\" /><path class=\"sym\" d=\"M -3,-3 l 6,6 M -3,3 l 6,-6\" /><text class=\"lab lft\" transform=\"translate(-5 0)\">0: G→A</text></g><g class=\"mut m4 s4 unknown_time\" transform=\"translate(0 -77.84)\"><line x1=\"0\" x2=\"0\" y1=\"0\" y2=\"77.84\" /><path class=\"sym\" d=\"M -3,-3 l 6,6 M -3,3 l 6,-6\" /><text class=\"lab lft\" transform=\"translate(-5 0)\">4: G→C</text></g><g class=\"mut m8 s8 unknown_time\" transform=\"translate(0 -38.92)\"><line x1=\"0\" x2=\"0\" y1=\"0\" y2=\"38.92\" /><path class=\"sym\" d=\"M -3,-3 l 6,6 M -3,3 l 6,-6\" /><text class=\"lab lft\" transform=\"translate(-5 0)\">8: C→T</text></g><circle class=\"sym\" cx=\"0\" cy=\"0\" r=\"3\" /><text class=\"lab lft\" transform=\"translate(-3 -7.0)\">6</text></g><g class=\"a10 c2 node n9 p0\" transform=\"translate(105 38.92)\"><g class=\"a9 c2 m2 m3 m5 m6 node n7 p0 s2 s3 s5 s6\" transform=\"translate(-70 77.84)\"><g class=\"a7 i1 leaf node n2 p0 sample\" transform=\"translate(-35 77.84)\"><path class=\"edge\" d=\"M 0 0 V -77.84 H 35\" /><rect class=\"sym\" height=\"6\" width=\"6\" x=\"-3\" y=\"-3\" /><text class=\"lab\" transform=\"translate(0 11)\">2</text></g><g class=\"a7 i1 leaf node n3 p0 sample\" transform=\"translate(35 77.84)\"><path class=\"edge\" d=\"M 0 0 V -77.84 H -35\" /><rect class=\"sym\" height=\"6\" width=\"6\" x=\"-3\" y=\"-3\" /><text class=\"lab\" transform=\"translate(0 11)\">3</text></g><path class=\"edge\" d=\"M 0 0 V -77.84 H 70\" /><g class=\"mut m2 s2 unknown_time\" transform=\"translate(0 -62.272)\"><line x1=\"0\" x2=\"0\" y1=\"0\" y2=\"62.272\" /><path class=\"sym\" d=\"M -3,-3 l 6,6 M -3,3 l 6,-6\" /><text class=\"lab lft\" transform=\"translate(-5 0)\">2: G→T</text></g><g class=\"mut m3 s3 unknown_time\" transform=\"translate(0 -46.704)\"><line x1=\"0\" x2=\"0\" y1=\"0\" y2=\"46.704\" /><path class=\"sym\" d=\"M -3,-3 l 6,6 M -3,3 l 6,-6\" /><text class=\"lab lft\" transform=\"translate(-5 0)\">3: G→C</text></g><g class=\"mut m5 s5 unknown_time\" transform=\"translate(0 -31.136)\"><line x1=\"0\" x2=\"0\" y1=\"0\" y2=\"31.136\" /><path class=\"sym\" d=\"M -3,-3 l 6,6 M -3,3 l 6,-6\" /><text class=\"lab lft\" transform=\"translate(-5 0)\">5: C→G</text></g><g class=\"mut m6 s6 unknown_time\" transform=\"translate(0 -15.568)\"><line x1=\"0\" x2=\"0\" y1=\"0\" y2=\"15.568\" /><path class=\"sym\" d=\"M -3,-3 l 6,6 M -3,3 l 6,-6\" /><text class=\"lab lft\" transform=\"translate(-5 0)\">6: C→G</text></g><circle class=\"sym\" cx=\"0\" cy=\"0\" r=\"3\" /><text class=\"lab lft\" transform=\"translate(-3 -7.0)\">7</text></g><g class=\"a9 c2 m1 m7 node n8 p0 s1 s7\" transform=\"translate(70 38.92)\"><g class=\"a8 i2 leaf node n4 p0 sample\" transform=\"translate(-35 116.76)\"><path class=\"edge\" d=\"M 0 0 V -116.76 H 35\" /><rect class=\"sym\" height=\"6\" width=\"6\" x=\"-3\" y=\"-3\" /><text class=\"lab\" transform=\"translate(0 11)\">4</text></g><g class=\"a8 i2 leaf m9 node n5 p0 s9 sample\" transform=\"translate(35 116.76)\"><path class=\"edge\" d=\"M 0 0 V -116.76 H -35\" /><g class=\"mut m9 s9 unknown_time\" transform=\"translate(0 -58.38)\"><line x1=\"0\" x2=\"0\" y1=\"0\" y2=\"58.38\" /><path class=\"sym\" d=\"M -3,-3 l 6,6 M -3,3 l 6,-6\" /><text class=\"lab rgt\" transform=\"translate(5 0)\">9: G→T</text></g><rect class=\"sym\" height=\"6\" width=\"6\" x=\"-3\" y=\"-3\" /><text class=\"lab\" transform=\"translate(0 11)\">5</text></g><path class=\"edge\" d=\"M 0 0 V -38.92 H -70\" /><g class=\"mut m1 s1 unknown_time\" transform=\"translate(0 -25.9467)\"><line x1=\"0\" x2=\"0\" y1=\"0\" y2=\"25.9467\" /><path class=\"sym\" d=\"M -3,-3 l 6,6 M -3,3 l 6,-6\" /><text class=\"lab rgt\" transform=\"translate(5 0)\">1: T→C</text></g><g class=\"mut m7 s7 unknown_time\" transform=\"translate(0 -12.9733)\"><line x1=\"0\" x2=\"0\" y1=\"0\" y2=\"12.9733\" /><path class=\"sym\" d=\"M -3,-3 l 6,6 M -3,3 l 6,-6\" /><text class=\"lab rgt\" transform=\"translate(5 0)\">7: A→C</text></g><circle class=\"sym\" cx=\"0\" cy=\"0\" r=\"3\" /><text class=\"lab rgt\" transform=\"translate(3 -7.0)\">8</text></g><path class=\"edge\" d=\"M 0 0 V -38.92 H -105\" /><circle class=\"sym\" cx=\"0\" cy=\"0\" r=\"3\" /><text class=\"lab rgt\" transform=\"translate(3 -7.0)\">9</text></g><circle class=\"sym\" cx=\"0\" cy=\"0\" r=\"3\" /><text class=\"lab\" transform=\"translate(0 -11)\">10</text></g></g></g></g></g></svg>'"
      ]
     },
     "execution_count": 19,
     "metadata": {
      "filenames": {
       "image/svg+xml": "/home/runner/work/tutorials/tutorials/_build/jupyter_execute/analysing_trees_37_0.svg"
      }
     },
     "output_type": "execute_result"
    }
   ],
   "source": [
    "mut_labels = {}  # An array of labels for the mutations\n",
    "for mut in new_ts.mutations():  # Make pretty labels showing the change in state\n",
    "    site = new_ts.site(mut.site)\n",
    "    older_mut = mut.parent >= 0  # is there an older mutation at the same position?\n",
    "    prev = new_ts.mutation(mut.parent).derived_state if older_mut else site.ancestral_state\n",
    "    mut_labels[site.id] = f\"{mut.id}: {prev}→{mut.derived_state}\"\n",
    "\n",
    "new_ts.draw_svg(size=(500, 300), mutation_labels=mut_labels, time_scale=\"rank\")"
   ]
  },
  {
   "cell_type": "markdown",
   "id": "b03909e6",
   "metadata": {},
   "source": [
    "### Parsimony and missing data\n",
    "\n",
    "We can also take missing data\n",
    "into account when finding a set of parsimonious state transitions. We do this by\n",
    "specifying the special value {data}`tskit.MISSING_DATA` (-1) as the state, which is\n",
    "treated by the algorithm as \"could be anything\".\n",
    "\n",
    "For example, here we state that sample 0 is missing, indicated by the colour white:"
   ]
  },
  {
   "cell_type": "code",
   "execution_count": 20,
   "id": "cee9ac0b",
   "metadata": {},
   "outputs": [
    {
     "data": {
      "image/svg+xml": [
       "<svg baseProfile=\"full\" height=\"200\" version=\"1.1\" width=\"200\" xmlns=\"http://www.w3.org/2000/svg\" xmlns:ev=\"http://www.w3.org/2001/xml-events\" xmlns:xlink=\"http://www.w3.org/1999/xlink\"><defs><style type=\"text/css\"><![CDATA[.background path {fill: #808080; fill-opacity: 0}.background path:nth-child(odd) {fill-opacity: .1}.axes {font-size: 14px}.x-axis .tick .lab {font-weight: bold; dominant-baseline: hanging}.axes, .tree {font-size: 14px; text-anchor: middle}.axes line, .edge {stroke: black; fill: none}.y-axis .grid {stroke: #FAFAFA}.node > .sym {fill: black; stroke: none}.site > .sym {stroke: black}.mut text {fill: red; font-style: italic}.mut.extra text {fill: hotpink}.mut line {fill: none; stroke: none}.mut .sym {fill: none; stroke: red}.mut.extra .sym {stroke: hotpink}.node .mut .sym {stroke-width: 1.5px}.tree text, .tree-sequence text {dominant-baseline: central}.plotbox .lab.lft {text-anchor: end}.plotbox .lab.rgt {text-anchor: start}.n0 > .sym {fill: white}.n1 > .sym {fill: red}.n2 > .sym {fill: red}.n3 > .sym {fill: red}.n4 > .sym {fill: blue}.n5 > .sym {fill: green}]]></style></defs><g class=\"tree t0\"><g class=\"plotbox\"><g class=\"c2 node n10 p0 root\" transform=\"translate(121.667 26.8)\"><g class=\"a10 c2 node n7 p0\" transform=\"translate(31.6667 125.565)\"><g class=\"a7 i1 leaf node n2 p0 sample\" transform=\"translate(-13.3333 15.8352)\"><path class=\"edge\" d=\"M 0 0 V -15.8352 H 13.3333\" /><rect class=\"sym\" height=\"6\" width=\"6\" x=\"-3\" y=\"-3\" /><text class=\"lab\" transform=\"translate(0 11)\">2</text></g><g class=\"a7 i1 leaf node n3 p0 sample\" transform=\"translate(13.3333 15.8352)\"><path class=\"edge\" d=\"M 0 0 V -15.8352 H -13.3333\" /><rect class=\"sym\" height=\"6\" width=\"6\" x=\"-3\" y=\"-3\" /><text class=\"lab\" transform=\"translate(0 11)\">3</text></g><path class=\"edge\" d=\"M 0 0 V -125.565 H -31.6667\" /><circle class=\"sym\" cx=\"0\" cy=\"0\" r=\"3\" /><text class=\"lab rgt\" transform=\"translate(3 -7.0)\">7</text></g><g class=\"a10 c2 node n9 p0\" transform=\"translate(-31.6667 18.3816)\"><g class=\"a9 i2 leaf node n5 p0 sample\" transform=\"translate(23.3333 123.018)\"><path class=\"edge\" d=\"M 0 0 V -123.018 H -23.3333\" /><rect class=\"sym\" height=\"6\" width=\"6\" x=\"-3\" y=\"-3\" /><text class=\"lab\" transform=\"translate(0 11)\">5</text></g><g class=\"a9 c2 node n8 p0\" transform=\"translate(-23.3333 60.4427)\"><g class=\"a8 i2 leaf node n4 p0 sample\" transform=\"translate(20 62.5757)\"><path class=\"edge\" d=\"M 0 0 V -62.5757 H -20\" /><rect class=\"sym\" height=\"6\" width=\"6\" x=\"-3\" y=\"-3\" /><text class=\"lab\" transform=\"translate(0 11)\">4</text></g><g class=\"a8 c2 node n6 p0\" transform=\"translate(-20 52.9655)\"><g class=\"a6 i0 leaf node n0 p0 sample\" transform=\"translate(-13.3333 9.61016)\"><path class=\"edge\" d=\"M 0 0 V -9.61016 H 13.3333\" /><rect class=\"sym\" height=\"6\" width=\"6\" x=\"-3\" y=\"-3\" /><text class=\"lab\" transform=\"translate(0 11)\">0</text></g><g class=\"a6 i0 leaf node n1 p0 sample\" transform=\"translate(13.3333 9.61016)\"><path class=\"edge\" d=\"M 0 0 V -9.61016 H -13.3333\" /><rect class=\"sym\" height=\"6\" width=\"6\" x=\"-3\" y=\"-3\" /><text class=\"lab\" transform=\"translate(0 11)\">1</text></g><path class=\"edge\" d=\"M 0 0 V -52.9655 H 20\" /><circle class=\"sym\" cx=\"0\" cy=\"0\" r=\"3\" /><text class=\"lab lft\" transform=\"translate(-3 -7.0)\">6</text></g><path class=\"edge\" d=\"M 0 0 V -60.4427 H 23.3333\" /><circle class=\"sym\" cx=\"0\" cy=\"0\" r=\"3\" /><text class=\"lab lft\" transform=\"translate(-3 -7.0)\">8</text></g><path class=\"edge\" d=\"M 0 0 V -18.3816 H 31.6667\" /><circle class=\"sym\" cx=\"0\" cy=\"0\" r=\"3\" /><text class=\"lab lft\" transform=\"translate(-3 -7.0)\">9</text></g><circle class=\"sym\" cx=\"0\" cy=\"0\" r=\"3\" /><text class=\"lab\" transform=\"translate(0 -11)\">10</text></g></g></g></svg>"
      ],
      "text/plain": [
       "'<svg baseProfile=\"full\" height=\"200\" version=\"1.1\" width=\"200\" xmlns=\"http://www.w3.org/2000/svg\" xmlns:ev=\"http://www.w3.org/2001/xml-events\" xmlns:xlink=\"http://www.w3.org/1999/xlink\"><defs><style type=\"text/css\"><![CDATA[.background path {fill: #808080; fill-opacity: 0}.background path:nth-child(odd) {fill-opacity: .1}.axes {font-size: 14px}.x-axis .tick .lab {font-weight: bold; dominant-baseline: hanging}.axes, .tree {font-size: 14px; text-anchor: middle}.axes line, .edge {stroke: black; fill: none}.y-axis .grid {stroke: #FAFAFA}.node > .sym {fill: black; stroke: none}.site > .sym {stroke: black}.mut text {fill: red; font-style: italic}.mut.extra text {fill: hotpink}.mut line {fill: none; stroke: none}.mut .sym {fill: none; stroke: red}.mut.extra .sym {stroke: hotpink}.node .mut .sym {stroke-width: 1.5px}.tree text, .tree-sequence text {dominant-baseline: central}.plotbox .lab.lft {text-anchor: end}.plotbox .lab.rgt {text-anchor: start}.n0 > .sym {fill: white}.n1 > .sym {fill: red}.n2 > .sym {fill: red}.n3 > .sym {fill: red}.n4 > .sym {fill: blue}.n5 > .sym {fill: green}]]></style></defs><g class=\"tree t0\"><g class=\"plotbox\"><g class=\"c2 node n10 p0 root\" transform=\"translate(121.667 26.8)\"><g class=\"a10 c2 node n7 p0\" transform=\"translate(31.6667 125.565)\"><g class=\"a7 i1 leaf node n2 p0 sample\" transform=\"translate(-13.3333 15.8352)\"><path class=\"edge\" d=\"M 0 0 V -15.8352 H 13.3333\" /><rect class=\"sym\" height=\"6\" width=\"6\" x=\"-3\" y=\"-3\" /><text class=\"lab\" transform=\"translate(0 11)\">2</text></g><g class=\"a7 i1 leaf node n3 p0 sample\" transform=\"translate(13.3333 15.8352)\"><path class=\"edge\" d=\"M 0 0 V -15.8352 H -13.3333\" /><rect class=\"sym\" height=\"6\" width=\"6\" x=\"-3\" y=\"-3\" /><text class=\"lab\" transform=\"translate(0 11)\">3</text></g><path class=\"edge\" d=\"M 0 0 V -125.565 H -31.6667\" /><circle class=\"sym\" cx=\"0\" cy=\"0\" r=\"3\" /><text class=\"lab rgt\" transform=\"translate(3 -7.0)\">7</text></g><g class=\"a10 c2 node n9 p0\" transform=\"translate(-31.6667 18.3816)\"><g class=\"a9 i2 leaf node n5 p0 sample\" transform=\"translate(23.3333 123.018)\"><path class=\"edge\" d=\"M 0 0 V -123.018 H -23.3333\" /><rect class=\"sym\" height=\"6\" width=\"6\" x=\"-3\" y=\"-3\" /><text class=\"lab\" transform=\"translate(0 11)\">5</text></g><g class=\"a9 c2 node n8 p0\" transform=\"translate(-23.3333 60.4427)\"><g class=\"a8 i2 leaf node n4 p0 sample\" transform=\"translate(20 62.5757)\"><path class=\"edge\" d=\"M 0 0 V -62.5757 H -20\" /><rect class=\"sym\" height=\"6\" width=\"6\" x=\"-3\" y=\"-3\" /><text class=\"lab\" transform=\"translate(0 11)\">4</text></g><g class=\"a8 c2 node n6 p0\" transform=\"translate(-20 52.9655)\"><g class=\"a6 i0 leaf node n0 p0 sample\" transform=\"translate(-13.3333 9.61016)\"><path class=\"edge\" d=\"M 0 0 V -9.61016 H 13.3333\" /><rect class=\"sym\" height=\"6\" width=\"6\" x=\"-3\" y=\"-3\" /><text class=\"lab\" transform=\"translate(0 11)\">0</text></g><g class=\"a6 i0 leaf node n1 p0 sample\" transform=\"translate(13.3333 9.61016)\"><path class=\"edge\" d=\"M 0 0 V -9.61016 H -13.3333\" /><rect class=\"sym\" height=\"6\" width=\"6\" x=\"-3\" y=\"-3\" /><text class=\"lab\" transform=\"translate(0 11)\">1</text></g><path class=\"edge\" d=\"M 0 0 V -52.9655 H 20\" /><circle class=\"sym\" cx=\"0\" cy=\"0\" r=\"3\" /><text class=\"lab lft\" transform=\"translate(-3 -7.0)\">6</text></g><path class=\"edge\" d=\"M 0 0 V -60.4427 H 23.3333\" /><circle class=\"sym\" cx=\"0\" cy=\"0\" r=\"3\" /><text class=\"lab lft\" transform=\"translate(-3 -7.0)\">8</text></g><path class=\"edge\" d=\"M 0 0 V -18.3816 H 31.6667\" /><circle class=\"sym\" cx=\"0\" cy=\"0\" r=\"3\" /><text class=\"lab lft\" transform=\"translate(-3 -7.0)\">9</text></g><circle class=\"sym\" cx=\"0\" cy=\"0\" r=\"3\" /><text class=\"lab\" transform=\"translate(0 -11)\">10</text></g></g></g></svg>'"
      ]
     },
     "execution_count": 20,
     "metadata": {
      "filenames": {
       "image/svg+xml": "/home/runner/work/tutorials/tutorials/_build/jupyter_execute/analysing_trees_39_0.svg"
      }
     },
     "output_type": "execute_result"
    }
   ],
   "source": [
    "tree = tskit.load(\"data/parsimony_simple.trees\").first()\n",
    "alleles = [\"red\", \"blue\", \"green\", \"white\"]\n",
    "genotypes = [tskit.MISSING_DATA, 0, 0, 0, 1, 2]\n",
    "styles = [f\".n{j} > .sym {{fill: {alleles[g]}}}\" for j, g in enumerate(genotypes)]\n",
    "tree.draw_svg(style=\"\".join(styles))"
   ]
  },
  {
   "cell_type": "markdown",
   "id": "e15be804",
   "metadata": {},
   "source": [
    "Now we run the {meth}`Tree.map_mutations` method, which applies the Hartigan parsimony\n",
    "algorithm:"
   ]
  },
  {
   "cell_type": "code",
   "execution_count": 21,
   "id": "eefc6edf",
   "metadata": {},
   "outputs": [
    {
     "name": "stdout",
     "output_type": "stream",
     "text": [
      "Ancestral state =  red\n",
      "Mutation: node = 4 derived_state = blue\n",
      "Mutation: node = 5 derived_state = green\n"
     ]
    }
   ],
   "source": [
    "ancestral_state, mutations = tree.map_mutations(genotypes, alleles)\n",
    "print(\"Ancestral state = \", ancestral_state)\n",
    "for mut in mutations:\n",
    "    print(f\"Mutation: node = {mut.node} derived_state = {mut.derived_state}\")"
   ]
  },
  {
   "cell_type": "markdown",
   "id": "a1357b29",
   "metadata": {},
   "source": [
    "The algorithm decided, again, quite reasonably, that the most parsimonious explanation\n",
    "for the input data is the same as before. Thus, if we used this information to fill\n",
    "out mutation table as above, we would impute the missing value for 0 as red.\n",
    "\n",
    "The output of the algorithm can be a little surprising at times. Consider this example::"
   ]
  },
  {
   "cell_type": "code",
   "execution_count": 22,
   "id": "4172a621",
   "metadata": {},
   "outputs": [
    {
     "name": "stdout",
     "output_type": "stream",
     "text": [
      "Ancestral state =  red\n",
      "Mutation: node = 6 derived_state = blue\n"
     ]
    },
    {
     "data": {
      "image/svg+xml": [
       "<svg baseProfile=\"full\" height=\"200\" version=\"1.1\" width=\"200\" xmlns=\"http://www.w3.org/2000/svg\" xmlns:ev=\"http://www.w3.org/2001/xml-events\" xmlns:xlink=\"http://www.w3.org/1999/xlink\"><defs><style type=\"text/css\"><![CDATA[.background path {fill: #808080; fill-opacity: 0}.background path:nth-child(odd) {fill-opacity: .1}.axes {font-size: 14px}.x-axis .tick .lab {font-weight: bold; dominant-baseline: hanging}.axes, .tree {font-size: 14px; text-anchor: middle}.axes line, .edge {stroke: black; fill: none}.y-axis .grid {stroke: #FAFAFA}.node > .sym {fill: black; stroke: none}.site > .sym {stroke: black}.mut text {fill: red; font-style: italic}.mut.extra text {fill: hotpink}.mut line {fill: none; stroke: none}.mut .sym {fill: none; stroke: red}.mut.extra .sym {stroke: hotpink}.node .mut .sym {stroke-width: 1.5px}.tree text, .tree-sequence text {dominant-baseline: central}.plotbox .lab.lft {text-anchor: end}.plotbox .lab.rgt {text-anchor: start}]]></style></defs><g class=\"tree t0\"><g class=\"plotbox\"><g class=\"c2 node n10 p0 root\" transform=\"translate(121.667 26.8)\"><g class=\"a10 c2 node n7 p0\" transform=\"translate(31.6667 125.565)\"><g class=\"a7 leaf node n2 p0 sample\" transform=\"translate(-13.3333 15.8352)\"><path class=\"edge\" d=\"M 0 0 V -15.8352 H 13.3333\" /><rect class=\"sym\" height=\"6\" style=\"fill:red;\" width=\"6\" x=\"-3\" y=\"-3\" /><text class=\"lab\" transform=\"translate(0 11)\">2</text></g><g class=\"a7 leaf node n3 p0 sample\" transform=\"translate(13.3333 15.8352)\"><path class=\"edge\" d=\"M 0 0 V -15.8352 H -13.3333\" /><rect class=\"sym\" height=\"6\" style=\"fill:red;\" width=\"6\" x=\"-3\" y=\"-3\" /><text class=\"lab\" transform=\"translate(0 11)\">3</text></g><path class=\"edge\" d=\"M 0 0 V -125.565 H -31.6667\" /><circle class=\"sym\" cx=\"0\" cy=\"0\" r=\"3\" /><text class=\"lab rgt\" transform=\"translate(3 -7.0)\">7</text></g><g class=\"a10 c2 node n9 p0\" transform=\"translate(-31.6667 18.3816)\"><g class=\"a9 leaf node n5 p0 sample\" transform=\"translate(23.3333 123.018)\"><path class=\"edge\" d=\"M 0 0 V -123.018 H -23.3333\" /><rect class=\"sym\" height=\"6\" style=\"fill:red;\" width=\"6\" x=\"-3\" y=\"-3\" /><text class=\"lab\" transform=\"translate(0 11)\">5</text></g><g class=\"a9 c2 node n8 p0\" transform=\"translate(-23.3333 60.4427)\"><g class=\"a8 leaf node n4 p0 sample\" transform=\"translate(20 62.5757)\"><path class=\"edge\" d=\"M 0 0 V -62.5757 H -20\" /><rect class=\"sym\" height=\"6\" style=\"fill:red;\" width=\"6\" x=\"-3\" y=\"-3\" /><text class=\"lab\" transform=\"translate(0 11)\">4</text></g><g class=\"a8 c2 node n6 p0\" transform=\"translate(-20 52.9655)\"><g class=\"a6 leaf node n0 p0 sample\" transform=\"translate(-13.3333 9.61016)\"><path class=\"edge\" d=\"M 0 0 V -9.61016 H 13.3333\" /><rect class=\"sym\" height=\"6\" style=\"fill:blue;\" width=\"6\" x=\"-3\" y=\"-3\" /><text class=\"lab\" transform=\"translate(0 11)\">0</text></g><g class=\"a6 leaf node n1 p0 sample\" transform=\"translate(13.3333 9.61016)\"><path class=\"edge\" d=\"M 0 0 V -9.61016 H -13.3333\" /><rect class=\"sym\" height=\"6\" style=\"fill:white;\" width=\"6\" x=\"-3\" y=\"-3\" /><text class=\"lab\" transform=\"translate(0 11)\">1</text></g><path class=\"edge\" d=\"M 0 0 V -52.9655 H 20\" /><circle class=\"sym\" cx=\"0\" cy=\"0\" r=\"3\" /><text class=\"lab lft\" transform=\"translate(-3 -7.0)\">6</text></g><path class=\"edge\" d=\"M 0 0 V -60.4427 H 23.3333\" /><circle class=\"sym\" cx=\"0\" cy=\"0\" r=\"3\" /><text class=\"lab lft\" transform=\"translate(-3 -7.0)\">8</text></g><path class=\"edge\" d=\"M 0 0 V -18.3816 H 31.6667\" /><circle class=\"sym\" cx=\"0\" cy=\"0\" r=\"3\" /><text class=\"lab lft\" transform=\"translate(-3 -7.0)\">9</text></g><circle class=\"sym\" cx=\"0\" cy=\"0\" r=\"3\" /><text class=\"lab\" transform=\"translate(0 -11)\">10</text></g></g></g></svg>"
      ],
      "text/plain": [
       "'<svg baseProfile=\"full\" height=\"200\" version=\"1.1\" width=\"200\" xmlns=\"http://www.w3.org/2000/svg\" xmlns:ev=\"http://www.w3.org/2001/xml-events\" xmlns:xlink=\"http://www.w3.org/1999/xlink\"><defs><style type=\"text/css\"><![CDATA[.background path {fill: #808080; fill-opacity: 0}.background path:nth-child(odd) {fill-opacity: .1}.axes {font-size: 14px}.x-axis .tick .lab {font-weight: bold; dominant-baseline: hanging}.axes, .tree {font-size: 14px; text-anchor: middle}.axes line, .edge {stroke: black; fill: none}.y-axis .grid {stroke: #FAFAFA}.node > .sym {fill: black; stroke: none}.site > .sym {stroke: black}.mut text {fill: red; font-style: italic}.mut.extra text {fill: hotpink}.mut line {fill: none; stroke: none}.mut .sym {fill: none; stroke: red}.mut.extra .sym {stroke: hotpink}.node .mut .sym {stroke-width: 1.5px}.tree text, .tree-sequence text {dominant-baseline: central}.plotbox .lab.lft {text-anchor: end}.plotbox .lab.rgt {text-anchor: start}]]></style></defs><g class=\"tree t0\"><g class=\"plotbox\"><g class=\"c2 node n10 p0 root\" transform=\"translate(121.667 26.8)\"><g class=\"a10 c2 node n7 p0\" transform=\"translate(31.6667 125.565)\"><g class=\"a7 leaf node n2 p0 sample\" transform=\"translate(-13.3333 15.8352)\"><path class=\"edge\" d=\"M 0 0 V -15.8352 H 13.3333\" /><rect class=\"sym\" height=\"6\" style=\"fill:red;\" width=\"6\" x=\"-3\" y=\"-3\" /><text class=\"lab\" transform=\"translate(0 11)\">2</text></g><g class=\"a7 leaf node n3 p0 sample\" transform=\"translate(13.3333 15.8352)\"><path class=\"edge\" d=\"M 0 0 V -15.8352 H -13.3333\" /><rect class=\"sym\" height=\"6\" style=\"fill:red;\" width=\"6\" x=\"-3\" y=\"-3\" /><text class=\"lab\" transform=\"translate(0 11)\">3</text></g><path class=\"edge\" d=\"M 0 0 V -125.565 H -31.6667\" /><circle class=\"sym\" cx=\"0\" cy=\"0\" r=\"3\" /><text class=\"lab rgt\" transform=\"translate(3 -7.0)\">7</text></g><g class=\"a10 c2 node n9 p0\" transform=\"translate(-31.6667 18.3816)\"><g class=\"a9 leaf node n5 p0 sample\" transform=\"translate(23.3333 123.018)\"><path class=\"edge\" d=\"M 0 0 V -123.018 H -23.3333\" /><rect class=\"sym\" height=\"6\" style=\"fill:red;\" width=\"6\" x=\"-3\" y=\"-3\" /><text class=\"lab\" transform=\"translate(0 11)\">5</text></g><g class=\"a9 c2 node n8 p0\" transform=\"translate(-23.3333 60.4427)\"><g class=\"a8 leaf node n4 p0 sample\" transform=\"translate(20 62.5757)\"><path class=\"edge\" d=\"M 0 0 V -62.5757 H -20\" /><rect class=\"sym\" height=\"6\" style=\"fill:red;\" width=\"6\" x=\"-3\" y=\"-3\" /><text class=\"lab\" transform=\"translate(0 11)\">4</text></g><g class=\"a8 c2 node n6 p0\" transform=\"translate(-20 52.9655)\"><g class=\"a6 leaf node n0 p0 sample\" transform=\"translate(-13.3333 9.61016)\"><path class=\"edge\" d=\"M 0 0 V -9.61016 H 13.3333\" /><rect class=\"sym\" height=\"6\" style=\"fill:blue;\" width=\"6\" x=\"-3\" y=\"-3\" /><text class=\"lab\" transform=\"translate(0 11)\">0</text></g><g class=\"a6 leaf node n1 p0 sample\" transform=\"translate(13.3333 9.61016)\"><path class=\"edge\" d=\"M 0 0 V -9.61016 H -13.3333\" /><rect class=\"sym\" height=\"6\" style=\"fill:white;\" width=\"6\" x=\"-3\" y=\"-3\" /><text class=\"lab\" transform=\"translate(0 11)\">1</text></g><path class=\"edge\" d=\"M 0 0 V -52.9655 H 20\" /><circle class=\"sym\" cx=\"0\" cy=\"0\" r=\"3\" /><text class=\"lab lft\" transform=\"translate(-3 -7.0)\">6</text></g><path class=\"edge\" d=\"M 0 0 V -60.4427 H 23.3333\" /><circle class=\"sym\" cx=\"0\" cy=\"0\" r=\"3\" /><text class=\"lab lft\" transform=\"translate(-3 -7.0)\">8</text></g><path class=\"edge\" d=\"M 0 0 V -18.3816 H 31.6667\" /><circle class=\"sym\" cx=\"0\" cy=\"0\" r=\"3\" /><text class=\"lab lft\" transform=\"translate(-3 -7.0)\">9</text></g><circle class=\"sym\" cx=\"0\" cy=\"0\" r=\"3\" /><text class=\"lab\" transform=\"translate(0 -11)\">10</text></g></g></g></svg>'"
      ]
     },
     "execution_count": 22,
     "metadata": {
      "filenames": {
       "image/svg+xml": "/home/runner/work/tutorials/tutorials/_build/jupyter_execute/analysing_trees_43_1.svg"
      }
     },
     "output_type": "execute_result"
    }
   ],
   "source": [
    "tree = msprime.simulate(6, random_seed=42).first()\n",
    "alleles = [\"red\", \"blue\", \"white\"]\n",
    "genotypes = [1, -1, 0, 0, 0, 0]\n",
    "node_colours = {j: alleles[g] for j, g in enumerate(genotypes)}\n",
    "ancestral_state, mutations = tree.map_mutations(genotypes, alleles)\n",
    "print(\"Ancestral state = \", ancestral_state)\n",
    "for mut in mutations:\n",
    "    print(f\"Mutation: node = {mut.node} derived_state = {mut.derived_state}\")\n",
    "tree.draw(node_colours=node_colours)"
   ]
  },
  {
   "cell_type": "markdown",
   "id": "35f0c1a8",
   "metadata": {},
   "source": [
    "Note that this is putting a mutation to blue over node 6, **not** node 0 as\n",
    "we might expect. Thus, we impute here that node 1 is blue. It is important\n",
    "to remember that the algorithm is minimising the number of state transitions;\n",
    "this may not correspond always to what we might consider the most parsimonious\n",
    "explanation.\n",
    "\n",
    "## Fast tree-based algorithms using numba\n",
    "\n",
    ":::{todo}\n",
    "Add a few examples here of how to use numba to speed up tree based dynamic programming\n",
    "algorithms. There are a good number of worked-up examples with timings in\n",
    "[issue #63](https://github.com/tskit-dev/tutorials/issues/63)\n",
    ":::"
   ]
  }
 ],
 "metadata": {
  "jupytext": {
   "text_representation": {
    "extension": ".md",
    "format_name": "myst",
    "format_version": 0.12,
    "jupytext_version": "1.9.1"
   }
  },
  "kernelspec": {
   "display_name": "Python 3",
   "language": "python",
   "name": "python3"
  },
  "language_info": {
   "codemirror_mode": {
    "name": "ipython",
    "version": 3
   },
   "file_extension": ".py",
   "mimetype": "text/x-python",
   "name": "python",
   "nbconvert_exporter": "python",
   "pygments_lexer": "ipython3",
   "version": "3.8.14"
  },
  "source_map": [
   12,
   17,
   89,
   109,
   115,
   120,
   123,
   129,
   132,
   143,
   151,
   162,
   173,
   186,
   191,
   198,
   204,
   213,
   217,
   228,
   232,
   236,
   239,
   248,
   250,
   255,
   258,
   263,
   279,
   290,
   296,
   302,
   307,
   320,
   324,
   331,
   355,
   359,
   368,
   380,
   386,
   391,
   396,
   404,
   414
  ]
 },
 "nbformat": 4,
 "nbformat_minor": 5
}