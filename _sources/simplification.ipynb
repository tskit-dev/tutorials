{
 "cells": [
  {
   "cell_type": "markdown",
   "id": "08188e42",
   "metadata": {},
   "source": [
    "```{currentmodule} tskit\n",
    "```"
   ]
  },
  {
   "cell_type": "code",
   "execution_count": 1,
   "id": "9730593d",
   "metadata": {
    "tags": [
     "remove-cell"
    ]
   },
   "outputs": [],
   "source": [
    "def create_notebook_data():\n",
    "    pass\n",
    "\n",
    "# create_notebook_data()  # uncomment to recreate the tree seqs used in this notebook"
   ]
  },
  {
   "cell_type": "markdown",
   "id": "4c2b1c53",
   "metadata": {},
   "source": [
    "(sec_simplification)=\n",
    "\n",
    "# _Simplification_\n",
    "% remove underscores in title when tutorial is complete or near-complete\n",
    "\n",
    ":::{todo}\n",
    "Create content. See https://github.com/tskit-dev/tutorials/issues/52\n",
    ":::"
   ]
  }
 ],
 "metadata": {
  "jupytext": {
   "text_representation": {
    "extension": ".md",
    "format_name": "myst",
    "format_version": 0.12,
    "jupytext_version": "1.9.1"
   }
  },
  "kernelspec": {
   "display_name": "Python 3",
   "language": "python",
   "name": "python3"
  },
  "language_info": {
   "codemirror_mode": {
    "name": "ipython",
    "version": 3
   },
   "file_extension": ".py",
   "mimetype": "text/x-python",
   "name": "python",
   "nbconvert_exporter": "python",
   "pygments_lexer": "ipython3",
   "version": "3.10.9"
  },
  "source_map": [
   12,
   17,
   23
  ]
 },
 "nbformat": 4,
 "nbformat_minor": 5
}