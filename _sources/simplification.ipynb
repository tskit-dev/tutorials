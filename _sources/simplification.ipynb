{
 "cells": [
  {
   "cell_type": "markdown",
   "id": "8c13cab6",
   "metadata": {},
   "source": [
    "```{currentmodule} tskit\n",
    "```"
   ]
  },
  {
   "cell_type": "code",
   "execution_count": 1,
   "id": "5778b4a8",
   "metadata": {
    "tags": [
     "remove-cell"
    ]
   },
   "outputs": [],
   "source": [
    "def create_notebook_data():\n",
    "    pass\n",
    "\n",
    "# create_notebook_data()  # uncomment to recreate the tree seqs used in this notebook"
   ]
  },
  {
   "cell_type": "markdown",
   "id": "cbc4f7f6",
   "metadata": {},
   "source": [
    "(sec_simplification)=\n",
    "\n",
    "# _Simplification_\n",
    "% remove underscores in title when tutorial is complete or near-complete\n",
    "\n",
    ":::{todo}\n",
    "Create content. See https://github.com/tskit-dev/tutorials/issues/52\n",
    ":::"
   ]
  }
 ],
 "metadata": {
  "jupytext": {
   "text_representation": {
    "extension": ".md",
    "format_name": "myst",
    "format_version": 0.12,
    "jupytext_version": "1.9.1"
   }
  },
  "kernelspec": {
   "display_name": "Python 3",
   "language": "python",
   "name": "python3"
  },
  "language_info": {
   "codemirror_mode": {
    "name": "ipython",
    "version": 3
   },
   "file_extension": ".py",
   "mimetype": "text/x-python",
   "name": "python",
   "nbconvert_exporter": "python",
   "pygments_lexer": "ipython3",
   "version": "3.10.10"
  },
  "source_map": [
   12,
   17,
   23
  ]
 },
 "nbformat": 4,
 "nbformat_minor": 5
}