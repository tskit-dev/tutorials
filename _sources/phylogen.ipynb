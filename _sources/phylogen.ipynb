{
 "cells": [
  {
   "cell_type": "markdown",
   "id": "30aa1066",
   "metadata": {},
   "source": [
    "```{currentmodule} tskit\n",
    "```\n",
    "\n",
    "(sec_phylogen)=\n",
    "\n",
    "# `Tskit` for phylogenetics\n",
    "\n",
    "`Tskit`, the tree sequence toolkit, can be used as an efficient library for very large evolutionary trees. `Tskit` makes it easy to deal with trees with millions of\n",
    "tips, as in the example below:"
   ]
  },
  {
   "cell_type": "code",
   "execution_count": 1,
   "id": "e290591b",
   "metadata": {
    "tags": [
     "hide-input"
    ]
   },
   "outputs": [],
   "source": [
    "import tskit"
   ]
  },
  {
   "cell_type": "code",
   "execution_count": 2,
   "id": "0f1a3953",
   "metadata": {},
   "outputs": [
    {
     "name": "stdout",
     "output_type": "stream",
     "text": [
      "Tree sequence takes up 129.70017337799072 Mb\n",
      "Generating a 'comb' (pectinate) tree of 1000000 tips took:\n",
      "CPU times: user 6.27 s, sys: 168 ms, total: 6.44 s\n",
      "Wall time: 6.44 s\n"
     ]
    }
   ],
   "source": [
    "%%time\n",
    "\n",
    "num_tips = 1_000_000\n",
    "big_tree = tskit.Tree.generate_comb(num_tips);\n",
    "print(\"Tree sequence takes up\", big_tree.tree_sequence.nbytes / 1024**2, \"Mb\")\n",
    "print(f\"Generating a 'comb' (pectinate) tree of {num_tips} tips took:\")"
   ]
  },
  {
   "cell_type": "markdown",
   "id": "978eee0a",
   "metadata": {},
   "source": [
    ":::{todo}\n",
    "Display the million tip tree in condensed form, when\n",
    "https://github.com/tskit-dev/tskit/issues/2372#issuecomment-1298518380 and\n",
    "https://github.com/tskit-dev/tskit/issues/2628 are solved\n",
    ":::\n",
    "\n",
    "Calculations on these huge trees can be very efficient:"
   ]
  },
  {
   "cell_type": "code",
   "execution_count": 3,
   "id": "f9914699",
   "metadata": {},
   "outputs": [
    {
     "name": "stdout",
     "output_type": "stream",
     "text": [
      "Postorder traversal through 1999999 nodes took:\n",
      "CPU times: user 374 ms, sys: 44 µs, total: 374 ms\n",
      "Wall time: 374 ms\n"
     ]
    }
   ],
   "source": [
    "%%time\n",
    "\n",
    "traversed_nodes = 0\n",
    "for u in big_tree.nodes(order=\"postorder\"):\n",
    "    traversed_nodes += 1\n",
    "print(f\"Postorder traversal through {traversed_nodes} nodes took:\")"
   ]
  },
  {
   "cell_type": "code",
   "execution_count": 4,
   "id": "580b5cf1",
   "metadata": {},
   "outputs": [
    {
     "name": "stdout",
     "output_type": "stream",
     "text": [
      "B1 balance index is 14.39272472286399. Calculation took:\n",
      "CPU times: user 14.4 ms, sys: 0 ns, total: 14.4 ms\n",
      "Wall time: 14.4 ms\n"
     ]
    }
   ],
   "source": [
    "%%time\n",
    "\n",
    "b1_index = big_tree.b1_index()\n",
    "print(f\"B1 balance index is {b1_index}. Calculation took:\")"
   ]
  },
  {
   "cell_type": "markdown",
   "id": "15530954",
   "metadata": {},
   "source": [
    "We can also read trees efficiently, e.g. in Newick format:\n",
    "\n",
    ":::{todo}\n",
    "Add example of fast reading of a newick file, once\n",
    "https://github.com/tskit-dev/tskit/issues/2187 is solved. E.g. we could say\n",
    "> For example, we can read in a newick format tree of XXX tips in XXX secs. In practice,\n",
    "> this means when reading in a large tree you are mainly limited by disk access speeds\n",
    ":::"
   ]
  },
  {
   "cell_type": "code",
   "execution_count": 5,
   "id": "4ddcb876",
   "metadata": {},
   "outputs": [],
   "source": [
    "import tsconvert  # used for reading tree sequences from different formats\n",
    "\n",
    "# example code reading in a large file, timed\n",
    "\n",
    "# Or read smaller trees from strings (here we create a tree spanning 1000 genomic units)\n",
    "# Todo: add sequence length: https://github.com/tskit-dev/tsconvert/issues/40\n",
    "ts = tsconvert.from_newick(\"(A:6,((B:1,C:1):2,(D:2,E:2):1):3);\", span=100)"
   ]
  },
  {
   "cell_type": "markdown",
   "id": "0bbebd2d",
   "metadata": {},
   "source": [
    "The \"succinct tree sequence\" format used by `tskit` can also store mutations\n",
    "(and optionally a reference genome) along with the tree(s). This results in a\n",
    "single unified representation of large genomic datasets, storing trees,\n",
    "sequence data and metadata in a single efficient structure. Examples are given\n",
    "in the section below entitled {ref}`sec_phylogen_unified_structure`.\n",
    "\n",
    "As the name suggests, a tree sequence can also store and analyse a sequence of\n",
    "trees along a genome (i.e. a \"phylogenetic network\"). This is necessary to\n",
    "account for recombination between lineages, and may be important even when looking at\n",
    "species-level phylogenies due to the effects of hybridization and incomplete lineage\n",
    "sorting. An overview, and links to further details are given at the\n",
    "{ref}`end of this page <sec_phylogen_multiple_trees>`.\n",
    "\n",
    "## Hints for phylogeneticists\n",
    "\n",
    "Unlike other phylogenetic libraries, `tskit` is designed to efficiently store not just \n",
    "single trees, but sequences of correlated trees along a genome. This means that the\n",
    "library has some features not found in more standard phylogenetic libraries.\n",
    "Here we focus on the {ref}`sec_python_api`,\n",
    "introducing eight `tskit` concepts that may be useful to those with a background in\n",
    "phylogenetics (each is linked to a separate section below):\n",
    "\n",
    "1. An evolutionary tree is always contained within a \"tree sequence\".\n",
    "   See {ref}`sec_phylogen_tree_in_sequence`\n",
    "2. The basic elements of a tree are *nodes* and *edges*, referred to by integer IDs.\n",
    "   See {ref}`sec_phylogen_ids`\n",
    "3. The `Tree` object in the Python API provides useful phylogenetic methods.\n",
    "   See {ref}`sec_phylogen_tree_object`\n",
    "4. Specific nodes in a tree (often the tips) are marked as \"samples\", meaning they are\n",
    "   known from data. See {ref}`sec_phylogen_samples`\n",
    "5. Nodes and edges have additional attributes, with arbitrary information stored in\n",
    "   *metadata*. See {ref}`sec_phylogen_metadata`\n",
    "6. All nodes *must* have a valid time, meaning trees are always directional\n",
    "   (i.e. \"rooted\"). See {ref}`sec_phylogen_node_time`\n",
    "7. \"Roots\" in trees have a specific definition, and a single tree can consist of\n",
    "   topologically independent clades (a \"multiroot\" tree).\n",
    "   See {ref}`sec_phylogen_multiroot`\n",
    "\n",
    "(sec_phylogen_tree_in_sequence)=\n",
    "### Trees are always part of a tree sequence\n",
    "\n",
    "In tskit, all trees are stored as a \"tree sequence\" of correlated trees. This allows\n",
    "easy extension of the library to multiple trees produced e.g. by hybridization.\n",
    "In the simplest case, however, the tree sequence can contain just a single tree. This\n",
    "can be obtained using the {meth}`~TreeSequence.first()` method."
   ]
  },
  {
   "cell_type": "code",
   "execution_count": 6,
   "id": "9aefdb49",
   "metadata": {
    "tags": [
     "hide-input"
    ]
   },
   "outputs": [],
   "source": [
    "# Make sensible node labels. It would be nice to roll this into tree.draw()\n",
    "node_labels = {\n",
    "    node_object.id: node_object.metadata[\"name\"]\n",
    "    for node_object in ts.nodes()\n",
    "    if \"name\" in node_object.metadata\n",
    "}"
   ]
  },
  {
   "cell_type": "code",
   "execution_count": 7,
   "id": "ca4016ae",
   "metadata": {},
   "outputs": [
    {
     "data": {
      "image/svg+xml": [
       "<svg baseProfile=\"full\" height=\"200\" version=\"1.1\" width=\"200\" xmlns=\"http://www.w3.org/2000/svg\" xmlns:ev=\"http://www.w3.org/2001/xml-events\" xmlns:xlink=\"http://www.w3.org/1999/xlink\"><defs><style type=\"text/css\"><![CDATA[.background path {fill: #808080; fill-opacity: 0}.background path:nth-child(odd) {fill-opacity: .1}.axes {font-size: 14px}.x-axis .tick .lab {font-weight: bold; dominant-baseline: hanging}.axes, .tree {font-size: 14px; text-anchor: middle}.axes line, .edge {stroke: black; fill: none}.axes .ax-skip {stroke-dasharray: 4}.y-axis .grid {stroke: #FAFAFA}.node > .sym {fill: black; stroke: none}.site > .sym {stroke: black}.mut text {fill: red; font-style: italic}.mut.extra text {fill: hotpink}.mut line {fill: none; stroke: none}.mut .sym {fill: none; stroke: red}.mut.extra .sym {stroke: hotpink}.node .mut .sym {stroke-width: 1.5px}.tree text, .tree-sequence text {dominant-baseline: central}.plotbox .lab.lft {text-anchor: end}.plotbox .lab.rgt {text-anchor: start}]]></style></defs><g class=\"tree t0\"><g class=\"plotbox\"><g class=\"c2 node n0 root\" transform=\"translate(76 26.8)\"><g class=\"a0 leaf node n1 sample\" transform=\"translate(-40 141.4)\"><path class=\"edge\" d=\"M 0 0 V -141.4 H 40\" /><rect class=\"sym\" height=\"6\" width=\"6\" x=\"-3\" y=\"-3\" /><text class=\"lab\" transform=\"translate(0 11)\">A</text></g><g class=\"a0 c2 node n2\" transform=\"translate(40 70.7)\"><g class=\"a2 c2 node n3\" transform=\"translate(-32 47.1333)\"><g class=\"a3 leaf node n5 sample\" transform=\"translate(-16 23.5667)\"><path class=\"edge\" d=\"M 0 0 V -23.5667 H 16\" /><rect class=\"sym\" height=\"6\" width=\"6\" x=\"-3\" y=\"-3\" /><text class=\"lab\" transform=\"translate(0 11)\">B</text></g><g class=\"a3 leaf node n6 sample\" transform=\"translate(16 23.5667)\"><path class=\"edge\" d=\"M 0 0 V -23.5667 H -16\" /><rect class=\"sym\" height=\"6\" width=\"6\" x=\"-3\" y=\"-3\" /><text class=\"lab\" transform=\"translate(0 11)\">C</text></g><path class=\"edge\" d=\"M 0 0 V -47.1333 H 32\" /><circle class=\"sym\" cx=\"0\" cy=\"0\" r=\"3\" /><text class=\"lab lft\" transform=\"translate(-3 -7.0)\" /></g><g class=\"a2 c2 node n4\" transform=\"translate(32 23.5667)\"><g class=\"a4 leaf node n7 sample\" transform=\"translate(-16 47.1333)\"><path class=\"edge\" d=\"M 0 0 V -47.1333 H 16\" /><rect class=\"sym\" height=\"6\" width=\"6\" x=\"-3\" y=\"-3\" /><text class=\"lab\" transform=\"translate(0 11)\">D</text></g><g class=\"a4 leaf node n8 sample\" transform=\"translate(16 47.1333)\"><path class=\"edge\" d=\"M 0 0 V -47.1333 H -16\" /><rect class=\"sym\" height=\"6\" width=\"6\" x=\"-3\" y=\"-3\" /><text class=\"lab\" transform=\"translate(0 11)\">E</text></g><path class=\"edge\" d=\"M 0 0 V -23.5667 H -32\" /><circle class=\"sym\" cx=\"0\" cy=\"0\" r=\"3\" /><text class=\"lab rgt\" transform=\"translate(3 -7.0)\" /></g><path class=\"edge\" d=\"M 0 0 V -70.7 H -40\" /><circle class=\"sym\" cx=\"0\" cy=\"0\" r=\"3\" /><text class=\"lab rgt\" transform=\"translate(3 -7.0)\" /></g><circle class=\"sym\" cx=\"0\" cy=\"0\" r=\"3\" /><text class=\"lab\" transform=\"translate(0 -11)\" /></g></g></g></svg>"
      ],
      "text/plain": [
       "'<svg baseProfile=\"full\" height=\"200\" version=\"1.1\" width=\"200\" xmlns=\"http://www.w3.org/2000/svg\" xmlns:ev=\"http://www.w3.org/2001/xml-events\" xmlns:xlink=\"http://www.w3.org/1999/xlink\"><defs><style type=\"text/css\"><![CDATA[.background path {fill: #808080; fill-opacity: 0}.background path:nth-child(odd) {fill-opacity: .1}.axes {font-size: 14px}.x-axis .tick .lab {font-weight: bold; dominant-baseline: hanging}.axes, .tree {font-size: 14px; text-anchor: middle}.axes line, .edge {stroke: black; fill: none}.axes .ax-skip {stroke-dasharray: 4}.y-axis .grid {stroke: #FAFAFA}.node > .sym {fill: black; stroke: none}.site > .sym {stroke: black}.mut text {fill: red; font-style: italic}.mut.extra text {fill: hotpink}.mut line {fill: none; stroke: none}.mut .sym {fill: none; stroke: red}.mut.extra .sym {stroke: hotpink}.node .mut .sym {stroke-width: 1.5px}.tree text, .tree-sequence text {dominant-baseline: central}.plotbox .lab.lft {text-anchor: end}.plotbox .lab.rgt {text-anchor: start}]]></style></defs><g class=\"tree t0\"><g class=\"plotbox\"><g class=\"c2 node n0 root\" transform=\"translate(76 26.8)\"><g class=\"a0 leaf node n1 sample\" transform=\"translate(-40 141.4)\"><path class=\"edge\" d=\"M 0 0 V -141.4 H 40\" /><rect class=\"sym\" height=\"6\" width=\"6\" x=\"-3\" y=\"-3\" /><text class=\"lab\" transform=\"translate(0 11)\">A</text></g><g class=\"a0 c2 node n2\" transform=\"translate(40 70.7)\"><g class=\"a2 c2 node n3\" transform=\"translate(-32 47.1333)\"><g class=\"a3 leaf node n5 sample\" transform=\"translate(-16 23.5667)\"><path class=\"edge\" d=\"M 0 0 V -23.5667 H 16\" /><rect class=\"sym\" height=\"6\" width=\"6\" x=\"-3\" y=\"-3\" /><text class=\"lab\" transform=\"translate(0 11)\">B</text></g><g class=\"a3 leaf node n6 sample\" transform=\"translate(16 23.5667)\"><path class=\"edge\" d=\"M 0 0 V -23.5667 H -16\" /><rect class=\"sym\" height=\"6\" width=\"6\" x=\"-3\" y=\"-3\" /><text class=\"lab\" transform=\"translate(0 11)\">C</text></g><path class=\"edge\" d=\"M 0 0 V -47.1333 H 32\" /><circle class=\"sym\" cx=\"0\" cy=\"0\" r=\"3\" /><text class=\"lab lft\" transform=\"translate(-3 -7.0)\" /></g><g class=\"a2 c2 node n4\" transform=\"translate(32 23.5667)\"><g class=\"a4 leaf node n7 sample\" transform=\"translate(-16 47.1333)\"><path class=\"edge\" d=\"M 0 0 V -47.1333 H 16\" /><rect class=\"sym\" height=\"6\" width=\"6\" x=\"-3\" y=\"-3\" /><text class=\"lab\" transform=\"translate(0 11)\">D</text></g><g class=\"a4 leaf node n8 sample\" transform=\"translate(16 47.1333)\"><path class=\"edge\" d=\"M 0 0 V -47.1333 H -16\" /><rect class=\"sym\" height=\"6\" width=\"6\" x=\"-3\" y=\"-3\" /><text class=\"lab\" transform=\"translate(0 11)\">E</text></g><path class=\"edge\" d=\"M 0 0 V -23.5667 H -32\" /><circle class=\"sym\" cx=\"0\" cy=\"0\" r=\"3\" /><text class=\"lab rgt\" transform=\"translate(3 -7.0)\" /></g><path class=\"edge\" d=\"M 0 0 V -70.7 H -40\" /><circle class=\"sym\" cx=\"0\" cy=\"0\" r=\"3\" /><text class=\"lab rgt\" transform=\"translate(3 -7.0)\" /></g><circle class=\"sym\" cx=\"0\" cy=\"0\" r=\"3\" /><text class=\"lab\" transform=\"translate(0 -11)\" /></g></g></g></svg>'"
      ]
     },
     "execution_count": 7,
     "metadata": {
      "filenames": {
       "image/svg+xml": "/home/runner/work/tutorials/tutorials/_build/jupyter_execute/phylogen_10_0.svg"
      }
     },
     "output_type": "execute_result"
    }
   ],
   "source": [
    "tree = ts.first()\n",
    "tree.draw(node_labels=node_labels)  # or use draw_svg() for more options"
   ]
  },
  {
   "cell_type": "markdown",
   "id": "bc56e717",
   "metadata": {},
   "source": [
    "Often you will have the tree sequence stored in a variable, such as the `ts` variable\n",
    "used above. However, you can also obtain the tree sequence in which a tree is\n",
    "contained using the {attr}`Tree.tree_sequence` attribute:"
   ]
  },
  {
   "cell_type": "code",
   "execution_count": 8,
   "id": "1993e926",
   "metadata": {},
   "outputs": [
    {
     "data": {
      "text/html": [
       "\n",
       "<div>\n",
       "  <style>\n",
       "    .tskit-table thead tr th {text-align: left;padding: 0.5em 0.5em;}\n",
       "    .tskit-table tbody tr td {padding: 0.5em 0.5em;}\n",
       "    .tskit-table tbody tr td:first-of-type {text-align: left;}\n",
       "    .tskit-details-label {vertical-align: top; padding-right:5px;}\n",
       "    .tskit-table-set {display: inline-flex;flex-wrap: wrap;margin: -12px 0 0 -12px;width: calc(100% + 12px);}\n",
       "    .tskit-table-set-table {margin: 12px 0 0 12px;}\n",
       "    details {display: inline-block;}\n",
       "    summary {cursor: pointer; outline: 0; display: list-item;}\n",
       "  </style>\n",
       "  <div class=\"tskit-table-set\">\n",
       "    <div class=\"tskit-table-set-table\">\n",
       "      <table class=\"tskit-table\">\n",
       "        <thead>\n",
       "          <tr>\n",
       "            <th style=\"padding:0;line-height:21px;\">\n",
       "              <img style=\"height: 32px;display: inline-block;padding: 3px 5px 3px 0;\" src=\"https://raw.githubusercontent.com/tskit-dev/administrative/main/tskit_logo.svg\"/>\n",
       "              <a target=\"_blank\" href=\"https://tskit.dev/tskit/docs/latest/python-api.html#the-treesequence-class\"> Tree Sequence </a>\n",
       "            </th>\n",
       "          </tr>\n",
       "        </thead>\n",
       "        <tbody>\n",
       "          <tr><td>Trees</td><td>1</td></tr>\n",
       "          <tr><td>Sequence Length</td><td>100.0</td></tr>\n",
       "          <tr><td>Time Units</td><td>unknown</td></tr>\n",
       "          <tr><td>Sample Nodes</td><td>5</td></tr>\n",
       "          <tr><td>Total Size</td><td>942 Bytes</td></tr>\n",
       "          <tr>\n",
       "            <td>Metadata</td><td style=\"text-align: left;\">No Metadata</td></tr>\n",
       "        </tbody>\n",
       "      </table>\n",
       "    </div>\n",
       "    <div class=\"tskit-table-set-table\">\n",
       "      <table class=\"tskit-table\">\n",
       "        <thead>\n",
       "          <tr>\n",
       "            <th style=\"line-height:21px;\">Table</th>\n",
       "            <th>Rows</th>\n",
       "            <th>Size</th>\n",
       "            <th>Has Metadata</th>\n",
       "          </tr>\n",
       "        </thead>\n",
       "        <tbody>\n",
       "\n",
       "      <tr>\n",
       "        <td>Edges</td>\n",
       "          <td>8</td>\n",
       "          <td>264 Bytes</td>\n",
       "          <td style=\"text-align: center;\">\n",
       "\n",
       "          </td>\n",
       "        </tr>\n",
       "\n",
       "      <tr>\n",
       "        <td>Individuals</td>\n",
       "          <td>0</td>\n",
       "          <td>24 Bytes</td>\n",
       "          <td style=\"text-align: center;\">\n",
       "\n",
       "          </td>\n",
       "        </tr>\n",
       "\n",
       "      <tr>\n",
       "        <td>Migrations</td>\n",
       "          <td>0</td>\n",
       "          <td>8 Bytes</td>\n",
       "          <td style=\"text-align: center;\">\n",
       "\n",
       "          </td>\n",
       "        </tr>\n",
       "\n",
       "      <tr>\n",
       "        <td>Mutations</td>\n",
       "          <td>0</td>\n",
       "          <td>16 Bytes</td>\n",
       "          <td style=\"text-align: center;\">\n",
       "\n",
       "          </td>\n",
       "        </tr>\n",
       "\n",
       "      <tr>\n",
       "        <td>Nodes</td>\n",
       "          <td>9</td>\n",
       "          <td>511 Bytes</td>\n",
       "          <td style=\"text-align: center;\">\n",
       "            ✅\n",
       "          </td>\n",
       "        </tr>\n",
       "\n",
       "      <tr>\n",
       "        <td>Populations</td>\n",
       "          <td>0</td>\n",
       "          <td>8 Bytes</td>\n",
       "          <td style=\"text-align: center;\">\n",
       "\n",
       "          </td>\n",
       "        </tr>\n",
       "\n",
       "      <tr>\n",
       "        <td>Provenances</td>\n",
       "          <td>0</td>\n",
       "          <td>16 Bytes</td>\n",
       "          <td style=\"text-align: center;\">\n",
       "\n",
       "          </td>\n",
       "        </tr>\n",
       "\n",
       "      <tr>\n",
       "        <td>Sites</td>\n",
       "          <td>0</td>\n",
       "          <td>16 Bytes</td>\n",
       "          <td style=\"text-align: center;\">\n",
       "\n",
       "          </td>\n",
       "        </tr>\n",
       "\n",
       "        </tbody>\n",
       "      </table>\n",
       "    </div>\n",
       "  </div>\n",
       "</div>\n"
      ],
      "text/plain": [
       "<tskit.trees.TreeSequence at 0x7fc59b871810>"
      ]
     },
     "execution_count": 8,
     "metadata": {},
     "output_type": "execute_result"
    }
   ],
   "source": [
    "tree.tree_sequence  # When output in a notebook, prints a summary of the tree sequence"
   ]
  },
  {
   "cell_type": "markdown",
   "id": "f519662d",
   "metadata": {},
   "source": [
    "(sec_phylogen_ids)=\n",
    "### Integer node and edge IDs\n",
    "\n",
    "The plot above labels nodes by their name, but internally the `tskit` library relies\n",
    "heavily on integer IDs. Here's the same tree with node IDs plotted instead:"
   ]
  },
  {
   "cell_type": "code",
   "execution_count": 9,
   "id": "11d6e236",
   "metadata": {},
   "outputs": [
    {
     "data": {
      "image/svg+xml": [
       "<svg baseProfile=\"full\" height=\"200\" version=\"1.1\" width=\"200\" xmlns=\"http://www.w3.org/2000/svg\" xmlns:ev=\"http://www.w3.org/2001/xml-events\" xmlns:xlink=\"http://www.w3.org/1999/xlink\"><defs><style type=\"text/css\"><![CDATA[.background path {fill: #808080; fill-opacity: 0}.background path:nth-child(odd) {fill-opacity: .1}.axes {font-size: 14px}.x-axis .tick .lab {font-weight: bold; dominant-baseline: hanging}.axes, .tree {font-size: 14px; text-anchor: middle}.axes line, .edge {stroke: black; fill: none}.axes .ax-skip {stroke-dasharray: 4}.y-axis .grid {stroke: #FAFAFA}.node > .sym {fill: black; stroke: none}.site > .sym {stroke: black}.mut text {fill: red; font-style: italic}.mut.extra text {fill: hotpink}.mut line {fill: none; stroke: none}.mut .sym {fill: none; stroke: red}.mut.extra .sym {stroke: hotpink}.node .mut .sym {stroke-width: 1.5px}.tree text, .tree-sequence text {dominant-baseline: central}.plotbox .lab.lft {text-anchor: end}.plotbox .lab.rgt {text-anchor: start}]]></style></defs><g class=\"tree t0\"><g class=\"plotbox\"><g class=\"c2 node n0 root\" transform=\"translate(76 26.8)\"><g class=\"a0 leaf node n1 sample\" transform=\"translate(-40 141.4)\"><path class=\"edge\" d=\"M 0 0 V -141.4 H 40\" /><rect class=\"sym\" height=\"6\" width=\"6\" x=\"-3\" y=\"-3\" /><text class=\"lab\" transform=\"translate(0 11)\">1</text></g><g class=\"a0 c2 node n2\" transform=\"translate(40 70.7)\"><g class=\"a2 c2 node n3\" transform=\"translate(-32 47.1333)\"><g class=\"a3 leaf node n5 sample\" transform=\"translate(-16 23.5667)\"><path class=\"edge\" d=\"M 0 0 V -23.5667 H 16\" /><rect class=\"sym\" height=\"6\" width=\"6\" x=\"-3\" y=\"-3\" /><text class=\"lab\" transform=\"translate(0 11)\">5</text></g><g class=\"a3 leaf node n6 sample\" transform=\"translate(16 23.5667)\"><path class=\"edge\" d=\"M 0 0 V -23.5667 H -16\" /><rect class=\"sym\" height=\"6\" width=\"6\" x=\"-3\" y=\"-3\" /><text class=\"lab\" transform=\"translate(0 11)\">6</text></g><path class=\"edge\" d=\"M 0 0 V -47.1333 H 32\" /><circle class=\"sym\" cx=\"0\" cy=\"0\" r=\"3\" /><text class=\"lab lft\" transform=\"translate(-3 -7.0)\">3</text></g><g class=\"a2 c2 node n4\" transform=\"translate(32 23.5667)\"><g class=\"a4 leaf node n7 sample\" transform=\"translate(-16 47.1333)\"><path class=\"edge\" d=\"M 0 0 V -47.1333 H 16\" /><rect class=\"sym\" height=\"6\" width=\"6\" x=\"-3\" y=\"-3\" /><text class=\"lab\" transform=\"translate(0 11)\">7</text></g><g class=\"a4 leaf node n8 sample\" transform=\"translate(16 47.1333)\"><path class=\"edge\" d=\"M 0 0 V -47.1333 H -16\" /><rect class=\"sym\" height=\"6\" width=\"6\" x=\"-3\" y=\"-3\" /><text class=\"lab\" transform=\"translate(0 11)\">8</text></g><path class=\"edge\" d=\"M 0 0 V -23.5667 H -32\" /><circle class=\"sym\" cx=\"0\" cy=\"0\" r=\"3\" /><text class=\"lab rgt\" transform=\"translate(3 -7.0)\">4</text></g><path class=\"edge\" d=\"M 0 0 V -70.7 H -40\" /><circle class=\"sym\" cx=\"0\" cy=\"0\" r=\"3\" /><text class=\"lab rgt\" transform=\"translate(3 -7.0)\">2</text></g><circle class=\"sym\" cx=\"0\" cy=\"0\" r=\"3\" /><text class=\"lab\" transform=\"translate(0 -11)\">0</text></g></g></g></svg>"
      ],
      "text/plain": [
       "'<svg baseProfile=\"full\" height=\"200\" version=\"1.1\" width=\"200\" xmlns=\"http://www.w3.org/2000/svg\" xmlns:ev=\"http://www.w3.org/2001/xml-events\" xmlns:xlink=\"http://www.w3.org/1999/xlink\"><defs><style type=\"text/css\"><![CDATA[.background path {fill: #808080; fill-opacity: 0}.background path:nth-child(odd) {fill-opacity: .1}.axes {font-size: 14px}.x-axis .tick .lab {font-weight: bold; dominant-baseline: hanging}.axes, .tree {font-size: 14px; text-anchor: middle}.axes line, .edge {stroke: black; fill: none}.axes .ax-skip {stroke-dasharray: 4}.y-axis .grid {stroke: #FAFAFA}.node > .sym {fill: black; stroke: none}.site > .sym {stroke: black}.mut text {fill: red; font-style: italic}.mut.extra text {fill: hotpink}.mut line {fill: none; stroke: none}.mut .sym {fill: none; stroke: red}.mut.extra .sym {stroke: hotpink}.node .mut .sym {stroke-width: 1.5px}.tree text, .tree-sequence text {dominant-baseline: central}.plotbox .lab.lft {text-anchor: end}.plotbox .lab.rgt {text-anchor: start}]]></style></defs><g class=\"tree t0\"><g class=\"plotbox\"><g class=\"c2 node n0 root\" transform=\"translate(76 26.8)\"><g class=\"a0 leaf node n1 sample\" transform=\"translate(-40 141.4)\"><path class=\"edge\" d=\"M 0 0 V -141.4 H 40\" /><rect class=\"sym\" height=\"6\" width=\"6\" x=\"-3\" y=\"-3\" /><text class=\"lab\" transform=\"translate(0 11)\">1</text></g><g class=\"a0 c2 node n2\" transform=\"translate(40 70.7)\"><g class=\"a2 c2 node n3\" transform=\"translate(-32 47.1333)\"><g class=\"a3 leaf node n5 sample\" transform=\"translate(-16 23.5667)\"><path class=\"edge\" d=\"M 0 0 V -23.5667 H 16\" /><rect class=\"sym\" height=\"6\" width=\"6\" x=\"-3\" y=\"-3\" /><text class=\"lab\" transform=\"translate(0 11)\">5</text></g><g class=\"a3 leaf node n6 sample\" transform=\"translate(16 23.5667)\"><path class=\"edge\" d=\"M 0 0 V -23.5667 H -16\" /><rect class=\"sym\" height=\"6\" width=\"6\" x=\"-3\" y=\"-3\" /><text class=\"lab\" transform=\"translate(0 11)\">6</text></g><path class=\"edge\" d=\"M 0 0 V -47.1333 H 32\" /><circle class=\"sym\" cx=\"0\" cy=\"0\" r=\"3\" /><text class=\"lab lft\" transform=\"translate(-3 -7.0)\">3</text></g><g class=\"a2 c2 node n4\" transform=\"translate(32 23.5667)\"><g class=\"a4 leaf node n7 sample\" transform=\"translate(-16 47.1333)\"><path class=\"edge\" d=\"M 0 0 V -47.1333 H 16\" /><rect class=\"sym\" height=\"6\" width=\"6\" x=\"-3\" y=\"-3\" /><text class=\"lab\" transform=\"translate(0 11)\">7</text></g><g class=\"a4 leaf node n8 sample\" transform=\"translate(16 47.1333)\"><path class=\"edge\" d=\"M 0 0 V -47.1333 H -16\" /><rect class=\"sym\" height=\"6\" width=\"6\" x=\"-3\" y=\"-3\" /><text class=\"lab\" transform=\"translate(0 11)\">8</text></g><path class=\"edge\" d=\"M 0 0 V -23.5667 H -32\" /><circle class=\"sym\" cx=\"0\" cy=\"0\" r=\"3\" /><text class=\"lab rgt\" transform=\"translate(3 -7.0)\">4</text></g><path class=\"edge\" d=\"M 0 0 V -70.7 H -40\" /><circle class=\"sym\" cx=\"0\" cy=\"0\" r=\"3\" /><text class=\"lab rgt\" transform=\"translate(3 -7.0)\">2</text></g><circle class=\"sym\" cx=\"0\" cy=\"0\" r=\"3\" /><text class=\"lab\" transform=\"translate(0 -11)\">0</text></g></g></g></svg>'"
      ]
     },
     "execution_count": 9,
     "metadata": {
      "filenames": {
       "image/svg+xml": "/home/runner/work/tutorials/tutorials/_build/jupyter_execute/phylogen_14_0.svg"
      }
     },
     "output_type": "execute_result"
    }
   ],
   "source": [
    "tree = ts.first()\n",
    "tree.draw_svg()"
   ]
  },
  {
   "cell_type": "markdown",
   "id": "04323513",
   "metadata": {},
   "source": [
    "#### Nodes\n",
    "\n",
    "Each {ref}`node<sec_terminology_nodes>` in a tree sequence is allocated an\n",
    "integer ID starting from 0 to `ts.num_nodes - 1` (IDs can be allocated in any order;\n",
    "often the tips are labelled starting from 0 but this is not necessarily so, and\n",
    "is not the case in the example above).\n",
    "\n",
    "For efficiency reasons, tree traversal routines, as well as many other `tskit` methods,\n",
    "tend to return integer IDs. You can use this ID to get specific information about the\n",
    "node and its position in the tree, for example"
   ]
  },
  {
   "cell_type": "code",
   "execution_count": 10,
   "id": "6a497f4c",
   "metadata": {},
   "outputs": [
    {
     "name": "stdout",
     "output_type": "stream",
     "text": [
      "The parent of 4 is 2 and its children are (7, 8)\n",
      "The parents of nodes 0..8 are [-1  0  0  2  2  3  3  4  4 -1]\n"
     ]
    }
   ],
   "source": [
    "node_id = 4\n",
    "parent_id = tree.parent(node_id)\n",
    "child_ids = tree.children(node_id)\n",
    "print(\"The parent of\", node_id, \"is\", parent_id, \"and its children are\", child_ids)\n",
    "# or e.g. get all parents them as an array (where -1 means there is no parent)\n",
    "print(f\"The parents of nodes 0..{ts.num_nodes-1} are\", tree.parent_array)"
   ]
  },
  {
   "cell_type": "markdown",
   "id": "792c8b33",
   "metadata": {},
   "source": [
    "Other methods also exist to\n",
    "{ref}`examine nodes in a tree<sec_python_api_trees_node_measures>`, e.g.\n",
    "{meth}`Tree.is_leaf`, {meth}`Tree.mrca` for the most recent common ancestor between\n",
    "2 or more nodes, etc.\n",
    "\n",
    "#### Edges\n",
    "\n",
    "Rather than refer to \"branches\" of a tree, tskit tends to refer to\n",
    "{ref}`sec_terminology_edges` (the term \"edge\" emphasises that these can span\n",
    "{ref}`sec_phylogen_multiple_trees`, although for tree sequences containing a single\n",
    "tree, the terms are interchangeable). Like other entities in `tskit`, edges are referred\n",
    "to by an integer ID. For instance, here is the edge above the internal node 4"
   ]
  },
  {
   "cell_type": "code",
   "execution_count": 11,
   "id": "f75d065a",
   "metadata": {},
   "outputs": [
    {
     "name": "stdout",
     "output_type": "stream",
     "text": [
      "The edge above 4 has ID 5\n",
      "Edge(left=0.0, right=100.0, parent=2, child=4, metadata=b'', id=5)\n"
     ]
    }
   ],
   "source": [
    "node_id = 4\n",
    "edge_id = tree.edge(node_id)\n",
    "print(\"The edge above\", node_id, \"has ID\", edge_id)\n",
    "print(tree.tree_sequence.edge(edge_id))"
   ]
  },
  {
   "cell_type": "markdown",
   "id": "35ce5ed6",
   "metadata": {},
   "source": [
    "The `left` and `right` attributes of an edge give genomic coordinates, and are\n",
    "important in tree sequences that contain more than one tree.\n",
    "\n",
    "\n",
    "(sec_phylogen_tree_object)=\n",
    "### The `Tree` object\n",
    "\n",
    "The {class}`Tree` object has {ref}`methods<sec_python_api_trees>` to perform basic operations\n",
    "on a tree such as traversing the nodes, identifying parents, children, and common\n",
    "ancestors, etc. {ref}`Several methods<sec_python_api_trees_node_measures_array>`\n",
    "also return numpy arrays for use in\n",
    "{ref}`efficient algorithms using numba<sec_trees_numba>`"
   ]
  },
  {
   "cell_type": "code",
   "execution_count": 12,
   "id": "43c2b322",
   "metadata": {},
   "outputs": [
    {
     "name": "stdout",
     "output_type": "stream",
     "text": [
      "1\n",
      "5\n",
      "6\n",
      "3\n",
      "7\n",
      "8\n",
      "4\n",
      "2\n",
      "0\n",
      "Node IDs in postorder: [1 5 6 3 7 8 4 2 0]\n"
     ]
    }
   ],
   "source": [
    "for n_id in tree.nodes(order=\"postorder\"):\n",
    "    # you can also use \"preorder\", \"levelorder\", \"timeasc\", etc.\n",
    "    print(n_id)\n",
    "# Or get all of them as arrays\n",
    "print(\"Node IDs in postorder:\", tree.postorder())"
   ]
  },
  {
   "cell_type": "markdown",
   "id": "7948aaff",
   "metadata": {},
   "source": [
    "Various phylogenetic statistics are also available on trees, e.g"
   ]
  },
  {
   "cell_type": "code",
   "execution_count": 13,
   "id": "9d184494",
   "metadata": {},
   "outputs": [
    {
     "name": "stdout",
     "output_type": "stream",
     "text": [
      "The colless imbalance index is 3\n"
     ]
    }
   ],
   "source": [
    "print(f\"The colless imbalance index is {tree.colless_index()}\")"
   ]
  },
  {
   "cell_type": "markdown",
   "id": "ccc4db25",
   "metadata": {},
   "source": [
    "See {ref}`sec_phylogen_methods` for more examples.\n",
    "\n",
    "(sec_phylogen_samples)=\n",
    "### Sample nodes\n",
    "\n",
    "Often we are only have detailed information about specific nodes that we have sampled,\n",
    "such as genomes A, B, C, D, and E in the example above. These are designated as\n",
    "*sample nodes*, and are plotted as square nodes. The concept of\n",
    "{ref}`sample nodes<sec_data_model_definitions_sample>` is integral\n",
    "to the `tskit` format. They can be identified by using the\n",
    "{meth}`Node.is_sample` and {meth}`Tree.is_sample` methods, or can be listed using\n",
    "{meth}`TreeSequence.samples` or {meth}`Tree.samples()` (internally, the `node.flags`\n",
    "field is used to {ref}`flag up<sec_node_table_definition>` which nodes are samples):"
   ]
  },
  {
   "cell_type": "code",
   "execution_count": 14,
   "id": "844ff7ba",
   "metadata": {},
   "outputs": [
    {
     "name": "stdout",
     "output_type": "stream",
     "text": [
      "Node 0 is not a sample node\n",
      "Node 1 is a sample node\n",
      "Node 2 is not a sample node\n",
      "Node 3 is not a sample node\n",
      "Node 5 is a sample node\n",
      "Node 6 is a sample node\n",
      "Node 4 is not a sample node\n",
      "Node 7 is a sample node\n",
      "Node 8 is a sample node\n",
      "Sample nodes are [1 5 6 7 8]\n"
     ]
    }
   ],
   "source": [
    "for n_id in tree.nodes():\n",
    "    n_is_sample = tree.is_sample(n_id)\n",
    "    print(f\"Node {n_id} {'is' if n_is_sample else 'is not'} a sample node\")\n",
    "\n",
    "print(\"Sample nodes are\", tree.tree_sequence.samples())"
   ]
  },
  {
   "cell_type": "markdown",
   "id": "b9dee097",
   "metadata": {},
   "source": [
    "Often the sample nodes are the leaves of a tree, but this need not be the case. There\n",
    "are fast methods for identifying the sample nodes under an internal node in the tree,\n",
    "etc.\n",
    "\n",
    "\n",
    "(sec_phylogen_metadata)=\n",
    "### Attributes and metadata\n",
    "\n",
    "Given a node ID, you can access more information about the node from a\n",
    "{class}`node object<tskit.Node>`.\n",
    "Because nodes are shared across all trees in a tree sequence, you access the\n",
    "node object via the `tree_sequence` to which this tree belongs:"
   ]
  },
  {
   "cell_type": "code",
   "execution_count": 15,
   "id": "cecb17de",
   "metadata": {},
   "outputs": [
    {
     "data": {
      "text/plain": [
       "Node(id=4, flags=0, time=2.0, population=-1, individual=-1, metadata={})"
      ]
     },
     "execution_count": 15,
     "metadata": {},
     "output_type": "execute_result"
    }
   ],
   "source": [
    "tree.tree_sequence.node(node_id)  # or simply ts.node(node_id)"
   ]
  },
  {
   "cell_type": "markdown",
   "id": "243c2595",
   "metadata": {},
   "source": [
    "Attributes such as `id`, `flags` and `time` are always present. Arbitrary information,\n",
    "such a name or e.g. bootstrap values, are stored in *metadata*"
   ]
  },
  {
   "cell_type": "code",
   "execution_count": 16,
   "id": "aade1ae2",
   "metadata": {},
   "outputs": [
    {
     "name": "stdout",
     "output_type": "stream",
     "text": [
      "Node 0 <no name>\n",
      "Node 1 A\n",
      "Node 2 <no name>\n",
      "Node 3 <no name>\n",
      "Node 5 B\n",
      "Node 6 C\n",
      "Node 4 <no name>\n",
      "Node 7 D\n",
      "Node 8 E\n"
     ]
    }
   ],
   "source": [
    "for n_id in tree.nodes():\n",
    "    print(\"Node\", n_id, tree.tree_sequence.node(n_id).metadata.get(\"name\", \"<no name>\"))"
   ]
  },
  {
   "cell_type": "markdown",
   "id": "63527e2b",
   "metadata": {},
   "source": [
    "However, for large datasets, it may be more efficient to access the array of e.g.\n",
    "times for all nodes, which provides direct memory access into the\n",
    "{ref}`tables<sec_tables>` that underlie the tree sequence format:"
   ]
  },
  {
   "cell_type": "code",
   "execution_count": 17,
   "id": "f2264a43",
   "metadata": {},
   "outputs": [
    {
     "data": {
      "text/plain": [
       "array([6., 0., 3., 1., 2., 0., 0., 0., 0.])"
      ]
     },
     "execution_count": 17,
     "metadata": {},
     "output_type": "execute_result"
    }
   ],
   "source": [
    "tree.tree_sequence.nodes_time"
   ]
  },
  {
   "cell_type": "markdown",
   "id": "4e791685",
   "metadata": {},
   "source": [
    "(sec_phylogen_node_time)=\n",
    "### Nodes must have times\n",
    "\n",
    "Perhaps the most noticable different between a `tskit` tree and the encoding of trees\n",
    "in other phylogenetic libraries is that `tskit` does not explicitly store branch lengths.\n",
    "Instead, each node has a *time* associated with it. Branch lengths can therefore be\n",
    "found by calculating the difference between the time of a node and the time of its\n",
    "parent node.\n",
    "\n",
    "Since nodes *must* have a time, `tskit` trees aways have these (implicit) branch\n",
    "lengths. To represent a tree (\"cladogram\") in which the branch lengths are not\n",
    "meaningful, the {attr}`TreeSequence.time_units` of a tree sequence can be\n",
    "specified as `\"uncalibrated\"` (see below)\n",
    "\n",
    "Another implication of storing node times rather than branch lengths is that `tskit`\n",
    "trees are always directional (i.e. they are \"rooted\"). The reason that `tskit` stores\n",
    "times of nodes (rather than e.g. genetic distances between them) is to ensure temporal \n",
    "consistency. In particular it makes it impossible for a node to be an ancestor of a\n",
    "node in one tree, and a descendant of the same node in another tree in the tree sequence.\n",
    "This is of critical importance when extending the concept of genetic ancestry to\n",
    "{ref}`sec_phylogen_multiple_trees` along a genome.\n",
    "\n",
    "The {attr}`TreeSequence.time_units` attribute stores the units in which time is\n",
    "measured: if not known, this defaults to \"unknown\":"
   ]
  },
  {
   "cell_type": "code",
   "execution_count": 18,
   "id": "b68e6492",
   "metadata": {},
   "outputs": [
    {
     "name": "stdout",
     "output_type": "stream",
     "text": [
      "Time units are unknown\n"
     ]
    },
    {
     "data": {
      "image/svg+xml": [
       "<svg baseProfile=\"full\" height=\"200\" version=\"1.1\" width=\"200\" xmlns=\"http://www.w3.org/2000/svg\" xmlns:ev=\"http://www.w3.org/2001/xml-events\" xmlns:xlink=\"http://www.w3.org/1999/xlink\"><defs><style type=\"text/css\"><![CDATA[.background path {fill: #808080; fill-opacity: 0}.background path:nth-child(odd) {fill-opacity: .1}.axes {font-size: 14px}.x-axis .tick .lab {font-weight: bold; dominant-baseline: hanging}.axes, .tree {font-size: 14px; text-anchor: middle}.axes line, .edge {stroke: black; fill: none}.axes .ax-skip {stroke-dasharray: 4}.y-axis .grid {stroke: #FAFAFA}.node > .sym {fill: black; stroke: none}.site > .sym {stroke: black}.mut text {fill: red; font-style: italic}.mut.extra text {fill: hotpink}.mut line {fill: none; stroke: none}.mut .sym {fill: none; stroke: red}.mut.extra .sym {stroke: hotpink}.node .mut .sym {stroke-width: 1.5px}.tree text, .tree-sequence text {dominant-baseline: central}.plotbox .lab.lft {text-anchor: end}.plotbox .lab.rgt {text-anchor: start}]]></style></defs><g class=\"tree t0\"><g class=\"axes\"><g class=\"y-axis\"><g class=\"title\" transform=\"translate(0 89.1)\"><text class=\"lab\" text-anchor=\"middle\" transform=\"translate(11) rotate(-90)\">Time</text></g><line class=\"ax-line\" x1=\"56.8\" x2=\"56.8\" y1=\"168.2\" y2=\"10\" /><g class=\"ticks\"><g class=\"tick\" transform=\"translate(56.8 26.8)\"><line x1=\"0\" x2=\"-5\" y1=\"0\" y2=\"0\" /><g transform=\"translate(-6 0)\"><text class=\"lab\" text-anchor=\"end\">6</text></g></g><g class=\"tick\" transform=\"translate(56.8 168.2)\"><line x1=\"0\" x2=\"-5\" y1=\"0\" y2=\"0\" /><g transform=\"translate(-6 0)\"><text class=\"lab\" text-anchor=\"end\">0</text></g></g><g class=\"tick\" transform=\"translate(56.8 97.5)\"><line x1=\"0\" x2=\"-5\" y1=\"0\" y2=\"0\" /><g transform=\"translate(-6 0)\"><text class=\"lab\" text-anchor=\"end\">3</text></g></g><g class=\"tick\" transform=\"translate(56.8 144.633)\"><line x1=\"0\" x2=\"-5\" y1=\"0\" y2=\"0\" /><g transform=\"translate(-6 0)\"><text class=\"lab\" text-anchor=\"end\">1</text></g></g><g class=\"tick\" transform=\"translate(56.8 121.067)\"><line x1=\"0\" x2=\"-5\" y1=\"0\" y2=\"0\" /><g transform=\"translate(-6 0)\"><text class=\"lab\" text-anchor=\"end\">2</text></g></g></g></g></g><g class=\"plotbox\"><g class=\"c2 node n0 root\" transform=\"translate(99.92 26.8)\"><g class=\"a0 leaf node n1 sample\" transform=\"translate(-30.8 141.4)\"><path class=\"edge\" d=\"M 0 0 V -141.4 H 30.8\" /><rect class=\"sym\" height=\"6\" width=\"6\" x=\"-3\" y=\"-3\" /><text class=\"lab\" transform=\"translate(0 11)\">1</text></g><g class=\"a0 c2 node n2\" transform=\"translate(30.8 70.7)\"><g class=\"a2 c2 node n3\" transform=\"translate(-24.64 47.1333)\"><g class=\"a3 leaf node n5 sample\" transform=\"translate(-12.32 23.5667)\"><path class=\"edge\" d=\"M 0 0 V -23.5667 H 12.32\" /><rect class=\"sym\" height=\"6\" width=\"6\" x=\"-3\" y=\"-3\" /><text class=\"lab\" transform=\"translate(0 11)\">5</text></g><g class=\"a3 leaf node n6 sample\" transform=\"translate(12.32 23.5667)\"><path class=\"edge\" d=\"M 0 0 V -23.5667 H -12.32\" /><rect class=\"sym\" height=\"6\" width=\"6\" x=\"-3\" y=\"-3\" /><text class=\"lab\" transform=\"translate(0 11)\">6</text></g><path class=\"edge\" d=\"M 0 0 V -47.1333 H 24.64\" /><circle class=\"sym\" cx=\"0\" cy=\"0\" r=\"3\" /><text class=\"lab lft\" transform=\"translate(-3 -7.0)\">3</text></g><g class=\"a2 c2 node n4\" transform=\"translate(24.64 23.5667)\"><g class=\"a4 leaf node n7 sample\" transform=\"translate(-12.32 47.1333)\"><path class=\"edge\" d=\"M 0 0 V -47.1333 H 12.32\" /><rect class=\"sym\" height=\"6\" width=\"6\" x=\"-3\" y=\"-3\" /><text class=\"lab\" transform=\"translate(0 11)\">7</text></g><g class=\"a4 leaf node n8 sample\" transform=\"translate(12.32 47.1333)\"><path class=\"edge\" d=\"M 0 0 V -47.1333 H -12.32\" /><rect class=\"sym\" height=\"6\" width=\"6\" x=\"-3\" y=\"-3\" /><text class=\"lab\" transform=\"translate(0 11)\">8</text></g><path class=\"edge\" d=\"M 0 0 V -23.5667 H -24.64\" /><circle class=\"sym\" cx=\"0\" cy=\"0\" r=\"3\" /><text class=\"lab rgt\" transform=\"translate(3 -7.0)\">4</text></g><path class=\"edge\" d=\"M 0 0 V -70.7 H -30.8\" /><circle class=\"sym\" cx=\"0\" cy=\"0\" r=\"3\" /><text class=\"lab rgt\" transform=\"translate(3 -7.0)\">2</text></g><circle class=\"sym\" cx=\"0\" cy=\"0\" r=\"3\" /><text class=\"lab\" transform=\"translate(0 -11)\">0</text></g></g></g></svg>"
      ],
      "text/plain": [
       "'<svg baseProfile=\"full\" height=\"200\" version=\"1.1\" width=\"200\" xmlns=\"http://www.w3.org/2000/svg\" xmlns:ev=\"http://www.w3.org/2001/xml-events\" xmlns:xlink=\"http://www.w3.org/1999/xlink\"><defs><style type=\"text/css\"><![CDATA[.background path {fill: #808080; fill-opacity: 0}.background path:nth-child(odd) {fill-opacity: .1}.axes {font-size: 14px}.x-axis .tick .lab {font-weight: bold; dominant-baseline: hanging}.axes, .tree {font-size: 14px; text-anchor: middle}.axes line, .edge {stroke: black; fill: none}.axes .ax-skip {stroke-dasharray: 4}.y-axis .grid {stroke: #FAFAFA}.node > .sym {fill: black; stroke: none}.site > .sym {stroke: black}.mut text {fill: red; font-style: italic}.mut.extra text {fill: hotpink}.mut line {fill: none; stroke: none}.mut .sym {fill: none; stroke: red}.mut.extra .sym {stroke: hotpink}.node .mut .sym {stroke-width: 1.5px}.tree text, .tree-sequence text {dominant-baseline: central}.plotbox .lab.lft {text-anchor: end}.plotbox .lab.rgt {text-anchor: start}]]></style></defs><g class=\"tree t0\"><g class=\"axes\"><g class=\"y-axis\"><g class=\"title\" transform=\"translate(0 89.1)\"><text class=\"lab\" text-anchor=\"middle\" transform=\"translate(11) rotate(-90)\">Time</text></g><line class=\"ax-line\" x1=\"56.8\" x2=\"56.8\" y1=\"168.2\" y2=\"10\" /><g class=\"ticks\"><g class=\"tick\" transform=\"translate(56.8 26.8)\"><line x1=\"0\" x2=\"-5\" y1=\"0\" y2=\"0\" /><g transform=\"translate(-6 0)\"><text class=\"lab\" text-anchor=\"end\">6</text></g></g><g class=\"tick\" transform=\"translate(56.8 168.2)\"><line x1=\"0\" x2=\"-5\" y1=\"0\" y2=\"0\" /><g transform=\"translate(-6 0)\"><text class=\"lab\" text-anchor=\"end\">0</text></g></g><g class=\"tick\" transform=\"translate(56.8 97.5)\"><line x1=\"0\" x2=\"-5\" y1=\"0\" y2=\"0\" /><g transform=\"translate(-6 0)\"><text class=\"lab\" text-anchor=\"end\">3</text></g></g><g class=\"tick\" transform=\"translate(56.8 144.633)\"><line x1=\"0\" x2=\"-5\" y1=\"0\" y2=\"0\" /><g transform=\"translate(-6 0)\"><text class=\"lab\" text-anchor=\"end\">1</text></g></g><g class=\"tick\" transform=\"translate(56.8 121.067)\"><line x1=\"0\" x2=\"-5\" y1=\"0\" y2=\"0\" /><g transform=\"translate(-6 0)\"><text class=\"lab\" text-anchor=\"end\">2</text></g></g></g></g></g><g class=\"plotbox\"><g class=\"c2 node n0 root\" transform=\"translate(99.92 26.8)\"><g class=\"a0 leaf node n1 sample\" transform=\"translate(-30.8 141.4)\"><path class=\"edge\" d=\"M 0 0 V -141.4 H 30.8\" /><rect class=\"sym\" height=\"6\" width=\"6\" x=\"-3\" y=\"-3\" /><text class=\"lab\" transform=\"translate(0 11)\">1</text></g><g class=\"a0 c2 node n2\" transform=\"translate(30.8 70.7)\"><g class=\"a2 c2 node n3\" transform=\"translate(-24.64 47.1333)\"><g class=\"a3 leaf node n5 sample\" transform=\"translate(-12.32 23.5667)\"><path class=\"edge\" d=\"M 0 0 V -23.5667 H 12.32\" /><rect class=\"sym\" height=\"6\" width=\"6\" x=\"-3\" y=\"-3\" /><text class=\"lab\" transform=\"translate(0 11)\">5</text></g><g class=\"a3 leaf node n6 sample\" transform=\"translate(12.32 23.5667)\"><path class=\"edge\" d=\"M 0 0 V -23.5667 H -12.32\" /><rect class=\"sym\" height=\"6\" width=\"6\" x=\"-3\" y=\"-3\" /><text class=\"lab\" transform=\"translate(0 11)\">6</text></g><path class=\"edge\" d=\"M 0 0 V -47.1333 H 24.64\" /><circle class=\"sym\" cx=\"0\" cy=\"0\" r=\"3\" /><text class=\"lab lft\" transform=\"translate(-3 -7.0)\">3</text></g><g class=\"a2 c2 node n4\" transform=\"translate(24.64 23.5667)\"><g class=\"a4 leaf node n7 sample\" transform=\"translate(-12.32 47.1333)\"><path class=\"edge\" d=\"M 0 0 V -47.1333 H 12.32\" /><rect class=\"sym\" height=\"6\" width=\"6\" x=\"-3\" y=\"-3\" /><text class=\"lab\" transform=\"translate(0 11)\">7</text></g><g class=\"a4 leaf node n8 sample\" transform=\"translate(12.32 47.1333)\"><path class=\"edge\" d=\"M 0 0 V -47.1333 H -12.32\" /><rect class=\"sym\" height=\"6\" width=\"6\" x=\"-3\" y=\"-3\" /><text class=\"lab\" transform=\"translate(0 11)\">8</text></g><path class=\"edge\" d=\"M 0 0 V -23.5667 H -24.64\" /><circle class=\"sym\" cx=\"0\" cy=\"0\" r=\"3\" /><text class=\"lab rgt\" transform=\"translate(3 -7.0)\">4</text></g><path class=\"edge\" d=\"M 0 0 V -70.7 H -30.8\" /><circle class=\"sym\" cx=\"0\" cy=\"0\" r=\"3\" /><text class=\"lab rgt\" transform=\"translate(3 -7.0)\">2</text></g><circle class=\"sym\" cx=\"0\" cy=\"0\" r=\"3\" /><text class=\"lab\" transform=\"translate(0 -11)\">0</text></g></g></g></svg>'"
      ]
     },
     "execution_count": 18,
     "metadata": {
      "filenames": {
       "image/svg+xml": "/home/runner/work/tutorials/tutorials/_build/jupyter_execute/phylogen_32_1.svg"
      }
     },
     "output_type": "execute_result"
    }
   ],
   "source": [
    "print(\"Time units are\", tree.tree_sequence.time_units)\n",
    "tree.draw_svg(y_axis=True)"
   ]
  },
  {
   "cell_type": "markdown",
   "id": "1fcda62d",
   "metadata": {},
   "source": [
    "Although branch lengths are not stored explicitly, for convenience `tskit` provides a\n",
    "{meth}`Tree.branch_length` method:"
   ]
  },
  {
   "cell_type": "code",
   "execution_count": 19,
   "id": "b20632e4",
   "metadata": {},
   "outputs": [
    {
     "name": "stdout",
     "output_type": "stream",
     "text": [
      "The edge (i.e. branch) immediately above node 4 has a 'length' of 1.0\n"
     ]
    }
   ],
   "source": [
    "print(\n",
    "    \"The edge (i.e. branch) immediately above node\",\n",
    "    node_id,\n",
    "    \"has a 'length' of\",\n",
    "    tree.branch_length(node_id),\n",
    ")"
   ]
  },
  {
   "cell_type": "markdown",
   "id": "32950a31",
   "metadata": {},
   "source": [
    ":::{todo}\n",
    "The branch distance between two samples is also easy to calculate\n",
    "\n",
    "NB: Turn the following in to a code cell\n",
    "```\n",
    "target_node_1 = 5\n",
    "target_node_2 = 7\n",
    "print(\n",
    "    \"The branch distance between nodes\",\n",
    "    target_node_1,\n",
    "    \"and\",\n",
    "    target_node_2,\n",
    "    \"is\",\n",
    "    # See https://github.com/tskit-dev/tskit/issues/2627 - what should be call this\n",
    "    # so as not to get mixed up with tree.path_length which counts the number of edges\n",
    "    # tree.branch_distance(target_node_1, target_node_2),\n",
    ")\n",
    "```\n",
    "\n",
    "It is worth noting that this distance is the basis for the \"genetic divergence\"\n",
    "between two samples in a tree. For this reason, an equivalent way to carry out the\n",
    "calculation is to use {meth}`TreeSequence.divergence`, part of the the standard `tskit`\n",
    "{ref}`sec_stats` framework, setting `mode=\"branch\"` and\n",
    "`windows=\"trees\"`. This is a more flexible approach, as it allows the distance between\n",
    "multiple sets of samples in {ref}`sec_phylogen_multiple_trees` to be calculated\n",
    "efficiently:\n",
    "\n",
    "NB: Turn the following in to a code cell\n",
    "```\n",
    "target_node_1 = 5\n",
    "target_node_2 = 7\n",
    "print(\n",
    "    \"Branch distance using built-in stats framework:\"\n",
    "    tree.tree_sequence.divergence(([5], [7]), mode=\"branch\", windows=\"trees\")\n",
    ")\n",
    "```\n",
    "\n",
    ":::\n",
    "\n",
    "\n",
    "(sec_phylogen_multiroot)=\n",
    "### Roots and multiroot trees\n",
    "\n",
    "In `tskit`, {ref}`sec_data_model_tree_roots` of trees are defined with respect to the\n",
    "sample nodes. In particular, if we move back in time along the tree branches from a\n",
    "sample, the oldest node that we encounter is defined as a root. The ID of a root can be\n",
    "obtained using {attr}`Tree.root`:"
   ]
  },
  {
   "cell_type": "code",
   "execution_count": 20,
   "id": "7f6b310a",
   "metadata": {},
   "outputs": [
    {
     "name": "stdout",
     "output_type": "stream",
     "text": [
      "The root node of the following tree has ID 0\n"
     ]
    },
    {
     "data": {
      "image/svg+xml": [
       "<svg baseProfile=\"full\" height=\"200\" version=\"1.1\" width=\"200\" xmlns=\"http://www.w3.org/2000/svg\" xmlns:ev=\"http://www.w3.org/2001/xml-events\" xmlns:xlink=\"http://www.w3.org/1999/xlink\"><defs><style type=\"text/css\"><![CDATA[.background path {fill: #808080; fill-opacity: 0}.background path:nth-child(odd) {fill-opacity: .1}.axes {font-size: 14px}.x-axis .tick .lab {font-weight: bold; dominant-baseline: hanging}.axes, .tree {font-size: 14px; text-anchor: middle}.axes line, .edge {stroke: black; fill: none}.axes .ax-skip {stroke-dasharray: 4}.y-axis .grid {stroke: #FAFAFA}.node > .sym {fill: black; stroke: none}.site > .sym {stroke: black}.mut text {fill: red; font-style: italic}.mut.extra text {fill: hotpink}.mut line {fill: none; stroke: none}.mut .sym {fill: none; stroke: red}.mut.extra .sym {stroke: hotpink}.node .mut .sym {stroke-width: 1.5px}.tree text, .tree-sequence text {dominant-baseline: central}.plotbox .lab.lft {text-anchor: end}.plotbox .lab.rgt {text-anchor: start}]]></style></defs><g class=\"tree t0\"><g class=\"plotbox\"><g class=\"c2 node n0 root\" transform=\"translate(76 26.8)\"><g class=\"a0 leaf node n1 sample\" transform=\"translate(-40 141.4)\"><path class=\"edge\" d=\"M 0 0 V -141.4 H 40\" /><rect class=\"sym\" height=\"6\" width=\"6\" x=\"-3\" y=\"-3\" /><text class=\"lab\" transform=\"translate(0 11)\">1</text></g><g class=\"a0 c2 node n2\" transform=\"translate(40 70.7)\"><g class=\"a2 c2 node n3\" transform=\"translate(-32 47.1333)\"><g class=\"a3 leaf node n5 sample\" transform=\"translate(-16 23.5667)\"><path class=\"edge\" d=\"M 0 0 V -23.5667 H 16\" /><rect class=\"sym\" height=\"6\" width=\"6\" x=\"-3\" y=\"-3\" /><text class=\"lab\" transform=\"translate(0 11)\">5</text></g><g class=\"a3 leaf node n6 sample\" transform=\"translate(16 23.5667)\"><path class=\"edge\" d=\"M 0 0 V -23.5667 H -16\" /><rect class=\"sym\" height=\"6\" width=\"6\" x=\"-3\" y=\"-3\" /><text class=\"lab\" transform=\"translate(0 11)\">6</text></g><path class=\"edge\" d=\"M 0 0 V -47.1333 H 32\" /><circle class=\"sym\" cx=\"0\" cy=\"0\" r=\"3\" /><text class=\"lab lft\" transform=\"translate(-3 -7.0)\">3</text></g><g class=\"a2 c2 node n4\" transform=\"translate(32 23.5667)\"><g class=\"a4 leaf node n7 sample\" transform=\"translate(-16 47.1333)\"><path class=\"edge\" d=\"M 0 0 V -47.1333 H 16\" /><rect class=\"sym\" height=\"6\" width=\"6\" x=\"-3\" y=\"-3\" /><text class=\"lab\" transform=\"translate(0 11)\">7</text></g><g class=\"a4 leaf node n8 sample\" transform=\"translate(16 47.1333)\"><path class=\"edge\" d=\"M 0 0 V -47.1333 H -16\" /><rect class=\"sym\" height=\"6\" width=\"6\" x=\"-3\" y=\"-3\" /><text class=\"lab\" transform=\"translate(0 11)\">8</text></g><path class=\"edge\" d=\"M 0 0 V -23.5667 H -32\" /><circle class=\"sym\" cx=\"0\" cy=\"0\" r=\"3\" /><text class=\"lab rgt\" transform=\"translate(3 -7.0)\">4</text></g><path class=\"edge\" d=\"M 0 0 V -70.7 H -40\" /><circle class=\"sym\" cx=\"0\" cy=\"0\" r=\"3\" /><text class=\"lab rgt\" transform=\"translate(3 -7.0)\">2</text></g><circle class=\"sym\" cx=\"0\" cy=\"0\" r=\"3\" /><text class=\"lab\" transform=\"translate(0 -11)\">0</text></g></g></g></svg>"
      ],
      "text/plain": [
       "'<svg baseProfile=\"full\" height=\"200\" version=\"1.1\" width=\"200\" xmlns=\"http://www.w3.org/2000/svg\" xmlns:ev=\"http://www.w3.org/2001/xml-events\" xmlns:xlink=\"http://www.w3.org/1999/xlink\"><defs><style type=\"text/css\"><![CDATA[.background path {fill: #808080; fill-opacity: 0}.background path:nth-child(odd) {fill-opacity: .1}.axes {font-size: 14px}.x-axis .tick .lab {font-weight: bold; dominant-baseline: hanging}.axes, .tree {font-size: 14px; text-anchor: middle}.axes line, .edge {stroke: black; fill: none}.axes .ax-skip {stroke-dasharray: 4}.y-axis .grid {stroke: #FAFAFA}.node > .sym {fill: black; stroke: none}.site > .sym {stroke: black}.mut text {fill: red; font-style: italic}.mut.extra text {fill: hotpink}.mut line {fill: none; stroke: none}.mut .sym {fill: none; stroke: red}.mut.extra .sym {stroke: hotpink}.node .mut .sym {stroke-width: 1.5px}.tree text, .tree-sequence text {dominant-baseline: central}.plotbox .lab.lft {text-anchor: end}.plotbox .lab.rgt {text-anchor: start}]]></style></defs><g class=\"tree t0\"><g class=\"plotbox\"><g class=\"c2 node n0 root\" transform=\"translate(76 26.8)\"><g class=\"a0 leaf node n1 sample\" transform=\"translate(-40 141.4)\"><path class=\"edge\" d=\"M 0 0 V -141.4 H 40\" /><rect class=\"sym\" height=\"6\" width=\"6\" x=\"-3\" y=\"-3\" /><text class=\"lab\" transform=\"translate(0 11)\">1</text></g><g class=\"a0 c2 node n2\" transform=\"translate(40 70.7)\"><g class=\"a2 c2 node n3\" transform=\"translate(-32 47.1333)\"><g class=\"a3 leaf node n5 sample\" transform=\"translate(-16 23.5667)\"><path class=\"edge\" d=\"M 0 0 V -23.5667 H 16\" /><rect class=\"sym\" height=\"6\" width=\"6\" x=\"-3\" y=\"-3\" /><text class=\"lab\" transform=\"translate(0 11)\">5</text></g><g class=\"a3 leaf node n6 sample\" transform=\"translate(16 23.5667)\"><path class=\"edge\" d=\"M 0 0 V -23.5667 H -16\" /><rect class=\"sym\" height=\"6\" width=\"6\" x=\"-3\" y=\"-3\" /><text class=\"lab\" transform=\"translate(0 11)\">6</text></g><path class=\"edge\" d=\"M 0 0 V -47.1333 H 32\" /><circle class=\"sym\" cx=\"0\" cy=\"0\" r=\"3\" /><text class=\"lab lft\" transform=\"translate(-3 -7.0)\">3</text></g><g class=\"a2 c2 node n4\" transform=\"translate(32 23.5667)\"><g class=\"a4 leaf node n7 sample\" transform=\"translate(-16 47.1333)\"><path class=\"edge\" d=\"M 0 0 V -47.1333 H 16\" /><rect class=\"sym\" height=\"6\" width=\"6\" x=\"-3\" y=\"-3\" /><text class=\"lab\" transform=\"translate(0 11)\">7</text></g><g class=\"a4 leaf node n8 sample\" transform=\"translate(16 47.1333)\"><path class=\"edge\" d=\"M 0 0 V -47.1333 H -16\" /><rect class=\"sym\" height=\"6\" width=\"6\" x=\"-3\" y=\"-3\" /><text class=\"lab\" transform=\"translate(0 11)\">8</text></g><path class=\"edge\" d=\"M 0 0 V -23.5667 H -32\" /><circle class=\"sym\" cx=\"0\" cy=\"0\" r=\"3\" /><text class=\"lab rgt\" transform=\"translate(3 -7.0)\">4</text></g><path class=\"edge\" d=\"M 0 0 V -70.7 H -40\" /><circle class=\"sym\" cx=\"0\" cy=\"0\" r=\"3\" /><text class=\"lab rgt\" transform=\"translate(3 -7.0)\">2</text></g><circle class=\"sym\" cx=\"0\" cy=\"0\" r=\"3\" /><text class=\"lab\" transform=\"translate(0 -11)\">0</text></g></g></g></svg>'"
      ]
     },
     "execution_count": 20,
     "metadata": {
      "filenames": {
       "image/svg+xml": "/home/runner/work/tutorials/tutorials/_build/jupyter_execute/phylogen_36_1.svg"
      }
     },
     "output_type": "execute_result"
    }
   ],
   "source": [
    "print(\"The root node of the following tree has ID\", tree.root)\n",
    "tree.draw_svg()"
   ]
  },
  {
   "cell_type": "markdown",
   "id": "43d525eb",
   "metadata": {},
   "source": [
    "But in `tskit`, we can also create a single \"tree\" consisting of multiple unlinked\n",
    "clades. In our example, we can create one of these phylogenetically unusual objects\n",
    "if we remove the edge above node 4, by\n",
    "{ref}`editing the underlying tables<sec_tables_editing>`:"
   ]
  },
  {
   "cell_type": "code",
   "execution_count": 21,
   "id": "a5f970d1",
   "metadata": {},
   "outputs": [
    {
     "data": {
      "image/svg+xml": [
       "<svg baseProfile=\"full\" height=\"200\" version=\"1.1\" width=\"200\" xmlns=\"http://www.w3.org/2000/svg\" xmlns:ev=\"http://www.w3.org/2001/xml-events\" xmlns:xlink=\"http://www.w3.org/1999/xlink\"><defs><style type=\"text/css\"><![CDATA[.background path {fill: #808080; fill-opacity: 0}.background path:nth-child(odd) {fill-opacity: .1}.axes {font-size: 14px}.x-axis .tick .lab {font-weight: bold; dominant-baseline: hanging}.axes, .tree {font-size: 14px; text-anchor: middle}.axes line, .edge {stroke: black; fill: none}.axes .ax-skip {stroke-dasharray: 4}.y-axis .grid {stroke: #FAFAFA}.node > .sym {fill: black; stroke: none}.site > .sym {stroke: black}.mut text {fill: red; font-style: italic}.mut.extra text {fill: hotpink}.mut line {fill: none; stroke: none}.mut .sym {fill: none; stroke: red}.mut.extra .sym {stroke: hotpink}.node .mut .sym {stroke-width: 1.5px}.tree text, .tree-sequence text {dominant-baseline: central}.plotbox .lab.lft {text-anchor: end}.plotbox .lab.rgt {text-anchor: start}]]></style></defs><g class=\"tree t0\"><g class=\"plotbox\"><g class=\"c2 node n4 root\" transform=\"translate(52 121.067)\"><g class=\"a4 leaf node n7 sample\" transform=\"translate(-16 47.1333)\"><path class=\"edge\" d=\"M 0 0 V -47.1333 H 16\" /><rect class=\"sym\" height=\"6\" width=\"6\" x=\"-3\" y=\"-3\" /><text class=\"lab\" transform=\"translate(0 11)\">7</text></g><g class=\"a4 leaf node n8 sample\" transform=\"translate(16 47.1333)\"><path class=\"edge\" d=\"M 0 0 V -47.1333 H -16\" /><rect class=\"sym\" height=\"6\" width=\"6\" x=\"-3\" y=\"-3\" /><text class=\"lab\" transform=\"translate(0 11)\">8</text></g><circle class=\"sym\" cx=\"0\" cy=\"0\" r=\"3\" /><text class=\"lab\" transform=\"translate(0 -11)\">4</text></g><g class=\"c2 node n0 root\" transform=\"translate(124 26.8)\"><g class=\"a0 leaf node n1 sample\" transform=\"translate(-24 141.4)\"><path class=\"edge\" d=\"M 0 0 V -141.4 H 24\" /><rect class=\"sym\" height=\"6\" width=\"6\" x=\"-3\" y=\"-3\" /><text class=\"lab\" transform=\"translate(0 11)\">1</text></g><g class=\"a0 c1 node n2\" transform=\"translate(24 70.7)\"><g class=\"a2 c2 node n3\" transform=\"translate(0.0 47.1333)\"><g class=\"a3 leaf node n5 sample\" transform=\"translate(-16 23.5667)\"><path class=\"edge\" d=\"M 0 0 V -23.5667 H 16\" /><rect class=\"sym\" height=\"6\" width=\"6\" x=\"-3\" y=\"-3\" /><text class=\"lab\" transform=\"translate(0 11)\">5</text></g><g class=\"a3 leaf node n6 sample\" transform=\"translate(16 23.5667)\"><path class=\"edge\" d=\"M 0 0 V -23.5667 H -16\" /><rect class=\"sym\" height=\"6\" width=\"6\" x=\"-3\" y=\"-3\" /><text class=\"lab\" transform=\"translate(0 11)\">6</text></g><path class=\"edge\" d=\"M 0 0 V -47.1333 H 0.0\" /><circle class=\"sym\" cx=\"0\" cy=\"0\" r=\"3\" /><text class=\"lab lft\" transform=\"translate(-3 -7.0)\">3</text></g><path class=\"edge\" d=\"M 0 0 V -70.7 H -24\" /><circle class=\"sym\" cx=\"0\" cy=\"0\" r=\"3\" /><text class=\"lab rgt\" transform=\"translate(3 -7.0)\">2</text></g><circle class=\"sym\" cx=\"0\" cy=\"0\" r=\"3\" /><text class=\"lab\" transform=\"translate(0 -11)\">0</text></g></g></g></svg>"
      ],
      "text/plain": [
       "'<svg baseProfile=\"full\" height=\"200\" version=\"1.1\" width=\"200\" xmlns=\"http://www.w3.org/2000/svg\" xmlns:ev=\"http://www.w3.org/2001/xml-events\" xmlns:xlink=\"http://www.w3.org/1999/xlink\"><defs><style type=\"text/css\"><![CDATA[.background path {fill: #808080; fill-opacity: 0}.background path:nth-child(odd) {fill-opacity: .1}.axes {font-size: 14px}.x-axis .tick .lab {font-weight: bold; dominant-baseline: hanging}.axes, .tree {font-size: 14px; text-anchor: middle}.axes line, .edge {stroke: black; fill: none}.axes .ax-skip {stroke-dasharray: 4}.y-axis .grid {stroke: #FAFAFA}.node > .sym {fill: black; stroke: none}.site > .sym {stroke: black}.mut text {fill: red; font-style: italic}.mut.extra text {fill: hotpink}.mut line {fill: none; stroke: none}.mut .sym {fill: none; stroke: red}.mut.extra .sym {stroke: hotpink}.node .mut .sym {stroke-width: 1.5px}.tree text, .tree-sequence text {dominant-baseline: central}.plotbox .lab.lft {text-anchor: end}.plotbox .lab.rgt {text-anchor: start}]]></style></defs><g class=\"tree t0\"><g class=\"plotbox\"><g class=\"c2 node n4 root\" transform=\"translate(52 121.067)\"><g class=\"a4 leaf node n7 sample\" transform=\"translate(-16 47.1333)\"><path class=\"edge\" d=\"M 0 0 V -47.1333 H 16\" /><rect class=\"sym\" height=\"6\" width=\"6\" x=\"-3\" y=\"-3\" /><text class=\"lab\" transform=\"translate(0 11)\">7</text></g><g class=\"a4 leaf node n8 sample\" transform=\"translate(16 47.1333)\"><path class=\"edge\" d=\"M 0 0 V -47.1333 H -16\" /><rect class=\"sym\" height=\"6\" width=\"6\" x=\"-3\" y=\"-3\" /><text class=\"lab\" transform=\"translate(0 11)\">8</text></g><circle class=\"sym\" cx=\"0\" cy=\"0\" r=\"3\" /><text class=\"lab\" transform=\"translate(0 -11)\">4</text></g><g class=\"c2 node n0 root\" transform=\"translate(124 26.8)\"><g class=\"a0 leaf node n1 sample\" transform=\"translate(-24 141.4)\"><path class=\"edge\" d=\"M 0 0 V -141.4 H 24\" /><rect class=\"sym\" height=\"6\" width=\"6\" x=\"-3\" y=\"-3\" /><text class=\"lab\" transform=\"translate(0 11)\">1</text></g><g class=\"a0 c1 node n2\" transform=\"translate(24 70.7)\"><g class=\"a2 c2 node n3\" transform=\"translate(0.0 47.1333)\"><g class=\"a3 leaf node n5 sample\" transform=\"translate(-16 23.5667)\"><path class=\"edge\" d=\"M 0 0 V -23.5667 H 16\" /><rect class=\"sym\" height=\"6\" width=\"6\" x=\"-3\" y=\"-3\" /><text class=\"lab\" transform=\"translate(0 11)\">5</text></g><g class=\"a3 leaf node n6 sample\" transform=\"translate(16 23.5667)\"><path class=\"edge\" d=\"M 0 0 V -23.5667 H -16\" /><rect class=\"sym\" height=\"6\" width=\"6\" x=\"-3\" y=\"-3\" /><text class=\"lab\" transform=\"translate(0 11)\">6</text></g><path class=\"edge\" d=\"M 0 0 V -47.1333 H 0.0\" /><circle class=\"sym\" cx=\"0\" cy=\"0\" r=\"3\" /><text class=\"lab lft\" transform=\"translate(-3 -7.0)\">3</text></g><path class=\"edge\" d=\"M 0 0 V -70.7 H -24\" /><circle class=\"sym\" cx=\"0\" cy=\"0\" r=\"3\" /><text class=\"lab rgt\" transform=\"translate(3 -7.0)\">2</text></g><circle class=\"sym\" cx=\"0\" cy=\"0\" r=\"3\" /><text class=\"lab\" transform=\"translate(0 -11)\">0</text></g></g></g></svg>'"
      ]
     },
     "execution_count": 21,
     "metadata": {
      "filenames": {
       "image/svg+xml": "/home/runner/work/tutorials/tutorials/_build/jupyter_execute/phylogen_38_0.svg"
      }
     },
     "output_type": "execute_result"
    }
   ],
   "source": [
    "# Trees & tree seqs are immutable: to change them, modify a copy of the underlying tables\n",
    "tables = ts.dump_tables()\n",
    "keep_edge = tables.edges.child != 4\n",
    "tables.edges.replace_with(tables.edges[keep_edge])\n",
    "new_ts = tables.tree_sequence()  # Turn the edited tables back into a tree sequence\n",
    "new_tree = new_ts.first()\n",
    "new_tree.draw_svg()"
   ]
  },
  {
   "cell_type": "markdown",
   "id": "80abaefa",
   "metadata": {},
   "source": [
    "Although there are two separate topologies in this plot, in `tskit` terminology, it is\n",
    "considered a single tree, but with two roots:"
   ]
  },
  {
   "cell_type": "code",
   "execution_count": 22,
   "id": "aa392d38",
   "metadata": {},
   "outputs": [
    {
     "name": "stdout",
     "output_type": "stream",
     "text": [
      "The first tree has 2 roots: [4, 0]\n"
     ]
    }
   ],
   "source": [
    "print(\"The first tree has\", len(new_tree.roots), \"roots:\", new_tree.roots)"
   ]
  },
  {
   "cell_type": "markdown",
   "id": "b2415d60",
   "metadata": {},
   "source": [
    "This also means that if we have no topology at all (i.e. an \"empty tree\"), each\n",
    "sample is its own root."
   ]
  },
  {
   "cell_type": "code",
   "execution_count": 23,
   "id": "9603c3b4",
   "metadata": {},
   "outputs": [
    {
     "name": "stdout",
     "output_type": "stream",
     "text": [
      "This empty tree has 5 roots: [1, 5, 6, 7, 8]\n"
     ]
    },
    {
     "data": {
      "image/svg+xml": [
       "<svg baseProfile=\"full\" height=\"200\" version=\"1.1\" width=\"200\" xmlns=\"http://www.w3.org/2000/svg\" xmlns:ev=\"http://www.w3.org/2001/xml-events\" xmlns:xlink=\"http://www.w3.org/1999/xlink\"><defs><style type=\"text/css\"><![CDATA[.background path {fill: #808080; fill-opacity: 0}.background path:nth-child(odd) {fill-opacity: .1}.axes {font-size: 14px}.x-axis .tick .lab {font-weight: bold; dominant-baseline: hanging}.axes, .tree {font-size: 14px; text-anchor: middle}.axes line, .edge {stroke: black; fill: none}.axes .ax-skip {stroke-dasharray: 4}.y-axis .grid {stroke: #FAFAFA}.node > .sym {fill: black; stroke: none}.site > .sym {stroke: black}.mut text {fill: red; font-style: italic}.mut.extra text {fill: hotpink}.mut line {fill: none; stroke: none}.mut .sym {fill: none; stroke: red}.mut.extra .sym {stroke: hotpink}.node .mut .sym {stroke-width: 1.5px}.tree text, .tree-sequence text {dominant-baseline: central}.plotbox .lab.lft {text-anchor: end}.plotbox .lab.rgt {text-anchor: start}]]></style></defs><g class=\"tree t0\"><g class=\"plotbox\"><g class=\"leaf node n1 root sample\" transform=\"translate(36 168.2)\"><rect class=\"sym\" height=\"6\" width=\"6\" x=\"-3\" y=\"-3\" /><text class=\"lab\" transform=\"translate(0 11)\">1</text></g><g class=\"leaf node n5 root sample\" transform=\"translate(68 168.2)\"><rect class=\"sym\" height=\"6\" width=\"6\" x=\"-3\" y=\"-3\" /><text class=\"lab\" transform=\"translate(0 11)\">5</text></g><g class=\"leaf node n6 root sample\" transform=\"translate(100 168.2)\"><rect class=\"sym\" height=\"6\" width=\"6\" x=\"-3\" y=\"-3\" /><text class=\"lab\" transform=\"translate(0 11)\">6</text></g><g class=\"leaf node n7 root sample\" transform=\"translate(132 168.2)\"><rect class=\"sym\" height=\"6\" width=\"6\" x=\"-3\" y=\"-3\" /><text class=\"lab\" transform=\"translate(0 11)\">7</text></g><g class=\"leaf node n8 root sample\" transform=\"translate(164 168.2)\"><rect class=\"sym\" height=\"6\" width=\"6\" x=\"-3\" y=\"-3\" /><text class=\"lab\" transform=\"translate(0 11)\">8</text></g></g></g></svg>"
      ],
      "text/plain": [
       "'<svg baseProfile=\"full\" height=\"200\" version=\"1.1\" width=\"200\" xmlns=\"http://www.w3.org/2000/svg\" xmlns:ev=\"http://www.w3.org/2001/xml-events\" xmlns:xlink=\"http://www.w3.org/1999/xlink\"><defs><style type=\"text/css\"><![CDATA[.background path {fill: #808080; fill-opacity: 0}.background path:nth-child(odd) {fill-opacity: .1}.axes {font-size: 14px}.x-axis .tick .lab {font-weight: bold; dominant-baseline: hanging}.axes, .tree {font-size: 14px; text-anchor: middle}.axes line, .edge {stroke: black; fill: none}.axes .ax-skip {stroke-dasharray: 4}.y-axis .grid {stroke: #FAFAFA}.node > .sym {fill: black; stroke: none}.site > .sym {stroke: black}.mut text {fill: red; font-style: italic}.mut.extra text {fill: hotpink}.mut line {fill: none; stroke: none}.mut .sym {fill: none; stroke: red}.mut.extra .sym {stroke: hotpink}.node .mut .sym {stroke-width: 1.5px}.tree text, .tree-sequence text {dominant-baseline: central}.plotbox .lab.lft {text-anchor: end}.plotbox .lab.rgt {text-anchor: start}]]></style></defs><g class=\"tree t0\"><g class=\"plotbox\"><g class=\"leaf node n1 root sample\" transform=\"translate(36 168.2)\"><rect class=\"sym\" height=\"6\" width=\"6\" x=\"-3\" y=\"-3\" /><text class=\"lab\" transform=\"translate(0 11)\">1</text></g><g class=\"leaf node n5 root sample\" transform=\"translate(68 168.2)\"><rect class=\"sym\" height=\"6\" width=\"6\" x=\"-3\" y=\"-3\" /><text class=\"lab\" transform=\"translate(0 11)\">5</text></g><g class=\"leaf node n6 root sample\" transform=\"translate(100 168.2)\"><rect class=\"sym\" height=\"6\" width=\"6\" x=\"-3\" y=\"-3\" /><text class=\"lab\" transform=\"translate(0 11)\">6</text></g><g class=\"leaf node n7 root sample\" transform=\"translate(132 168.2)\"><rect class=\"sym\" height=\"6\" width=\"6\" x=\"-3\" y=\"-3\" /><text class=\"lab\" transform=\"translate(0 11)\">7</text></g><g class=\"leaf node n8 root sample\" transform=\"translate(164 168.2)\"><rect class=\"sym\" height=\"6\" width=\"6\" x=\"-3\" y=\"-3\" /><text class=\"lab\" transform=\"translate(0 11)\">8</text></g></g></g></svg>'"
      ]
     },
     "execution_count": 23,
     "metadata": {
      "filenames": {
       "image/svg+xml": "/home/runner/work/tutorials/tutorials/_build/jupyter_execute/phylogen_42_1.svg"
      }
     },
     "output_type": "execute_result"
    }
   ],
   "source": [
    "tables.edges.clear()\n",
    "erased_ts = tables.tree_sequence()\n",
    "empty_tree = erased_ts.first()\n",
    "print(\"This empty tree has\", len(empty_tree.roots), \"roots:\", empty_tree.roots)\n",
    "empty_tree.draw_svg()"
   ]
  },
  {
   "cell_type": "markdown",
   "id": "dcae11f9",
   "metadata": {},
   "source": [
    "The samples here are {ref}`sec_data_model_tree_isolated_nodes`. This may seem like a\n",
    "strange corner case, but in `tskit`, isolated sample nodes are used to represent\n",
    "{ref}`sec_data_model_missing_data`. This therefore represents a tree in which\n",
    "relationships between the samples are not known. This could apply, for instance,\n",
    "in regions of the genome where no genetic data exists, or where genetic ancestry\n",
    "has not been simulated.\n",
    "\n",
    "(sec_phylogen_methods)=\n",
    "## Phylogenetic methods\n",
    "\n",
    ":::{todo}\n",
    "Demo some phylogenetic methods. e.g.\n",
    "1. Total branch length - demo quick calculation across multiple trees - incremental algorithm used extensively in population genetics. (\"bringing tree thinking to popgen\").\n",
    "2. KC distance\n",
    "3. Balance metrics\n",
    "4. Topology rankings (see https://github.com/tskit-dev/tutorials/issues/93)\n",
    ":::\n",
    "\n",
    "\n",
    "(sec_phylogen_unified_structure)=\n",
    "## Storing and accessing genetic data\n",
    "\n",
    "`Tskit` has been designed to capture both evolutionary tree topologies and the genetic\n",
    "sequences that evolve along the branches of these trees. This is achieved by defining\n",
    "{ref}`sec_terminology_mutations_and_sites` which are associated with specific positions\n",
    "along the genome."
   ]
  },
  {
   "cell_type": "code",
   "execution_count": 24,
   "id": "cbcdc422",
   "metadata": {},
   "outputs": [
    {
     "name": "stdout",
     "output_type": "stream",
     "text": [
      "Variable sites with the following IDs generated\n",
      "Site ID 0 @ genomic position 7: C -> T\n",
      "Site ID 1 @ genomic position 8: C -> G\n",
      "Site ID 2 @ genomic position 24: T -> C\n",
      "Site ID 3 @ genomic position 34: C -> A\n",
      "Site ID 4 @ genomic position 49: T -> A\n",
      "Site ID 5 @ genomic position 51: G -> T\n",
      "Site ID 6 @ genomic position 52: T -> A\n",
      "Site ID 7 @ genomic position 54: G -> A\n",
      "Site ID 8 @ genomic position 60: G -> A\n"
     ]
    },
    {
     "data": {
      "image/svg+xml": [
       "<svg baseProfile=\"full\" height=\"200\" version=\"1.1\" width=\"200\" xmlns=\"http://www.w3.org/2000/svg\" xmlns:ev=\"http://www.w3.org/2001/xml-events\" xmlns:xlink=\"http://www.w3.org/1999/xlink\"><defs><style type=\"text/css\"><![CDATA[.background path {fill: #808080; fill-opacity: 0}.background path:nth-child(odd) {fill-opacity: .1}.axes {font-size: 14px}.x-axis .tick .lab {font-weight: bold; dominant-baseline: hanging}.axes, .tree {font-size: 14px; text-anchor: middle}.axes line, .edge {stroke: black; fill: none}.axes .ax-skip {stroke-dasharray: 4}.y-axis .grid {stroke: #FAFAFA}.node > .sym {fill: black; stroke: none}.site > .sym {stroke: black}.mut text {fill: red; font-style: italic}.mut.extra text {fill: hotpink}.mut line {fill: none; stroke: none}.mut .sym {fill: none; stroke: red}.mut.extra .sym {stroke: hotpink}.node .mut .sym {stroke-width: 1.5px}.tree text, .tree-sequence text {dominant-baseline: central}.plotbox .lab.lft {text-anchor: end}.plotbox .lab.rgt {text-anchor: start}]]></style></defs><g class=\"tree t0\"><g class=\"plotbox\"><g class=\"c2 node n0 root\" transform=\"translate(76 26.8)\"><g class=\"a0 leaf m4 m7 node n1 s4 s7 sample\" transform=\"translate(-40 141.4)\"><path class=\"edge\" d=\"M 0 0 V -141.4 H 40\" /><g class=\"mut m7 s7\" transform=\"translate(0 -107.694)\"><line x1=\"0\" x2=\"0\" y1=\"0\" y2=\"107.694\" /><path class=\"sym\" d=\"M -3,-3 l 6,6 M -3,3 l 6,-6\" /><text class=\"lab lft\" transform=\"translate(-5 0)\">7</text></g><g class=\"mut m4 s4\" transform=\"translate(0 -67.5951)\"><line x1=\"0\" x2=\"0\" y1=\"0\" y2=\"67.5951\" /><path class=\"sym\" d=\"M -3,-3 l 6,6 M -3,3 l 6,-6\" /><text class=\"lab lft\" transform=\"translate(-5 0)\">4</text></g><rect class=\"sym\" height=\"6\" width=\"6\" x=\"-3\" y=\"-3\" /><text class=\"lab\" transform=\"translate(0 11)\">1</text></g><g class=\"a0 c2 m8 node n2 s8\" transform=\"translate(40 70.7)\"><g class=\"a2 c2 node n3\" transform=\"translate(-32 47.1333)\"><g class=\"a3 leaf m0 node n5 s0 sample\" transform=\"translate(-16 23.5667)\"><path class=\"edge\" d=\"M 0 0 V -23.5667 H 16\" /><g class=\"mut m0 s0\" transform=\"translate(0 -18.1463)\"><line x1=\"0\" x2=\"0\" y1=\"0\" y2=\"18.1463\" /><path class=\"sym\" d=\"M -3,-3 l 6,6 M -3,3 l 6,-6\" /><text class=\"lab lft\" transform=\"translate(-5 0)\">0</text></g><rect class=\"sym\" height=\"6\" width=\"6\" x=\"-3\" y=\"-3\" /><text class=\"lab\" transform=\"translate(0 11)\">5</text></g><g class=\"a3 leaf m2 node n6 s2 sample\" transform=\"translate(16 23.5667)\"><path class=\"edge\" d=\"M 0 0 V -23.5667 H -16\" /><g class=\"mut m2 s2\" transform=\"translate(0 -9.17206)\"><line x1=\"0\" x2=\"0\" y1=\"0\" y2=\"9.17206\" /><path class=\"sym\" d=\"M -3,-3 l 6,6 M -3,3 l 6,-6\" /><text class=\"lab rgt\" transform=\"translate(5 0)\">2</text></g><rect class=\"sym\" height=\"6\" width=\"6\" x=\"-3\" y=\"-3\" /><text class=\"lab\" transform=\"translate(0 11)\">6</text></g><path class=\"edge\" d=\"M 0 0 V -47.1333 H 32\" /><circle class=\"sym\" cx=\"0\" cy=\"0\" r=\"3\" /><text class=\"lab lft\" transform=\"translate(-3 -7.0)\">3</text></g><g class=\"a2 c2 node n4\" transform=\"translate(32 23.5667)\"><g class=\"a4 leaf m6 node n7 s6 sample\" transform=\"translate(-16 47.1333)\"><path class=\"edge\" d=\"M 0 0 V -47.1333 H 16\" /><g class=\"mut m6 s6\" transform=\"translate(0 -13.9074)\"><line x1=\"0\" x2=\"0\" y1=\"0\" y2=\"13.9074\" /><path class=\"sym\" d=\"M -3,-3 l 6,6 M -3,3 l 6,-6\" /><text class=\"lab lft\" transform=\"translate(-5 0)\">6</text></g><rect class=\"sym\" height=\"6\" width=\"6\" x=\"-3\" y=\"-3\" /><text class=\"lab\" transform=\"translate(0 11)\">7</text></g><g class=\"a4 leaf m1 m3 m5 node n8 s1 s3 s5 sample\" transform=\"translate(16 47.1333)\"><path class=\"edge\" d=\"M 0 0 V -47.1333 H -16\" /><g class=\"mut m1 s1\" transform=\"translate(0 -45.5218)\"><line x1=\"0\" x2=\"0\" y1=\"0\" y2=\"45.5218\" /><path class=\"sym\" d=\"M -3,-3 l 6,6 M -3,3 l 6,-6\" /><text class=\"lab rgt\" transform=\"translate(5 0)\">1</text></g><g class=\"mut m5 s5\" transform=\"translate(0 -15.8034)\"><line x1=\"0\" x2=\"0\" y1=\"0\" y2=\"15.8034\" /><path class=\"sym\" d=\"M -3,-3 l 6,6 M -3,3 l 6,-6\" /><text class=\"lab rgt\" transform=\"translate(5 0)\">5</text></g><g class=\"mut m3 s3\" transform=\"translate(0 -5.55118)\"><line x1=\"0\" x2=\"0\" y1=\"0\" y2=\"5.55118\" /><path class=\"sym\" d=\"M -3,-3 l 6,6 M -3,3 l 6,-6\" /><text class=\"lab rgt\" transform=\"translate(5 0)\">3</text></g><rect class=\"sym\" height=\"6\" width=\"6\" x=\"-3\" y=\"-3\" /><text class=\"lab\" transform=\"translate(0 11)\">8</text></g><path class=\"edge\" d=\"M 0 0 V -23.5667 H -32\" /><circle class=\"sym\" cx=\"0\" cy=\"0\" r=\"3\" /><text class=\"lab rgt\" transform=\"translate(3 -7.0)\">4</text></g><path class=\"edge\" d=\"M 0 0 V -70.7 H -40\" /><g class=\"mut m8 s8\" transform=\"translate(0 -19.4704)\"><line x1=\"0\" x2=\"0\" y1=\"0\" y2=\"19.4704\" /><path class=\"sym\" d=\"M -3,-3 l 6,6 M -3,3 l 6,-6\" /><text class=\"lab rgt\" transform=\"translate(5 0)\">8</text></g><circle class=\"sym\" cx=\"0\" cy=\"0\" r=\"3\" /><text class=\"lab rgt\" transform=\"translate(3 -7.0)\">2</text></g><circle class=\"sym\" cx=\"0\" cy=\"0\" r=\"3\" /><text class=\"lab\" transform=\"translate(0 -11)\">0</text></g></g></g></svg>"
      ],
      "text/plain": [
       "'<svg baseProfile=\"full\" height=\"200\" version=\"1.1\" width=\"200\" xmlns=\"http://www.w3.org/2000/svg\" xmlns:ev=\"http://www.w3.org/2001/xml-events\" xmlns:xlink=\"http://www.w3.org/1999/xlink\"><defs><style type=\"text/css\"><![CDATA[.background path {fill: #808080; fill-opacity: 0}.background path:nth-child(odd) {fill-opacity: .1}.axes {font-size: 14px}.x-axis .tick .lab {font-weight: bold; dominant-baseline: hanging}.axes, .tree {font-size: 14px; text-anchor: middle}.axes line, .edge {stroke: black; fill: none}.axes .ax-skip {stroke-dasharray: 4}.y-axis .grid {stroke: #FAFAFA}.node > .sym {fill: black; stroke: none}.site > .sym {stroke: black}.mut text {fill: red; font-style: italic}.mut.extra text {fill: hotpink}.mut line {fill: none; stroke: none}.mut .sym {fill: none; stroke: red}.mut.extra .sym {stroke: hotpink}.node .mut .sym {stroke-width: 1.5px}.tree text, .tree-sequence text {dominant-baseline: central}.plotbox .lab.lft {text-anchor: end}.plotbox .lab.rgt {text-anchor: start}]]></style></defs><g class=\"tree t0\"><g class=\"plotbox\"><g class=\"c2 node n0 root\" transform=\"translate(76 26.8)\"><g class=\"a0 leaf m4 m7 node n1 s4 s7 sample\" transform=\"translate(-40 141.4)\"><path class=\"edge\" d=\"M 0 0 V -141.4 H 40\" /><g class=\"mut m7 s7\" transform=\"translate(0 -107.694)\"><line x1=\"0\" x2=\"0\" y1=\"0\" y2=\"107.694\" /><path class=\"sym\" d=\"M -3,-3 l 6,6 M -3,3 l 6,-6\" /><text class=\"lab lft\" transform=\"translate(-5 0)\">7</text></g><g class=\"mut m4 s4\" transform=\"translate(0 -67.5951)\"><line x1=\"0\" x2=\"0\" y1=\"0\" y2=\"67.5951\" /><path class=\"sym\" d=\"M -3,-3 l 6,6 M -3,3 l 6,-6\" /><text class=\"lab lft\" transform=\"translate(-5 0)\">4</text></g><rect class=\"sym\" height=\"6\" width=\"6\" x=\"-3\" y=\"-3\" /><text class=\"lab\" transform=\"translate(0 11)\">1</text></g><g class=\"a0 c2 m8 node n2 s8\" transform=\"translate(40 70.7)\"><g class=\"a2 c2 node n3\" transform=\"translate(-32 47.1333)\"><g class=\"a3 leaf m0 node n5 s0 sample\" transform=\"translate(-16 23.5667)\"><path class=\"edge\" d=\"M 0 0 V -23.5667 H 16\" /><g class=\"mut m0 s0\" transform=\"translate(0 -18.1463)\"><line x1=\"0\" x2=\"0\" y1=\"0\" y2=\"18.1463\" /><path class=\"sym\" d=\"M -3,-3 l 6,6 M -3,3 l 6,-6\" /><text class=\"lab lft\" transform=\"translate(-5 0)\">0</text></g><rect class=\"sym\" height=\"6\" width=\"6\" x=\"-3\" y=\"-3\" /><text class=\"lab\" transform=\"translate(0 11)\">5</text></g><g class=\"a3 leaf m2 node n6 s2 sample\" transform=\"translate(16 23.5667)\"><path class=\"edge\" d=\"M 0 0 V -23.5667 H -16\" /><g class=\"mut m2 s2\" transform=\"translate(0 -9.17206)\"><line x1=\"0\" x2=\"0\" y1=\"0\" y2=\"9.17206\" /><path class=\"sym\" d=\"M -3,-3 l 6,6 M -3,3 l 6,-6\" /><text class=\"lab rgt\" transform=\"translate(5 0)\">2</text></g><rect class=\"sym\" height=\"6\" width=\"6\" x=\"-3\" y=\"-3\" /><text class=\"lab\" transform=\"translate(0 11)\">6</text></g><path class=\"edge\" d=\"M 0 0 V -47.1333 H 32\" /><circle class=\"sym\" cx=\"0\" cy=\"0\" r=\"3\" /><text class=\"lab lft\" transform=\"translate(-3 -7.0)\">3</text></g><g class=\"a2 c2 node n4\" transform=\"translate(32 23.5667)\"><g class=\"a4 leaf m6 node n7 s6 sample\" transform=\"translate(-16 47.1333)\"><path class=\"edge\" d=\"M 0 0 V -47.1333 H 16\" /><g class=\"mut m6 s6\" transform=\"translate(0 -13.9074)\"><line x1=\"0\" x2=\"0\" y1=\"0\" y2=\"13.9074\" /><path class=\"sym\" d=\"M -3,-3 l 6,6 M -3,3 l 6,-6\" /><text class=\"lab lft\" transform=\"translate(-5 0)\">6</text></g><rect class=\"sym\" height=\"6\" width=\"6\" x=\"-3\" y=\"-3\" /><text class=\"lab\" transform=\"translate(0 11)\">7</text></g><g class=\"a4 leaf m1 m3 m5 node n8 s1 s3 s5 sample\" transform=\"translate(16 47.1333)\"><path class=\"edge\" d=\"M 0 0 V -47.1333 H -16\" /><g class=\"mut m1 s1\" transform=\"translate(0 -45.5218)\"><line x1=\"0\" x2=\"0\" y1=\"0\" y2=\"45.5218\" /><path class=\"sym\" d=\"M -3,-3 l 6,6 M -3,3 l 6,-6\" /><text class=\"lab rgt\" transform=\"translate(5 0)\">1</text></g><g class=\"mut m5 s5\" transform=\"translate(0 -15.8034)\"><line x1=\"0\" x2=\"0\" y1=\"0\" y2=\"15.8034\" /><path class=\"sym\" d=\"M -3,-3 l 6,6 M -3,3 l 6,-6\" /><text class=\"lab rgt\" transform=\"translate(5 0)\">5</text></g><g class=\"mut m3 s3\" transform=\"translate(0 -5.55118)\"><line x1=\"0\" x2=\"0\" y1=\"0\" y2=\"5.55118\" /><path class=\"sym\" d=\"M -3,-3 l 6,6 M -3,3 l 6,-6\" /><text class=\"lab rgt\" transform=\"translate(5 0)\">3</text></g><rect class=\"sym\" height=\"6\" width=\"6\" x=\"-3\" y=\"-3\" /><text class=\"lab\" transform=\"translate(0 11)\">8</text></g><path class=\"edge\" d=\"M 0 0 V -23.5667 H -32\" /><circle class=\"sym\" cx=\"0\" cy=\"0\" r=\"3\" /><text class=\"lab rgt\" transform=\"translate(3 -7.0)\">4</text></g><path class=\"edge\" d=\"M 0 0 V -70.7 H -40\" /><g class=\"mut m8 s8\" transform=\"translate(0 -19.4704)\"><line x1=\"0\" x2=\"0\" y1=\"0\" y2=\"19.4704\" /><path class=\"sym\" d=\"M -3,-3 l 6,6 M -3,3 l 6,-6\" /><text class=\"lab rgt\" transform=\"translate(5 0)\">8</text></g><circle class=\"sym\" cx=\"0\" cy=\"0\" r=\"3\" /><text class=\"lab rgt\" transform=\"translate(3 -7.0)\">2</text></g><circle class=\"sym\" cx=\"0\" cy=\"0\" r=\"3\" /><text class=\"lab\" transform=\"translate(0 -11)\">0</text></g></g></g></svg>'"
      ]
     },
     "execution_count": 24,
     "metadata": {
      "filenames": {
       "image/svg+xml": "/home/runner/work/tutorials/tutorials/_build/jupyter_execute/phylogen_44_1.svg"
      }
     },
     "output_type": "execute_result"
    }
   ],
   "source": [
    "import msprime  # The `msprime` package can throw mutations onto a tree sequence\n",
    "mutated_ts = msprime.sim_mutations(ts, rate=3e-3, random_seed=321)\n",
    "mutated_tree = mutated_ts.first()\n",
    "print(\"Variable sites with the following IDs generated\")\n",
    "for site in mutated_tree.sites():\n",
    "    print(\n",
    "        f\"Site ID {site.id} @ genomic position {site.position:g}:\",\n",
    "        f\"{site.ancestral_state} -> {site.mutations[0].derived_state}\"\n",
    "    )\n",
    "mutated_tree.draw_svg()"
   ]
  },
  {
   "cell_type": "markdown",
   "id": "7035673a",
   "metadata": {},
   "source": [
    "Mutations occur above nodes in a tree, with all the descendant\n",
    "nodes inheriting that specific mutation (unless replaced by a subsequent\n",
    "mutation at the same site). This allows genetic variation to be\n",
    "{ref}`efficiently represented<sec_what_is_dna_data>` using the tree topology.\n",
    "To obtain the genetic variation at each site across the entire genome, you can use the\n",
    "{meth}`TreeSequence.sites` method, or (less efficiently), you can use\n",
    "{meth}`TreeSequence.alignments` to output the\n",
    "entire sequences for each sample node:"
   ]
  },
  {
   "cell_type": "code",
   "execution_count": 25,
   "id": "f05be5e0",
   "metadata": {},
   "outputs": [
    {
     "name": "stdout",
     "output_type": "stream",
     "text": [
      "Node 1: .......CC...............T.........C..............A.GT.A.....G.......................................\n",
      "Node 5: .......TC...............T.........C..............T.GT.G.....A.......................................\n",
      "Node 6: .......CC...............C.........C..............T.GT.G.....A.......................................\n",
      "Node 7: .......CC...............T.........C..............T.GA.G.....A.......................................\n",
      "Node 8: .......CG...............T.........A..............T.TT.G.....A.......................................\n"
     ]
    }
   ],
   "source": [
    "for node_id, alignment in zip(\n",
    "    mutated_ts.samples(),\n",
    "    mutated_ts.alignments(missing_data_character=\".\"),\n",
    "):\n",
    "    print(f\"Node {node_id}: {alignment}\")"
   ]
  },
  {
   "cell_type": "markdown",
   "id": "aacb23ab",
   "metadata": {},
   "source": [
    "(sec_phylogen_multiple_trees)=\n",
    "## Multiple trees\n",
    "\n",
    "Where `tskit` really shines is when the ancestry of your dataset cannot be adequately\n",
    "represented by a single tree. This is a pervasive issue in genomes (even from different\n",
    "species) that have undergone recombination in the past. The resulting series of\n",
    "{ref}`local trees<sec_what_is_local_trees>` along a genome are highly correlated\n",
    "(see {ref}`sec_concepts`).\n",
    "\n",
    "Instead of storing each tree along a genome separately, `tskit` records the genomic\n",
    "coordinates of each edge, which leads to enormous efficiencies in storage and\n",
    "analysis. As a basic demonstration, we can repeat the edge removal example\n",
    "{ref}`above <sec_phylogen_multiroot>`, but only remove the ancestral link above node 4\n",
    "for the first half of the genome."
   ]
  },
  {
   "cell_type": "code",
   "execution_count": 26,
   "id": "f37a7d8f",
   "metadata": {},
   "outputs": [
    {
     "data": {
      "image/svg+xml": [
       "<svg baseProfile=\"full\" height=\"200\" version=\"1.1\" width=\"400\" xmlns=\"http://www.w3.org/2000/svg\" xmlns:ev=\"http://www.w3.org/2001/xml-events\" xmlns:xlink=\"http://www.w3.org/1999/xlink\"><defs><style type=\"text/css\"><![CDATA[.background path {fill: #808080; fill-opacity: 0}.background path:nth-child(odd) {fill-opacity: .1}.axes {font-size: 14px}.x-axis .tick .lab {font-weight: bold; dominant-baseline: hanging}.axes, .tree {font-size: 14px; text-anchor: middle}.axes line, .edge {stroke: black; fill: none}.axes .ax-skip {stroke-dasharray: 4}.y-axis .grid {stroke: #FAFAFA}.node > .sym {fill: black; stroke: none}.site > .sym {stroke: black}.mut text {fill: red; font-style: italic}.mut.extra text {fill: hotpink}.mut line {fill: none; stroke: none}.mut .sym {fill: none; stroke: red}.mut.extra .sym {stroke: hotpink}.node .mut .sym {stroke-width: 1.5px}.tree text, .tree-sequence text {dominant-baseline: central}.plotbox .lab.lft {text-anchor: end}.plotbox .lab.rgt {text-anchor: start}]]></style></defs><g class=\"tree-sequence\"><g class=\"background\"><path d=\"M20,0 l180,0 l0,138.2 l0,25 l0,5 l-180,0 l0,-5 l0,-25 l0,-138.2z\" /><path d=\"M200,0 l180,0 l0,138.2 l0,25 l0,5 l-180,0 l0,-5 l0,-25 l0,-138.2z\" /></g><g class=\"axes\"><g class=\"x-axis\"><g class=\"title\" transform=\"translate(200 200)\"><text class=\"lab\" text-anchor=\"middle\" transform=\"translate(0 -11)\">Genome position</text></g><line class=\"ax-line\" x1=\"20\" x2=\"380\" y1=\"163.2\" y2=\"163.2\" /><g class=\"ticks\"><g class=\"tick\" transform=\"translate(20 163.2)\"><line x1=\"0\" x2=\"0\" y1=\"0\" y2=\"5\" /><g transform=\"translate(0 6)\"><text class=\"lab\">0</text></g></g><g class=\"tick\" transform=\"translate(200 163.2)\"><line x1=\"0\" x2=\"0\" y1=\"0\" y2=\"5\" /><g transform=\"translate(0 6)\"><text class=\"lab\">50</text></g></g><g class=\"tick\" transform=\"translate(380 163.2)\"><line x1=\"0\" x2=\"0\" y1=\"0\" y2=\"5\" /><g transform=\"translate(0 6)\"><text class=\"lab\">100</text></g></g></g></g></g><g class=\"plotbox trees\"><g class=\"tree t0\" transform=\"translate(20 0)\"><g class=\"plotbox\"><g class=\"c2 node n4 root\" transform=\"translate(48 89.8667)\"><g class=\"a4 leaf node n7 sample\" transform=\"translate(-14 31.5333)\"><path class=\"edge\" d=\"M 0 0 V -31.5333 H 14\" /><rect class=\"sym\" height=\"6\" width=\"6\" x=\"-3\" y=\"-3\" /><text class=\"lab\" transform=\"translate(0 11)\">7</text></g><g class=\"a4 leaf node n8 sample\" transform=\"translate(14 31.5333)\"><path class=\"edge\" d=\"M 0 0 V -31.5333 H -14\" /><rect class=\"sym\" height=\"6\" width=\"6\" x=\"-3\" y=\"-3\" /><text class=\"lab\" transform=\"translate(0 11)\">8</text></g><circle class=\"sym\" cx=\"0\" cy=\"0\" r=\"3\" /><text class=\"lab\" transform=\"translate(0 -11)\">4</text></g><g class=\"c2 node n0 root\" transform=\"translate(111 26.8)\"><g class=\"a0 leaf node n1 sample\" transform=\"translate(-21 94.6)\"><path class=\"edge\" d=\"M 0 0 V -94.6 H 21\" /><rect class=\"sym\" height=\"6\" width=\"6\" x=\"-3\" y=\"-3\" /><text class=\"lab\" transform=\"translate(0 11)\">1</text></g><g class=\"a0 c1 node n2\" transform=\"translate(21 47.3)\"><g class=\"a2 c2 node n3\" transform=\"translate(0.0 31.5333)\"><g class=\"a3 leaf node n5 sample\" transform=\"translate(-14 15.7667)\"><path class=\"edge\" d=\"M 0 0 V -15.7667 H 14\" /><rect class=\"sym\" height=\"6\" width=\"6\" x=\"-3\" y=\"-3\" /><text class=\"lab\" transform=\"translate(0 11)\">5</text></g><g class=\"a3 leaf node n6 sample\" transform=\"translate(14 15.7667)\"><path class=\"edge\" d=\"M 0 0 V -15.7667 H -14\" /><rect class=\"sym\" height=\"6\" width=\"6\" x=\"-3\" y=\"-3\" /><text class=\"lab\" transform=\"translate(0 11)\">6</text></g><path class=\"edge\" d=\"M 0 0 V -31.5333 H 0.0\" /><circle class=\"sym\" cx=\"0\" cy=\"0\" r=\"3\" /><text class=\"lab lft\" transform=\"translate(-3 -7.0)\">3</text></g><path class=\"edge\" d=\"M 0 0 V -47.3 H -21\" /><circle class=\"sym\" cx=\"0\" cy=\"0\" r=\"3\" /><text class=\"lab rgt\" transform=\"translate(3 -7.0)\">2</text></g><circle class=\"sym\" cx=\"0\" cy=\"0\" r=\"3\" /><text class=\"lab\" transform=\"translate(0 -11)\">0</text></g></g></g><g class=\"tree t1\" transform=\"translate(200 0)\"><g class=\"plotbox\"><g class=\"c2 node n0 root\" transform=\"translate(69 26.8)\"><g class=\"a0 leaf node n1 sample\" transform=\"translate(-35 94.6)\"><path class=\"edge\" d=\"M 0 0 V -94.6 H 35\" /><rect class=\"sym\" height=\"6\" width=\"6\" x=\"-3\" y=\"-3\" /><text class=\"lab\" transform=\"translate(0 11)\">1</text></g><g class=\"a0 c2 node n2\" transform=\"translate(35 47.3)\"><g class=\"a2 c2 node n3\" transform=\"translate(-28 31.5333)\"><g class=\"a3 leaf node n5 sample\" transform=\"translate(-14 15.7667)\"><path class=\"edge\" d=\"M 0 0 V -15.7667 H 14\" /><rect class=\"sym\" height=\"6\" width=\"6\" x=\"-3\" y=\"-3\" /><text class=\"lab\" transform=\"translate(0 11)\">5</text></g><g class=\"a3 leaf node n6 sample\" transform=\"translate(14 15.7667)\"><path class=\"edge\" d=\"M 0 0 V -15.7667 H -14\" /><rect class=\"sym\" height=\"6\" width=\"6\" x=\"-3\" y=\"-3\" /><text class=\"lab\" transform=\"translate(0 11)\">6</text></g><path class=\"edge\" d=\"M 0 0 V -31.5333 H 28\" /><circle class=\"sym\" cx=\"0\" cy=\"0\" r=\"3\" /><text class=\"lab lft\" transform=\"translate(-3 -7.0)\">3</text></g><g class=\"a2 c2 node n4\" transform=\"translate(28 15.7667)\"><g class=\"a4 leaf node n7 sample\" transform=\"translate(-14 31.5333)\"><path class=\"edge\" d=\"M 0 0 V -31.5333 H 14\" /><rect class=\"sym\" height=\"6\" width=\"6\" x=\"-3\" y=\"-3\" /><text class=\"lab\" transform=\"translate(0 11)\">7</text></g><g class=\"a4 leaf node n8 sample\" transform=\"translate(14 31.5333)\"><path class=\"edge\" d=\"M 0 0 V -31.5333 H -14\" /><rect class=\"sym\" height=\"6\" width=\"6\" x=\"-3\" y=\"-3\" /><text class=\"lab\" transform=\"translate(0 11)\">8</text></g><path class=\"edge\" d=\"M 0 0 V -15.7667 H -28\" /><circle class=\"sym\" cx=\"0\" cy=\"0\" r=\"3\" /><text class=\"lab rgt\" transform=\"translate(3 -7.0)\">4</text></g><path class=\"edge\" d=\"M 0 0 V -47.3 H -35\" /><circle class=\"sym\" cx=\"0\" cy=\"0\" r=\"3\" /><text class=\"lab rgt\" transform=\"translate(3 -7.0)\">2</text></g><circle class=\"sym\" cx=\"0\" cy=\"0\" r=\"3\" /><text class=\"lab\" transform=\"translate(0 -11)\">0</text></g></g></g></g></g></svg>"
      ],
      "text/plain": [
       "'<svg baseProfile=\"full\" height=\"200\" version=\"1.1\" width=\"400\" xmlns=\"http://www.w3.org/2000/svg\" xmlns:ev=\"http://www.w3.org/2001/xml-events\" xmlns:xlink=\"http://www.w3.org/1999/xlink\"><defs><style type=\"text/css\"><![CDATA[.background path {fill: #808080; fill-opacity: 0}.background path:nth-child(odd) {fill-opacity: .1}.axes {font-size: 14px}.x-axis .tick .lab {font-weight: bold; dominant-baseline: hanging}.axes, .tree {font-size: 14px; text-anchor: middle}.axes line, .edge {stroke: black; fill: none}.axes .ax-skip {stroke-dasharray: 4}.y-axis .grid {stroke: #FAFAFA}.node > .sym {fill: black; stroke: none}.site > .sym {stroke: black}.mut text {fill: red; font-style: italic}.mut.extra text {fill: hotpink}.mut line {fill: none; stroke: none}.mut .sym {fill: none; stroke: red}.mut.extra .sym {stroke: hotpink}.node .mut .sym {stroke-width: 1.5px}.tree text, .tree-sequence text {dominant-baseline: central}.plotbox .lab.lft {text-anchor: end}.plotbox .lab.rgt {text-anchor: start}]]></style></defs><g class=\"tree-sequence\"><g class=\"background\"><path d=\"M20,0 l180,0 l0,138.2 l0,25 l0,5 l-180,0 l0,-5 l0,-25 l0,-138.2z\" /><path d=\"M200,0 l180,0 l0,138.2 l0,25 l0,5 l-180,0 l0,-5 l0,-25 l0,-138.2z\" /></g><g class=\"axes\"><g class=\"x-axis\"><g class=\"title\" transform=\"translate(200 200)\"><text class=\"lab\" text-anchor=\"middle\" transform=\"translate(0 -11)\">Genome position</text></g><line class=\"ax-line\" x1=\"20\" x2=\"380\" y1=\"163.2\" y2=\"163.2\" /><g class=\"ticks\"><g class=\"tick\" transform=\"translate(20 163.2)\"><line x1=\"0\" x2=\"0\" y1=\"0\" y2=\"5\" /><g transform=\"translate(0 6)\"><text class=\"lab\">0</text></g></g><g class=\"tick\" transform=\"translate(200 163.2)\"><line x1=\"0\" x2=\"0\" y1=\"0\" y2=\"5\" /><g transform=\"translate(0 6)\"><text class=\"lab\">50</text></g></g><g class=\"tick\" transform=\"translate(380 163.2)\"><line x1=\"0\" x2=\"0\" y1=\"0\" y2=\"5\" /><g transform=\"translate(0 6)\"><text class=\"lab\">100</text></g></g></g></g></g><g class=\"plotbox trees\"><g class=\"tree t0\" transform=\"translate(20 0)\"><g class=\"plotbox\"><g class=\"c2 node n4 root\" transform=\"translate(48 89.8667)\"><g class=\"a4 leaf node n7 sample\" transform=\"translate(-14 31.5333)\"><path class=\"edge\" d=\"M 0 0 V -31.5333 H 14\" /><rect class=\"sym\" height=\"6\" width=\"6\" x=\"-3\" y=\"-3\" /><text class=\"lab\" transform=\"translate(0 11)\">7</text></g><g class=\"a4 leaf node n8 sample\" transform=\"translate(14 31.5333)\"><path class=\"edge\" d=\"M 0 0 V -31.5333 H -14\" /><rect class=\"sym\" height=\"6\" width=\"6\" x=\"-3\" y=\"-3\" /><text class=\"lab\" transform=\"translate(0 11)\">8</text></g><circle class=\"sym\" cx=\"0\" cy=\"0\" r=\"3\" /><text class=\"lab\" transform=\"translate(0 -11)\">4</text></g><g class=\"c2 node n0 root\" transform=\"translate(111 26.8)\"><g class=\"a0 leaf node n1 sample\" transform=\"translate(-21 94.6)\"><path class=\"edge\" d=\"M 0 0 V -94.6 H 21\" /><rect class=\"sym\" height=\"6\" width=\"6\" x=\"-3\" y=\"-3\" /><text class=\"lab\" transform=\"translate(0 11)\">1</text></g><g class=\"a0 c1 node n2\" transform=\"translate(21 47.3)\"><g class=\"a2 c2 node n3\" transform=\"translate(0.0 31.5333)\"><g class=\"a3 leaf node n5 sample\" transform=\"translate(-14 15.7667)\"><path class=\"edge\" d=\"M 0 0 V -15.7667 H 14\" /><rect class=\"sym\" height=\"6\" width=\"6\" x=\"-3\" y=\"-3\" /><text class=\"lab\" transform=\"translate(0 11)\">5</text></g><g class=\"a3 leaf node n6 sample\" transform=\"translate(14 15.7667)\"><path class=\"edge\" d=\"M 0 0 V -15.7667 H -14\" /><rect class=\"sym\" height=\"6\" width=\"6\" x=\"-3\" y=\"-3\" /><text class=\"lab\" transform=\"translate(0 11)\">6</text></g><path class=\"edge\" d=\"M 0 0 V -31.5333 H 0.0\" /><circle class=\"sym\" cx=\"0\" cy=\"0\" r=\"3\" /><text class=\"lab lft\" transform=\"translate(-3 -7.0)\">3</text></g><path class=\"edge\" d=\"M 0 0 V -47.3 H -21\" /><circle class=\"sym\" cx=\"0\" cy=\"0\" r=\"3\" /><text class=\"lab rgt\" transform=\"translate(3 -7.0)\">2</text></g><circle class=\"sym\" cx=\"0\" cy=\"0\" r=\"3\" /><text class=\"lab\" transform=\"translate(0 -11)\">0</text></g></g></g><g class=\"tree t1\" transform=\"translate(200 0)\"><g class=\"plotbox\"><g class=\"c2 node n0 root\" transform=\"translate(69 26.8)\"><g class=\"a0 leaf node n1 sample\" transform=\"translate(-35 94.6)\"><path class=\"edge\" d=\"M 0 0 V -94.6 H 35\" /><rect class=\"sym\" height=\"6\" width=\"6\" x=\"-3\" y=\"-3\" /><text class=\"lab\" transform=\"translate(0 11)\">1</text></g><g class=\"a0 c2 node n2\" transform=\"translate(35 47.3)\"><g class=\"a2 c2 node n3\" transform=\"translate(-28 31.5333)\"><g class=\"a3 leaf node n5 sample\" transform=\"translate(-14 15.7667)\"><path class=\"edge\" d=\"M 0 0 V -15.7667 H 14\" /><rect class=\"sym\" height=\"6\" width=\"6\" x=\"-3\" y=\"-3\" /><text class=\"lab\" transform=\"translate(0 11)\">5</text></g><g class=\"a3 leaf node n6 sample\" transform=\"translate(14 15.7667)\"><path class=\"edge\" d=\"M 0 0 V -15.7667 H -14\" /><rect class=\"sym\" height=\"6\" width=\"6\" x=\"-3\" y=\"-3\" /><text class=\"lab\" transform=\"translate(0 11)\">6</text></g><path class=\"edge\" d=\"M 0 0 V -31.5333 H 28\" /><circle class=\"sym\" cx=\"0\" cy=\"0\" r=\"3\" /><text class=\"lab lft\" transform=\"translate(-3 -7.0)\">3</text></g><g class=\"a2 c2 node n4\" transform=\"translate(28 15.7667)\"><g class=\"a4 leaf node n7 sample\" transform=\"translate(-14 31.5333)\"><path class=\"edge\" d=\"M 0 0 V -31.5333 H 14\" /><rect class=\"sym\" height=\"6\" width=\"6\" x=\"-3\" y=\"-3\" /><text class=\"lab\" transform=\"translate(0 11)\">7</text></g><g class=\"a4 leaf node n8 sample\" transform=\"translate(14 31.5333)\"><path class=\"edge\" d=\"M 0 0 V -31.5333 H -14\" /><rect class=\"sym\" height=\"6\" width=\"6\" x=\"-3\" y=\"-3\" /><text class=\"lab\" transform=\"translate(0 11)\">8</text></g><path class=\"edge\" d=\"M 0 0 V -15.7667 H -28\" /><circle class=\"sym\" cx=\"0\" cy=\"0\" r=\"3\" /><text class=\"lab rgt\" transform=\"translate(3 -7.0)\">4</text></g><path class=\"edge\" d=\"M 0 0 V -47.3 H -35\" /><circle class=\"sym\" cx=\"0\" cy=\"0\" r=\"3\" /><text class=\"lab rgt\" transform=\"translate(3 -7.0)\">2</text></g><circle class=\"sym\" cx=\"0\" cy=\"0\" r=\"3\" /><text class=\"lab\" transform=\"translate(0 -11)\">0</text></g></g></g></g></g></svg>'"
      ]
     },
     "execution_count": 26,
     "metadata": {
      "filenames": {
       "image/svg+xml": "/home/runner/work/tutorials/tutorials/_build/jupyter_execute/phylogen_48_0.svg"
      }
     },
     "output_type": "execute_result"
    }
   ],
   "source": [
    "tables = ts.dump_tables()\n",
    "edge_id_above_node_4 = ts.first().edge(4)\n",
    "left_coord_for_edges = tables.edges.left\n",
    "left_coord_for_edges[edge_id_above_node_4] = 50\n",
    "tables.edges.left = left_coord_for_edges  # reset the right coords\n",
    "tables.sort()\n",
    "multi_ts = tables.tree_sequence()\n",
    "\n",
    "multi_ts.draw_svg()"
   ]
  },
  {
   "cell_type": "markdown",
   "id": "cf35314e",
   "metadata": {},
   "source": [
    "For the left hand side of the genome we lack information about the ancestry of\n",
    "node 4, but for the right hand side we know this information. The result is to\n",
    "generate 2 trees in the tree sequence, which differ only in the presence of absence of\n",
    "a single branch. We do not have to separately store the entire tree on the right: all\n",
    "the edges that are shared between trees are stored only once.\n",
    "\n",
    "The rest of the `tskit` tutorials will lead you through the concepts involved with\n",
    "storing and analysing sequences of many correlated trees. For a simple introduction, you\n",
    "might want to start with {ref}`sec_what_is`."
   ]
  }
 ],
 "metadata": {
  "jupytext": {
   "text_representation": {
    "extension": ".md",
    "format_name": "myst",
    "format_version": 0.13,
    "jupytext_version": "1.10.3"
   }
  },
  "kernelspec": {
   "display_name": "Python 3",
   "language": "python",
   "name": "python3"
  },
  "language_info": {
   "codemirror_mode": {
    "name": "ipython",
    "version": 3
   },
   "file_extension": ".py",
   "mimetype": "text/x-python",
   "name": "python",
   "nbconvert_exporter": "python",
   "pygments_lexer": "ipython3",
   "version": "3.10.9"
  },
  "source_map": [
   12,
   24,
   29,
   36,
   46,
   55,
   60,
   71,
   79,
   127,
   137,
   140,
   146,
   148,
   156,
   159,
   172,
   179,
   194,
   199,
   214,
   220,
   224,
   226,
   242,
   248,
   263,
   265,
   270,
   273,
   279,
   281,
   309,
   312,
   317,
   324,
   373,
   376,
   383,
   391,
   396,
   398,
   403,
   409,
   438,
   449,
   460,
   466,
   484,
   494
  ]
 },
 "nbformat": 4,
 "nbformat_minor": 5
}