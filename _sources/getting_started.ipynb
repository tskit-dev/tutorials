{
 "cells": [
  {
   "cell_type": "markdown",
   "id": "e9611c40",
   "metadata": {},
   "source": [
    "```{currentmodule} tskit\n",
    "```\n",
    "\n",
    "(sec_tskit_getting_started)=\n",
    "# Getting started with {program}`tskit`\n",
    "\n",
    "You've run some simulations or inference methods, and you now have a \n",
    "{class}`TreeSequence` object; what now? This tutorial is aimed \n",
    "users who are new to {program}`tskit` and would like to get some\n",
    "basic tasks completed. We'll look at five fundamental things you might\n",
    "need to do:\n",
    "{ref}`process trees<sec_processing_trees>`,\n",
    "{ref}`sites & mutations<sec_processing_sites_and_mutations>`, and\n",
    "{ref}`genotypes<sec_processing_genotypes>`,\n",
    "{ref}`compute statistics<sec_tskit_getting_started_compute_statistics>`, and\n",
    "{ref}`save or export data<sec_tskit_getting_started_exporting_data>`.\n",
    "Throughout, we'll also provide pointers to where you can learn more.\n",
    "\n",
    ":::{note}\n",
    "The examples in this\n",
    "tutorial are all written using the {ref}`sec_python_api`, but it's also possible to\n",
    "{ref}`use R <sec_tskit_r>`, or access the API in other languages, notably\n",
    "{ref}`C<sec_c_api>` and [Rust](https://github.com/tskit-dev/tskit-rust).\n",
    ":::\n",
    "\n",
    "A number of different software programs can generate tree sequences. For the purposes\n",
    "of this tutorial we'll use [{program}`msprime`](https://tskit.dev/msprime) to create\n",
    "an example tree sequence representing the genetic genealogy of a 10Mb chromosome in\n",
    "twenty diploid individuals. To make it a bit more interesting, we'll simulate the effects\n",
    "of a {ref}`selective sweep<msprime:sec_ancestry_models_selective_sweeps>` in the middle\n",
    "of the chromosome, then throw some neutral mutations onto the resulting tree sequence."
   ]
  },
  {
   "cell_type": "code",
   "execution_count": 1,
   "id": "fa352012",
   "metadata": {},
   "outputs": [
    {
     "data": {
      "text/html": [
       "\n",
       "<div>\n",
       "  <style>\n",
       "    .tskit-table thead tr th {text-align: left;padding: 0.5em 0.5em;}\n",
       "    .tskit-table tbody tr td {padding: 0.5em 0.5em;}\n",
       "    .tskit-table tbody tr td:first-of-type {text-align: left;}\n",
       "    .tskit-details-label {vertical-align: top; padding-right:5px;}\n",
       "    .tskit-table-set {display: inline-flex;flex-wrap: wrap;margin: -12px 0 0 -12px;width: calc(100% + 12px);}\n",
       "    .tskit-table-set-table {margin: 12px 0 0 12px;}\n",
       "    details {display: inline-block;}\n",
       "    summary {cursor: pointer; outline: 0; display: list-item;}\n",
       "  </style>\n",
       "  <div class=\"tskit-table-set\">\n",
       "    <div class=\"tskit-table-set-table\">\n",
       "      <table class=\"tskit-table\">\n",
       "        <thead>\n",
       "          <tr>\n",
       "            <th style=\"padding:0;line-height:21px;\">\n",
       "              <img style=\"height: 32px;display: inline-block;padding: 3px 5px 3px 0;\" src=\"https://raw.githubusercontent.com/tskit-dev/administrative/main/tskit_logo.svg\"/>\n",
       "              <a target=\"_blank\" href=\"https://tskit.dev/tskit/docs/latest/python-api.html#the-treesequence-class\"> Tree Sequence </a>\n",
       "            </th>\n",
       "          </tr>\n",
       "        </thead>\n",
       "        <tbody>\n",
       "          <tr><td>Trees</td><td>11167</td></tr>\n",
       "          <tr><td>Sequence Length</td><td>10000000.0</td></tr>\n",
       "          <tr><td>Time Units</td><td>generations</td></tr>\n",
       "          <tr><td>Sample Nodes</td><td>40</td></tr>\n",
       "          <tr><td>Total Size</td><td>2.4 MiB</td></tr>\n",
       "          <tr>\n",
       "            <td>Metadata</td><td style=\"text-align: left;\">No Metadata</td></tr>\n",
       "        </tbody>\n",
       "      </table>\n",
       "    </div>\n",
       "    <div class=\"tskit-table-set-table\">\n",
       "      <table class=\"tskit-table\">\n",
       "        <thead>\n",
       "          <tr>\n",
       "            <th style=\"line-height:21px;\">Table</th>\n",
       "            <th>Rows</th>\n",
       "            <th>Size</th>\n",
       "            <th>Has Metadata</th>\n",
       "          </tr>\n",
       "        </thead>\n",
       "        <tbody>\n",
       "\n",
       "      <tr>\n",
       "        <td>Edges</td>\n",
       "          <td>36372</td>\n",
       "          <td>1.1 MiB</td>\n",
       "          <td style=\"text-align: center;\">\n",
       "\n",
       "          </td>\n",
       "        </tr>\n",
       "\n",
       "      <tr>\n",
       "        <td>Individuals</td>\n",
       "          <td>20</td>\n",
       "          <td>584 Bytes</td>\n",
       "          <td style=\"text-align: center;\">\n",
       "\n",
       "          </td>\n",
       "        </tr>\n",
       "\n",
       "      <tr>\n",
       "        <td>Migrations</td>\n",
       "          <td>0</td>\n",
       "          <td>8 Bytes</td>\n",
       "          <td style=\"text-align: center;\">\n",
       "\n",
       "          </td>\n",
       "        </tr>\n",
       "\n",
       "      <tr>\n",
       "        <td>Mutations</td>\n",
       "          <td>13568</td>\n",
       "          <td>490.3 KiB</td>\n",
       "          <td style=\"text-align: center;\">\n",
       "\n",
       "          </td>\n",
       "        </tr>\n",
       "\n",
       "      <tr>\n",
       "        <td>Nodes</td>\n",
       "          <td>7342</td>\n",
       "          <td>200.8 KiB</td>\n",
       "          <td style=\"text-align: center;\">\n",
       "\n",
       "          </td>\n",
       "        </tr>\n",
       "\n",
       "      <tr>\n",
       "        <td>Populations</td>\n",
       "          <td>1</td>\n",
       "          <td>224 Bytes</td>\n",
       "          <td style=\"text-align: center;\">\n",
       "            ✅\n",
       "          </td>\n",
       "        </tr>\n",
       "\n",
       "      <tr>\n",
       "        <td>Provenances</td>\n",
       "          <td>2</td>\n",
       "          <td>1.9 KiB</td>\n",
       "          <td style=\"text-align: center;\">\n",
       "\n",
       "          </td>\n",
       "        </tr>\n",
       "\n",
       "      <tr>\n",
       "        <td>Sites</td>\n",
       "          <td>13554</td>\n",
       "          <td>330.9 KiB</td>\n",
       "          <td style=\"text-align: center;\">\n",
       "\n",
       "          </td>\n",
       "        </tr>\n",
       "\n",
       "        </tbody>\n",
       "      </table>\n",
       "    </div>\n",
       "  </div>\n",
       "</div>\n"
      ],
      "text/plain": [
       "<tskit.trees.TreeSequence at 0x7f46dc473100>"
      ]
     },
     "execution_count": 1,
     "metadata": {},
     "output_type": "execute_result"
    }
   ],
   "source": [
    "import msprime\n",
    "\n",
    "pop_size=10_000\n",
    "seq_length=10_000_000\n",
    "\n",
    "sweep_model = msprime.SweepGenicSelection(\n",
    "    position=seq_length/2, start_frequency=0.0001, end_frequency=0.9999, s=0.25, dt=1e-6)\n",
    "\n",
    "ts = msprime.sim_ancestry(\n",
    "    20,\n",
    "    model=[sweep_model, msprime.StandardCoalescent()],\n",
    "    population_size=pop_size,\n",
    "    sequence_length=seq_length,\n",
    "    recombination_rate=1e-8,\n",
    "    random_seed=1234,  # only needed for repeatabilty\n",
    "    )\n",
    "# Optionally add finite-site mutations to the ts using the Jukes & Cantor model, creating SNPs\n",
    "ts = msprime.sim_mutations(ts, rate=1e-8, random_seed=4321)\n",
    "ts"
   ]
  },
  {
   "cell_type": "markdown",
   "id": "9d6e4781",
   "metadata": {},
   "source": [
    "You can see that there are many thousands of trees in this tree sequence.\n",
    "\n",
    ":::{note}\n",
    "Since we simulated the ancestry of 20 *diploid* individuals, our tree sequence\n",
    "contains 40 *sample nodes*, one for each genome.\n",
    ":::\n",
    "\n",
    "(sec_processing_trees)=\n",
    "\n",
    "## Processing trees\n",
    "\n",
    "Moving along a tree sequence usually involves iterating over all of its {class}`Tree`\n",
    "objects. This common idiom underlies many tree sequence algorithms, including those\n",
    "we'll encounter later in this tutorial for calculating \n",
    "{ref}`population genetic statistics<tskit:sec_stats>`.\n",
    "To iterate over a tree sequence you can use\n",
    "{meth}`TreeSequence.trees`."
   ]
  },
  {
   "cell_type": "code",
   "execution_count": 2,
   "id": "48aba0fc",
   "metadata": {},
   "outputs": [
    {
     "name": "stdout",
     "output_type": "stream",
     "text": [
      "Tree 0 covers Interval(left=0.0, right=661.0)\n",
      "Tree 1 covers Interval(left=661.0, right=3116.0)\n",
      "Tree 2 covers Interval(left=3116.0, right=4451.0)\n",
      "Tree 3 covers Interval(left=4451.0, right=4673.0)\n",
      "Tree 4 covers Interval(left=4673.0, right=5020.0)\n",
      "...\n",
      "Tree 11166 covers Interval(left=9999635.0, right=10000000.0)\n"
     ]
    }
   ],
   "source": [
    "for tree in ts.trees():\n",
    "    print(f\"Tree {tree.index} covers {tree.interval}\")\n",
    "    if tree.index >= 4:\n",
    "        print(\"...\")\n",
    "        break\n",
    "print(f\"Tree {ts.last().index} covers {ts.last().interval}\")"
   ]
  },
  {
   "cell_type": "markdown",
   "id": "c5da73a7",
   "metadata": {},
   "source": [
    "::::{margin}\n",
    ":::{caution}\n",
    "For efficiency, {meth}`~TreeSequence.trees` repeatedly returns the\n",
    "same tree object, updating it internally to reflect the (usually small) changes\n",
    "between adjacent trees. So take care to treat each tree within the ``for``\n",
    "loop separately, avoiding e.g. references outside the loop. The following\n",
    "produces a list of identical \"null\" trees:\n",
    "\n",
    "```\n",
    "# Don't do this!\n",
    "list(ts.trees())\n",
    "```\n",
    "\n",
    "If you need separate instances of each tree (inefficient, and will\n",
    "eat up your computer memory), use {meth}`~TreeSequence.aslist`.\n",
    ":::\n",
    "::::\n",
    "\n",
    "In this code snippet, as well as the {meth}`~TreeSequence.trees` iterator, we've also\n",
    "used {meth}`TreeSequence.last` to access the last tree directly; it may not surprise you\n",
    "that there's a corresponding {meth}`TreeSequence.first` method to return the first tree.\n",
    "\n",
    "Above, we stopped iterating after Tree 4 to limit the printed output, but iterating\n",
    "forwards through trees in a tree sequence (or indeed backwards using the standard Python\n",
    "{func}`~py:reversed` function) is efficient. That means it's quick, for example to check if all\n",
    "the trees in a tree sequence have fully coalesced (which is to be expected in\n",
    "reverse-time, coalescent simulations, but not always for tree sequences produced by\n",
    "{ref}`forward simulation <sec_tskit_forward_simulations>`)."
   ]
  },
  {
   "cell_type": "code",
   "execution_count": 3,
   "id": "87d5215a",
   "metadata": {},
   "outputs": [
    {
     "name": "stdout",
     "output_type": "stream",
     "text": [
      "All 11167 trees coalesced\n",
      "Checked in 0.019258 secs\n"
     ]
    }
   ],
   "source": [
    "import time\n",
    "elapsed = time.time()\n",
    "for tree in ts.trees():\n",
    "    if tree.has_multiple_roots:\n",
    "        print(\"Tree {tree.index} has not coalesced\")\n",
    "        break\n",
    "else:\n",
    "    elapsed = time.time() - elapsed\n",
    "    print(f\"All {ts.num_trees} trees coalesced\")\n",
    "    print(f\"Checked in {elapsed:.6g} secs\")"
   ]
  },
  {
   "cell_type": "markdown",
   "id": "4ac20b8d",
   "metadata": {},
   "source": [
    "Now that we know all trees have coalesced, we know that at each position in the genome\n",
    "all the 40 sample nodes must have one most recent common ancestor (MRCA). Below, we\n",
    "iterate over the trees, finding the IDs of the root (MRCA) node for each tree. The\n",
    "time of this root node can be found via the {meth}`tskit.TreeSequence.node` method, which\n",
    "returns a {class}`Node` object whose attributes include the node time:"
   ]
  },
  {
   "cell_type": "code",
   "execution_count": 4,
   "id": "7b508ee6",
   "metadata": {},
   "outputs": [
    {
     "data": {
      "image/png": "[encoded data removed]",
      "text/plain": [
       "<Figure size 432x288 with 1 Axes>"
      ]
     },
     "metadata": {
      "filenames": {
       "image/png": "/home/runner/work/tutorials/tutorials/_build/jupyter_execute/getting_started_7_0.png"
      },
      "needs_background": "light"
     },
     "output_type": "display_data"
    }
   ],
   "source": [
    "import matplotlib.pyplot as plt\n",
    "\n",
    "kb = [0]  # Starting genomic position\n",
    "mrca_time = []\n",
    "for tree in ts.trees():\n",
    "    kb.append(tree.interval.left/1000)  # convert to kb\n",
    "    mrca = ts.node(tree.root)  # For msprime tree sequences, the root node is the MRCA\n",
    "    mrca_time.append(mrca.time)\n",
    "plt.stairs(mrca_time, kb, baseline=None)\n",
    "plt.xlabel(\"Genome position (kb)\")\n",
    "plt.ylabel(\"Time of root (or MRCA) in generations\")\n",
    "plt.yscale(\"log\")\n",
    "plt.show()"
   ]
  },
  {
   "cell_type": "markdown",
   "id": "bc4cd21d",
   "metadata": {},
   "source": [
    "It's obvious that there's something unusual about the trees in the middle of this\n",
    "chromosome, where the selective sweep occurred. \n",
    "\n",
    ":::{margin} Comments needed\n",
    "If you have a need for efficient random access to trees like this, please comment on\n",
    "[this GitHub issue](https://github.com/tskit-dev/tskit/issues/684) to help us implement\n",
    "a solution.\n",
    ":::\n",
    "\n",
    "Currently, it's not particularly efficient to pull out individual trees from the middle\n",
    "of a tree sequence, but it *can* be done, via the\n",
    "{meth}`TreeSequence.at` method. Here's the tree at location\n",
    "$5\\ 000\\ 000$ --- the position of the sweep --- drawn using the \n",
    "{meth}`Tree.draw_svg` method."
   ]
  },
  {
   "cell_type": "code",
   "execution_count": 5,
   "id": "f2dbe8ff",
   "metadata": {},
   "outputs": [
    {
     "name": "stdout",
     "output_type": "stream",
     "text": [
      "Tree number 5382, which runs from position 4998293.0 to 5033047.0:\n"
     ]
    },
    {
     "data": {
      "image/svg+xml": [
       "<svg xmlns=\"http://www.w3.org/2000/svg\" xmlns:ev=\"http://www.w3.org/2001/xml-events\" xmlns:xlink=\"http://www.w3.org/1999/xlink\" baseProfile=\"full\" height=\"200\" version=\"1.1\" width=\"1000\"><defs><style type=\"text/css\"><![CDATA[.background path {fill: #808080; fill-opacity: 0}.background path:nth-child(odd) {fill-opacity: .1}.axes {font-size: 14px}.x-axis .tick .lab {font-weight: bold; dominant-baseline: hanging}.axes, .tree {font-size: 14px; text-anchor: middle}.axes line, .edge {stroke: black; fill: none}.y-axis .grid {stroke: #FAFAFA}.node > .sym {fill: black; stroke: none}.site > .sym {stroke: black}.mut text {fill: red; font-style: italic}.mut.extra text {fill: hotpink}.mut line {fill: none; stroke: none}.mut .sym {fill: none; stroke: red}.mut.extra .sym {stroke: hotpink}.node .mut .sym {stroke-width: 1.5px}.tree text, .tree-sequence text {dominant-baseline: central}.plotbox .lab.lft {text-anchor: end}.plotbox .lab.rgt {text-anchor: start}]]></style></defs><g class=\"tree t5382\"><g class=\"plotbox\"><g class=\"c2 node n226 p0 root\" transform=\"translate(800.188 26.8)\"><g class=\"a226 c2 node n225 p0\" transform=\"translate(-131.812 0.249586)\"><g class=\"a225 c2 node n207 p0\" transform=\"translate(191.625 17.7782)\"><g class=\"a207 i4 leaf node n8 p0 sample\" transform=\"translate(-12 123.372)\"><path class=\"edge\" d=\"M 0 0 V -123.372 H 12\"/><rect class=\"sym\" height=\"6\" width=\"6\" x=\"-3\" y=\"-3\"/><text class=\"lab\" transform=\"translate(0 11)\">8</text></g><g class=\"a207 i10 leaf node n21 p0 sample\" transform=\"translate(12 123.372)\"><path class=\"edge\" d=\"M 0 0 V -123.372 H -12\"/><rect class=\"sym\" height=\"6\" width=\"6\" x=\"-3\" y=\"-3\"/><text class=\"lab\" transform=\"translate(0 11)\">21</text></g><path class=\"edge\" d=\"M 0 0 V -17.7782 H -191.625\"/><circle class=\"sym\" cx=\"0\" cy=\"0\" r=\"3\"/><text class=\"lab rgt\" transform=\"translate(3 -7.0)\">207</text></g><g class=\"a225 c2 node n222 p0\" transform=\"translate(-191.625 3.76299)\"><g class=\"a222 c2 node n220 p0\" transform=\"translate(190.875 7.79476)\"><g class=\"a220 c2 node n219 p0\" transform=\"translate(-97.875 0.844752)\"><g class=\"a219 i1 leaf node n2 p0 sample\" transform=\"translate(-57.75 128.748)\"><path class=\"edge\" d=\"M 0 0 V -128.748 H 57.75\"/><rect class=\"sym\" height=\"6\" width=\"6\" x=\"-3\" y=\"-3\"/><text class=\"lab\" transform=\"translate(0 11)\">2</text></g><g class=\"a219 c2 node n217 p0\" transform=\"translate(57.75 1.36312)\"><g class=\"a217 c2 node n213 p0\" transform=\"translate(55.5 1.55511)\"><g class=\"a213 c2 node n179 p0\" transform=\"translate(-21 12.1913)\"><g class=\"a179 i12 leaf node n25 p0 sample\" transform=\"translate(18 113.638)\"><path class=\"edge\" d=\"M 0 0 V -113.638 H -18\"/><rect class=\"sym\" height=\"6\" width=\"6\" x=\"-3\" y=\"-3\"/><text class=\"lab\" transform=\"translate(0 11)\">25</text></g><g class=\"a179 c2 node n119 p0\" transform=\"translate(-18 13.3624)\"><g class=\"a119 i13 leaf node n26 p0 sample\" transform=\"translate(12 100.276)\"><path class=\"edge\" d=\"M 0 0 V -100.276 H -12\"/><rect class=\"sym\" height=\"6\" width=\"6\" x=\"-3\" y=\"-3\"/><text class=\"lab\" transform=\"translate(0 11)\">26</text></g><g class=\"a119 i9 leaf node n18 p0 sample\" transform=\"translate(-12 100.276)\"><path class=\"edge\" d=\"M 0 0 V -100.276 H 12\"/><rect class=\"sym\" height=\"6\" width=\"6\" x=\"-3\" y=\"-3\"/><text class=\"lab\" transform=\"translate(0 11)\">18</text></g><path class=\"edge\" d=\"M 0 0 V -13.3624 H 18\"/><circle class=\"sym\" cx=\"0\" cy=\"0\" r=\"3\"/><text class=\"lab lft\" transform=\"translate(-3 -7.0)\">119</text></g><path class=\"edge\" d=\"M 0 0 V -12.1913 H 21\"/><circle class=\"sym\" cx=\"0\" cy=\"0\" r=\"3\"/><text class=\"lab lft\" transform=\"translate(-3 -7.0)\">179</text></g><g class=\"a213 i19 leaf node n38 p0 sample\" transform=\"translate(21 125.83)\"><path class=\"edge\" d=\"M 0 0 V -125.83 H -21\"/><rect class=\"sym\" height=\"6\" width=\"6\" x=\"-3\" y=\"-3\"/><text class=\"lab\" transform=\"translate(0 11)\">38</text></g><path class=\"edge\" d=\"M 0 0 V -1.55511 H -55.5\"/><circle class=\"sym\" cx=\"0\" cy=\"0\" r=\"3\"/><text class=\"lab rgt\" transform=\"translate(3 -7.0)\">213</text></g><g class=\"a217 c2 node n197 p0\" transform=\"translate(-55.5 7.94835)\"><g class=\"a197 c2 node n51 p0\" transform=\"translate(-24 61.7053)\"><g class=\"a51 i3 leaf node n7 p0 sample\" transform=\"translate(-12 57.7311)\"><path class=\"edge\" d=\"M 0 0 V -57.7311 H 12\"/><rect class=\"sym\" height=\"6\" width=\"6\" x=\"-3\" y=\"-3\"/><text class=\"lab\" transform=\"translate(0 11)\">7</text></g><g class=\"a51 i19 leaf node n39 p0 sample\" transform=\"translate(12 57.7311)\"><path class=\"edge\" d=\"M 0 0 V -57.7311 H -12\"/><rect class=\"sym\" height=\"6\" width=\"6\" x=\"-3\" y=\"-3\"/><text class=\"lab\" transform=\"translate(0 11)\">39</text></g><path class=\"edge\" d=\"M 0 0 V -61.7053 H 24\"/><circle class=\"sym\" cx=\"0\" cy=\"0\" r=\"3\"/><text class=\"lab lft\" transform=\"translate(-3 -7.0)\">51</text></g><g class=\"a197 c2 node n49 p0\" transform=\"translate(24 66.2938)\"><g class=\"a49 i7 leaf node n15 p0 sample\" transform=\"translate(-12 53.1426)\"><path class=\"edge\" d=\"M 0 0 V -53.1426 H 12\"/><rect class=\"sym\" height=\"6\" width=\"6\" x=\"-3\" y=\"-3\"/><text class=\"lab\" transform=\"translate(0 11)\">15</text></g><g class=\"a49 i18 leaf node n37 p0 sample\" transform=\"translate(12 53.1426)\"><path class=\"edge\" d=\"M 0 0 V -53.1426 H -12\"/><rect class=\"sym\" height=\"6\" width=\"6\" x=\"-3\" y=\"-3\"/><text class=\"lab\" transform=\"translate(0 11)\">37</text></g><path class=\"edge\" d=\"M 0 0 V -66.2938 H -24\"/><circle class=\"sym\" cx=\"0\" cy=\"0\" r=\"3\"/><text class=\"lab rgt\" transform=\"translate(3 -7.0)\">49</text></g><path class=\"edge\" d=\"M 0 0 V -7.94835 H 55.5\"/><circle class=\"sym\" cx=\"0\" cy=\"0\" r=\"3\"/><text class=\"lab lft\" transform=\"translate(-3 -7.0)\">197</text></g><path class=\"edge\" d=\"M 0 0 V -1.36312 H -57.75\"/><circle class=\"sym\" cx=\"0\" cy=\"0\" r=\"3\"/><text class=\"lab rgt\" transform=\"translate(3 -7.0)\">217</text></g><path class=\"edge\" d=\"M 0 0 V -0.844752 H 97.875\"/><circle class=\"sym\" cx=\"0\" cy=\"0\" r=\"3\"/><text class=\"lab lft\" transform=\"translate(-3 -7.0)\">219</text></g><g class=\"a220 c2 node n216 p0\" transform=\"translate(97.875 2.24627)\"><g class=\"a216 i6 leaf node n13 p0 sample\" transform=\"translate(-37.5 127.346)\"><path class=\"edge\" d=\"M 0 0 V -127.346 H 37.5\"/><rect class=\"sym\" height=\"6\" width=\"6\" x=\"-3\" y=\"-3\"/><text class=\"lab\" transform=\"translate(0 11)\">13</text></g><g class=\"a216 c2 node n211 p0\" transform=\"translate(37.5 3.26382)\"><g class=\"a211 i17 leaf node n35 p0 sample\" transform=\"translate(21 124.083)\"><path class=\"edge\" d=\"M 0 0 V -124.083 H -21\"/><rect class=\"sym\" height=\"6\" width=\"6\" x=\"-3\" y=\"-3\"/><text class=\"lab\" transform=\"translate(0 11)\">35</text></g><g class=\"a211 c2 node n192 p0\" transform=\"translate(-21 6.64282)\"><g class=\"a192 i16 leaf node n32 p0 sample\" transform=\"translate(18 117.44)\"><path class=\"edge\" d=\"M 0 0 V -117.44 H -18\"/><rect class=\"sym\" height=\"6\" width=\"6\" x=\"-3\" y=\"-3\"/><text class=\"lab\" transform=\"translate(0 11)\">32</text></g><g class=\"a192 c2 node n113 p0\" transform=\"translate(-18 18.1046)\"><g class=\"a113 i13 leaf node n27 p0 sample\" transform=\"translate(-12 99.3352)\"><path class=\"edge\" d=\"M 0 0 V -99.3352 H 12\"/><rect class=\"sym\" height=\"6\" width=\"6\" x=\"-3\" y=\"-3\"/><text class=\"lab\" transform=\"translate(0 11)\">27</text></g><g class=\"a113 i18 leaf node n36 p0 sample\" transform=\"translate(12 99.3352)\"><path class=\"edge\" d=\"M 0 0 V -99.3352 H -12\"/><rect class=\"sym\" height=\"6\" width=\"6\" x=\"-3\" y=\"-3\"/><text class=\"lab\" transform=\"translate(0 11)\">36</text></g><path class=\"edge\" d=\"M 0 0 V -18.1046 H 18\"/><circle class=\"sym\" cx=\"0\" cy=\"0\" r=\"3\"/><text class=\"lab lft\" transform=\"translate(-3 -7.0)\">113</text></g><path class=\"edge\" d=\"M 0 0 V -6.64282 H 21\"/><circle class=\"sym\" cx=\"0\" cy=\"0\" r=\"3\"/><text class=\"lab lft\" transform=\"translate(-3 -7.0)\">192</text></g><path class=\"edge\" d=\"M 0 0 V -3.26382 H -37.5\"/><circle class=\"sym\" cx=\"0\" cy=\"0\" r=\"3\"/><text class=\"lab rgt\" transform=\"translate(3 -7.0)\">211</text></g><path class=\"edge\" d=\"M 0 0 V -2.24627 H -97.875\"/><circle class=\"sym\" cx=\"0\" cy=\"0\" r=\"3\"/><text class=\"lab rgt\" transform=\"translate(3 -7.0)\">216</text></g><path class=\"edge\" d=\"M 0 0 V -7.79476 H -190.875\"/><circle class=\"sym\" cx=\"0\" cy=\"0\" r=\"3\"/><text class=\"lab rgt\" transform=\"translate(3 -7.0)\">220</text></g><g class=\"a222 c2 node n221 p0\" transform=\"translate(-190.875 0.748758)\"><g class=\"a221 c2 node n215 p0\" transform=\"translate(-100.125 9.44587)\"><g class=\"a215 c2 node n204 p0\" transform=\"translate(78.75 5.68288)\"><g class=\"a204 c2 node n194 p0\" transform=\"translate(-31.5 2.97583)\"><g class=\"a194 c2 node n177 p0\" transform=\"translate(27 5.49089)\"><g class=\"a177 i15 leaf node n31 p0 sample\" transform=\"translate(-12 113.043)\"><path class=\"edge\" d=\"M 0 0 V -113.043 H 12\"/><rect class=\"sym\" height=\"6\" width=\"6\" x=\"-3\" y=\"-3\"/><text class=\"lab\" transform=\"translate(0 11)\">31</text></g><g class=\"a177 i17 leaf node n34 p0 sample\" transform=\"translate(12 113.043)\"><path class=\"edge\" d=\"M 0 0 V -113.043 H -12\"/><rect class=\"sym\" height=\"6\" width=\"6\" x=\"-3\" y=\"-3\"/><text class=\"lab\" transform=\"translate(0 11)\">34</text></g><path class=\"edge\" d=\"M 0 0 V -5.49089 H -27\"/><circle class=\"sym\" cx=\"0\" cy=\"0\" r=\"3\"/><text class=\"lab rgt\" transform=\"translate(3 -7.0)\">177</text></g><g class=\"a194 c2 node n180 p0\" transform=\"translate(-27 4.70373)\"><g class=\"a180 i16 leaf node n33 p0 sample\" transform=\"translate(18 113.83)\"><path class=\"edge\" d=\"M 0 0 V -113.83 H -18\"/><rect class=\"sym\" height=\"6\" width=\"6\" x=\"-3\" y=\"-3\"/><text class=\"lab\" transform=\"translate(0 11)\">33</text></g><g class=\"a180 c2 node n112 p0\" transform=\"translate(-18 14.5336)\"><g class=\"a112 i8 leaf node n16 p0 sample\" transform=\"translate(-12 99.2968)\"><path class=\"edge\" d=\"M 0 0 V -99.2968 H 12\"/><rect class=\"sym\" height=\"6\" width=\"6\" x=\"-3\" y=\"-3\"/><text class=\"lab\" transform=\"translate(0 11)\">16</text></g><g class=\"a112 i12 leaf node n24 p0 sample\" transform=\"translate(12 99.2968)\"><path class=\"edge\" d=\"M 0 0 V -99.2968 H -12\"/><rect class=\"sym\" height=\"6\" width=\"6\" x=\"-3\" y=\"-3\"/><text class=\"lab\" transform=\"translate(0 11)\">24</text></g><path class=\"edge\" d=\"M 0 0 V -14.5336 H 18\"/><circle class=\"sym\" cx=\"0\" cy=\"0\" r=\"3\"/><text class=\"lab lft\" transform=\"translate(-3 -7.0)\">112</text></g><path class=\"edge\" d=\"M 0 0 V -4.70373 H 27\"/><circle class=\"sym\" cx=\"0\" cy=\"0\" r=\"3\"/><text class=\"lab lft\" transform=\"translate(-3 -7.0)\">180</text></g><path class=\"edge\" d=\"M 0 0 V -2.97583 H 31.5\"/><circle class=\"sym\" cx=\"0\" cy=\"0\" r=\"3\"/><text class=\"lab lft\" transform=\"translate(-3 -7.0)\">194</text></g><g class=\"a204 i14 leaf node n28 p0 sample\" transform=\"translate(31.5 121.51)\"><path class=\"edge\" d=\"M 0 0 V -121.51 H -31.5\"/><rect class=\"sym\" height=\"6\" width=\"6\" x=\"-3\" y=\"-3\"/><text class=\"lab\" transform=\"translate(0 11)\">28</text></g><path class=\"edge\" d=\"M 0 0 V -5.68288 H -78.75\"/><circle class=\"sym\" cx=\"0\" cy=\"0\" r=\"3\"/><text class=\"lab rgt\" transform=\"translate(3 -7.0)\">204</text></g><g class=\"a215 c2 node n201 p0\" transform=\"translate(-78.75 6.47003)\"><g class=\"a201 i11 leaf node n22 p0 sample\" transform=\"translate(45 120.723)\"><path class=\"edge\" d=\"M 0 0 V -120.723 H -45\"/><rect class=\"sym\" height=\"6\" width=\"6\" x=\"-3\" y=\"-3\"/><text class=\"lab\" transform=\"translate(0 11)\">22</text></g><g class=\"a201 c2 node n198 p0\" transform=\"translate(-45 1.26713)\"><g class=\"a198 i0 leaf node n0 p0 sample\" transform=\"translate(-30 119.456)\"><path class=\"edge\" d=\"M 0 0 V -119.456 H 30\"/><rect class=\"sym\" height=\"6\" width=\"6\" x=\"-3\" y=\"-3\"/><text class=\"lab\" transform=\"translate(0 11)\">0</text></g><g class=\"a198 c2 node n195 p0\" transform=\"translate(30 0.844752)\"><g class=\"a195 c2 node n184 p0\" transform=\"translate(24 3.83978)\"><g class=\"a184 i5 leaf node n11 p0 sample\" transform=\"translate(-12 114.771)\"><path class=\"edge\" d=\"M 0 0 V -114.771 H 12\"/><rect class=\"sym\" height=\"6\" width=\"6\" x=\"-3\" y=\"-3\"/><text class=\"lab\" transform=\"translate(0 11)\">11</text></g><g class=\"a184 i6 leaf node n12 p0 sample\" transform=\"translate(12 114.771)\"><path class=\"edge\" d=\"M 0 0 V -114.771 H -12\"/><rect class=\"sym\" height=\"6\" width=\"6\" x=\"-3\" y=\"-3\"/><text class=\"lab\" transform=\"translate(0 11)\">12</text></g><path class=\"edge\" d=\"M 0 0 V -3.83978 H -24\"/><circle class=\"sym\" cx=\"0\" cy=\"0\" r=\"3\"/><text class=\"lab rgt\" transform=\"translate(3 -7.0)\">184</text></g><g class=\"a195 c2 node n191 p0\" transform=\"translate(-24 1.53591)\"><g class=\"a191 i9 leaf node n19 p0 sample\" transform=\"translate(12 117.075)\"><path class=\"edge\" d=\"M 0 0 V -117.075 H -12\"/><rect class=\"sym\" height=\"6\" width=\"6\" x=\"-3\" y=\"-3\"/><text class=\"lab\" transform=\"translate(0 11)\">19</text></g><g class=\"a191 i3 leaf m6520 node n6 p0 s6515 sample\" transform=\"translate(-12 117.075)\"><path class=\"edge\" d=\"M 0 0 V -117.075 H 12\"/><g class=\"mut m6520 s6515\" transform=\"translate(0 -80.038)\"><line x1=\"0\" x2=\"0\" y1=\"0\" y2=\"80.038\"/><path class=\"sym\" d=\"M -3,-3 l 6,6 M -3,3 l 6,-6\"/><text class=\"lab lft\" transform=\"translate(-5 0)\">6520</text></g><rect class=\"sym\" height=\"6\" width=\"6\" x=\"-3\" y=\"-3\"/><text class=\"lab\" transform=\"translate(0 11)\">6</text></g><path class=\"edge\" d=\"M 0 0 V -1.53591 H 24\"/><circle class=\"sym\" cx=\"0\" cy=\"0\" r=\"3\"/><text class=\"lab lft\" transform=\"translate(-3 -7.0)\">191</text></g><path class=\"edge\" d=\"M 0 0 V -0.844752 H -30\"/><circle class=\"sym\" cx=\"0\" cy=\"0\" r=\"3\"/><text class=\"lab rgt\" transform=\"translate(3 -7.0)\">195</text></g><path class=\"edge\" d=\"M 0 0 V -1.26713 H 45\"/><circle class=\"sym\" cx=\"0\" cy=\"0\" r=\"3\"/><text class=\"lab lft\" transform=\"translate(-3 -7.0)\">198</text></g><path class=\"edge\" d=\"M 0 0 V -6.47003 H 78.75\"/><circle class=\"sym\" cx=\"0\" cy=\"0\" r=\"3\"/><text class=\"lab lft\" transform=\"translate(-3 -7.0)\">201</text></g><path class=\"edge\" d=\"M 0 0 V -9.44587 H 100.125\"/><circle class=\"sym\" cx=\"0\" cy=\"0\" r=\"3\"/><text class=\"lab lft\" transform=\"translate(-3 -7.0)\">215</text></g><g class=\"a221 c2 node n218 p0\" transform=\"translate(100.125 8.96589)\"><g class=\"a218 c2 node n172 p0\" transform=\"translate(-36 16.799)\"><g class=\"a172 i15 leaf node n30 p0 sample\" transform=\"translate(18 110.874)\"><path class=\"edge\" d=\"M 0 0 V -110.874 H -18\"/><rect class=\"sym\" height=\"6\" width=\"6\" x=\"-3\" y=\"-3\"/><text class=\"lab\" transform=\"translate(0 11)\">30</text></g><g class=\"a172 c2 node n158 p0\" transform=\"translate(-18 3.07183)\"><g class=\"a158 i1 leaf node n3 p0 sample\" transform=\"translate(-12 107.802)\"><path class=\"edge\" d=\"M 0 0 V -107.802 H 12\"/><rect class=\"sym\" height=\"6\" width=\"6\" x=\"-3\" y=\"-3\"/><text class=\"lab\" transform=\"translate(0 11)\">3</text></g><g class=\"a158 i2 leaf node n5 p0 sample\" transform=\"translate(12 107.802)\"><path class=\"edge\" d=\"M 0 0 V -107.802 H -12\"/><rect class=\"sym\" height=\"6\" width=\"6\" x=\"-3\" y=\"-3\"/><text class=\"lab\" transform=\"translate(0 11)\">5</text></g><path class=\"edge\" d=\"M 0 0 V -3.07183 H 18\"/><circle class=\"sym\" cx=\"0\" cy=\"0\" r=\"3\"/><text class=\"lab lft\" transform=\"translate(-3 -7.0)\">158</text></g><path class=\"edge\" d=\"M 0 0 V -16.799 H 36\"/><circle class=\"sym\" cx=\"0\" cy=\"0\" r=\"3\"/><text class=\"lab lft\" transform=\"translate(-3 -7.0)\">172</text></g><g class=\"a218 c2 node n196 p0\" transform=\"translate(36 8.7931)\"><g class=\"a196 i4 leaf node n9 p0 sample\" transform=\"translate(-30 118.88)\"><path class=\"edge\" d=\"M 0 0 V -118.88 H 30\"/><rect class=\"sym\" height=\"6\" width=\"6\" x=\"-3\" y=\"-3\"/><text class=\"lab\" transform=\"translate(0 11)\">9</text></g><g class=\"a196 c2 node n154 p0\" transform=\"translate(30 11.6537)\"><g class=\"a154 c2 node n141 p0\" transform=\"translate(24 2.01589)\"><g class=\"a141 i8 leaf node n17 p0 sample\" transform=\"translate(-12 105.21)\"><path class=\"edge\" d=\"M 0 0 V -105.21 H 12\"/><rect class=\"sym\" height=\"6\" width=\"6\" x=\"-3\" y=\"-3\"/><text class=\"lab\" transform=\"translate(0 11)\">17</text></g><g class=\"a141 i14 leaf node n29 p0 sample\" transform=\"translate(12 105.21)\"><path class=\"edge\" d=\"M 0 0 V -105.21 H -12\"/><rect class=\"sym\" height=\"6\" width=\"6\" x=\"-3\" y=\"-3\"/><text class=\"lab\" transform=\"translate(0 11)\">29</text></g><path class=\"edge\" d=\"M 0 0 V -2.01589 H -24\"/><circle class=\"sym\" cx=\"0\" cy=\"0\" r=\"3\"/><text class=\"lab rgt\" transform=\"translate(3 -7.0)\">141</text></g><g class=\"a154 c2 node n58 p0\" transform=\"translate(-24 35.4028)\"><g class=\"a58 i7 leaf node n14 p0 sample\" transform=\"translate(-12 71.8231)\"><path class=\"edge\" d=\"M 0 0 V -71.8231 H 12\"/><rect class=\"sym\" height=\"6\" width=\"6\" x=\"-3\" y=\"-3\"/><text class=\"lab\" transform=\"translate(0 11)\">14</text></g><g class=\"a58 i10 leaf node n20 p0 sample\" transform=\"translate(12 71.8231)\"><path class=\"edge\" d=\"M 0 0 V -71.8231 H -12\"/><rect class=\"sym\" height=\"6\" width=\"6\" x=\"-3\" y=\"-3\"/><text class=\"lab\" transform=\"translate(0 11)\">20</text></g><path class=\"edge\" d=\"M 0 0 V -35.4028 H 24\"/><circle class=\"sym\" cx=\"0\" cy=\"0\" r=\"3\"/><text class=\"lab lft\" transform=\"translate(-3 -7.0)\">58</text></g><path class=\"edge\" d=\"M 0 0 V -11.6537 H -30\"/><circle class=\"sym\" cx=\"0\" cy=\"0\" r=\"3\"/><text class=\"lab rgt\" transform=\"translate(3 -7.0)\">154</text></g><path class=\"edge\" d=\"M 0 0 V -8.7931 H -36\"/><circle class=\"sym\" cx=\"0\" cy=\"0\" r=\"3\"/><text class=\"lab rgt\" transform=\"translate(3 -7.0)\">196</text></g><path class=\"edge\" d=\"M 0 0 V -8.96589 H -100.125\"/><circle class=\"sym\" cx=\"0\" cy=\"0\" r=\"3\"/><text class=\"lab rgt\" transform=\"translate(3 -7.0)\">218</text></g><path class=\"edge\" d=\"M 0 0 V -0.748758 H 190.875\"/><circle class=\"sym\" cx=\"0\" cy=\"0\" r=\"3\"/><text class=\"lab lft\" transform=\"translate(-3 -7.0)\">221</text></g><path class=\"edge\" d=\"M 0 0 V -3.76299 H 191.625\"/><circle class=\"sym\" cx=\"0\" cy=\"0\" r=\"3\"/><text class=\"lab lft\" transform=\"translate(-3 -7.0)\">222</text></g><path class=\"edge\" d=\"M 0 0 V -0.249586 H 131.812\"/><circle class=\"sym\" cx=\"0\" cy=\"0\" r=\"3\"/><text class=\"lab lft\" transform=\"translate(-3 -7.0)\">225</text></g><g class=\"a226 c2 node n202 p0\" transform=\"translate(131.812 20.5236)\"><g class=\"a202 c2 node n190 p0\" transform=\"translate(24 4.16616)\"><g class=\"a190 i2 leaf node n4 p0 sample\" transform=\"translate(-12 116.71)\"><path class=\"edge\" d=\"M 0 0 V -116.71 H 12\"/><rect class=\"sym\" height=\"6\" width=\"6\" x=\"-3\" y=\"-3\"/><text class=\"lab\" transform=\"translate(0 11)\">4</text></g><g class=\"a190 i11 leaf node n23 p0 sample\" transform=\"translate(12 116.71)\"><path class=\"edge\" d=\"M 0 0 V -116.71 H -12\"/><rect class=\"sym\" height=\"6\" width=\"6\" x=\"-3\" y=\"-3\"/><text class=\"lab\" transform=\"translate(0 11)\">23</text></g><path class=\"edge\" d=\"M 0 0 V -4.16616 H -24\"/><circle class=\"sym\" cx=\"0\" cy=\"0\" r=\"3\"/><text class=\"lab rgt\" transform=\"translate(3 -7.0)\">190</text></g><g class=\"a202 c2 node n116 p0\" transform=\"translate(-24 20.9844)\"><g class=\"a116 i0 leaf m6519 node n1 p0 s6514 sample\" transform=\"translate(-12 99.8919)\"><path class=\"edge\" d=\"M 0 0 V -99.8919 H 12\"/><g class=\"mut m6519 s6514\" transform=\"translate(0 -31.4106)\"><line x1=\"0\" x2=\"0\" y1=\"0\" y2=\"31.4106\"/><path class=\"sym\" d=\"M -3,-3 l 6,6 M -3,3 l 6,-6\"/><text class=\"lab lft\" transform=\"translate(-5 0)\">6519</text></g><rect class=\"sym\" height=\"6\" width=\"6\" x=\"-3\" y=\"-3\"/><text class=\"lab\" transform=\"translate(0 11)\">1</text></g><g class=\"a116 i5 leaf node n10 p0 sample\" transform=\"translate(12 99.8919)\"><path class=\"edge\" d=\"M 0 0 V -99.8919 H -12\"/><rect class=\"sym\" height=\"6\" width=\"6\" x=\"-3\" y=\"-3\"/><text class=\"lab\" transform=\"translate(0 11)\">10</text></g><path class=\"edge\" d=\"M 0 0 V -20.9844 H 24\"/><circle class=\"sym\" cx=\"0\" cy=\"0\" r=\"3\"/><text class=\"lab lft\" transform=\"translate(-3 -7.0)\">116</text></g><path class=\"edge\" d=\"M 0 0 V -20.5236 H -131.812\"/><circle class=\"sym\" cx=\"0\" cy=\"0\" r=\"3\"/><text class=\"lab rgt\" transform=\"translate(3 -7.0)\">202</text></g><circle class=\"sym\" cx=\"0\" cy=\"0\" r=\"3\"/><text class=\"lab\" transform=\"translate(0 -11)\">226</text></g></g></g></svg>"
      ],
      "text/plain": [
       "<IPython.core.display.SVG object>"
      ]
     },
     "execution_count": 5,
     "metadata": {
      "filenames": {
       "image/svg+xml": "/home/runner/work/tutorials/tutorials/_build/jupyter_execute/getting_started_9_1.svg"
      }
     },
     "output_type": "execute_result"
    }
   ],
   "source": [
    "from IPython.display import SVG\n",
    "\n",
    "swept_tree = ts.at(5_000_000)  # or you can get e.g. the nth tree using ts.at_index(n)\n",
    "intvl = swept_tree.interval\n",
    "print(f\"Tree number {swept_tree.index}, which runs from position {intvl.left} to {intvl.right}:\")\n",
    "# Draw it at a wide size, to make room for all 40 tips\n",
    "SVG(swept_tree.draw_svg(size=(1000, 200)))"
   ]
  },
  {
   "cell_type": "markdown",
   "id": "092fe750",
   "metadata": {},
   "source": [
    ":::{margin}\n",
    "The {ref}`visualization tutorial <sec_tskit_viz>` gives more drawing possibilities\n",
    ":::\n",
    "\n",
    "This tree shows the classic signature of a recent expansion or selection event, with many\n",
    "long terminal branches, resulting in an excess of singleton mutations.\n",
    "\n",
    ":::{margin}\n",
    "The {ref}`Simplification tutorial<sec_simplification>` details many other uses\n",
    "for {meth}`~TreeSequence.simplify`.\n",
    ":::\n",
    "\n",
    "It can often be helpful to slim down a tree sequence so that it represents the genealogy\n",
    "of a smaller subset of the original samples. This can be done using the powerful\n",
    "{meth}`TreeSequence.simplify` method.\n",
    "\n",
    "The {meth}`TreeSequence.draw_svg` method allows us to draw\n",
    "more than one tree: either the entire tree sequence, or\n",
    "(by using the ``x_lim`` parameter) a smaller region of the genome:"
   ]
  },
  {
   "cell_type": "code",
   "execution_count": 6,
   "id": "11ed37fe",
   "metadata": {},
   "outputs": [
    {
     "name": "stdout",
     "output_type": "stream",
     "text": [
      "Genealogy of the first 10 samples for the first 1.5kb of the genome\n"
     ]
    },
    {
     "data": {
      "image/svg+xml": [
       "<svg xmlns=\"http://www.w3.org/2000/svg\" xmlns:ev=\"http://www.w3.org/2001/xml-events\" xmlns:xlink=\"http://www.w3.org/1999/xlink\" baseProfile=\"full\" height=\"200\" version=\"1.1\" width=\"800\"><defs><style type=\"text/css\"><![CDATA[.background path {fill: #808080; fill-opacity: 0}.background path:nth-child(odd) {fill-opacity: .1}.axes {font-size: 14px}.x-axis .tick .lab {font-weight: bold; dominant-baseline: hanging}.axes, .tree {font-size: 14px; text-anchor: middle}.axes line, .edge {stroke: black; fill: none}.y-axis .grid {stroke: #FAFAFA}.node > .sym {fill: black; stroke: none}.site > .sym {stroke: black}.mut text {fill: red; font-style: italic}.mut.extra text {fill: hotpink}.mut line {fill: none; stroke: none}.mut .sym {fill: none; stroke: red}.mut.extra .sym {stroke: hotpink}.node .mut .sym {stroke-width: 1.5px}.tree text, .tree-sequence text {dominant-baseline: central}.plotbox .lab.lft {text-anchor: end}.plotbox .lab.rgt {text-anchor: start}]]></style></defs><g class=\"tree-sequence\"><g class=\"background\"><path d=\"M20,0 l190,0 l0,138.2 l-89.528,25 l0,5 l-100.472,0 l0,-5 l0,-25 l0,-138.2z\"/><path d=\"M210,0 l190,0 l0,138.2 l93.632,25 l0,5 l-373.16,0 l0,-5 l89.528,-25 l0,-138.2z\"/><path d=\"M400,0 l190,0 l0,138.2 l106.552,25 l0,5 l-202.92,0 l0,-5 l-93.632,-25 l0,-138.2z\"/><path d=\"M590,0 l190,0 l0,138.2 l0,25 l0,5 l-83.448,0 l0,-5 l-106.552,-25 l0,-138.2z\"/></g><g class=\"axes\"><g class=\"x-axis\"><g transform=\"translate(400 200)\"><text class=\"lab\" text-anchor=\"middle\" transform=\"translate(0 -11)\">Genome position</text></g><line x1=\"20\" x2=\"780\" y1=\"163.2\" y2=\"163.2\"/><g class=\"ticks\"><g class=\"tick\" transform=\"translate(20 163.2)\"><line x1=\"0\" x2=\"0\" y1=\"0\" y2=\"5\"/><g transform=\"translate(0 6)\"><text class=\"lab\">0</text></g></g><g class=\"tick\" transform=\"translate(120.472 163.2)\"><line x1=\"0\" x2=\"0\" y1=\"0\" y2=\"5\"/><g transform=\"translate(0 6)\"><text class=\"lab\">661</text></g></g><g class=\"tick\" transform=\"translate(493.632 163.2)\"><line x1=\"0\" x2=\"0\" y1=\"0\" y2=\"5\"/><g transform=\"translate(0 6)\"><text class=\"lab\">3116</text></g></g><g class=\"tick\" transform=\"translate(696.552 163.2)\"><line x1=\"0\" x2=\"0\" y1=\"0\" y2=\"5\"/><g transform=\"translate(0 6)\"><text class=\"lab\">4451</text></g></g></g><g class=\"site s0\" transform=\"translate(67.12 163.2)\"><line class=\"sym\" x1=\"0\" x2=\"0\" y1=\"0\" y2=\"-10\"/><g class=\"mut m0\"><polyline class=\"sym\" points=\"2.5,-6.5 0,-1.5 -2.5,-6.5\"/></g></g><g class=\"site s1\" transform=\"translate(155.28 163.2)\"><line class=\"sym\" x1=\"0\" x2=\"0\" y1=\"0\" y2=\"-10\"/><g class=\"mut m1\"><polyline class=\"sym\" points=\"2.5,-6.5 0,-1.5 -2.5,-6.5\"/></g></g><g class=\"site s2\" transform=\"translate(179.904 163.2)\"><line class=\"sym\" x1=\"0\" x2=\"0\" y1=\"0\" y2=\"-10\"/><g class=\"mut m2\"><polyline class=\"sym\" points=\"2.5,-6.5 0,-1.5 -2.5,-6.5\"/></g></g><g class=\"site s3\" transform=\"translate(229 163.2)\"><line class=\"sym\" x1=\"0\" x2=\"0\" y1=\"0\" y2=\"-10\"/><g class=\"mut m3\"><polyline class=\"sym\" points=\"2.5,-6.5 0,-1.5 -2.5,-6.5\"/></g></g><g class=\"site s4\" transform=\"translate(311.536 163.2)\"><line class=\"sym\" x1=\"0\" x2=\"0\" y1=\"0\" y2=\"-10\"/><g class=\"mut m4\"><polyline class=\"sym\" points=\"2.5,-6.5 0,-1.5 -2.5,-6.5\"/></g></g><g class=\"site s5\" transform=\"translate(767.992 163.2)\"><line class=\"sym\" x1=\"0\" x2=\"0\" y1=\"0\" y2=\"-10\"/><g class=\"mut m5\"><polyline class=\"sym\" points=\"2.5,-6.5 0,-1.5 -2.5,-6.5\"/></g></g></g></g><g class=\"plotbox trees\"><g class=\"tree t-1\" transform=\"translate(20 0)\"><g class=\"plotbox\"><g class=\"c2 node n4406 p0 root\" transform=\"translate(119.609 26.8)\"><g class=\"a4406 c2 node n903 p0\" transform=\"translate(-31.6406 86.5067)\"><g class=\"a903 c2 node n46 p0\" transform=\"translate(22.0312 7.90332)\"><g class=\"a46 i2 leaf node n4 p0 sample\" transform=\"translate(-7.5 0.190024)\"><path class=\"edge\" d=\"M 0 0 V -0.190024 H 7.5\"/><rect class=\"sym\" height=\"6\" width=\"6\" x=\"-3\" y=\"-3\"/><text class=\"lab\" transform=\"translate(0 11)\">4</text></g><g class=\"a46 i4 leaf node n9 p0 sample\" transform=\"translate(7.5 0.190024)\"><path class=\"edge\" d=\"M 0 0 V -0.190024 H -7.5\"/><rect class=\"sym\" height=\"6\" width=\"6\" x=\"-3\" y=\"-3\"/><text class=\"lab\" transform=\"translate(0 11)\">9</text></g><path class=\"edge\" d=\"M 0 0 V -7.90332 H -22.0312\"/><circle class=\"sym\" cx=\"0\" cy=\"0\" r=\"3\"/><text class=\"lab rgt\" transform=\"translate(3 -7.0)\">46</text></g><g class=\"a903 c2 node n529 p0\" transform=\"translate(-22.0312 3.044)\"><g class=\"a529 i0 leaf node n1 p0 sample\" transform=\"translate(21.5625 5.04934)\"><path class=\"edge\" d=\"M 0 0 V -5.04934 H -21.5625\"/><rect class=\"sym\" height=\"6\" width=\"6\" x=\"-3\" y=\"-3\"/><text class=\"lab\" transform=\"translate(0 11)\">1</text></g><g class=\"a529 c2 node n421 p0\" transform=\"translate(-21.5625 0.903606)\"><g class=\"a421 i0 leaf node n0 p0 sample\" transform=\"translate(-16.875 4.14573)\"><path class=\"edge\" d=\"M 0 0 V -4.14573 H 16.875\"/><rect class=\"sym\" height=\"6\" width=\"6\" x=\"-3\" y=\"-3\"/><text class=\"lab\" transform=\"translate(0 11)\">0</text></g><g class=\"a421 c2 node n58 p0\" transform=\"translate(16.875 3.73753)\"><g class=\"a58 i4 leaf node n8 p0 sample\" transform=\"translate(11.25 0.408205)\"><path class=\"edge\" d=\"M 0 0 V -0.408205 H -11.25\"/><rect class=\"sym\" height=\"6\" width=\"6\" x=\"-3\" y=\"-3\"/><text class=\"lab\" transform=\"translate(0 11)\">8</text></g><g class=\"a58 c2 node n51 p0\" transform=\"translate(-11.25 0.195891)\"><g class=\"a51 i2 leaf node n5 p0 sample\" transform=\"translate(-7.5 0.212314)\"><path class=\"edge\" d=\"M 0 0 V -0.212314 H 7.5\"/><rect class=\"sym\" height=\"6\" width=\"6\" x=\"-3\" y=\"-3\"/><text class=\"lab\" transform=\"translate(0 11)\">5</text></g><g class=\"a51 i3 leaf node n7 p0 sample\" transform=\"translate(7.5 0.212314)\"><path class=\"edge\" d=\"M 0 0 V -0.212314 H -7.5\"/><rect class=\"sym\" height=\"6\" width=\"6\" x=\"-3\" y=\"-3\"/><text class=\"lab\" transform=\"translate(0 11)\">7</text></g><path class=\"edge\" d=\"M 0 0 V -0.195891 H 11.25\"/><circle class=\"sym\" cx=\"0\" cy=\"0\" r=\"3\"/><text class=\"lab lft\" transform=\"translate(-3 -7.0)\">51</text></g><path class=\"edge\" d=\"M 0 0 V -3.73753 H -16.875\"/><circle class=\"sym\" cx=\"0\" cy=\"0\" r=\"3\"/><text class=\"lab rgt\" transform=\"translate(3 -7.0)\">58</text></g><path class=\"edge\" d=\"M 0 0 V -0.903606 H 21.5625\"/><circle class=\"sym\" cx=\"0\" cy=\"0\" r=\"3\"/><text class=\"lab lft\" transform=\"translate(-3 -7.0)\">421</text></g><path class=\"edge\" d=\"M 0 0 V -3.044 H 22.0312\"/><circle class=\"sym\" cx=\"0\" cy=\"0\" r=\"3\"/><text class=\"lab lft\" transform=\"translate(-3 -7.0)\">529</text></g><path class=\"edge\" d=\"M 0 0 V -86.5067 H 31.6406\"/><circle class=\"sym\" cx=\"0\" cy=\"0\" r=\"3\"/><text class=\"lab lft\" transform=\"translate(-3 -7.0)\">903</text></g><g class=\"a4406 c2 m0 node n1290 p0 s0\" transform=\"translate(31.6406 82.8297)\"><g class=\"a1290 i3 leaf node n6 p0 sample\" transform=\"translate(11.25 11.7703)\"><path class=\"edge\" d=\"M 0 0 V -11.7703 H -11.25\"/><rect class=\"sym\" height=\"6\" width=\"6\" x=\"-3\" y=\"-3\"/><text class=\"lab\" transform=\"translate(0 11)\">6</text></g><g class=\"a1290 c2 node n233 p0\" transform=\"translate(-11.25 9.29623)\"><g class=\"a233 i1 leaf node n2 p0 sample\" transform=\"translate(-7.5 2.47403)\"><path class=\"edge\" d=\"M 0 0 V -2.47403 H 7.5\"/><rect class=\"sym\" height=\"6\" width=\"6\" x=\"-3\" y=\"-3\"/><text class=\"lab\" transform=\"translate(0 11)\">2</text></g><g class=\"a233 i1 leaf node n3 p0 sample\" transform=\"translate(7.5 2.47403)\"><path class=\"edge\" d=\"M 0 0 V -2.47403 H -7.5\"/><rect class=\"sym\" height=\"6\" width=\"6\" x=\"-3\" y=\"-3\"/><text class=\"lab\" transform=\"translate(0 11)\">3</text></g><path class=\"edge\" d=\"M 0 0 V -9.29623 H 11.25\"/><circle class=\"sym\" cx=\"0\" cy=\"0\" r=\"3\"/><text class=\"lab lft\" transform=\"translate(-3 -7.0)\">233</text></g><path class=\"edge\" d=\"M 0 0 V -82.8297 H -31.6406\"/><g class=\"mut m0 s0\" transform=\"translate(0 -61.1937)\"><line x1=\"0\" x2=\"0\" y1=\"0\" y2=\"61.1937\"/><path class=\"sym\" d=\"M -3,-3 l 6,6 M -3,3 l 6,-6\"/><text class=\"lab rgt\" transform=\"translate(5 0)\">0</text></g><circle class=\"sym\" cx=\"0\" cy=\"0\" r=\"3\"/><text class=\"lab rgt\" transform=\"translate(3 -7.0)\">1290</text></g><circle class=\"sym\" cx=\"0\" cy=\"0\" r=\"3\"/><text class=\"lab\" transform=\"translate(0 -11)\">4406</text></g></g></g><g class=\"tree t0\" transform=\"translate(210 0)\"><g class=\"plotbox\"><g class=\"c2 node n4198 p0 root\" transform=\"translate(119.609 41.7525)\"><g class=\"a4198 c2 m1 node n903 p0 s1\" transform=\"translate(-31.6406 71.5542)\"><g class=\"a903 c2 node n46 p0\" transform=\"translate(22.0312 7.90332)\"><g class=\"a46 i2 leaf node n4 p0 sample\" transform=\"translate(-7.5 0.190024)\"><path class=\"edge\" d=\"M 0 0 V -0.190024 H 7.5\"/><rect class=\"sym\" height=\"6\" width=\"6\" x=\"-3\" y=\"-3\"/><text class=\"lab\" transform=\"translate(0 11)\">4</text></g><g class=\"a46 i4 leaf node n9 p0 sample\" transform=\"translate(7.5 0.190024)\"><path class=\"edge\" d=\"M 0 0 V -0.190024 H -7.5\"/><rect class=\"sym\" height=\"6\" width=\"6\" x=\"-3\" y=\"-3\"/><text class=\"lab\" transform=\"translate(0 11)\">9</text></g><path class=\"edge\" d=\"M 0 0 V -7.90332 H -22.0312\"/><circle class=\"sym\" cx=\"0\" cy=\"0\" r=\"3\"/><text class=\"lab rgt\" transform=\"translate(3 -7.0)\">46</text></g><g class=\"a903 c2 node n529 p0\" transform=\"translate(-22.0312 3.044)\"><g class=\"a529 i0 leaf node n1 p0 sample\" transform=\"translate(21.5625 5.04934)\"><path class=\"edge\" d=\"M 0 0 V -5.04934 H -21.5625\"/><rect class=\"sym\" height=\"6\" width=\"6\" x=\"-3\" y=\"-3\"/><text class=\"lab\" transform=\"translate(0 11)\">1</text></g><g class=\"a529 c2 node n421 p0\" transform=\"translate(-21.5625 0.903606)\"><g class=\"a421 i0 leaf node n0 p0 sample\" transform=\"translate(-16.875 4.14573)\"><path class=\"edge\" d=\"M 0 0 V -4.14573 H 16.875\"/><rect class=\"sym\" height=\"6\" width=\"6\" x=\"-3\" y=\"-3\"/><text class=\"lab\" transform=\"translate(0 11)\">0</text></g><g class=\"a421 c2 node n58 p0\" transform=\"translate(16.875 3.73753)\"><g class=\"a58 i4 leaf node n8 p0 sample\" transform=\"translate(11.25 0.408205)\"><path class=\"edge\" d=\"M 0 0 V -0.408205 H -11.25\"/><rect class=\"sym\" height=\"6\" width=\"6\" x=\"-3\" y=\"-3\"/><text class=\"lab\" transform=\"translate(0 11)\">8</text></g><g class=\"a58 c2 node n51 p0\" transform=\"translate(-11.25 0.195891)\"><g class=\"a51 i2 leaf node n5 p0 sample\" transform=\"translate(-7.5 0.212314)\"><path class=\"edge\" d=\"M 0 0 V -0.212314 H 7.5\"/><rect class=\"sym\" height=\"6\" width=\"6\" x=\"-3\" y=\"-3\"/><text class=\"lab\" transform=\"translate(0 11)\">5</text></g><g class=\"a51 i3 leaf node n7 p0 sample\" transform=\"translate(7.5 0.212314)\"><path class=\"edge\" d=\"M 0 0 V -0.212314 H -7.5\"/><rect class=\"sym\" height=\"6\" width=\"6\" x=\"-3\" y=\"-3\"/><text class=\"lab\" transform=\"translate(0 11)\">7</text></g><path class=\"edge\" d=\"M 0 0 V -0.195891 H 11.25\"/><circle class=\"sym\" cx=\"0\" cy=\"0\" r=\"3\"/><text class=\"lab lft\" transform=\"translate(-3 -7.0)\">51</text></g><path class=\"edge\" d=\"M 0 0 V -3.73753 H -16.875\"/><circle class=\"sym\" cx=\"0\" cy=\"0\" r=\"3\"/><text class=\"lab rgt\" transform=\"translate(3 -7.0)\">58</text></g><path class=\"edge\" d=\"M 0 0 V -0.903606 H 21.5625\"/><circle class=\"sym\" cx=\"0\" cy=\"0\" r=\"3\"/><text class=\"lab lft\" transform=\"translate(-3 -7.0)\">421</text></g><path class=\"edge\" d=\"M 0 0 V -3.044 H 22.0312\"/><circle class=\"sym\" cx=\"0\" cy=\"0\" r=\"3\"/><text class=\"lab lft\" transform=\"translate(-3 -7.0)\">529</text></g><path class=\"edge\" d=\"M 0 0 V -71.5542 H 31.6406\"/><g class=\"mut m1 s1\" transform=\"translate(0 -7.79646)\"><line x1=\"0\" x2=\"0\" y1=\"0\" y2=\"7.79646\"/><path class=\"sym\" d=\"M -3,-3 l 6,6 M -3,3 l 6,-6\"/><text class=\"lab lft\" transform=\"translate(-5 0)\">1</text></g><circle class=\"sym\" cx=\"0\" cy=\"0\" r=\"3\"/><text class=\"lab lft\" transform=\"translate(-3 -7.0)\">903</text></g><g class=\"a4198 c2 m2 m3 m4 node n1290 p0 s2 s3 s4\" transform=\"translate(31.6406 67.8773)\"><g class=\"a1290 i3 leaf node n6 p0 sample\" transform=\"translate(11.25 11.7703)\"><path class=\"edge\" d=\"M 0 0 V -11.7703 H -11.25\"/><rect class=\"sym\" height=\"6\" width=\"6\" x=\"-3\" y=\"-3\"/><text class=\"lab\" transform=\"translate(0 11)\">6</text></g><g class=\"a1290 c2 node n233 p0\" transform=\"translate(-11.25 9.29623)\"><g class=\"a233 i1 leaf node n2 p0 sample\" transform=\"translate(-7.5 2.47403)\"><path class=\"edge\" d=\"M 0 0 V -2.47403 H 7.5\"/><rect class=\"sym\" height=\"6\" width=\"6\" x=\"-3\" y=\"-3\"/><text class=\"lab\" transform=\"translate(0 11)\">2</text></g><g class=\"a233 i1 leaf node n3 p0 sample\" transform=\"translate(7.5 2.47403)\"><path class=\"edge\" d=\"M 0 0 V -2.47403 H -7.5\"/><rect class=\"sym\" height=\"6\" width=\"6\" x=\"-3\" y=\"-3\"/><text class=\"lab\" transform=\"translate(0 11)\">3</text></g><path class=\"edge\" d=\"M 0 0 V -9.29623 H 11.25\"/><circle class=\"sym\" cx=\"0\" cy=\"0\" r=\"3\"/><text class=\"lab lft\" transform=\"translate(-3 -7.0)\">233</text></g><path class=\"edge\" d=\"M 0 0 V -67.8773 H -31.6406\"/><g class=\"mut m2 s2\" transform=\"translate(0 -40.676)\"><line x1=\"0\" x2=\"0\" y1=\"0\" y2=\"40.676\"/><path class=\"sym\" d=\"M -3,-3 l 6,6 M -3,3 l 6,-6\"/><text class=\"lab rgt\" transform=\"translate(5 0)\">2</text></g><g class=\"mut m3 s3\" transform=\"translate(0 -33.1012)\"><line x1=\"0\" x2=\"0\" y1=\"0\" y2=\"33.1012\"/><path class=\"sym\" d=\"M -3,-3 l 6,6 M -3,3 l 6,-6\"/><text class=\"lab rgt\" transform=\"translate(5 0)\">3</text></g><g class=\"mut m4 s4\" transform=\"translate(0 -21.2057)\"><line x1=\"0\" x2=\"0\" y1=\"0\" y2=\"21.2057\"/><path class=\"sym\" d=\"M -3,-3 l 6,6 M -3,3 l 6,-6\"/><text class=\"lab rgt\" transform=\"translate(5 0)\">4</text></g><circle class=\"sym\" cx=\"0\" cy=\"0\" r=\"3\"/><text class=\"lab rgt\" transform=\"translate(3 -7.0)\">1290</text></g><circle class=\"sym\" cx=\"0\" cy=\"0\" r=\"3\"/><text class=\"lab\" transform=\"translate(0 -11)\">4198</text></g></g></g><g class=\"tree t1\" transform=\"translate(400 0)\"><g class=\"plotbox\"><g class=\"c2 node n2913 p0 root\" transform=\"translate(119.609 84.813)\"><g class=\"a2913 c2 node n903 p0\" transform=\"translate(-31.6406 28.4937)\"><g class=\"a903 c2 node n46 p0\" transform=\"translate(22.0312 7.90332)\"><g class=\"a46 i2 leaf node n4 p0 sample\" transform=\"translate(-7.5 0.190024)\"><path class=\"edge\" d=\"M 0 0 V -0.190024 H 7.5\"/><rect class=\"sym\" height=\"6\" width=\"6\" x=\"-3\" y=\"-3\"/><text class=\"lab\" transform=\"translate(0 11)\">4</text></g><g class=\"a46 i4 leaf node n9 p0 sample\" transform=\"translate(7.5 0.190024)\"><path class=\"edge\" d=\"M 0 0 V -0.190024 H -7.5\"/><rect class=\"sym\" height=\"6\" width=\"6\" x=\"-3\" y=\"-3\"/><text class=\"lab\" transform=\"translate(0 11)\">9</text></g><path class=\"edge\" d=\"M 0 0 V -7.90332 H -22.0312\"/><circle class=\"sym\" cx=\"0\" cy=\"0\" r=\"3\"/><text class=\"lab rgt\" transform=\"translate(3 -7.0)\">46</text></g><g class=\"a903 c2 node n529 p0\" transform=\"translate(-22.0312 3.044)\"><g class=\"a529 i0 leaf node n1 p0 sample\" transform=\"translate(21.5625 5.04934)\"><path class=\"edge\" d=\"M 0 0 V -5.04934 H -21.5625\"/><rect class=\"sym\" height=\"6\" width=\"6\" x=\"-3\" y=\"-3\"/><text class=\"lab\" transform=\"translate(0 11)\">1</text></g><g class=\"a529 c2 node n421 p0\" transform=\"translate(-21.5625 0.903606)\"><g class=\"a421 i0 leaf node n0 p0 sample\" transform=\"translate(-16.875 4.14573)\"><path class=\"edge\" d=\"M 0 0 V -4.14573 H 16.875\"/><rect class=\"sym\" height=\"6\" width=\"6\" x=\"-3\" y=\"-3\"/><text class=\"lab\" transform=\"translate(0 11)\">0</text></g><g class=\"a421 c2 node n58 p0\" transform=\"translate(16.875 3.73753)\"><g class=\"a58 i4 leaf node n8 p0 sample\" transform=\"translate(11.25 0.408205)\"><path class=\"edge\" d=\"M 0 0 V -0.408205 H -11.25\"/><rect class=\"sym\" height=\"6\" width=\"6\" x=\"-3\" y=\"-3\"/><text class=\"lab\" transform=\"translate(0 11)\">8</text></g><g class=\"a58 c2 node n51 p0\" transform=\"translate(-11.25 0.195891)\"><g class=\"a51 i2 leaf node n5 p0 sample\" transform=\"translate(-7.5 0.212314)\"><path class=\"edge\" d=\"M 0 0 V -0.212314 H 7.5\"/><rect class=\"sym\" height=\"6\" width=\"6\" x=\"-3\" y=\"-3\"/><text class=\"lab\" transform=\"translate(0 11)\">5</text></g><g class=\"a51 i3 leaf node n7 p0 sample\" transform=\"translate(7.5 0.212314)\"><path class=\"edge\" d=\"M 0 0 V -0.212314 H -7.5\"/><rect class=\"sym\" height=\"6\" width=\"6\" x=\"-3\" y=\"-3\"/><text class=\"lab\" transform=\"translate(0 11)\">7</text></g><path class=\"edge\" d=\"M 0 0 V -0.195891 H 11.25\"/><circle class=\"sym\" cx=\"0\" cy=\"0\" r=\"3\"/><text class=\"lab lft\" transform=\"translate(-3 -7.0)\">51</text></g><path class=\"edge\" d=\"M 0 0 V -3.73753 H -16.875\"/><circle class=\"sym\" cx=\"0\" cy=\"0\" r=\"3\"/><text class=\"lab rgt\" transform=\"translate(3 -7.0)\">58</text></g><path class=\"edge\" d=\"M 0 0 V -0.903606 H 21.5625\"/><circle class=\"sym\" cx=\"0\" cy=\"0\" r=\"3\"/><text class=\"lab lft\" transform=\"translate(-3 -7.0)\">421</text></g><path class=\"edge\" d=\"M 0 0 V -3.044 H 22.0312\"/><circle class=\"sym\" cx=\"0\" cy=\"0\" r=\"3\"/><text class=\"lab lft\" transform=\"translate(-3 -7.0)\">529</text></g><path class=\"edge\" d=\"M 0 0 V -28.4937 H 31.6406\"/><circle class=\"sym\" cx=\"0\" cy=\"0\" r=\"3\"/><text class=\"lab lft\" transform=\"translate(-3 -7.0)\">903</text></g><g class=\"a2913 c2 node n1290 p0\" transform=\"translate(31.6406 24.8168)\"><g class=\"a1290 i3 leaf node n6 p0 sample\" transform=\"translate(11.25 11.7703)\"><path class=\"edge\" d=\"M 0 0 V -11.7703 H -11.25\"/><rect class=\"sym\" height=\"6\" width=\"6\" x=\"-3\" y=\"-3\"/><text class=\"lab\" transform=\"translate(0 11)\">6</text></g><g class=\"a1290 c2 node n233 p0\" transform=\"translate(-11.25 9.29623)\"><g class=\"a233 i1 leaf node n2 p0 sample\" transform=\"translate(-7.5 2.47403)\"><path class=\"edge\" d=\"M 0 0 V -2.47403 H 7.5\"/><rect class=\"sym\" height=\"6\" width=\"6\" x=\"-3\" y=\"-3\"/><text class=\"lab\" transform=\"translate(0 11)\">2</text></g><g class=\"a233 i1 leaf node n3 p0 sample\" transform=\"translate(7.5 2.47403)\"><path class=\"edge\" d=\"M 0 0 V -2.47403 H -7.5\"/><rect class=\"sym\" height=\"6\" width=\"6\" x=\"-3\" y=\"-3\"/><text class=\"lab\" transform=\"translate(0 11)\">3</text></g><path class=\"edge\" d=\"M 0 0 V -9.29623 H 11.25\"/><circle class=\"sym\" cx=\"0\" cy=\"0\" r=\"3\"/><text class=\"lab lft\" transform=\"translate(-3 -7.0)\">233</text></g><path class=\"edge\" d=\"M 0 0 V -24.8168 H -31.6406\"/><circle class=\"sym\" cx=\"0\" cy=\"0\" r=\"3\"/><text class=\"lab rgt\" transform=\"translate(3 -7.0)\">1290</text></g><circle class=\"sym\" cx=\"0\" cy=\"0\" r=\"3\"/><text class=\"lab\" transform=\"translate(0 -11)\">2913</text></g></g></g><g class=\"tree t2\" transform=\"translate(590 0)\"><g class=\"plotbox\"><g class=\"c2 node n4293 p0 root\" transform=\"translate(119.609 35.5362)\"><g class=\"a4293 c2 node n903 p0\" transform=\"translate(-31.6406 77.7704)\"><g class=\"a903 c2 node n46 p0\" transform=\"translate(22.0312 7.90332)\"><g class=\"a46 i2 leaf node n4 p0 sample\" transform=\"translate(-7.5 0.190024)\"><path class=\"edge\" d=\"M 0 0 V -0.190024 H 7.5\"/><rect class=\"sym\" height=\"6\" width=\"6\" x=\"-3\" y=\"-3\"/><text class=\"lab\" transform=\"translate(0 11)\">4</text></g><g class=\"a46 i4 leaf node n9 p0 sample\" transform=\"translate(7.5 0.190024)\"><path class=\"edge\" d=\"M 0 0 V -0.190024 H -7.5\"/><rect class=\"sym\" height=\"6\" width=\"6\" x=\"-3\" y=\"-3\"/><text class=\"lab\" transform=\"translate(0 11)\">9</text></g><path class=\"edge\" d=\"M 0 0 V -7.90332 H -22.0312\"/><circle class=\"sym\" cx=\"0\" cy=\"0\" r=\"3\"/><text class=\"lab rgt\" transform=\"translate(3 -7.0)\">46</text></g><g class=\"a903 c2 node n529 p0\" transform=\"translate(-22.0312 3.044)\"><g class=\"a529 i0 leaf node n1 p0 sample\" transform=\"translate(21.5625 5.04934)\"><path class=\"edge\" d=\"M 0 0 V -5.04934 H -21.5625\"/><rect class=\"sym\" height=\"6\" width=\"6\" x=\"-3\" y=\"-3\"/><text class=\"lab\" transform=\"translate(0 11)\">1</text></g><g class=\"a529 c2 node n421 p0\" transform=\"translate(-21.5625 0.903606)\"><g class=\"a421 i0 leaf node n0 p0 sample\" transform=\"translate(-16.875 4.14573)\"><path class=\"edge\" d=\"M 0 0 V -4.14573 H 16.875\"/><rect class=\"sym\" height=\"6\" width=\"6\" x=\"-3\" y=\"-3\"/><text class=\"lab\" transform=\"translate(0 11)\">0</text></g><g class=\"a421 c2 node n58 p0\" transform=\"translate(16.875 3.73753)\"><g class=\"a58 i4 leaf node n8 p0 sample\" transform=\"translate(11.25 0.408205)\"><path class=\"edge\" d=\"M 0 0 V -0.408205 H -11.25\"/><rect class=\"sym\" height=\"6\" width=\"6\" x=\"-3\" y=\"-3\"/><text class=\"lab\" transform=\"translate(0 11)\">8</text></g><g class=\"a58 c2 node n51 p0\" transform=\"translate(-11.25 0.195891)\"><g class=\"a51 i2 leaf node n5 p0 sample\" transform=\"translate(-7.5 0.212314)\"><path class=\"edge\" d=\"M 0 0 V -0.212314 H 7.5\"/><rect class=\"sym\" height=\"6\" width=\"6\" x=\"-3\" y=\"-3\"/><text class=\"lab\" transform=\"translate(0 11)\">5</text></g><g class=\"a51 i3 leaf node n7 p0 sample\" transform=\"translate(7.5 0.212314)\"><path class=\"edge\" d=\"M 0 0 V -0.212314 H -7.5\"/><rect class=\"sym\" height=\"6\" width=\"6\" x=\"-3\" y=\"-3\"/><text class=\"lab\" transform=\"translate(0 11)\">7</text></g><path class=\"edge\" d=\"M 0 0 V -0.195891 H 11.25\"/><circle class=\"sym\" cx=\"0\" cy=\"0\" r=\"3\"/><text class=\"lab lft\" transform=\"translate(-3 -7.0)\">51</text></g><path class=\"edge\" d=\"M 0 0 V -3.73753 H -16.875\"/><circle class=\"sym\" cx=\"0\" cy=\"0\" r=\"3\"/><text class=\"lab rgt\" transform=\"translate(3 -7.0)\">58</text></g><path class=\"edge\" d=\"M 0 0 V -0.903606 H 21.5625\"/><circle class=\"sym\" cx=\"0\" cy=\"0\" r=\"3\"/><text class=\"lab lft\" transform=\"translate(-3 -7.0)\">421</text></g><path class=\"edge\" d=\"M 0 0 V -3.044 H 22.0312\"/><circle class=\"sym\" cx=\"0\" cy=\"0\" r=\"3\"/><text class=\"lab lft\" transform=\"translate(-3 -7.0)\">529</text></g><path class=\"edge\" d=\"M 0 0 V -77.7704 H 31.6406\"/><circle class=\"sym\" cx=\"0\" cy=\"0\" r=\"3\"/><text class=\"lab lft\" transform=\"translate(-3 -7.0)\">903</text></g><g class=\"a4293 c2 m5 node n1290 p0 s5\" transform=\"translate(31.6406 74.0935)\"><g class=\"a1290 i3 leaf node n6 p0 sample\" transform=\"translate(11.25 11.7703)\"><path class=\"edge\" d=\"M 0 0 V -11.7703 H -11.25\"/><rect class=\"sym\" height=\"6\" width=\"6\" x=\"-3\" y=\"-3\"/><text class=\"lab\" transform=\"translate(0 11)\">6</text></g><g class=\"a1290 c2 node n233 p0\" transform=\"translate(-11.25 9.29623)\"><g class=\"a233 i1 leaf node n2 p0 sample\" transform=\"translate(-7.5 2.47403)\"><path class=\"edge\" d=\"M 0 0 V -2.47403 H 7.5\"/><rect class=\"sym\" height=\"6\" width=\"6\" x=\"-3\" y=\"-3\"/><text class=\"lab\" transform=\"translate(0 11)\">2</text></g><g class=\"a233 i1 leaf node n3 p0 sample\" transform=\"translate(7.5 2.47403)\"><path class=\"edge\" d=\"M 0 0 V -2.47403 H -7.5\"/><rect class=\"sym\" height=\"6\" width=\"6\" x=\"-3\" y=\"-3\"/><text class=\"lab\" transform=\"translate(0 11)\">3</text></g><path class=\"edge\" d=\"M 0 0 V -9.29623 H 11.25\"/><circle class=\"sym\" cx=\"0\" cy=\"0\" r=\"3\"/><text class=\"lab lft\" transform=\"translate(-3 -7.0)\">233</text></g><path class=\"edge\" d=\"M 0 0 V -74.0935 H -31.6406\"/><g class=\"mut m5 s5\" transform=\"translate(0 -70.9484)\"><line x1=\"0\" x2=\"0\" y1=\"0\" y2=\"70.9484\"/><path class=\"sym\" d=\"M -3,-3 l 6,6 M -3,3 l 6,-6\"/><text class=\"lab rgt\" transform=\"translate(5 0)\">5</text></g><circle class=\"sym\" cx=\"0\" cy=\"0\" r=\"3\"/><text class=\"lab rgt\" transform=\"translate(3 -7.0)\">1290</text></g><circle class=\"sym\" cx=\"0\" cy=\"0\" r=\"3\"/><text class=\"lab\" transform=\"translate(0 -11)\">4293</text></g></g></g></g></g></svg>"
      ],
      "text/plain": [
       "<IPython.core.display.SVG object>"
      ]
     },
     "metadata": {
      "filenames": {
       "image/svg+xml": "/home/runner/work/tutorials/tutorials/_build/jupyter_execute/getting_started_11_1.svg"
      }
     },
     "output_type": "display_data"
    }
   ],
   "source": [
    "reduced_ts = ts.simplify([0, 1, 2, 3, 4, 5, 6, 7, 8, 9])  # simplify to the first 10 samples\n",
    "print(\"Genealogy of the first 10 samples for the first 1.5kb of the genome\")\n",
    "display(SVG(reduced_ts.draw_svg(x_lim=(0, 5000))))"
   ]
  },
  {
   "cell_type": "markdown",
   "id": "e40d8855",
   "metadata": {},
   "source": [
    "These are much more standard-looking coalescent trees, with far longer branches higher\n",
    "up in the tree, and therefore many more mutations at higher-frequencies.\n",
    "\n",
    ":::{margin}\n",
    "You cannot directly edit a tree sequence; to add e.g. metadata you must edit a\n",
    "copy of the underlying tables. This is described in the\n",
    "{ref}`Tables and editing tutorial<sec_tables_editing>`.\n",
    ":::\n",
    "\n",
    ":::{note}\n",
    "In this tutorial we refer to objects, such as sample nodes, by their numerical IDs. These\n",
    "can change after simplification, and it is often more meaningful to \n",
    "{ref}`work with metadata<sec_tutorial_metadata>`, such as sample and population names,\n",
    "which can be permanently attached to objects in the tree sequence. Such metadata is\n",
    "often incorporated automatically by the tools generating the tree sequence. \n",
    ":::\n",
    "\n",
    "(sec_processing_sites_and_mutations)=\n",
    "\n",
    "## Processing sites and mutations\n",
    "\n",
    ":::{margin}\n",
    "See the tutorial entitled \"{ref}`sec_tskit_no_mutations`\" for why you may not need\n",
    "sites or mutations in your analyses.\n",
    ":::\n",
    "\n",
    "For many purposes it may be better to focus on the genealogy of your samples, rather than\n",
    "the {ref}`sites<sec_data_model_definitions_site>` and\n",
    "{ref}`mutations<sec_data_model_definitions_mutation>` that\n",
    "{ref}`define <sec_what_is_dna_data>` the genome sequence itself. Nevertheless,\n",
    "{program}`tskit` also provides efficient ways to return {class}`Site` object and\n",
    "{class}`Mutation` objects from a tree sequence.\n",
    "For instance, under the finite sites model of mutation that we used above, multiple mutations\n",
    "can occur at some sites, and we can identify them by iterating over the sites using the\n",
    "{meth}`TreeSequence.sites` method:"
   ]
  },
  {
   "cell_type": "code",
   "execution_count": 7,
   "id": "4a48003c",
   "metadata": {},
   "outputs": [
    {
     "name": "stdout",
     "output_type": "stream",
     "text": [
      "0 sites have 0 mutations\n",
      "13540 sites have 1 mutation\n",
      "14 sites, with IDs [ 2275  2287  2658  3789  4043  9694 11023 11780 11853 11890 11999 12023\n",
      " 12096 12310], have 2 mutations\n"
     ]
    }
   ],
   "source": [
    "import numpy as np\n",
    "num_muts = np.zeros(ts.num_sites, dtype=int)\n",
    "for site in ts.sites():\n",
    "    num_muts[site.id] = len(site.mutations)  # site.mutations is a list of mutations at the site\n",
    "\n",
    "# Print out some info about mutations per site\n",
    "for nmuts, count in enumerate(np.bincount(num_muts)):\n",
    "    info = f\"{count} sites\"\n",
    "    if nmuts > 1:\n",
    "        info += f\", with IDs {np.where(num_muts==nmuts)[0]},\"\n",
    "    print(info, f\"have {nmuts} mutation\" + (\"s\" if nmuts != 1 else \"\"))"
   ]
  },
  {
   "cell_type": "markdown",
   "id": "5432d27e",
   "metadata": {},
   "source": [
    "(sec_processing_genotypes)=\n",
    "\n",
    "## Processing genotypes\n",
    "\n",
    "At each site, the sample nodes will have a particular allelic state (or be flagged as\n",
    "{ref}`tskit:sec_data_model_missing_data`). The\n",
    "{meth}`TreeSequence.variants` method gives access to the\n",
    "full variation data. For efficiency, the {attr}`~Variant.genotypes`\n",
    "at a site are returned as a [numpy](https://numpy.org) array of integers:"
   ]
  },
  {
   "cell_type": "code",
   "execution_count": 8,
   "id": "30b579cd",
   "metadata": {},
   "outputs": [
    {
     "name": "stdout",
     "output_type": "stream",
     "text": [
      "Genotypes\n",
      "Site 0: [0 0 1 1 0 0 1 0 0 0 0 0 0 0 1 0 0 0 0 0 0 0 0 1 0 0 1 0 0 0 0 0 1 0 1 0 0 0 0 0]\n",
      "Site 1: [1 1 0 0 1 1 0 1 1 1 1 1 1 1 0 1 1 1 1 1 1 1 1 0 0 1 0 1 1 1 1 1 0 1 0 1 0 0 1 1]\n",
      "Site 2: [0 0 1 1 0 0 1 0 0 0 0 0 0 0 1 0 0 0 0 0 0 0 0 1 0 0 1 0 0 0 0 0 1 0 1 0 0 0 0 0]\n",
      "Site 3: [0 0 0 0 0 0 0 0 0 0 0 0 0 0 1 0 0 0 0 0 0 0 0 0 0 0 0 0 0 0 0 0 0 0 0 0 0 0 0 0]\n",
      "Site 4: [0 0 1 1 0 0 1 0 0 0 0 0 0 0 1 0 0 0 0 0 0 0 0 1 0 0 1 0 0 0 0 0 1 0 1 0 0 0 0 0]\n",
      "...\n"
     ]
    }
   ],
   "source": [
    "import numpy as np\n",
    "np.set_printoptions(linewidth=200)  # print genotypes on a single line\n",
    "\n",
    "print(\"Genotypes\")\n",
    "for v in ts.variants():\n",
    "    print(f\"Site {v.site.id}: {v.genotypes}\")\n",
    "    if v.site.id >= 4:  # only print up to site ID 4\n",
    "        print(\"...\")\n",
    "        break"
   ]
  },
  {
   "cell_type": "markdown",
   "id": "6973537d",
   "metadata": {},
   "source": [
    ":::{note}\n",
    "Tree sequences are optimised to look at all samples at one site, then all samples at an\n",
    "adjacent site, and so on along the genome. It is much less efficient look at all the\n",
    "sites for a single sample, then all the sites for the next sample, etc. In other words,\n",
    "you should generally iterate over sites, not samples. Nevertheless, all the alleles for\n",
    "a single sample can be obtained via the\n",
    "{meth}`TreeSequence.haplotypes` method.\n",
    ":::\n",
    "\n",
    "\n",
    "To find the actual allelic states at a site, you can refer to the\n",
    "{attr}`~Variant.alleles` provided for each {class}`Variant`:\n",
    "the genotype value is an index into this list. Here's one way to print them out; for\n",
    "clarity this example also prints out the IDs of both the sample nodes (i.e. the genomes)\n",
    "and the diploid {ref}`individuals <sec_nodes_or_individuals>` in which each sample\n",
    "node resides."
   ]
  },
  {
   "cell_type": "code",
   "execution_count": 9,
   "id": "fa51d7cf",
   "metadata": {},
   "outputs": [
    {
     "name": "stdout",
     "output_type": "stream",
     "text": [
      "  ID of diploid individual:    0   0   1   1   2   2   3   3   4   4   5   5   6   6   7   7   8   8   9   9  10  10  11  11  12  12  13  13  14  14  15  15  16  16  17  17  18  18  19  19\n",
      "       ID of (sample) node:    0   1   2   3   4   5   6   7   8   9  10  11  12  13  14  15  16  17  18  19  20  21  22  23  24  25  26  27  28  29  30  31  32  33  34  35  36  37  38  39\n",
      "Site 0 (ancestral state 'G') ['G' 'G' 'T' 'T' 'G' 'G' 'T' 'G' 'G' 'G' 'G' 'G' 'G' 'G' 'T' 'G' 'G' 'G' 'G' 'G' 'G' 'G' 'G' 'T' 'G' 'G' 'T' 'G' 'G' 'G' 'G' 'G' 'T' 'G' 'T' 'G' 'G' 'G' 'G' 'G']\n",
      "Site 1 (ancestral state 'T') "
     ]
    },
    {
     "name": "stdout",
     "output_type": "stream",
     "text": [
      "['G' 'G' 'T' 'T' 'G' 'G' 'T' 'G' 'G' 'G' 'G' 'G' 'G' 'G' 'T' 'G' 'G' 'G' 'G' 'G' 'G' 'G' 'G' 'T' 'T' 'G' 'T' 'G' 'G' 'G' 'G' 'G' 'T' 'G' 'T' 'G' 'T' 'T' 'G' 'G']\n",
      "Site 2 (ancestral state 'T') ['T' 'T' 'C' 'C' 'T' 'T' 'C' 'T' 'T' 'T' 'T' 'T' 'T' 'T' 'C' 'T' 'T' 'T' 'T' 'T' 'T' 'T' 'T' 'C' 'T' 'T' 'C' 'T' 'T' 'T' 'T' 'T' 'C' 'T' 'C' 'T' 'T' 'T' 'T' 'T']\n",
      "Site 3 (ancestral state 'T') ['T' 'T' 'T' 'T' 'T' 'T' 'T' 'T' 'T' 'T' 'T' 'T' 'T' 'T' 'A' 'T' 'T' 'T' 'T' 'T' 'T' 'T' 'T' 'T' 'T' 'T' 'T' 'T' 'T' 'T' 'T' 'T' 'T' 'T' 'T' 'T' 'T' 'T' 'T' 'T']\n",
      "Site 4 (ancestral state 'T') ['T' 'T' 'A' 'A' 'T' 'T' 'A' 'T' 'T' 'T' 'T' 'T' 'T' 'T' 'A' 'T' 'T' 'T' 'T' 'T' 'T' 'T' 'T' 'A' 'T' 'T' 'A' 'T' 'T' 'T' 'T' 'T' 'A' 'T' 'A' 'T' 'T' 'T' 'T' 'T']\n",
      "...\n"
     ]
    }
   ],
   "source": [
    "samp_ids = ts.samples()\n",
    "print(\"  ID of diploid individual: \", \" \".join([f\"{ts.node(s).individual:3}\" for s in samp_ids]))\n",
    "print(\"       ID of (sample) node: \", \" \".join([f\"{s:3}\" for s in samp_ids]))\n",
    "for v in ts.variants():\n",
    "    site = v.site\n",
    "    alleles = np.array(v.alleles)\n",
    "    print(f\"Site {site.id} (ancestral state '{site.ancestral_state}')\",  alleles[v.genotypes])\n",
    "    if site.id >= 4:  # only print up to site ID 4\n",
    "        print(\"...\")\n",
    "        break"
   ]
  },
  {
   "cell_type": "markdown",
   "id": "27d16e2d",
   "metadata": {},
   "source": [
    ":::{note}\n",
    "Since we have used the {class}`msprime.JC69` model of mutations, the alleles are all\n",
    "either 'A', 'T', 'G', or 'C'. However, more complex mutation models can involve mutations\n",
    "such as indels, leading to allelic states which need not be one of these 4 letters, nor\n",
    "even be a single letter.\n",
    ":::\n",
    "\n",
    "\n",
    "(sec_tskit_getting_started_compute_statistics)=\n",
    "\n",
    "## Compute statistics\n",
    "\n",
    "There are a {ref}`large number of statistics<tskit:sec_stats>` and related calculations\n",
    "built in to {program}`tskit`. Indeed, many basic population genetic statistics are based\n",
    "on the allele (or site) frequency spectrum (AFS), which can be obtained from a tree sequence\n",
    "using the {meth}`TreeSequence.allele_frequency_spectrum`\n",
    "method:"
   ]
  },
  {
   "cell_type": "code",
   "execution_count": 10,
   "id": "40b6faae",
   "metadata": {},
   "outputs": [
    {
     "data": {
      "image/png": "[encoded data removed]",
      "text/plain": [
       "<Figure size 432x288 with 1 Axes>"
      ]
     },
     "metadata": {
      "filenames": {
       "image/png": "/home/runner/work/tutorials/tutorials/_build/jupyter_execute/getting_started_19_0.png"
      },
      "needs_background": "light"
     },
     "output_type": "display_data"
    }
   ],
   "source": [
    "afs = ts.allele_frequency_spectrum()\n",
    "plt.bar(np.arange(ts.num_samples + 1), afs)\n",
    "plt.title(\"Unpolarised allele frequency spectrum\")\n",
    "plt.show()"
   ]
  },
  {
   "cell_type": "markdown",
   "id": "1cbcb203",
   "metadata": {},
   "source": [
    "By default this method returns the \"folded\" or unpolarized AFS that doesn't\n",
    "{ref}`take account of the ancestral state<tskit:sec_stats_polarisation>`.\n",
    "However, since the tree sequence provides the ancestral state, we can plot the polarized\n",
    "version; additionally we can base our calculations on branch lengths rather than alleles,\n",
    "which provides an estimate that is not influenced by random mutational \"noise\"."
   ]
  },
  {
   "cell_type": "code",
   "execution_count": 11,
   "id": "a35bab4f",
   "metadata": {},
   "outputs": [
    {
     "data": {
      "image/png": "[encoded data removed]",
      "text/plain": [
       "<Figure size 864x216 with 2 Axes>"
      ]
     },
     "metadata": {
      "filenames": {
       "image/png": "/home/runner/work/tutorials/tutorials/_build/jupyter_execute/getting_started_21_0.png"
      },
      "needs_background": "light"
     },
     "output_type": "display_data"
    }
   ],
   "source": [
    "fig, (ax1, ax2) = plt.subplots(ncols=2, figsize=(12, 3))\n",
    "\n",
    "afs1 = ts.allele_frequency_spectrum(polarised=True, mode=\"branch\")\n",
    "ax1.bar(np.arange(ts.num_samples+1), afs1)\n",
    "ax1.set_title(\"Genome-wide branch-length AFS\")\n",
    "\n",
    "restricted_ts = ts.keep_intervals([[5e6, 5.5e6]])\n",
    "afs2 = restricted_ts.allele_frequency_spectrum(polarised=True, mode=\"branch\")\n",
    "ax2.bar(np.arange(restricted_ts.num_samples+1), afs2)\n",
    "ax2.set_title(\"Branch-length AFS between 5 and 5.5Mb\")\n",
    "\n",
    "plt.show()"
   ]
  },
  {
   "cell_type": "markdown",
   "id": "6be78e71",
   "metadata": {},
   "source": [
    "On the left is the frequency spectrum averaged over the entire genome, and on the right\n",
    "is the spectrum for a section of the tree sequence between 5 and 5.5Mb, which we've\n",
    "created by deleting the regions outside that interval using\n",
    "{meth}`TreeSequence.keep_intervals`. Unsurprisingly,\n",
    "as we noted when looking at the trees, there's a far higher proportion of singletons in\n",
    "the region of the sweep.\n",
    "\n",
    "(sec_tskit_getting_started_compute_statistics_windowing)=\n",
    "\n",
    "### Windowing\n",
    "\n",
    "It is often useful to see how statistics vary in different genomic regions. This is done\n",
    "by calculating them in {ref}`tskit:sec_stats_windows` along the genome. For this,\n",
    "let's look at a single statistic, the genetic {meth}`~TreeSequence.diversity` (π). As a\n",
    "site statistic this measures the average number of genetic differences between two\n",
    "randomly chosen samples, whereas as a branch length statistic it measures the average\n",
    "branch length between them. We'll plot how the value of π changes using 10kb windows,\n",
    "plotting the resulting diversity between positions 4 and 6 Mb:"
   ]
  },
  {
   "cell_type": "code",
   "execution_count": 12,
   "id": "d614ecde",
   "metadata": {},
   "outputs": [
    {
     "data": {
      "image/png": "[encoded data removed]",
      "text/plain": [
       "<Figure size 864x216 with 2 Axes>"
      ]
     },
     "metadata": {
      "filenames": {
       "image/png": "/home/runner/work/tutorials/tutorials/_build/jupyter_execute/getting_started_23_0.png"
      },
      "needs_background": "light"
     },
     "output_type": "display_data"
    }
   ],
   "source": [
    "fig, (ax1, ax2) = plt.subplots(ncols=2, figsize=(12, 3))\n",
    "L = int(ts.sequence_length)\n",
    "windows = np.linspace(0, L, num=L//10_000)\n",
    "ax1.stairs(ts.diversity(windows=windows), windows/1_000, baseline=None)  # Default is mode=\"site\"\n",
    "ax1.set_ylabel(\"Diversity\")\n",
    "ax1.set_xlabel(\"Genome position (kb)\")\n",
    "ax1.set_title(\"Site-based calculation\")\n",
    "ax1.set_xlim(4e3, 6e3)\n",
    "ax1.set_yscale(\"log\")\n",
    "ax2.stairs(ts.diversity(windows=windows, mode=\"branch\"), windows/1_000, baseline=None)\n",
    "ax2.set_xlabel(\"Genome position (kb)\")\n",
    "ax2.set_title(\"Branch-length-based calculation\")\n",
    "ax2.set_xlim(4e3, 6e3)\n",
    "ax2.set_yscale(\"log\")\n",
    "plt.show()"
   ]
  },
  {
   "cell_type": "markdown",
   "id": "84298d00",
   "metadata": {},
   "source": [
    "There's a clear drop in diversity in the region of the selective sweep. And as expected,\n",
    "the statistic based on branch-lengths gives a less noisy signal.\n",
    "\n",
    "\n",
    "(sec_tskit_getting_started_exporting_data)=\n",
    "\n",
    "## Saving and exporting data\n",
    "\n",
    "Tree sequences can be efficiently saved to file using {meth}`TreeSequence.dump`, and\n",
    "loaded back again using {func}`tskit.load`. By convention, we use the suffix ``.trees``\n",
    "for such files:"
   ]
  },
  {
   "cell_type": "code",
   "execution_count": 13,
   "id": "49449fff",
   "metadata": {},
   "outputs": [],
   "source": [
    "import tskit\n",
    "\n",
    "ts.dump(\"data/my_tree_sequence.trees\")\n",
    "new_ts = tskit.load(\"data/my_tree_sequence.trees\")"
   ]
  },
  {
   "cell_type": "markdown",
   "id": "b4d9f3b9",
   "metadata": {},
   "source": [
    "It's also possible to export tree sequences to different formats. Note, however, that\n",
    "not only are these usually much larger files, but that analysis is usually much faster\n",
    "when performed by built-in tskit functions than by exporting and using alternative\n",
    "software. If you have a large tree sequence, you should *try to avoid exporting\n",
    "to other formats*.\n",
    "\n",
    "### Newick and Nexus format\n",
    "\n",
    "The most common format for interchanging tree data is Newick. \n",
    "We can export to a newick format string quite easily. This can be useful for\n",
    "interoperating with existing tree processing libraries but is very inefficient for\n",
    "large trees. There is also no support for including sites and mutations in the trees."
   ]
  },
  {
   "cell_type": "code",
   "execution_count": 14,
   "id": "c3442861",
   "metadata": {},
   "outputs": [
    {
     "name": "stdout",
     "output_type": "stream",
     "text": [
      "(((5:135.000,10:135.000):5614.805,(2:3587.236,(1:2945.281,(9:290.004,(6:150.836,8:150.836):139.168):2655.277):641.955):2162.570):61457.489,(7:8362.020,(3:1757.640,4:1757.640):6604.380):58845.274);\n"
     ]
    }
   ],
   "source": [
    "small_ts = reduced_ts.keep_intervals([[0, 10000]])\n",
    "tree = small_ts.first()\n",
    "print(tree.newick(precision=3))"
   ]
  },
  {
   "cell_type": "markdown",
   "id": "8a7a5cec",
   "metadata": {},
   "source": [
    "For an entire set of trees, you can use the Nexus file format, which acts as a container\n",
    "for a list of Newick format trees, one per line:"
   ]
  },
  {
   "cell_type": "code",
   "execution_count": 15,
   "id": "4afe9c44",
   "metadata": {},
   "outputs": [
    {
     "name": "stdout",
     "output_type": "stream",
     "text": [
      "#NEXUS\n",
      "BEGIN TAXA;\n",
      "  DIMENSIONS NTAX=10;\n",
      "  TAXLABELS n0 n1 n2 n3 n4 n5 n6 n7 n8 n9;\n",
      "END;\n",
      "BEGIN TREES;\n",
      "  TREE t0.000^661.000 = [&R] (((n4:135.000,n9:135.000):5614.805,(n1:3587.236,(n0:2945.281,(n8:290.004,(n5:150.836,n7:150.836):139.168):2655.277):641.955):2162.570):61457.489,(n6:8362.020,(n2:1757.640,n3:1757.640):6604.380):58845.274);\n",
      "  TREE t661.000^3116.000 = [&R] (((n4:135.000,n9:135.000):5614.805,(n1:3587.236,(n0:2945.281,(n8:290.004,(n5:150.836,n7:150.836):139.168):2655.277):641.955):2162.570):50834.692,(n6:8362.020,(n2:1757.640,n3:1757.640):6604.380):48222.477);\n",
      "  TREE t3116.000^4451.000 = [&R] (((n4:135.000,n9:135.000):5614.805,(n1:3587.236,(n0:2945.281,(n8:290.004,(n5:150.836,n7:150.836):139.168):2655.277):641.955):2162.570):20242.950,(n6:8362.020,(n2:1757.640,n3:1757.640):6604.380):17630.736);\n",
      "  TREE t4451.000^5076.000 = [&R] (((n4:135.000,n9:135.000):5614.805,(n1:3587.236,(n0:2945.281,(n8:290.004,(n5:150.836,n7:150.836):139.168):2655.277):641.955):2162.570):55250.945,(n6:8362.020,(n2:1757.640,n3:1757.640):6604.380):52638.730);\n",
      "  TREE t5076.000^7049.000 = [&R] (((n4:135.000,n9:135.000):5614.805,(n1:3587.236,(n0:2945.281,(n8:290.004,(n5:150.836,n7:150.836):139.168):2655.277):641.955):2162.570):21090.493,(n6:8362.020,(n2:1757.640,n3:1757.640):6604.380):18478.278);\n",
      "  TREE t7049.000^7995.000 = [&R] (((n4:135.000,n9:135.000):5614.805,(n1:3587.236,(n0:2945.281,(n8:290.004,(n5:150.836,n7:150.836):139.168):2655.277):641.955):2162.570):8736.110,(n6:8362.020,(n2:1757.640,n3:1757.640):6604.380):6123.895);\n",
      "  TREE t7995.000^8742.000 = [&R] (((n4:135.000,n9:135.000):5614.805,(n1:3587.236,(n0:2945.281,(n8:290.004,(n5:150.836,n7:150.836):139.168):2655.277):641.955):2162.570):8736.110,(n2:8362.020,(n3:5358.852,n6:5358.852):3003.168):6123.895);\n",
      "  TREE t8742.000^9279.000 = [&R] (((n4:135.000,n9:135.000):5614.805,(n1:3587.236,(n0:2945.281,(n8:290.004,(n5:150.836,n7:150.836):139.168):2655.277):641.955):2162.570):6741.465,(n2:8362.020,(n3:5358.852,n6:5358.852):3003.168):4129.250);\n",
      "  TREE t9279.000^10000.000 = [&R] (((n4:135.000,n9:135.000):5614.805,(n1:3587.236,(n0:2945.281,(n8:290.004,(n5:150.836,n7:150.836):139.168):2655.277):641.955):2162.570):21090.493,(n2:8362.020,(n3:5358.852,n6:5358.852):3003.168):18478.278);\n",
      "END;\n",
      "\n"
     ]
    }
   ],
   "source": [
    "small_ts = small_ts.trim()  # Must trim off the blank region at the end of cut-down ts\n",
    "print(small_ts.as_nexus(precision=3, include_alignments=False))"
   ]
  },
  {
   "cell_type": "markdown",
   "id": "a0b6c4e6",
   "metadata": {},
   "source": [
    "### VCF\n",
    "\n",
    "The standard way of interchanging genetic variation data is the Variant Call Format, \n",
    "for which tskit has basic support:"
   ]
  },
  {
   "cell_type": "code",
   "execution_count": 16,
   "id": "c13f35f8",
   "metadata": {},
   "outputs": [
    {
     "name": "stdout",
     "output_type": "stream",
     "text": [
      "##fileformat=VCFv4.2\n",
      "##source=tskit 0.4.1\n",
      "##FILTER=<ID=PASS,Description=\"All filters passed\">\n",
      "##contig=<ID=1,length=10000>\n",
      "##FORMAT=<ID=GT,Number=1,Type=String,Description=\"Genotype\">\n",
      "#CHROM\tPOS\tID\tREF\tALT\tQUAL\tFILTER\tINFO\tFORMAT\ttsk_0\ttsk_1\ttsk_2\ttsk_3\ttsk_4\n",
      "1\t310\t.\tG\tT\t.\tPASS\t.\tGT\t0|0\t1|1\t0|0\t1|0\t0|0\n",
      "1\t890\t.\tT\tG\t.\tPASS\t.\tGT\t1|1\t0|0\t1|1\t0|1\t1|1\n",
      "1\t1052\t.\tT\tC\t.\tPASS\t.\tGT\t0|0\t1|1\t0|0\t1|0\t0|0\n",
      "1\t1375\t.\tT\tA\t.\tPASS\t.\tGT\t0|0\t1|1\t0|0\t1|0\t0|0\n",
      "1\t1918\t.\tA\tG\t.\tPASS\t.\tGT\t0|0\t1|1\t0|0\t1|0\t0|0\n",
      "1\t4921\t.\tT\tG\t.\tPASS\t.\tGT\t0|0\t1|1\t0|0\t1|0\t0|0\n",
      "1\t5050\t.\tC\tA\t.\tPASS\t.\tGT\t1|1\t0|0\t1|1\t0|1\t1|1\n",
      "1\t5132\t.\tT\tA\t.\tPASS\t.\tGT\t0|0\t0|0\t0|1\t0|0\t0|0\n",
      "1\t5531\t.\tT\tA\t.\tPASS\t.\tGT\t0|0\t0|0\t0|0\t1|0\t0|0\n",
      "1\t7204\t.\tA\tT\t.\tPASS\t.\tGT\t0|0\t1|1\t0|0\t1|0\t0|0\n",
      "1\t8930\t.\tA\tG\t.\tPASS\t.\tGT\t0|0\t1|0\t0|0\t0|0\t0|0\n",
      "1\t9800\t.\tC\tG\t.\tPASS\t.\tGT\t1|1\t0|0\t1|1\t0|1\t1|1\n"
     ]
    }
   ],
   "source": [
    "import sys\n",
    "small_ts.write_vcf(sys.stdout)"
   ]
  },
  {
   "cell_type": "markdown",
   "id": "c0cc10c0",
   "metadata": {},
   "source": [
    "The write_vcf method takes a file object as a parameter; to get it to write out to the\n",
    "notebook here we ask it to write to stdout.\n",
    "\n",
    "### Scikit-allel\n",
    "\n",
    "Because tskit integrates very closely with numpy, we can interoperate very efficiently\n",
    "with downstream Python libraries for working with genetic\n",
    "sequence data, such as [scikit-allel](https://scikit-allel.readthedocs.io/en/stable/).\n",
    "We can interoperate with {program}`scikit-allel` by exporting the genotype matrix as a\n",
    "numpy array, which {program}`scikit-allel` can then process in various ways."
   ]
  },
  {
   "cell_type": "code",
   "execution_count": 17,
   "id": "3b5a2b14",
   "metadata": {},
   "outputs": [
    {
     "name": "stdout",
     "output_type": "stream",
     "text": [
      "12 10\n"
     ]
    },
    {
     "data": {
      "text/html": [
       "<div class=\"allel allel-DisplayAs2D\"><span>&lt;HaplotypeArray shape=(12, 10) dtype=int8&gt;</span><table><thead><tr><th></th><th style=\"text-align: center\">0</th><th style=\"text-align: center\">1</th><th style=\"text-align: center\">2</th><th style=\"text-align: center\">3</th><th style=\"text-align: center\">4</th><th style=\"text-align: center\">5</th><th style=\"text-align: center\">6</th><th style=\"text-align: center\">7</th><th style=\"text-align: center\">8</th><th style=\"text-align: center\">9</th></tr></thead><tbody><tr><th style=\"text-align: center; background-color: white; border-right: 1px solid black; \">0</th><td style=\"text-align: center\">0</td><td style=\"text-align: center\">0</td><td style=\"text-align: center\">1</td><td style=\"text-align: center\">1</td><td style=\"text-align: center\">0</td><td style=\"text-align: center\">0</td><td style=\"text-align: center\">1</td><td style=\"text-align: center\">0</td><td style=\"text-align: center\">0</td><td style=\"text-align: center\">0</td></tr><tr><th style=\"text-align: center; background-color: white; border-right: 1px solid black; \">1</th><td style=\"text-align: center\">1</td><td style=\"text-align: center\">1</td><td style=\"text-align: center\">0</td><td style=\"text-align: center\">0</td><td style=\"text-align: center\">1</td><td style=\"text-align: center\">1</td><td style=\"text-align: center\">0</td><td style=\"text-align: center\">1</td><td style=\"text-align: center\">1</td><td style=\"text-align: center\">1</td></tr><tr><th style=\"text-align: center; background-color: white; border-right: 1px solid black; \">2</th><td style=\"text-align: center\">0</td><td style=\"text-align: center\">0</td><td style=\"text-align: center\">1</td><td style=\"text-align: center\">1</td><td style=\"text-align: center\">0</td><td style=\"text-align: center\">0</td><td style=\"text-align: center\">1</td><td style=\"text-align: center\">0</td><td style=\"text-align: center\">0</td><td style=\"text-align: center\">0</td></tr><tr><th style=\"text-align: center; background-color: white; border-right: 1px solid black; \">...</th><td style=\"text-align: center\" colspan=\"11\">...</td></tr><tr><th style=\"text-align: center; background-color: white; border-right: 1px solid black; \">9</th><td style=\"text-align: center\">0</td><td style=\"text-align: center\">0</td><td style=\"text-align: center\">1</td><td style=\"text-align: center\">1</td><td style=\"text-align: center\">0</td><td style=\"text-align: center\">0</td><td style=\"text-align: center\">1</td><td style=\"text-align: center\">0</td><td style=\"text-align: center\">0</td><td style=\"text-align: center\">0</td></tr><tr><th style=\"text-align: center; background-color: white; border-right: 1px solid black; \">10</th><td style=\"text-align: center\">0</td><td style=\"text-align: center\">0</td><td style=\"text-align: center\">1</td><td style=\"text-align: center\">0</td><td style=\"text-align: center\">0</td><td style=\"text-align: center\">0</td><td style=\"text-align: center\">0</td><td style=\"text-align: center\">0</td><td style=\"text-align: center\">0</td><td style=\"text-align: center\">0</td></tr><tr><th style=\"text-align: center; background-color: white; border-right: 1px solid black; \">11</th><td style=\"text-align: center\">1</td><td style=\"text-align: center\">1</td><td style=\"text-align: center\">0</td><td style=\"text-align: center\">0</td><td style=\"text-align: center\">1</td><td style=\"text-align: center\">1</td><td style=\"text-align: center\">0</td><td style=\"text-align: center\">1</td><td style=\"text-align: center\">1</td><td style=\"text-align: center\">1</td></tr></tbody></table></div>"
      ],
      "text/plain": [
       "<HaplotypeArray shape=(12, 10) dtype=int8>\n",
       "0 0 1 1 0 0 1 0 0 0\n",
       "1 1 0 0 1 1 0 1 1 1\n",
       "0 0 1 1 0 0 1 0 0 0\n",
       "...\n",
       "0 0 1 1 0 0 1 0 0 0\n",
       "0 0 1 0 0 0 0 0 0 0\n",
       "1 1 0 0 1 1 0 1 1 1"
      ]
     },
     "execution_count": 17,
     "metadata": {},
     "output_type": "execute_result"
    }
   ],
   "source": [
    "import allel\n",
    "# Export the genotype data to allel. Unfortunately there's a slight mismatch in the \n",
    "# terminology here where genotypes and haplotypes mean different things in the two\n",
    "# libraries.\n",
    "h = allel.HaplotypeArray(small_ts.genotype_matrix())\n",
    "print(h.n_variants, h.n_haplotypes)\n",
    "h"
   ]
  },
  {
   "cell_type": "markdown",
   "id": "ed8606b9",
   "metadata": {},
   "source": [
    "Sckit.allel has a wide-ranging and efficient suite of tools for working with genotype\n",
    "data, so should provide anything that's needed. For example, it gives us an\n",
    "another way to compute the pairwise diversity statistic (that we calculated\n",
    "{ref}`above<sec_tskit_getting_started_compute_statistics_windowing>`\n",
    "using the native {meth}`TreeSequence.diversity` method):"
   ]
  },
  {
   "cell_type": "code",
   "execution_count": 18,
   "id": "cc586ac0",
   "metadata": {},
   "outputs": [
    {
     "data": {
      "text/plain": [
       "array([0.46666667, 0.46666667, 0.46666667, 0.46666667, 0.46666667, 0.46666667, 0.46666667, 0.2       , 0.2       , 0.46666667, 0.2       , 0.46666667])"
      ]
     },
     "execution_count": 18,
     "metadata": {},
     "output_type": "execute_result"
    }
   ],
   "source": [
    "ac = h.count_alleles()\n",
    "allel.mean_pairwise_difference(ac)"
   ]
  },
  {
   "cell_type": "markdown",
   "id": "0432e6e4",
   "metadata": {},
   "source": [
    "(sec_tskit_getting_started_key_points)=\n",
    "\n",
    "## Key points covered above\n",
    "\n",
    "Some simple methods and take-home messages from this introduction to the\n",
    "{program}`tskit` {ref}`sec_python_api`,\n",
    "in rough order of importance:\n",
    "\n",
    "* Objects and their attributes\n",
    "    * In Python, a {class}`TreeSequence` object has a number of basic attributes such as\n",
    "        {attr}`~TreeSequence.num_trees`, {attr}`~TreeSequence.num_sites`,\n",
    "        {attr}`~TreeSequence.num_samples`, {attr}`~TreeSequence.sequence_length`, etc.\n",
    "        Similarly a {class}`Tree` object has e.g. an {attr}`~Tree.interval` attribute, a\n",
    "        {class}`Site` object has a {attr}`~Site.mutations` attribute, a {class}`Node`\n",
    "        object has a {attr}`~Node.time` attribute, and so on.\n",
    "    * {ref}`sec_terminology_nodes` (i.e. genomes) can belong to\n",
    "        {ref}`individuals<sec_terminology_individuals_and_populations>`. For example,\n",
    "        sampling a diploid individual results in an {class}`Individual` object which\n",
    "        possesses two distinct {ref}`sample nodes<sec_terminology_nodes_samples>`.\n",
    "* Key tree sequence methods\n",
    "    * {meth}`~TreeSequence.samples()` returns an array of node IDs specifying the\n",
    "        nodes that are marked as samples\n",
    "    * {meth}`~TreeSequence.node` returns the node object for a given integer node ID\n",
    "    * {meth}`~TreeSequence.trees` iterates over all the trees\n",
    "    * {meth}`~TreeSequence.sites` iterates over all the sites\n",
    "    * {meth}`~TreeSequence.variants` iterates over all the sites with their genotypes\n",
    "        and alleles\n",
    "    * {meth}`~TreeSequence.simplify()` reduces the number of sample nodes in the tree\n",
    "        sequence to a specified subset\n",
    "    * {meth}`~TreeSequence.keep_intervals()` (or its complement,\n",
    "        {meth}`~TreeSequence.delete_intervals()`) removes genetic information from\n",
    "        specific regions of the genome\n",
    "    * {meth}`~TreeSequence.draw_svg()` plots tree sequences (and {meth}`Tree.draw_svg()`\n",
    "        plots trees)\n",
    "    * {meth}`~TreeSequence.at()` returns a tree at a particular genomic position\n",
    "        (but using {meth}`~TreeSequence.trees` is usually preferable)\n",
    "    * Various population genetic statistics can be calculated using methods on a tree\n",
    "        sequence, for example {meth}`~TreeSequence.allele_frequency_spectrum`,\n",
    "        {meth}`~TreeSequence.diversity`, and {meth}`~TreeSequence.Fst`; these can\n",
    "        also be calculated in windows along the genome."
   ]
  }
 ],
 "metadata": {
  "jupytext": {
   "text_representation": {
    "extension": ".md",
    "format_name": "myst",
    "format_version": 0.12,
    "jupytext_version": "1.9.1"
   }
  },
  "kernelspec": {
   "display_name": "Python 3",
   "language": "python",
   "name": "python3"
  },
  "language_info": {
   "codemirror_mode": {
    "name": "ipython",
    "version": 3
   },
   "file_extension": ".py",
   "mimetype": "text/x-python",
   "name": "python",
   "nbconvert_exporter": "python",
   "pygments_lexer": "ipython3",
   "version": "3.8.12"
  },
  "source_map": [
   12,
   47,
   67,
   87,
   94,
   124,
   135,
   143,
   157,
   174,
   182,
   203,
   207,
   245,
   257,
   269,
   279,
   300,
   311,
   331,
   336,
   344,
   357,
   378,
   394,
   408,
   413,
   428,
   432,
   437,
   440,
   447,
   450,
   463,
   471,
   479,
   482
  ]
 },
 "nbformat": 4,
 "nbformat_minor": 5
}