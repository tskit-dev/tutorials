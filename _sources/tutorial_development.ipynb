{
 "cells": [
  {
   "cell_type": "markdown",
   "id": "dbbad728",
   "metadata": {},
   "source": [
    "(sec_development)=\n",
    "\n",
    "# _Developing new tutorials_\n",
    "% remove underscores in title when tutorial is complete or near-complete\n",
    "\n",
    ":::{note}\n",
    "Add content for helping developers to add more tutorials.\n",
    ":::"
   ]
  }
 ],
 "metadata": {
  "jupytext": {
   "text_representation": {
    "extension": ".md",
    "format_name": "myst",
    "format_version": 0.12,
    "jupytext_version": "1.9.1"
   }
  },
  "kernelspec": {
   "display_name": "Python 3",
   "language": "python",
   "name": "python3"
  },
  "language_info": {
   "codemirror_mode": {
    "name": "ipython",
    "version": 3
   },
   "file_extension": ".py",
   "mimetype": "text/x-python",
   "name": "python",
   "nbconvert_exporter": "python",
   "pygments_lexer": "ipython3",
   "version": "3.8.14"
  },
  "source_map": [
   12
  ]
 },
 "nbformat": 4,
 "nbformat_minor": 5
}