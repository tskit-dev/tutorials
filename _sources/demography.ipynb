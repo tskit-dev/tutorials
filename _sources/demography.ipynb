{
 "cells": [
  {
   "cell_type": "markdown",
   "id": "520ea89f",
   "metadata": {},
   "source": [
    "(sec_msprime_demography)=\n",
    "\n",
    "# Demography\n",
    "\n",
    "**Georgia Tsambos**\n",
    "\n",
    "By default, {func}`msprime.sim_ancestry` simulates samples from a single population of a constant size,\n",
    "which isn't particularly exciting!\n",
    "One of the strengths of msprime is that it can be used to specify quite complicated\n",
    "models of demography and population history with a simple Python API."
   ]
  },
  {
   "cell_type": "code",
   "execution_count": 1,
   "id": "37040f71",
   "metadata": {},
   "outputs": [],
   "source": [
    "import msprime\n",
    "import numpy as np"
   ]
  },
  {
   "cell_type": "markdown",
   "id": "d626d564",
   "metadata": {},
   "source": [
    "## Population structure\n",
    "\n",
    "``msprime`` supports simulation from multiple discrete populations,\n",
    "each of which is initialized in {class}`msprime.Demography` via the {meth}`msprime.Demography.add_population` method.\n",
    "For each population, you can specify a sample size, an effective population size\n",
    "at time = 0, an exponential growth rate and a name.\n",
    "\n",
    "Suppose we wanted to simulate three sequences each from two populations\n",
    "with a constant effective population size of 500."
   ]
  },
  {
   "cell_type": "code",
   "execution_count": 2,
   "id": "15637973",
   "metadata": {},
   "outputs": [
    {
     "data": {
      "text/html": [
       "<div style=\"margin-left:20px\"><div><style scoped=\"\">\n",
       "            .tskit-table thead tr th:only-of-type {vertical-align: middle;}\n",
       "            .tskit-table thead tr th {text-align: center;vertical-align: top;}\n",
       "            .tskit-table tbody td {text-align: right;padding: 0.5em 0.5em;}\n",
       "            .tskit-table tbody th {padding: 0.5em 0.5em;}\n",
       "        </style><b>Populations (2)</b><table border=\"1\" class=\"tskit-table\"><thead><tr><th>id</th><th>name</th><th>description</th><th>initial_size</th><th>growth_rate</th><th>default_sampling_time</th><th>extra_metadata</th></tr></thead><tbody><tr><td>0</td><td>A</td><td>Plotted in red.</td><td>500.0</td><td>0</td><td>0</td><td>{}</td></tr><tr><td>1</td><td>B</td><td>Plotted in blue.</td><td>500.0</td><td>0</td><td>0</td><td>{}</td></tr></tbody></table></div><div><style scoped=\"\">\n",
       "            .tskit-table thead tr th:only-of-type {vertical-align: middle;}\n",
       "            .tskit-table thead tr th {text-align: center;vertical-align: top;}\n",
       "            .tskit-table tbody td {text-align: right;padding: 0.5em 0.5em;}\n",
       "            .tskit-table tbody th {padding: 0.5em 0.5em;}\n",
       "        </style><b>Migration matrix (all zero)</b><table border=\"1\" class=\"tskit-table\"><thead><tr></tr></thead><tbody></tbody></table></div><div><style scoped=\"\">\n",
       "            .tskit-table thead tr th:only-of-type {vertical-align: middle;}\n",
       "            .tskit-table thead tr th {text-align: center;vertical-align: top;}\n",
       "            .tskit-table tbody td {text-align: right;padding: 0.5em 0.5em;}\n",
       "            .tskit-table tbody th {padding: 0.5em 0.5em;}\n",
       "        </style><b>Events (0)</b><table border=\"1\" class=\"tskit-table\"><thead><tr></tr></thead><tbody></tbody></table></div></div>"
      ],
      "text/plain": [
       "Demography(populations=[Population(initial_size=500, growth_rate=0, name='A', description='Plotted in red.', extra_metadata={}, default_sampling_time=None, initially_active=None, id=0), Population(initial_size=500, growth_rate=0, name='B', description='Plotted in blue.', extra_metadata={}, default_sampling_time=None, initially_active=None, id=1)], events=[], migration_matrix=array([[0., 0.],\n",
       "       [0., 0.]]))"
      ]
     },
     "execution_count": 2,
     "metadata": {},
     "output_type": "execute_result"
    }
   ],
   "source": [
    "dem = msprime.Demography()\n",
    "dem.add_population(name=\"A\", description=\"Plotted in red.\", initial_size=500)\n",
    "dem.add_population(name=\"B\", description=\"Plotted in blue.\",initial_size=500)\n",
    "dem  "
   ]
  },
  {
   "cell_type": "markdown",
   "id": "c934106e",
   "metadata": {},
   "source": [
    "The {class}`msprime.Demography` object that we've just created can be passed to {func}`msprime.sim_ancestry` via the ``demography`` argument.\n",
    "We'll also use the ``samples`` argument to specify how many sample inividuals we wish to draw from each of these populations.\n",
    "In this case, we'll simulate three from each.\n",
    "Also, note that we no longer need to specify ``population_size`` in {func}`msprime.sim_ancestry` as we have provided a separate size for each population."
   ]
  },
  {
   "cell_type": "code",
   "execution_count": 3,
   "id": "b156f964",
   "metadata": {},
   "outputs": [],
   "source": [
    "# ts = msprime.sim_ancestry(\n",
    "#   samples={\"A\" : 3, \"B\" : 3}, \n",
    "#   demography=dem,\n",
    "#   random_seed=12,\n",
    "#   sequence_length=1000, \n",
    "#   recombination_rate=1e-4\n",
    "#   )"
   ]
  },
  {
   "cell_type": "markdown",
   "id": "25056a51",
   "metadata": {},
   "source": [
    "However, **this simulation will run forever** unless we also\n",
    "specify some migration between the groups!\n",
    "To understand why, recall that ``msprime`` is a `coalescent`-based simulator.\n",
    "The simulation will run backwards-in-time, simulating until `all` samples have\n",
    "coalesced to a single common ancestor at each genomic location.\n",
    "However, with no migration between our two populations, samples in one\n",
    "population will never coalesce with samples in another population.\n",
    "To fix this, let's add some migration events to the specific demographic history.\n",
    "\n",
    "```{note}\n",
    "In this default setup, the samples will be drawn from time = 0, but see [here](https://tskit.dev/msprime/docs/latest/ancestry.html#sampling-time) if you wish to change this.\n",
    "```\n",
    "\n",
    "```{note}\n",
    "Population structure in ``msprime`` closely follows the model used in the\n",
    "``ms`` simulator.\n",
    "Unlike ``ms`` however, all times and rates are specified\n",
    "in generations and all population sizes are absolute (that is, not\n",
    "multiples of ``population_size``).\n",
    "```\n",
    "\n",
    "## Migrations\n",
    "\n",
    "With msprime, you can specify continual rates of migrations between\n",
    "populations, as well as admixture events, divergences and one-off mass migrations.\n",
    "\n",
    "### Constant migration\n",
    "\n",
    "![constant-migration-diagram](_static/tute-population-structure-1.png)\n",
    "\n",
    "Migration rates between the populations can be thought as the elements of an\n",
    "*N* by *N* numpy array, and are passed to our {class}`msprime.Demography` object individually via the {meth}`msprime.Demography.set_migration_rate`\n",
    "method.\n",
    "This allows us to specify the expected number of migrants moving\n",
    "from population `dest` to population `source` per generation, divided by the size of\n",
    "population `source`.  When this rate is small (close to 0), it is approximately\n",
    "equal to the fraction of population `source` that consists of new migrants from\n",
    "population `dest` in each generation.\n",
    "And if both of your populations are exchanging migrants at the same rate, you can save yourself some typing by specifying them with a single {meth}`msprime.Demography.set_symmetric_migration_rate` call.\n",
    "\n",
    "```{note}\n",
    "The reason for this (perhaps) counter-intuitive specification of `source` and `dest` is that ``msprime`` simulates backwards-in-time. See [this](https://tskit.dev/msprime/docs/latest/demography.html#direction-of-time) for further explanation.\n",
    "```\n",
    "\n",
    "For instance, the following migration matrix specifies that in each generation,\n",
    "approximately 5% of population 0 consists of migrants from population 1, and\n",
    "approximately 2% of population 1 consists of migrants from population 0."
   ]
  },
  {
   "cell_type": "code",
   "execution_count": 4,
   "id": "f28a498c",
   "metadata": {},
   "outputs": [
    {
     "data": {
      "text/html": [
       "\n",
       "<div>\n",
       "  <style>\n",
       "    .tskit-table thead tr th {text-align: left;padding: 0.5em 0.5em;}\n",
       "    .tskit-table tbody tr td {padding: 0.5em 0.5em;}\n",
       "    .tskit-table tbody tr td:first-of-type {text-align: left;}\n",
       "    .tskit-details-label {vertical-align: top; padding-right:5px;}\n",
       "    .tskit-table-set {display: inline-flex;flex-wrap: wrap;margin: -12px 0 0 -12px;width: calc(100% + 12px);}\n",
       "    .tskit-table-set-table {margin: 12px 0 0 12px;}\n",
       "    details {display: inline-block;}\n",
       "    summary {cursor: pointer; outline: 0; display: list-item;}\n",
       "  </style>\n",
       "  <div class=\"tskit-table-set\">\n",
       "    <div class=\"tskit-table-set-table\">\n",
       "      <table class=\"tskit-table\">\n",
       "        <thead>\n",
       "          <tr>\n",
       "            <th style=\"padding:0;line-height:21px;\">\n",
       "              <img style=\"height: 32px;display: inline-block;padding: 3px 5px 3px 0;\" src=\"https://raw.githubusercontent.com/tskit-dev/administrative/main/tskit_logo.svg\"/>\n",
       "              <a target=\"_blank\" href=\"https://tskit.dev/tskit/docs/latest/python-api.html#the-treesequence-class\"> Tree Sequence </a>\n",
       "            </th>\n",
       "          </tr>\n",
       "        </thead>\n",
       "        <tbody>\n",
       "          <tr><td>Trees</td><td>1</td></tr>\n",
       "          <tr><td>Sequence Length</td><td>1000.0</td></tr>\n",
       "          <tr><td>Time Units</td><td>generations</td></tr>\n",
       "          <tr><td>Sample Nodes</td><td>4</td></tr>\n",
       "          <tr><td>Total Size</td><td>2.3 KiB</td></tr>\n",
       "          <tr>\n",
       "            <td>Metadata</td><td style=\"text-align: left;\">No Metadata</td></tr>\n",
       "        </tbody>\n",
       "      </table>\n",
       "    </div>\n",
       "    <div class=\"tskit-table-set-table\">\n",
       "      <table class=\"tskit-table\">\n",
       "        <thead>\n",
       "          <tr>\n",
       "            <th style=\"line-height:21px;\">Table</th>\n",
       "            <th>Rows</th>\n",
       "            <th>Size</th>\n",
       "            <th>Has Metadata</th>\n",
       "          </tr>\n",
       "        </thead>\n",
       "        <tbody>\n",
       "\n",
       "      <tr>\n",
       "        <td>Edges</td>\n",
       "          <td>6</td>\n",
       "          <td>200 Bytes</td>\n",
       "          <td style=\"text-align: center;\">\n",
       "\n",
       "          </td>\n",
       "        </tr>\n",
       "\n",
       "      <tr>\n",
       "        <td>Individuals</td>\n",
       "          <td>2</td>\n",
       "          <td>80 Bytes</td>\n",
       "          <td style=\"text-align: center;\">\n",
       "\n",
       "          </td>\n",
       "        </tr>\n",
       "\n",
       "      <tr>\n",
       "        <td>Migrations</td>\n",
       "          <td>0</td>\n",
       "          <td>8 Bytes</td>\n",
       "          <td style=\"text-align: center;\">\n",
       "\n",
       "          </td>\n",
       "        </tr>\n",
       "\n",
       "      <tr>\n",
       "        <td>Mutations</td>\n",
       "          <td>0</td>\n",
       "          <td>16 Bytes</td>\n",
       "          <td style=\"text-align: center;\">\n",
       "\n",
       "          </td>\n",
       "        </tr>\n",
       "\n",
       "      <tr>\n",
       "        <td>Nodes</td>\n",
       "          <td>7</td>\n",
       "          <td>204 Bytes</td>\n",
       "          <td style=\"text-align: center;\">\n",
       "\n",
       "          </td>\n",
       "        </tr>\n",
       "\n",
       "      <tr>\n",
       "        <td>Populations</td>\n",
       "          <td>2</td>\n",
       "          <td>288 Bytes</td>\n",
       "          <td style=\"text-align: center;\">\n",
       "            ✅\n",
       "          </td>\n",
       "        </tr>\n",
       "\n",
       "      <tr>\n",
       "        <td>Provenances</td>\n",
       "          <td>1</td>\n",
       "          <td>1.4 KiB</td>\n",
       "          <td style=\"text-align: center;\">\n",
       "\n",
       "          </td>\n",
       "        </tr>\n",
       "\n",
       "      <tr>\n",
       "        <td>Sites</td>\n",
       "          <td>0</td>\n",
       "          <td>16 Bytes</td>\n",
       "          <td style=\"text-align: center;\">\n",
       "\n",
       "          </td>\n",
       "        </tr>\n",
       "\n",
       "        </tbody>\n",
       "      </table>\n",
       "    </div>\n",
       "  </div>\n",
       "</div>\n"
      ],
      "text/plain": [
       "<tskit.trees.TreeSequence at 0x7ff21c019490>"
      ]
     },
     "execution_count": 4,
     "metadata": {},
     "output_type": "execute_result"
    }
   ],
   "source": [
    "dem = msprime.Demography()\n",
    "dem.add_population(name=\"A\", description=\"Plotted in red.\", initial_size=500)\n",
    "dem.add_population(name=\"B\", description=\"Plotted in blue.\",initial_size=500)\n",
    "\n",
    "# Set migration rates.\n",
    "dem.set_migration_rate(source=0, dest=1, rate=0.05)\n",
    "dem.set_migration_rate(source=1, dest=0, rate=0.02)\n",
    "\n",
    "# Simulate.\n",
    "ts = msprime.sim_ancestry(\n",
    "  samples={\"A\" : 1, \"B\" : 1},\n",
    "  demography=dem,\n",
    "  sequence_length=1000,\n",
    "  random_seed=141,\n",
    "  recombination_rate=1e-7)\n",
    "ts"
   ]
  },
  {
   "cell_type": "markdown",
   "id": "8a5bbd41",
   "metadata": {},
   "source": [
    "One consequence of specifying {class}`msprime.Population` objects\n",
    "is that each of the simulated nodes will now belong to one of our specified\n",
    "populations:"
   ]
  },
  {
   "cell_type": "code",
   "execution_count": 5,
   "id": "36b4d806",
   "metadata": {},
   "outputs": [
    {
     "data": {
      "text/html": [
       "\n",
       "            <div>\n",
       "                <style scoped=\"\">\n",
       "                    .tskit-table tbody tr th:only-of-type {vertical-align: middle;}\n",
       "                    .tskit-table tbody tr th {vertical-align: top;}\n",
       "                    .tskit-table tbody td {text-align: right;padding: 0.5em 0.5em;}\n",
       "                    .tskit-table tbody th {padding: 0.5em 0.5em;}\n",
       "                </style>\n",
       "                <table border=\"1\" class=\"tskit-table\">\n",
       "                    <thead>\n",
       "                        <tr>\n",
       "                            <th>id</th><th>flags</th><th>population</th><th>individual</th><th>time</th><th>metadata</th>\n",
       "                        </tr>\n",
       "                    </thead>\n",
       "                    <tbody>\n",
       "                        <tr><td>0</td><td>1</td><td>0</td><td>0</td><td>0.00000000</td><td></td></tr>\n",
       "<tr><td>1</td><td>1</td><td>0</td><td>0</td><td>0.00000000</td><td></td></tr>\n",
       "<tr><td>2</td><td>1</td><td>1</td><td>1</td><td>0.00000000</td><td></td></tr>\n",
       "<tr><td>3</td><td>1</td><td>1</td><td>1</td><td>0.00000000</td><td></td></tr>\n",
       "<tr><td>4</td><td>0</td><td>0</td><td>-1</td><td>161.20712736</td><td></td></tr>\n",
       "<tr><td>5</td><td>0</td><td>1</td><td>-1</td><td>336.10713452</td><td></td></tr>\n",
       "<tr><td>6</td><td>0</td><td>1</td><td>-1</td><td>590.71203375</td><td></td></tr>\n",
       "\n",
       "                    </tbody>\n",
       "                </table>\n",
       "            </div>\n"
      ],
      "text/plain": [
       "<tskit.tables.NodeTable at 0x7ff21c07df40>"
      ]
     },
     "execution_count": 5,
     "metadata": {},
     "output_type": "execute_result"
    }
   ],
   "source": [
    "ts.tables.nodes"
   ]
  },
  {
   "cell_type": "markdown",
   "id": "a77a2351",
   "metadata": {},
   "source": [
    "Notice that the ``population`` column of the node table now contains values of 0 and 1.\n",
    "If you are working in a Jupyter notebook, you can draw the tree sequence\n",
    "with nodes coloured by population label using SVG:"
   ]
  },
  {
   "cell_type": "code",
   "execution_count": 6,
   "id": "36341068",
   "metadata": {},
   "outputs": [
    {
     "data": {
      "image/svg+xml": [
       "<svg baseProfile=\"full\" height=\"200\" version=\"1.1\" width=\"200\" xmlns=\"http://www.w3.org/2000/svg\" xmlns:ev=\"http://www.w3.org/2001/xml-events\" xmlns:xlink=\"http://www.w3.org/1999/xlink\"><defs><style type=\"text/css\"><![CDATA[.background path {fill: #808080; fill-opacity: 0}.background path:nth-child(odd) {fill-opacity: .1}.axes {font-size: 14px}.x-axis .tick .lab {font-weight: bold; dominant-baseline: hanging}.axes, .tree {font-size: 14px; text-anchor: middle}.axes line, .edge {stroke: black; fill: none}.y-axis .grid {stroke: #FAFAFA}.node > .sym {fill: black; stroke: none}.site > .sym {stroke: black}.mut text {fill: red; font-style: italic}.mut.extra text {fill: hotpink}.mut line {fill: none; stroke: none}.mut .sym {fill: none; stroke: red}.mut.extra .sym {stroke: hotpink}.node .mut .sym {stroke-width: 1.5px}.tree text, .tree-sequence text {dominant-baseline: central}.plotbox .lab.lft {text-anchor: end}.plotbox .lab.rgt {text-anchor: start}.node.p0 > .sym {fill: red }.node.p1 > .sym {fill: blue }]]></style></defs><g class=\"tree-sequence\"><g class=\"background\"><path d=\"M20,0 l160,0 l0,138.2 l0,25 l0,5 l-160,0 l0,-5 l0,-25 l0,-138.2z\" /></g><g class=\"axes\"><g class=\"x-axis\"><g transform=\"translate(100 200)\"><text class=\"lab\" text-anchor=\"middle\" transform=\"translate(0 -11)\">Genome position</text></g><line x1=\"20\" x2=\"180\" y1=\"163.2\" y2=\"163.2\" /><g class=\"ticks\"><g class=\"tick\" transform=\"translate(20 163.2)\"><line x1=\"0\" x2=\"0\" y1=\"0\" y2=\"5\" /><g transform=\"translate(0 6)\"><text class=\"lab\">0</text></g></g><g class=\"tick\" transform=\"translate(180 163.2)\"><line x1=\"0\" x2=\"0\" y1=\"0\" y2=\"5\" /><g transform=\"translate(0 6)\"><text class=\"lab\">1000</text></g></g></g></g></g><g class=\"plotbox trees\"><g class=\"tree t0\" transform=\"translate(20 0)\"><g class=\"plotbox\"><g class=\"c2 node n6 p1 root\" transform=\"translate(98.75 26.8)\"><g class=\"a6 i1 leaf node n3 p1 sample\" transform=\"translate(26.25 94.6)\"><path class=\"edge\" d=\"M 0 0 V -94.6 H -26.25\" /><rect class=\"sym\" height=\"6\" width=\"6\" x=\"-3\" y=\"-3\" /><text class=\"lab\" transform=\"translate(0 11)\">3</text></g><g class=\"a6 c2 node n5 p1\" transform=\"translate(-26.25 40.7739)\"><g class=\"a5 i0 leaf node n1 p0 sample\" transform=\"translate(22.5 53.8261)\"><path class=\"edge\" d=\"M 0 0 V -53.8261 H -22.5\" /><rect class=\"sym\" height=\"6\" width=\"6\" x=\"-3\" y=\"-3\" /><text class=\"lab\" transform=\"translate(0 11)\">1</text></g><g class=\"a5 c2 node n4 p0\" transform=\"translate(-22.5 28.0095)\"><g class=\"a4 i0 leaf node n0 p0 sample\" transform=\"translate(-15 25.8166)\"><path class=\"edge\" d=\"M 0 0 V -25.8166 H 15\" /><rect class=\"sym\" height=\"6\" width=\"6\" x=\"-3\" y=\"-3\" /><text class=\"lab\" transform=\"translate(0 11)\">0</text></g><g class=\"a4 i1 leaf node n2 p1 sample\" transform=\"translate(15 25.8166)\"><path class=\"edge\" d=\"M 0 0 V -25.8166 H -15\" /><rect class=\"sym\" height=\"6\" width=\"6\" x=\"-3\" y=\"-3\" /><text class=\"lab\" transform=\"translate(0 11)\">2</text></g><path class=\"edge\" d=\"M 0 0 V -28.0095 H 22.5\" /><circle class=\"sym\" cx=\"0\" cy=\"0\" r=\"3\" /><text class=\"lab lft\" transform=\"translate(-3 -7.0)\">4</text></g><path class=\"edge\" d=\"M 0 0 V -40.7739 H 26.25\" /><circle class=\"sym\" cx=\"0\" cy=\"0\" r=\"3\" /><text class=\"lab lft\" transform=\"translate(-3 -7.0)\">5</text></g><circle class=\"sym\" cx=\"0\" cy=\"0\" r=\"3\" /><text class=\"lab\" transform=\"translate(0 -11)\">6</text></g></g></g></g></g></svg>"
      ],
      "text/plain": [
       "'<svg baseProfile=\"full\" height=\"200\" version=\"1.1\" width=\"200\" xmlns=\"http://www.w3.org/2000/svg\" xmlns:ev=\"http://www.w3.org/2001/xml-events\" xmlns:xlink=\"http://www.w3.org/1999/xlink\"><defs><style type=\"text/css\"><![CDATA[.background path {fill: #808080; fill-opacity: 0}.background path:nth-child(odd) {fill-opacity: .1}.axes {font-size: 14px}.x-axis .tick .lab {font-weight: bold; dominant-baseline: hanging}.axes, .tree {font-size: 14px; text-anchor: middle}.axes line, .edge {stroke: black; fill: none}.y-axis .grid {stroke: #FAFAFA}.node > .sym {fill: black; stroke: none}.site > .sym {stroke: black}.mut text {fill: red; font-style: italic}.mut.extra text {fill: hotpink}.mut line {fill: none; stroke: none}.mut .sym {fill: none; stroke: red}.mut.extra .sym {stroke: hotpink}.node .mut .sym {stroke-width: 1.5px}.tree text, .tree-sequence text {dominant-baseline: central}.plotbox .lab.lft {text-anchor: end}.plotbox .lab.rgt {text-anchor: start}.node.p0 > .sym {fill: red }.node.p1 > .sym {fill: blue }]]></style></defs><g class=\"tree-sequence\"><g class=\"background\"><path d=\"M20,0 l160,0 l0,138.2 l0,25 l0,5 l-160,0 l0,-5 l0,-25 l0,-138.2z\" /></g><g class=\"axes\"><g class=\"x-axis\"><g transform=\"translate(100 200)\"><text class=\"lab\" text-anchor=\"middle\" transform=\"translate(0 -11)\">Genome position</text></g><line x1=\"20\" x2=\"180\" y1=\"163.2\" y2=\"163.2\" /><g class=\"ticks\"><g class=\"tick\" transform=\"translate(20 163.2)\"><line x1=\"0\" x2=\"0\" y1=\"0\" y2=\"5\" /><g transform=\"translate(0 6)\"><text class=\"lab\">0</text></g></g><g class=\"tick\" transform=\"translate(180 163.2)\"><line x1=\"0\" x2=\"0\" y1=\"0\" y2=\"5\" /><g transform=\"translate(0 6)\"><text class=\"lab\">1000</text></g></g></g></g></g><g class=\"plotbox trees\"><g class=\"tree t0\" transform=\"translate(20 0)\"><g class=\"plotbox\"><g class=\"c2 node n6 p1 root\" transform=\"translate(98.75 26.8)\"><g class=\"a6 i1 leaf node n3 p1 sample\" transform=\"translate(26.25 94.6)\"><path class=\"edge\" d=\"M 0 0 V -94.6 H -26.25\" /><rect class=\"sym\" height=\"6\" width=\"6\" x=\"-3\" y=\"-3\" /><text class=\"lab\" transform=\"translate(0 11)\">3</text></g><g class=\"a6 c2 node n5 p1\" transform=\"translate(-26.25 40.7739)\"><g class=\"a5 i0 leaf node n1 p0 sample\" transform=\"translate(22.5 53.8261)\"><path class=\"edge\" d=\"M 0 0 V -53.8261 H -22.5\" /><rect class=\"sym\" height=\"6\" width=\"6\" x=\"-3\" y=\"-3\" /><text class=\"lab\" transform=\"translate(0 11)\">1</text></g><g class=\"a5 c2 node n4 p0\" transform=\"translate(-22.5 28.0095)\"><g class=\"a4 i0 leaf node n0 p0 sample\" transform=\"translate(-15 25.8166)\"><path class=\"edge\" d=\"M 0 0 V -25.8166 H 15\" /><rect class=\"sym\" height=\"6\" width=\"6\" x=\"-3\" y=\"-3\" /><text class=\"lab\" transform=\"translate(0 11)\">0</text></g><g class=\"a4 i1 leaf node n2 p1 sample\" transform=\"translate(15 25.8166)\"><path class=\"edge\" d=\"M 0 0 V -25.8166 H -15\" /><rect class=\"sym\" height=\"6\" width=\"6\" x=\"-3\" y=\"-3\" /><text class=\"lab\" transform=\"translate(0 11)\">2</text></g><path class=\"edge\" d=\"M 0 0 V -28.0095 H 22.5\" /><circle class=\"sym\" cx=\"0\" cy=\"0\" r=\"3\" /><text class=\"lab lft\" transform=\"translate(-3 -7.0)\">4</text></g><path class=\"edge\" d=\"M 0 0 V -40.7739 H 26.25\" /><circle class=\"sym\" cx=\"0\" cy=\"0\" r=\"3\" /><text class=\"lab lft\" transform=\"translate(-3 -7.0)\">5</text></g><circle class=\"sym\" cx=\"0\" cy=\"0\" r=\"3\" /><text class=\"lab\" transform=\"translate(0 -11)\">6</text></g></g></g></g></g></svg>'"
      ]
     },
     "execution_count": 6,
     "metadata": {
      "filenames": {
       "image/svg+xml": "/home/runner/work/tutorials/tutorials/_build/jupyter_execute/demography_11_0.svg"
      }
     },
     "output_type": "execute_result"
    }
   ],
   "source": [
    "colour_map = {0:\"red\", 1:\"blue\"}\n",
    "styles = [f\".node.p{p} > .sym {{fill: {col} }}\" for p, col in colour_map.items()]\n",
    "# The code below will only work in a Jupyter notebook with SVG output enabled.\n",
    "ts.draw_svg(style=\"\".join(styles))"
   ]
  },
  {
   "cell_type": "markdown",
   "id": "b68f3fdb",
   "metadata": {},
   "source": [
    "More coalescences are happening in population 1 than population 0.\n",
    "This makes sense given that population 1 is specifying more migrants to\n",
    "population 0 than vice versa.\n",
    "\n",
    "### Changing migration rates\n",
    "\n",
    "We can change any of the migration rates at any time in the simulation.\n",
    "To do this, we just need to use the {meth}`msprime.Demography.add_migration_rate_change` method on our {class}`msprime.Demography` object,\n",
    "specifying the populations whose migration rates are to be changed,\n",
    "the time of the change and the new migration rate.\n",
    "\n",
    "For instance, say we wanted to specify that in each generation prior to\n",
    "time = 100, 1% of population 0 consisted of migrants from population 1."
   ]
  },
  {
   "cell_type": "code",
   "execution_count": 7,
   "id": "bc9d47e9",
   "metadata": {},
   "outputs": [
    {
     "data": {
      "text/html": [
       "<div style=\"margin-left:20px\"><div><style scoped=\"\">\n",
       "            .tskit-table thead tr th:only-of-type {vertical-align: middle;}\n",
       "            .tskit-table thead tr th {text-align: center;vertical-align: top;}\n",
       "            .tskit-table tbody td {text-align: right;padding: 0.5em 0.5em;}\n",
       "            .tskit-table tbody th {padding: 0.5em 0.5em;}\n",
       "        </style><b>Populations (2)</b><table border=\"1\" class=\"tskit-table\"><thead><tr><th>id</th><th>name</th><th>description</th><th>initial_size</th><th>growth_rate</th><th>default_sampling_time</th><th>extra_metadata</th></tr></thead><tbody><tr><td>0</td><td>A</td><td>Plotted in red.</td><td>500.0</td><td>0</td><td>0</td><td>{}</td></tr><tr><td>1</td><td>B</td><td>Plotted in blue.</td><td>500.0</td><td>0</td><td>0</td><td>{}</td></tr></tbody></table></div><div><style scoped=\"\">\n",
       "            .tskit-table thead tr th:only-of-type {vertical-align: middle;}\n",
       "            .tskit-table thead tr th {text-align: center;vertical-align: top;}\n",
       "            .tskit-table tbody td {text-align: right;padding: 0.5em 0.5em;}\n",
       "            .tskit-table tbody th {padding: 0.5em 0.5em;}\n",
       "        </style><b>Migration matrix</b><table border=\"1\" class=\"tskit-table\"><thead><tr><th></th><th>A</th><th>B</th></tr></thead><tbody><tr><td>A</td><td>0</td><td title='Backwards in time migration rate from population A to B = 0.05 per generation.\n",
       "Forwards in time, this is the expected number of migrants moving from B to A per\n",
       "generation, divided by the size of A.'>0.05</td></tr><tr><td>B</td><td title='Backwards in time migration rate from population B to A = 0.02 per generation.\n",
       "Forwards in time, this is the expected number of migrants moving from A to B per\n",
       "generation, divided by the size of B.'>0.02</td><td>0</td></tr></tbody></table></div><div><style scoped=\"\">\n",
       "            .tskit-table thead tr th:only-of-type {vertical-align: middle;}\n",
       "            .tskit-table thead tr th {text-align: center;vertical-align: top;}\n",
       "            .tskit-table tbody td {text-align: right;padding: 0.5em 0.5em;}\n",
       "            .tskit-table tbody th {padding: 0.5em 0.5em;}\n",
       "        </style><b>Events (1)</b><table border=\"1\" class=\"tskit-table\"><thead><tr><th>time</th><th>type</th><th>parameters</th><th>effect</th></tr></thead><tbody><tr><td>100</td><td><a href='https://tskit.dev/msprime/docs/latest/api.html#msprime.Demography.add_migration_rate_change'>Migration rate change</a></td><td>source=0, dest=1, rate=0.01</td><td>Backwards-time migration rate from 0 to 1 → 0.01</td></tr></tbody></table></div></div>"
      ],
      "text/plain": [
       "Demography(populations=[Population(initial_size=500, growth_rate=0, name='A', description='Plotted in red.', extra_metadata={}, default_sampling_time=None, initially_active=None, id=0), Population(initial_size=500, growth_rate=0, name='B', description='Plotted in blue.', extra_metadata={}, default_sampling_time=None, initially_active=None, id=1)], events=[MigrationRateChange(time=100, rate=0.01, source=0, dest=1)], migration_matrix=array([[0.  , 0.05],\n",
       "       [0.02, 0.  ]]))"
      ]
     },
     "execution_count": 7,
     "metadata": {},
     "output_type": "execute_result"
    }
   ],
   "source": [
    "dem.add_migration_rate_change(time=100, rate=0.01, source=0, dest=1)\n",
    "dem"
   ]
  },
  {
   "cell_type": "markdown",
   "id": "a94455aa",
   "metadata": {},
   "source": [
    "The output above shows that we have successfully added our first demographic event to our {class}`msprime.Demography` object, a migration rate change.\n",
    "We are now ready to simulate:"
   ]
  },
  {
   "cell_type": "code",
   "execution_count": 8,
   "id": "305ccb4a",
   "metadata": {},
   "outputs": [
    {
     "data": {
      "text/html": [
       "\n",
       "<div>\n",
       "  <style>\n",
       "    .tskit-table thead tr th {text-align: left;padding: 0.5em 0.5em;}\n",
       "    .tskit-table tbody tr td {padding: 0.5em 0.5em;}\n",
       "    .tskit-table tbody tr td:first-of-type {text-align: left;}\n",
       "    .tskit-details-label {vertical-align: top; padding-right:5px;}\n",
       "    .tskit-table-set {display: inline-flex;flex-wrap: wrap;margin: -12px 0 0 -12px;width: calc(100% + 12px);}\n",
       "    .tskit-table-set-table {margin: 12px 0 0 12px;}\n",
       "    details {display: inline-block;}\n",
       "    summary {cursor: pointer; outline: 0; display: list-item;}\n",
       "  </style>\n",
       "  <div class=\"tskit-table-set\">\n",
       "    <div class=\"tskit-table-set-table\">\n",
       "      <table class=\"tskit-table\">\n",
       "        <thead>\n",
       "          <tr>\n",
       "            <th style=\"padding:0;line-height:21px;\">\n",
       "              <img style=\"height: 32px;display: inline-block;padding: 3px 5px 3px 0;\" src=\"https://raw.githubusercontent.com/tskit-dev/administrative/main/tskit_logo.svg\"/>\n",
       "              <a target=\"_blank\" href=\"https://tskit.dev/tskit/docs/latest/python-api.html#the-treesequence-class\"> Tree Sequence </a>\n",
       "            </th>\n",
       "          </tr>\n",
       "        </thead>\n",
       "        <tbody>\n",
       "          <tr><td>Trees</td><td>1</td></tr>\n",
       "          <tr><td>Sequence Length</td><td>1000.0</td></tr>\n",
       "          <tr><td>Time Units</td><td>generations</td></tr>\n",
       "          <tr><td>Sample Nodes</td><td>4</td></tr>\n",
       "          <tr><td>Total Size</td><td>2.3 KiB</td></tr>\n",
       "          <tr>\n",
       "            <td>Metadata</td><td style=\"text-align: left;\">No Metadata</td></tr>\n",
       "        </tbody>\n",
       "      </table>\n",
       "    </div>\n",
       "    <div class=\"tskit-table-set-table\">\n",
       "      <table class=\"tskit-table\">\n",
       "        <thead>\n",
       "          <tr>\n",
       "            <th style=\"line-height:21px;\">Table</th>\n",
       "            <th>Rows</th>\n",
       "            <th>Size</th>\n",
       "            <th>Has Metadata</th>\n",
       "          </tr>\n",
       "        </thead>\n",
       "        <tbody>\n",
       "\n",
       "      <tr>\n",
       "        <td>Edges</td>\n",
       "          <td>6</td>\n",
       "          <td>200 Bytes</td>\n",
       "          <td style=\"text-align: center;\">\n",
       "\n",
       "          </td>\n",
       "        </tr>\n",
       "\n",
       "      <tr>\n",
       "        <td>Individuals</td>\n",
       "          <td>2</td>\n",
       "          <td>80 Bytes</td>\n",
       "          <td style=\"text-align: center;\">\n",
       "\n",
       "          </td>\n",
       "        </tr>\n",
       "\n",
       "      <tr>\n",
       "        <td>Migrations</td>\n",
       "          <td>0</td>\n",
       "          <td>8 Bytes</td>\n",
       "          <td style=\"text-align: center;\">\n",
       "\n",
       "          </td>\n",
       "        </tr>\n",
       "\n",
       "      <tr>\n",
       "        <td>Mutations</td>\n",
       "          <td>0</td>\n",
       "          <td>16 Bytes</td>\n",
       "          <td style=\"text-align: center;\">\n",
       "\n",
       "          </td>\n",
       "        </tr>\n",
       "\n",
       "      <tr>\n",
       "        <td>Nodes</td>\n",
       "          <td>7</td>\n",
       "          <td>204 Bytes</td>\n",
       "          <td style=\"text-align: center;\">\n",
       "\n",
       "          </td>\n",
       "        </tr>\n",
       "\n",
       "      <tr>\n",
       "        <td>Populations</td>\n",
       "          <td>2</td>\n",
       "          <td>288 Bytes</td>\n",
       "          <td style=\"text-align: center;\">\n",
       "            ✅\n",
       "          </td>\n",
       "        </tr>\n",
       "\n",
       "      <tr>\n",
       "        <td>Provenances</td>\n",
       "          <td>1</td>\n",
       "          <td>1.5 KiB</td>\n",
       "          <td style=\"text-align: center;\">\n",
       "\n",
       "          </td>\n",
       "        </tr>\n",
       "\n",
       "      <tr>\n",
       "        <td>Sites</td>\n",
       "          <td>0</td>\n",
       "          <td>16 Bytes</td>\n",
       "          <td style=\"text-align: center;\">\n",
       "\n",
       "          </td>\n",
       "        </tr>\n",
       "\n",
       "        </tbody>\n",
       "      </table>\n",
       "    </div>\n",
       "  </div>\n",
       "</div>\n"
      ],
      "text/plain": [
       "<tskit.trees.TreeSequence at 0x7ff21c0194f0>"
      ]
     },
     "execution_count": 8,
     "metadata": {},
     "output_type": "execute_result"
    }
   ],
   "source": [
    "ts = msprime.sim_ancestry(\n",
    "  samples={\"A\" : 1, \"B\" : 1},\n",
    "  demography=dem,\n",
    "  sequence_length=1000,\n",
    "  random_seed=63461,\n",
    "  recombination_rate=1e-7)\n",
    "ts"
   ]
  },
  {
   "cell_type": "markdown",
   "id": "c1f0c37b",
   "metadata": {},
   "source": [
    "### Admixture and population splits\n",
    "\n",
    "#### Admixture\n",
    "\n",
    "It is also easy to specify admixture and divergence events with msprime.\n",
    "Suppose we wanted to specify our demography so that 50 generations ago,\n",
    "30% of population 0 was a migrant from population 1:\n",
    "\n",
    "```{todo}\n",
    "make a diagram showing this\n",
    "```\n",
    "\n",
    "We can do this by using the {meth}`msprime.Demography.add_admixture` method on our demography object.\n",
    "We must supply a list of ancestral populations participating in the admixture, and a list of the same size specifying the proportions of migrants from each of these populations."
   ]
  },
  {
   "cell_type": "code",
   "execution_count": 9,
   "id": "c11e0997",
   "metadata": {},
   "outputs": [],
   "source": [
    "dem = msprime.Demography()\n",
    "dem.add_population(name=\"AncestralPop0\", description=\"Plotted in red.\", initial_size=500, growth_rate=0)\n",
    "dem.add_population(name=\"AncestralPop1\", description=\"Plotted in blue.\", initial_size=500, growth_rate=0)\n",
    "dem.add_population(name=\"AdmixedPop\", description=\"Plotted in green.\", initial_size=500)\n",
    "dem.set_migration_rate(source=0, dest=1, rate=0.05)\n",
    "dem.set_migration_rate(source=1, dest=0, rate=0.02)\n",
    "\n",
    "# Specify admixture event.\n",
    "dem.add_admixture(time=50, derived=\"AdmixedPop\", ancestral=[\"AncestralPop0\", \"AncestralPop1\"], proportions=[0.3, 0.7]);"
   ]
  },
  {
   "cell_type": "markdown",
   "id": "0b113d5b",
   "metadata": {},
   "source": [
    "This simulates a sample where all nodes (ancestral haplotypes) are from the admixed population up until the time of the admixture event, and before this, all nodes are from one of the ancestral populations."
   ]
  },
  {
   "cell_type": "code",
   "execution_count": 10,
   "id": "1119b0a5",
   "metadata": {},
   "outputs": [
    {
     "name": "stdout",
     "output_type": "stream",
     "text": [
      "Populations of nodes from time < 50:\n",
      "[2, 2, 2, 2, 2, 2, 2, 2, 2, 2, 2, 2, 2, 2, 2]\n",
      "Populations of nodes from time >= 50:\n",
      "[1, 1, 1, 1, 0, 1, 1, 1, 0, 1]\n"
     ]
    }
   ],
   "source": [
    "ts = msprime.sim_ancestry(\n",
    "  samples={\"AncestralPop0\" : 0, \"AncestralPop1\" : 0, \"AdmixedPop\" : 6},\n",
    "  demography=dem,\n",
    "  sequence_length=1000,\n",
    "  random_seed=63,\n",
    "  recombination_rate=1e-7)\n",
    "\n",
    "print(\"Populations of nodes from time < 50:\")\n",
    "print([u.population for u in ts.nodes() if u.time < 50])\n",
    "print(\"Populations of nodes from time >= 50:\")\n",
    "print([u.population for u in ts.nodes() if u.time >= 50])"
   ]
  },
  {
   "cell_type": "markdown",
   "id": "2d5e9397",
   "metadata": {},
   "source": [
    "Admixtures and population splits are special types of demographic events that affect the *state* of some of the defined populations, in addition to moving lineages between populations.\n",
    "The output below shows that by adding the admixture event, we are triggering a change in the state of ``AdmixedPop`` at time = 50;\n",
    "the population is active at the start of the simulation, but becomes inactive for all steps of the simulation beyond time 50."
   ]
  },
  {
   "cell_type": "code",
   "execution_count": 11,
   "id": "8edafdaf",
   "metadata": {},
   "outputs": [
    {
     "data": {
      "text/html": [
       "<div style=\"margin-left:20px\"><div><style scoped=\"\">\n",
       "            .tskit-table thead tr th:only-of-type {vertical-align: middle;}\n",
       "            .tskit-table thead tr th {text-align: center;vertical-align: top;}\n",
       "            .tskit-table tbody td {text-align: right;padding: 0.5em 0.5em;}\n",
       "            .tskit-table tbody th {padding: 0.5em 0.5em;}\n",
       "        </style><b>Populations (3)</b><table border=\"1\" class=\"tskit-table\"><thead><tr><th>id</th><th>name</th><th>description</th><th>initial_size</th><th>growth_rate</th><th>default_sampling_time</th><th>extra_metadata</th></tr></thead><tbody><tr><td>0</td><td>AncestralPop0</td><td>Plotted in red.</td><td>500.0</td><td>0</td><td>0</td><td>{}</td></tr><tr><td>1</td><td>AncestralPop1</td><td>Plotted in blue.</td><td>500.0</td><td>0</td><td>0</td><td>{}</td></tr><tr><td>2</td><td>AdmixedPop</td><td>Plotted in green.</td><td>500.0</td><td>0</td><td>0</td><td>{}</td></tr></tbody></table></div><div><style scoped=\"\">\n",
       "            .tskit-table thead tr th:only-of-type {vertical-align: middle;}\n",
       "            .tskit-table thead tr th {text-align: center;vertical-align: top;}\n",
       "            .tskit-table tbody td {text-align: right;padding: 0.5em 0.5em;}\n",
       "            .tskit-table tbody th {padding: 0.5em 0.5em;}\n",
       "        </style><b>Migration matrix</b><table border=\"1\" class=\"tskit-table\"><thead><tr><th></th><th>AncestralPop0</th><th>AncestralPop1</th><th>AdmixedPop</th></tr></thead><tbody><tr><td>AncestralPop0</td><td>0</td><td title='Backwards in time migration rate from population AncestralPop0 to AncestralPop1\n",
       "= 0.05 per generation. Forwards in time, this is the expected number of migrants\n",
       "moving from AncestralPop1 to AncestralPop0 per generation, divided by the size\n",
       "of AncestralPop0.'>0.05</td><td title='Backwards in time migration rate from population AncestralPop0 to AdmixedPop =\n",
       "0.0 per generation. Forwards in time, this is the expected number of migrants\n",
       "moving from AdmixedPop to AncestralPop0 per generation, divided by the size of\n",
       "AncestralPop0.'>0</td></tr><tr><td>AncestralPop1</td><td title='Backwards in time migration rate from population AncestralPop1 to AncestralPop0\n",
       "= 0.02 per generation. Forwards in time, this is the expected number of migrants\n",
       "moving from AncestralPop0 to AncestralPop1 per generation, divided by the size\n",
       "of AncestralPop1.'>0.02</td><td>0</td><td title='Backwards in time migration rate from population AncestralPop1 to AdmixedPop =\n",
       "0.0 per generation. Forwards in time, this is the expected number of migrants\n",
       "moving from AdmixedPop to AncestralPop1 per generation, divided by the size of\n",
       "AncestralPop1.'>0</td></tr><tr><td>AdmixedPop</td><td title='Backwards in time migration rate from population AdmixedPop to AncestralPop0 =\n",
       "0.0 per generation. Forwards in time, this is the expected number of migrants\n",
       "moving from AncestralPop0 to AdmixedPop per generation, divided by the size of\n",
       "AdmixedPop.'>0</td><td title='Backwards in time migration rate from population AdmixedPop to AncestralPop1 =\n",
       "0.0 per generation. Forwards in time, this is the expected number of migrants\n",
       "moving from AncestralPop1 to AdmixedPop per generation, divided by the size of\n",
       "AdmixedPop.'>0</td><td>0</td></tr></tbody></table></div><div><style scoped=\"\">\n",
       "            .tskit-table thead tr th:only-of-type {vertical-align: middle;}\n",
       "            .tskit-table thead tr th {text-align: center;vertical-align: top;}\n",
       "            .tskit-table tbody td {text-align: right;padding: 0.5em 0.5em;}\n",
       "            .tskit-table tbody th {padding: 0.5em 0.5em;}\n",
       "        </style><b>Events (1)</b><table border=\"1\" class=\"tskit-table\"><thead><tr><th>time</th><th>type</th><th>parameters</th><th>effect</th></tr></thead><tbody><tr><td>50</td><td><a href='https://tskit.dev/msprime/docs/latest/api.html#msprime.Demography.add_admixture'>Admixture</a></td><td>derived=AdmixedPop ancestral=[AncestralPop0, AncestralPop1] proportions=[0.30, 0.70]</td><td>Moves all lineages from admixed population &#x27;AdmixedPop&#x27; to ancestral populations. Lineages move to &#x27;AncestralPop0&#x27; with proba 0.3; &#x27;AncestralPop1&#x27; with proba 0.7. Set &#x27;AdmixedPop&#x27; to inactive, and all migration rates to and from &#x27;AdmixedPop&#x27; to zero.</td></tr></tbody></table></div></div>"
      ],
      "text/plain": [
       "Demography(populations=[Population(initial_size=500, growth_rate=0, name='AncestralPop0', description='Plotted in red.', extra_metadata={}, default_sampling_time=None, initially_active=None, id=0), Population(initial_size=500, growth_rate=0, name='AncestralPop1', description='Plotted in blue.', extra_metadata={}, default_sampling_time=None, initially_active=None, id=1), Population(initial_size=500, growth_rate=0, name='AdmixedPop', description='Plotted in green.', extra_metadata={}, default_sampling_time=None, initially_active=None, id=2)], events=[Admixture(time=50, derived='AdmixedPop', ancestral=['AncestralPop0', 'AncestralPop1'], proportions=[0.3, 0.7])], migration_matrix=array([[0.  , 0.05, 0.  ],\n",
       "       [0.02, 0.  , 0.  ],\n",
       "       [0.  , 0.  , 0.  ]]))"
      ]
     },
     "execution_count": 11,
     "metadata": {},
     "output_type": "execute_result"
    }
   ],
   "source": [
    "dem"
   ]
  },
  {
   "cell_type": "markdown",
   "id": "cb4f9e2c",
   "metadata": {},
   "source": [
    "This means that, for example, adding any demographic events that affect ``AdmixedPop`` beyond this time will produce an error:"
   ]
  },
  {
   "cell_type": "code",
   "execution_count": 12,
   "id": "1d6d76ae",
   "metadata": {},
   "outputs": [],
   "source": [
    "dem.add_migration_rate_change(time=80, rate=0.01, source=\"AncestralPop0\", dest=\"AdmixedPop\");\n",
    "# ts = msprime.sim_ancestry(\n",
    "#   samples={\"AncestralPop0\" : 0, \"AncestralPop1\" : 0, \"AdmixedPop\" : 6},\n",
    "#   demography=dem,\n",
    "#   sequence_length=1000,\n",
    "#   random_seed=63,\n",
    "#   recombination_rate=1e-7)"
   ]
  },
  {
   "cell_type": "markdown",
   "id": "05d8c5c9",
   "metadata": {},
   "source": [
    "To read more about the way that msprime treats the life cycle of populations, see [here](https://tskit.dev/msprime/docs/latest/demography.html#sec-demography-populations-life-cycle).\n",
    "\n",
    "#### Population splits\n",
    "\n",
    "We can also simulate population divergences with msprime.\n",
    "Suppose we want to model a situation where all lineages from multiple populations are migrants from a single ancestral population at a single point in time.\n",
    "\n",
    "```{todo}\n",
    "make a diagram showing this\n",
    "```\n",
    "\n",
    "We'll specify this with the {meth}`msprime.Demography.add_population_split` method.\n",
    "We need to know the time of the event, and the IDs or labels of the derived and ancestral populations participating in the divergence event.\n",
    "Notice that in this case, we do not need to provide proportions as we did in the case of admixture.\n",
    "This makes sense when you think about the fact that msprime simulates backwards-in-time: all lineages in all of the derived populations originate from the ancestral population in a split event.\n",
    "Any differences in 'quantities' of migrants must be modelled by sizes of the derived populations at the time of the split."
   ]
  },
  {
   "cell_type": "code",
   "execution_count": 13,
   "id": "0e92d97f",
   "metadata": {},
   "outputs": [
    {
     "data": {
      "text/html": [
       "<div style=\"margin-left:20px\"><div><style scoped=\"\">\n",
       "            .tskit-table thead tr th:only-of-type {vertical-align: middle;}\n",
       "            .tskit-table thead tr th {text-align: center;vertical-align: top;}\n",
       "            .tskit-table tbody td {text-align: right;padding: 0.5em 0.5em;}\n",
       "            .tskit-table tbody th {padding: 0.5em 0.5em;}\n",
       "        </style><b>Populations (3)</b><table border=\"1\" class=\"tskit-table\"><thead><tr><th>id</th><th>name</th><th>description</th><th>initial_size</th><th>growth_rate</th><th>default_sampling_time</th><th>extra_metadata</th></tr></thead><tbody><tr><td>0</td><td>A</td><td>Plotted in red.</td><td>500.0</td><td>0</td><td>0</td><td>{}</td></tr><tr><td>1</td><td>B</td><td>Plotted in blue.</td><td>500.0</td><td>0</td><td>0</td><td>{}</td></tr><tr><td>2</td><td>AncestralPopulation</td><td>Plotted in green.</td><td>500.0</td><td>0</td><td>1e+02</td><td>{}</td></tr></tbody></table></div><div><style scoped=\"\">\n",
       "            .tskit-table thead tr th:only-of-type {vertical-align: middle;}\n",
       "            .tskit-table thead tr th {text-align: center;vertical-align: top;}\n",
       "            .tskit-table tbody td {text-align: right;padding: 0.5em 0.5em;}\n",
       "            .tskit-table tbody th {padding: 0.5em 0.5em;}\n",
       "        </style><b>Migration matrix (all zero)</b><table border=\"1\" class=\"tskit-table\"><thead><tr></tr></thead><tbody></tbody></table></div><div><style scoped=\"\">\n",
       "            .tskit-table thead tr th:only-of-type {vertical-align: middle;}\n",
       "            .tskit-table thead tr th {text-align: center;vertical-align: top;}\n",
       "            .tskit-table tbody td {text-align: right;padding: 0.5em 0.5em;}\n",
       "            .tskit-table tbody th {padding: 0.5em 0.5em;}\n",
       "        </style><b>Events (1)</b><table border=\"1\" class=\"tskit-table\"><thead><tr><th>time</th><th>type</th><th>parameters</th><th>effect</th></tr></thead><tbody><tr><td>100</td><td><a href='https://tskit.dev/msprime/docs/latest/api.html#msprime.Demography.add_population_split'>Population Split</a></td><td>derived=[A, B], ancestral=AncestralPopulation</td><td>Moves all lineages from derived populations &#x27;A&#x27; and &#x27;B&#x27; to the ancestral &#x27;AncestralPopulation&#x27; population. Also set the derived populations to inactive, and all migration rates to and from the derived populations to zero.</td></tr></tbody></table></div></div>"
      ],
      "text/plain": [
       "Demography(populations=[Population(initial_size=500, growth_rate=0, name='A', description='Plotted in red.', extra_metadata={}, default_sampling_time=None, initially_active=None, id=0), Population(initial_size=500, growth_rate=0, name='B', description='Plotted in blue.', extra_metadata={}, default_sampling_time=None, initially_active=None, id=1), Population(initial_size=500, growth_rate=0, name='AncestralPopulation', description='Plotted in green.', extra_metadata={}, default_sampling_time=100, initially_active=False, id=2)], events=[PopulationSplit(time=100, derived=['A', 'B'], ancestral='AncestralPopulation')], migration_matrix=array([[0., 0., 0.],\n",
       "       [0., 0., 0.],\n",
       "       [0., 0., 0.]]))"
      ]
     },
     "execution_count": 13,
     "metadata": {},
     "output_type": "execute_result"
    }
   ],
   "source": [
    "dem = msprime.Demography()\n",
    "dem.add_population(name=\"A\", description=\"Plotted in red.\", initial_size=500)\n",
    "dem.add_population(name=\"B\", description=\"Plotted in blue.\",initial_size=500)\n",
    "dem.add_population(name=\"AncestralPopulation\", description=\"Plotted in green.\", initial_size=500)\n",
    "\n",
    "# Add the population split.\n",
    "dem.add_population_split(time=100, derived=[\"A\",\"B\"], ancestral=\"AncestralPopulation\")\n",
    "dem"
   ]
  },
  {
   "cell_type": "markdown",
   "id": "26cf2192",
   "metadata": {},
   "source": [
    "Population splits will also modify the state of each of the derived populations,\n",
    "changing them from active to inactive at the time of the split."
   ]
  },
  {
   "cell_type": "code",
   "execution_count": 14,
   "id": "62dff40c",
   "metadata": {},
   "outputs": [
    {
     "name": "stdout",
     "output_type": "stream",
     "text": [
      "Populations of nodes from time < 100:\n",
      "[0, 0, 0, 0, 0, 0, 1, 1, 1, 1, 1, 1, 1, 0]\n",
      "Populations of nodes from time >= 100:\n",
      "[2, 2, 2, 2, 2, 2, 2, 2, 2, 2]\n"
     ]
    }
   ],
   "source": [
    "ts = msprime.sim_ancestry(\n",
    "  samples={\"A\" : 3, \"B\" : 3, \"AncestralPopulation\" : 0},\n",
    "  demography=dem,\n",
    "  sequence_length=1000,\n",
    "  random_seed=63,\n",
    "  recombination_rate=1e-7)\n",
    "\n",
    "print(\"Populations of nodes from time < 100:\")\n",
    "print([u.population for u in ts.nodes() if u.time < 100])\n",
    "print(\"Populations of nodes from time >= 100:\")\n",
    "print([u.population for u in ts.nodes() if u.time >= 100])"
   ]
  },
  {
   "cell_type": "markdown",
   "id": "f61a4139",
   "metadata": {},
   "source": [
    "### Mass migrations\n",
    "\n",
    "If you used any of versions of msprime prior to 1.0,\n",
    "you may be familiar with mass migration events.\n",
    "These are used to specify one-off events in which some fraction of a population moves into another population, and can be supplied to a {class}`msprime.Demography` object using the {meth}`msprime.Demography.add_mass_migration` method.\n",
    "\n",
    "```{warning}\n",
    "Unlike {meth}`msprime.Demography.add_admixture` and {meth}`msprime.Demography.add_population_split` mentioned above, {meth}`msprime.Demography.add_mass_migration` **does not** change any population states or migration rates. We **strongly recommend** that you use the more specialised methods to model admixture and divergence events -- it is both simpler and safer!\n",
    "```\n",
    "You'll need to provide the time of the mass migration in generations,\n",
    "the ID of the source and destination populations,\n",
    "and a migration proportion.\n",
    "\n",
    "![](_static/tute-mass-migration.png)\n",
    "\n",
    "For example, the following specifies that 50 generations ago,\n",
    "30% of population 0 was a migrant from population 1."
   ]
  },
  {
   "cell_type": "code",
   "execution_count": 15,
   "id": "1eac8fb2",
   "metadata": {},
   "outputs": [
    {
     "data": {
      "text/html": [
       "<div style=\"margin-left:20px\"><div><style scoped=\"\">\n",
       "            .tskit-table thead tr th:only-of-type {vertical-align: middle;}\n",
       "            .tskit-table thead tr th {text-align: center;vertical-align: top;}\n",
       "            .tskit-table tbody td {text-align: right;padding: 0.5em 0.5em;}\n",
       "            .tskit-table tbody th {padding: 0.5em 0.5em;}\n",
       "        </style><b>Populations (2)</b><table border=\"1\" class=\"tskit-table\"><thead><tr><th>id</th><th>name</th><th>description</th><th>initial_size</th><th>growth_rate</th><th>default_sampling_time</th><th>extra_metadata</th></tr></thead><tbody><tr><td>0</td><td>A</td><td>Plotted in red.</td><td>500.0</td><td>0</td><td>0</td><td>{}</td></tr><tr><td>1</td><td>B</td><td>Plotted in blue.</td><td>500.0</td><td>0</td><td>0</td><td>{}</td></tr></tbody></table></div><div><style scoped=\"\">\n",
       "            .tskit-table thead tr th:only-of-type {vertical-align: middle;}\n",
       "            .tskit-table thead tr th {text-align: center;vertical-align: top;}\n",
       "            .tskit-table tbody td {text-align: right;padding: 0.5em 0.5em;}\n",
       "            .tskit-table tbody th {padding: 0.5em 0.5em;}\n",
       "        </style><b>Migration matrix</b><table border=\"1\" class=\"tskit-table\"><thead><tr><th></th><th>A</th><th>B</th></tr></thead><tbody><tr><td>A</td><td>0</td><td title='Backwards in time migration rate from population A to B = 0.05 per generation.\n",
       "Forwards in time, this is the expected number of migrants moving from B to A per\n",
       "generation, divided by the size of A.'>0.05</td></tr><tr><td>B</td><td title='Backwards in time migration rate from population B to A = 0.02 per generation.\n",
       "Forwards in time, this is the expected number of migrants moving from A to B per\n",
       "generation, divided by the size of B.'>0.02</td><td>0</td></tr></tbody></table></div><div><style scoped=\"\">\n",
       "            .tskit-table thead tr th:only-of-type {vertical-align: middle;}\n",
       "            .tskit-table thead tr th {text-align: center;vertical-align: top;}\n",
       "            .tskit-table tbody td {text-align: right;padding: 0.5em 0.5em;}\n",
       "            .tskit-table tbody th {padding: 0.5em 0.5em;}\n",
       "        </style><b>Events (1)</b><table border=\"1\" class=\"tskit-table\"><thead><tr><th>time</th><th>type</th><th>parameters</th><th>effect</th></tr></thead><tbody><tr><td>50</td><td><a href='https://tskit.dev/msprime/docs/latest/api.html#msprime.Demography.add_mass_migration'>Mass Migration</a></td><td>source=0, dest=1, proportion=0.3</td><td>Lineages currently in population 0 move to 1 with probability 0.3 (equivalent to individuals migrating from 1 to 0 forwards in time)</td></tr></tbody></table></div></div>"
      ],
      "text/plain": [
       "Demography(populations=[Population(initial_size=500, growth_rate=0, name='A', description='Plotted in red.', extra_metadata={}, default_sampling_time=None, initially_active=None, id=0), Population(initial_size=500, growth_rate=0, name='B', description='Plotted in blue.', extra_metadata={}, default_sampling_time=None, initially_active=None, id=1)], events=[MassMigration(time=50, source=0, dest=1, proportion=0.3)], migration_matrix=array([[0.  , 0.05],\n",
       "       [0.02, 0.  ]]))"
      ]
     },
     "execution_count": 15,
     "metadata": {},
     "output_type": "execute_result"
    }
   ],
   "source": [
    "dem = msprime.Demography()\n",
    "dem.add_population(name=\"A\", description=\"Plotted in red.\", initial_size=500)\n",
    "dem.add_population(name=\"B\", description=\"Plotted in blue.\",initial_size=500)\n",
    "dem.set_migration_rate(source=0, dest=1, rate=0.05)\n",
    "dem.set_migration_rate(source=1, dest=0, rate=0.02)\n",
    "\n",
    "# Add the mass migration.\n",
    "dem.add_mass_migration(time=50, source=0, dest=1, proportion=0.3)\n",
    "dem"
   ]
  },
  {
   "cell_type": "markdown",
   "id": "e2cb7b49",
   "metadata": {},
   "source": [
    "Note that these are viewed as backwards-in-time events,\n",
    "so ``source`` is the population that receives migrants from ``dest``."
   ]
  },
  {
   "cell_type": "code",
   "execution_count": 16,
   "id": "cbc50e58",
   "metadata": {},
   "outputs": [],
   "source": [
    "ts = msprime.sim_ancestry(\n",
    "  samples={\"A\" : 3, \"B\" : 3},\n",
    "  demography=dem,\n",
    "  sequence_length=1000,\n",
    "  random_seed=63461,\n",
    "  recombination_rate=1e-7)"
   ]
  },
  {
   "cell_type": "markdown",
   "id": "1b0078fe",
   "metadata": {},
   "source": [
    "## Changing population sizes or growth rates\n",
    "\n",
    "![](_static/tute-parameter-changes.png)\n",
    "\n",
    "We may wish to specify changes to rates of population growth,\n",
    "or sudden changes in population size at a particular time.\n",
    "Both of these can be specified by applying the {meth}`msprime.Demography.add_population_parameters_change`\n",
    "method to our {class}`msprime.Demography` object."
   ]
  },
  {
   "cell_type": "code",
   "execution_count": 17,
   "id": "02dc5d38",
   "metadata": {},
   "outputs": [],
   "source": [
    "dem = msprime.Demography()\n",
    "dem.add_population(name=\"A\", description=\"Plotted in red.\", initial_size=500)\n",
    "dem.add_population(name=\"B\", description=\"Plotted in blue.\",initial_size=500)\n",
    "dem.set_migration_rate(source=0, dest=1, rate=0.05)\n",
    "dem.set_migration_rate(source=1, dest=0, rate=0.02)\n",
    "\n",
    "# Bottleneck in Population 0 between 50 - 150 generations ago.\n",
    "dem.add_population_parameters_change(time=50, initial_size=250, population=0)\n",
    "dem.add_population_parameters_change(time=150, initial_size=500, population=0)\n",
    "\n",
    "# Exponential growth in Population 1 starting 50 generations ago.\n",
    "dem.add_population_parameters_change(time=100, growth_rate=0.01, population=1)\n",
    "\n",
    "# Sort events, since we've added some out of time order.\n",
    "dem.sort_events()\n",
    "\n",
    "# Simulate.\n",
    "ts = msprime.sim_ancestry(samples={\"A\" : 3, \"B\" : 3}, demography=dem, sequence_length=1000, random_seed=63461, recombination_rate=1e-7)"
   ]
  },
  {
   "cell_type": "markdown",
   "id": "dacf0e06",
   "metadata": {},
   "source": [
    "Note that because ``msprime`` simulates backwards-in-time, parameter changes must be\n",
    "interpreted backwards-in-time as well.\n",
    "For instance, the ``pop1_growth`` event in the example above\n",
    "specifies continual growth in the early history of population 1 up until 100\n",
    "generations in the past.\n",
    "\n",
    "## Census events\n",
    "\n",
    "There may be situations where you are particularly interested in the chromosomes that are ancestral to your simulated sample at a particular time.\n",
    "For instance, you might want to know how many different lineages are ancestral to your sample at some past time.\n",
    "Perhaps you are interested to know which populations these ancestors belonged to (ie. *local ancestry*).\n",
    "In both cases, msprime can help you by allowing you to add a *census* to your simulation at a particular time.\n",
    "This is done with the {meth}`msprime.Demography.add_census`\n",
    " method:"
   ]
  },
  {
   "cell_type": "code",
   "execution_count": 18,
   "id": "dbdc7613",
   "metadata": {},
   "outputs": [],
   "source": [
    "dem = msprime.Demography()\n",
    "dem.add_population(name=\"A\", initial_size=500)\n",
    "\n",
    "# Add a census at time 350.\n",
    "dem.add_census(time=350)\n",
    "\n",
    "# Simulate.\n",
    "ts = msprime.sim_ancestry(\n",
    "  samples={\"A\" : 2},\n",
    "  demography=dem,\n",
    "  sequence_length=1000,\n",
    "  random_seed=112,\n",
    "  recombination_rate=1e-7)"
   ]
  },
  {
   "cell_type": "markdown",
   "id": "28756382",
   "metadata": {},
   "source": [
    "The effect of the census is to add nodes onto each branch of the tree sequence at the census time."
   ]
  },
  {
   "cell_type": "code",
   "execution_count": 19,
   "id": "5bbb76ef",
   "metadata": {},
   "outputs": [
    {
     "name": "stdout",
     "output_type": "stream",
     "text": [
      "IDs of census nodes:\n",
      "[5, 6, 7]\n"
     ]
    },
    {
     "data": {
      "image/svg+xml": [
       "<svg baseProfile=\"full\" height=\"200\" version=\"1.1\" width=\"200\" xmlns=\"http://www.w3.org/2000/svg\" xmlns:ev=\"http://www.w3.org/2001/xml-events\" xmlns:xlink=\"http://www.w3.org/1999/xlink\"><defs><style type=\"text/css\"><![CDATA[.background path {fill: #808080; fill-opacity: 0}.background path:nth-child(odd) {fill-opacity: .1}.axes {font-size: 14px}.x-axis .tick .lab {font-weight: bold; dominant-baseline: hanging}.axes, .tree {font-size: 14px; text-anchor: middle}.axes line, .edge {stroke: black; fill: none}.y-axis .grid {stroke: #FAFAFA}.node > .sym {fill: black; stroke: none}.site > .sym {stroke: black}.mut text {fill: red; font-style: italic}.mut.extra text {fill: hotpink}.mut line {fill: none; stroke: none}.mut .sym {fill: none; stroke: red}.mut.extra .sym {stroke: hotpink}.node .mut .sym {stroke-width: 1.5px}.tree text, .tree-sequence text {dominant-baseline: central}.plotbox .lab.lft {text-anchor: end}.plotbox .lab.rgt {text-anchor: start}]]></style></defs><g class=\"tree-sequence\"><g class=\"background\"><path d=\"M20,0 l160,0 l0,138.2 l0,25 l0,5 l-160,0 l0,-5 l0,-25 l0,-138.2z\" /></g><g class=\"axes\"><g class=\"x-axis\"><g transform=\"translate(100 200)\"><text class=\"lab\" text-anchor=\"middle\" transform=\"translate(0 -11)\">Genome position</text></g><line x1=\"20\" x2=\"180\" y1=\"163.2\" y2=\"163.2\" /><g class=\"ticks\"><g class=\"tick\" transform=\"translate(20 163.2)\"><line x1=\"0\" x2=\"0\" y1=\"0\" y2=\"5\" /><g transform=\"translate(0 6)\"><text class=\"lab\">0</text></g></g><g class=\"tick\" transform=\"translate(180 163.2)\"><line x1=\"0\" x2=\"0\" y1=\"0\" y2=\"5\" /><g transform=\"translate(0 6)\"><text class=\"lab\">1000</text></g></g></g></g></g><g class=\"plotbox trees\"><g class=\"tree t0\" transform=\"translate(20 0)\"><g class=\"plotbox\"><g class=\"c2 node n9 p0 root\" transform=\"translate(80 26.8)\"><g class=\"a9 c1 node n5 p0\" transform=\"translate(30 55.9653)\"><g class=\"a5 c2 node n4 p0\" transform=\"translate(0.0 16.0141)\"><g class=\"a4 i0 leaf node n1 p0 sample\" transform=\"translate(-15 22.6206)\"><path class=\"edge\" d=\"M 0 0 V -22.6206 H 15\" /><rect class=\"sym\" height=\"6\" width=\"6\" x=\"-3\" y=\"-3\" /><text class=\"lab\" transform=\"translate(0 11)\">1</text></g><g class=\"a4 i1 leaf node n3 p0 sample\" transform=\"translate(15 22.6206)\"><path class=\"edge\" d=\"M 0 0 V -22.6206 H -15\" /><rect class=\"sym\" height=\"6\" width=\"6\" x=\"-3\" y=\"-3\" /><text class=\"lab\" transform=\"translate(0 11)\">3</text></g><path class=\"edge\" d=\"M 0 0 V -16.0141 H 0.0\" /><circle class=\"sym\" cx=\"0\" cy=\"0\" r=\"3\" /><text class=\"lab lft\" transform=\"translate(-3 -7.0)\">4</text></g><path class=\"edge\" d=\"M 0 0 V -55.9653 H -30\" /><circle class=\"sym\" cx=\"0\" cy=\"0\" r=\"3\" /><text class=\"lab rgt\" transform=\"translate(3 -7.0)\">5</text></g><g class=\"a9 c2 node n8 p0\" transform=\"translate(-30 32.1509)\"><g class=\"a8 c1 node n6 p0\" transform=\"translate(15 23.8145)\"><g class=\"a6 i1 leaf node n2 p0 sample\" transform=\"translate(0.0 38.6347)\"><path class=\"edge\" d=\"M 0 0 V -38.6347 H 0.0\" /><rect class=\"sym\" height=\"6\" width=\"6\" x=\"-3\" y=\"-3\" /><text class=\"lab\" transform=\"translate(0 11)\">2</text></g><path class=\"edge\" d=\"M 0 0 V -23.8145 H -15\" /><circle class=\"sym\" cx=\"0\" cy=\"0\" r=\"3\" /><text class=\"lab rgt\" transform=\"translate(3 -7.0)\">6</text></g><g class=\"a8 c1 node n7 p0\" transform=\"translate(-15 23.8145)\"><g class=\"a7 i0 leaf node n0 p0 sample\" transform=\"translate(0.0 38.6347)\"><path class=\"edge\" d=\"M 0 0 V -38.6347 H 0.0\" /><rect class=\"sym\" height=\"6\" width=\"6\" x=\"-3\" y=\"-3\" /><text class=\"lab\" transform=\"translate(0 11)\">0</text></g><path class=\"edge\" d=\"M 0 0 V -23.8145 H 15\" /><circle class=\"sym\" cx=\"0\" cy=\"0\" r=\"3\" /><text class=\"lab lft\" transform=\"translate(-3 -7.0)\">7</text></g><path class=\"edge\" d=\"M 0 0 V -32.1509 H 30\" /><circle class=\"sym\" cx=\"0\" cy=\"0\" r=\"3\" /><text class=\"lab lft\" transform=\"translate(-3 -7.0)\">8</text></g><circle class=\"sym\" cx=\"0\" cy=\"0\" r=\"3\" /><text class=\"lab\" transform=\"translate(0 -11)\">9</text></g></g></g></g></g></svg>"
      ],
      "text/plain": [
       "'<svg baseProfile=\"full\" height=\"200\" version=\"1.1\" width=\"200\" xmlns=\"http://www.w3.org/2000/svg\" xmlns:ev=\"http://www.w3.org/2001/xml-events\" xmlns:xlink=\"http://www.w3.org/1999/xlink\"><defs><style type=\"text/css\"><![CDATA[.background path {fill: #808080; fill-opacity: 0}.background path:nth-child(odd) {fill-opacity: .1}.axes {font-size: 14px}.x-axis .tick .lab {font-weight: bold; dominant-baseline: hanging}.axes, .tree {font-size: 14px; text-anchor: middle}.axes line, .edge {stroke: black; fill: none}.y-axis .grid {stroke: #FAFAFA}.node > .sym {fill: black; stroke: none}.site > .sym {stroke: black}.mut text {fill: red; font-style: italic}.mut.extra text {fill: hotpink}.mut line {fill: none; stroke: none}.mut .sym {fill: none; stroke: red}.mut.extra .sym {stroke: hotpink}.node .mut .sym {stroke-width: 1.5px}.tree text, .tree-sequence text {dominant-baseline: central}.plotbox .lab.lft {text-anchor: end}.plotbox .lab.rgt {text-anchor: start}]]></style></defs><g class=\"tree-sequence\"><g class=\"background\"><path d=\"M20,0 l160,0 l0,138.2 l0,25 l0,5 l-160,0 l0,-5 l0,-25 l0,-138.2z\" /></g><g class=\"axes\"><g class=\"x-axis\"><g transform=\"translate(100 200)\"><text class=\"lab\" text-anchor=\"middle\" transform=\"translate(0 -11)\">Genome position</text></g><line x1=\"20\" x2=\"180\" y1=\"163.2\" y2=\"163.2\" /><g class=\"ticks\"><g class=\"tick\" transform=\"translate(20 163.2)\"><line x1=\"0\" x2=\"0\" y1=\"0\" y2=\"5\" /><g transform=\"translate(0 6)\"><text class=\"lab\">0</text></g></g><g class=\"tick\" transform=\"translate(180 163.2)\"><line x1=\"0\" x2=\"0\" y1=\"0\" y2=\"5\" /><g transform=\"translate(0 6)\"><text class=\"lab\">1000</text></g></g></g></g></g><g class=\"plotbox trees\"><g class=\"tree t0\" transform=\"translate(20 0)\"><g class=\"plotbox\"><g class=\"c2 node n9 p0 root\" transform=\"translate(80 26.8)\"><g class=\"a9 c1 node n5 p0\" transform=\"translate(30 55.9653)\"><g class=\"a5 c2 node n4 p0\" transform=\"translate(0.0 16.0141)\"><g class=\"a4 i0 leaf node n1 p0 sample\" transform=\"translate(-15 22.6206)\"><path class=\"edge\" d=\"M 0 0 V -22.6206 H 15\" /><rect class=\"sym\" height=\"6\" width=\"6\" x=\"-3\" y=\"-3\" /><text class=\"lab\" transform=\"translate(0 11)\">1</text></g><g class=\"a4 i1 leaf node n3 p0 sample\" transform=\"translate(15 22.6206)\"><path class=\"edge\" d=\"M 0 0 V -22.6206 H -15\" /><rect class=\"sym\" height=\"6\" width=\"6\" x=\"-3\" y=\"-3\" /><text class=\"lab\" transform=\"translate(0 11)\">3</text></g><path class=\"edge\" d=\"M 0 0 V -16.0141 H 0.0\" /><circle class=\"sym\" cx=\"0\" cy=\"0\" r=\"3\" /><text class=\"lab lft\" transform=\"translate(-3 -7.0)\">4</text></g><path class=\"edge\" d=\"M 0 0 V -55.9653 H -30\" /><circle class=\"sym\" cx=\"0\" cy=\"0\" r=\"3\" /><text class=\"lab rgt\" transform=\"translate(3 -7.0)\">5</text></g><g class=\"a9 c2 node n8 p0\" transform=\"translate(-30 32.1509)\"><g class=\"a8 c1 node n6 p0\" transform=\"translate(15 23.8145)\"><g class=\"a6 i1 leaf node n2 p0 sample\" transform=\"translate(0.0 38.6347)\"><path class=\"edge\" d=\"M 0 0 V -38.6347 H 0.0\" /><rect class=\"sym\" height=\"6\" width=\"6\" x=\"-3\" y=\"-3\" /><text class=\"lab\" transform=\"translate(0 11)\">2</text></g><path class=\"edge\" d=\"M 0 0 V -23.8145 H -15\" /><circle class=\"sym\" cx=\"0\" cy=\"0\" r=\"3\" /><text class=\"lab rgt\" transform=\"translate(3 -7.0)\">6</text></g><g class=\"a8 c1 node n7 p0\" transform=\"translate(-15 23.8145)\"><g class=\"a7 i0 leaf node n0 p0 sample\" transform=\"translate(0.0 38.6347)\"><path class=\"edge\" d=\"M 0 0 V -38.6347 H 0.0\" /><rect class=\"sym\" height=\"6\" width=\"6\" x=\"-3\" y=\"-3\" /><text class=\"lab\" transform=\"translate(0 11)\">0</text></g><path class=\"edge\" d=\"M 0 0 V -23.8145 H 15\" /><circle class=\"sym\" cx=\"0\" cy=\"0\" r=\"3\" /><text class=\"lab lft\" transform=\"translate(-3 -7.0)\">7</text></g><path class=\"edge\" d=\"M 0 0 V -32.1509 H 30\" /><circle class=\"sym\" cx=\"0\" cy=\"0\" r=\"3\" /><text class=\"lab lft\" transform=\"translate(-3 -7.0)\">8</text></g><circle class=\"sym\" cx=\"0\" cy=\"0\" r=\"3\" /><text class=\"lab\" transform=\"translate(0 -11)\">9</text></g></g></g></g></g></svg>'"
      ]
     },
     "execution_count": 19,
     "metadata": {
      "filenames": {
       "image/svg+xml": "/home/runner/work/tutorials/tutorials/_build/jupyter_execute/demography_37_1.svg"
      }
     },
     "output_type": "execute_result"
    }
   ],
   "source": [
    "print(\"IDs of census nodes:\")\n",
    "print([u.id for u in ts.nodes() if u.flags==msprime.NODE_IS_CEN_EVENT])\n",
    "ts.draw_svg()"
   ]
  },
  {
   "cell_type": "markdown",
   "id": "db963957",
   "metadata": {},
   "source": [
    "By extracting these node IDs, you can perform further analyses using the ancestral haplotypes.\n",
    "See [here](https://tskit.dev/msprime/docs/latest/ancestry.html#census-events) for a slightly more involved example of this.\n",
    "\n",
    "## Debugging demography\n",
    "\n",
    "As we've seen, it's pretty easy to make mistakes when specifying demography!\n",
    "\n",
    "To help you spot these, msprime provides a debugger that prints out your\n",
    "population history in a more human-readable form.\n",
    "It's good to get into the habit of running the {class}`msprime.DemographyDebugger`\n",
    "before running your simulations."
   ]
  },
  {
   "cell_type": "code",
   "execution_count": 20,
   "id": "a532ffad",
   "metadata": {},
   "outputs": [
    {
     "data": {
      "text/html": [
       "<div><details open=\"true\"><summary>Epoch[0]: [0, 350) generations</summary><div style=\"margin-left:20px\"><div><style scoped=\"\">\n",
       "            .tskit-table thead tr th:only-of-type {vertical-align: middle;}\n",
       "            .tskit-table thead tr th {text-align: center;vertical-align: top;}\n",
       "            .tskit-table tbody td {text-align: right;padding: 0.5em 0.5em;}\n",
       "            .tskit-table tbody th {padding: 0.5em 0.5em;}\n",
       "        </style><b>Populations (total=1 active=1)</b><table border=\"1\" class=\"tskit-table\"><thead><tr><th></th><th>start</th><th>end</th><th>growth_rate</th></tr></thead><tbody><tr><td>A</td><td> 500.0</td><td> 500.0</td><td> 0</td></tr></tbody></table></div><div><style scoped=\"\">\n",
       "            .tskit-table thead tr th:only-of-type {vertical-align: middle;}\n",
       "            .tskit-table thead tr th {text-align: center;vertical-align: top;}\n",
       "            .tskit-table tbody td {text-align: right;padding: 0.5em 0.5em;}\n",
       "            .tskit-table tbody th {padding: 0.5em 0.5em;}\n",
       "        </style><b>Events @ generation 350</b><table border=\"1\" class=\"tskit-table\"><thead><tr><th>time</th><th>type</th><th>parameters</th><th>effect</th></tr></thead><tbody><tr><td>350</td><td><a href='https://tskit.dev/msprime/docs/latest/api.html#msprime.Demography.add_census_event'>Census</a></td><td></td><td>Insert census nodes to record the location of all lineages</td></tr></tbody></table></div></div></details><details open=\"true\"><summary>Epoch[1]: [350, inf) generations</summary><div style=\"margin-left:20px\"><div><style scoped=\"\">\n",
       "            .tskit-table thead tr th:only-of-type {vertical-align: middle;}\n",
       "            .tskit-table thead tr th {text-align: center;vertical-align: top;}\n",
       "            .tskit-table tbody td {text-align: right;padding: 0.5em 0.5em;}\n",
       "            .tskit-table tbody th {padding: 0.5em 0.5em;}\n",
       "        </style><b>Populations (total=1 active=1)</b><table border=\"1\" class=\"tskit-table\"><thead><tr><th></th><th>start</th><th>end</th><th>growth_rate</th></tr></thead><tbody><tr><td>A</td><td> 500.0</td><td> 500.0</td><td> 0</td></tr></tbody></table></div></div></details></div>"
      ],
      "text/plain": [
       "<msprime.demography.DemographyDebugger at 0x7ff21c027e80>"
      ]
     },
     "execution_count": 20,
     "metadata": {},
     "output_type": "execute_result"
    }
   ],
   "source": [
    "my_history = msprime.DemographyDebugger(demography=dem)\n",
    "my_history"
   ]
  }
 ],
 "metadata": {
  "jupytext": {
   "text_representation": {
    "extension": ".md",
    "format_name": "myst",
    "format_version": 0.12,
    "jupytext_version": "1.9.1"
   }
  },
  "kernelspec": {
   "display_name": "Python 3",
   "language": "python",
   "name": "python3"
  },
  "language_info": {
   "codemirror_mode": {
    "name": "ipython",
    "version": 3
   },
   "file_extension": ".py",
   "mimetype": "text/x-python",
   "name": "python",
   "nbconvert_exporter": "python",
   "pygments_lexer": "ipython3",
   "version": "3.8.14"
  },
  "source_map": [
   12,
   25,
   28,
   40,
   45,
   51,
   59,
   110,
   127,
   133,
   135,
   141,
   146,
   162,
   165,
   170,
   178,
   194,
   204,
   208,
   220,
   226,
   228,
   232,
   240,
   259,
   268,
   273,
   285,
   305,
   315,
   320,
   327,
   338,
   357,
   374,
   388,
   391,
   395,
   409
  ]
 },
 "nbformat": 4,
 "nbformat_minor": 5
}