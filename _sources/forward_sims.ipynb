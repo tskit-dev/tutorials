{
 "cells": [
  {
   "cell_type": "markdown",
   "id": "c22f3adb",
   "metadata": {},
   "source": [
    "(sec_tskit_forward_simulations)=\n",
    "\n",
    "# _Forward simulations_\n",
    "% remove underscores in title when tutorial is complete or near-complete\n",
    "\n",
    "\n",
    ":::{note}\n",
    "Add forward simulations.\n",
    ":::"
   ]
  }
 ],
 "metadata": {
  "jupytext": {
   "text_representation": {
    "extension": ".md",
    "format_name": "myst",
    "format_version": 0.12,
    "jupytext_version": "1.9.1"
   }
  },
  "kernelspec": {
   "display_name": "Python 3",
   "language": "python",
   "name": "python3"
  },
  "language_info": {
   "codemirror_mode": {
    "name": "ipython",
    "version": 3
   },
   "file_extension": ".py",
   "mimetype": "text/x-python",
   "name": "python",
   "nbconvert_exporter": "python",
   "pygments_lexer": "ipython3",
   "version": "3.8.12"
  },
  "source_map": [
   12
  ]
 },
 "nbformat": 4,
 "nbformat_minor": 5
}