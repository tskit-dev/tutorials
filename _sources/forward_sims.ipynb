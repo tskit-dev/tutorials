{
 "cells": [
  {
   "cell_type": "markdown",
   "id": "14701b24",
   "metadata": {},
   "source": [
    "(sec_tskit_forward_simulations)=\n",
    "\n",
    "# _Building a forward simulator_\n",
    "\n",
    "% remove underscores in title when tutorial is complete or near-complete\n",
    "\n",
    "Tree sequences can be output both by forwards-in-time genetic simulators\n",
    "(such as SLiM) and forwards-in-time simulation libraries (such as\n",
    "fwdpp/fwdpy11). If you are simply trying to obtain a tree sequence which is\n",
    "the result of a forwards-in-time simulation, we recommend that you use one of\n",
    "these tools, and consult the documentation and tutorials that go with them.\n",
    "\n",
    "This tutorial *does not* attempt to show you how to use any existing forward\n",
    "simulation tools. Instead, it shows the principles of using tskit to\n",
    "build your own forwards-in-time tree sequence recording simulator from scratch.\n",
    "\n",
    ":::{note}\n",
    "Add details on building a forward simulator (see https://github.com/tskit-dev/tutorials/issues/14)\n",
    ":::"
   ]
  }
 ],
 "metadata": {
  "jupytext": {
   "text_representation": {
    "extension": ".md",
    "format_name": "myst",
    "format_version": 0.12,
    "jupytext_version": "1.9.1"
   }
  },
  "kernelspec": {
   "display_name": "Python 3",
   "language": "python",
   "name": "python3"
  },
  "language_info": {
   "codemirror_mode": {
    "name": "ipython",
    "version": 3
   },
   "file_extension": ".py",
   "mimetype": "text/x-python",
   "name": "python",
   "nbconvert_exporter": "python",
   "pygments_lexer": "ipython3",
   "version": "3.8.12"
  },
  "source_map": [
   12
  ]
 },
 "nbformat": 4,
 "nbformat_minor": 5
}