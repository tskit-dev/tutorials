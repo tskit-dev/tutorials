{
 "cells": [
  {
   "cell_type": "markdown",
   "id": "990e2358",
   "metadata": {},
   "source": [
    "(sec_tskit_forward_simulations)=\n",
    "\n",
    "# _Building a forward simulator_\n",
    "\n",
    "% remove underscores in title when tutorial is complete or near-complete\n",
    "\n",
    "This tutorial shows how tskit can be used to\n",
    "build your own forwards-in-time tree sequence recording simulator from scratch.\n",
    "\n",
    ":::{note}\n",
    "If you are simply trying to obtain a tree sequence which is\n",
    "the result of a forwards-in-time simulation, this can be done by using one of the\n",
    "highly capable forwards-in-time genetic simulators that already exist, such as\n",
    "[SLiM](https://messerlab.org/slim/) or [fwdpy11](https://github.com/molpopgen/fwdpy11).\n",
    "Documentation and tutorials for these tools exist on their respective websites. This\n",
    "tutorial focusses instead on illustrating the general principles that lie behind such\n",
    "simulators.\n",
    ":::\n",
    "\n",
    ":::{todo}\n",
    "Add details on building a forward simulator (see issue\n",
    "[#14](https://github.com/tskit-dev/tutorials/issues/14))\n",
    ":::"
   ]
  }
 ],
 "metadata": {
  "jupytext": {
   "text_representation": {
    "extension": ".md",
    "format_name": "myst",
    "format_version": 0.12,
    "jupytext_version": "1.9.1"
   }
  },
  "kernelspec": {
   "display_name": "Python 3",
   "language": "python",
   "name": "python3"
  },
  "language_info": {
   "codemirror_mode": {
    "name": "ipython",
    "version": 3
   },
   "file_extension": ".py",
   "mimetype": "text/x-python",
   "name": "python",
   "nbconvert_exporter": "python",
   "pygments_lexer": "ipython3",
   "version": "3.8.14"
  },
  "source_map": [
   12
  ]
 },
 "nbformat": 4,
 "nbformat_minor": 5
}