{
 "cells": [
  {
   "cell_type": "markdown",
   "id": "208117c1",
   "metadata": {},
   "source": [
    "(sec_tskit_r)=\n",
    "\n",
    "# Tskit and R\n",
    "\n",
    "To interface with `tskit` in R, we can use the [reticulate](https://rstudio.github.io/reticulate/) R package, which lets you call Python functions within an R session. In this short tutorial, we'll go through a couple of examples to show you how to get started. If you haven't done so already, you'll need to install `reticulate` in your R session via `install.packages(\"reticulate\")`. \n",
    "\n",
    "We'll begin by simulating a small tree sequence using `msprime`."
   ]
  },
  {
   "cell_type": "code",
   "execution_count": 1,
   "id": "cef6927e",
   "metadata": {},
   "outputs": [
    {
     "data": {
      "text/plain": [
       "╔═══════════════════════════╗\n",
       "║TreeSequence               ║\n",
       "╠═══════════════╤═══════════╣\n",
       "║Trees          │          1║\n",
       "╟───────────────┼───────────╢\n",
       "║Sequence Length│        100║\n",
       "╟───────────────┼───────────╢\n",
       "║Time Units     │generations║\n",
       "╟───────────────┼───────────╢\n",
       "║Sample Nodes   │         20║\n",
       "╟───────────────┼───────────╢\n",
       "║Total Size     │    4.1 KiB║\n",
       "╚═══════════════╧═══════════╝\n",
       "╔═══════════╤════╤═════════╤════════════╗\n",
       "║Table      │Rows│Size     │Has Metadata║\n",
       "╠═══════════╪════╪═════════╪════════════╣\n",
       "║Edges      │  38│  1.2 KiB│          No║\n",
       "╟───────────┼────┼─────────┼────────────╢\n",
       "║Individuals│  10│304 Bytes│          No║\n",
       "╟───────────┼────┼─────────┼────────────╢\n",
       "║Migrations │   0│  8 Bytes│          No║\n",
       "╟───────────┼────┼─────────┼────────────╢\n",
       "║Mutations  │   0│ 16 Bytes│          No║\n",
       "╟───────────┼────┼─────────┼────────────╢\n",
       "║Nodes      │  39│  1.1 KiB│          No║\n",
       "╟───────────┼────┼─────────┼────────────╢\n",
       "║Populations│   1│224 Bytes│         Yes║\n",
       "╟───────────┼────┼─────────┼────────────╢\n",
       "║Provenances│   1│949 Bytes│          No║\n",
       "╟───────────┼────┼─────────┼────────────╢\n",
       "║Sites      │   0│ 16 Bytes│          No║\n",
       "╚═══════════╧════╧═════════╧════════════╝\n"
      ]
     },
     "metadata": {},
     "output_type": "display_data"
    }
   ],
   "source": [
    "msprime <- reticulate::import(\"msprime\")\n",
    "\n",
    "ts <- msprime$sim_ancestry(10, sequence_length = 100, random_seed=42)\n",
    "ts"
   ]
  },
  {
   "cell_type": "markdown",
   "id": "a6c5ae3c",
   "metadata": {},
   "source": [
    "`reticulate` allows us to access a Python object's attributes or call its methods via the `$` operator. For example, we can access (and assign to a variable) the number of samples in the tree sequence:"
   ]
  },
  {
   "cell_type": "code",
   "execution_count": 2,
   "id": "a5ff1396",
   "metadata": {},
   "outputs": [
    {
     "data": {
      "text/html": [
       "20"
      ],
      "text/latex": [
       "20"
      ],
      "text/markdown": [
       "20"
      ],
      "text/plain": [
       "[1] 20"
      ]
     },
     "metadata": {},
     "output_type": "display_data"
    }
   ],
   "source": [
    "n <- ts$num_samples\n",
    "n"
   ]
  },
  {
   "cell_type": "markdown",
   "id": "f40e7bf7",
   "metadata": {},
   "source": [
    "We can also use `tskit`'s powerful [Statistics](https://tskit.dev/tskit/docs/stable/stats.html) framework to efficiently compute many different summary statistics from a tree sequence. To illustrate this, we'll first add some mutations to our tree sequence with `msprime`'s `sim_mutations` function, and then compute the genetic diversity for each of the tree sequence's sample nodes:"
   ]
  },
  {
   "cell_type": "code",
   "execution_count": 3,
   "id": "5098e5b8",
   "metadata": {},
   "outputs": [
    {
     "data": {
      "text/html": [
       "14"
      ],
      "text/latex": [
       "14"
      ],
      "text/markdown": [
       "14"
      ],
      "text/plain": [
       "[1] 14"
      ]
     },
     "metadata": {},
     "output_type": "display_data"
    },
    {
     "data": {
      "text/html": [
       "0.0232631578947368"
      ],
      "text/latex": [
       "0.0232631578947368"
      ],
      "text/markdown": [
       "0.0232631578947368"
      ],
      "text/plain": [
       "[1] 0.02326316"
      ]
     },
     "metadata": {},
     "output_type": "display_data"
    }
   ],
   "source": [
    "ts_mut = msprime$sim_mutations(ts, rate = 1e-2, random_seed = 42)\n",
    "ts_mut$num_mutations\n",
    "ts_mut$diversity()"
   ]
  },
  {
   "cell_type": "markdown",
   "id": "887edd38",
   "metadata": {},
   "source": [
    "As a final example, we can also use the tree sequence `genotype_matrix()` method to return the genotypes of the the tree sequence as a matrix object in R."
   ]
  },
  {
   "cell_type": "code",
   "execution_count": 4,
   "id": "4eef4960",
   "metadata": {},
   "outputs": [
    {
     "data": {
      "text/html": [
       "<table class=\"dataframe\">\n",
       "<caption>A matrix: 13 × 20 of type int</caption>\n",
       "<tbody>\n",
       "\t<tr><td>0</td><td>0</td><td>0</td><td>1</td><td>0</td><td>0</td><td>0</td><td>0</td><td>0</td><td>0</td><td>0</td><td>0</td><td>0</td><td>0</td><td>0</td><td>0</td><td>0</td><td>0</td><td>0</td><td>0</td></tr>\n",
       "\t<tr><td>1</td><td>1</td><td>1</td><td>0</td><td>1</td><td>1</td><td>1</td><td>1</td><td>1</td><td>1</td><td>1</td><td>1</td><td>1</td><td>1</td><td>1</td><td>1</td><td>1</td><td>1</td><td>1</td><td>1</td></tr>\n",
       "\t<tr><td>1</td><td>1</td><td>1</td><td>0</td><td>1</td><td>0</td><td>0</td><td>0</td><td>0</td><td>0</td><td>1</td><td>1</td><td>0</td><td>0</td><td>1</td><td>1</td><td>0</td><td>0</td><td>1</td><td>0</td></tr>\n",
       "\t<tr><td>1</td><td>1</td><td>1</td><td>0</td><td>1</td><td>1</td><td>1</td><td>1</td><td>1</td><td>0</td><td>1</td><td>1</td><td>1</td><td>1</td><td>1</td><td>1</td><td>1</td><td>1</td><td>1</td><td>1</td></tr>\n",
       "\t<tr><td>1</td><td>1</td><td>1</td><td>0</td><td>1</td><td>1</td><td>1</td><td>1</td><td>0</td><td>0</td><td>1</td><td>1</td><td>0</td><td>1</td><td>1</td><td>1</td><td>0</td><td>0</td><td>1</td><td>0</td></tr>\n",
       "\t<tr><td>0</td><td>0</td><td>0</td><td>0</td><td>0</td><td>1</td><td>1</td><td>1</td><td>0</td><td>0</td><td>0</td><td>0</td><td>0</td><td>1</td><td>0</td><td>0</td><td>0</td><td>0</td><td>0</td><td>0</td></tr>\n",
       "\t<tr><td>1</td><td>1</td><td>1</td><td>0</td><td>1</td><td>1</td><td>1</td><td>1</td><td>1</td><td>1</td><td>1</td><td>1</td><td>1</td><td>1</td><td>1</td><td>1</td><td>1</td><td>1</td><td>1</td><td>1</td></tr>\n",
       "\t<tr><td>1</td><td>1</td><td>1</td><td>0</td><td>1</td><td>1</td><td>1</td><td>1</td><td>1</td><td>1</td><td>1</td><td>1</td><td>1</td><td>1</td><td>1</td><td>1</td><td>1</td><td>1</td><td>1</td><td>1</td></tr>\n",
       "\t<tr><td>0</td><td>0</td><td>0</td><td>1</td><td>0</td><td>0</td><td>0</td><td>0</td><td>0</td><td>0</td><td>0</td><td>0</td><td>0</td><td>0</td><td>0</td><td>0</td><td>0</td><td>0</td><td>0</td><td>0</td></tr>\n",
       "\t<tr><td>0</td><td>0</td><td>0</td><td>0</td><td>0</td><td>0</td><td>0</td><td>0</td><td>0</td><td>0</td><td>0</td><td>0</td><td>0</td><td>0</td><td>0</td><td>1</td><td>0</td><td>0</td><td>0</td><td>0</td></tr>\n",
       "\t<tr><td>1</td><td>1</td><td>1</td><td>1</td><td>1</td><td>1</td><td>1</td><td>1</td><td>1</td><td>1</td><td>1</td><td>1</td><td>1</td><td>1</td><td>1</td><td>1</td><td>1</td><td>1</td><td>1</td><td>1</td></tr>\n",
       "\t<tr><td>0</td><td>0</td><td>0</td><td>0</td><td>0</td><td>0</td><td>0</td><td>0</td><td>0</td><td>0</td><td>0</td><td>0</td><td>0</td><td>1</td><td>0</td><td>0</td><td>0</td><td>0</td><td>0</td><td>0</td></tr>\n",
       "\t<tr><td>0</td><td>0</td><td>0</td><td>1</td><td>0</td><td>0</td><td>0</td><td>0</td><td>0</td><td>0</td><td>0</td><td>0</td><td>0</td><td>0</td><td>0</td><td>0</td><td>0</td><td>0</td><td>0</td><td>0</td></tr>\n",
       "</tbody>\n",
       "</table>\n"
      ],
      "text/latex": [
       "A matrix: 13 × 20 of type int\n",
       "\\begin{tabular}{llllllllllllllllllll}\n",
       "\t 0 & 0 & 0 & 1 & 0 & 0 & 0 & 0 & 0 & 0 & 0 & 0 & 0 & 0 & 0 & 0 & 0 & 0 & 0 & 0\\\\\n",
       "\t 1 & 1 & 1 & 0 & 1 & 1 & 1 & 1 & 1 & 1 & 1 & 1 & 1 & 1 & 1 & 1 & 1 & 1 & 1 & 1\\\\\n",
       "\t 1 & 1 & 1 & 0 & 1 & 0 & 0 & 0 & 0 & 0 & 1 & 1 & 0 & 0 & 1 & 1 & 0 & 0 & 1 & 0\\\\\n",
       "\t 1 & 1 & 1 & 0 & 1 & 1 & 1 & 1 & 1 & 0 & 1 & 1 & 1 & 1 & 1 & 1 & 1 & 1 & 1 & 1\\\\\n",
       "\t 1 & 1 & 1 & 0 & 1 & 1 & 1 & 1 & 0 & 0 & 1 & 1 & 0 & 1 & 1 & 1 & 0 & 0 & 1 & 0\\\\\n",
       "\t 0 & 0 & 0 & 0 & 0 & 1 & 1 & 1 & 0 & 0 & 0 & 0 & 0 & 1 & 0 & 0 & 0 & 0 & 0 & 0\\\\\n",
       "\t 1 & 1 & 1 & 0 & 1 & 1 & 1 & 1 & 1 & 1 & 1 & 1 & 1 & 1 & 1 & 1 & 1 & 1 & 1 & 1\\\\\n",
       "\t 1 & 1 & 1 & 0 & 1 & 1 & 1 & 1 & 1 & 1 & 1 & 1 & 1 & 1 & 1 & 1 & 1 & 1 & 1 & 1\\\\\n",
       "\t 0 & 0 & 0 & 1 & 0 & 0 & 0 & 0 & 0 & 0 & 0 & 0 & 0 & 0 & 0 & 0 & 0 & 0 & 0 & 0\\\\\n",
       "\t 0 & 0 & 0 & 0 & 0 & 0 & 0 & 0 & 0 & 0 & 0 & 0 & 0 & 0 & 0 & 1 & 0 & 0 & 0 & 0\\\\\n",
       "\t 1 & 1 & 1 & 1 & 1 & 1 & 1 & 1 & 1 & 1 & 1 & 1 & 1 & 1 & 1 & 1 & 1 & 1 & 1 & 1\\\\\n",
       "\t 0 & 0 & 0 & 0 & 0 & 0 & 0 & 0 & 0 & 0 & 0 & 0 & 0 & 1 & 0 & 0 & 0 & 0 & 0 & 0\\\\\n",
       "\t 0 & 0 & 0 & 1 & 0 & 0 & 0 & 0 & 0 & 0 & 0 & 0 & 0 & 0 & 0 & 0 & 0 & 0 & 0 & 0\\\\\n",
       "\\end{tabular}\n"
      ],
      "text/markdown": [
       "\n",
       "A matrix: 13 × 20 of type int\n",
       "\n",
       "| 0 | 0 | 0 | 1 | 0 | 0 | 0 | 0 | 0 | 0 | 0 | 0 | 0 | 0 | 0 | 0 | 0 | 0 | 0 | 0 |\n",
       "| 1 | 1 | 1 | 0 | 1 | 1 | 1 | 1 | 1 | 1 | 1 | 1 | 1 | 1 | 1 | 1 | 1 | 1 | 1 | 1 |\n",
       "| 1 | 1 | 1 | 0 | 1 | 0 | 0 | 0 | 0 | 0 | 1 | 1 | 0 | 0 | 1 | 1 | 0 | 0 | 1 | 0 |\n",
       "| 1 | 1 | 1 | 0 | 1 | 1 | 1 | 1 | 1 | 0 | 1 | 1 | 1 | 1 | 1 | 1 | 1 | 1 | 1 | 1 |\n",
       "| 1 | 1 | 1 | 0 | 1 | 1 | 1 | 1 | 0 | 0 | 1 | 1 | 0 | 1 | 1 | 1 | 0 | 0 | 1 | 0 |\n",
       "| 0 | 0 | 0 | 0 | 0 | 1 | 1 | 1 | 0 | 0 | 0 | 0 | 0 | 1 | 0 | 0 | 0 | 0 | 0 | 0 |\n",
       "| 1 | 1 | 1 | 0 | 1 | 1 | 1 | 1 | 1 | 1 | 1 | 1 | 1 | 1 | 1 | 1 | 1 | 1 | 1 | 1 |\n",
       "| 1 | 1 | 1 | 0 | 1 | 1 | 1 | 1 | 1 | 1 | 1 | 1 | 1 | 1 | 1 | 1 | 1 | 1 | 1 | 1 |\n",
       "| 0 | 0 | 0 | 1 | 0 | 0 | 0 | 0 | 0 | 0 | 0 | 0 | 0 | 0 | 0 | 0 | 0 | 0 | 0 | 0 |\n",
       "| 0 | 0 | 0 | 0 | 0 | 0 | 0 | 0 | 0 | 0 | 0 | 0 | 0 | 0 | 0 | 1 | 0 | 0 | 0 | 0 |\n",
       "| 1 | 1 | 1 | 1 | 1 | 1 | 1 | 1 | 1 | 1 | 1 | 1 | 1 | 1 | 1 | 1 | 1 | 1 | 1 | 1 |\n",
       "| 0 | 0 | 0 | 0 | 0 | 0 | 0 | 0 | 0 | 0 | 0 | 0 | 0 | 1 | 0 | 0 | 0 | 0 | 0 | 0 |\n",
       "| 0 | 0 | 0 | 1 | 0 | 0 | 0 | 0 | 0 | 0 | 0 | 0 | 0 | 0 | 0 | 0 | 0 | 0 | 0 | 0 |\n",
       "\n"
      ],
      "text/plain": [
       "      [,1] [,2] [,3] [,4] [,5] [,6] [,7] [,8] [,9] [,10] [,11] [,12] [,13]\n",
       " [1,] 0    0    0    1    0    0    0    0    0    0     0     0     0    \n",
       " [2,] 1    1    1    0    1    1    1    1    1    1     1     1     1    \n",
       " [3,] 1    1    1    0    1    0    0    0    0    0     1     1     0    \n",
       " [4,] 1    1    1    0    1    1    1    1    1    0     1     1     1    \n",
       " [5,] 1    1    1    0    1    1    1    1    0    0     1     1     0    \n",
       " [6,] 0    0    0    0    0    1    1    1    0    0     0     0     0    \n",
       " [7,] 1    1    1    0    1    1    1    1    1    1     1     1     1    \n",
       " [8,] 1    1    1    0    1    1    1    1    1    1     1     1     1    \n",
       " [9,] 0    0    0    1    0    0    0    0    0    0     0     0     0    \n",
       "[10,] 0    0    0    0    0    0    0    0    0    0     0     0     0    \n",
       "[11,] 1    1    1    1    1    1    1    1    1    1     1     1     1    \n",
       "[12,] 0    0    0    0    0    0    0    0    0    0     0     0     0    \n",
       "[13,] 0    0    0    1    0    0    0    0    0    0     0     0     0    \n",
       "      [,14] [,15] [,16] [,17] [,18] [,19] [,20]\n",
       " [1,] 0     0     0     0     0     0     0    \n",
       " [2,] 1     1     1     1     1     1     1    \n",
       " [3,] 0     1     1     0     0     1     0    \n",
       " [4,] 1     1     1     1     1     1     1    \n",
       " [5,] 1     1     1     0     0     1     0    \n",
       " [6,] 1     0     0     0     0     0     0    \n",
       " [7,] 1     1     1     1     1     1     1    \n",
       " [8,] 1     1     1     1     1     1     1    \n",
       " [9,] 0     0     0     0     0     0     0    \n",
       "[10,] 0     0     1     0     0     0     0    \n",
       "[11,] 1     1     1     1     1     1     1    \n",
       "[12,] 1     0     0     0     0     0     0    \n",
       "[13,] 0     0     0     0     0     0     0    "
      ]
     },
     "metadata": {},
     "output_type": "display_data"
    }
   ],
   "source": [
    "G = ts_mut$genotype_matrix()\n",
    "G"
   ]
  },
  {
   "cell_type": "markdown",
   "id": "1f7619c7",
   "metadata": {},
   "source": [
    "We can then use R functions directly on the genotype matrix:"
   ]
  },
  {
   "cell_type": "code",
   "execution_count": 5,
   "id": "34fbedb9",
   "metadata": {},
   "outputs": [
    {
     "data": {
      "text/html": [
       "<style>\n",
       ".list-inline {list-style: none; margin:0; padding: 0}\n",
       ".list-inline>li {display: inline-block}\n",
       ".list-inline>li:not(:last-child)::after {content: \"\\00b7\"; padding: 0 .5ex}\n",
       "</style>\n",
       "<ol class=list-inline><li>0.05</li><li>0.95</li><li>0.45</li><li>0.9</li><li>0.65</li><li>0.2</li><li>0.95</li><li>0.95</li><li>0.05</li><li>0.05</li><li>1</li><li>0.05</li><li>0.05</li></ol>\n"
      ],
      "text/latex": [
       "\\begin{enumerate*}\n",
       "\\item 0.05\n",
       "\\item 0.95\n",
       "\\item 0.45\n",
       "\\item 0.9\n",
       "\\item 0.65\n",
       "\\item 0.2\n",
       "\\item 0.95\n",
       "\\item 0.95\n",
       "\\item 0.05\n",
       "\\item 0.05\n",
       "\\item 1\n",
       "\\item 0.05\n",
       "\\item 0.05\n",
       "\\end{enumerate*}\n"
      ],
      "text/markdown": [
       "1. 0.05\n",
       "2. 0.95\n",
       "3. 0.45\n",
       "4. 0.9\n",
       "5. 0.65\n",
       "6. 0.2\n",
       "7. 0.95\n",
       "8. 0.95\n",
       "9. 0.05\n",
       "10. 0.05\n",
       "11. 1\n",
       "12. 0.05\n",
       "13. 0.05\n",
       "\n",
       "\n"
      ],
      "text/plain": [
       " [1] 0.05 0.95 0.45 0.90 0.65 0.20 0.95 0.95 0.05 0.05 1.00 0.05 0.05"
      ]
     },
     "metadata": {},
     "output_type": "display_data"
    }
   ],
   "source": [
    "allele_frequency = rowMeans(G)\n",
    "allele_frequency"
   ]
  },
  {
   "cell_type": "markdown",
   "id": "2f09fc10",
   "metadata": {},
   "source": [
    "It's as simple as that! Be sure to check out the [reticulate](https://rstudio.github.io/reticulate/) documentation, in particular on [Calling Python from R](https://rstudio.github.io/reticulate/articles/calling_python.html), which includes important information on how R data types are converted to their equivalent Python types."
   ]
  }
 ],
 "metadata": {
  "jupytext": {
   "formats": "md:myst,ipynb",
   "text_representation": {
    "extension": ".md",
    "format_name": "myst",
    "format_version": 0.13,
    "jupytext_version": "1.10.3"
   }
  },
  "kernelspec": {
   "display_name": "R",
   "language": "R",
   "name": "ir"
  },
  "language_info": {
   "codemirror_mode": "r",
   "file_extension": ".r",
   "mimetype": "text/x-r-source",
   "name": "R",
   "pygments_lexer": "r",
   "version": "3.6.3"
  },
  "source_map": [
   13,
   23,
   28,
   32,
   35,
   39,
   43,
   47,
   50,
   54,
   57
  ]
 },
 "nbformat": 4,
 "nbformat_minor": 5
}