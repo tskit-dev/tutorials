{
 "cells": [
  {
   "cell_type": "markdown",
   "id": "ac0e9d68",
   "metadata": {},
   "source": [
    "(sec_intro)=\n",
    "\n",
    "# Welcome!\n",
    "\n",
    "This site contains a number of tutorials to develop your understanding of\n",
    "[succinct tree sequences](https://tskit.dev/learn.html#what) and software programs,\n",
    "such as [msprime](https://tskit.dev/msprime), that use them.\n",
    "\n",
    "If you are new to the world of tree sequences, we suggest you start with the\n",
    "first tutorial: {ref}`sec_what_is`\n",
    "\n",
    ":::{note}\n",
    "Tutorials are under constant development. Those that are still a work in progress and\n",
    "not yet ready for use are shown in _italics_ in the list of tutorials.\n",
    "\n",
    "We very much welcome help developing existing tutorials or writing new ones. Please open\n",
    "or contribute to a [GitHub issue](https://github.com/tskit-dev/tutorials/issues) if you\n",
    "would like to help out.\n",
    ":::\n",
    "\n",
    "## Other sources of help\n",
    "\n",
    "In addition to these tutorials, our [Learn page](https://tskit.dev/learn.html) lists\n",
    "selected videos and publications to help you learn about tree sequences. \n",
    "\n",
    "We aim to be a friendly, welcoming open source community.\n",
    "Questions and discussion about using {program}`tskit`, the tree sequence toolkit\n",
    "should be directed to the\n",
    "[GitHub discussion forum](https://github.com/tskit-dev/tskit/discussions), and there are\n",
    "similar forums for other software in the tree sequence [development community](https://github.com/tskit-dev),\n",
    "such as for [msprime](https://github.com/tskit-dev/msprime/discussions) and\n",
    "[tsinfer](https://github.com/tskit-dev/tsinfer/discussions).\n",
    "\n",
    "\n",
    "(sec_intro_running)=\n",
    "\n",
    "## Running tutorial code\n",
    "\n",
    "It is possible to run the tutorial code on your own computer, if you wish.\n",
    "This will allow you to experiment with the examples provided.\n",
    "The recommended way to do this is from within a\n",
    "[Jupyter notebook](https://jupyter.org). As well as installing Jupyter, you will also\n",
    "need to install the various Python libraries, most importantly\n",
    "``tskit``, ``msprime``, ``numpy``, and ``matplotlib``. These and other packages are\n",
    "listed  in the [requirements.txt](https://tskit.dev/tutorials/requirements.txt)\n",
    "file; a shortcut to installing the necessary software is therefore:\n",
    "\n",
    "```\n",
    "python3 -m pip install -r https://tskit.dev/tutorials/requirements.txt\n",
    "```\n",
    "\n",
    "In addition, to run the {ref}`R tutorial<sec_tskit_r>` you will need to install the R\n",
    "[reticulate](https://rstudio.github.io/reticulate/) library, and if running it in a Jupyter\n",
    "notebook, the [IRkernel](https://irkernel.github.io) library. This can be done by\n",
    "running the following command within R:\n",
    "\n",
    "```\n",
    "install.packages(c(\"reticulate\", \"IRkernel\")); IRkernel::installspec()\n",
    "```\n",
    "\n",
    "(sec_intro_downloading_datafiles)=\n",
    "\n",
    "### Downloading tutorial datafiles\n",
    "\n",
    "Many of the tutorials use pre-existing tree sequences stored in the\n",
    "[``data``](https://github.com/tskit-dev/tutorials/tree/main/data) directory.\n",
    "These can be downloaded individually from that link, or you can\n",
    "download them all at once by running the script stored in\n",
    "[https://tskit.dev/tutorials/examples/download.py](https://tskit.dev/tutorials/examples/download.py).\n",
    "If you are running the code in the tutorials from within a Jupyter notebook\n",
    "then you can simply load this code into a new cell by using the\n",
    "[%load cell magic](https://ipython.readthedocs.io/en/stable/interactive/magics.html#magic-load).\n",
    "Just run the following in a Jupyter code cell:\n",
    "\n",
    "```\n",
    "%load https://tskit.dev/tutorials/examples/download.py\n",
    "```\n",
    "\n",
    "Running the resulting Python code should download the data files, then print out\n",
    "``finished downloading`` when all files are downloaded. You should then be able\n",
    "to successfully run code such as the following:"
   ]
  },
  {
   "cell_type": "code",
   "execution_count": 1,
   "id": "30158a66",
   "metadata": {},
   "outputs": [
    {
     "name": "stdout",
     "output_type": "stream",
     "text": [
      "The file 'data/basics.trees' exists, and contains 3 trees\n"
     ]
    }
   ],
   "source": [
    "import tskit\n",
    "ts = tskit.load(\"data/basics.trees\")\n",
    "print(f\"The file 'data/basics.trees' exists, and contains {ts.num_trees} trees\")"
   ]
  }
 ],
 "metadata": {
  "jupytext": {
   "text_representation": {
    "extension": ".md",
    "format_name": "myst",
    "format_version": 0.12,
    "jupytext_version": "1.9.1"
   }
  },
  "kernelspec": {
   "display_name": "Python 3",
   "language": "python",
   "name": "python3"
  },
  "language_info": {
   "codemirror_mode": {
    "name": "ipython",
    "version": 3
   },
   "file_extension": ".py",
   "mimetype": "text/x-python",
   "name": "python",
   "nbconvert_exporter": "python",
   "pygments_lexer": "ipython3",
   "version": "3.8.14"
  },
  "source_map": [
   12,
   96
  ]
 },
 "nbformat": 4,
 "nbformat_minor": 5
}