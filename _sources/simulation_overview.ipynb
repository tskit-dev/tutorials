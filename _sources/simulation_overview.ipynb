{
 "cells": [
  {
   "cell_type": "markdown",
   "id": "bb7c5736",
   "metadata": {},
   "source": [
    "(sec_simulation_overview)=\n",
    "\n",
    "# Tree sequences and simulation\n",
    "\n",
    "**Yan Wong, Georgia Tsambos, and Peter Ralph**\n",
    "\n",
    "Simulations are important in population genetics for many reasons:\n",
    "\n",
    "::::{margin}\n",
    ":::{todo}\n",
    "Add links to papers that illustrate each of the following points\n",
    ":::\n",
    "::::\n",
    "\n",
    "Exploration\n",
    ": Simulations allow us to explore the influence of various historical scenarios on\n",
    "observed patterns of genetic variation and inheritance.\n",
    "\n",
    "Benchmarking and evaluating methodologies\n",
    ": To assess the accuracy of inferential methods, we need test datasets for which the\n",
    "true values of important parameters are known.\n",
    "\n",
    "Model training\n",
    ": Some methods for ancestry inference are trained on simulated data (eg. Approximate\n",
    "Bayesian Computation). This is especially important in studies of complex demographies,\n",
    "where there are many potential parameters and models, making it impractical to specify\n",
    "likelihood functions.\n",
    "\n",
    "There are two major forms of population genetic simulation: **forwards-time**\n",
    "and **backwards-time**. In general, forwards-time simulation is detailed and more\n",
    "realistic, while backwards-time simulation is fast and efficient.\n",
    "\n",
    "More specifically, apart from a\n",
    "{ref}`few exceptions <msprime:sec_ancestry_models_selective_sweeps>`,\n",
    "backwards-time simulations are primarily focused on neutral simulations, while\n",
    "forward simulation is better suited to complex simulations, including those involving\n",
    "selection and continuous space.\n",
    "\n",
    "## Advantages of tree sequences\n",
    "\n",
    "Some forwards-time ([SLiM](http://messerlab.org/slim/),\n",
    "[fwdpy](http://molpopgen.github.io/fwdpy/)) and backwards-time\n",
    "([msprime](https://tskit.dev/msprime)) simulators have a built-in capacity to output\n",
    "tree sequences. This can have several benefits:\n",
    "\n",
    "1. Neutral mutations, which often account for the majority of genetic variation, do not\n",
    "    need to be tracked during the simulation, but can be added afterwards. See\n",
    "    \"{ref}`sec_tskit_no_mutations`\".\n",
    "2. Tree sequences can be used as an interchange format to combine backwards and\n",
    "    forwards simulations, allowing you to take advantage of the advantages of both\n",
    "    approaches. This is detailed in {ref}`sec_completing_forwards_simulations`.\n",
    "\n",
    "## Some tips on simulation\n",
    "\n",
    "Even with fast modern software, simulating full genome sequences of entire populations\n",
    "can take some time. If you are finding your simulations too slow, it is worth\n",
    "benchmarking them by running on a range of shorter chromosomes or sample sizes, then \n",
    "extrapolating to figure out how long the simulations you actually want to run would take.\n",
    "\n",
    ":::{todo}\n",
    "Add an example with a matplotlib fitted curve for some msprime simulations with\n",
    "e.g. a high recombination rate.\n",
    "\n",
    "Collecting data from simulations that take minutes to a few hours and looking at\n",
    "the msprime paper for suggestions of what curve to fit to the data should give you\n",
    "good predictions. See [issue #104](https://github.com/tskit-dev/tutorials/issues/104)\n",
    ":::"
   ]
  }
 ],
 "metadata": {
  "jupytext": {
   "text_representation": {
    "extension": ".md",
    "format_name": "myst",
    "format_version": 0.12,
    "jupytext_version": "1.9.1"
   }
  },
  "kernelspec": {
   "display_name": "Python 3",
   "language": "python",
   "name": "python3"
  },
  "language_info": {
   "codemirror_mode": {
    "name": "ipython",
    "version": 3
   },
   "file_extension": ".py",
   "mimetype": "text/x-python",
   "name": "python",
   "nbconvert_exporter": "python",
   "pygments_lexer": "ipython3",
   "version": "3.8.14"
  },
  "source_map": [
   12
  ]
 },
 "nbformat": 4,
 "nbformat_minor": 5
}