{
 "cells": [
  {
   "cell_type": "markdown",
   "id": "d7361181",
   "metadata": {},
   "source": [
    "(sec_msprime)=\n",
    "\n",
    "# Advanced {program}`msprime` topics \n",
    "\n",
    "These are advanced topics in [msprime](https://tskit.dev/msprime) or examples of how to \n",
    "do some particular things with it. This chapter is broken down into the following\n",
    "sections:\n",
    "\n",
    "```{tableofcontents}\n",
    "```"
   ]
  }
 ],
 "metadata": {
  "jupytext": {
   "text_representation": {
    "extension": ".md",
    "format_name": "myst",
    "format_version": 0.12,
    "jupytext_version": "1.9.1"
   }
  },
  "kernelspec": {
   "display_name": "Python 3",
   "language": "python",
   "name": "python3"
  },
  "language_info": {
   "codemirror_mode": {
    "name": "ipython",
    "version": 3
   },
   "file_extension": ".py",
   "mimetype": "text/x-python",
   "name": "python",
   "nbconvert_exporter": "python",
   "pygments_lexer": "ipython3",
   "version": "3.8.14"
  },
  "source_map": [
   12
  ]
 },
 "nbformat": 4,
 "nbformat_minor": 5
}