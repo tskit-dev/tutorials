{
 "cells": [
  {
   "cell_type": "markdown",
   "id": "382d969c",
   "metadata": {},
   "source": [
    "```{currentmodule} tskit\n",
    "```"
   ]
  },
  {
   "cell_type": "code",
   "execution_count": 1,
   "id": "e099a81a",
   "metadata": {
    "tags": [
     "remove-cell"
    ]
   },
   "outputs": [],
   "source": [
    "import io\n",
    "import pickle\n",
    "\n",
    "import msprime\n",
    "import tskit\n",
    "import numpy as np\n",
    "\n",
    "def tables_examples():\n",
    "    nodes = \"\"\"\\\n",
    "    is_sample   time    population    individual\n",
    "    1           0       0             0\n",
    "    1           0       0             0\n",
    "    1           0       0             1\n",
    "    0           0.15    0             2\n",
    "    0           0.6     -1            -1\n",
    "    0           0.8     -1            -1\n",
    "    0           1.0     -1            -1\n",
    "    \"\"\"\n",
    "    edges = \"\"\"\\\n",
    "    left    right   parent  child\n",
    "    20      80      3       0\n",
    "    20      80      3       2\n",
    "    0       100     4       1\n",
    "    0       20      4       2\n",
    "    80      100     4       2\n",
    "    20      80      4       3\n",
    "    80      100     5       0\n",
    "    80      100     5       4\n",
    "    0       20      6       0\n",
    "    0       20      6       4\n",
    "    \"\"\"\n",
    "    sites = \"\"\"\\\n",
    "    id    position    ancestral_state\n",
    "    0     15          A\n",
    "    1     42          G\n",
    "    2     60          T\n",
    "    \"\"\"\n",
    "    mutations = \"\"\"\\\n",
    "    site    node    derived_state    parent    time\n",
    "    0       4       G                -1        0.9\n",
    "    1       1       A                -1        0.4\n",
    "    2       3       C                -1        0.55\n",
    "    2       0       T                2         0.1\n",
    "    \"\"\"\n",
    "    individuals = \"\"\"\\\n",
    "    flags    parents    metadata\n",
    "    0        2,-1       {\"name\":\"Alice\"}\n",
    "    0        2,-1       {\"name\":\"Bob\"}\n",
    "    0        -1,-1      {\"name\":\"Carol\"}\n",
    "    \"\"\"\n",
    "    populations = \"\"\"\\\n",
    "    metadata\n",
    "    {\"name\":\"GBR\",\"description\":\"British_in_England_and_Scotland\"}\n",
    "    \"\"\"  # (NB: can't use spaces in load_text with strict==False)\n",
    "    ts = tskit.load_text(\n",
    "        nodes=io.StringIO(nodes),\n",
    "        edges=io.StringIO(edges),\n",
    "        individuals=io.StringIO(individuals),\n",
    "        populations=io.StringIO(populations),\n",
    "        strict=False,\n",
    "        base64_metadata=False,\n",
    "    )\n",
    "    ts.dump(\"data/tables_example.trees\")\n",
    "    tables = tskit.load_text(\n",
    "        nodes=io.StringIO(nodes),\n",
    "        edges=io.StringIO(edges),\n",
    "        sites=io.StringIO(sites),\n",
    "        mutations=io.StringIO(mutations),\n",
    "        individuals=io.StringIO(individuals),\n",
    "        populations=io.StringIO(populations),\n",
    "        strict=False,\n",
    "        base64_metadata=False,\n",
    "    ).dump_tables()\n",
    "    tables.individuals.metadata_schema = tskit.MetadataSchema({'codec': 'json'})\n",
    "    tables.populations.metadata = np.where(  # Hack to replace underscores with spaces\n",
    "        tables.populations.metadata == ord(\"_\"), ord(\" \"), tables.populations.metadata)\n",
    "    tables.populations.metadata_schema = tskit.MetadataSchema({'codec': 'json'})\n",
    "    tables.tree_sequence().dump(\"data/tables_example_muts.trees\")\n",
    "\n",
    "def construction_example():\n",
    "    nodes = \"\"\"\\\n",
    "    id      is_sample   time\n",
    "    0       1           0\n",
    "    1       1           0\n",
    "    2       0           10\n",
    "    3       1           0\n",
    "    4       0           20\n",
    "    \"\"\"\n",
    "    edges = \"\"\"\\\n",
    "    left    right   parent  child\n",
    "    0       1000    2       0\n",
    "    0       1000    2       1\n",
    "    0       1000    4       2\n",
    "    0       1000    4       3\n",
    "    \"\"\"\n",
    "    sites = \"\"\"\\\n",
    "    id    position    ancestral_state\n",
    "    0     500          A\n",
    "    \"\"\"\n",
    "    mutations = \"\"\"\\\n",
    "    site    node    derived_state    parent\n",
    "    0       3       G                -1\n",
    "    \"\"\"\n",
    "    ts = tskit.load_text(\n",
    "        nodes=io.StringIO(nodes),\n",
    "        edges=io.StringIO(edges),\n",
    "        sites=io.StringIO(sites),\n",
    "        mutations=io.StringIO(mutations),\n",
    "        strict=False,\n",
    "    )\n",
    "    ts.dump(\"data/construction_example.trees\")\n",
    "    \n",
    "\n",
    "def create_notebook_data():\n",
    "    tables_examples()\n",
    "    construction_example()\n",
    "\n",
    "# create_notebook_data()  # uncomment to recreate the tree seqs used in this notebook"
   ]
  },
  {
   "cell_type": "markdown",
   "id": "e9535864",
   "metadata": {},
   "source": [
    "(sec_tables)=\n",
    "\n",
    "# Tables and editing\n",
    "\n",
    "Internally, a tree sequence can be thought of as a set of tables, and {program}`tskit`\n",
    "provides an interface for dealing with these tables directly. This is particularly\n",
    "relevant when you wish to {ref}`edit or otherwise modify<sec_tables_editing>`\n",
    "a tree sequence, although tables are also useful for bulk access to data contained in\n",
    "the tree sequence, such as the times of all nodes.\n",
    "\n",
    "There are eight tables that together define a tree sequence, although some may be empty,\n",
    "and together they form a {class}`TableCollection`.\n",
    "The tables are defined in the official {program}`tskit` documentation for\n",
    "{ref}`Table Definitions <tskit:sec_table_definitions>`, and the\n",
    "{ref}`Tables API <tskit:sec_tables_api>` section in the docs describes how to work with\n",
    "them. In this tutorial we give some pointers about what you can and cannot do with them.\n",
    "\n",
    "(sec_tables_correspondence)=\n",
    "\n",
    "## Correspondence between tables and trees\n",
    "\n",
    "Consider the following sequence of trees:"
   ]
  },
  {
   "cell_type": "code",
   "execution_count": 2,
   "id": "53056435",
   "metadata": {},
   "outputs": [],
   "source": [
    "ts = tskit.load(\"data/tables_example.trees\")"
   ]
  },
  {
   "cell_type": "code",
   "execution_count": 3,
   "id": "6739aaa5",
   "metadata": {
    "tags": [
     "hide-input"
    ]
   },
   "outputs": [
    {
     "data": {
      "image/svg+xml": [
       "<svg baseProfile=\"full\" height=\"200\" version=\"1.1\" width=\"600\" xmlns=\"http://www.w3.org/2000/svg\" xmlns:ev=\"http://www.w3.org/2001/xml-events\" xmlns:xlink=\"http://www.w3.org/1999/xlink\"><defs><style type=\"text/css\"><![CDATA[.background path {fill: #808080; fill-opacity: 0}.background path:nth-child(odd) {fill-opacity: .1}.axes {font-size: 14px}.x-axis .tick .lab {font-weight: bold; dominant-baseline: hanging}.axes, .tree {font-size: 14px; text-anchor: middle}.axes line, .edge {stroke: black; fill: none}.y-axis .grid {stroke: #FAFAFA}.node > .sym {fill: black; stroke: none}.site > .sym {stroke: black}.mut text {fill: red; font-style: italic}.mut.extra text {fill: hotpink}.mut line {fill: none; stroke: none}.mut .sym {fill: none; stroke: red}.mut.extra .sym {stroke: hotpink}.node .mut .sym {stroke-width: 1.5px}.tree text, .tree-sequence text {dominant-baseline: central}.plotbox .lab.lft {text-anchor: end}.plotbox .lab.rgt {text-anchor: start}]]></style></defs><g class=\"tree-sequence\"><g class=\"background\"><path d=\"M56.8,0 l174.4,0 l0,138.2 l-69.76,25 l0,5 l-104.64,0 l0,-5 l0,-25 l0,-138.2z\" /><path d=\"M231.2,0 l174.4,0 l0,138.2 l69.76,25 l0,5 l-313.92,0 l0,-5 l69.76,-25 l0,-138.2z\" /><path d=\"M405.6,0 l174.4,0 l0,138.2 l0,25 l0,5 l-104.64,0 l0,-5 l-69.76,-25 l0,-138.2z\" /></g><g class=\"axes\"><g class=\"x-axis\"><g transform=\"translate(318.4 200)\"><text class=\"lab\" text-anchor=\"middle\" transform=\"translate(0 -11)\">Genome position</text></g><line x1=\"56.8\" x2=\"580\" y1=\"163.2\" y2=\"163.2\" /><g class=\"ticks\"><g class=\"tick\" transform=\"translate(56.8 163.2)\"><line x1=\"0\" x2=\"0\" y1=\"0\" y2=\"5\" /><g transform=\"translate(0 6)\"><text class=\"lab\">0</text></g></g><g class=\"tick\" transform=\"translate(161.44 163.2)\"><line x1=\"0\" x2=\"0\" y1=\"0\" y2=\"5\" /><g transform=\"translate(0 6)\"><text class=\"lab\">20</text></g></g><g class=\"tick\" transform=\"translate(475.36 163.2)\"><line x1=\"0\" x2=\"0\" y1=\"0\" y2=\"5\" /><g transform=\"translate(0 6)\"><text class=\"lab\">80</text></g></g><g class=\"tick\" transform=\"translate(580 163.2)\"><line x1=\"0\" x2=\"0\" y1=\"0\" y2=\"5\" /><g transform=\"translate(0 6)\"><text class=\"lab\">100</text></g></g></g></g><g class=\"y-axis\"><g transform=\"translate(0 65.7)\"><text class=\"lab\" text-anchor=\"middle\" transform=\"translate(11) rotate(-90)\">Time</text></g><line x1=\"56.8\" x2=\"56.8\" y1=\"121.4\" y2=\"10\" /><g class=\"ticks\"><g class=\"tick\" transform=\"translate(56.8 121.4)\"><line x1=\"0\" x2=\"-5\" y1=\"0\" y2=\"0\" /><g transform=\"translate(-6 0)\"><text class=\"lab\" text-anchor=\"end\">0.00</text></g></g><g class=\"tick\" transform=\"translate(56.8 107.21)\"><line x1=\"0\" x2=\"-5\" y1=\"0\" y2=\"0\" /><g transform=\"translate(-6 0)\"><text class=\"lab\" text-anchor=\"end\">0.15</text></g></g><g class=\"tick\" transform=\"translate(56.8 64.64)\"><line x1=\"0\" x2=\"-5\" y1=\"0\" y2=\"0\" /><g transform=\"translate(-6 0)\"><text class=\"lab\" text-anchor=\"end\">0.60</text></g></g><g class=\"tick\" transform=\"translate(56.8 45.72)\"><line x1=\"0\" x2=\"-5\" y1=\"0\" y2=\"0\" /><g transform=\"translate(-6 0)\"><text class=\"lab\" text-anchor=\"end\">0.80</text></g></g><g class=\"tick\" transform=\"translate(56.8 26.8)\"><line x1=\"0\" x2=\"-5\" y1=\"0\" y2=\"0\" /><g transform=\"translate(-6 0)\"><text class=\"lab\" text-anchor=\"end\">1.00</text></g></g></g></g></g><g class=\"plotbox trees\"><g class=\"tree t0\" transform=\"translate(56.8 0)\"><g class=\"plotbox\"><g class=\"c2 node n6 root\" transform=\"translate(76 26.8)\"><g class=\"a6 i0 leaf node n0 p0 sample\" transform=\"translate(-33.6 94.6)\"><path class=\"edge\" d=\"M 0 0 V -94.6 H 33.6\" /><rect class=\"sym\" height=\"6\" width=\"6\" x=\"-3\" y=\"-3\" /><text class=\"lab\" transform=\"translate(0 11)\">0</text></g><g class=\"a6 c2 node n4\" transform=\"translate(33.6 37.84)\"><g class=\"a4 i0 leaf node n1 p0 sample\" transform=\"translate(-22.4 56.76)\"><path class=\"edge\" d=\"M 0 0 V -56.76 H 22.4\" /><rect class=\"sym\" height=\"6\" width=\"6\" x=\"-3\" y=\"-3\" /><text class=\"lab\" transform=\"translate(0 11)\">1</text></g><g class=\"a4 i1 leaf node n2 p0 sample\" transform=\"translate(22.4 56.76)\"><path class=\"edge\" d=\"M 0 0 V -56.76 H -22.4\" /><rect class=\"sym\" height=\"6\" width=\"6\" x=\"-3\" y=\"-3\" /><text class=\"lab\" transform=\"translate(0 11)\">2</text></g><path class=\"edge\" d=\"M 0 0 V -37.84 H -33.6\" /><circle class=\"sym\" cx=\"0\" cy=\"0\" r=\"3\" /><text class=\"lab rgt\" transform=\"translate(3 -7.0)\">4</text></g><circle class=\"sym\" cx=\"0\" cy=\"0\" r=\"3\" /><text class=\"lab\" transform=\"translate(0 -11)\">6</text></g></g></g><g class=\"tree t1\" transform=\"translate(231.2 0)\"><g class=\"plotbox\"><g class=\"c2 node n4 root\" transform=\"translate(98.4 64.64)\"><g class=\"a4 i0 leaf node n1 p0 sample\" transform=\"translate(33.6 56.76)\"><path class=\"edge\" d=\"M 0 0 V -56.76 H -33.6\" /><rect class=\"sym\" height=\"6\" width=\"6\" x=\"-3\" y=\"-3\" /><text class=\"lab\" transform=\"translate(0 11)\">1</text></g><g class=\"a4 c2 i2 node n3 p0\" transform=\"translate(-33.6 42.57)\"><g class=\"a3 i0 leaf node n0 p0 sample\" transform=\"translate(-22.4 14.19)\"><path class=\"edge\" d=\"M 0 0 V -14.19 H 22.4\" /><rect class=\"sym\" height=\"6\" width=\"6\" x=\"-3\" y=\"-3\" /><text class=\"lab\" transform=\"translate(0 11)\">0</text></g><g class=\"a3 i1 leaf node n2 p0 sample\" transform=\"translate(22.4 14.19)\"><path class=\"edge\" d=\"M 0 0 V -14.19 H -22.4\" /><rect class=\"sym\" height=\"6\" width=\"6\" x=\"-3\" y=\"-3\" /><text class=\"lab\" transform=\"translate(0 11)\">2</text></g><path class=\"edge\" d=\"M 0 0 V -42.57 H 33.6\" /><circle class=\"sym\" cx=\"0\" cy=\"0\" r=\"3\" /><text class=\"lab lft\" transform=\"translate(-3 -7.0)\">3</text></g><circle class=\"sym\" cx=\"0\" cy=\"0\" r=\"3\" /><text class=\"lab\" transform=\"translate(0 -11)\">4</text></g></g></g><g class=\"tree t2\" transform=\"translate(405.6 0)\"><g class=\"plotbox\"><g class=\"c2 node n5 root\" transform=\"translate(76 45.72)\"><g class=\"a5 i0 leaf node n0 p0 sample\" transform=\"translate(-33.6 75.68)\"><path class=\"edge\" d=\"M 0 0 V -75.68 H 33.6\" /><rect class=\"sym\" height=\"6\" width=\"6\" x=\"-3\" y=\"-3\" /><text class=\"lab\" transform=\"translate(0 11)\">0</text></g><g class=\"a5 c2 node n4\" transform=\"translate(33.6 18.92)\"><g class=\"a4 i0 leaf node n1 p0 sample\" transform=\"translate(-22.4 56.76)\"><path class=\"edge\" d=\"M 0 0 V -56.76 H 22.4\" /><rect class=\"sym\" height=\"6\" width=\"6\" x=\"-3\" y=\"-3\" /><text class=\"lab\" transform=\"translate(0 11)\">1</text></g><g class=\"a4 i1 leaf node n2 p0 sample\" transform=\"translate(22.4 56.76)\"><path class=\"edge\" d=\"M 0 0 V -56.76 H -22.4\" /><rect class=\"sym\" height=\"6\" width=\"6\" x=\"-3\" y=\"-3\" /><text class=\"lab\" transform=\"translate(0 11)\">2</text></g><path class=\"edge\" d=\"M 0 0 V -18.92 H -33.6\" /><circle class=\"sym\" cx=\"0\" cy=\"0\" r=\"3\" /><text class=\"lab rgt\" transform=\"translate(3 -7.0)\">4</text></g><circle class=\"sym\" cx=\"0\" cy=\"0\" r=\"3\" /><text class=\"lab\" transform=\"translate(0 -11)\">5</text></g></g></g></g></g></svg>"
      ],
      "text/plain": [
       "'<svg baseProfile=\"full\" height=\"200\" version=\"1.1\" width=\"600\" xmlns=\"http://www.w3.org/2000/svg\" xmlns:ev=\"http://www.w3.org/2001/xml-events\" xmlns:xlink=\"http://www.w3.org/1999/xlink\"><defs><style type=\"text/css\"><![CDATA[.background path {fill: #808080; fill-opacity: 0}.background path:nth-child(odd) {fill-opacity: .1}.axes {font-size: 14px}.x-axis .tick .lab {font-weight: bold; dominant-baseline: hanging}.axes, .tree {font-size: 14px; text-anchor: middle}.axes line, .edge {stroke: black; fill: none}.y-axis .grid {stroke: #FAFAFA}.node > .sym {fill: black; stroke: none}.site > .sym {stroke: black}.mut text {fill: red; font-style: italic}.mut.extra text {fill: hotpink}.mut line {fill: none; stroke: none}.mut .sym {fill: none; stroke: red}.mut.extra .sym {stroke: hotpink}.node .mut .sym {stroke-width: 1.5px}.tree text, .tree-sequence text {dominant-baseline: central}.plotbox .lab.lft {text-anchor: end}.plotbox .lab.rgt {text-anchor: start}]]></style></defs><g class=\"tree-sequence\"><g class=\"background\"><path d=\"M56.8,0 l174.4,0 l0,138.2 l-69.76,25 l0,5 l-104.64,0 l0,-5 l0,-25 l0,-138.2z\" /><path d=\"M231.2,0 l174.4,0 l0,138.2 l69.76,25 l0,5 l-313.92,0 l0,-5 l69.76,-25 l0,-138.2z\" /><path d=\"M405.6,0 l174.4,0 l0,138.2 l0,25 l0,5 l-104.64,0 l0,-5 l-69.76,-25 l0,-138.2z\" /></g><g class=\"axes\"><g class=\"x-axis\"><g transform=\"translate(318.4 200)\"><text class=\"lab\" text-anchor=\"middle\" transform=\"translate(0 -11)\">Genome position</text></g><line x1=\"56.8\" x2=\"580\" y1=\"163.2\" y2=\"163.2\" /><g class=\"ticks\"><g class=\"tick\" transform=\"translate(56.8 163.2)\"><line x1=\"0\" x2=\"0\" y1=\"0\" y2=\"5\" /><g transform=\"translate(0 6)\"><text class=\"lab\">0</text></g></g><g class=\"tick\" transform=\"translate(161.44 163.2)\"><line x1=\"0\" x2=\"0\" y1=\"0\" y2=\"5\" /><g transform=\"translate(0 6)\"><text class=\"lab\">20</text></g></g><g class=\"tick\" transform=\"translate(475.36 163.2)\"><line x1=\"0\" x2=\"0\" y1=\"0\" y2=\"5\" /><g transform=\"translate(0 6)\"><text class=\"lab\">80</text></g></g><g class=\"tick\" transform=\"translate(580 163.2)\"><line x1=\"0\" x2=\"0\" y1=\"0\" y2=\"5\" /><g transform=\"translate(0 6)\"><text class=\"lab\">100</text></g></g></g></g><g class=\"y-axis\"><g transform=\"translate(0 65.7)\"><text class=\"lab\" text-anchor=\"middle\" transform=\"translate(11) rotate(-90)\">Time</text></g><line x1=\"56.8\" x2=\"56.8\" y1=\"121.4\" y2=\"10\" /><g class=\"ticks\"><g class=\"tick\" transform=\"translate(56.8 121.4)\"><line x1=\"0\" x2=\"-5\" y1=\"0\" y2=\"0\" /><g transform=\"translate(-6 0)\"><text class=\"lab\" text-anchor=\"end\">0.00</text></g></g><g class=\"tick\" transform=\"translate(56.8 107.21)\"><line x1=\"0\" x2=\"-5\" y1=\"0\" y2=\"0\" /><g transform=\"translate(-6 0)\"><text class=\"lab\" text-anchor=\"end\">0.15</text></g></g><g class=\"tick\" transform=\"translate(56.8 64.64)\"><line x1=\"0\" x2=\"-5\" y1=\"0\" y2=\"0\" /><g transform=\"translate(-6 0)\"><text class=\"lab\" text-anchor=\"end\">0.60</text></g></g><g class=\"tick\" transform=\"translate(56.8 45.72)\"><line x1=\"0\" x2=\"-5\" y1=\"0\" y2=\"0\" /><g transform=\"translate(-6 0)\"><text class=\"lab\" text-anchor=\"end\">0.80</text></g></g><g class=\"tick\" transform=\"translate(56.8 26.8)\"><line x1=\"0\" x2=\"-5\" y1=\"0\" y2=\"0\" /><g transform=\"translate(-6 0)\"><text class=\"lab\" text-anchor=\"end\">1.00</text></g></g></g></g></g><g class=\"plotbox trees\"><g class=\"tree t0\" transform=\"translate(56.8 0)\"><g class=\"plotbox\"><g class=\"c2 node n6 root\" transform=\"translate(76 26.8)\"><g class=\"a6 i0 leaf node n0 p0 sample\" transform=\"translate(-33.6 94.6)\"><path class=\"edge\" d=\"M 0 0 V -94.6 H 33.6\" /><rect class=\"sym\" height=\"6\" width=\"6\" x=\"-3\" y=\"-3\" /><text class=\"lab\" transform=\"translate(0 11)\">0</text></g><g class=\"a6 c2 node n4\" transform=\"translate(33.6 37.84)\"><g class=\"a4 i0 leaf node n1 p0 sample\" transform=\"translate(-22.4 56.76)\"><path class=\"edge\" d=\"M 0 0 V -56.76 H 22.4\" /><rect class=\"sym\" height=\"6\" width=\"6\" x=\"-3\" y=\"-3\" /><text class=\"lab\" transform=\"translate(0 11)\">1</text></g><g class=\"a4 i1 leaf node n2 p0 sample\" transform=\"translate(22.4 56.76)\"><path class=\"edge\" d=\"M 0 0 V -56.76 H -22.4\" /><rect class=\"sym\" height=\"6\" width=\"6\" x=\"-3\" y=\"-3\" /><text class=\"lab\" transform=\"translate(0 11)\">2</text></g><path class=\"edge\" d=\"M 0 0 V -37.84 H -33.6\" /><circle class=\"sym\" cx=\"0\" cy=\"0\" r=\"3\" /><text class=\"lab rgt\" transform=\"translate(3 -7.0)\">4</text></g><circle class=\"sym\" cx=\"0\" cy=\"0\" r=\"3\" /><text class=\"lab\" transform=\"translate(0 -11)\">6</text></g></g></g><g class=\"tree t1\" transform=\"translate(231.2 0)\"><g class=\"plotbox\"><g class=\"c2 node n4 root\" transform=\"translate(98.4 64.64)\"><g class=\"a4 i0 leaf node n1 p0 sample\" transform=\"translate(33.6 56.76)\"><path class=\"edge\" d=\"M 0 0 V -56.76 H -33.6\" /><rect class=\"sym\" height=\"6\" width=\"6\" x=\"-3\" y=\"-3\" /><text class=\"lab\" transform=\"translate(0 11)\">1</text></g><g class=\"a4 c2 i2 node n3 p0\" transform=\"translate(-33.6 42.57)\"><g class=\"a3 i0 leaf node n0 p0 sample\" transform=\"translate(-22.4 14.19)\"><path class=\"edge\" d=\"M 0 0 V -14.19 H 22.4\" /><rect class=\"sym\" height=\"6\" width=\"6\" x=\"-3\" y=\"-3\" /><text class=\"lab\" transform=\"translate(0 11)\">0</text></g><g class=\"a3 i1 leaf node n2 p0 sample\" transform=\"translate(22.4 14.19)\"><path class=\"edge\" d=\"M 0 0 V -14.19 H -22.4\" /><rect class=\"sym\" height=\"6\" width=\"6\" x=\"-3\" y=\"-3\" /><text class=\"lab\" transform=\"translate(0 11)\">2</text></g><path class=\"edge\" d=\"M 0 0 V -42.57 H 33.6\" /><circle class=\"sym\" cx=\"0\" cy=\"0\" r=\"3\" /><text class=\"lab lft\" transform=\"translate(-3 -7.0)\">3</text></g><circle class=\"sym\" cx=\"0\" cy=\"0\" r=\"3\" /><text class=\"lab\" transform=\"translate(0 -11)\">4</text></g></g></g><g class=\"tree t2\" transform=\"translate(405.6 0)\"><g class=\"plotbox\"><g class=\"c2 node n5 root\" transform=\"translate(76 45.72)\"><g class=\"a5 i0 leaf node n0 p0 sample\" transform=\"translate(-33.6 75.68)\"><path class=\"edge\" d=\"M 0 0 V -75.68 H 33.6\" /><rect class=\"sym\" height=\"6\" width=\"6\" x=\"-3\" y=\"-3\" /><text class=\"lab\" transform=\"translate(0 11)\">0</text></g><g class=\"a5 c2 node n4\" transform=\"translate(33.6 18.92)\"><g class=\"a4 i0 leaf node n1 p0 sample\" transform=\"translate(-22.4 56.76)\"><path class=\"edge\" d=\"M 0 0 V -56.76 H 22.4\" /><rect class=\"sym\" height=\"6\" width=\"6\" x=\"-3\" y=\"-3\" /><text class=\"lab\" transform=\"translate(0 11)\">1</text></g><g class=\"a4 i1 leaf node n2 p0 sample\" transform=\"translate(22.4 56.76)\"><path class=\"edge\" d=\"M 0 0 V -56.76 H -22.4\" /><rect class=\"sym\" height=\"6\" width=\"6\" x=\"-3\" y=\"-3\" /><text class=\"lab\" transform=\"translate(0 11)\">2</text></g><path class=\"edge\" d=\"M 0 0 V -18.92 H -33.6\" /><circle class=\"sym\" cx=\"0\" cy=\"0\" r=\"3\" /><text class=\"lab rgt\" transform=\"translate(3 -7.0)\">4</text></g><circle class=\"sym\" cx=\"0\" cy=\"0\" r=\"3\" /><text class=\"lab\" transform=\"translate(0 -11)\">5</text></g></g></g></g></g></svg>'"
      ]
     },
     "execution_count": 3,
     "metadata": {
      "filenames": {
       "image/svg+xml": "/home/runner/work/tutorials/tutorials/_build/jupyter_execute/tables_and_editing_4_0.svg"
      }
     },
     "output_type": "execute_result"
    }
   ],
   "source": [
    "ts.draw_svg(y_axis=True)"
   ]
  },
  {
   "cell_type": "markdown",
   "id": "5e8b03a0",
   "metadata": {},
   "source": [
    "Ancestral recombination events have produced three different trees\n",
    "that relate the three sampled genomes ``0``, ``1``, and ``2`` to each other\n",
    "along the chromosome of length 100.\n",
    "\n",
    "(sec_tables_correspondence_nodes_and_edges)=\n",
    "\n",
    "### Node and edge tables\n",
    "\n",
    "Each node in each of the above trees represents a particular ancestral genome\n",
    "(a *haploid* genome; diploid individuals would be represented by two nodes).\n",
    "Details about each node, including the time it lived, are stored in a\n",
    "{class}`NodeTable` (details {ref}`here<tskit:sec_mutation_table_definition>`)"
   ]
  },
  {
   "cell_type": "code",
   "execution_count": 4,
   "id": "c02f70f7",
   "metadata": {},
   "outputs": [
    {
     "data": {
      "text/html": [
       "\n",
       "            <div>\n",
       "                <style scoped=\"\">\n",
       "                    .tskit-table tbody tr th:only-of-type {vertical-align: middle;}\n",
       "                    .tskit-table tbody tr th {vertical-align: top;}\n",
       "                    .tskit-table tbody td {text-align: right;padding: 0.5em 0.5em;}\n",
       "                    .tskit-table tbody th {padding: 0.5em 0.5em;}\n",
       "                </style>\n",
       "                <table border=\"1\" class=\"tskit-table\">\n",
       "                    <thead>\n",
       "                        <tr>\n",
       "                            <th>id</th><th>flags</th><th>population</th><th>individual</th><th>time</th><th>metadata</th>\n",
       "                        </tr>\n",
       "                    </thead>\n",
       "                    <tbody>\n",
       "                        <tr><td>0</td><td>1</td><td>0</td><td>0</td><td>0.00000000</td><td></td></tr>\n",
       "<tr><td>1</td><td>1</td><td>0</td><td>0</td><td>0.00000000</td><td></td></tr>\n",
       "<tr><td>2</td><td>1</td><td>0</td><td>1</td><td>0.00000000</td><td></td></tr>\n",
       "<tr><td>3</td><td>0</td><td>0</td><td>2</td><td>0.15000000</td><td></td></tr>\n",
       "<tr><td>4</td><td>0</td><td>-1</td><td>-1</td><td>0.60000000</td><td></td></tr>\n",
       "<tr><td>5</td><td>0</td><td>-1</td><td>-1</td><td>0.80000000</td><td></td></tr>\n",
       "<tr><td>6</td><td>0</td><td>-1</td><td>-1</td><td>1.00000000</td><td></td></tr>\n",
       "\n",
       "                    </tbody>\n",
       "                </table>\n",
       "            </div>\n"
      ],
      "text/plain": [
       "<tskit.tables.NodeTable at 0x7fa884dd5d00>"
      ]
     },
     "execution_count": 4,
     "metadata": {},
     "output_type": "execute_result"
    }
   ],
   "source": [
    "ts.tables.nodes"
   ]
  },
  {
   "cell_type": "markdown",
   "id": "fabdd1d1",
   "metadata": {},
   "source": [
    "Importantly, the first column, `id`, is not actually recorded, and is\n",
    "only shown when printing out node tables (as here) for convenience.\n",
    "The second column, `flags` records a `1` for the nodes that are *samples*,\n",
    "i.e., whose entire genealogical history is recorded by these trees.\n",
    "You can see that the sample nodes are present in all the trees, but other nodes need\n",
    "not be: for example node 3 is only seen in the middle tree. The `individual` and\n",
    "`population` columns store an index into the rows of the\n",
    "{ref}`sec_tables_overview_individuals_and_populations`, or `tskit.NULL` (`-1`)\n",
    "if the node is not associated with an individual or population. The ``time`` column\n",
    "records the historical age of the node, with contemporary nodes having a ``time`` of 0.\n",
    "\n",
    "The way the nodes are related to each other (i.e. the tree topology) is stored\n",
    "in an {class}`EdgeTable` (details {ref}`here<tskit:sec_edge_table_definition>`).\n",
    "Since some edges are present in more than one tree (e.g., node 1 inherits from node 4\n",
    "across the entire sequence), each edge contains not only the IDs of a parent and a child\n",
    "node, but also the left and right positions which define the genomic region for which it\n",
    "appears in the trees:"
   ]
  },
  {
   "cell_type": "code",
   "execution_count": 5,
   "id": "615b68e9",
   "metadata": {},
   "outputs": [
    {
     "data": {
      "text/html": [
       "\n",
       "            <div>\n",
       "                <style scoped=\"\">\n",
       "                    .tskit-table tbody tr th:only-of-type {vertical-align: middle;}\n",
       "                    .tskit-table tbody tr th {vertical-align: top;}\n",
       "                    .tskit-table tbody td {text-align: right;padding: 0.5em 0.5em;}\n",
       "                    .tskit-table tbody th {padding: 0.5em 0.5em;}\n",
       "                </style>\n",
       "                <table border=\"1\" class=\"tskit-table\">\n",
       "                    <thead>\n",
       "                        <tr>\n",
       "                            <th>id</th><th>left</th><th>right</th><th>parent</th><th>child</th><th>metadata</th>\n",
       "                        </tr>\n",
       "                    </thead>\n",
       "                    <tbody>\n",
       "                        <tr><td>0</td><td>20</td><td>80</td><td>3</td><td>0</td><td></td></tr>\n",
       "<tr><td>1</td><td>20</td><td>80</td><td>3</td><td>2</td><td></td></tr>\n",
       "<tr><td>2</td><td>0</td><td>100</td><td>4</td><td>1</td><td></td></tr>\n",
       "<tr><td>3</td><td>0</td><td>20</td><td>4</td><td>2</td><td></td></tr>\n",
       "<tr><td>4</td><td>80</td><td>100</td><td>4</td><td>2</td><td></td></tr>\n",
       "<tr><td>5</td><td>20</td><td>80</td><td>4</td><td>3</td><td></td></tr>\n",
       "<tr><td>6</td><td>80</td><td>100</td><td>5</td><td>0</td><td></td></tr>\n",
       "<tr><td>7</td><td>80</td><td>100</td><td>5</td><td>4</td><td></td></tr>\n",
       "<tr><td>8</td><td>0</td><td>20</td><td>6</td><td>0</td><td></td></tr>\n",
       "<tr><td>9</td><td>0</td><td>20</td><td>6</td><td>4</td><td></td></tr>\n",
       "\n",
       "                    </tbody>\n",
       "                </table>\n",
       "            </div>\n"
      ],
      "text/plain": [
       "<tskit.tables.EdgeTable at 0x7fa8643feaf0>"
      ]
     },
     "execution_count": 5,
     "metadata": {},
     "output_type": "execute_result"
    }
   ],
   "source": [
    "ts.tables.edges"
   ]
  },
  {
   "cell_type": "markdown",
   "id": "0216704d",
   "metadata": {},
   "source": [
    "Since node 3 is most recent, the edge that says that nodes 0 and 2 inherit\n",
    "from node 3 on the interval between 0.2 and 0.8 comes first.  Next are the\n",
    "edges from node 4: there are four of these, as the edge from node 4 to node\n",
    "1 is shared across the entire sequence, and for each of the three\n",
    "genomic intervals there is an additional child node. At this\n",
    "point, we know the full tree on the middle interval.  Finally, edges\n",
    "specifying the common ancestor of 0 and 4 on the remaining intervals (parents 6\n",
    "and 5 respectively) allow us to construct all trees across the entire interval.\n",
    "\n",
    "\n",
    "(sec_tables_correspondence_sites_and_mutations)=\n",
    "\n",
    "### Site and mutation tables\n",
    "\n",
    "Most tree sequences have DNA variation data associated with them,\n",
    "{ref}`stored as mutations overlaid on the trees<sec_what_is_dna_data>`:"
   ]
  },
  {
   "cell_type": "code",
   "execution_count": 6,
   "id": "9c85bb37",
   "metadata": {},
   "outputs": [],
   "source": [
    "ts = tskit.load(\"data/tables_example_muts.trees\")"
   ]
  },
  {
   "cell_type": "code",
   "execution_count": 7,
   "id": "5afaa97b",
   "metadata": {
    "tags": [
     "hide-input"
    ]
   },
   "outputs": [
    {
     "data": {
      "image/svg+xml": [
       "<svg baseProfile=\"full\" height=\"200\" version=\"1.1\" width=\"600\" xmlns=\"http://www.w3.org/2000/svg\" xmlns:ev=\"http://www.w3.org/2001/xml-events\" xmlns:xlink=\"http://www.w3.org/1999/xlink\"><defs><style type=\"text/css\"><![CDATA[.background path {fill: #808080; fill-opacity: 0}.background path:nth-child(odd) {fill-opacity: .1}.axes {font-size: 14px}.x-axis .tick .lab {font-weight: bold; dominant-baseline: hanging}.axes, .tree {font-size: 14px; text-anchor: middle}.axes line, .edge {stroke: black; fill: none}.y-axis .grid {stroke: #FAFAFA}.node > .sym {fill: black; stroke: none}.site > .sym {stroke: black}.mut text {fill: red; font-style: italic}.mut.extra text {fill: hotpink}.mut line {fill: none; stroke: none}.mut .sym {fill: none; stroke: red}.mut.extra .sym {stroke: hotpink}.node .mut .sym {stroke-width: 1.5px}.tree text, .tree-sequence text {dominant-baseline: central}.plotbox .lab.lft {text-anchor: end}.plotbox .lab.rgt {text-anchor: start}]]></style></defs><g class=\"tree-sequence\"><g class=\"background\"><path d=\"M56.8,0 l174.4,0 l0,138.2 l-69.76,25 l0,5 l-104.64,0 l0,-5 l0,-25 l0,-138.2z\" /><path d=\"M231.2,0 l174.4,0 l0,138.2 l69.76,25 l0,5 l-313.92,0 l0,-5 l69.76,-25 l0,-138.2z\" /><path d=\"M405.6,0 l174.4,0 l0,138.2 l0,25 l0,5 l-104.64,0 l0,-5 l-69.76,-25 l0,-138.2z\" /></g><g class=\"axes\"><g class=\"x-axis\"><g transform=\"translate(318.4 200)\"><text class=\"lab\" text-anchor=\"middle\" transform=\"translate(0 -11)\">Genome position</text></g><line x1=\"56.8\" x2=\"580\" y1=\"163.2\" y2=\"163.2\" /><g class=\"ticks\"><g class=\"tick\" transform=\"translate(56.8 163.2)\"><line x1=\"0\" x2=\"0\" y1=\"0\" y2=\"5\" /><g transform=\"translate(0 6)\"><text class=\"lab\">0</text></g></g><g class=\"tick\" transform=\"translate(161.44 163.2)\"><line x1=\"0\" x2=\"0\" y1=\"0\" y2=\"5\" /><g transform=\"translate(0 6)\"><text class=\"lab\">20</text></g></g><g class=\"tick\" transform=\"translate(475.36 163.2)\"><line x1=\"0\" x2=\"0\" y1=\"0\" y2=\"5\" /><g transform=\"translate(0 6)\"><text class=\"lab\">80</text></g></g><g class=\"tick\" transform=\"translate(580 163.2)\"><line x1=\"0\" x2=\"0\" y1=\"0\" y2=\"5\" /><g transform=\"translate(0 6)\"><text class=\"lab\">100</text></g></g></g><g class=\"site s0\" transform=\"translate(135.28 163.2)\"><line class=\"sym\" x1=\"0\" x2=\"0\" y1=\"0\" y2=\"-10\" /><g class=\"mut m0\"><polyline class=\"sym\" points=\"2.5,-6.5 0,-1.5 -2.5,-6.5\" /></g></g><g class=\"site s1\" transform=\"translate(276.544 163.2)\"><line class=\"sym\" x1=\"0\" x2=\"0\" y1=\"0\" y2=\"-10\" /><g class=\"mut m1\"><polyline class=\"sym\" points=\"2.5,-6.5 0,-1.5 -2.5,-6.5\" /></g></g><g class=\"site s2\" transform=\"translate(370.72 163.2)\"><line class=\"sym\" x1=\"0\" x2=\"0\" y1=\"0\" y2=\"-10\" /><g class=\"mut m3\"><polyline class=\"sym\" points=\"2.5,-6.5 0,-1.5 -2.5,-6.5\" /></g><g class=\"mut m2\"><polyline class=\"sym\" points=\"2.5,-10.5 0,-5.5 -2.5,-10.5\" /></g></g></g><g class=\"y-axis\"><g transform=\"translate(0 65.7)\"><text class=\"lab\" text-anchor=\"middle\" transform=\"translate(11) rotate(-90)\">Time</text></g><line x1=\"56.8\" x2=\"56.8\" y1=\"121.4\" y2=\"10\" /><g class=\"ticks\"><g class=\"tick\" transform=\"translate(56.8 121.4)\"><line x1=\"0\" x2=\"-5\" y1=\"0\" y2=\"0\" /><g transform=\"translate(-6 0)\"><text class=\"lab\" text-anchor=\"end\">0.00</text></g></g><g class=\"tick\" transform=\"translate(56.8 107.21)\"><line x1=\"0\" x2=\"-5\" y1=\"0\" y2=\"0\" /><g transform=\"translate(-6 0)\"><text class=\"lab\" text-anchor=\"end\">0.15</text></g></g><g class=\"tick\" transform=\"translate(56.8 64.64)\"><line x1=\"0\" x2=\"-5\" y1=\"0\" y2=\"0\" /><g transform=\"translate(-6 0)\"><text class=\"lab\" text-anchor=\"end\">0.60</text></g></g><g class=\"tick\" transform=\"translate(56.8 45.72)\"><line x1=\"0\" x2=\"-5\" y1=\"0\" y2=\"0\" /><g transform=\"translate(-6 0)\"><text class=\"lab\" text-anchor=\"end\">0.80</text></g></g><g class=\"tick\" transform=\"translate(56.8 26.8)\"><line x1=\"0\" x2=\"-5\" y1=\"0\" y2=\"0\" /><g transform=\"translate(-6 0)\"><text class=\"lab\" text-anchor=\"end\">1.00</text></g></g></g></g></g><g class=\"plotbox trees\"><g class=\"tree t0\" transform=\"translate(56.8 0)\"><g class=\"plotbox\"><g class=\"c2 node n6 root\" transform=\"translate(76 26.8)\"><g class=\"a6 i0 leaf node n0 p0 sample\" transform=\"translate(-33.6 94.6)\"><path class=\"edge\" d=\"M 0 0 V -94.6 H 33.6\" /><rect class=\"sym\" height=\"6\" width=\"6\" x=\"-3\" y=\"-3\" /><text class=\"lab\" transform=\"translate(0 11)\">0</text></g><g class=\"a6 c2 m0 node n4 s0\" transform=\"translate(33.6 37.84)\"><g class=\"a4 i0 leaf node n1 p0 sample\" transform=\"translate(-22.4 56.76)\"><path class=\"edge\" d=\"M 0 0 V -56.76 H 22.4\" /><rect class=\"sym\" height=\"6\" width=\"6\" x=\"-3\" y=\"-3\" /><text class=\"lab\" transform=\"translate(0 11)\">1</text></g><g class=\"a4 i1 leaf node n2 p0 sample\" transform=\"translate(22.4 56.76)\"><path class=\"edge\" d=\"M 0 0 V -56.76 H -22.4\" /><rect class=\"sym\" height=\"6\" width=\"6\" x=\"-3\" y=\"-3\" /><text class=\"lab\" transform=\"translate(0 11)\">2</text></g><path class=\"edge\" d=\"M 0 0 V -37.84 H -33.6\" /><g class=\"mut m0 s0\" transform=\"translate(0 -28.38)\"><line x1=\"0\" x2=\"0\" y1=\"0\" y2=\"28.38\" /><path class=\"sym\" d=\"M -3,-3 l 6,6 M -3,3 l 6,-6\" /><text class=\"lab rgt\" transform=\"translate(5 0)\">A→G @15</text></g><circle class=\"sym\" cx=\"0\" cy=\"0\" r=\"3\" /><text class=\"lab rgt\" transform=\"translate(3 -7.0)\">4</text></g><circle class=\"sym\" cx=\"0\" cy=\"0\" r=\"3\" /><text class=\"lab\" transform=\"translate(0 -11)\">6</text></g></g></g><g class=\"tree t1\" transform=\"translate(231.2 0)\"><g class=\"plotbox\"><g class=\"c2 node n4 root\" transform=\"translate(98.4 64.64)\"><g class=\"a4 i0 leaf m1 node n1 p0 s1 sample\" transform=\"translate(33.6 56.76)\"><path class=\"edge\" d=\"M 0 0 V -56.76 H -33.6\" /><g class=\"mut m1 s1\" transform=\"translate(0 -37.84)\"><line x1=\"0\" x2=\"0\" y1=\"0\" y2=\"37.84\" /><path class=\"sym\" d=\"M -3,-3 l 6,6 M -3,3 l 6,-6\" /><text class=\"lab rgt\" transform=\"translate(5 0)\">G→A @42</text></g><rect class=\"sym\" height=\"6\" width=\"6\" x=\"-3\" y=\"-3\" /><text class=\"lab\" transform=\"translate(0 11)\">1</text></g><g class=\"a4 c2 i2 m2 node n3 p0 s2\" transform=\"translate(-33.6 42.57)\"><g class=\"a3 i0 leaf m3 node n0 p0 s2 sample\" transform=\"translate(-22.4 14.19)\"><path class=\"edge\" d=\"M 0 0 V -14.19 H 22.4\" /><g class=\"mut m3 s2\" transform=\"translate(0 -9.46)\"><line x1=\"0\" x2=\"0\" y1=\"0\" y2=\"9.46\" /><path class=\"sym\" d=\"M -3,-3 l 6,6 M -3,3 l 6,-6\" /><text class=\"lab lft\" transform=\"translate(-5 0)\">C→T @60</text></g><rect class=\"sym\" height=\"6\" width=\"6\" x=\"-3\" y=\"-3\" /><text class=\"lab\" transform=\"translate(0 11)\">0</text></g><g class=\"a3 i1 leaf node n2 p0 sample\" transform=\"translate(22.4 14.19)\"><path class=\"edge\" d=\"M 0 0 V -14.19 H -22.4\" /><rect class=\"sym\" height=\"6\" width=\"6\" x=\"-3\" y=\"-3\" /><text class=\"lab\" transform=\"translate(0 11)\">2</text></g><path class=\"edge\" d=\"M 0 0 V -42.57 H 33.6\" /><g class=\"mut m2 s2\" transform=\"translate(0 -37.84)\"><line x1=\"0\" x2=\"0\" y1=\"0\" y2=\"37.84\" /><path class=\"sym\" d=\"M -3,-3 l 6,6 M -3,3 l 6,-6\" /><text class=\"lab lft\" transform=\"translate(-5 0)\">T→C @60</text></g><circle class=\"sym\" cx=\"0\" cy=\"0\" r=\"3\" /><text class=\"lab lft\" transform=\"translate(-3 -7.0)\">3</text></g><circle class=\"sym\" cx=\"0\" cy=\"0\" r=\"3\" /><text class=\"lab\" transform=\"translate(0 -11)\">4</text></g></g></g><g class=\"tree t2\" transform=\"translate(405.6 0)\"><g class=\"plotbox\"><g class=\"c2 node n5 root\" transform=\"translate(76 45.72)\"><g class=\"a5 i0 leaf node n0 p0 sample\" transform=\"translate(-33.6 75.68)\"><path class=\"edge\" d=\"M 0 0 V -75.68 H 33.6\" /><rect class=\"sym\" height=\"6\" width=\"6\" x=\"-3\" y=\"-3\" /><text class=\"lab\" transform=\"translate(0 11)\">0</text></g><g class=\"a5 c2 node n4\" transform=\"translate(33.6 18.92)\"><g class=\"a4 i0 leaf node n1 p0 sample\" transform=\"translate(-22.4 56.76)\"><path class=\"edge\" d=\"M 0 0 V -56.76 H 22.4\" /><rect class=\"sym\" height=\"6\" width=\"6\" x=\"-3\" y=\"-3\" /><text class=\"lab\" transform=\"translate(0 11)\">1</text></g><g class=\"a4 i1 leaf node n2 p0 sample\" transform=\"translate(22.4 56.76)\"><path class=\"edge\" d=\"M 0 0 V -56.76 H -22.4\" /><rect class=\"sym\" height=\"6\" width=\"6\" x=\"-3\" y=\"-3\" /><text class=\"lab\" transform=\"translate(0 11)\">2</text></g><path class=\"edge\" d=\"M 0 0 V -18.92 H -33.6\" /><circle class=\"sym\" cx=\"0\" cy=\"0\" r=\"3\" /><text class=\"lab rgt\" transform=\"translate(3 -7.0)\">4</text></g><circle class=\"sym\" cx=\"0\" cy=\"0\" r=\"3\" /><text class=\"lab\" transform=\"translate(0 -11)\">5</text></g></g></g></g></g></svg>"
      ],
      "text/plain": [
       "'<svg baseProfile=\"full\" height=\"200\" version=\"1.1\" width=\"600\" xmlns=\"http://www.w3.org/2000/svg\" xmlns:ev=\"http://www.w3.org/2001/xml-events\" xmlns:xlink=\"http://www.w3.org/1999/xlink\"><defs><style type=\"text/css\"><![CDATA[.background path {fill: #808080; fill-opacity: 0}.background path:nth-child(odd) {fill-opacity: .1}.axes {font-size: 14px}.x-axis .tick .lab {font-weight: bold; dominant-baseline: hanging}.axes, .tree {font-size: 14px; text-anchor: middle}.axes line, .edge {stroke: black; fill: none}.y-axis .grid {stroke: #FAFAFA}.node > .sym {fill: black; stroke: none}.site > .sym {stroke: black}.mut text {fill: red; font-style: italic}.mut.extra text {fill: hotpink}.mut line {fill: none; stroke: none}.mut .sym {fill: none; stroke: red}.mut.extra .sym {stroke: hotpink}.node .mut .sym {stroke-width: 1.5px}.tree text, .tree-sequence text {dominant-baseline: central}.plotbox .lab.lft {text-anchor: end}.plotbox .lab.rgt {text-anchor: start}]]></style></defs><g class=\"tree-sequence\"><g class=\"background\"><path d=\"M56.8,0 l174.4,0 l0,138.2 l-69.76,25 l0,5 l-104.64,0 l0,-5 l0,-25 l0,-138.2z\" /><path d=\"M231.2,0 l174.4,0 l0,138.2 l69.76,25 l0,5 l-313.92,0 l0,-5 l69.76,-25 l0,-138.2z\" /><path d=\"M405.6,0 l174.4,0 l0,138.2 l0,25 l0,5 l-104.64,0 l0,-5 l-69.76,-25 l0,-138.2z\" /></g><g class=\"axes\"><g class=\"x-axis\"><g transform=\"translate(318.4 200)\"><text class=\"lab\" text-anchor=\"middle\" transform=\"translate(0 -11)\">Genome position</text></g><line x1=\"56.8\" x2=\"580\" y1=\"163.2\" y2=\"163.2\" /><g class=\"ticks\"><g class=\"tick\" transform=\"translate(56.8 163.2)\"><line x1=\"0\" x2=\"0\" y1=\"0\" y2=\"5\" /><g transform=\"translate(0 6)\"><text class=\"lab\">0</text></g></g><g class=\"tick\" transform=\"translate(161.44 163.2)\"><line x1=\"0\" x2=\"0\" y1=\"0\" y2=\"5\" /><g transform=\"translate(0 6)\"><text class=\"lab\">20</text></g></g><g class=\"tick\" transform=\"translate(475.36 163.2)\"><line x1=\"0\" x2=\"0\" y1=\"0\" y2=\"5\" /><g transform=\"translate(0 6)\"><text class=\"lab\">80</text></g></g><g class=\"tick\" transform=\"translate(580 163.2)\"><line x1=\"0\" x2=\"0\" y1=\"0\" y2=\"5\" /><g transform=\"translate(0 6)\"><text class=\"lab\">100</text></g></g></g><g class=\"site s0\" transform=\"translate(135.28 163.2)\"><line class=\"sym\" x1=\"0\" x2=\"0\" y1=\"0\" y2=\"-10\" /><g class=\"mut m0\"><polyline class=\"sym\" points=\"2.5,-6.5 0,-1.5 -2.5,-6.5\" /></g></g><g class=\"site s1\" transform=\"translate(276.544 163.2)\"><line class=\"sym\" x1=\"0\" x2=\"0\" y1=\"0\" y2=\"-10\" /><g class=\"mut m1\"><polyline class=\"sym\" points=\"2.5,-6.5 0,-1.5 -2.5,-6.5\" /></g></g><g class=\"site s2\" transform=\"translate(370.72 163.2)\"><line class=\"sym\" x1=\"0\" x2=\"0\" y1=\"0\" y2=\"-10\" /><g class=\"mut m3\"><polyline class=\"sym\" points=\"2.5,-6.5 0,-1.5 -2.5,-6.5\" /></g><g class=\"mut m2\"><polyline class=\"sym\" points=\"2.5,-10.5 0,-5.5 -2.5,-10.5\" /></g></g></g><g class=\"y-axis\"><g transform=\"translate(0 65.7)\"><text class=\"lab\" text-anchor=\"middle\" transform=\"translate(11) rotate(-90)\">Time</text></g><line x1=\"56.8\" x2=\"56.8\" y1=\"121.4\" y2=\"10\" /><g class=\"ticks\"><g class=\"tick\" transform=\"translate(56.8 121.4)\"><line x1=\"0\" x2=\"-5\" y1=\"0\" y2=\"0\" /><g transform=\"translate(-6 0)\"><text class=\"lab\" text-anchor=\"end\">0.00</text></g></g><g class=\"tick\" transform=\"translate(56.8 107.21)\"><line x1=\"0\" x2=\"-5\" y1=\"0\" y2=\"0\" /><g transform=\"translate(-6 0)\"><text class=\"lab\" text-anchor=\"end\">0.15</text></g></g><g class=\"tick\" transform=\"translate(56.8 64.64)\"><line x1=\"0\" x2=\"-5\" y1=\"0\" y2=\"0\" /><g transform=\"translate(-6 0)\"><text class=\"lab\" text-anchor=\"end\">0.60</text></g></g><g class=\"tick\" transform=\"translate(56.8 45.72)\"><line x1=\"0\" x2=\"-5\" y1=\"0\" y2=\"0\" /><g transform=\"translate(-6 0)\"><text class=\"lab\" text-anchor=\"end\">0.80</text></g></g><g class=\"tick\" transform=\"translate(56.8 26.8)\"><line x1=\"0\" x2=\"-5\" y1=\"0\" y2=\"0\" /><g transform=\"translate(-6 0)\"><text class=\"lab\" text-anchor=\"end\">1.00</text></g></g></g></g></g><g class=\"plotbox trees\"><g class=\"tree t0\" transform=\"translate(56.8 0)\"><g class=\"plotbox\"><g class=\"c2 node n6 root\" transform=\"translate(76 26.8)\"><g class=\"a6 i0 leaf node n0 p0 sample\" transform=\"translate(-33.6 94.6)\"><path class=\"edge\" d=\"M 0 0 V -94.6 H 33.6\" /><rect class=\"sym\" height=\"6\" width=\"6\" x=\"-3\" y=\"-3\" /><text class=\"lab\" transform=\"translate(0 11)\">0</text></g><g class=\"a6 c2 m0 node n4 s0\" transform=\"translate(33.6 37.84)\"><g class=\"a4 i0 leaf node n1 p0 sample\" transform=\"translate(-22.4 56.76)\"><path class=\"edge\" d=\"M 0 0 V -56.76 H 22.4\" /><rect class=\"sym\" height=\"6\" width=\"6\" x=\"-3\" y=\"-3\" /><text class=\"lab\" transform=\"translate(0 11)\">1</text></g><g class=\"a4 i1 leaf node n2 p0 sample\" transform=\"translate(22.4 56.76)\"><path class=\"edge\" d=\"M 0 0 V -56.76 H -22.4\" /><rect class=\"sym\" height=\"6\" width=\"6\" x=\"-3\" y=\"-3\" /><text class=\"lab\" transform=\"translate(0 11)\">2</text></g><path class=\"edge\" d=\"M 0 0 V -37.84 H -33.6\" /><g class=\"mut m0 s0\" transform=\"translate(0 -28.38)\"><line x1=\"0\" x2=\"0\" y1=\"0\" y2=\"28.38\" /><path class=\"sym\" d=\"M -3,-3 l 6,6 M -3,3 l 6,-6\" /><text class=\"lab rgt\" transform=\"translate(5 0)\">A→G @15</text></g><circle class=\"sym\" cx=\"0\" cy=\"0\" r=\"3\" /><text class=\"lab rgt\" transform=\"translate(3 -7.0)\">4</text></g><circle class=\"sym\" cx=\"0\" cy=\"0\" r=\"3\" /><text class=\"lab\" transform=\"translate(0 -11)\">6</text></g></g></g><g class=\"tree t1\" transform=\"translate(231.2 0)\"><g class=\"plotbox\"><g class=\"c2 node n4 root\" transform=\"translate(98.4 64.64)\"><g class=\"a4 i0 leaf m1 node n1 p0 s1 sample\" transform=\"translate(33.6 56.76)\"><path class=\"edge\" d=\"M 0 0 V -56.76 H -33.6\" /><g class=\"mut m1 s1\" transform=\"translate(0 -37.84)\"><line x1=\"0\" x2=\"0\" y1=\"0\" y2=\"37.84\" /><path class=\"sym\" d=\"M -3,-3 l 6,6 M -3,3 l 6,-6\" /><text class=\"lab rgt\" transform=\"translate(5 0)\">G→A @42</text></g><rect class=\"sym\" height=\"6\" width=\"6\" x=\"-3\" y=\"-3\" /><text class=\"lab\" transform=\"translate(0 11)\">1</text></g><g class=\"a4 c2 i2 m2 node n3 p0 s2\" transform=\"translate(-33.6 42.57)\"><g class=\"a3 i0 leaf m3 node n0 p0 s2 sample\" transform=\"translate(-22.4 14.19)\"><path class=\"edge\" d=\"M 0 0 V -14.19 H 22.4\" /><g class=\"mut m3 s2\" transform=\"translate(0 -9.46)\"><line x1=\"0\" x2=\"0\" y1=\"0\" y2=\"9.46\" /><path class=\"sym\" d=\"M -3,-3 l 6,6 M -3,3 l 6,-6\" /><text class=\"lab lft\" transform=\"translate(-5 0)\">C→T @60</text></g><rect class=\"sym\" height=\"6\" width=\"6\" x=\"-3\" y=\"-3\" /><text class=\"lab\" transform=\"translate(0 11)\">0</text></g><g class=\"a3 i1 leaf node n2 p0 sample\" transform=\"translate(22.4 14.19)\"><path class=\"edge\" d=\"M 0 0 V -14.19 H -22.4\" /><rect class=\"sym\" height=\"6\" width=\"6\" x=\"-3\" y=\"-3\" /><text class=\"lab\" transform=\"translate(0 11)\">2</text></g><path class=\"edge\" d=\"M 0 0 V -42.57 H 33.6\" /><g class=\"mut m2 s2\" transform=\"translate(0 -37.84)\"><line x1=\"0\" x2=\"0\" y1=\"0\" y2=\"37.84\" /><path class=\"sym\" d=\"M -3,-3 l 6,6 M -3,3 l 6,-6\" /><text class=\"lab lft\" transform=\"translate(-5 0)\">T→C @60</text></g><circle class=\"sym\" cx=\"0\" cy=\"0\" r=\"3\" /><text class=\"lab lft\" transform=\"translate(-3 -7.0)\">3</text></g><circle class=\"sym\" cx=\"0\" cy=\"0\" r=\"3\" /><text class=\"lab\" transform=\"translate(0 -11)\">4</text></g></g></g><g class=\"tree t2\" transform=\"translate(405.6 0)\"><g class=\"plotbox\"><g class=\"c2 node n5 root\" transform=\"translate(76 45.72)\"><g class=\"a5 i0 leaf node n0 p0 sample\" transform=\"translate(-33.6 75.68)\"><path class=\"edge\" d=\"M 0 0 V -75.68 H 33.6\" /><rect class=\"sym\" height=\"6\" width=\"6\" x=\"-3\" y=\"-3\" /><text class=\"lab\" transform=\"translate(0 11)\">0</text></g><g class=\"a5 c2 node n4\" transform=\"translate(33.6 18.92)\"><g class=\"a4 i0 leaf node n1 p0 sample\" transform=\"translate(-22.4 56.76)\"><path class=\"edge\" d=\"M 0 0 V -56.76 H 22.4\" /><rect class=\"sym\" height=\"6\" width=\"6\" x=\"-3\" y=\"-3\" /><text class=\"lab\" transform=\"translate(0 11)\">1</text></g><g class=\"a4 i1 leaf node n2 p0 sample\" transform=\"translate(22.4 56.76)\"><path class=\"edge\" d=\"M 0 0 V -56.76 H -22.4\" /><rect class=\"sym\" height=\"6\" width=\"6\" x=\"-3\" y=\"-3\" /><text class=\"lab\" transform=\"translate(0 11)\">2</text></g><path class=\"edge\" d=\"M 0 0 V -18.92 H -33.6\" /><circle class=\"sym\" cx=\"0\" cy=\"0\" r=\"3\" /><text class=\"lab rgt\" transform=\"translate(3 -7.0)\">4</text></g><circle class=\"sym\" cx=\"0\" cy=\"0\" r=\"3\" /><text class=\"lab\" transform=\"translate(0 -11)\">5</text></g></g></g></g></g></svg>'"
      ]
     },
     "execution_count": 7,
     "metadata": {
      "filenames": {
       "image/svg+xml": "/home/runner/work/tutorials/tutorials/_build/jupyter_execute/tables_and_editing_11_0.svg"
      }
     },
     "output_type": "execute_result"
    }
   ],
   "source": [
    "mut_labels = {}  # An array of labels for the mutations, listing position & allele change\n",
    "for mut in ts.mutations():  # This entire loop is just to make pretty labels\n",
    "    site = ts.site(mut.site)\n",
    "    older_mut = mut.parent >= 0  # is there an older mutation at the same position?\n",
    "    prev = ts.mutation(mut.parent).derived_state if older_mut else site.ancestral_state\n",
    "    mut_labels[mut.id] = \"{}→{} @{:g}\".format(prev, mut.derived_state, site.position)\n",
    "ts.draw_svg(y_axis=True, mutation_labels=mut_labels)"
   ]
  },
  {
   "cell_type": "markdown",
   "id": "39b024f0",
   "metadata": {},
   "source": [
    "There are four mutations in the depiction above,\n",
    "marked by red crosses: one above node ``4`` on the first tree which records an A to G\n",
    "transition at position 15, another above node ``1`` in the second tree which records a G\n",
    "to A transition at position 42, and the final two above nodes ``0`` and ``3`` recording\n",
    "transitions, both at position 60, on the second tree. The positions are recorded in the\n",
    "{class}`SiteTable` (details {ref}`here<tskit:sec_site_table_definition>`):"
   ]
  },
  {
   "cell_type": "code",
   "execution_count": 8,
   "id": "8cdbd044",
   "metadata": {},
   "outputs": [
    {
     "data": {
      "text/html": [
       "\n",
       "            <div>\n",
       "                <style scoped=\"\">\n",
       "                    .tskit-table tbody tr th:only-of-type {vertical-align: middle;}\n",
       "                    .tskit-table tbody tr th {vertical-align: top;}\n",
       "                    .tskit-table tbody td {text-align: right;padding: 0.5em 0.5em;}\n",
       "                    .tskit-table tbody th {padding: 0.5em 0.5em;}\n",
       "                </style>\n",
       "                <table border=\"1\" class=\"tskit-table\">\n",
       "                    <thead>\n",
       "                        <tr>\n",
       "                            <th>id</th><th>position</th><th>ancestral_state</th><th>metadata</th>\n",
       "                        </tr>\n",
       "                    </thead>\n",
       "                    <tbody>\n",
       "                        <tr><td>0</td><td>15</td><td>A</td><td></td></tr>\n",
       "<tr><td>1</td><td>42</td><td>G</td><td></td></tr>\n",
       "<tr><td>2</td><td>60</td><td>T</td><td></td></tr>\n",
       "\n",
       "                    </tbody>\n",
       "                </table>\n",
       "            </div>\n"
      ],
      "text/plain": [
       "<tskit.tables.SiteTable at 0x7fa8643a2940>"
      ]
     },
     "execution_count": 8,
     "metadata": {},
     "output_type": "execute_result"
    }
   ],
   "source": [
    "ts.tables.sites"
   ]
  },
  {
   "cell_type": "markdown",
   "id": "a4d70787",
   "metadata": {},
   "source": [
    "As with node tables, the ``id`` column is **not** actually recorded, but is\n",
    "implied by the position in the table.  The mutations themselves are recorded in the\n",
    "{class}`MutationTable` (details {ref}`here<tskit:sec_mutation_table_definition>`).\n",
    "This associates each mutation with a site ID, the ID of the node above which the\n",
    "mutation occurs, the derived state to which the allele has mutated, and (optionally) a\n",
    "time at which the mutation occured."
   ]
  },
  {
   "cell_type": "code",
   "execution_count": 9,
   "id": "baa10f6f",
   "metadata": {},
   "outputs": [
    {
     "data": {
      "text/html": [
       "\n",
       "            <div>\n",
       "                <style scoped=\"\">\n",
       "                    .tskit-table tbody tr th:only-of-type {vertical-align: middle;}\n",
       "                    .tskit-table tbody tr th {vertical-align: top;}\n",
       "                    .tskit-table tbody td {text-align: right;padding: 0.5em 0.5em;}\n",
       "                    .tskit-table tbody th {padding: 0.5em 0.5em;}\n",
       "                </style>\n",
       "                <table border=\"1\" class=\"tskit-table\">\n",
       "                    <thead>\n",
       "                        <tr>\n",
       "                            <th>id</th><th>site</th><th>node</th><th>time</th><th>derived_state</th><th>parent</th><th>metadata</th>\n",
       "                        </tr>\n",
       "                    </thead>\n",
       "                    <tbody>\n",
       "                        <tr><td>0</td><td>0</td><td>4</td><td>0.90000000</td><td>G</td><td>-1</td><td></td></tr>\n",
       "<tr><td>1</td><td>1</td><td>1</td><td>0.40000000</td><td>A</td><td>-1</td><td></td></tr>\n",
       "<tr><td>2</td><td>2</td><td>3</td><td>0.55000000</td><td>C</td><td>-1</td><td></td></tr>\n",
       "<tr><td>3</td><td>2</td><td>0</td><td>0.10000000</td><td>T</td><td>2</td><td></td></tr>\n",
       "\n",
       "                    </tbody>\n",
       "                </table>\n",
       "            </div>\n"
      ],
      "text/plain": [
       "<tskit.tables.MutationTable at 0x7fa889df2c70>"
      ]
     },
     "execution_count": 9,
     "metadata": {},
     "output_type": "execute_result"
    }
   ],
   "source": [
    "ts.tables.mutations"
   ]
  },
  {
   "cell_type": "markdown",
   "id": "e21b6367",
   "metadata": {},
   "source": [
    "Where there are multiple mutations at the same site, there can be mutations\n",
    "stacked on top of each other. The \"parent\" column therefore contains the ID of the\n",
    "mutation immediately above the current one at the same site, or -1 if there is no parent.\n",
    "\n",
    "These sites and mutations allow us to calculate the DNA sequence, or haplotype, for each\n",
    "of the sample nodes:"
   ]
  },
  {
   "cell_type": "code",
   "execution_count": 10,
   "id": "20d74e20",
   "metadata": {},
   "outputs": [
    {
     "name": "stdout",
     "output_type": "stream",
     "text": [
      "Sample 0: AGT\n",
      "Sample 1: GAT\n",
      "Sample 2: GGC\n"
     ]
    }
   ],
   "source": [
    "for sample, h in enumerate(ts.haplotypes()):\n",
    "    print(f\"Sample {sample}: {h}\")"
   ]
  },
  {
   "cell_type": "markdown",
   "id": "d33cba44",
   "metadata": {},
   "source": [
    "(sec_tables_overview)=\n",
    "\n",
    "## Tables overview\n",
    "\n",
    "Now that we've introduced the most important tables that make up a tree sequence, it's\n",
    "worth seeing how they come together to form a {class}`TableCollection`.\n",
    "\n",
    "\n",
    "::::{margin}\n",
    ":::{note}\n",
    "For simplicity, this diagram omits 2 extra tables which form part of a\n",
    "{class}`TableCollection`: the {class}`MigrationTable`\n",
    "(recording details of migrations between populations), and the {class}`ProvenanceTable`\n",
    "(recording the {ref}`provenance<tskit:sec_provenance>` of the data in a tree sequence)\n",
    ":::\n",
    "::::\n",
    "\n",
    "The following visualization shows how they relate to one another, as well as introducing\n",
    "two additional tables: the {class}`IndividualTable` and {class}`PopulationTable`\n",
    "(which record which\n",
    "{ref}`individuals and populations<sec_terminology_individuals_and_populations>` a node\n",
    "is contained in).\n",
    "\n",
    "![The tables in a tree sequence, and their interdependencies](_static/tables_uml.svg)\n",
    "\n",
    "The lines in this diagram below show where one table refers to the IDs\n",
    "of another table, that is, they indicate dependencies between tables.\n",
    "\n",
    "\n",
    "(sec_tables_overview_individuals_and_populations)=\n",
    "\n",
    "### Individual and population tables\n",
    "\n",
    "Previously we noted that a row in the node table could contain an index into the\n",
    "{class}`IndividualTable` and the {class}`PopulationTable`. In fact, in our example\n",
    "tree sequence, the {ref}`node table above<sec_tables_correspondence_nodes_and_edges>`\n",
    "indicates that nodes 0 to 3 belong to the population with ID 0 in the population table.\n",
    "Here's what that table looks like in this tree sequence:"
   ]
  },
  {
   "cell_type": "code",
   "execution_count": 11,
   "id": "f3a174a6",
   "metadata": {},
   "outputs": [
    {
     "data": {
      "text/html": [
       "\n",
       "<div>\n",
       "    <style scoped=\"\">\n",
       "        .tskit-table tbody tr th:only-of-type {vertical-align: middle;}\n",
       "        .tskit-table tbody tr th {vertical-align: top;}\n",
       "        .tskit-table tbody td {text-align: right;padding: 0.5em 0.5em;}\n",
       "        .tskit-table tbody th {padding: 0.5em 0.5em;}\n",
       "    </style>\n",
       "    <table border=\"1\" class=\"tskit-table\">\n",
       "        <thead>\n",
       "            <tr>\n",
       "                <th>id</th><th>metadata</th>\n",
       "            </tr>\n",
       "        </thead>\n",
       "        <tbody>\n",
       "            <tr><td>0</td><td>{'name': 'GBR', 'description': 'British in England and Scotland'}</td></tr>\n",
       "\n",
       "        </tbody>\n",
       "    </table>\n",
       "</div>\n"
      ],
      "text/plain": [
       "<tskit.tables.PopulationTable at 0x7fa884dd5610>"
      ]
     },
     "execution_count": 11,
     "metadata": {},
     "output_type": "execute_result"
    }
   ],
   "source": [
    "ts.tables.populations"
   ]
  },
  {
   "cell_type": "markdown",
   "id": "406b611d",
   "metadata": {},
   "source": [
    "The data in this table, and indeed in the individual table, is not visible in the\n",
    "default tree sequence visualization, but can be very useful for keeping track of\n",
    "information about the identity and location of nodes in the tree sequence. In\n",
    "particular, you can see that the populations in this tree sequence have associated\n",
    "*metadata*, a topic we will discuss in the\n",
    "{ref}`next section<sec_tables_overview_metadata>`.\n",
    "\n",
    "The node table also indicated that two nodes (node 0 and 1) point to the individual with\n",
    "ID 0, one node (node 2) points to individual 1, and another node points to individual 2.\n",
    "Here's the relevant individual table:"
   ]
  },
  {
   "cell_type": "code",
   "execution_count": 12,
   "id": "f31b3fe5",
   "metadata": {},
   "outputs": [
    {
     "data": {
      "text/html": [
       "\n",
       "            <div>\n",
       "                <style scoped=\"\">\n",
       "                    .tskit-table tbody tr th:only-of-type {vertical-align: middle;}\n",
       "                    .tskit-table tbody tr th {vertical-align: top;}\n",
       "                    .tskit-table tbody td {text-align: right;padding: 0.5em 0.5em;}\n",
       "                    .tskit-table tbody th {padding: 0.5em 0.5em;}\n",
       "                </style>\n",
       "                <table border=\"1\" class=\"tskit-table\">\n",
       "                    <thead>\n",
       "                        <tr>\n",
       "                            <th>id</th><th>flags</th><th>location</th><th>parents</th><th>metadata</th>\n",
       "                        </tr>\n",
       "                    </thead>\n",
       "                    <tbody>\n",
       "                        <tr><td>0</td><td>0</td><td></td><td>2, -1</td><td>{'name': 'Alice'}</td></tr>\n",
       "<tr><td>1</td><td>0</td><td></td><td>2, -1</td><td>{'name': 'Bob'}</td></tr>\n",
       "<tr><td>2</td><td>0</td><td></td><td>-1, -1</td><td>{'name': 'Carol'}</td></tr>\n",
       "\n",
       "                    </tbody>\n",
       "                </table>\n",
       "            </div>\n"
      ],
      "text/plain": [
       "<tskit.tables.IndividualTable at 0x7fa8643fea60>"
      ]
     },
     "execution_count": 12,
     "metadata": {},
     "output_type": "execute_result"
    }
   ],
   "source": [
    "ts.tables.individuals"
   ]
  },
  {
   "cell_type": "markdown",
   "id": "7df1b341",
   "metadata": {},
   "source": [
    "Since individual 0 (Alice) is referenced by two nodes (genomes), and assuming that this\n",
    "is a diploid species, this indicates that we have sampled both maternal and paternal\n",
    "genomes for this individual. The other two indivividuals, Bob and Carol, are referenced\n",
    "by only one node, so either we only managed to sample one of their two genomes,\n",
    "or alternatively they could represent haploid individuals.\n",
    "\n",
    "The `location` column of the individual table is intended for geographical location,\n",
    "if relevant. The `parents` column, if filled out, allows us to construct\n",
    "parts of the *pedigree* (the genealogical family tree) connecting the individuals\n",
    "in question. It contains a list of individual IDs (or `tskit.NULL`/`-1` if a\n",
    "parent is unknown). In this case, the `parents` column indicates that Alice and Bob\n",
    "share the same parent, individual 2 (i.e. Carol). That means Alice and Bob must be\n",
    "either siblings or half siblings.\n",
    "\n",
    "\n",
    "(sec_tables_overview_metadata)=\n",
    "\n",
    "### Metadata\n",
    "\n",
    "::::{margin}\n",
    ":::{note}\n",
    "For more information on schemas, see the {ref}`sec_metadata` section of the\n",
    "official {program}`tskit` documentation\n",
    ":::\n",
    "::::\n",
    "\n",
    "As can be seen above, each table row, as well as the entire table collection, can be\n",
    "associated with (optional) metadata, which can be stored in various formats. The format\n",
    "is determined by the *schema* of the metadata. In this example, for clarity, the\n",
    "metadata of the population and individual tables is stored as\n",
    "[JSON](https://www.json.org/).\n",
    "\n",
    "Because we have chosen to use JSON for the metadata of the individuals table, it is\n",
    "easy to access the metadata values:"
   ]
  },
  {
   "cell_type": "code",
   "execution_count": 13,
   "id": "7e1d9720",
   "metadata": {},
   "outputs": [
    {
     "name": "stdout",
     "output_type": "stream",
     "text": [
      "Information from the tree sequence\n",
      "Individual 0 is named Alice\n",
      "Individual 1 is named Bob\n",
      "Individual 2 is named Carol\n",
      "\n",
      "Equivalent information from the associated tables\n",
      "Individual name: Alice\n",
      "Individual name: Bob\n",
      "Individual name: Carol\n"
     ]
    }
   ],
   "source": [
    "print(\"Information from the tree sequence\")\n",
    "for i in ts.individuals():\n",
    "    print(f\"Individual {i.id} is named {i.metadata['name']}\")\n",
    "print(\"\\nEquivalent information from the associated tables\")\n",
    "for row in ts.tables.individuals:\n",
    "    print(f\"Individual name: {row.metadata['name']}\")"
   ]
  },
  {
   "cell_type": "markdown",
   "id": "9035834f",
   "metadata": {},
   "source": [
    "{ref}`Later in this tutorial<sec_tables_editing_minor>` there are some basic\n",
    "examples of editing the metadata fields; there is also an extensive\n",
    "{ref}`sec_tutorial_metadata` tutorial which provides much more\n",
    "detail about how to construct and use `tskit` metadata. \n",
    "\n",
    "\n",
    "(sec_tables_accessing)=\n",
    "\n",
    "## Accessing table data\n",
    "\n",
    "A simple way to see the contents of a table is to `print` it:"
   ]
  },
  {
   "cell_type": "code",
   "execution_count": 14,
   "id": "f6bbb9fc",
   "metadata": {},
   "outputs": [
    {
     "name": "stdout",
     "output_type": "stream",
     "text": [
      "╔══╤═════╤══════════╤══════════╤══════════╤════════╗\n",
      "║id│flags│population│individual│time      │metadata║\n",
      "╠══╪═════╪══════════╪══════════╪══════════╪════════╣\n",
      "║0 │    1│         0│         0│0.00000000│        ║\n",
      "║1 │    1│         0│         0│0.00000000│        ║\n",
      "║2 │    1│         0│         1│0.00000000│        ║\n",
      "║3 │    0│         0│         2│0.15000000│        ║\n",
      "║4 │    0│        -1│        -1│0.60000000│        ║\n",
      "║5 │    0│        -1│        -1│0.80000000│        ║\n",
      "║6 │    0│        -1│        -1│1.00000000│        ║\n",
      "╚══╧═════╧══════════╧══════════╧══════════╧════════╝\n",
      "\n"
     ]
    }
   ],
   "source": [
    "print(ts.tables.nodes)"
   ]
  },
  {
   "cell_type": "markdown",
   "id": "5ba6d5f9",
   "metadata": {},
   "source": [
    "But {program}`tskit` also provides access to columns and rows separately.\n",
    "\n",
    "\n",
    "(sec_tables_accessing_columns)=\n",
    "\n",
    "### Column access\n",
    "\n",
    "An entire column in a table can be extracted as a {program}`numpy` array from the table\n",
    "object. For instance, if ``n`` is a {class}`NodeTable`, then ``n.time``\n",
    "will return an array containing the birth times of the individuals whose genomes\n",
    "are represented by the nodes in the table."
   ]
  },
  {
   "cell_type": "code",
   "execution_count": 15,
   "id": "173c6cff",
   "metadata": {},
   "outputs": [
    {
     "data": {
      "text/plain": [
       "array([0.  , 0.  , 0.  , 0.15, 0.6 , 0.8 , 1.  ])"
      ]
     },
     "execution_count": 15,
     "metadata": {},
     "output_type": "execute_result"
    }
   ],
   "source": [
    "ts.tables.nodes.time"
   ]
  },
  {
   "cell_type": "markdown",
   "id": "2d40793b",
   "metadata": {},
   "source": [
    "You can also *modify* entire columns, but when doing this to tables from a tree\n",
    "sequence, you should always modify a *copy* of the original data, using the\n",
    "{meth}`TreeSequence.dump_tables` method:"
   ]
  },
  {
   "cell_type": "code",
   "execution_count": 16,
   "id": "70b7c3e8",
   "metadata": {},
   "outputs": [
    {
     "data": {
      "text/plain": [
       "array([0.  , 0.  , 0.  , 0.15, 0.6 , 0.8 , 1.  ])"
      ]
     },
     "execution_count": 16,
     "metadata": {},
     "output_type": "execute_result"
    }
   ],
   "source": [
    "new_tables = ts.dump_tables()  # make a copy of the tree sequence tables, for editing\n",
    "new_tables.nodes.time"
   ]
  },
  {
   "cell_type": "markdown",
   "id": "8f4f749d",
   "metadata": {},
   "source": [
    "Moreover, it is important to note that this numpy array itself is copy of the data\n",
    "stored in `new_tables`. In other words, modifying individual elements of ``n.time`` will\n",
    "*not* change the node table ``n``. To change the column data, you need to take a copy\n",
    "of the array, modify it, and assign it back in. For example, here we add 0.25 to\n",
    "every ``time`` except the first in the node table:"
   ]
  },
  {
   "cell_type": "code",
   "execution_count": 17,
   "id": "993df15a",
   "metadata": {},
   "outputs": [
    {
     "name": "stdout",
     "output_type": "stream",
     "text": [
      "Old node times: [0.   0.   0.   0.15 0.6  0.8  1.  ]\n"
     ]
    },
    {
     "data": {
      "text/html": [
       "\n",
       "            <div>\n",
       "                <style scoped=\"\">\n",
       "                    .tskit-table tbody tr th:only-of-type {vertical-align: middle;}\n",
       "                    .tskit-table tbody tr th {vertical-align: top;}\n",
       "                    .tskit-table tbody td {text-align: right;padding: 0.5em 0.5em;}\n",
       "                    .tskit-table tbody th {padding: 0.5em 0.5em;}\n",
       "                </style>\n",
       "                <table border=\"1\" class=\"tskit-table\">\n",
       "                    <thead>\n",
       "                        <tr>\n",
       "                            <th>id</th><th>flags</th><th>population</th><th>individual</th><th>time</th><th>metadata</th>\n",
       "                        </tr>\n",
       "                    </thead>\n",
       "                    <tbody>\n",
       "                        <tr><td>0</td><td>1</td><td>0</td><td>0</td><td>0.00000000</td><td></td></tr>\n",
       "<tr><td>1</td><td>1</td><td>0</td><td>0</td><td>0.25000000</td><td></td></tr>\n",
       "<tr><td>2</td><td>1</td><td>0</td><td>1</td><td>0.25000000</td><td></td></tr>\n",
       "<tr><td>3</td><td>0</td><td>0</td><td>2</td><td>0.40000000</td><td></td></tr>\n",
       "<tr><td>4</td><td>0</td><td>-1</td><td>-1</td><td>0.85000000</td><td></td></tr>\n",
       "<tr><td>5</td><td>0</td><td>-1</td><td>-1</td><td>1.05000000</td><td></td></tr>\n",
       "<tr><td>6</td><td>0</td><td>-1</td><td>-1</td><td>1.25000000</td><td></td></tr>\n",
       "\n",
       "                    </tbody>\n",
       "                </table>\n",
       "            </div>\n"
      ],
      "text/plain": [
       "<tskit.tables.NodeTable at 0x7fa8643feeb0>"
      ]
     },
     "execution_count": 17,
     "metadata": {},
     "output_type": "execute_result"
    }
   ],
   "source": [
    "node_table = new_tables.nodes\n",
    "times = node_table.time\n",
    "print(\"Old node times:\", times)\n",
    "times[1:] = times[1:] + 0.25\n",
    "node_table.time = times\n",
    "node_table"
   ]
  },
  {
   "cell_type": "markdown",
   "id": "42e42db7",
   "metadata": {},
   "source": [
    "When assigning columns like this, an error will be raised if the column is not of the\n",
    "expected length:"
   ]
  },
  {
   "cell_type": "code",
   "execution_count": 18,
   "id": "a90b98a4",
   "metadata": {
    "tags": [
     "raises-exception"
    ]
   },
   "outputs": [
    {
     "ename": "ValueError",
     "evalue": "Input array dimensions must be equal.",
     "output_type": "error",
     "traceback": [
      "\u001b[0;31m---------------------------------------------------------------------------\u001b[0m",
      "\u001b[0;31mValueError\u001b[0m                                Traceback (most recent call last)",
      "Cell \u001b[0;32mIn [18], line 1\u001b[0m\n\u001b[0;32m----> 1\u001b[0m node_table\u001b[38;5;241m.\u001b[39mtime \u001b[38;5;241m=\u001b[39m times[\u001b[38;5;241m2\u001b[39m:]\n",
      "File \u001b[0;32m/opt/hostedtoolcache/Python/3.8.14/x64/lib/python3.8/site-packages/tskit/tables.py:489\u001b[0m, in \u001b[0;36mBaseTable.__setattr__\u001b[0;34m(self, name, value)\u001b[0m\n\u001b[1;32m    487\u001b[0m     d \u001b[38;5;241m=\u001b[39m \u001b[38;5;28mself\u001b[39m\u001b[38;5;241m.\u001b[39masdict()\n\u001b[1;32m    488\u001b[0m     d[name] \u001b[38;5;241m=\u001b[39m value\n\u001b[0;32m--> 489\u001b[0m     \u001b[38;5;28;43mself\u001b[39;49m\u001b[38;5;241;43m.\u001b[39;49m\u001b[43mset_columns\u001b[49m\u001b[43m(\u001b[49m\u001b[38;5;241;43m*\u001b[39;49m\u001b[38;5;241;43m*\u001b[39;49m\u001b[43md\u001b[49m\u001b[43m)\u001b[49m\n\u001b[1;32m    490\u001b[0m \u001b[38;5;28;01melse\u001b[39;00m:\n\u001b[1;32m    491\u001b[0m     \u001b[38;5;28mobject\u001b[39m\u001b[38;5;241m.\u001b[39m\u001b[38;5;21m__setattr__\u001b[39m(\u001b[38;5;28mself\u001b[39m, name, value)\n",
      "File \u001b[0;32m/opt/hostedtoolcache/Python/3.8.14/x64/lib/python3.8/site-packages/tskit/tables.py:1202\u001b[0m, in \u001b[0;36mNodeTable.set_columns\u001b[0;34m(self, flags, time, population, individual, metadata, metadata_offset, metadata_schema)\u001b[0m\n\u001b[1;32m   1169\u001b[0m \u001b[38;5;124;03m\"\"\"\u001b[39;00m\n\u001b[1;32m   1170\u001b[0m \u001b[38;5;124;03mSets the values for each column in this :class:`NodeTable` using the values in\u001b[39;00m\n\u001b[1;32m   1171\u001b[0m \u001b[38;5;124;03mthe specified arrays. Overwrites existing data in all the table columns.\u001b[39;00m\n\u001b[0;32m   (...)\u001b[0m\n\u001b[1;32m   1199\u001b[0m \u001b[38;5;124;03m:type metadata_schema: str\u001b[39;00m\n\u001b[1;32m   1200\u001b[0m \u001b[38;5;124;03m\"\"\"\u001b[39;00m\n\u001b[1;32m   1201\u001b[0m \u001b[38;5;28mself\u001b[39m\u001b[38;5;241m.\u001b[39m_check_required_args(flags\u001b[38;5;241m=\u001b[39mflags, time\u001b[38;5;241m=\u001b[39mtime)\n\u001b[0;32m-> 1202\u001b[0m \u001b[38;5;28;43mself\u001b[39;49m\u001b[38;5;241;43m.\u001b[39;49m\u001b[43mll_table\u001b[49m\u001b[38;5;241;43m.\u001b[39;49m\u001b[43mset_columns\u001b[49m\u001b[43m(\u001b[49m\n\u001b[1;32m   1203\u001b[0m \u001b[43m    \u001b[49m\u001b[38;5;28;43mdict\u001b[39;49m\u001b[43m(\u001b[49m\n\u001b[1;32m   1204\u001b[0m \u001b[43m        \u001b[49m\u001b[43mflags\u001b[49m\u001b[38;5;241;43m=\u001b[39;49m\u001b[43mflags\u001b[49m\u001b[43m,\u001b[49m\n\u001b[1;32m   1205\u001b[0m \u001b[43m        \u001b[49m\u001b[43mtime\u001b[49m\u001b[38;5;241;43m=\u001b[39;49m\u001b[43mtime\u001b[49m\u001b[43m,\u001b[49m\n\u001b[1;32m   1206\u001b[0m \u001b[43m        \u001b[49m\u001b[43mpopulation\u001b[49m\u001b[38;5;241;43m=\u001b[39;49m\u001b[43mpopulation\u001b[49m\u001b[43m,\u001b[49m\n\u001b[1;32m   1207\u001b[0m \u001b[43m        \u001b[49m\u001b[43mindividual\u001b[49m\u001b[38;5;241;43m=\u001b[39;49m\u001b[43mindividual\u001b[49m\u001b[43m,\u001b[49m\n\u001b[1;32m   1208\u001b[0m \u001b[43m        \u001b[49m\u001b[43mmetadata\u001b[49m\u001b[38;5;241;43m=\u001b[39;49m\u001b[43mmetadata\u001b[49m\u001b[43m,\u001b[49m\n\u001b[1;32m   1209\u001b[0m \u001b[43m        \u001b[49m\u001b[43mmetadata_offset\u001b[49m\u001b[38;5;241;43m=\u001b[39;49m\u001b[43mmetadata_offset\u001b[49m\u001b[43m,\u001b[49m\n\u001b[1;32m   1210\u001b[0m \u001b[43m        \u001b[49m\u001b[43mmetadata_schema\u001b[49m\u001b[38;5;241;43m=\u001b[39;49m\u001b[43mmetadata_schema\u001b[49m\u001b[43m,\u001b[49m\n\u001b[1;32m   1211\u001b[0m \u001b[43m    \u001b[49m\u001b[43m)\u001b[49m\n\u001b[1;32m   1212\u001b[0m \u001b[43m\u001b[49m\u001b[43m)\u001b[49m\n",
      "\u001b[0;31mValueError\u001b[0m: Input array dimensions must be equal."
     ]
    }
   ],
   "source": [
    "node_table.time = times[2:]"
   ]
  },
  {
   "cell_type": "markdown",
   "id": "cf9f64cf",
   "metadata": {},
   "source": [
    "(sec_tables_accessing_rows)=\n",
    "\n",
    "### Row access\n",
    "\n",
    "Rows can be accessed using square braces, which will return an object containing the\n",
    "raw values, accessible via attributes"
   ]
  },
  {
   "cell_type": "code",
   "execution_count": 19,
   "id": "32e37610",
   "metadata": {},
   "outputs": [
    {
     "name": "stdout",
     "output_type": "stream",
     "text": [
      "Node 3, belonging to individual 2 in population 0 exists at time 0.15\n",
      "NodeTableRow(flags=0, time=0.15, population=0, individual=2, metadata=b'')\n"
     ]
    }
   ],
   "source": [
    "row = ts.tables.nodes[3]\n",
    "print(\n",
    "    \"Node 3, belonging to individual\", row.individual,\n",
    "    \"in population\", row.population,\n",
    "    \"exists at time\", row.time,\n",
    ")\n",
    "print(row)"
   ]
  },
  {
   "cell_type": "markdown",
   "id": "1183d08d",
   "metadata": {},
   "source": [
    "Additionally, many rows can be extracted into a new table using slices or\n",
    "{ref}`numpy indexing<numpy:basics.indexing>`"
   ]
  },
  {
   "cell_type": "code",
   "execution_count": 20,
   "id": "453d2f1a",
   "metadata": {},
   "outputs": [
    {
     "data": {
      "text/html": [
       "\n",
       "            <div>\n",
       "                <style scoped=\"\">\n",
       "                    .tskit-table tbody tr th:only-of-type {vertical-align: middle;}\n",
       "                    .tskit-table tbody tr th {vertical-align: top;}\n",
       "                    .tskit-table tbody td {text-align: right;padding: 0.5em 0.5em;}\n",
       "                    .tskit-table tbody th {padding: 0.5em 0.5em;}\n",
       "                </style>\n",
       "                <table border=\"1\" class=\"tskit-table\">\n",
       "                    <thead>\n",
       "                        <tr>\n",
       "                            <th>id</th><th>flags</th><th>population</th><th>individual</th><th>time</th><th>metadata</th>\n",
       "                        </tr>\n",
       "                    </thead>\n",
       "                    <tbody>\n",
       "                        <tr><td>0</td><td>1</td><td>0</td><td>1</td><td>0.00000000</td><td></td></tr>\n",
       "<tr><td>1</td><td>0</td><td>0</td><td>2</td><td>0.15000000</td><td></td></tr>\n",
       "\n",
       "                    </tbody>\n",
       "                </table>\n",
       "            </div>\n"
      ],
      "text/plain": [
       "<tskit.tables.NodeTable at 0x7fa85cdb4340>"
      ]
     },
     "execution_count": 20,
     "metadata": {},
     "output_type": "execute_result"
    }
   ],
   "source": [
    "ts.tables.nodes[2:4]"
   ]
  },
  {
   "cell_type": "markdown",
   "id": "e8d5f47c",
   "metadata": {},
   "source": [
    "As with columns, to change the data in a row of a tree sequence table, you must operate\n",
    "on the copy that was produced by {meth}`TreeSequence.dump_tables`. Here we'll try to\n",
    "change the ancestral state value of site 0."
   ]
  },
  {
   "cell_type": "code",
   "execution_count": 21,
   "id": "f40421b7",
   "metadata": {},
   "outputs": [
    {
     "data": {
      "text/plain": [
       "SiteTableRow(position=15.0, ancestral_state='A', metadata=b'')"
      ]
     },
     "execution_count": 21,
     "metadata": {},
     "output_type": "execute_result"
    }
   ],
   "source": [
    "new_tables.sites[0]  # Check the site's ancestral state (\"A\")"
   ]
  },
  {
   "cell_type": "markdown",
   "id": "01fd5bae",
   "metadata": {},
   "source": [
    "Since the row object(s) returned by the calls above are themselves copies,\n",
    "the attributes enforce read-only access:"
   ]
  },
  {
   "cell_type": "code",
   "execution_count": 22,
   "id": "8d555d9a",
   "metadata": {
    "tags": [
     "raises-exception"
    ]
   },
   "outputs": [
    {
     "ename": "FrozenInstanceError",
     "evalue": "cannot assign to field 'ancestral_state'",
     "output_type": "error",
     "traceback": [
      "\u001b[0;31m---------------------------------------------------------------------------\u001b[0m",
      "\u001b[0;31mFrozenInstanceError\u001b[0m                       Traceback (most recent call last)",
      "Cell \u001b[0;32mIn [22], line 1\u001b[0m\n\u001b[0;32m----> 1\u001b[0m new_tables\u001b[38;5;241m.\u001b[39msites[\u001b[38;5;241m0\u001b[39m]\u001b[38;5;241m.\u001b[39mancestral_state \u001b[38;5;241m=\u001b[39m \u001b[38;5;124m\"\u001b[39m\u001b[38;5;124mC\u001b[39m\u001b[38;5;124m\"\u001b[39m\n",
      "File \u001b[0;32m<string>:4\u001b[0m, in \u001b[0;36m__setattr__\u001b[0;34m(self, name, value)\u001b[0m\n",
      "\u001b[0;31mFrozenInstanceError\u001b[0m: cannot assign to field 'ancestral_state'"
     ]
    }
   ],
   "source": [
    "new_tables.sites[0].ancestral_state = \"C\" # This will not work: attributes are read-only"
   ]
  },
  {
   "cell_type": "markdown",
   "id": "58e2f027",
   "metadata": {},
   "source": [
    "So to change row data you need to replace the row completely:"
   ]
  },
  {
   "cell_type": "code",
   "execution_count": 23,
   "id": "d712f451",
   "metadata": {},
   "outputs": [],
   "source": [
    "new_tables.sites[0] = tskit.SiteTableRow(position=15, ancestral_state=\"C\", metadata=None)"
   ]
  },
  {
   "cell_type": "markdown",
   "id": "6a445b86",
   "metadata": {},
   "source": [
    "For convenience, each row object has a `replace` method which creates a new table row\n",
    "from an old one. This is often an easier way to changing one or two attributes:"
   ]
  },
  {
   "cell_type": "code",
   "execution_count": 24,
   "id": "7919eb55",
   "metadata": {},
   "outputs": [],
   "source": [
    "# Another way to change a single entry: create a new row to replace the old one ...\n",
    "replacement_row = new_tables.sites[0].replace(ancestral_state=\"C\")\n",
    "# ... then overwrite the original\n",
    "new_tables.sites[0] = replacement_row\n",
    "\n",
    "# Or equivalently, do both in a single step\n",
    "new_tables.sites[0] = new_tables.sites[0].replace(ancestral_state=\"C\")"
   ]
  },
  {
   "cell_type": "markdown",
   "id": "d2881aee",
   "metadata": {},
   "source": [
    "It is also easy to add more rows:"
   ]
  },
  {
   "cell_type": "code",
   "execution_count": 25,
   "id": "18787007",
   "metadata": {},
   "outputs": [
    {
     "name": "stdout",
     "output_type": "stream",
     "text": [
      "New empty site allocated at position 10 with ID 3\n"
     ]
    },
    {
     "data": {
      "text/html": [
       "\n",
       "            <div>\n",
       "                <style scoped=\"\">\n",
       "                    .tskit-table tbody tr th:only-of-type {vertical-align: middle;}\n",
       "                    .tskit-table tbody tr th {vertical-align: top;}\n",
       "                    .tskit-table tbody td {text-align: right;padding: 0.5em 0.5em;}\n",
       "                    .tskit-table tbody th {padding: 0.5em 0.5em;}\n",
       "                </style>\n",
       "                <table border=\"1\" class=\"tskit-table\">\n",
       "                    <thead>\n",
       "                        <tr>\n",
       "                            <th>id</th><th>position</th><th>ancestral_state</th><th>metadata</th>\n",
       "                        </tr>\n",
       "                    </thead>\n",
       "                    <tbody>\n",
       "                        <tr><td>0</td><td>15</td><td>C</td><td></td></tr>\n",
       "<tr><td>1</td><td>42</td><td>G</td><td></td></tr>\n",
       "<tr><td>2</td><td>60</td><td>T</td><td></td></tr>\n",
       "<tr><td>3</td><td>10</td><td>G</td><td>b'An empty site'</td></tr>\n",
       "\n",
       "                    </tbody>\n",
       "                </table>\n",
       "            </div>\n"
      ],
      "text/plain": [
       "<tskit.tables.SiteTable at 0x7fa8643a72e0>"
      ]
     },
     "execution_count": 25,
     "metadata": {},
     "output_type": "execute_result"
    }
   ],
   "source": [
    "new_pos = 10\n",
    "new_site_id = new_tables.sites.add_row(\n",
    "    position=new_pos, ancestral_state=\"G\", metadata=b\"An empty site\"\n",
    "    # NB: For this example table we have to feed a raw byte string as metadata\n",
    ")\n",
    "print(f\"New empty site allocated at position {new_pos} with ID {new_site_id}\")\n",
    "new_tables.sites"
   ]
  },
  {
   "cell_type": "markdown",
   "id": "d3ca3b8b",
   "metadata": {},
   "source": [
    "(sec_tables_to_tree_sequence)=\n",
    "\n",
    "## Turning tables into a tree sequence\n",
    "\n",
    "The {meth}`TableCollection.tree_sequence` method will attempt to turn a table collection\n",
    "into a tree sequence. This is not guaranteed to work: it's possible you have created a\n",
    "nonsensical tree sequence where, for example, a child node has multiple parents at\n",
    "a given position, or where edges reference non-existant nodes. The\n",
    "{ref}`tskit:sec_valid_tree_sequence_requirements` section of the official tskit docs\n",
    "lists the requirements for a {class}`TableCollection` to represent a valid\n",
    "{class}`TreeSequence`.\n",
    "\n",
    "(sec_tables_to_tree_sequence_sorting)=\n",
    "\n",
    "### Sorting\n",
    "\n",
    "Even if the tables represent a valid tree sequence, for efficiency reasons tree\n",
    "sequences also require several of their constituent tables to be sorted in a specific\n",
    "order. For instance, edges are {ref}`required<tskit:sec_edge_requirements>` to be sorted\n",
    "in nondecreasing order of parent time, and sites are\n",
    "{ref}`required<tskit:sec_site_requirements>` to be sorted in order of position.\n",
    "We can ensure that a set of tables are correctly sorted by calling the\n",
    "{meth}`TableCollection.sort` method.\n",
    "\n",
    "In fact the new empty site that we added to the `new_tables` collection in the previous\n",
    "section was at the start of the genome, so the table collection no longer has its sites\n",
    "in the order required for a tree sequence. That means we need to call\n",
    "`new_tables.sort()` before turning the table collection into a tree sequence:"
   ]
  },
  {
   "cell_type": "code",
   "execution_count": 26,
   "id": "07797e8e",
   "metadata": {},
   "outputs": [],
   "source": [
    "# altered_ts = new_tables.tree_sequence()  # This won't work\n",
    "new_tables.sort()\n",
    "altered_ts = new_tables.tree_sequence()  # Now it will"
   ]
  },
  {
   "cell_type": "markdown",
   "id": "67aeab8a",
   "metadata": {},
   "source": [
    "Now that it had been turned into a tree sequence, we can plot it:"
   ]
  },
  {
   "cell_type": "code",
   "execution_count": 27,
   "id": "0a0e5c99",
   "metadata": {},
   "outputs": [
    {
     "data": {
      "image/svg+xml": [
       "<svg baseProfile=\"full\" height=\"200\" version=\"1.1\" width=\"600\" xmlns=\"http://www.w3.org/2000/svg\" xmlns:ev=\"http://www.w3.org/2001/xml-events\" xmlns:xlink=\"http://www.w3.org/1999/xlink\"><defs><style type=\"text/css\"><![CDATA[.background path {fill: #808080; fill-opacity: 0}.background path:nth-child(odd) {fill-opacity: .1}.axes {font-size: 14px}.x-axis .tick .lab {font-weight: bold; dominant-baseline: hanging}.axes, .tree {font-size: 14px; text-anchor: middle}.axes line, .edge {stroke: black; fill: none}.y-axis .grid {stroke: #FAFAFA}.node > .sym {fill: black; stroke: none}.site > .sym {stroke: black}.mut text {fill: red; font-style: italic}.mut.extra text {fill: hotpink}.mut line {fill: none; stroke: none}.mut .sym {fill: none; stroke: red}.mut.extra .sym {stroke: hotpink}.node .mut .sym {stroke-width: 1.5px}.tree text, .tree-sequence text {dominant-baseline: central}.plotbox .lab.lft {text-anchor: end}.plotbox .lab.rgt {text-anchor: start}]]></style></defs><g class=\"tree-sequence\"><g class=\"background\"><path d=\"M56.8,0 l174.4,0 l0,138.2 l-69.76,25 l0,5 l-104.64,0 l0,-5 l0,-25 l0,-138.2z\" /><path d=\"M231.2,0 l174.4,0 l0,138.2 l69.76,25 l0,5 l-313.92,0 l0,-5 l69.76,-25 l0,-138.2z\" /><path d=\"M405.6,0 l174.4,0 l0,138.2 l0,25 l0,5 l-104.64,0 l0,-5 l-69.76,-25 l0,-138.2z\" /></g><g class=\"axes\"><g class=\"x-axis\"><g transform=\"translate(318.4 200)\"><text class=\"lab\" text-anchor=\"middle\" transform=\"translate(0 -11)\">Genome position</text></g><line x1=\"56.8\" x2=\"580\" y1=\"163.2\" y2=\"163.2\" /><g class=\"ticks\"><g class=\"tick\" transform=\"translate(56.8 163.2)\"><line x1=\"0\" x2=\"0\" y1=\"0\" y2=\"5\" /><g transform=\"translate(0 6)\"><text class=\"lab\">0</text></g></g><g class=\"tick\" transform=\"translate(161.44 163.2)\"><line x1=\"0\" x2=\"0\" y1=\"0\" y2=\"5\" /><g transform=\"translate(0 6)\"><text class=\"lab\">20</text></g></g><g class=\"tick\" transform=\"translate(475.36 163.2)\"><line x1=\"0\" x2=\"0\" y1=\"0\" y2=\"5\" /><g transform=\"translate(0 6)\"><text class=\"lab\">80</text></g></g><g class=\"tick\" transform=\"translate(580 163.2)\"><line x1=\"0\" x2=\"0\" y1=\"0\" y2=\"5\" /><g transform=\"translate(0 6)\"><text class=\"lab\">100</text></g></g></g><g class=\"site s0\" transform=\"translate(109.12 163.2)\"><line class=\"sym\" x1=\"0\" x2=\"0\" y1=\"0\" y2=\"-10\" /></g><g class=\"site s1\" transform=\"translate(135.28 163.2)\"><line class=\"sym\" x1=\"0\" x2=\"0\" y1=\"0\" y2=\"-10\" /><g class=\"mut m0\"><polyline class=\"sym\" points=\"2.5,-6.5 0,-1.5 -2.5,-6.5\" /></g></g><g class=\"site s2\" transform=\"translate(276.544 163.2)\"><line class=\"sym\" x1=\"0\" x2=\"0\" y1=\"0\" y2=\"-10\" /><g class=\"mut m1\"><polyline class=\"sym\" points=\"2.5,-6.5 0,-1.5 -2.5,-6.5\" /></g></g><g class=\"site s3\" transform=\"translate(370.72 163.2)\"><line class=\"sym\" x1=\"0\" x2=\"0\" y1=\"0\" y2=\"-10\" /><g class=\"mut m3\"><polyline class=\"sym\" points=\"2.5,-6.5 0,-1.5 -2.5,-6.5\" /></g><g class=\"mut m2\"><polyline class=\"sym\" points=\"2.5,-10.5 0,-5.5 -2.5,-10.5\" /></g></g></g><g class=\"y-axis\"><g transform=\"translate(0 65.7)\"><text class=\"lab\" text-anchor=\"middle\" transform=\"translate(11) rotate(-90)\">Time</text></g><line x1=\"56.8\" x2=\"56.8\" y1=\"121.4\" y2=\"10\" /><g class=\"ticks\"><g class=\"tick\" transform=\"translate(56.8 121.4)\"><line class=\"grid\" x1=\"0\" x2=\"523.2\" y1=\"0\" y2=\"0\" /><line x1=\"0\" x2=\"-5\" y1=\"0\" y2=\"0\" /><g transform=\"translate(-6 0)\"><text class=\"lab\" text-anchor=\"end\">0.00</text></g></g><g class=\"tick\" transform=\"translate(56.8 102.48)\"><line class=\"grid\" x1=\"0\" x2=\"523.2\" y1=\"0\" y2=\"0\" /><line x1=\"0\" x2=\"-5\" y1=\"0\" y2=\"0\" /><g transform=\"translate(-6 0)\"><text class=\"lab\" text-anchor=\"end\">0.25</text></g></g><g class=\"tick\" transform=\"translate(56.8 91.128)\"><line class=\"grid\" x1=\"0\" x2=\"523.2\" y1=\"0\" y2=\"0\" /><line x1=\"0\" x2=\"-5\" y1=\"0\" y2=\"0\" /><g transform=\"translate(-6 0)\"><text class=\"lab\" text-anchor=\"end\">0.40</text></g></g><g class=\"tick\" transform=\"translate(56.8 57.072)\"><line class=\"grid\" x1=\"0\" x2=\"523.2\" y1=\"0\" y2=\"0\" /><line x1=\"0\" x2=\"-5\" y1=\"0\" y2=\"0\" /><g transform=\"translate(-6 0)\"><text class=\"lab\" text-anchor=\"end\">0.85</text></g></g><g class=\"tick\" transform=\"translate(56.8 41.936)\"><line class=\"grid\" x1=\"0\" x2=\"523.2\" y1=\"0\" y2=\"0\" /><line x1=\"0\" x2=\"-5\" y1=\"0\" y2=\"0\" /><g transform=\"translate(-6 0)\"><text class=\"lab\" text-anchor=\"end\">1.05</text></g></g><g class=\"tick\" transform=\"translate(56.8 26.8)\"><line class=\"grid\" x1=\"0\" x2=\"523.2\" y1=\"0\" y2=\"0\" /><line x1=\"0\" x2=\"-5\" y1=\"0\" y2=\"0\" /><g transform=\"translate(-6 0)\"><text class=\"lab\" text-anchor=\"end\">1.25</text></g></g></g></g></g><g class=\"plotbox trees\"><g class=\"tree t0\" transform=\"translate(56.8 0)\"><g class=\"plotbox\"><g class=\"c2 node n6 root\" transform=\"translate(76 26.8)\"><g class=\"a6 i0 leaf node n0 p0 sample\" transform=\"translate(-33.6 94.6)\"><path class=\"edge\" d=\"M 0 0 V -94.6 H 33.6\" /><rect class=\"sym\" height=\"6\" width=\"6\" x=\"-3\" y=\"-3\" /><text class=\"lab\" transform=\"translate(0 11)\">0</text></g><g class=\"a6 c2 m0 node n4 s1\" transform=\"translate(33.6 30.272)\"><g class=\"a4 i0 leaf node n1 p0 sample\" transform=\"translate(-22.4 45.408)\"><path class=\"edge\" d=\"M 0 0 V -45.408 H 22.4\" /><rect class=\"sym\" height=\"6\" width=\"6\" x=\"-3\" y=\"-3\" /><text class=\"lab\" transform=\"translate(0 11)\">1</text></g><g class=\"a4 i1 leaf node n2 p0 sample\" transform=\"translate(22.4 45.408)\"><path class=\"edge\" d=\"M 0 0 V -45.408 H -22.4\" /><rect class=\"sym\" height=\"6\" width=\"6\" x=\"-3\" y=\"-3\" /><text class=\"lab\" transform=\"translate(0 11)\">2</text></g><path class=\"edge\" d=\"M 0 0 V -30.272 H -33.6\" /><g class=\"mut m0 s1\" transform=\"translate(0 -3.784)\"><line x1=\"0\" x2=\"0\" y1=\"0\" y2=\"3.784\" /><path class=\"sym\" d=\"M -3,-3 l 6,6 M -3,3 l 6,-6\" /><text class=\"lab rgt\" transform=\"translate(5 0)\" /></g><circle class=\"sym\" cx=\"0\" cy=\"0\" r=\"3\" /><text class=\"lab rgt\" transform=\"translate(3 -7.0)\">4</text></g><circle class=\"sym\" cx=\"0\" cy=\"0\" r=\"3\" /><text class=\"lab\" transform=\"translate(0 -11)\">6</text></g></g></g><g class=\"tree t1\" transform=\"translate(231.2 0)\"><g class=\"plotbox\"><g class=\"c2 node n4 root\" transform=\"translate(98.4 57.072)\"><g class=\"a4 i0 leaf m1 node n1 p0 s2 sample\" transform=\"translate(33.6 45.408)\"><path class=\"edge\" d=\"M 0 0 V -45.408 H -33.6\" /><g class=\"mut m1 s2\" transform=\"translate(0 -11.352)\"><line x1=\"0\" x2=\"0\" y1=\"0\" y2=\"11.352\" /><path class=\"sym\" d=\"M -3,-3 l 6,6 M -3,3 l 6,-6\" /><text class=\"lab rgt\" transform=\"translate(5 0)\" /></g><rect class=\"sym\" height=\"6\" width=\"6\" x=\"-3\" y=\"-3\" /><text class=\"lab\" transform=\"translate(0 11)\">1</text></g><g class=\"a4 c2 i2 m2 node n3 p0 s3\" transform=\"translate(-33.6 34.056)\"><g class=\"a3 i0 leaf m3 node n0 p0 s3 sample\" transform=\"translate(-22.4 30.272)\"><path class=\"edge\" d=\"M 0 0 V -30.272 H 22.4\" /><g class=\"mut m3 s3\" transform=\"translate(0 -7.568)\"><line x1=\"0\" x2=\"0\" y1=\"0\" y2=\"7.568\" /><path class=\"sym\" d=\"M -3,-3 l 6,6 M -3,3 l 6,-6\" /><text class=\"lab lft\" transform=\"translate(-5 0)\" /></g><rect class=\"sym\" height=\"6\" width=\"6\" x=\"-3\" y=\"-3\" /><text class=\"lab\" transform=\"translate(0 11)\">0</text></g><g class=\"a3 i1 leaf node n2 p0 sample\" transform=\"translate(22.4 11.352)\"><path class=\"edge\" d=\"M 0 0 V -11.352 H -22.4\" /><rect class=\"sym\" height=\"6\" width=\"6\" x=\"-3\" y=\"-3\" /><text class=\"lab\" transform=\"translate(0 11)\">2</text></g><path class=\"edge\" d=\"M 0 0 V -34.056 H 33.6\" /><g class=\"mut m2 s3\" transform=\"translate(0 -11.352)\"><line x1=\"0\" x2=\"0\" y1=\"0\" y2=\"11.352\" /><path class=\"sym\" d=\"M -3,-3 l 6,6 M -3,3 l 6,-6\" /><text class=\"lab lft\" transform=\"translate(-5 0)\" /></g><circle class=\"sym\" cx=\"0\" cy=\"0\" r=\"3\" /><text class=\"lab lft\" transform=\"translate(-3 -7.0)\">3</text></g><circle class=\"sym\" cx=\"0\" cy=\"0\" r=\"3\" /><text class=\"lab\" transform=\"translate(0 -11)\">4</text></g></g></g><g class=\"tree t2\" transform=\"translate(405.6 0)\"><g class=\"plotbox\"><g class=\"c2 node n5 root\" transform=\"translate(76 41.936)\"><g class=\"a5 i0 leaf node n0 p0 sample\" transform=\"translate(-33.6 79.464)\"><path class=\"edge\" d=\"M 0 0 V -79.464 H 33.6\" /><rect class=\"sym\" height=\"6\" width=\"6\" x=\"-3\" y=\"-3\" /><text class=\"lab\" transform=\"translate(0 11)\">0</text></g><g class=\"a5 c2 node n4\" transform=\"translate(33.6 15.136)\"><g class=\"a4 i0 leaf node n1 p0 sample\" transform=\"translate(-22.4 45.408)\"><path class=\"edge\" d=\"M 0 0 V -45.408 H 22.4\" /><rect class=\"sym\" height=\"6\" width=\"6\" x=\"-3\" y=\"-3\" /><text class=\"lab\" transform=\"translate(0 11)\">1</text></g><g class=\"a4 i1 leaf node n2 p0 sample\" transform=\"translate(22.4 45.408)\"><path class=\"edge\" d=\"M 0 0 V -45.408 H -22.4\" /><rect class=\"sym\" height=\"6\" width=\"6\" x=\"-3\" y=\"-3\" /><text class=\"lab\" transform=\"translate(0 11)\">2</text></g><path class=\"edge\" d=\"M 0 0 V -15.136 H -33.6\" /><circle class=\"sym\" cx=\"0\" cy=\"0\" r=\"3\" /><text class=\"lab rgt\" transform=\"translate(3 -7.0)\">4</text></g><circle class=\"sym\" cx=\"0\" cy=\"0\" r=\"3\" /><text class=\"lab\" transform=\"translate(0 -11)\">5</text></g></g></g></g></g></svg>"
      ],
      "text/plain": [
       "'<svg baseProfile=\"full\" height=\"200\" version=\"1.1\" width=\"600\" xmlns=\"http://www.w3.org/2000/svg\" xmlns:ev=\"http://www.w3.org/2001/xml-events\" xmlns:xlink=\"http://www.w3.org/1999/xlink\"><defs><style type=\"text/css\"><![CDATA[.background path {fill: #808080; fill-opacity: 0}.background path:nth-child(odd) {fill-opacity: .1}.axes {font-size: 14px}.x-axis .tick .lab {font-weight: bold; dominant-baseline: hanging}.axes, .tree {font-size: 14px; text-anchor: middle}.axes line, .edge {stroke: black; fill: none}.y-axis .grid {stroke: #FAFAFA}.node > .sym {fill: black; stroke: none}.site > .sym {stroke: black}.mut text {fill: red; font-style: italic}.mut.extra text {fill: hotpink}.mut line {fill: none; stroke: none}.mut .sym {fill: none; stroke: red}.mut.extra .sym {stroke: hotpink}.node .mut .sym {stroke-width: 1.5px}.tree text, .tree-sequence text {dominant-baseline: central}.plotbox .lab.lft {text-anchor: end}.plotbox .lab.rgt {text-anchor: start}]]></style></defs><g class=\"tree-sequence\"><g class=\"background\"><path d=\"M56.8,0 l174.4,0 l0,138.2 l-69.76,25 l0,5 l-104.64,0 l0,-5 l0,-25 l0,-138.2z\" /><path d=\"M231.2,0 l174.4,0 l0,138.2 l69.76,25 l0,5 l-313.92,0 l0,-5 l69.76,-25 l0,-138.2z\" /><path d=\"M405.6,0 l174.4,0 l0,138.2 l0,25 l0,5 l-104.64,0 l0,-5 l-69.76,-25 l0,-138.2z\" /></g><g class=\"axes\"><g class=\"x-axis\"><g transform=\"translate(318.4 200)\"><text class=\"lab\" text-anchor=\"middle\" transform=\"translate(0 -11)\">Genome position</text></g><line x1=\"56.8\" x2=\"580\" y1=\"163.2\" y2=\"163.2\" /><g class=\"ticks\"><g class=\"tick\" transform=\"translate(56.8 163.2)\"><line x1=\"0\" x2=\"0\" y1=\"0\" y2=\"5\" /><g transform=\"translate(0 6)\"><text class=\"lab\">0</text></g></g><g class=\"tick\" transform=\"translate(161.44 163.2)\"><line x1=\"0\" x2=\"0\" y1=\"0\" y2=\"5\" /><g transform=\"translate(0 6)\"><text class=\"lab\">20</text></g></g><g class=\"tick\" transform=\"translate(475.36 163.2)\"><line x1=\"0\" x2=\"0\" y1=\"0\" y2=\"5\" /><g transform=\"translate(0 6)\"><text class=\"lab\">80</text></g></g><g class=\"tick\" transform=\"translate(580 163.2)\"><line x1=\"0\" x2=\"0\" y1=\"0\" y2=\"5\" /><g transform=\"translate(0 6)\"><text class=\"lab\">100</text></g></g></g><g class=\"site s0\" transform=\"translate(109.12 163.2)\"><line class=\"sym\" x1=\"0\" x2=\"0\" y1=\"0\" y2=\"-10\" /></g><g class=\"site s1\" transform=\"translate(135.28 163.2)\"><line class=\"sym\" x1=\"0\" x2=\"0\" y1=\"0\" y2=\"-10\" /><g class=\"mut m0\"><polyline class=\"sym\" points=\"2.5,-6.5 0,-1.5 -2.5,-6.5\" /></g></g><g class=\"site s2\" transform=\"translate(276.544 163.2)\"><line class=\"sym\" x1=\"0\" x2=\"0\" y1=\"0\" y2=\"-10\" /><g class=\"mut m1\"><polyline class=\"sym\" points=\"2.5,-6.5 0,-1.5 -2.5,-6.5\" /></g></g><g class=\"site s3\" transform=\"translate(370.72 163.2)\"><line class=\"sym\" x1=\"0\" x2=\"0\" y1=\"0\" y2=\"-10\" /><g class=\"mut m3\"><polyline class=\"sym\" points=\"2.5,-6.5 0,-1.5 -2.5,-6.5\" /></g><g class=\"mut m2\"><polyline class=\"sym\" points=\"2.5,-10.5 0,-5.5 -2.5,-10.5\" /></g></g></g><g class=\"y-axis\"><g transform=\"translate(0 65.7)\"><text class=\"lab\" text-anchor=\"middle\" transform=\"translate(11) rotate(-90)\">Time</text></g><line x1=\"56.8\" x2=\"56.8\" y1=\"121.4\" y2=\"10\" /><g class=\"ticks\"><g class=\"tick\" transform=\"translate(56.8 121.4)\"><line class=\"grid\" x1=\"0\" x2=\"523.2\" y1=\"0\" y2=\"0\" /><line x1=\"0\" x2=\"-5\" y1=\"0\" y2=\"0\" /><g transform=\"translate(-6 0)\"><text class=\"lab\" text-anchor=\"end\">0.00</text></g></g><g class=\"tick\" transform=\"translate(56.8 102.48)\"><line class=\"grid\" x1=\"0\" x2=\"523.2\" y1=\"0\" y2=\"0\" /><line x1=\"0\" x2=\"-5\" y1=\"0\" y2=\"0\" /><g transform=\"translate(-6 0)\"><text class=\"lab\" text-anchor=\"end\">0.25</text></g></g><g class=\"tick\" transform=\"translate(56.8 91.128)\"><line class=\"grid\" x1=\"0\" x2=\"523.2\" y1=\"0\" y2=\"0\" /><line x1=\"0\" x2=\"-5\" y1=\"0\" y2=\"0\" /><g transform=\"translate(-6 0)\"><text class=\"lab\" text-anchor=\"end\">0.40</text></g></g><g class=\"tick\" transform=\"translate(56.8 57.072)\"><line class=\"grid\" x1=\"0\" x2=\"523.2\" y1=\"0\" y2=\"0\" /><line x1=\"0\" x2=\"-5\" y1=\"0\" y2=\"0\" /><g transform=\"translate(-6 0)\"><text class=\"lab\" text-anchor=\"end\">0.85</text></g></g><g class=\"tick\" transform=\"translate(56.8 41.936)\"><line class=\"grid\" x1=\"0\" x2=\"523.2\" y1=\"0\" y2=\"0\" /><line x1=\"0\" x2=\"-5\" y1=\"0\" y2=\"0\" /><g transform=\"translate(-6 0)\"><text class=\"lab\" text-anchor=\"end\">1.05</text></g></g><g class=\"tick\" transform=\"translate(56.8 26.8)\"><line class=\"grid\" x1=\"0\" x2=\"523.2\" y1=\"0\" y2=\"0\" /><line x1=\"0\" x2=\"-5\" y1=\"0\" y2=\"0\" /><g transform=\"translate(-6 0)\"><text class=\"lab\" text-anchor=\"end\">1.25</text></g></g></g></g></g><g class=\"plotbox trees\"><g class=\"tree t0\" transform=\"translate(56.8 0)\"><g class=\"plotbox\"><g class=\"c2 node n6 root\" transform=\"translate(76 26.8)\"><g class=\"a6 i0 leaf node n0 p0 sample\" transform=\"translate(-33.6 94.6)\"><path class=\"edge\" d=\"M 0 0 V -94.6 H 33.6\" /><rect class=\"sym\" height=\"6\" width=\"6\" x=\"-3\" y=\"-3\" /><text class=\"lab\" transform=\"translate(0 11)\">0</text></g><g class=\"a6 c2 m0 node n4 s1\" transform=\"translate(33.6 30.272)\"><g class=\"a4 i0 leaf node n1 p0 sample\" transform=\"translate(-22.4 45.408)\"><path class=\"edge\" d=\"M 0 0 V -45.408 H 22.4\" /><rect class=\"sym\" height=\"6\" width=\"6\" x=\"-3\" y=\"-3\" /><text class=\"lab\" transform=\"translate(0 11)\">1</text></g><g class=\"a4 i1 leaf node n2 p0 sample\" transform=\"translate(22.4 45.408)\"><path class=\"edge\" d=\"M 0 0 V -45.408 H -22.4\" /><rect class=\"sym\" height=\"6\" width=\"6\" x=\"-3\" y=\"-3\" /><text class=\"lab\" transform=\"translate(0 11)\">2</text></g><path class=\"edge\" d=\"M 0 0 V -30.272 H -33.6\" /><g class=\"mut m0 s1\" transform=\"translate(0 -3.784)\"><line x1=\"0\" x2=\"0\" y1=\"0\" y2=\"3.784\" /><path class=\"sym\" d=\"M -3,-3 l 6,6 M -3,3 l 6,-6\" /><text class=\"lab rgt\" transform=\"translate(5 0)\" /></g><circle class=\"sym\" cx=\"0\" cy=\"0\" r=\"3\" /><text class=\"lab rgt\" transform=\"translate(3 -7.0)\">4</text></g><circle class=\"sym\" cx=\"0\" cy=\"0\" r=\"3\" /><text class=\"lab\" transform=\"translate(0 -11)\">6</text></g></g></g><g class=\"tree t1\" transform=\"translate(231.2 0)\"><g class=\"plotbox\"><g class=\"c2 node n4 root\" transform=\"translate(98.4 57.072)\"><g class=\"a4 i0 leaf m1 node n1 p0 s2 sample\" transform=\"translate(33.6 45.408)\"><path class=\"edge\" d=\"M 0 0 V -45.408 H -33.6\" /><g class=\"mut m1 s2\" transform=\"translate(0 -11.352)\"><line x1=\"0\" x2=\"0\" y1=\"0\" y2=\"11.352\" /><path class=\"sym\" d=\"M -3,-3 l 6,6 M -3,3 l 6,-6\" /><text class=\"lab rgt\" transform=\"translate(5 0)\" /></g><rect class=\"sym\" height=\"6\" width=\"6\" x=\"-3\" y=\"-3\" /><text class=\"lab\" transform=\"translate(0 11)\">1</text></g><g class=\"a4 c2 i2 m2 node n3 p0 s3\" transform=\"translate(-33.6 34.056)\"><g class=\"a3 i0 leaf m3 node n0 p0 s3 sample\" transform=\"translate(-22.4 30.272)\"><path class=\"edge\" d=\"M 0 0 V -30.272 H 22.4\" /><g class=\"mut m3 s3\" transform=\"translate(0 -7.568)\"><line x1=\"0\" x2=\"0\" y1=\"0\" y2=\"7.568\" /><path class=\"sym\" d=\"M -3,-3 l 6,6 M -3,3 l 6,-6\" /><text class=\"lab lft\" transform=\"translate(-5 0)\" /></g><rect class=\"sym\" height=\"6\" width=\"6\" x=\"-3\" y=\"-3\" /><text class=\"lab\" transform=\"translate(0 11)\">0</text></g><g class=\"a3 i1 leaf node n2 p0 sample\" transform=\"translate(22.4 11.352)\"><path class=\"edge\" d=\"M 0 0 V -11.352 H -22.4\" /><rect class=\"sym\" height=\"6\" width=\"6\" x=\"-3\" y=\"-3\" /><text class=\"lab\" transform=\"translate(0 11)\">2</text></g><path class=\"edge\" d=\"M 0 0 V -34.056 H 33.6\" /><g class=\"mut m2 s3\" transform=\"translate(0 -11.352)\"><line x1=\"0\" x2=\"0\" y1=\"0\" y2=\"11.352\" /><path class=\"sym\" d=\"M -3,-3 l 6,6 M -3,3 l 6,-6\" /><text class=\"lab lft\" transform=\"translate(-5 0)\" /></g><circle class=\"sym\" cx=\"0\" cy=\"0\" r=\"3\" /><text class=\"lab lft\" transform=\"translate(-3 -7.0)\">3</text></g><circle class=\"sym\" cx=\"0\" cy=\"0\" r=\"3\" /><text class=\"lab\" transform=\"translate(0 -11)\">4</text></g></g></g><g class=\"tree t2\" transform=\"translate(405.6 0)\"><g class=\"plotbox\"><g class=\"c2 node n5 root\" transform=\"translate(76 41.936)\"><g class=\"a5 i0 leaf node n0 p0 sample\" transform=\"translate(-33.6 79.464)\"><path class=\"edge\" d=\"M 0 0 V -79.464 H 33.6\" /><rect class=\"sym\" height=\"6\" width=\"6\" x=\"-3\" y=\"-3\" /><text class=\"lab\" transform=\"translate(0 11)\">0</text></g><g class=\"a5 c2 node n4\" transform=\"translate(33.6 15.136)\"><g class=\"a4 i0 leaf node n1 p0 sample\" transform=\"translate(-22.4 45.408)\"><path class=\"edge\" d=\"M 0 0 V -45.408 H 22.4\" /><rect class=\"sym\" height=\"6\" width=\"6\" x=\"-3\" y=\"-3\" /><text class=\"lab\" transform=\"translate(0 11)\">1</text></g><g class=\"a4 i1 leaf node n2 p0 sample\" transform=\"translate(22.4 45.408)\"><path class=\"edge\" d=\"M 0 0 V -45.408 H -22.4\" /><rect class=\"sym\" height=\"6\" width=\"6\" x=\"-3\" y=\"-3\" /><text class=\"lab\" transform=\"translate(0 11)\">2</text></g><path class=\"edge\" d=\"M 0 0 V -15.136 H -33.6\" /><circle class=\"sym\" cx=\"0\" cy=\"0\" r=\"3\" /><text class=\"lab rgt\" transform=\"translate(3 -7.0)\">4</text></g><circle class=\"sym\" cx=\"0\" cy=\"0\" r=\"3\" /><text class=\"lab\" transform=\"translate(0 -11)\">5</text></g></g></g></g></g></svg>'"
      ]
     },
     "execution_count": 27,
     "metadata": {
      "filenames": {
       "image/svg+xml": "/home/runner/work/tutorials/tutorials/_build/jupyter_execute/tables_and_editing_51_0.svg"
      }
     },
     "output_type": "execute_result"
    }
   ],
   "source": [
    "# Plot without mutation labels, for clarity \n",
    "altered_ts.draw_svg(y_axis=True, y_gridlines=True, mutation_labels={})"
   ]
  },
  {
   "cell_type": "markdown",
   "id": "24dd9108",
   "metadata": {},
   "source": [
    "You can see that the new tree sequence has been modified as expected: there is a new\n",
    "empty site at position 10 (represented by a tickmark above the X axis with no mutations\n",
    "on it), and all the nodes except node 0 have had their times increased by 0.25.\n",
    "\n",
    "(sec_tables_creating)=\n",
    "\n",
    "## Constructing a tree sequence\n",
    "\n",
    "With the tools above in mind, we can now see how to construct a tree sequence by hand.\n",
    "It's unlikely that you would ever need to do this from scratch, but it's helpful to\n",
    "understand how tables work. We'll build an extremely simple tree sequence, consisting of\n",
    "a single tree that looks like this:"
   ]
  },
  {
   "cell_type": "code",
   "execution_count": 28,
   "id": "d02d465e",
   "metadata": {},
   "outputs": [
    {
     "data": {
      "image/svg+xml": [
       "<svg baseProfile=\"full\" height=\"200\" version=\"1.1\" width=\"200\" xmlns=\"http://www.w3.org/2000/svg\" xmlns:ev=\"http://www.w3.org/2001/xml-events\" xmlns:xlink=\"http://www.w3.org/1999/xlink\"><defs><style type=\"text/css\"><![CDATA[.background path {fill: #808080; fill-opacity: 0}.background path:nth-child(odd) {fill-opacity: .1}.axes {font-size: 14px}.x-axis .tick .lab {font-weight: bold; dominant-baseline: hanging}.axes, .tree {font-size: 14px; text-anchor: middle}.axes line, .edge {stroke: black; fill: none}.y-axis .grid {stroke: #FAFAFA}.node > .sym {fill: black; stroke: none}.site > .sym {stroke: black}.mut text {fill: red; font-style: italic}.mut.extra text {fill: hotpink}.mut line {fill: none; stroke: none}.mut .sym {fill: none; stroke: red}.mut.extra .sym {stroke: hotpink}.node .mut .sym {stroke-width: 1.5px}.tree text, .tree-sequence text {dominant-baseline: central}.plotbox .lab.lft {text-anchor: end}.plotbox .lab.rgt {text-anchor: start}]]></style></defs><g class=\"tree-sequence\"><g class=\"background\"><path d=\"M56.8,0 l123.2,0 l0,138.2 l0,25 l0,5 l-123.2,0 l0,-5 l0,-25 l0,-138.2z\" /></g><g class=\"axes\"><g class=\"x-axis\"><g transform=\"translate(118.4 200)\"><text class=\"lab\" text-anchor=\"middle\" transform=\"translate(0 -11)\">Genome position</text></g><line x1=\"56.8\" x2=\"180\" y1=\"163.2\" y2=\"163.2\" /><g class=\"ticks\"><g class=\"tick\" transform=\"translate(56.8 163.2)\"><line x1=\"0\" x2=\"0\" y1=\"0\" y2=\"5\" /><g transform=\"translate(0 6)\"><text class=\"lab\">0</text></g></g><g class=\"tick\" transform=\"translate(180 163.2)\"><line x1=\"0\" x2=\"0\" y1=\"0\" y2=\"5\" /><g transform=\"translate(0 6)\"><text class=\"lab\">1000</text></g></g></g><g class=\"site s0\" transform=\"translate(118.4 163.2)\"><line class=\"sym\" x1=\"0\" x2=\"0\" y1=\"0\" y2=\"-10\" /><g class=\"mut m0\"><polyline class=\"sym\" points=\"2.5,-6.5 0,-1.5 -2.5,-6.5\" /></g></g></g><g class=\"y-axis\"><g transform=\"translate(0 65.7)\"><text class=\"lab\" text-anchor=\"middle\" transform=\"translate(11) rotate(-90)\">Time</text></g><line x1=\"56.8\" x2=\"56.8\" y1=\"121.4\" y2=\"10\" /><g class=\"ticks\"><g class=\"tick\" transform=\"translate(56.8 121.4)\"><line x1=\"0\" x2=\"-5\" y1=\"0\" y2=\"0\" /><g transform=\"translate(-6 0)\"><text class=\"lab\" text-anchor=\"end\">0</text></g></g><g class=\"tick\" transform=\"translate(56.8 74.1)\"><line x1=\"0\" x2=\"-5\" y1=\"0\" y2=\"0\" /><g transform=\"translate(-6 0)\"><text class=\"lab\" text-anchor=\"end\">10</text></g></g><g class=\"tick\" transform=\"translate(56.8 26.8)\"><line x1=\"0\" x2=\"-5\" y1=\"0\" y2=\"0\" /><g transform=\"translate(-6 0)\"><text class=\"lab\" text-anchor=\"end\">20</text></g></g></g></g></g><g class=\"plotbox trees\"><g class=\"tree t0\" transform=\"translate(56.8 0)\"><g class=\"plotbox\"><g class=\"c2 node n4 root\" transform=\"translate(68.5333 26.8)\"><g class=\"a4 c2 node n2\" transform=\"translate(-20.8 47.3)\"><g class=\"a2 leaf node n0 sample\" transform=\"translate(-13.8667 47.3)\"><path class=\"edge\" d=\"M 0 0 V -47.3 H 13.8667\" /><rect class=\"sym\" height=\"6\" width=\"6\" x=\"-3\" y=\"-3\" /><text class=\"lab\" transform=\"translate(0 11)\">0</text></g><g class=\"a2 leaf node n1 sample\" transform=\"translate(13.8667 47.3)\"><path class=\"edge\" d=\"M 0 0 V -47.3 H -13.8667\" /><rect class=\"sym\" height=\"6\" width=\"6\" x=\"-3\" y=\"-3\" /><text class=\"lab\" transform=\"translate(0 11)\">1</text></g><path class=\"edge\" d=\"M 0 0 V -47.3 H 20.8\" /><circle class=\"sym\" cx=\"0\" cy=\"0\" r=\"3\" /><text class=\"lab lft\" transform=\"translate(-3 -7.0)\">2</text></g><g class=\"a4 leaf m0 node n3 s0 sample\" transform=\"translate(20.8 94.6)\"><path class=\"edge\" d=\"M 0 0 V -94.6 H -20.8\" /><g class=\"mut m0 s0 unknown_time\" transform=\"translate(0 -47.3)\"><line x1=\"0\" x2=\"0\" y1=\"0\" y2=\"47.3\" /><path class=\"sym\" d=\"M -3,-3 l 6,6 M -3,3 l 6,-6\" /><text class=\"lab rgt\" transform=\"translate(5 0)\">0</text></g><rect class=\"sym\" height=\"6\" width=\"6\" x=\"-3\" y=\"-3\" /><text class=\"lab\" transform=\"translate(0 11)\">3</text></g><circle class=\"sym\" cx=\"0\" cy=\"0\" r=\"3\" /><text class=\"lab\" transform=\"translate(0 -11)\">4</text></g></g></g></g></g></svg>"
      ],
      "text/plain": [
       "'<svg baseProfile=\"full\" height=\"200\" version=\"1.1\" width=\"200\" xmlns=\"http://www.w3.org/2000/svg\" xmlns:ev=\"http://www.w3.org/2001/xml-events\" xmlns:xlink=\"http://www.w3.org/1999/xlink\"><defs><style type=\"text/css\"><![CDATA[.background path {fill: #808080; fill-opacity: 0}.background path:nth-child(odd) {fill-opacity: .1}.axes {font-size: 14px}.x-axis .tick .lab {font-weight: bold; dominant-baseline: hanging}.axes, .tree {font-size: 14px; text-anchor: middle}.axes line, .edge {stroke: black; fill: none}.y-axis .grid {stroke: #FAFAFA}.node > .sym {fill: black; stroke: none}.site > .sym {stroke: black}.mut text {fill: red; font-style: italic}.mut.extra text {fill: hotpink}.mut line {fill: none; stroke: none}.mut .sym {fill: none; stroke: red}.mut.extra .sym {stroke: hotpink}.node .mut .sym {stroke-width: 1.5px}.tree text, .tree-sequence text {dominant-baseline: central}.plotbox .lab.lft {text-anchor: end}.plotbox .lab.rgt {text-anchor: start}]]></style></defs><g class=\"tree-sequence\"><g class=\"background\"><path d=\"M56.8,0 l123.2,0 l0,138.2 l0,25 l0,5 l-123.2,0 l0,-5 l0,-25 l0,-138.2z\" /></g><g class=\"axes\"><g class=\"x-axis\"><g transform=\"translate(118.4 200)\"><text class=\"lab\" text-anchor=\"middle\" transform=\"translate(0 -11)\">Genome position</text></g><line x1=\"56.8\" x2=\"180\" y1=\"163.2\" y2=\"163.2\" /><g class=\"ticks\"><g class=\"tick\" transform=\"translate(56.8 163.2)\"><line x1=\"0\" x2=\"0\" y1=\"0\" y2=\"5\" /><g transform=\"translate(0 6)\"><text class=\"lab\">0</text></g></g><g class=\"tick\" transform=\"translate(180 163.2)\"><line x1=\"0\" x2=\"0\" y1=\"0\" y2=\"5\" /><g transform=\"translate(0 6)\"><text class=\"lab\">1000</text></g></g></g><g class=\"site s0\" transform=\"translate(118.4 163.2)\"><line class=\"sym\" x1=\"0\" x2=\"0\" y1=\"0\" y2=\"-10\" /><g class=\"mut m0\"><polyline class=\"sym\" points=\"2.5,-6.5 0,-1.5 -2.5,-6.5\" /></g></g></g><g class=\"y-axis\"><g transform=\"translate(0 65.7)\"><text class=\"lab\" text-anchor=\"middle\" transform=\"translate(11) rotate(-90)\">Time</text></g><line x1=\"56.8\" x2=\"56.8\" y1=\"121.4\" y2=\"10\" /><g class=\"ticks\"><g class=\"tick\" transform=\"translate(56.8 121.4)\"><line x1=\"0\" x2=\"-5\" y1=\"0\" y2=\"0\" /><g transform=\"translate(-6 0)\"><text class=\"lab\" text-anchor=\"end\">0</text></g></g><g class=\"tick\" transform=\"translate(56.8 74.1)\"><line x1=\"0\" x2=\"-5\" y1=\"0\" y2=\"0\" /><g transform=\"translate(-6 0)\"><text class=\"lab\" text-anchor=\"end\">10</text></g></g><g class=\"tick\" transform=\"translate(56.8 26.8)\"><line x1=\"0\" x2=\"-5\" y1=\"0\" y2=\"0\" /><g transform=\"translate(-6 0)\"><text class=\"lab\" text-anchor=\"end\">20</text></g></g></g></g></g><g class=\"plotbox trees\"><g class=\"tree t0\" transform=\"translate(56.8 0)\"><g class=\"plotbox\"><g class=\"c2 node n4 root\" transform=\"translate(68.5333 26.8)\"><g class=\"a4 c2 node n2\" transform=\"translate(-20.8 47.3)\"><g class=\"a2 leaf node n0 sample\" transform=\"translate(-13.8667 47.3)\"><path class=\"edge\" d=\"M 0 0 V -47.3 H 13.8667\" /><rect class=\"sym\" height=\"6\" width=\"6\" x=\"-3\" y=\"-3\" /><text class=\"lab\" transform=\"translate(0 11)\">0</text></g><g class=\"a2 leaf node n1 sample\" transform=\"translate(13.8667 47.3)\"><path class=\"edge\" d=\"M 0 0 V -47.3 H -13.8667\" /><rect class=\"sym\" height=\"6\" width=\"6\" x=\"-3\" y=\"-3\" /><text class=\"lab\" transform=\"translate(0 11)\">1</text></g><path class=\"edge\" d=\"M 0 0 V -47.3 H 20.8\" /><circle class=\"sym\" cx=\"0\" cy=\"0\" r=\"3\" /><text class=\"lab lft\" transform=\"translate(-3 -7.0)\">2</text></g><g class=\"a4 leaf m0 node n3 s0 sample\" transform=\"translate(20.8 94.6)\"><path class=\"edge\" d=\"M 0 0 V -94.6 H -20.8\" /><g class=\"mut m0 s0 unknown_time\" transform=\"translate(0 -47.3)\"><line x1=\"0\" x2=\"0\" y1=\"0\" y2=\"47.3\" /><path class=\"sym\" d=\"M -3,-3 l 6,6 M -3,3 l 6,-6\" /><text class=\"lab rgt\" transform=\"translate(5 0)\">0</text></g><rect class=\"sym\" height=\"6\" width=\"6\" x=\"-3\" y=\"-3\" /><text class=\"lab\" transform=\"translate(0 11)\">3</text></g><circle class=\"sym\" cx=\"0\" cy=\"0\" r=\"3\" /><text class=\"lab\" transform=\"translate(0 -11)\">4</text></g></g></g></g></g></svg>'"
      ]
     },
     "execution_count": 28,
     "metadata": {
      "filenames": {
       "image/svg+xml": "/home/runner/work/tutorials/tutorials/_build/jupyter_execute/tables_and_editing_53_0.svg"
      }
     },
     "output_type": "execute_result"
    }
   ],
   "source": [
    "tskit.load(\"data/construction_example.trees\").draw_svg(y_axis=True)"
   ]
  },
  {
   "cell_type": "markdown",
   "id": "dec7e403",
   "metadata": {},
   "source": [
    "Starting with an empty set of tables, we can fill, say, the node information by using\n",
    "{meth}`NodeTable.add_row` as follows:"
   ]
  },
  {
   "cell_type": "code",
   "execution_count": 29,
   "id": "889dbd1d",
   "metadata": {},
   "outputs": [
    {
     "data": {
      "text/html": [
       "\n",
       "            <div>\n",
       "                <style scoped=\"\">\n",
       "                    .tskit-table tbody tr th:only-of-type {vertical-align: middle;}\n",
       "                    .tskit-table tbody tr th {vertical-align: top;}\n",
       "                    .tskit-table tbody td {text-align: right;padding: 0.5em 0.5em;}\n",
       "                    .tskit-table tbody th {padding: 0.5em 0.5em;}\n",
       "                </style>\n",
       "                <table border=\"1\" class=\"tskit-table\">\n",
       "                    <thead>\n",
       "                        <tr>\n",
       "                            <th>id</th><th>flags</th><th>population</th><th>individual</th><th>time</th><th>metadata</th>\n",
       "                        </tr>\n",
       "                    </thead>\n",
       "                    <tbody>\n",
       "                        <tr><td>0</td><td>1</td><td>-1</td><td>-1</td><td>0</td><td></td></tr>\n",
       "<tr><td>1</td><td>1</td><td>-1</td><td>-1</td><td>0</td><td></td></tr>\n",
       "<tr><td>2</td><td>0</td><td>-1</td><td>-1</td><td>10</td><td></td></tr>\n",
       "<tr><td>3</td><td>1</td><td>-1</td><td>-1</td><td>0</td><td></td></tr>\n",
       "<tr><td>4</td><td>0</td><td>-1</td><td>-1</td><td>20</td><td></td></tr>\n",
       "\n",
       "                    </tbody>\n",
       "                </table>\n",
       "            </div>\n"
      ],
      "text/plain": [
       "<tskit.tables.NodeTable at 0x7fa85cd79e80>"
      ]
     },
     "execution_count": 29,
     "metadata": {},
     "output_type": "execute_result"
    }
   ],
   "source": [
    "tables = tskit.TableCollection(sequence_length=1e3)\n",
    "node_table = tables.nodes  # set up an alias, for efficiency\n",
    "node_table.add_row(flags=tskit.NODE_IS_SAMPLE)  # Node 0: defaults to time 0\n",
    "node_table.add_row(flags=tskit.NODE_IS_SAMPLE)  # Node 1: defaults to time 0\n",
    "node_table.add_row(time=10)  # Node 2: not a sample\n",
    "node_table.add_row(flags=tskit.NODE_IS_SAMPLE)  # Node 3\n",
    "node_table.add_row(time=20)  # Node 4\n",
    "node_table"
   ]
  },
  {
   "cell_type": "markdown",
   "id": "e237d7f6",
   "metadata": {},
   "source": [
    "The ``.add_row()`` method is natural (and should be reasonably efficient) if\n",
    "new records appear one-by-one. Alternatively ``.set_columns()`` can be used to\n",
    "set columns for all the rows at once, by passing in numpy arrays of the appropriate\n",
    "type. We'll use that for the edges:"
   ]
  },
  {
   "cell_type": "code",
   "execution_count": 30,
   "id": "1e9e1d77",
   "metadata": {},
   "outputs": [
    {
     "data": {
      "text/html": [
       "\n",
       "            <div>\n",
       "                <style scoped=\"\">\n",
       "                    .tskit-table tbody tr th:only-of-type {vertical-align: middle;}\n",
       "                    .tskit-table tbody tr th {vertical-align: top;}\n",
       "                    .tskit-table tbody td {text-align: right;padding: 0.5em 0.5em;}\n",
       "                    .tskit-table tbody th {padding: 0.5em 0.5em;}\n",
       "                </style>\n",
       "                <table border=\"1\" class=\"tskit-table\">\n",
       "                    <thead>\n",
       "                        <tr>\n",
       "                            <th>id</th><th>left</th><th>right</th><th>parent</th><th>child</th><th>metadata</th>\n",
       "                        </tr>\n",
       "                    </thead>\n",
       "                    <tbody>\n",
       "                        <tr><td>0</td><td>0</td><td>1000</td><td>2</td><td>0</td><td></td></tr>\n",
       "<tr><td>1</td><td>0</td><td>1000</td><td>2</td><td>1</td><td></td></tr>\n",
       "<tr><td>2</td><td>0</td><td>1000</td><td>4</td><td>2</td><td></td></tr>\n",
       "<tr><td>3</td><td>0</td><td>1000</td><td>4</td><td>3</td><td></td></tr>\n",
       "\n",
       "                    </tbody>\n",
       "                </table>\n",
       "            </div>\n"
      ],
      "text/plain": [
       "<tskit.tables.EdgeTable at 0x7fa85cd79ee0>"
      ]
     },
     "execution_count": 30,
     "metadata": {},
     "output_type": "execute_result"
    }
   ],
   "source": [
    "import numpy as np\n",
    "edge_table = tables.edges\n",
    "edge_table.set_columns(\n",
    "    left=np.array([0.0, 0.0, 0.0, 0.0]),\n",
    "    right=np.array([1e3, 1e3, 1e3, 1e3]),\n",
    "    parent=np.array([2, 2, 4, 4], dtype=np.int32),  # References IDs in the node table\n",
    "    child=np.array([0, 1, 2, 3], dtype=np.int32),  # References IDs in the node table\n",
    ")\n",
    "edge_table"
   ]
  },
  {
   "cell_type": "markdown",
   "id": "f00506da",
   "metadata": {},
   "source": [
    "And finally we can add a site and a mutation: here we'll use 0/1 mutations rather than\n",
    "ATGC."
   ]
  },
  {
   "cell_type": "code",
   "execution_count": 31,
   "id": "f15388d1",
   "metadata": {},
   "outputs": [
    {
     "name": "stdout",
     "output_type": "stream",
     "text": [
      "A hand-built tree sequence!\n"
     ]
    },
    {
     "data": {
      "image/svg+xml": [
       "<svg baseProfile=\"full\" height=\"200\" version=\"1.1\" width=\"200\" xmlns=\"http://www.w3.org/2000/svg\" xmlns:ev=\"http://www.w3.org/2001/xml-events\" xmlns:xlink=\"http://www.w3.org/1999/xlink\"><defs><style type=\"text/css\"><![CDATA[.background path {fill: #808080; fill-opacity: 0}.background path:nth-child(odd) {fill-opacity: .1}.axes {font-size: 14px}.x-axis .tick .lab {font-weight: bold; dominant-baseline: hanging}.axes, .tree {font-size: 14px; text-anchor: middle}.axes line, .edge {stroke: black; fill: none}.y-axis .grid {stroke: #FAFAFA}.node > .sym {fill: black; stroke: none}.site > .sym {stroke: black}.mut text {fill: red; font-style: italic}.mut.extra text {fill: hotpink}.mut line {fill: none; stroke: none}.mut .sym {fill: none; stroke: red}.mut.extra .sym {stroke: hotpink}.node .mut .sym {stroke-width: 1.5px}.tree text, .tree-sequence text {dominant-baseline: central}.plotbox .lab.lft {text-anchor: end}.plotbox .lab.rgt {text-anchor: start}]]></style></defs><g class=\"tree-sequence\"><g class=\"background\"><path d=\"M56.8,0 l123.2,0 l0,138.2 l0,25 l0,5 l-123.2,0 l0,-5 l0,-25 l0,-138.2z\" /></g><g class=\"axes\"><g class=\"x-axis\"><g transform=\"translate(118.4 200)\"><text class=\"lab\" text-anchor=\"middle\" transform=\"translate(0 -11)\">Genome position</text></g><line x1=\"56.8\" x2=\"180\" y1=\"163.2\" y2=\"163.2\" /><g class=\"ticks\"><g class=\"tick\" transform=\"translate(56.8 163.2)\"><line x1=\"0\" x2=\"0\" y1=\"0\" y2=\"5\" /><g transform=\"translate(0 6)\"><text class=\"lab\">0</text></g></g><g class=\"tick\" transform=\"translate(180 163.2)\"><line x1=\"0\" x2=\"0\" y1=\"0\" y2=\"5\" /><g transform=\"translate(0 6)\"><text class=\"lab\">1000</text></g></g></g><g class=\"site s0\" transform=\"translate(118.4 163.2)\"><line class=\"sym\" x1=\"0\" x2=\"0\" y1=\"0\" y2=\"-10\" /><g class=\"mut m0\"><polyline class=\"sym\" points=\"2.5,-6.5 0,-1.5 -2.5,-6.5\" /></g></g></g><g class=\"y-axis\"><g transform=\"translate(0 65.7)\"><text class=\"lab\" text-anchor=\"middle\" transform=\"translate(11) rotate(-90)\">Time</text></g><line x1=\"56.8\" x2=\"56.8\" y1=\"121.4\" y2=\"10\" /><g class=\"ticks\"><g class=\"tick\" transform=\"translate(56.8 121.4)\"><line x1=\"0\" x2=\"-5\" y1=\"0\" y2=\"0\" /><g transform=\"translate(-6 0)\"><text class=\"lab\" text-anchor=\"end\">0</text></g></g><g class=\"tick\" transform=\"translate(56.8 74.1)\"><line x1=\"0\" x2=\"-5\" y1=\"0\" y2=\"0\" /><g transform=\"translate(-6 0)\"><text class=\"lab\" text-anchor=\"end\">10</text></g></g><g class=\"tick\" transform=\"translate(56.8 26.8)\"><line x1=\"0\" x2=\"-5\" y1=\"0\" y2=\"0\" /><g transform=\"translate(-6 0)\"><text class=\"lab\" text-anchor=\"end\">20</text></g></g></g></g></g><g class=\"plotbox trees\"><g class=\"tree t0\" transform=\"translate(56.8 0)\"><g class=\"plotbox\"><g class=\"c2 node n4 root\" transform=\"translate(68.5333 26.8)\"><g class=\"a4 c2 m0 node n2 s0\" transform=\"translate(-20.8 47.3)\"><g class=\"a2 leaf node n0 sample\" transform=\"translate(-13.8667 47.3)\"><path class=\"edge\" d=\"M 0 0 V -47.3 H 13.8667\" /><rect class=\"sym\" height=\"6\" width=\"6\" x=\"-3\" y=\"-3\" /><text class=\"lab\" transform=\"translate(0 11)\">0</text></g><g class=\"a2 leaf node n1 sample\" transform=\"translate(13.8667 47.3)\"><path class=\"edge\" d=\"M 0 0 V -47.3 H -13.8667\" /><rect class=\"sym\" height=\"6\" width=\"6\" x=\"-3\" y=\"-3\" /><text class=\"lab\" transform=\"translate(0 11)\">1</text></g><path class=\"edge\" d=\"M 0 0 V -47.3 H 20.8\" /><g class=\"mut m0 s0 unknown_time\" transform=\"translate(0 -23.65)\"><line x1=\"0\" x2=\"0\" y1=\"0\" y2=\"23.65\" /><path class=\"sym\" d=\"M -3,-3 l 6,6 M -3,3 l 6,-6\" /><text class=\"lab lft\" transform=\"translate(-5 0)\">0</text></g><circle class=\"sym\" cx=\"0\" cy=\"0\" r=\"3\" /><text class=\"lab lft\" transform=\"translate(-3 -7.0)\">2</text></g><g class=\"a4 leaf node n3 sample\" transform=\"translate(20.8 94.6)\"><path class=\"edge\" d=\"M 0 0 V -94.6 H -20.8\" /><rect class=\"sym\" height=\"6\" width=\"6\" x=\"-3\" y=\"-3\" /><text class=\"lab\" transform=\"translate(0 11)\">3</text></g><circle class=\"sym\" cx=\"0\" cy=\"0\" r=\"3\" /><text class=\"lab\" transform=\"translate(0 -11)\">4</text></g></g></g></g></g></svg>"
      ],
      "text/plain": [
       "'<svg baseProfile=\"full\" height=\"200\" version=\"1.1\" width=\"200\" xmlns=\"http://www.w3.org/2000/svg\" xmlns:ev=\"http://www.w3.org/2001/xml-events\" xmlns:xlink=\"http://www.w3.org/1999/xlink\"><defs><style type=\"text/css\"><![CDATA[.background path {fill: #808080; fill-opacity: 0}.background path:nth-child(odd) {fill-opacity: .1}.axes {font-size: 14px}.x-axis .tick .lab {font-weight: bold; dominant-baseline: hanging}.axes, .tree {font-size: 14px; text-anchor: middle}.axes line, .edge {stroke: black; fill: none}.y-axis .grid {stroke: #FAFAFA}.node > .sym {fill: black; stroke: none}.site > .sym {stroke: black}.mut text {fill: red; font-style: italic}.mut.extra text {fill: hotpink}.mut line {fill: none; stroke: none}.mut .sym {fill: none; stroke: red}.mut.extra .sym {stroke: hotpink}.node .mut .sym {stroke-width: 1.5px}.tree text, .tree-sequence text {dominant-baseline: central}.plotbox .lab.lft {text-anchor: end}.plotbox .lab.rgt {text-anchor: start}]]></style></defs><g class=\"tree-sequence\"><g class=\"background\"><path d=\"M56.8,0 l123.2,0 l0,138.2 l0,25 l0,5 l-123.2,0 l0,-5 l0,-25 l0,-138.2z\" /></g><g class=\"axes\"><g class=\"x-axis\"><g transform=\"translate(118.4 200)\"><text class=\"lab\" text-anchor=\"middle\" transform=\"translate(0 -11)\">Genome position</text></g><line x1=\"56.8\" x2=\"180\" y1=\"163.2\" y2=\"163.2\" /><g class=\"ticks\"><g class=\"tick\" transform=\"translate(56.8 163.2)\"><line x1=\"0\" x2=\"0\" y1=\"0\" y2=\"5\" /><g transform=\"translate(0 6)\"><text class=\"lab\">0</text></g></g><g class=\"tick\" transform=\"translate(180 163.2)\"><line x1=\"0\" x2=\"0\" y1=\"0\" y2=\"5\" /><g transform=\"translate(0 6)\"><text class=\"lab\">1000</text></g></g></g><g class=\"site s0\" transform=\"translate(118.4 163.2)\"><line class=\"sym\" x1=\"0\" x2=\"0\" y1=\"0\" y2=\"-10\" /><g class=\"mut m0\"><polyline class=\"sym\" points=\"2.5,-6.5 0,-1.5 -2.5,-6.5\" /></g></g></g><g class=\"y-axis\"><g transform=\"translate(0 65.7)\"><text class=\"lab\" text-anchor=\"middle\" transform=\"translate(11) rotate(-90)\">Time</text></g><line x1=\"56.8\" x2=\"56.8\" y1=\"121.4\" y2=\"10\" /><g class=\"ticks\"><g class=\"tick\" transform=\"translate(56.8 121.4)\"><line x1=\"0\" x2=\"-5\" y1=\"0\" y2=\"0\" /><g transform=\"translate(-6 0)\"><text class=\"lab\" text-anchor=\"end\">0</text></g></g><g class=\"tick\" transform=\"translate(56.8 74.1)\"><line x1=\"0\" x2=\"-5\" y1=\"0\" y2=\"0\" /><g transform=\"translate(-6 0)\"><text class=\"lab\" text-anchor=\"end\">10</text></g></g><g class=\"tick\" transform=\"translate(56.8 26.8)\"><line x1=\"0\" x2=\"-5\" y1=\"0\" y2=\"0\" /><g transform=\"translate(-6 0)\"><text class=\"lab\" text-anchor=\"end\">20</text></g></g></g></g></g><g class=\"plotbox trees\"><g class=\"tree t0\" transform=\"translate(56.8 0)\"><g class=\"plotbox\"><g class=\"c2 node n4 root\" transform=\"translate(68.5333 26.8)\"><g class=\"a4 c2 m0 node n2 s0\" transform=\"translate(-20.8 47.3)\"><g class=\"a2 leaf node n0 sample\" transform=\"translate(-13.8667 47.3)\"><path class=\"edge\" d=\"M 0 0 V -47.3 H 13.8667\" /><rect class=\"sym\" height=\"6\" width=\"6\" x=\"-3\" y=\"-3\" /><text class=\"lab\" transform=\"translate(0 11)\">0</text></g><g class=\"a2 leaf node n1 sample\" transform=\"translate(13.8667 47.3)\"><path class=\"edge\" d=\"M 0 0 V -47.3 H -13.8667\" /><rect class=\"sym\" height=\"6\" width=\"6\" x=\"-3\" y=\"-3\" /><text class=\"lab\" transform=\"translate(0 11)\">1</text></g><path class=\"edge\" d=\"M 0 0 V -47.3 H 20.8\" /><g class=\"mut m0 s0 unknown_time\" transform=\"translate(0 -23.65)\"><line x1=\"0\" x2=\"0\" y1=\"0\" y2=\"23.65\" /><path class=\"sym\" d=\"M -3,-3 l 6,6 M -3,3 l 6,-6\" /><text class=\"lab lft\" transform=\"translate(-5 0)\">0</text></g><circle class=\"sym\" cx=\"0\" cy=\"0\" r=\"3\" /><text class=\"lab lft\" transform=\"translate(-3 -7.0)\">2</text></g><g class=\"a4 leaf node n3 sample\" transform=\"translate(20.8 94.6)\"><path class=\"edge\" d=\"M 0 0 V -94.6 H -20.8\" /><rect class=\"sym\" height=\"6\" width=\"6\" x=\"-3\" y=\"-3\" /><text class=\"lab\" transform=\"translate(0 11)\">3</text></g><circle class=\"sym\" cx=\"0\" cy=\"0\" r=\"3\" /><text class=\"lab\" transform=\"translate(0 -11)\">4</text></g></g></g></g></g></svg>'"
      ]
     },
     "execution_count": 31,
     "metadata": {
      "filenames": {
       "image/svg+xml": "/home/runner/work/tutorials/tutorials/_build/jupyter_execute/tables_and_editing_59_1.svg"
      }
     },
     "output_type": "execute_result"
    }
   ],
   "source": [
    "site_id = tables.sites.add_row(position=500.0, ancestral_state='0')\n",
    "tables.mutations.add_row(site=site_id, node=2, derived_state='1')\n",
    "ts = tables.tree_sequence()\n",
    "print(\"A hand-built tree sequence!\")\n",
    "ts.draw_svg(y_axis=True)"
   ]
  },
  {
   "cell_type": "markdown",
   "id": "632bf480",
   "metadata": {},
   "source": [
    ":::{note}\n",
    "The ordering requirements for a valid tree sequence\n",
    "{ref}`do not specify<tskit:sec_node_requirements>` that rows in the\n",
    "node table have to be sorted in any particular order, e.g. by time. By convention,\n",
    "sample nodes are often the first ones listed in the node table, and this is the node\n",
    "order returned by {meth}`~TreeSequence.simplify`, but the example above shows that\n",
    "sample nodes need not necessarily be those with the IDs $0..n$.\n",
    ":::\n",
    "\n",
    "(sec_tables_editing)=\n",
    "\n",
    "## Editing tree sequences\n",
    "\n",
    "If you may wish to make modifications to a tree sequence, you will immediately encounter\n",
    "a barrier: tree sequence objects are **immutable** and so cannot be edited in-place.\n",
    "Therefore, the way to change a tree sequence is to edit its underlying tables.\n",
    "\n",
    "Before providing further examples of how to edit tables, it's worth noting that\n",
    "{program}`tskit` may provide a built-in method to achieve what you want to do, without\n",
    "you having to think about the underlying tables at all. In particular, several methods\n",
    "will return a new tree sequence that has been modified in some way. Here are some key\n",
    "ones:\n",
    "\n",
    "- {meth}`TreeSequence.delete_sites` returns a tree sequence with certain sites\n",
    "  deleted\n",
    "- {meth}`TreeSequence.delete_intervals` and {meth}`TreeSequence.keep_intervals` \n",
    "  return a tree sequence whose trees cover a smaller fraction of the genome (and which can\n",
    "  be combined with {meth}`TreeSequence.trim` to change the coordinate system)\n",
    "- {meth}`TreeSequence.simplify` returns a new tree sequence with some sample nodes removed\n",
    "  (see the {ref}`simplification tutorial<sec_simplification>`).\n",
    "- {meth}`TreeSequence.union` returns a new tree sequence formed by merging two other tree\n",
    "  sequences together.\n",
    "\n",
    "For example, to strip singleton sites from a tree sequence, we can simply call the\n",
    "{meth}`TreeSequence.delete_sites` method:"
   ]
  },
  {
   "cell_type": "code",
   "execution_count": 32,
   "id": "94ce7a4b",
   "metadata": {},
   "outputs": [
    {
     "name": "stdout",
     "output_type": "stream",
     "text": [
      "109 sites in the simulated tree sequence\n",
      "52 sites after removing singletons\n"
     ]
    }
   ],
   "source": [
    "import msprime\n",
    "import numpy as np\n",
    "\n",
    "ts = msprime.sim_ancestry(10, random_seed=123)\n",
    "ts = msprime.sim_mutations(ts, rate=10, discrete_genome=False, random_seed=123)\n",
    "print(ts.num_sites, \"sites in the simulated tree sequence\")\n",
    "\n",
    "# Identify sites with a singleton allele\n",
    "sites_with_a_singleton_allele = []\n",
    "for v in ts.variants():\n",
    "    non_missing_genotypes = v.genotypes[v.genotypes != tskit.MISSING_DATA]\n",
    "    if np.any(np.bincount(non_missing_genotypes) == 1):\n",
    "        sites_with_a_singleton_allele.append(v.site.id)\n",
    "        \n",
    "# Strip those sites from the tree sequence\n",
    "ts_new = ts.delete_sites(sites_with_a_singleton_allele)\n",
    "print(ts_new.num_sites, \"sites after removing singletons\")"
   ]
  },
  {
   "cell_type": "markdown",
   "id": "7b927083",
   "metadata": {},
   "source": [
    "However, you want to do something not covered by a built-in method, you will\n",
    "need to edit a copy of the underlying tables and then create a new tree sequence from\n",
    "the modified tables. \n",
    "\n",
    "\n",
    "(sec_tables_editing_minor)=\n",
    "\n",
    "### Minor edits\n",
    "\n",
    "{ref}`Previously<sec_tables_accessing_rows>` we saw how to change specific rows by\n",
    "overwriting them. Here, for example, we use {meth}`IndividualTableRow.replace` to change\n",
    "the `metadata` associated with an individual in one of our example tree sequences:"
   ]
  },
  {
   "cell_type": "code",
   "execution_count": 33,
   "id": "9a9374c1",
   "metadata": {},
   "outputs": [
    {
     "data": {
      "text/html": [
       "\n",
       "            <div>\n",
       "                <style scoped=\"\">\n",
       "                    .tskit-table tbody tr th:only-of-type {vertical-align: middle;}\n",
       "                    .tskit-table tbody tr th {vertical-align: top;}\n",
       "                    .tskit-table tbody td {text-align: right;padding: 0.5em 0.5em;}\n",
       "                    .tskit-table tbody th {padding: 0.5em 0.5em;}\n",
       "                </style>\n",
       "                <table border=\"1\" class=\"tskit-table\">\n",
       "                    <thead>\n",
       "                        <tr>\n",
       "                            <th>id</th><th>flags</th><th>location</th><th>parents</th><th>metadata</th>\n",
       "                        </tr>\n",
       "                    </thead>\n",
       "                    <tbody>\n",
       "                        <tr><td>0</td><td>0</td><td></td><td>2, -1</td><td>{'name': 'Alice'}</td></tr>\n",
       "<tr><td>1</td><td>0</td><td></td><td>2, -1</td><td>{'name': 'Robert'}</td></tr>\n",
       "<tr><td>2</td><td>0</td><td></td><td>-1, -1</td><td>{'name': 'Carol'}</td></tr>\n",
       "\n",
       "                    </tbody>\n",
       "                </table>\n",
       "            </div>\n"
      ],
      "text/plain": [
       "<tskit.tables.IndividualTable at 0x7fa85cd79910>"
      ]
     },
     "execution_count": 33,
     "metadata": {},
     "output_type": "execute_result"
    }
   ],
   "source": [
    "tables = altered_ts.dump_tables()\n",
    "# Change the name \"Bob\" to \"Robert\"\n",
    "tables.individuals[1] = tables.individuals[1].replace(metadata={\"name\": \"Robert\"})\n",
    "edited_ts = tables.tree_sequence()\n",
    "edited_ts.tables.individuals"
   ]
  },
  {
   "cell_type": "markdown",
   "id": "d79de00a",
   "metadata": {},
   "source": [
    "If you are overwriting an entire column, especially something like metadata which is a\n",
    "{ref}`ragged column<sec_encoding_ragged_columns>`, looping through each row and changing\n",
    "it as above will not be very performant. Instead, you should overwrite the entire column\n",
    "(or multiple columns) at once. We {ref}`previously saw<sec_tables_accessing_columns>`\n",
    "how to overwrite an entire column of numbers, and for most columns that should suffice.\n",
    "However, overwriting ragged columns like `metadata` or `parents` is more involved,\n",
    "as you cannot set them to a single numpy array. Instead, for these columns, `tskit`\n",
    "provides a number of `packset_` routines, which set the appropriate column from a Python\n",
    "list of values.\n",
    "\n",
    "Here's an example of changing an entire column of metadata in one pass (in this case,\n",
    "note the extra step of validating and encoding before calling\n",
    "{meth}`IndividualTable.packset_metadata`, as\n",
    "{ref}`described<sec_tutorial_metadata_bulk>` in the\n",
    "{ref}`metadata tutorial<sec_tutorial_metadata>`)."
   ]
  },
  {
   "cell_type": "code",
   "execution_count": 34,
   "id": "35bde761",
   "metadata": {},
   "outputs": [
    {
     "data": {
      "text/html": [
       "\n",
       "            <div>\n",
       "                <style scoped=\"\">\n",
       "                    .tskit-table tbody tr th:only-of-type {vertical-align: middle;}\n",
       "                    .tskit-table tbody tr th {vertical-align: top;}\n",
       "                    .tskit-table tbody td {text-align: right;padding: 0.5em 0.5em;}\n",
       "                    .tskit-table tbody th {padding: 0.5em 0.5em;}\n",
       "                </style>\n",
       "                <table border=\"1\" class=\"tskit-table\">\n",
       "                    <thead>\n",
       "                        <tr>\n",
       "                            <th>id</th><th>flags</th><th>location</th><th>parents</th><th>metadata</th>\n",
       "                        </tr>\n",
       "                    </thead>\n",
       "                    <tbody>\n",
       "                        <tr><td>0</td><td>0</td><td></td><td>2, -1</td><td>{'name': 'Alice Smith'}</td></tr>\n",
       "<tr><td>1</td><td>0</td><td></td><td>2, -1</td><td>{'name': 'Robert Smith'}</td></tr>\n",
       "<tr><td>2</td><td>0</td><td></td><td>-1, -1</td><td>{'name': 'Carol Smith'}</td></tr>\n",
       "\n",
       "                    </tbody>\n",
       "                </table>\n",
       "            </div>\n"
      ],
      "text/plain": [
       "<tskit.tables.IndividualTable at 0x7fa85cd915e0>"
      ]
     },
     "execution_count": 34,
     "metadata": {},
     "output_type": "execute_result"
    }
   ],
   "source": [
    "# Add a surname to all individuals\n",
    "new_metadata = [{\"name\": i.metadata[\"name\"] + \" Smith\"} for i in tables.individuals]\n",
    "validated_metadata = [\n",
    "    tables.individuals.metadata_schema.validate_and_encode_row(row) for row in new_metadata\n",
    "]\n",
    "tables.individuals.packset_metadata(validated_metadata)\n",
    "edited_ts = tables.tree_sequence()\n",
    "edited_ts.tables.individuals"
   ]
  },
  {
   "cell_type": "markdown",
   "id": "da130201",
   "metadata": {},
   "source": [
    "(sec_tables_editing_major)=\n",
    "\n",
    "### Major edits\n",
    "\n",
    "For larger changes, it is often worth clearing the entire table and filling it. Here,\n",
    "for example, we clear all mutations from the mutations table, then fill it up again,\n",
    "if possible using a more parsimonious placement of mutations (i.e. a placement that\n",
    "would better explain the observed variation among samples - see the\n",
    "{ref}`sec_analysing_trees_parsimony` tutorial section).\n",
    "This also involves changing the ancestral state at the site if necessary."
   ]
  },
  {
   "cell_type": "code",
   "execution_count": 35,
   "id": "03781e2f",
   "metadata": {},
   "outputs": [
    {
     "name": "stdout",
     "output_type": "stream",
     "text": [
      "Original ts has 154 mutations on 71 trees\n",
      "Parsimonious ts has 33 fewer muts\n"
     ]
    }
   ],
   "source": [
    "# Make a tree sequence with loads of recurrent/back mutations, for testing only\n",
    "ts = msprime.sim_ancestry(10, sequence_length=100, recombination_rate=0.1, random_seed=123)\n",
    "ts = msprime.sim_mutations(ts, rate=0.1, random_seed=456)\n",
    "print(\"Original ts has\", ts.num_mutations, \"mutations on\", ts.num_trees, \"trees\")\n",
    "\n",
    "tables = ts.dump_tables()  # Copy the table collection associated with this tree sequence\n",
    "tables.mutations.clear()  # Clear all mutations in the table collection copy\n",
    "v_iter = ts.variants()  # Workaround until https://github.com/tskit-dev/tskit/issues/605 is solved\n",
    "for tree in ts.trees():\n",
    "    for site in tree.sites():\n",
    "        variant = next(v_iter)\n",
    "        anc_state, mutations = tree.map_mutations(variant.genotypes, variant.alleles)\n",
    "        if len(mutations) <  len(site.mutations):\n",
    "            # Genotypes can be explained with a more parsimonious distribution of mutations\n",
    "            if anc_state != site.ancestral_state:\n",
    "                tables.sites[site.id] = tables.sites[site.id].replace(ancestral_state=anc_state)\n",
    "            for mut in mutations:\n",
    "                tables.mutations.append(mut.replace(site=site.id))            \n",
    "        else:\n",
    "            # Add the original mutations back in (note that parent ids may have changed,\n",
    "            # so we will need to call compute_mutation_parents at the end)\n",
    "            for mut in site.mutations:\n",
    "                tables.mutations.append(mut)\n",
    "tables.compute_mutation_parents()\n",
    "tables.compute_mutation_times()\n",
    "tables.sort()\n",
    "parsimonious_ts = tables.tree_sequence()\n",
    "\n",
    "print(\"Parsimonious ts has\", ts.num_mutations - parsimonious_ts.num_mutations, \"fewer muts\")\n",
    "\n",
    "# Optional checks\n",
    "assert ts.num_trees == parsimonious_ts.num_trees\n",
    "assert ts.num_sites == parsimonious_ts.num_sites\n",
    "for v1, v2 in zip(ts.variants(), parsimonious_ts.variants()):\n",
    "    # convert alleles to numpy arrays so we can index into them easily\n",
    "    alleles1, alleles2 = np.array(v1.alleles), np.array(v2.alleles)\n",
    "    # Verify the distribution of variation is the same, by comparing the allelic state\n",
    "    assert np.all(alleles1[v1.genotypes] == alleles2[v2.genotypes])"
   ]
  },
  {
   "cell_type": "markdown",
   "id": "a09a1c0d",
   "metadata": {},
   "source": [
    ":::{note}\n",
    "In the code above we iterate over the trees in the original tree sequence, but make\n",
    "changes to a *copy* of the tables associated with those trees, modifying the table\n",
    "collection as we go. This is a common idiom.\n",
    ":::"
   ]
  }
 ],
 "metadata": {
  "jupytext": {
   "text_representation": {
    "extension": ".md",
    "format_name": "myst",
    "format_version": 0.12,
    "jupytext_version": "1.9.1"
   }
  },
  "kernelspec": {
   "display_name": "Python 3",
   "language": "python",
   "name": "python3"
  },
  "language_info": {
   "codemirror_mode": {
    "name": "ipython",
    "version": 3
   },
   "file_extension": ".py",
   "mimetype": "text/x-python",
   "name": "python",
   "nbconvert_exporter": "python",
   "pygments_lexer": "ipython3",
   "version": "3.8.14"
  },
  "source_map": [
   12,
   17,
   137,
   163,
   167,
   170,
   185,
   187,
   207,
   209,
   228,
   232,
   241,
   250,
   252,
   262,
   264,
   273,
   276,
   317,
   319,
   332,
   334,
   371,
   378,
   392,
   394,
   408,
   410,
   416,
   419,
   427,
   434,
   439,
   442,
   451,
   459,
   464,
   466,
   472,
   474,
   479,
   482,
   486,
   488,
   493,
   501,
   505,
   513,
   545,
   549,
   553,
   556,
   571,
   573,
   578,
   587,
   594,
   604,
   609,
   615,
   653,
   671,
   686,
   692,
   710,
   719,
   732,
   771
  ]
 },
 "nbformat": 4,
 "nbformat_minor": 5
}