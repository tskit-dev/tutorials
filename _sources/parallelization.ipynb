{
 "cells": [
  {
   "cell_type": "markdown",
   "id": "277ff605",
   "metadata": {},
   "source": [
    "```{currentmodule} tskit\n",
    "```"
   ]
  },
  {
   "cell_type": "code",
   "execution_count": 1,
   "id": "d84026bc",
   "metadata": {
    "tags": [
     "remove-cell"
    ]
   },
   "outputs": [],
   "source": [
    "import msprime\n",
    "import numpy as np\n",
    "import tskit\n",
    "\n",
    "def create_notebook_data():\n",
    "    pass\n",
    "\n",
    "# create_notebook_data()  # uncomment to recreate the tree seqs used in this notebook"
   ]
  },
  {
   "cell_type": "markdown",
   "id": "69cfad69",
   "metadata": {},
   "source": [
    "(sec_parallelization)=\n",
    "\n",
    "# _Parallelization_\n",
    "% remove underscores in title when tutorial is complete or near-complete\n",
    "\n",
    "When performing large calculations it's often useful to split the\n",
    "work over multiple processes or threads. The ``tskit`` API can\n",
    "be used without issues across multiple processes, and the Python\n",
    "{mod}`multiprocessing` module often provides a very effective way to\n",
    "work with many replicate simulations in parallel.\n",
    "\n",
    "When we wish to work with a single very large dataset, however, threads can\n",
    "offer better resource usage because of the shared memory space. The Python\n",
    "{mod}`threading` library gives a very simple interface to lightweight CPU\n",
    "threads and allows us to perform several CPU intensive tasks in parallel. The\n",
    "``tskit`` API is designed to allow multiple threads to work in parallel when\n",
    "CPU intensive tasks are being undertaken.\n",
    "\n",
    ":::{note}\n",
    "In the CPython implementation the \n",
    "[Global Interpreter Lock](https://wiki.python.org/moin/GlobalInterpreterLock) ensures that\n",
    "only one thread executes Python bytecode at one time. This means that\n",
    "Python code does not parallelise well across threads, but avoids a large\n",
    "number of nasty pitfalls associated with multiple threads updating\n",
    "data structures in parallel. Native C extensions like ``numpy`` and ``tskit``\n",
    "release the GIL while expensive tasks are being performed, therefore\n",
    "allowing these calculations to proceed in parallel.\n",
    ":::\n",
    "\n",
    "\n",
    ":::{todo}\n",
    "This tutorial previously used code with an old interface, and hence has been removed.\n",
    "We must recreate an example of parallel processing, giving examples of both\n",
    "threads and processes (but see\n",
    "[this stackoverflow post](https://stackoverflow.com/questions/47313732/jupyter-notebook-never-finishes-processing-using-multiprocessing-python-3)\n",
    "for why it may be difficult to get {mod}`multiprocessing` working in this notebook).\n",
    "A reasonable example might be to calculate many pairwise statistics between sample sets\n",
    "in parallel.\n",
    "\n",
    "We should also show how, for large tree sequences that it is better to pass the filenames\n",
    "to each subprocess, and load the tree sequence, rather than transferring the entire\n",
    "tree sequence (via pickle) to the subprocesses.\n",
    ":::"
   ]
  }
 ],
 "metadata": {
  "jupytext": {
   "text_representation": {
    "extension": ".md",
    "format_name": "myst",
    "format_version": 0.12,
    "jupytext_version": "1.9.1"
   }
  },
  "kernelspec": {
   "display_name": "Python 3",
   "language": "python",
   "name": "python3"
  },
  "language_info": {
   "codemirror_mode": {
    "name": "ipython",
    "version": 3
   },
   "file_extension": ".py",
   "mimetype": "text/x-python",
   "name": "python",
   "nbconvert_exporter": "python",
   "pygments_lexer": "ipython3",
   "version": "3.8.14"
  },
  "source_map": [
   12,
   17,
   27
  ]
 },
 "nbformat": 4,
 "nbformat_minor": 5
}