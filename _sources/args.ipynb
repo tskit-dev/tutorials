{
 "cells": [
  {
   "cell_type": "markdown",
   "id": "1a670fc5",
   "metadata": {},
   "source": [
    "```{currentmodule} tskit\n",
    "```\n",
    "\n",
    "(sec_args)=\n",
    "\n",
    "# _ARGs as tree sequences_\n",
    "% remove underscores in title when tutorial is complete or near-complete\n",
    "\n",
    "\n",
    ":::{todo}\n",
    "We can simulate some ARGs in msprime, explain how we can losslessly represent ARGs and get all the information you could want.\n",
    "\n",
    "Add content as per [https://github.com/tskit-dev/tutorials/issues/43](https://github.com/tskit-dev/tutorials/issues/43)\n",
    "\n",
    "Note the section in the msprime docs at\n",
    "[https://tskit.dev/msprime/docs/stable/ancestry.html#ancestral-recombination-graph](https://tskit.dev/msprime/docs/stable/ancestry.html#ancestral-recombination-graph)\n",
    ":::"
   ]
  }
 ],
 "metadata": {
  "jupytext": {
   "text_representation": {
    "extension": ".md",
    "format_name": "myst",
    "format_version": 0.12,
    "jupytext_version": "1.9.1"
   }
  },
  "kernelspec": {
   "display_name": "Python 3",
   "language": "python",
   "name": "python3"
  },
  "language_info": {
   "codemirror_mode": {
    "name": "ipython",
    "version": 3
   },
   "file_extension": ".py",
   "mimetype": "text/x-python",
   "name": "python",
   "nbconvert_exporter": "python",
   "pygments_lexer": "ipython3",
   "version": "3.8.14"
  },
  "source_map": [
   12
  ]
 },
 "nbformat": 4,
 "nbformat_minor": 5
}