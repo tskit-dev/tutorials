{
 "cells": [
  {
   "cell_type": "markdown",
   "id": "f6f73c5e",
   "metadata": {},
   "source": [
    "```{currentmodule} tskit\n",
    "```\n",
    "\n",
    "(sec_args)=\n",
    "\n",
    "# _ARGs as tree sequences_\n",
    "% remove underscores in title when tutorial is complete or near-complete\n",
    "\n",
    ":::{note}\n",
    "This tutorial is a work in progress.\n",
    ":::\n",
    "\n",
    "At its heart, a `tskit` {ref}`tree sequence<sec_what_is>` consists of a list of\n",
    "{ref}`sec_terminology_nodes`, and a list of {ref}`sec_terminology_edges` that connect\n",
    "those nodes. Therefore a succinct tree sequence is equivalent to a\n",
    "[mathematical graph](https://en.wikipedia.org/wiki/Graph_(discrete_mathematics)),\n",
    "which is additionally annotated with genomic positions such that at each\n",
    "position, a path through the edges exists which defines a tree. This graph\n",
    "interpretation of a tree sequence is tightly connected to the concept of\n",
    "an \"ancestral recombination graph\" (or ARG). \n",
    "\n",
    ":::{margin}\n",
    "An original, narrower definition, which we do not use here, restricts the term ARG to\n",
    "the neutral coalescent process with crossover-recombination, and the graph structure\n",
    "defined by that process, see e.g.\n",
    "[Griffiths & Marjoram (1997)](https://research.monash.edu/en/publications/an-ancestral-recombination-graph)\n",
    ":::\n",
    "The term \"ARG\" is [often used](https://doi.org/10.1086%2F508901) to refer to\n",
    "a structure consisting of nodes and edges that describe the genetic genealogy of a set\n",
    "of sampled chromosomes which have evolved via a process of genetic inheritance combined\n",
    "with recombination. ARGs may contain not just nodes corresponding to genetic\n",
    "coalescence, but also additional nodes that correspond e.g. to recombination events\n",
    "(see {ref}`sec_args_arg_nodes`, below). We call these \"full ARGs\", and this tutorial aims\n",
    "to show you how [tskit](https://tskit.dev) can be used to store and analyse them.\n",
    "As an example, we will generate a full ARG using the process \n",
    "{func}`msprime:msprime.sim_ancestry` with the `record_full_arg=True` option, as described\n",
    "{ref}`in the msprime docs<msprime:sec_ancestry_full_arg>`:"
   ]
  },
  {
   "cell_type": "code",
   "execution_count": 1,
   "id": "6503a40b",
   "metadata": {},
   "outputs": [
    {
     "name": "stdout",
     "output_type": "stream",
     "text": [
      "\"Full ARG\" simulated under the Hudson model:\n",
      " stored in a tree sequence with 17 nodes and  18 edges which form 3 local trees\n"
     ]
    }
   ],
   "source": [
    "import msprime\n",
    "\n",
    "parameters = {\n",
    "    \"samples\": 3, # Three diploid individuals == six sample genomes\n",
    "    \"sequence_length\": 1e4,\n",
    "    \"recombination_rate\": 1e-7,\n",
    "    \"population_size\": 1e3,\n",
    "    \"random_seed\": 333,\n",
    "}\n",
    "\n",
    "ts_arg = msprime.sim_ancestry(**parameters, record_full_arg=True, discrete_genome=False)\n",
    "# NB: the strict Hudson ARG needs unique crossover positions (i.e. a continuous genome)\n",
    "\n",
    "print('\"Full ARG\" simulated under the Hudson model:')\n",
    "print(\n",
    "    f\" stored in a tree sequence with {ts_arg.num_nodes} nodes and \"\n",
    "    f\" {ts_arg.num_edges} edges which form {ts_arg.num_trees} local trees\"\n",
    ")"
   ]
  },
  {
   "cell_type": "markdown",
   "id": "31dcfc09",
   "metadata": {},
   "source": [
    "Like any tree sequence, we can also add mutations to the ARG to generate genetic\n",
    "variation:"
   ]
  },
  {
   "cell_type": "code",
   "execution_count": 2,
   "id": "5de32eb1",
   "metadata": {},
   "outputs": [
    {
     "name": "stdout",
     "output_type": "stream",
     "text": [
      "     Sample node:  0   1   2   3   4   5\n",
      "Variable site 0: ['T' 'C' 'T' 'C' 'C' 'C']\n",
      "Variable site 1: ['C' 'C' 'C' 'C' 'G' 'C']\n",
      "Variable site 2: ['T' 'T' 'G' 'T' 'T' 'T']\n"
     ]
    }
   ],
   "source": [
    "import numpy as np\n",
    "mu = 1e-7\n",
    "ts_arg = msprime.sim_mutations(ts_arg, rate=mu, random_seed=888)\n",
    "print(\"     Sample node:  \" + \"   \".join(str(u) for u in ts_arg.samples()))\n",
    "for v in ts_arg.variants():\n",
    "    print(f\"Variable site {v.site.id}:\", np.array(v.alleles)[v.genotypes])"
   ]
  },
  {
   "cell_type": "markdown",
   "id": "449a7f38",
   "metadata": {},
   "source": [
    "As well as the standard {ref}`sec_tskit_viz` of the tree sequence as a set of local\n",
    "trees, we can also\n",
    "{ref}`plot this tree sequence in network form<sec_tskit_viz_other_graph>`:\n",
    "\n",
    ":::{todo}\n",
    "Incorporate something into [tsviz](https://github.com/tskit-dev/tsviz)\n",
    "like the `draw` function from\n",
    "https://github.com/tskit-dev/what-is-an-arg-paper/blob/main/argutils/viz.py, and\n",
    "use that to plot a graph-based viz of this ts, e.g.\n",
    "```{code}\n",
    "import argutils\n",
    "from matplotlib import pyplot as plt\n",
    "fig, ax = plt.subplots(1, 1, figsize=(5, 5), sharey=True)\n",
    "ts2 = argutils.viz.label_nodes(ts_arg)\n",
    "_ = argutils.draw(ts_arg, ax, draw_edge_widths=True)\n",
    "```\n",
    "![Example ARG view](_static/ARG.png)\n",
    "\n",
    "(this PNG file can be removed once the code to autogenerate it is incorporated)\n",
    ":::\n",
    "\n",
    "## Background semantics\n",
    "\n",
    "Two features distinguish the genealogical structure stored in a `tskit` tree sequence\n",
    "from many other ARG formats. Firstly, the annotations that define which genomic regions\n",
    "are inherited are stored on *edges* (via the {attr}`~Edge.left` and a {attr}`~Edge.right`\n",
    "properties), rather than on the graph nodes, as is sometimes the case. Secondly, the\n",
    "nodes in a tree sequence correspond to *genomes*, rather that specific events such as\n",
    "coalescence or recombination.\n",
    "\n",
    "Technically therefore, ARGs stored by `tskit` are edge-annotated\n",
    "\"genome ARGs\" (gARGs). This results in a flexible format that can describe\n",
    "ancestral graphs created by many biological processes, including ones that deviate from\n",
    "the neutral coalescent-with-recombination (CwR), for example ancestries incorporating\n",
    "gene conversion, or that have evolved under a Wright-Fisher model of inheritance,\n",
    "in which parents can have more than two children, and coalescence and recombination\n",
    "can occur in the same generation. The focus on genomes rather than events also\n",
    "makes it possible to accurately encode ancestry without having to pin down exactly when\n",
    "the relevant ancestral events took place (TODO: cite our ARG paper).\n",
    "\n",
    "(sec_args_arg_nodes)=\n",
    "## ARG nodes\n",
    "\n",
    "{ref}`Simplified<sec_simplification>` tree sequences, such those normally produced by\n",
    "`msprime`, can be though of as a \"simplified ARGs\" that contain only nodes that\n",
    "correspond to a coalescence somewhere in the genome. They are sufficient to capture the\n",
    "structure of local trees and the correlations between them; this is usually all that is\n",
    "needed for analysis. However they do not contain complete information about the timings\n",
    "and topological operations associated with recombination events. This extra information\n",
    "can be useful for a few specific purposes:\n",
    "\n",
    "1. Assuming each recombination happens at a unique position, precise information about\n",
    "   which lineages are involved in recombination allows you to work out the exact\n",
    "   tree editing, or {ref}`subtree-prune-and-regraft (SPR)<sec_concepts_sprs>` moves\n",
    "   required to change one local tree into another as you move along the genome.\n",
    "\n",
    "2. Information about recombination and common ancestor events can be used to calculate\n",
    "   the likelihood of an full ARG under a specific model of evolution (most commonly, the\n",
    "   neutral coalescent with recombination, or CwR, as modelled e.g. by\n",
    "   [Hudson (1983)](https://doi.org/10.1016/0040-5809(83)90013-8))\n",
    "\n",
    "Note, however, that it can be impossible to infer non-coalescent\n",
    "nodes from genetic variation data with any degree of precision.\n",
    "\n",
    "\n",
    "(sec_args_unary_nodes)=\n",
    "### Unary tree nodes\n",
    "\n",
    "To store additional information about non-coalescent nodes, a full ARG stored in tree\n",
    "sequence form contains extra *unary* nodes (i.e. nodes with only one child).\n",
    "In particular, it can contain *recombination nodes* which record the timing of\n",
    "recombination events, and *non-coalescent-common-ancestor* nodes which record cases\n",
    "where lineages share a common ancestor but in which genetic material does not coalesce. \n",
    "\n",
    "The example we have been using is small, and contains just 2 recombination events\n",
    "(associated with 2 breakpoints). In this instance the only extra nodes happen to be\n",
    "recombination nodes. `Msprime` only simulates full ARGs in which a recombination event\n",
    "results in a single crossover, and it records this by storing the two genomes\n",
    "immediately prior to gamete formation (the genomes that come together to form a\n",
    "recombinant). In other words, *two* extra nodes are created for each\n",
    "recombination: one that captures transmission to the left of the crossover and another,\n",
    "at an identical time, to the right. These are identified by the\n",
    "{data}`~msprime:msprime.msprime.NODE_IS_RE_EVENT` flag, and are are highlighed in red\n",
    "below:"
   ]
  },
  {
   "cell_type": "code",
   "execution_count": 3,
   "id": "68bb4b55",
   "metadata": {},
   "outputs": [
    {
     "data": {
      "image/svg+xml": [
       "<svg baseProfile=\"full\" height=\"300\" version=\"1.1\" width=\"600\" xmlns=\"http://www.w3.org/2000/svg\" xmlns:ev=\"http://www.w3.org/2001/xml-events\" xmlns:xlink=\"http://www.w3.org/1999/xlink\"><defs><style type=\"text/css\"><![CDATA[.background path {fill: #808080; fill-opacity: 0}.background path:nth-child(odd) {fill-opacity: .1}.axes {font-size: 14px}.x-axis .tick .lab {font-weight: bold; dominant-baseline: hanging}.axes, .tree {font-size: 14px; text-anchor: middle}.axes line, .edge {stroke: black; fill: none}.axes .ax-skip {stroke-dasharray: 4}.y-axis .grid {stroke: #FAFAFA}.node > .sym {fill: black; stroke: none}.site > .sym {stroke: black}.mut text {fill: red; font-style: italic}.mut.extra text {fill: hotpink}.mut line {fill: none; stroke: none}.mut .sym {fill: none; stroke: red}.mut.extra .sym {stroke: hotpink}.node .mut .sym {stroke-width: 1.5px}.tree text, .tree-sequence text {dominant-baseline: central}.plotbox .lab.lft {text-anchor: end}.plotbox .lab.rgt {text-anchor: start}.y-axis .grid {stroke: #ff000033} .mut .sym {stroke: goldenrod}.n8 > .sym {fill: red}.n13 > .sym {fill: red}.n14 > .sym {fill: red}.n7 > .sym {fill: red}]]></style></defs><g class=\"tree-sequence\"><g class=\"background\"><path d=\"M56.8,0 l174.4,0 l0,238.2 l-38.3149,25 l0,5 l-136.085,0 l0,-5 l0,-25 l0,-238.2z\" /><path d=\"M231.2,0 l174.4,0 l0,238.2 l-7.83369,25 l0,5 l-204.881,0 l0,-5 l38.315,-25 l0,-238.2z\" /><path d=\"M405.6,0 l174.4,0 l0,238.2 l0,25 l0,5 l-182.234,0 l0,-5 l7.834,-25 l0,-238.2z\" /></g><g class=\"axes\"><g class=\"x-axis\"><g class=\"title\" transform=\"translate(318.4 300)\"><text class=\"lab\" text-anchor=\"middle\" transform=\"translate(0 -11)\">Genome position</text></g><line class=\"ax-line\" x1=\"56.8\" x2=\"580\" y1=\"263.2\" y2=\"263.2\" /><g class=\"ticks\"><g class=\"tick\" transform=\"translate(56.8 263.2)\"><line x1=\"0\" x2=\"0\" y1=\"0\" y2=\"5\" /><g transform=\"translate(0 6)\"><text class=\"lab\">0.00</text></g></g><g class=\"tick\" transform=\"translate(192.885 263.2)\"><line x1=\"0\" x2=\"0\" y1=\"0\" y2=\"5\" /><g transform=\"translate(0 6)\"><text class=\"lab\">2601.01</text></g></g><g class=\"tick\" transform=\"translate(397.766 263.2)\"><line x1=\"0\" x2=\"0\" y1=\"0\" y2=\"5\" /><g transform=\"translate(0 6)\"><text class=\"lab\">6516.94</text></g></g><g class=\"tick\" transform=\"translate(580 263.2)\"><line x1=\"0\" x2=\"0\" y1=\"0\" y2=\"5\" /><g transform=\"translate(0 6)\"><text class=\"lab\">10000.00</text></g></g></g><g class=\"site s0\" transform=\"translate(186.711 263.2)\"><line class=\"sym\" x1=\"0\" x2=\"0\" y1=\"0\" y2=\"-10\" /><g class=\"mut m0\"><polyline class=\"sym\" points=\"2.5,-6.5 0,-1.5 -2.5,-6.5\" /></g></g><g class=\"site s1\" transform=\"translate(280.991 263.2)\"><line class=\"sym\" x1=\"0\" x2=\"0\" y1=\"0\" y2=\"-10\" /><g class=\"mut m1\"><polyline class=\"sym\" points=\"2.5,-6.5 0,-1.5 -2.5,-6.5\" /></g></g><g class=\"site s2\" transform=\"translate(400.856 263.2)\"><line class=\"sym\" x1=\"0\" x2=\"0\" y1=\"0\" y2=\"-10\" /><g class=\"mut m2\"><polyline class=\"sym\" points=\"2.5,-6.5 0,-1.5 -2.5,-6.5\" /></g></g></g><g class=\"y-axis\"><g class=\"title\" transform=\"translate(0 115.7)\"><text class=\"lab\" text-anchor=\"middle\" transform=\"translate(11) rotate(-90)\">Time (generations)</text></g><line class=\"ax-line\" x1=\"56.8\" x2=\"56.8\" y1=\"221.4\" y2=\"10\" /><g class=\"ticks\"><g class=\"tick\" transform=\"translate(56.8 213.095)\"><line class=\"grid\" x1=\"0\" x2=\"523.2\" y1=\"0\" y2=\"0\" /><line x1=\"0\" x2=\"-5\" y1=\"0\" y2=\"0\" /><g transform=\"translate(-6 0)\"><text class=\"lab\" text-anchor=\"end\">59</text></g></g><g class=\"tick\" transform=\"translate(56.8 138.631)\"><line class=\"grid\" x1=\"0\" x2=\"523.2\" y1=\"0\" y2=\"0\" /><line x1=\"0\" x2=\"-5\" y1=\"0\" y2=\"0\" /><g transform=\"translate(-6 0)\"><text class=\"lab\" text-anchor=\"end\">588</text></g></g></g></g></g><g class=\"plotbox trees\"><g class=\"tree t0\" transform=\"translate(56.8 0)\"><g class=\"plotbox\"><g class=\"c2 node n16 p0 root\" transform=\"translate(76 26.8)\"><g class=\"a16 c1 node n13 p0\" transform=\"translate(33.6 111.819)\"><g class=\"a13 c2 node n12 p0\" transform=\"translate(0.0 44.4866)\"><g class=\"a12 c1 node n9 p0\" transform=\"translate(-22.4 21.2927)\"><g class=\"a9 c2 node n6 p0\" transform=\"translate(0.0 9.11294)\"><g class=\"a6 i0 leaf node n1 p0 sample\" transform=\"translate(-11.2 7.88913)\"><path class=\"edge\" d=\"M 0 0 V -7.88913 H 11.2\" /><rect class=\"sym\" height=\"6\" width=\"6\" x=\"-3\" y=\"-3\" /><text class=\"lab\" transform=\"translate(0 11)\">1</text></g><g class=\"a6 i1 leaf node n3 p0 sample\" transform=\"translate(11.2 7.88913)\"><path class=\"edge\" d=\"M 0 0 V -7.88913 H -11.2\" /><rect class=\"sym\" height=\"6\" width=\"6\" x=\"-3\" y=\"-3\" /><text class=\"lab\" transform=\"translate(0 11)\">3</text></g><path class=\"edge\" d=\"M 0 0 V -9.11294 H 0.0\" /><circle class=\"sym\" cx=\"0\" cy=\"0\" r=\"3\" /><text class=\"lab lft\" transform=\"translate(-3 -7.0)\" /></g><path class=\"edge\" d=\"M 0 0 V -21.2927 H 22.4\" /><circle class=\"sym\" cx=\"0\" cy=\"0\" r=\"3\" /><text class=\"lab lft\" transform=\"translate(-3 -7.0)\" /></g><g class=\"a12 c2 node n10 p0\" transform=\"translate(22.4 18.1844)\"><g class=\"a10 i2 leaf node n4 p0 sample\" transform=\"translate(-11.2 20.1103)\"><path class=\"edge\" d=\"M 0 0 V -20.1103 H 11.2\" /><rect class=\"sym\" height=\"6\" width=\"6\" x=\"-3\" y=\"-3\" /><text class=\"lab\" transform=\"translate(0 11)\">4</text></g><g class=\"a10 c1 node n7 p0\" transform=\"translate(11.2 11.7419)\"><g class=\"a7 i2 leaf node n5 p0 sample\" transform=\"translate(0.0 8.36844)\"><path class=\"edge\" d=\"M 0 0 V -8.36844 H 0.0\" /><rect class=\"sym\" height=\"6\" width=\"6\" x=\"-3\" y=\"-3\" /><text class=\"lab\" transform=\"translate(0 11)\">5</text></g><path class=\"edge\" d=\"M 0 0 V -11.7419 H -11.2\" /><circle class=\"sym\" cx=\"0\" cy=\"0\" r=\"3\" /><text class=\"lab rgt\" transform=\"translate(3 -7.0)\">7</text></g><path class=\"edge\" d=\"M 0 0 V -18.1844 H -22.4\" /><circle class=\"sym\" cx=\"0\" cy=\"0\" r=\"3\" /><text class=\"lab rgt\" transform=\"translate(3 -7.0)\" /></g><path class=\"edge\" d=\"M 0 0 V -44.4866 H 0.0\" /><circle class=\"sym\" cx=\"0\" cy=\"0\" r=\"3\" /><text class=\"lab lft\" transform=\"translate(-3 -7.0)\" /></g><path class=\"edge\" d=\"M 0 0 V -111.819 H -33.6\" /><circle class=\"sym\" cx=\"0\" cy=\"0\" r=\"3\" /><text class=\"lab rgt\" transform=\"translate(3 -7.0)\">13</text></g><g class=\"a16 c1 node n15 p0\" transform=\"translate(-33.6 108.606)\"><g class=\"a15 c2 m0 node n11 p0 s0\" transform=\"translate(0.0 52.672)\"><g class=\"a11 i0 leaf node n0 p0 sample\" transform=\"translate(-11.2 33.3219)\"><path class=\"edge\" d=\"M 0 0 V -33.3219 H 11.2\" /><rect class=\"sym\" height=\"6\" width=\"6\" x=\"-3\" y=\"-3\" /><text class=\"lab\" transform=\"translate(0 11)\">0</text></g><g class=\"a11 i1 leaf node n2 p0 sample\" transform=\"translate(11.2 33.3219)\"><path class=\"edge\" d=\"M 0 0 V -33.3219 H -11.2\" /><rect class=\"sym\" height=\"6\" width=\"6\" x=\"-3\" y=\"-3\" /><text class=\"lab\" transform=\"translate(0 11)\">2</text></g><path class=\"edge\" d=\"M 0 0 V -52.672 H 0.0\" /><g class=\"mut m0 s0\" transform=\"translate(0 -22.7553)\"><line x1=\"0\" x2=\"0\" y1=\"0\" y2=\"22.7553\" /><path class=\"sym\" d=\"M -3,-3 l 6,6 M -3,3 l 6,-6\" /><text class=\"lab lft\" transform=\"translate(-5 0)\" /></g><circle class=\"sym\" cx=\"0\" cy=\"0\" r=\"3\" /><text class=\"lab lft\" transform=\"translate(-3 -7.0)\" /></g><path class=\"edge\" d=\"M 0 0 V -108.606 H 33.6\" /><circle class=\"sym\" cx=\"0\" cy=\"0\" r=\"3\" /><text class=\"lab lft\" transform=\"translate(-3 -7.0)\" /></g><circle class=\"sym\" cx=\"0\" cy=\"0\" r=\"3\" /><text class=\"lab\" transform=\"translate(0 -11)\" /></g></g></g><g class=\"tree t1\" transform=\"translate(231.2 0)\"><g class=\"plotbox\"><g class=\"c2 node n15 p0 root\" transform=\"translate(76 135.406)\"><g class=\"a15 c2 node n11 p0\" transform=\"translate(-33.6 52.672)\"><g class=\"a11 i0 leaf node n0 p0 sample\" transform=\"translate(-11.2 33.3219)\"><path class=\"edge\" d=\"M 0 0 V -33.3219 H 11.2\" /><rect class=\"sym\" height=\"6\" width=\"6\" x=\"-3\" y=\"-3\" /><text class=\"lab\" transform=\"translate(0 11)\">0</text></g><g class=\"a11 i1 leaf node n2 p0 sample\" transform=\"translate(11.2 33.3219)\"><path class=\"edge\" d=\"M 0 0 V -33.3219 H -11.2\" /><rect class=\"sym\" height=\"6\" width=\"6\" x=\"-3\" y=\"-3\" /><text class=\"lab\" transform=\"translate(0 11)\">2</text></g><path class=\"edge\" d=\"M 0 0 V -52.672 H 33.6\" /><circle class=\"sym\" cx=\"0\" cy=\"0\" r=\"3\" /><text class=\"lab lft\" transform=\"translate(-3 -7.0)\" /></g><g class=\"a15 c1 node n14 p0\" transform=\"translate(33.6 3.21256)\"><g class=\"a14 c2 node n12 p0\" transform=\"translate(0.0 44.4866)\"><g class=\"a12 c1 node n9 p0\" transform=\"translate(-22.4 21.2927)\"><g class=\"a9 c2 node n6 p0\" transform=\"translate(0.0 9.11294)\"><g class=\"a6 i0 leaf node n1 p0 sample\" transform=\"translate(-11.2 7.88913)\"><path class=\"edge\" d=\"M 0 0 V -7.88913 H 11.2\" /><rect class=\"sym\" height=\"6\" width=\"6\" x=\"-3\" y=\"-3\" /><text class=\"lab\" transform=\"translate(0 11)\">1</text></g><g class=\"a6 i1 leaf node n3 p0 sample\" transform=\"translate(11.2 7.88913)\"><path class=\"edge\" d=\"M 0 0 V -7.88913 H -11.2\" /><rect class=\"sym\" height=\"6\" width=\"6\" x=\"-3\" y=\"-3\" /><text class=\"lab\" transform=\"translate(0 11)\">3</text></g><path class=\"edge\" d=\"M 0 0 V -9.11294 H 0.0\" /><circle class=\"sym\" cx=\"0\" cy=\"0\" r=\"3\" /><text class=\"lab lft\" transform=\"translate(-3 -7.0)\" /></g><path class=\"edge\" d=\"M 0 0 V -21.2927 H 22.4\" /><circle class=\"sym\" cx=\"0\" cy=\"0\" r=\"3\" /><text class=\"lab lft\" transform=\"translate(-3 -7.0)\" /></g><g class=\"a12 c2 node n10 p0\" transform=\"translate(22.4 18.1844)\"><g class=\"a10 i2 leaf m1 node n4 p0 s1 sample\" transform=\"translate(-11.2 20.1103)\"><path class=\"edge\" d=\"M 0 0 V -20.1103 H 11.2\" /><g class=\"mut m1 s1\" transform=\"translate(0 -17.5666)\"><line x1=\"0\" x2=\"0\" y1=\"0\" y2=\"17.5666\" /><path class=\"sym\" d=\"M -3,-3 l 6,6 M -3,3 l 6,-6\" /><text class=\"lab lft\" transform=\"translate(-5 0)\" /></g><rect class=\"sym\" height=\"6\" width=\"6\" x=\"-3\" y=\"-3\" /><text class=\"lab\" transform=\"translate(0 11)\">4</text></g><g class=\"a10 c1 node n7 p0\" transform=\"translate(11.2 11.7419)\"><g class=\"a7 i2 leaf node n5 p0 sample\" transform=\"translate(0.0 8.36844)\"><path class=\"edge\" d=\"M 0 0 V -8.36844 H 0.0\" /><rect class=\"sym\" height=\"6\" width=\"6\" x=\"-3\" y=\"-3\" /><text class=\"lab\" transform=\"translate(0 11)\">5</text></g><path class=\"edge\" d=\"M 0 0 V -11.7419 H -11.2\" /><circle class=\"sym\" cx=\"0\" cy=\"0\" r=\"3\" /><text class=\"lab rgt\" transform=\"translate(3 -7.0)\">7</text></g><path class=\"edge\" d=\"M 0 0 V -18.1844 H -22.4\" /><circle class=\"sym\" cx=\"0\" cy=\"0\" r=\"3\" /><text class=\"lab rgt\" transform=\"translate(3 -7.0)\" /></g><path class=\"edge\" d=\"M 0 0 V -44.4866 H 0.0\" /><circle class=\"sym\" cx=\"0\" cy=\"0\" r=\"3\" /><text class=\"lab lft\" transform=\"translate(-3 -7.0)\" /></g><path class=\"edge\" d=\"M 0 0 V -3.21256 H -33.6\" /><circle class=\"sym\" cx=\"0\" cy=\"0\" r=\"3\" /><text class=\"lab rgt\" transform=\"translate(3 -7.0)\">14</text></g><circle class=\"sym\" cx=\"0\" cy=\"0\" r=\"3\" /><text class=\"lab\" transform=\"translate(0 -11)\" /></g></g></g><g class=\"tree t2\" transform=\"translate(405.6 0)\"><g class=\"plotbox\"><g class=\"c2 node n15 p0 root\" transform=\"translate(83 135.406)\"><g class=\"a15 c2 node n11 p0\" transform=\"translate(-40.6 52.672)\"><g class=\"a11 i0 leaf node n0 p0 sample\" transform=\"translate(-11.2 33.3219)\"><path class=\"edge\" d=\"M 0 0 V -33.3219 H 11.2\" /><rect class=\"sym\" height=\"6\" width=\"6\" x=\"-3\" y=\"-3\" /><text class=\"lab\" transform=\"translate(0 11)\">0</text></g><g class=\"a11 i1 leaf m2 node n2 p0 s2 sample\" transform=\"translate(11.2 33.3219)\"><path class=\"edge\" d=\"M 0 0 V -33.3219 H -11.2\" /><g class=\"mut m2 s2\" transform=\"translate(0 -13.6986)\"><line x1=\"0\" x2=\"0\" y1=\"0\" y2=\"13.6986\" /><path class=\"sym\" d=\"M -3,-3 l 6,6 M -3,3 l 6,-6\" /><text class=\"lab rgt\" transform=\"translate(5 0)\" /></g><rect class=\"sym\" height=\"6\" width=\"6\" x=\"-3\" y=\"-3\" /><text class=\"lab\" transform=\"translate(0 11)\">2</text></g><path class=\"edge\" d=\"M 0 0 V -52.672 H 40.6\" /><circle class=\"sym\" cx=\"0\" cy=\"0\" r=\"3\" /><text class=\"lab lft\" transform=\"translate(-3 -7.0)\" /></g><g class=\"a15 c1 node n14 p0\" transform=\"translate(40.6 3.21256)\"><g class=\"a14 c2 node n12 p0\" transform=\"translate(0.0 44.4866)\"><g class=\"a12 c2 node n9 p0\" transform=\"translate(-19.6 21.2927)\"><g class=\"a9 c2 node n6 p0\" transform=\"translate(-16.8 9.11294)\"><g class=\"a6 i0 leaf node n1 p0 sample\" transform=\"translate(-11.2 7.88913)\"><path class=\"edge\" d=\"M 0 0 V -7.88913 H 11.2\" /><rect class=\"sym\" height=\"6\" width=\"6\" x=\"-3\" y=\"-3\" /><text class=\"lab\" transform=\"translate(0 11)\">1</text></g><g class=\"a6 i1 leaf node n3 p0 sample\" transform=\"translate(11.2 7.88913)\"><path class=\"edge\" d=\"M 0 0 V -7.88913 H -11.2\" /><rect class=\"sym\" height=\"6\" width=\"6\" x=\"-3\" y=\"-3\" /><text class=\"lab\" transform=\"translate(0 11)\">3</text></g><path class=\"edge\" d=\"M 0 0 V -9.11294 H 16.8\" /><circle class=\"sym\" cx=\"0\" cy=\"0\" r=\"3\" /><text class=\"lab lft\" transform=\"translate(-3 -7.0)\" /></g><g class=\"a9 c1 node n8 p0\" transform=\"translate(16.8 8.63363)\"><g class=\"a8 i2 leaf node n5 p0 sample\" transform=\"translate(0.0 8.36844)\"><path class=\"edge\" d=\"M 0 0 V -8.36844 H 0.0\" /><rect class=\"sym\" height=\"6\" width=\"6\" x=\"-3\" y=\"-3\" /><text class=\"lab\" transform=\"translate(0 11)\">5</text></g><path class=\"edge\" d=\"M 0 0 V -8.63363 H -16.8\" /><circle class=\"sym\" cx=\"0\" cy=\"0\" r=\"3\" /><text class=\"lab rgt\" transform=\"translate(3 -7.0)\">8</text></g><path class=\"edge\" d=\"M 0 0 V -21.2927 H 19.6\" /><circle class=\"sym\" cx=\"0\" cy=\"0\" r=\"3\" /><text class=\"lab lft\" transform=\"translate(-3 -7.0)\" /></g><g class=\"a12 c1 node n10 p0\" transform=\"translate(19.6 18.1844)\"><g class=\"a10 i2 leaf node n4 p0 sample\" transform=\"translate(0.0 20.1103)\"><path class=\"edge\" d=\"M 0 0 V -20.1103 H 0.0\" /><rect class=\"sym\" height=\"6\" width=\"6\" x=\"-3\" y=\"-3\" /><text class=\"lab\" transform=\"translate(0 11)\">4</text></g><path class=\"edge\" d=\"M 0 0 V -18.1844 H -19.6\" /><circle class=\"sym\" cx=\"0\" cy=\"0\" r=\"3\" /><text class=\"lab rgt\" transform=\"translate(3 -7.0)\" /></g><path class=\"edge\" d=\"M 0 0 V -44.4866 H 0.0\" /><circle class=\"sym\" cx=\"0\" cy=\"0\" r=\"3\" /><text class=\"lab lft\" transform=\"translate(-3 -7.0)\" /></g><path class=\"edge\" d=\"M 0 0 V -3.21256 H -40.6\" /><circle class=\"sym\" cx=\"0\" cy=\"0\" r=\"3\" /><text class=\"lab rgt\" transform=\"translate(3 -7.0)\">14</text></g><circle class=\"sym\" cx=\"0\" cy=\"0\" r=\"3\" /><text class=\"lab\" transform=\"translate(0 -11)\" /></g></g></g></g></g></svg>"
      ],
      "text/plain": [
       "'<svg baseProfile=\"full\" height=\"300\" version=\"1.1\" width=\"600\" xmlns=\"http://www.w3.org/2000/svg\" xmlns:ev=\"http://www.w3.org/2001/xml-events\" xmlns:xlink=\"http://www.w3.org/1999/xlink\"><defs><style type=\"text/css\"><![CDATA[.background path {fill: #808080; fill-opacity: 0}.background path:nth-child(odd) {fill-opacity: .1}.axes {font-size: 14px}.x-axis .tick .lab {font-weight: bold; dominant-baseline: hanging}.axes, .tree {font-size: 14px; text-anchor: middle}.axes line, .edge {stroke: black; fill: none}.axes .ax-skip {stroke-dasharray: 4}.y-axis .grid {stroke: #FAFAFA}.node > .sym {fill: black; stroke: none}.site > .sym {stroke: black}.mut text {fill: red; font-style: italic}.mut.extra text {fill: hotpink}.mut line {fill: none; stroke: none}.mut .sym {fill: none; stroke: red}.mut.extra .sym {stroke: hotpink}.node .mut .sym {stroke-width: 1.5px}.tree text, .tree-sequence text {dominant-baseline: central}.plotbox .lab.lft {text-anchor: end}.plotbox .lab.rgt {text-anchor: start}.y-axis .grid {stroke: #ff000033} .mut .sym {stroke: goldenrod}.n8 > .sym {fill: red}.n13 > .sym {fill: red}.n14 > .sym {fill: red}.n7 > .sym {fill: red}]]></style></defs><g class=\"tree-sequence\"><g class=\"background\"><path d=\"M56.8,0 l174.4,0 l0,238.2 l-38.3149,25 l0,5 l-136.085,0 l0,-5 l0,-25 l0,-238.2z\" /><path d=\"M231.2,0 l174.4,0 l0,238.2 l-7.83369,25 l0,5 l-204.881,0 l0,-5 l38.315,-25 l0,-238.2z\" /><path d=\"M405.6,0 l174.4,0 l0,238.2 l0,25 l0,5 l-182.234,0 l0,-5 l7.834,-25 l0,-238.2z\" /></g><g class=\"axes\"><g class=\"x-axis\"><g class=\"title\" transform=\"translate(318.4 300)\"><text class=\"lab\" text-anchor=\"middle\" transform=\"translate(0 -11)\">Genome position</text></g><line class=\"ax-line\" x1=\"56.8\" x2=\"580\" y1=\"263.2\" y2=\"263.2\" /><g class=\"ticks\"><g class=\"tick\" transform=\"translate(56.8 263.2)\"><line x1=\"0\" x2=\"0\" y1=\"0\" y2=\"5\" /><g transform=\"translate(0 6)\"><text class=\"lab\">0.00</text></g></g><g class=\"tick\" transform=\"translate(192.885 263.2)\"><line x1=\"0\" x2=\"0\" y1=\"0\" y2=\"5\" /><g transform=\"translate(0 6)\"><text class=\"lab\">2601.01</text></g></g><g class=\"tick\" transform=\"translate(397.766 263.2)\"><line x1=\"0\" x2=\"0\" y1=\"0\" y2=\"5\" /><g transform=\"translate(0 6)\"><text class=\"lab\">6516.94</text></g></g><g class=\"tick\" transform=\"translate(580 263.2)\"><line x1=\"0\" x2=\"0\" y1=\"0\" y2=\"5\" /><g transform=\"translate(0 6)\"><text class=\"lab\">10000.00</text></g></g></g><g class=\"site s0\" transform=\"translate(186.711 263.2)\"><line class=\"sym\" x1=\"0\" x2=\"0\" y1=\"0\" y2=\"-10\" /><g class=\"mut m0\"><polyline class=\"sym\" points=\"2.5,-6.5 0,-1.5 -2.5,-6.5\" /></g></g><g class=\"site s1\" transform=\"translate(280.991 263.2)\"><line class=\"sym\" x1=\"0\" x2=\"0\" y1=\"0\" y2=\"-10\" /><g class=\"mut m1\"><polyline class=\"sym\" points=\"2.5,-6.5 0,-1.5 -2.5,-6.5\" /></g></g><g class=\"site s2\" transform=\"translate(400.856 263.2)\"><line class=\"sym\" x1=\"0\" x2=\"0\" y1=\"0\" y2=\"-10\" /><g class=\"mut m2\"><polyline class=\"sym\" points=\"2.5,-6.5 0,-1.5 -2.5,-6.5\" /></g></g></g><g class=\"y-axis\"><g class=\"title\" transform=\"translate(0 115.7)\"><text class=\"lab\" text-anchor=\"middle\" transform=\"translate(11) rotate(-90)\">Time (generations)</text></g><line class=\"ax-line\" x1=\"56.8\" x2=\"56.8\" y1=\"221.4\" y2=\"10\" /><g class=\"ticks\"><g class=\"tick\" transform=\"translate(56.8 213.095)\"><line class=\"grid\" x1=\"0\" x2=\"523.2\" y1=\"0\" y2=\"0\" /><line x1=\"0\" x2=\"-5\" y1=\"0\" y2=\"0\" /><g transform=\"translate(-6 0)\"><text class=\"lab\" text-anchor=\"end\">59</text></g></g><g class=\"tick\" transform=\"translate(56.8 138.631)\"><line class=\"grid\" x1=\"0\" x2=\"523.2\" y1=\"0\" y2=\"0\" /><line x1=\"0\" x2=\"-5\" y1=\"0\" y2=\"0\" /><g transform=\"translate(-6 0)\"><text class=\"lab\" text-anchor=\"end\">588</text></g></g></g></g></g><g class=\"plotbox trees\"><g class=\"tree t0\" transform=\"translate(56.8 0)\"><g class=\"plotbox\"><g class=\"c2 node n16 p0 root\" transform=\"translate(76 26.8)\"><g class=\"a16 c1 node n13 p0\" transform=\"translate(33.6 111.819)\"><g class=\"a13 c2 node n12 p0\" transform=\"translate(0.0 44.4866)\"><g class=\"a12 c1 node n9 p0\" transform=\"translate(-22.4 21.2927)\"><g class=\"a9 c2 node n6 p0\" transform=\"translate(0.0 9.11294)\"><g class=\"a6 i0 leaf node n1 p0 sample\" transform=\"translate(-11.2 7.88913)\"><path class=\"edge\" d=\"M 0 0 V -7.88913 H 11.2\" /><rect class=\"sym\" height=\"6\" width=\"6\" x=\"-3\" y=\"-3\" /><text class=\"lab\" transform=\"translate(0 11)\">1</text></g><g class=\"a6 i1 leaf node n3 p0 sample\" transform=\"translate(11.2 7.88913)\"><path class=\"edge\" d=\"M 0 0 V -7.88913 H -11.2\" /><rect class=\"sym\" height=\"6\" width=\"6\" x=\"-3\" y=\"-3\" /><text class=\"lab\" transform=\"translate(0 11)\">3</text></g><path class=\"edge\" d=\"M 0 0 V -9.11294 H 0.0\" /><circle class=\"sym\" cx=\"0\" cy=\"0\" r=\"3\" /><text class=\"lab lft\" transform=\"translate(-3 -7.0)\" /></g><path class=\"edge\" d=\"M 0 0 V -21.2927 H 22.4\" /><circle class=\"sym\" cx=\"0\" cy=\"0\" r=\"3\" /><text class=\"lab lft\" transform=\"translate(-3 -7.0)\" /></g><g class=\"a12 c2 node n10 p0\" transform=\"translate(22.4 18.1844)\"><g class=\"a10 i2 leaf node n4 p0 sample\" transform=\"translate(-11.2 20.1103)\"><path class=\"edge\" d=\"M 0 0 V -20.1103 H 11.2\" /><rect class=\"sym\" height=\"6\" width=\"6\" x=\"-3\" y=\"-3\" /><text class=\"lab\" transform=\"translate(0 11)\">4</text></g><g class=\"a10 c1 node n7 p0\" transform=\"translate(11.2 11.7419)\"><g class=\"a7 i2 leaf node n5 p0 sample\" transform=\"translate(0.0 8.36844)\"><path class=\"edge\" d=\"M 0 0 V -8.36844 H 0.0\" /><rect class=\"sym\" height=\"6\" width=\"6\" x=\"-3\" y=\"-3\" /><text class=\"lab\" transform=\"translate(0 11)\">5</text></g><path class=\"edge\" d=\"M 0 0 V -11.7419 H -11.2\" /><circle class=\"sym\" cx=\"0\" cy=\"0\" r=\"3\" /><text class=\"lab rgt\" transform=\"translate(3 -7.0)\">7</text></g><path class=\"edge\" d=\"M 0 0 V -18.1844 H -22.4\" /><circle class=\"sym\" cx=\"0\" cy=\"0\" r=\"3\" /><text class=\"lab rgt\" transform=\"translate(3 -7.0)\" /></g><path class=\"edge\" d=\"M 0 0 V -44.4866 H 0.0\" /><circle class=\"sym\" cx=\"0\" cy=\"0\" r=\"3\" /><text class=\"lab lft\" transform=\"translate(-3 -7.0)\" /></g><path class=\"edge\" d=\"M 0 0 V -111.819 H -33.6\" /><circle class=\"sym\" cx=\"0\" cy=\"0\" r=\"3\" /><text class=\"lab rgt\" transform=\"translate(3 -7.0)\">13</text></g><g class=\"a16 c1 node n15 p0\" transform=\"translate(-33.6 108.606)\"><g class=\"a15 c2 m0 node n11 p0 s0\" transform=\"translate(0.0 52.672)\"><g class=\"a11 i0 leaf node n0 p0 sample\" transform=\"translate(-11.2 33.3219)\"><path class=\"edge\" d=\"M 0 0 V -33.3219 H 11.2\" /><rect class=\"sym\" height=\"6\" width=\"6\" x=\"-3\" y=\"-3\" /><text class=\"lab\" transform=\"translate(0 11)\">0</text></g><g class=\"a11 i1 leaf node n2 p0 sample\" transform=\"translate(11.2 33.3219)\"><path class=\"edge\" d=\"M 0 0 V -33.3219 H -11.2\" /><rect class=\"sym\" height=\"6\" width=\"6\" x=\"-3\" y=\"-3\" /><text class=\"lab\" transform=\"translate(0 11)\">2</text></g><path class=\"edge\" d=\"M 0 0 V -52.672 H 0.0\" /><g class=\"mut m0 s0\" transform=\"translate(0 -22.7553)\"><line x1=\"0\" x2=\"0\" y1=\"0\" y2=\"22.7553\" /><path class=\"sym\" d=\"M -3,-3 l 6,6 M -3,3 l 6,-6\" /><text class=\"lab lft\" transform=\"translate(-5 0)\" /></g><circle class=\"sym\" cx=\"0\" cy=\"0\" r=\"3\" /><text class=\"lab lft\" transform=\"translate(-3 -7.0)\" /></g><path class=\"edge\" d=\"M 0 0 V -108.606 H 33.6\" /><circle class=\"sym\" cx=\"0\" cy=\"0\" r=\"3\" /><text class=\"lab lft\" transform=\"translate(-3 -7.0)\" /></g><circle class=\"sym\" cx=\"0\" cy=\"0\" r=\"3\" /><text class=\"lab\" transform=\"translate(0 -11)\" /></g></g></g><g class=\"tree t1\" transform=\"translate(231.2 0)\"><g class=\"plotbox\"><g class=\"c2 node n15 p0 root\" transform=\"translate(76 135.406)\"><g class=\"a15 c2 node n11 p0\" transform=\"translate(-33.6 52.672)\"><g class=\"a11 i0 leaf node n0 p0 sample\" transform=\"translate(-11.2 33.3219)\"><path class=\"edge\" d=\"M 0 0 V -33.3219 H 11.2\" /><rect class=\"sym\" height=\"6\" width=\"6\" x=\"-3\" y=\"-3\" /><text class=\"lab\" transform=\"translate(0 11)\">0</text></g><g class=\"a11 i1 leaf node n2 p0 sample\" transform=\"translate(11.2 33.3219)\"><path class=\"edge\" d=\"M 0 0 V -33.3219 H -11.2\" /><rect class=\"sym\" height=\"6\" width=\"6\" x=\"-3\" y=\"-3\" /><text class=\"lab\" transform=\"translate(0 11)\">2</text></g><path class=\"edge\" d=\"M 0 0 V -52.672 H 33.6\" /><circle class=\"sym\" cx=\"0\" cy=\"0\" r=\"3\" /><text class=\"lab lft\" transform=\"translate(-3 -7.0)\" /></g><g class=\"a15 c1 node n14 p0\" transform=\"translate(33.6 3.21256)\"><g class=\"a14 c2 node n12 p0\" transform=\"translate(0.0 44.4866)\"><g class=\"a12 c1 node n9 p0\" transform=\"translate(-22.4 21.2927)\"><g class=\"a9 c2 node n6 p0\" transform=\"translate(0.0 9.11294)\"><g class=\"a6 i0 leaf node n1 p0 sample\" transform=\"translate(-11.2 7.88913)\"><path class=\"edge\" d=\"M 0 0 V -7.88913 H 11.2\" /><rect class=\"sym\" height=\"6\" width=\"6\" x=\"-3\" y=\"-3\" /><text class=\"lab\" transform=\"translate(0 11)\">1</text></g><g class=\"a6 i1 leaf node n3 p0 sample\" transform=\"translate(11.2 7.88913)\"><path class=\"edge\" d=\"M 0 0 V -7.88913 H -11.2\" /><rect class=\"sym\" height=\"6\" width=\"6\" x=\"-3\" y=\"-3\" /><text class=\"lab\" transform=\"translate(0 11)\">3</text></g><path class=\"edge\" d=\"M 0 0 V -9.11294 H 0.0\" /><circle class=\"sym\" cx=\"0\" cy=\"0\" r=\"3\" /><text class=\"lab lft\" transform=\"translate(-3 -7.0)\" /></g><path class=\"edge\" d=\"M 0 0 V -21.2927 H 22.4\" /><circle class=\"sym\" cx=\"0\" cy=\"0\" r=\"3\" /><text class=\"lab lft\" transform=\"translate(-3 -7.0)\" /></g><g class=\"a12 c2 node n10 p0\" transform=\"translate(22.4 18.1844)\"><g class=\"a10 i2 leaf m1 node n4 p0 s1 sample\" transform=\"translate(-11.2 20.1103)\"><path class=\"edge\" d=\"M 0 0 V -20.1103 H 11.2\" /><g class=\"mut m1 s1\" transform=\"translate(0 -17.5666)\"><line x1=\"0\" x2=\"0\" y1=\"0\" y2=\"17.5666\" /><path class=\"sym\" d=\"M -3,-3 l 6,6 M -3,3 l 6,-6\" /><text class=\"lab lft\" transform=\"translate(-5 0)\" /></g><rect class=\"sym\" height=\"6\" width=\"6\" x=\"-3\" y=\"-3\" /><text class=\"lab\" transform=\"translate(0 11)\">4</text></g><g class=\"a10 c1 node n7 p0\" transform=\"translate(11.2 11.7419)\"><g class=\"a7 i2 leaf node n5 p0 sample\" transform=\"translate(0.0 8.36844)\"><path class=\"edge\" d=\"M 0 0 V -8.36844 H 0.0\" /><rect class=\"sym\" height=\"6\" width=\"6\" x=\"-3\" y=\"-3\" /><text class=\"lab\" transform=\"translate(0 11)\">5</text></g><path class=\"edge\" d=\"M 0 0 V -11.7419 H -11.2\" /><circle class=\"sym\" cx=\"0\" cy=\"0\" r=\"3\" /><text class=\"lab rgt\" transform=\"translate(3 -7.0)\">7</text></g><path class=\"edge\" d=\"M 0 0 V -18.1844 H -22.4\" /><circle class=\"sym\" cx=\"0\" cy=\"0\" r=\"3\" /><text class=\"lab rgt\" transform=\"translate(3 -7.0)\" /></g><path class=\"edge\" d=\"M 0 0 V -44.4866 H 0.0\" /><circle class=\"sym\" cx=\"0\" cy=\"0\" r=\"3\" /><text class=\"lab lft\" transform=\"translate(-3 -7.0)\" /></g><path class=\"edge\" d=\"M 0 0 V -3.21256 H -33.6\" /><circle class=\"sym\" cx=\"0\" cy=\"0\" r=\"3\" /><text class=\"lab rgt\" transform=\"translate(3 -7.0)\">14</text></g><circle class=\"sym\" cx=\"0\" cy=\"0\" r=\"3\" /><text class=\"lab\" transform=\"translate(0 -11)\" /></g></g></g><g class=\"tree t2\" transform=\"translate(405.6 0)\"><g class=\"plotbox\"><g class=\"c2 node n15 p0 root\" transform=\"translate(83 135.406)\"><g class=\"a15 c2 node n11 p0\" transform=\"translate(-40.6 52.672)\"><g class=\"a11 i0 leaf node n0 p0 sample\" transform=\"translate(-11.2 33.3219)\"><path class=\"edge\" d=\"M 0 0 V -33.3219 H 11.2\" /><rect class=\"sym\" height=\"6\" width=\"6\" x=\"-3\" y=\"-3\" /><text class=\"lab\" transform=\"translate(0 11)\">0</text></g><g class=\"a11 i1 leaf m2 node n2 p0 s2 sample\" transform=\"translate(11.2 33.3219)\"><path class=\"edge\" d=\"M 0 0 V -33.3219 H -11.2\" /><g class=\"mut m2 s2\" transform=\"translate(0 -13.6986)\"><line x1=\"0\" x2=\"0\" y1=\"0\" y2=\"13.6986\" /><path class=\"sym\" d=\"M -3,-3 l 6,6 M -3,3 l 6,-6\" /><text class=\"lab rgt\" transform=\"translate(5 0)\" /></g><rect class=\"sym\" height=\"6\" width=\"6\" x=\"-3\" y=\"-3\" /><text class=\"lab\" transform=\"translate(0 11)\">2</text></g><path class=\"edge\" d=\"M 0 0 V -52.672 H 40.6\" /><circle class=\"sym\" cx=\"0\" cy=\"0\" r=\"3\" /><text class=\"lab lft\" transform=\"translate(-3 -7.0)\" /></g><g class=\"a15 c1 node n14 p0\" transform=\"translate(40.6 3.21256)\"><g class=\"a14 c2 node n12 p0\" transform=\"translate(0.0 44.4866)\"><g class=\"a12 c2 node n9 p0\" transform=\"translate(-19.6 21.2927)\"><g class=\"a9 c2 node n6 p0\" transform=\"translate(-16.8 9.11294)\"><g class=\"a6 i0 leaf node n1 p0 sample\" transform=\"translate(-11.2 7.88913)\"><path class=\"edge\" d=\"M 0 0 V -7.88913 H 11.2\" /><rect class=\"sym\" height=\"6\" width=\"6\" x=\"-3\" y=\"-3\" /><text class=\"lab\" transform=\"translate(0 11)\">1</text></g><g class=\"a6 i1 leaf node n3 p0 sample\" transform=\"translate(11.2 7.88913)\"><path class=\"edge\" d=\"M 0 0 V -7.88913 H -11.2\" /><rect class=\"sym\" height=\"6\" width=\"6\" x=\"-3\" y=\"-3\" /><text class=\"lab\" transform=\"translate(0 11)\">3</text></g><path class=\"edge\" d=\"M 0 0 V -9.11294 H 16.8\" /><circle class=\"sym\" cx=\"0\" cy=\"0\" r=\"3\" /><text class=\"lab lft\" transform=\"translate(-3 -7.0)\" /></g><g class=\"a9 c1 node n8 p0\" transform=\"translate(16.8 8.63363)\"><g class=\"a8 i2 leaf node n5 p0 sample\" transform=\"translate(0.0 8.36844)\"><path class=\"edge\" d=\"M 0 0 V -8.36844 H 0.0\" /><rect class=\"sym\" height=\"6\" width=\"6\" x=\"-3\" y=\"-3\" /><text class=\"lab\" transform=\"translate(0 11)\">5</text></g><path class=\"edge\" d=\"M 0 0 V -8.63363 H -16.8\" /><circle class=\"sym\" cx=\"0\" cy=\"0\" r=\"3\" /><text class=\"lab rgt\" transform=\"translate(3 -7.0)\">8</text></g><path class=\"edge\" d=\"M 0 0 V -21.2927 H 19.6\" /><circle class=\"sym\" cx=\"0\" cy=\"0\" r=\"3\" /><text class=\"lab lft\" transform=\"translate(-3 -7.0)\" /></g><g class=\"a12 c1 node n10 p0\" transform=\"translate(19.6 18.1844)\"><g class=\"a10 i2 leaf node n4 p0 sample\" transform=\"translate(0.0 20.1103)\"><path class=\"edge\" d=\"M 0 0 V -20.1103 H 0.0\" /><rect class=\"sym\" height=\"6\" width=\"6\" x=\"-3\" y=\"-3\" /><text class=\"lab\" transform=\"translate(0 11)\">4</text></g><path class=\"edge\" d=\"M 0 0 V -18.1844 H -19.6\" /><circle class=\"sym\" cx=\"0\" cy=\"0\" r=\"3\" /><text class=\"lab rgt\" transform=\"translate(3 -7.0)\" /></g><path class=\"edge\" d=\"M 0 0 V -44.4866 H 0.0\" /><circle class=\"sym\" cx=\"0\" cy=\"0\" r=\"3\" /><text class=\"lab lft\" transform=\"translate(-3 -7.0)\" /></g><path class=\"edge\" d=\"M 0 0 V -3.21256 H -40.6\" /><circle class=\"sym\" cx=\"0\" cy=\"0\" r=\"3\" /><text class=\"lab rgt\" transform=\"translate(3 -7.0)\">14</text></g><circle class=\"sym\" cx=\"0\" cy=\"0\" r=\"3\" /><text class=\"lab\" transform=\"translate(0 -11)\" /></g></g></g></g></g></svg>'"
      ]
     },
     "execution_count": 3,
     "metadata": {
      "filenames": {
       "image/svg+xml": "/home/runner/work/tutorials/tutorials/_build/jupyter_execute/args_5_0.svg"
      }
     },
     "output_type": "execute_result"
    }
   ],
   "source": [
    "# Plot the recombination nodes in red, with a horizontal line at the time of occurrence,\n",
    "# and only label nodes that are samples or recombination nodes.\n",
    "samples = set(ts_arg.samples())\n",
    "re_nodes = set(nd.id for nd in ts_arg.nodes() if nd.flags & msprime.NODE_IS_RE_EVENT)\n",
    "re_times = [int(nd.time) for nd in ts_arg.nodes() if nd.flags & msprime.NODE_IS_RE_EVENT]\n",
    "style = \".y-axis .grid {stroke: #ff000033} .mut .sym {stroke: goldenrod}\"\n",
    "for u in re_nodes:\n",
    "    style += f\".n{u} > .sym {{fill: red}}\"\n",
    "ts_arg.draw_svg(\n",
    "    size=(600, 300),\n",
    "    y_axis=True,\n",
    "    y_ticks=re_times,\n",
    "    y_gridlines=True,\n",
    "    style=style,\n",
    "    mutation_labels={},\n",
    "    node_labels={u: u for u in samples | re_nodes}\n",
    ")"
   ]
  },
  {
   "cell_type": "markdown",
   "id": "8f506f9f",
   "metadata": {},
   "source": [
    "The location of the recombination nodes imply that the *recombination events*\n",
    "happened ~588 and ~59 generations ago. The older one, at 588 generations, involved node\n",
    "13 (to the left of position 2601.01) and node 14 (to the right). As well as narrowing\n",
    "down the recombination event to a specific point in time, the position of these two\n",
    "nodes tells us that the SPR to convert the first into the second tree\n",
    "involves pruning the branch above samples 1, 3, 4, and 5 and regrafting it onto the\n",
    "branch above samples 0 and 2, rather than the other way around. Note that this\n",
    "particular recombination does not change the *topology* of the tree, but simply the\n",
    "branch lengths.\n",
    "\n",
    "The recombination event 59 generations ago involved nodes 7 and 8, with the crossover\n",
    "ocurring at position 6516.94. The SPR operation which converts the middle tree into the\n",
    "last one involves pruning the branch above sample node 5 and regrafting it onto the\n",
    "branch above the common ancestor of 1 and 3. In this case, the recombination has led to\n",
    "a change in topology, such that the closest relative of 5 is node 4 from positions 0\n",
    "to 6516.94, but 1 and 3 from positions 6516.94 to 10,000.\n",
    "\n",
    "::::{note}\n",
    "\n",
    "Many ARG representations associate each recombination event with a single node rather\n",
    "than two. It is possible to represent this in `tskit`, but in such an ARG, the\n",
    "edge annotations do not contain enough information to calculate the standard\n",
    "likelihood under the Hudson model (see {ref}`sec_args_likelihoods`).\n",
    "\n",
    ":::{todo}\n",
    "\n",
    "Explain in plain language why 2 RE nodes are needed to calculate the likelihood under the\n",
    "Hudson CwR: see e.g. https://github.com/tskit-dev/msprime/issues/1942#issuecomment-1013718650\n",
    "\n",
    "One suggested way to do this is to show how there is not enough information in a 1-RE-node\n",
    "plot to fully recreate the 2-RE-node equivalent. I think this is because we lose\n",
    "information about the order of breakpoints when multiple breakpoints occur in\n",
    "the same region of hidden material.\n",
    "\n",
    "Note also that this approach only applies to a model in which a single crossover occurs\n",
    "per chromosome.\n",
    "\n",
    ":::\n",
    "\n",
    "::::\n",
    "\n",
    "(sec_args_likelihoods)=\n",
    "\n",
    "## Calculating likelihoods\n",
    "\n",
    "Because the ARG above was generated under the standard Hudson model (e.g. neutral\n",
    "evolution in a large population with unique recombination breakpoints along a continuous\n",
    "genome), we can calculate its likelihood under that model, for a given recombination\n",
    "rate and population size, using the {func}`msprime:msprime.log_arg_likelihood` method.\n",
    "Note however, that the simulation was run with the default ploidy level of 2, so that the\n",
    "{func}`msprime:msprime.sim_ancestry` method assumed the `population_size` parameter was\n",
    "the *diploid* population size. The `log_arg_likelihood` method requires `Ne`, the haploid\n",
    "population size, which is twice as large, so the likelihood is calculated as follows:"
   ]
  },
  {
   "cell_type": "code",
   "execution_count": 4,
   "id": "61b8b99a",
   "metadata": {},
   "outputs": [
    {
     "name": "stdout",
     "output_type": "stream",
     "text": [
      "Log likelihood of the genealogy under the Hudson model: -93.57791165409245\n"
     ]
    }
   ],
   "source": [
    "print(\n",
    "    \"Log likelihood of the genealogy under the Hudson model:\",\n",
    "    msprime.log_arg_likelihood(\n",
    "        ts_arg,\n",
    "        recombination_rate=parameters[\"recombination_rate\"],\n",
    "        Ne=parameters[\"population_size\"] * 2  # Number of *haploid* genomes\n",
    "    )\n",
    ")"
   ]
  },
  {
   "cell_type": "markdown",
   "id": "81ea9c7f",
   "metadata": {},
   "source": [
    "It is worth noting that we fully simplify the tree above, we remove all the unary nodes\n",
    "and therefore lose information about the timings of recombination and non-coalescent\n",
    "common ancestry, but we still keep the local trees intact:"
   ]
  },
  {
   "cell_type": "code",
   "execution_count": 5,
   "id": "43ef4b34",
   "metadata": {},
   "outputs": [
    {
     "data": {
      "image/svg+xml": [
       "<svg baseProfile=\"full\" height=\"300\" version=\"1.1\" width=\"600\" xmlns=\"http://www.w3.org/2000/svg\" xmlns:ev=\"http://www.w3.org/2001/xml-events\" xmlns:xlink=\"http://www.w3.org/1999/xlink\"><defs><style type=\"text/css\"><![CDATA[.background path {fill: #808080; fill-opacity: 0}.background path:nth-child(odd) {fill-opacity: .1}.axes {font-size: 14px}.x-axis .tick .lab {font-weight: bold; dominant-baseline: hanging}.axes, .tree {font-size: 14px; text-anchor: middle}.axes line, .edge {stroke: black; fill: none}.axes .ax-skip {stroke-dasharray: 4}.y-axis .grid {stroke: #FAFAFA}.node > .sym {fill: black; stroke: none}.site > .sym {stroke: black}.mut text {fill: red; font-style: italic}.mut.extra text {fill: hotpink}.mut line {fill: none; stroke: none}.mut .sym {fill: none; stroke: red}.mut.extra .sym {stroke: hotpink}.node .mut .sym {stroke-width: 1.5px}.tree text, .tree-sequence text {dominant-baseline: central}.plotbox .lab.lft {text-anchor: end}.plotbox .lab.rgt {text-anchor: start}.mut .sym {stroke: goldenrod}]]></style></defs><g class=\"tree-sequence\"><g class=\"background\"><path d=\"M56.8,0 l174.4,0 l0,238.2 l-38.3149,25 l0,5 l-136.085,0 l0,-5 l0,-25 l0,-238.2z\" /><path d=\"M231.2,0 l174.4,0 l0,238.2 l-7.83369,25 l0,5 l-204.881,0 l0,-5 l38.315,-25 l0,-238.2z\" /><path d=\"M405.6,0 l174.4,0 l0,238.2 l0,25 l0,5 l-182.234,0 l0,-5 l7.834,-25 l0,-238.2z\" /></g><g class=\"axes\"><g class=\"x-axis\"><g class=\"title\" transform=\"translate(318.4 300)\"><text class=\"lab\" text-anchor=\"middle\" transform=\"translate(0 -11)\">Genome position</text></g><line class=\"ax-line\" x1=\"56.8\" x2=\"580\" y1=\"263.2\" y2=\"263.2\" /><g class=\"ticks\"><g class=\"tick\" transform=\"translate(56.8 263.2)\"><line x1=\"0\" x2=\"0\" y1=\"0\" y2=\"5\" /><g transform=\"translate(0 6)\"><text class=\"lab\">0.00</text></g></g><g class=\"tick\" transform=\"translate(192.885 263.2)\"><line x1=\"0\" x2=\"0\" y1=\"0\" y2=\"5\" /><g transform=\"translate(0 6)\"><text class=\"lab\">2601.01</text></g></g><g class=\"tick\" transform=\"translate(397.766 263.2)\"><line x1=\"0\" x2=\"0\" y1=\"0\" y2=\"5\" /><g transform=\"translate(0 6)\"><text class=\"lab\">6516.94</text></g></g><g class=\"tick\" transform=\"translate(580 263.2)\"><line x1=\"0\" x2=\"0\" y1=\"0\" y2=\"5\" /><g transform=\"translate(0 6)\"><text class=\"lab\">10000.00</text></g></g></g><g class=\"site s0\" transform=\"translate(186.711 263.2)\"><line class=\"sym\" x1=\"0\" x2=\"0\" y1=\"0\" y2=\"-10\" /><g class=\"mut m0\"><polyline class=\"sym\" points=\"2.5,-6.5 0,-1.5 -2.5,-6.5\" /></g></g><g class=\"site s1\" transform=\"translate(280.991 263.2)\"><line class=\"sym\" x1=\"0\" x2=\"0\" y1=\"0\" y2=\"-10\" /><g class=\"mut m1\"><polyline class=\"sym\" points=\"2.5,-6.5 0,-1.5 -2.5,-6.5\" /></g></g><g class=\"site s2\" transform=\"translate(400.856 263.2)\"><line class=\"sym\" x1=\"0\" x2=\"0\" y1=\"0\" y2=\"-10\" /><g class=\"mut m2\"><polyline class=\"sym\" points=\"2.5,-6.5 0,-1.5 -2.5,-6.5\" /></g></g></g><g class=\"y-axis\"><g class=\"title\" transform=\"translate(0 115.7)\"><text class=\"lab\" text-anchor=\"middle\" transform=\"translate(11) rotate(-90)\">Time (generations)</text></g><line class=\"ax-line\" x1=\"56.8\" x2=\"56.8\" y1=\"221.4\" y2=\"10\" /><g class=\"ticks\"><g class=\"tick\" transform=\"translate(56.8 221.4)\"><line x1=\"0\" x2=\"-5\" y1=\"0\" y2=\"0\" /><g transform=\"translate(-6 0)\"><text class=\"lab\" text-anchor=\"end\">0</text></g></g><g class=\"tick\" transform=\"translate(56.8 151.019)\"><line x1=\"0\" x2=\"-5\" y1=\"0\" y2=\"0\" /><g transform=\"translate(-6 0)\"><text class=\"lab\" text-anchor=\"end\">500</text></g></g><g class=\"tick\" transform=\"translate(56.8 80.637)\"><line x1=\"0\" x2=\"-5\" y1=\"0\" y2=\"0\" /><g transform=\"translate(-6 0)\"><text class=\"lab\" text-anchor=\"end\">1000</text></g></g><g class=\"tick\" transform=\"translate(56.8 10.2555)\"><line x1=\"0\" x2=\"-5\" y1=\"0\" y2=\"0\" /><g transform=\"translate(-6 0)\"><text class=\"lab\" text-anchor=\"end\">1500</text></g></g></g></g></g><g class=\"plotbox trees\"><g class=\"tree t0\" transform=\"translate(56.8 0)\"><g class=\"plotbox\"><g class=\"c2 node n12 p0 root\" transform=\"translate(76 26.8)\"><g class=\"a12 c2 m0 node n9 p0 s0\" transform=\"translate(-33.6 161.278)\"><g class=\"a9 i0 leaf node n0 p0 sample\" transform=\"translate(-11.2 33.3219)\"><path class=\"edge\" d=\"M 0 0 V -33.3219 H 11.2\" /><rect class=\"sym\" height=\"6\" width=\"6\" x=\"-3\" y=\"-3\" /><text class=\"lab\" transform=\"translate(0 11)\">0</text></g><g class=\"a9 i1 leaf node n2 p0 sample\" transform=\"translate(11.2 33.3219)\"><path class=\"edge\" d=\"M 0 0 V -33.3219 H -11.2\" /><rect class=\"sym\" height=\"6\" width=\"6\" x=\"-3\" y=\"-3\" /><text class=\"lab\" transform=\"translate(0 11)\">2</text></g><path class=\"edge\" d=\"M 0 0 V -161.278 H 33.6\" /><g class=\"mut m0 s0\" transform=\"translate(0 -22.7553)\"><line x1=\"0\" x2=\"0\" y1=\"0\" y2=\"22.7553\" /><path class=\"sym\" d=\"M -3,-3 l 6,6 M -3,3 l 6,-6\" /><text class=\"lab lft\" transform=\"translate(-5 0)\" /></g><circle class=\"sym\" cx=\"0\" cy=\"0\" r=\"3\" /><text class=\"lab lft\" transform=\"translate(-3 -7.0)\" /></g><g class=\"a12 c2 node n10 p0\" transform=\"translate(33.6 156.305)\"><g class=\"a10 c2 node n6 p0\" transform=\"translate(-22.4 30.4056)\"><g class=\"a6 i0 leaf node n1 p0 sample\" transform=\"translate(-11.2 7.88913)\"><path class=\"edge\" d=\"M 0 0 V -7.88913 H 11.2\" /><rect class=\"sym\" height=\"6\" width=\"6\" x=\"-3\" y=\"-3\" /><text class=\"lab\" transform=\"translate(0 11)\">1</text></g><g class=\"a6 i1 leaf node n3 p0 sample\" transform=\"translate(11.2 7.88913)\"><path class=\"edge\" d=\"M 0 0 V -7.88913 H -11.2\" /><rect class=\"sym\" height=\"6\" width=\"6\" x=\"-3\" y=\"-3\" /><text class=\"lab\" transform=\"translate(0 11)\">3</text></g><path class=\"edge\" d=\"M 0 0 V -30.4056 H 22.4\" /><circle class=\"sym\" cx=\"0\" cy=\"0\" r=\"3\" /><text class=\"lab lft\" transform=\"translate(-3 -7.0)\" /></g><g class=\"a10 c2 node n8 p0\" transform=\"translate(22.4 18.1844)\"><g class=\"a8 i2 leaf node n4 p0 sample\" transform=\"translate(-11.2 20.1103)\"><path class=\"edge\" d=\"M 0 0 V -20.1103 H 11.2\" /><rect class=\"sym\" height=\"6\" width=\"6\" x=\"-3\" y=\"-3\" /><text class=\"lab\" transform=\"translate(0 11)\">4</text></g><g class=\"a8 i2 leaf node n5 p0 sample\" transform=\"translate(11.2 20.1103)\"><path class=\"edge\" d=\"M 0 0 V -20.1103 H -11.2\" /><rect class=\"sym\" height=\"6\" width=\"6\" x=\"-3\" y=\"-3\" /><text class=\"lab\" transform=\"translate(0 11)\">5</text></g><path class=\"edge\" d=\"M 0 0 V -18.1844 H -22.4\" /><circle class=\"sym\" cx=\"0\" cy=\"0\" r=\"3\" /><text class=\"lab rgt\" transform=\"translate(3 -7.0)\" /></g><path class=\"edge\" d=\"M 0 0 V -156.305 H -33.6\" /><circle class=\"sym\" cx=\"0\" cy=\"0\" r=\"3\" /><text class=\"lab rgt\" transform=\"translate(3 -7.0)\" /></g><circle class=\"sym\" cx=\"0\" cy=\"0\" r=\"3\" /><text class=\"lab\" transform=\"translate(0 -11)\" /></g></g></g><g class=\"tree t1\" transform=\"translate(231.2 0)\"><g class=\"plotbox\"><g class=\"c2 node n11 p0 root\" transform=\"translate(76 135.406)\"><g class=\"a11 c2 node n9 p0\" transform=\"translate(-33.6 52.672)\"><g class=\"a9 i0 leaf node n0 p0 sample\" transform=\"translate(-11.2 33.3219)\"><path class=\"edge\" d=\"M 0 0 V -33.3219 H 11.2\" /><rect class=\"sym\" height=\"6\" width=\"6\" x=\"-3\" y=\"-3\" /><text class=\"lab\" transform=\"translate(0 11)\">0</text></g><g class=\"a9 i1 leaf node n2 p0 sample\" transform=\"translate(11.2 33.3219)\"><path class=\"edge\" d=\"M 0 0 V -33.3219 H -11.2\" /><rect class=\"sym\" height=\"6\" width=\"6\" x=\"-3\" y=\"-3\" /><text class=\"lab\" transform=\"translate(0 11)\">2</text></g><path class=\"edge\" d=\"M 0 0 V -52.672 H 33.6\" /><circle class=\"sym\" cx=\"0\" cy=\"0\" r=\"3\" /><text class=\"lab lft\" transform=\"translate(-3 -7.0)\" /></g><g class=\"a11 c2 node n10 p0\" transform=\"translate(33.6 47.6992)\"><g class=\"a10 c2 node n6 p0\" transform=\"translate(-22.4 30.4056)\"><g class=\"a6 i0 leaf node n1 p0 sample\" transform=\"translate(-11.2 7.88913)\"><path class=\"edge\" d=\"M 0 0 V -7.88913 H 11.2\" /><rect class=\"sym\" height=\"6\" width=\"6\" x=\"-3\" y=\"-3\" /><text class=\"lab\" transform=\"translate(0 11)\">1</text></g><g class=\"a6 i1 leaf node n3 p0 sample\" transform=\"translate(11.2 7.88913)\"><path class=\"edge\" d=\"M 0 0 V -7.88913 H -11.2\" /><rect class=\"sym\" height=\"6\" width=\"6\" x=\"-3\" y=\"-3\" /><text class=\"lab\" transform=\"translate(0 11)\">3</text></g><path class=\"edge\" d=\"M 0 0 V -30.4056 H 22.4\" /><circle class=\"sym\" cx=\"0\" cy=\"0\" r=\"3\" /><text class=\"lab lft\" transform=\"translate(-3 -7.0)\" /></g><g class=\"a10 c2 node n8 p0\" transform=\"translate(22.4 18.1844)\"><g class=\"a8 i2 leaf m1 node n4 p0 s1 sample\" transform=\"translate(-11.2 20.1103)\"><path class=\"edge\" d=\"M 0 0 V -20.1103 H 11.2\" /><g class=\"mut m1 s1\" transform=\"translate(0 -17.5666)\"><line x1=\"0\" x2=\"0\" y1=\"0\" y2=\"17.5666\" /><path class=\"sym\" d=\"M -3,-3 l 6,6 M -3,3 l 6,-6\" /><text class=\"lab lft\" transform=\"translate(-5 0)\" /></g><rect class=\"sym\" height=\"6\" width=\"6\" x=\"-3\" y=\"-3\" /><text class=\"lab\" transform=\"translate(0 11)\">4</text></g><g class=\"a8 i2 leaf node n5 p0 sample\" transform=\"translate(11.2 20.1103)\"><path class=\"edge\" d=\"M 0 0 V -20.1103 H -11.2\" /><rect class=\"sym\" height=\"6\" width=\"6\" x=\"-3\" y=\"-3\" /><text class=\"lab\" transform=\"translate(0 11)\">5</text></g><path class=\"edge\" d=\"M 0 0 V -18.1844 H -22.4\" /><circle class=\"sym\" cx=\"0\" cy=\"0\" r=\"3\" /><text class=\"lab rgt\" transform=\"translate(3 -7.0)\" /></g><path class=\"edge\" d=\"M 0 0 V -47.6992 H -33.6\" /><circle class=\"sym\" cx=\"0\" cy=\"0\" r=\"3\" /><text class=\"lab rgt\" transform=\"translate(3 -7.0)\" /></g><circle class=\"sym\" cx=\"0\" cy=\"0\" r=\"3\" /><text class=\"lab\" transform=\"translate(0 -11)\" /></g></g></g><g class=\"tree t2\" transform=\"translate(405.6 0)\"><g class=\"plotbox\"><g class=\"c2 node n11 p0 root\" transform=\"translate(83 135.406)\"><g class=\"a11 c2 node n9 p0\" transform=\"translate(-40.6 52.672)\"><g class=\"a9 i0 leaf node n0 p0 sample\" transform=\"translate(-11.2 33.3219)\"><path class=\"edge\" d=\"M 0 0 V -33.3219 H 11.2\" /><rect class=\"sym\" height=\"6\" width=\"6\" x=\"-3\" y=\"-3\" /><text class=\"lab\" transform=\"translate(0 11)\">0</text></g><g class=\"a9 i1 leaf m2 node n2 p0 s2 sample\" transform=\"translate(11.2 33.3219)\"><path class=\"edge\" d=\"M 0 0 V -33.3219 H -11.2\" /><g class=\"mut m2 s2\" transform=\"translate(0 -13.6986)\"><line x1=\"0\" x2=\"0\" y1=\"0\" y2=\"13.6986\" /><path class=\"sym\" d=\"M -3,-3 l 6,6 M -3,3 l 6,-6\" /><text class=\"lab rgt\" transform=\"translate(5 0)\" /></g><rect class=\"sym\" height=\"6\" width=\"6\" x=\"-3\" y=\"-3\" /><text class=\"lab\" transform=\"translate(0 11)\">2</text></g><path class=\"edge\" d=\"M 0 0 V -52.672 H 40.6\" /><circle class=\"sym\" cx=\"0\" cy=\"0\" r=\"3\" /><text class=\"lab lft\" transform=\"translate(-3 -7.0)\" /></g><g class=\"a11 c2 node n10 p0\" transform=\"translate(40.6 47.6992)\"><g class=\"a10 i2 leaf node n4 p0 sample\" transform=\"translate(19.6 38.2947)\"><path class=\"edge\" d=\"M 0 0 V -38.2947 H -19.6\" /><rect class=\"sym\" height=\"6\" width=\"6\" x=\"-3\" y=\"-3\" /><text class=\"lab\" transform=\"translate(0 11)\">4</text></g><g class=\"a10 c2 node n7 p0\" transform=\"translate(-19.6 21.2927)\"><g class=\"a7 i2 leaf node n5 p0 sample\" transform=\"translate(16.8 17.0021)\"><path class=\"edge\" d=\"M 0 0 V -17.0021 H -16.8\" /><rect class=\"sym\" height=\"6\" width=\"6\" x=\"-3\" y=\"-3\" /><text class=\"lab\" transform=\"translate(0 11)\">5</text></g><g class=\"a7 c2 node n6 p0\" transform=\"translate(-16.8 9.11294)\"><g class=\"a6 i0 leaf node n1 p0 sample\" transform=\"translate(-11.2 7.88913)\"><path class=\"edge\" d=\"M 0 0 V -7.88913 H 11.2\" /><rect class=\"sym\" height=\"6\" width=\"6\" x=\"-3\" y=\"-3\" /><text class=\"lab\" transform=\"translate(0 11)\">1</text></g><g class=\"a6 i1 leaf node n3 p0 sample\" transform=\"translate(11.2 7.88913)\"><path class=\"edge\" d=\"M 0 0 V -7.88913 H -11.2\" /><rect class=\"sym\" height=\"6\" width=\"6\" x=\"-3\" y=\"-3\" /><text class=\"lab\" transform=\"translate(0 11)\">3</text></g><path class=\"edge\" d=\"M 0 0 V -9.11294 H 16.8\" /><circle class=\"sym\" cx=\"0\" cy=\"0\" r=\"3\" /><text class=\"lab lft\" transform=\"translate(-3 -7.0)\" /></g><path class=\"edge\" d=\"M 0 0 V -21.2927 H 19.6\" /><circle class=\"sym\" cx=\"0\" cy=\"0\" r=\"3\" /><text class=\"lab lft\" transform=\"translate(-3 -7.0)\" /></g><path class=\"edge\" d=\"M 0 0 V -47.6992 H -40.6\" /><circle class=\"sym\" cx=\"0\" cy=\"0\" r=\"3\" /><text class=\"lab rgt\" transform=\"translate(3 -7.0)\" /></g><circle class=\"sym\" cx=\"0\" cy=\"0\" r=\"3\" /><text class=\"lab\" transform=\"translate(0 -11)\" /></g></g></g></g></g></svg>"
      ],
      "text/plain": [
       "'<svg baseProfile=\"full\" height=\"300\" version=\"1.1\" width=\"600\" xmlns=\"http://www.w3.org/2000/svg\" xmlns:ev=\"http://www.w3.org/2001/xml-events\" xmlns:xlink=\"http://www.w3.org/1999/xlink\"><defs><style type=\"text/css\"><![CDATA[.background path {fill: #808080; fill-opacity: 0}.background path:nth-child(odd) {fill-opacity: .1}.axes {font-size: 14px}.x-axis .tick .lab {font-weight: bold; dominant-baseline: hanging}.axes, .tree {font-size: 14px; text-anchor: middle}.axes line, .edge {stroke: black; fill: none}.axes .ax-skip {stroke-dasharray: 4}.y-axis .grid {stroke: #FAFAFA}.node > .sym {fill: black; stroke: none}.site > .sym {stroke: black}.mut text {fill: red; font-style: italic}.mut.extra text {fill: hotpink}.mut line {fill: none; stroke: none}.mut .sym {fill: none; stroke: red}.mut.extra .sym {stroke: hotpink}.node .mut .sym {stroke-width: 1.5px}.tree text, .tree-sequence text {dominant-baseline: central}.plotbox .lab.lft {text-anchor: end}.plotbox .lab.rgt {text-anchor: start}.mut .sym {stroke: goldenrod}]]></style></defs><g class=\"tree-sequence\"><g class=\"background\"><path d=\"M56.8,0 l174.4,0 l0,238.2 l-38.3149,25 l0,5 l-136.085,0 l0,-5 l0,-25 l0,-238.2z\" /><path d=\"M231.2,0 l174.4,0 l0,238.2 l-7.83369,25 l0,5 l-204.881,0 l0,-5 l38.315,-25 l0,-238.2z\" /><path d=\"M405.6,0 l174.4,0 l0,238.2 l0,25 l0,5 l-182.234,0 l0,-5 l7.834,-25 l0,-238.2z\" /></g><g class=\"axes\"><g class=\"x-axis\"><g class=\"title\" transform=\"translate(318.4 300)\"><text class=\"lab\" text-anchor=\"middle\" transform=\"translate(0 -11)\">Genome position</text></g><line class=\"ax-line\" x1=\"56.8\" x2=\"580\" y1=\"263.2\" y2=\"263.2\" /><g class=\"ticks\"><g class=\"tick\" transform=\"translate(56.8 263.2)\"><line x1=\"0\" x2=\"0\" y1=\"0\" y2=\"5\" /><g transform=\"translate(0 6)\"><text class=\"lab\">0.00</text></g></g><g class=\"tick\" transform=\"translate(192.885 263.2)\"><line x1=\"0\" x2=\"0\" y1=\"0\" y2=\"5\" /><g transform=\"translate(0 6)\"><text class=\"lab\">2601.01</text></g></g><g class=\"tick\" transform=\"translate(397.766 263.2)\"><line x1=\"0\" x2=\"0\" y1=\"0\" y2=\"5\" /><g transform=\"translate(0 6)\"><text class=\"lab\">6516.94</text></g></g><g class=\"tick\" transform=\"translate(580 263.2)\"><line x1=\"0\" x2=\"0\" y1=\"0\" y2=\"5\" /><g transform=\"translate(0 6)\"><text class=\"lab\">10000.00</text></g></g></g><g class=\"site s0\" transform=\"translate(186.711 263.2)\"><line class=\"sym\" x1=\"0\" x2=\"0\" y1=\"0\" y2=\"-10\" /><g class=\"mut m0\"><polyline class=\"sym\" points=\"2.5,-6.5 0,-1.5 -2.5,-6.5\" /></g></g><g class=\"site s1\" transform=\"translate(280.991 263.2)\"><line class=\"sym\" x1=\"0\" x2=\"0\" y1=\"0\" y2=\"-10\" /><g class=\"mut m1\"><polyline class=\"sym\" points=\"2.5,-6.5 0,-1.5 -2.5,-6.5\" /></g></g><g class=\"site s2\" transform=\"translate(400.856 263.2)\"><line class=\"sym\" x1=\"0\" x2=\"0\" y1=\"0\" y2=\"-10\" /><g class=\"mut m2\"><polyline class=\"sym\" points=\"2.5,-6.5 0,-1.5 -2.5,-6.5\" /></g></g></g><g class=\"y-axis\"><g class=\"title\" transform=\"translate(0 115.7)\"><text class=\"lab\" text-anchor=\"middle\" transform=\"translate(11) rotate(-90)\">Time (generations)</text></g><line class=\"ax-line\" x1=\"56.8\" x2=\"56.8\" y1=\"221.4\" y2=\"10\" /><g class=\"ticks\"><g class=\"tick\" transform=\"translate(56.8 221.4)\"><line x1=\"0\" x2=\"-5\" y1=\"0\" y2=\"0\" /><g transform=\"translate(-6 0)\"><text class=\"lab\" text-anchor=\"end\">0</text></g></g><g class=\"tick\" transform=\"translate(56.8 151.019)\"><line x1=\"0\" x2=\"-5\" y1=\"0\" y2=\"0\" /><g transform=\"translate(-6 0)\"><text class=\"lab\" text-anchor=\"end\">500</text></g></g><g class=\"tick\" transform=\"translate(56.8 80.637)\"><line x1=\"0\" x2=\"-5\" y1=\"0\" y2=\"0\" /><g transform=\"translate(-6 0)\"><text class=\"lab\" text-anchor=\"end\">1000</text></g></g><g class=\"tick\" transform=\"translate(56.8 10.2555)\"><line x1=\"0\" x2=\"-5\" y1=\"0\" y2=\"0\" /><g transform=\"translate(-6 0)\"><text class=\"lab\" text-anchor=\"end\">1500</text></g></g></g></g></g><g class=\"plotbox trees\"><g class=\"tree t0\" transform=\"translate(56.8 0)\"><g class=\"plotbox\"><g class=\"c2 node n12 p0 root\" transform=\"translate(76 26.8)\"><g class=\"a12 c2 m0 node n9 p0 s0\" transform=\"translate(-33.6 161.278)\"><g class=\"a9 i0 leaf node n0 p0 sample\" transform=\"translate(-11.2 33.3219)\"><path class=\"edge\" d=\"M 0 0 V -33.3219 H 11.2\" /><rect class=\"sym\" height=\"6\" width=\"6\" x=\"-3\" y=\"-3\" /><text class=\"lab\" transform=\"translate(0 11)\">0</text></g><g class=\"a9 i1 leaf node n2 p0 sample\" transform=\"translate(11.2 33.3219)\"><path class=\"edge\" d=\"M 0 0 V -33.3219 H -11.2\" /><rect class=\"sym\" height=\"6\" width=\"6\" x=\"-3\" y=\"-3\" /><text class=\"lab\" transform=\"translate(0 11)\">2</text></g><path class=\"edge\" d=\"M 0 0 V -161.278 H 33.6\" /><g class=\"mut m0 s0\" transform=\"translate(0 -22.7553)\"><line x1=\"0\" x2=\"0\" y1=\"0\" y2=\"22.7553\" /><path class=\"sym\" d=\"M -3,-3 l 6,6 M -3,3 l 6,-6\" /><text class=\"lab lft\" transform=\"translate(-5 0)\" /></g><circle class=\"sym\" cx=\"0\" cy=\"0\" r=\"3\" /><text class=\"lab lft\" transform=\"translate(-3 -7.0)\" /></g><g class=\"a12 c2 node n10 p0\" transform=\"translate(33.6 156.305)\"><g class=\"a10 c2 node n6 p0\" transform=\"translate(-22.4 30.4056)\"><g class=\"a6 i0 leaf node n1 p0 sample\" transform=\"translate(-11.2 7.88913)\"><path class=\"edge\" d=\"M 0 0 V -7.88913 H 11.2\" /><rect class=\"sym\" height=\"6\" width=\"6\" x=\"-3\" y=\"-3\" /><text class=\"lab\" transform=\"translate(0 11)\">1</text></g><g class=\"a6 i1 leaf node n3 p0 sample\" transform=\"translate(11.2 7.88913)\"><path class=\"edge\" d=\"M 0 0 V -7.88913 H -11.2\" /><rect class=\"sym\" height=\"6\" width=\"6\" x=\"-3\" y=\"-3\" /><text class=\"lab\" transform=\"translate(0 11)\">3</text></g><path class=\"edge\" d=\"M 0 0 V -30.4056 H 22.4\" /><circle class=\"sym\" cx=\"0\" cy=\"0\" r=\"3\" /><text class=\"lab lft\" transform=\"translate(-3 -7.0)\" /></g><g class=\"a10 c2 node n8 p0\" transform=\"translate(22.4 18.1844)\"><g class=\"a8 i2 leaf node n4 p0 sample\" transform=\"translate(-11.2 20.1103)\"><path class=\"edge\" d=\"M 0 0 V -20.1103 H 11.2\" /><rect class=\"sym\" height=\"6\" width=\"6\" x=\"-3\" y=\"-3\" /><text class=\"lab\" transform=\"translate(0 11)\">4</text></g><g class=\"a8 i2 leaf node n5 p0 sample\" transform=\"translate(11.2 20.1103)\"><path class=\"edge\" d=\"M 0 0 V -20.1103 H -11.2\" /><rect class=\"sym\" height=\"6\" width=\"6\" x=\"-3\" y=\"-3\" /><text class=\"lab\" transform=\"translate(0 11)\">5</text></g><path class=\"edge\" d=\"M 0 0 V -18.1844 H -22.4\" /><circle class=\"sym\" cx=\"0\" cy=\"0\" r=\"3\" /><text class=\"lab rgt\" transform=\"translate(3 -7.0)\" /></g><path class=\"edge\" d=\"M 0 0 V -156.305 H -33.6\" /><circle class=\"sym\" cx=\"0\" cy=\"0\" r=\"3\" /><text class=\"lab rgt\" transform=\"translate(3 -7.0)\" /></g><circle class=\"sym\" cx=\"0\" cy=\"0\" r=\"3\" /><text class=\"lab\" transform=\"translate(0 -11)\" /></g></g></g><g class=\"tree t1\" transform=\"translate(231.2 0)\"><g class=\"plotbox\"><g class=\"c2 node n11 p0 root\" transform=\"translate(76 135.406)\"><g class=\"a11 c2 node n9 p0\" transform=\"translate(-33.6 52.672)\"><g class=\"a9 i0 leaf node n0 p0 sample\" transform=\"translate(-11.2 33.3219)\"><path class=\"edge\" d=\"M 0 0 V -33.3219 H 11.2\" /><rect class=\"sym\" height=\"6\" width=\"6\" x=\"-3\" y=\"-3\" /><text class=\"lab\" transform=\"translate(0 11)\">0</text></g><g class=\"a9 i1 leaf node n2 p0 sample\" transform=\"translate(11.2 33.3219)\"><path class=\"edge\" d=\"M 0 0 V -33.3219 H -11.2\" /><rect class=\"sym\" height=\"6\" width=\"6\" x=\"-3\" y=\"-3\" /><text class=\"lab\" transform=\"translate(0 11)\">2</text></g><path class=\"edge\" d=\"M 0 0 V -52.672 H 33.6\" /><circle class=\"sym\" cx=\"0\" cy=\"0\" r=\"3\" /><text class=\"lab lft\" transform=\"translate(-3 -7.0)\" /></g><g class=\"a11 c2 node n10 p0\" transform=\"translate(33.6 47.6992)\"><g class=\"a10 c2 node n6 p0\" transform=\"translate(-22.4 30.4056)\"><g class=\"a6 i0 leaf node n1 p0 sample\" transform=\"translate(-11.2 7.88913)\"><path class=\"edge\" d=\"M 0 0 V -7.88913 H 11.2\" /><rect class=\"sym\" height=\"6\" width=\"6\" x=\"-3\" y=\"-3\" /><text class=\"lab\" transform=\"translate(0 11)\">1</text></g><g class=\"a6 i1 leaf node n3 p0 sample\" transform=\"translate(11.2 7.88913)\"><path class=\"edge\" d=\"M 0 0 V -7.88913 H -11.2\" /><rect class=\"sym\" height=\"6\" width=\"6\" x=\"-3\" y=\"-3\" /><text class=\"lab\" transform=\"translate(0 11)\">3</text></g><path class=\"edge\" d=\"M 0 0 V -30.4056 H 22.4\" /><circle class=\"sym\" cx=\"0\" cy=\"0\" r=\"3\" /><text class=\"lab lft\" transform=\"translate(-3 -7.0)\" /></g><g class=\"a10 c2 node n8 p0\" transform=\"translate(22.4 18.1844)\"><g class=\"a8 i2 leaf m1 node n4 p0 s1 sample\" transform=\"translate(-11.2 20.1103)\"><path class=\"edge\" d=\"M 0 0 V -20.1103 H 11.2\" /><g class=\"mut m1 s1\" transform=\"translate(0 -17.5666)\"><line x1=\"0\" x2=\"0\" y1=\"0\" y2=\"17.5666\" /><path class=\"sym\" d=\"M -3,-3 l 6,6 M -3,3 l 6,-6\" /><text class=\"lab lft\" transform=\"translate(-5 0)\" /></g><rect class=\"sym\" height=\"6\" width=\"6\" x=\"-3\" y=\"-3\" /><text class=\"lab\" transform=\"translate(0 11)\">4</text></g><g class=\"a8 i2 leaf node n5 p0 sample\" transform=\"translate(11.2 20.1103)\"><path class=\"edge\" d=\"M 0 0 V -20.1103 H -11.2\" /><rect class=\"sym\" height=\"6\" width=\"6\" x=\"-3\" y=\"-3\" /><text class=\"lab\" transform=\"translate(0 11)\">5</text></g><path class=\"edge\" d=\"M 0 0 V -18.1844 H -22.4\" /><circle class=\"sym\" cx=\"0\" cy=\"0\" r=\"3\" /><text class=\"lab rgt\" transform=\"translate(3 -7.0)\" /></g><path class=\"edge\" d=\"M 0 0 V -47.6992 H -33.6\" /><circle class=\"sym\" cx=\"0\" cy=\"0\" r=\"3\" /><text class=\"lab rgt\" transform=\"translate(3 -7.0)\" /></g><circle class=\"sym\" cx=\"0\" cy=\"0\" r=\"3\" /><text class=\"lab\" transform=\"translate(0 -11)\" /></g></g></g><g class=\"tree t2\" transform=\"translate(405.6 0)\"><g class=\"plotbox\"><g class=\"c2 node n11 p0 root\" transform=\"translate(83 135.406)\"><g class=\"a11 c2 node n9 p0\" transform=\"translate(-40.6 52.672)\"><g class=\"a9 i0 leaf node n0 p0 sample\" transform=\"translate(-11.2 33.3219)\"><path class=\"edge\" d=\"M 0 0 V -33.3219 H 11.2\" /><rect class=\"sym\" height=\"6\" width=\"6\" x=\"-3\" y=\"-3\" /><text class=\"lab\" transform=\"translate(0 11)\">0</text></g><g class=\"a9 i1 leaf m2 node n2 p0 s2 sample\" transform=\"translate(11.2 33.3219)\"><path class=\"edge\" d=\"M 0 0 V -33.3219 H -11.2\" /><g class=\"mut m2 s2\" transform=\"translate(0 -13.6986)\"><line x1=\"0\" x2=\"0\" y1=\"0\" y2=\"13.6986\" /><path class=\"sym\" d=\"M -3,-3 l 6,6 M -3,3 l 6,-6\" /><text class=\"lab rgt\" transform=\"translate(5 0)\" /></g><rect class=\"sym\" height=\"6\" width=\"6\" x=\"-3\" y=\"-3\" /><text class=\"lab\" transform=\"translate(0 11)\">2</text></g><path class=\"edge\" d=\"M 0 0 V -52.672 H 40.6\" /><circle class=\"sym\" cx=\"0\" cy=\"0\" r=\"3\" /><text class=\"lab lft\" transform=\"translate(-3 -7.0)\" /></g><g class=\"a11 c2 node n10 p0\" transform=\"translate(40.6 47.6992)\"><g class=\"a10 i2 leaf node n4 p0 sample\" transform=\"translate(19.6 38.2947)\"><path class=\"edge\" d=\"M 0 0 V -38.2947 H -19.6\" /><rect class=\"sym\" height=\"6\" width=\"6\" x=\"-3\" y=\"-3\" /><text class=\"lab\" transform=\"translate(0 11)\">4</text></g><g class=\"a10 c2 node n7 p0\" transform=\"translate(-19.6 21.2927)\"><g class=\"a7 i2 leaf node n5 p0 sample\" transform=\"translate(16.8 17.0021)\"><path class=\"edge\" d=\"M 0 0 V -17.0021 H -16.8\" /><rect class=\"sym\" height=\"6\" width=\"6\" x=\"-3\" y=\"-3\" /><text class=\"lab\" transform=\"translate(0 11)\">5</text></g><g class=\"a7 c2 node n6 p0\" transform=\"translate(-16.8 9.11294)\"><g class=\"a6 i0 leaf node n1 p0 sample\" transform=\"translate(-11.2 7.88913)\"><path class=\"edge\" d=\"M 0 0 V -7.88913 H 11.2\" /><rect class=\"sym\" height=\"6\" width=\"6\" x=\"-3\" y=\"-3\" /><text class=\"lab\" transform=\"translate(0 11)\">1</text></g><g class=\"a6 i1 leaf node n3 p0 sample\" transform=\"translate(11.2 7.88913)\"><path class=\"edge\" d=\"M 0 0 V -7.88913 H -11.2\" /><rect class=\"sym\" height=\"6\" width=\"6\" x=\"-3\" y=\"-3\" /><text class=\"lab\" transform=\"translate(0 11)\">3</text></g><path class=\"edge\" d=\"M 0 0 V -9.11294 H 16.8\" /><circle class=\"sym\" cx=\"0\" cy=\"0\" r=\"3\" /><text class=\"lab lft\" transform=\"translate(-3 -7.0)\" /></g><path class=\"edge\" d=\"M 0 0 V -21.2927 H 19.6\" /><circle class=\"sym\" cx=\"0\" cy=\"0\" r=\"3\" /><text class=\"lab lft\" transform=\"translate(-3 -7.0)\" /></g><path class=\"edge\" d=\"M 0 0 V -47.6992 H -40.6\" /><circle class=\"sym\" cx=\"0\" cy=\"0\" r=\"3\" /><text class=\"lab rgt\" transform=\"translate(3 -7.0)\" /></g><circle class=\"sym\" cx=\"0\" cy=\"0\" r=\"3\" /><text class=\"lab\" transform=\"translate(0 -11)\" /></g></g></g></g></g></svg>'"
      ]
     },
     "execution_count": 5,
     "metadata": {
      "filenames": {
       "image/svg+xml": "/home/runner/work/tutorials/tutorials/_build/jupyter_execute/args_9_0.svg"
      }
     },
     "output_type": "execute_result"
    }
   ],
   "source": [
    "ts = ts_arg.simplify()\n",
    "ts.draw_svg(\n",
    "    size=(600, 300),\n",
    "    y_axis=True,\n",
    "    node_labels={u: u for u in ts.samples()},\n",
    "    mutation_labels={},\n",
    "    style=\".mut .sym {stroke: goldenrod}\",\n",
    "    y_ticks=[t*500 for t in range(4)]\n",
    ")"
   ]
  },
  {
   "cell_type": "markdown",
   "id": "bdd9623c",
   "metadata": {},
   "source": [
    "Because of this loss of information, the ARG likelihood cannot be calculated from the\n",
    "simplified tree sequence. We can still, however, calculate the *mutation likelihood*\n",
    "(i.e. the likelihood of the observed pattern of mutations, given the genealogy) because\n",
    "the topology and branch lengths of the local trees remain unchanged after simplification:"
   ]
  },
  {
   "cell_type": "code",
   "execution_count": 6,
   "id": "fe066247",
   "metadata": {},
   "outputs": [
    {
     "name": "stdout",
     "output_type": "stream",
     "text": [
      "Log likelihood of mutations given the genealogy:\n",
      " \"full\" ARG: -33.204860594400216\n",
      " simplified: -33.204860594400216\n"
     ]
    }
   ],
   "source": [
    "print(\"Log likelihood of mutations given the genealogy:\")\n",
    "print(' \"full\" ARG:',  msprime.log_mutation_likelihood(ts_arg, mutation_rate=mu))\n",
    "print(\" simplified:\", msprime.log_mutation_likelihood(ts, mutation_rate=mu))"
   ]
  },
  {
   "cell_type": "markdown",
   "id": "f30042ed",
   "metadata": {},
   "source": [
    "## Recording all nodes is expensive\n",
    "\n",
    "Many extra nodes are required to store full information about ancestrally relevant\n",
    "recombination. In fact, as the sequence length increases, these non-coalescent nodes come\n",
    "to dominate the tree sequence (which is one reason they are not included by default).\n",
    "We can calculate the percentage of non-coalescent nodes by comparing a full ARG with\n",
    "its simplified version:"
   ]
  },
  {
   "cell_type": "code",
   "execution_count": 7,
   "id": "9e09eb50",
   "metadata": {},
   "outputs": [
    {
     "name": "stdout",
     "output_type": "stream",
     "text": [
      "Non-coalescent nodes take up 99.32% of this 10 megabase 6-tip ARG\n"
     ]
    }
   ],
   "source": [
    "large_sim_parameters = parameters.copy()\n",
    "large_sim_parameters[\"sequence_length\"] *= 1000\n",
    "ts_arg = msprime.sim_ancestry(**large_sim_parameters, record_full_arg=True)\n",
    "ts = ts_arg.simplify()\n",
    "\n",
    "print(\n",
    "    \"Non-coalescent nodes take up \"\n",
    "    f\"{(1-ts.num_nodes/ts_arg.num_nodes) * 100:0.2f}% \"\n",
    "    f\"of this {ts.sequence_length/1e6:g} megabase {ts.num_samples}-tip ARG\"\n",
    ")"
   ]
  },
  {
   "cell_type": "markdown",
   "id": "7f42b463",
   "metadata": {},
   "source": [
    "This is one of the primary reasons that nodes which are never associated with coalescent\n",
    "events are excluded by default in simulation software such as\n",
    "[msprime](https://tskit.dev/software/msprime.html) and\n",
    "[SLiM](https://tskit.dev/software/SLiM.html).\n",
    "\n",
    ":::{note}\n",
    "As well as ancestrally relevant nodes, the original (mathematical) ARG formulation by\n",
    "[Griffiths (1991)](https://www.jstor.org/stable/4355649) includes recombination\n",
    "nodes that are not ancestral to the samples. This leads to a graph with an\n",
    "vastly larger number of nodes than even the ARGs simulated here, and using such\n",
    "structures for simulation or inference is therefore infeasible.\n",
    ":::\n",
    "\n",
    "## Working with the ARG\n",
    "\n",
    ":::{todo}\n",
    "Add extra content as per [https://github.com/tskit-dev/tutorials/issues/43](https://github.com/tskit-dev/tutorials/issues/43)\n",
    ":::\n",
    "\n",
    "## Other software\n",
    "\n",
    ":::{todo}\n",
    "Show how ARGweaver output can be converted to tskit form.\n",
    ":::\n",
    "\n",
    ":::{todo}\n",
    "Show how KwARG output can be converted to tskit form.\n",
    ":::\n",
    "\n",
    ":::{todo}\n",
    "Implement conversion between the 2 RE node version and the 1 RE node version\n",
    ":::"
   ]
  }
 ],
 "metadata": {
  "jupytext": {
   "text_representation": {
    "extension": ".md",
    "format_name": "myst",
    "format_version": 0.12,
    "jupytext_version": "1.9.1"
   }
  },
  "kernelspec": {
   "display_name": "Python 3",
   "language": "python",
   "name": "python3"
  },
  "language_info": {
   "codemirror_mode": {
    "name": "ipython",
    "version": 3
   },
   "file_extension": ".py",
   "mimetype": "text/x-python",
   "name": "python",
   "nbconvert_exporter": "python",
   "pygments_lexer": "ipython3",
   "version": "3.10.11"
  },
  "source_map": [
   12,
   52,
   71,
   76,
   83,
   170,
   188,
   245,
   254,
   260,
   270,
   277,
   281,
   291,
   302
  ]
 },
 "nbformat": 4,
 "nbformat_minor": 5
}