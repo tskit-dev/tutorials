{
 "cells": [
  {
   "cell_type": "markdown",
   "id": "ff664ade",
   "metadata": {},
   "source": [
    "```{currentmodule} tskit\n",
    "```"
   ]
  },
  {
   "cell_type": "code",
   "execution_count": 1,
   "id": "8e94830c",
   "metadata": {
    "tags": [
     "remove-cell"
    ]
   },
   "outputs": [],
   "source": [
    "import msprime\n",
    "import numpy as np\n",
    "import tskit\n",
    "\n",
    "def computing_statistics():\n",
    "    ts = msprime.simulate(\n",
    "        10**4, Ne=10**4, recombination_rate=1e-8, mutation_rate=1e-8, length=10**7, random_seed=42)\n",
    "    ts.dump(\"data/computing_statistics.trees\")\n",
    "    \n",
    "def afs():\n",
    "    ts = msprime.simulate(6, mutation_rate=1, random_seed=47)\n",
    "    # remove the mutation times so the plot is nicer\n",
    "    tables = ts.dump_tables()\n",
    "    tables.mutations.time = np.full_like(tables.mutations.time, tskit.UNKNOWN_TIME)\n",
    "    ts = tables.tree_sequence()\n",
    "    ts.dump(\"data/afs.trees\")\n",
    "\n",
    "\n",
    "def create_notebook_data():\n",
    "    computing_statistics()\n",
    "    afs()\n",
    "\n",
    "# create_notebook_data()  # uncomment to recreate the tree seqs used in this notebook"
   ]
  },
  {
   "cell_type": "markdown",
   "id": "24f691b2",
   "metadata": {},
   "source": [
    "(sec_analysing_tree_sequences)=\n",
    "\n",
    "# _Analysing tree sequences_\n",
    "% remove underscores in title when tutorial is complete or near-complete\n",
    "\n",
    ":::{note}\n",
    "This tutorial is a work in progress.\n",
    ":::\n",
    "\n",
    "\n",
    "(sec_tutorial_stats)=\n",
    "\n",
    "## Computing statistics\n",
    "\n",
    "Tskit provides an extensive and flexible interface for computing population\n",
    "genetic statistics, which is documented in detail in the\n",
    "{ref}`general statistics <sec_stats>` section of the offical documentation.\n",
    "This tutorial aims to give a quick overview of how the APIs work and how to use\n",
    "them effectively.\n",
    "\n",
    "First, let's load a tree sequence to work with which has roughly human\n",
    "parameters for 10 thousand samples and 10Mb chromosomes:"
   ]
  },
  {
   "cell_type": "code",
   "execution_count": 2,
   "id": "c2ecacb6",
   "metadata": {},
   "outputs": [
    {
     "data": {
      "text/html": [
       "\n",
       "<div>\n",
       "  <style>\n",
       "    .tskit-table thead tr th {text-align: left;padding: 0.5em 0.5em;}\n",
       "    .tskit-table tbody tr td {padding: 0.5em 0.5em;}\n",
       "    .tskit-table tbody tr td:first-of-type {text-align: left;}\n",
       "    .tskit-details-label {vertical-align: top; padding-right:5px;}\n",
       "    .tskit-table-set {display: inline-flex;flex-wrap: wrap;margin: -12px 0 0 -12px;width: calc(100% + 12px);}\n",
       "    .tskit-table-set-table {margin: 12px 0 0 12px;}\n",
       "    details {display: inline-block;}\n",
       "    summary {cursor: pointer; outline: 0; display: list-item;}\n",
       "  </style>\n",
       "  <div class=\"tskit-table-set\">\n",
       "    <div class=\"tskit-table-set-table\">\n",
       "      <table class=\"tskit-table\">\n",
       "        <thead>\n",
       "          <tr>\n",
       "            <th style=\"padding:0;line-height:21px;\">\n",
       "              <img style=\"height: 32px;display: inline-block;padding: 3px 5px 3px 0;\" src=\"https://raw.githubusercontent.com/tskit-dev/administrative/main/tskit_logo.svg\"/>\n",
       "              <a target=\"_blank\" href=\"https://tskit.dev/tskit/docs/latest/python-api.html#the-treesequence-class\"> Tree Sequence </a>\n",
       "            </th>\n",
       "          </tr>\n",
       "        </thead>\n",
       "        <tbody>\n",
       "          <tr><td>Trees</td><td>36599</td></tr>\n",
       "          <tr><td>Sequence Length</td><td>10000000.0</td></tr>\n",
       "          <tr><td>Time Units</td><td>unknown</td></tr>\n",
       "          <tr><td>Sample Nodes</td><td>10000</td></tr>\n",
       "          <tr><td>Total Size</td><td>9.5 MiB</td></tr>\n",
       "          <tr>\n",
       "            <td>Metadata</td><td style=\"text-align: left;\">No Metadata</td></tr>\n",
       "        </tbody>\n",
       "      </table>\n",
       "    </div>\n",
       "    <div class=\"tskit-table-set-table\">\n",
       "      <table class=\"tskit-table\">\n",
       "        <thead>\n",
       "          <tr>\n",
       "            <th style=\"line-height:21px;\">Table</th>\n",
       "            <th>Rows</th>\n",
       "            <th>Size</th>\n",
       "            <th>Has Metadata</th>\n",
       "          </tr>\n",
       "        </thead>\n",
       "        <tbody>\n",
       "\n",
       "      <tr>\n",
       "        <td>Edges</td>\n",
       "          <td>157894</td>\n",
       "          <td>4.8 MiB</td>\n",
       "          <td style=\"text-align: center;\">\n",
       "\n",
       "          </td>\n",
       "        </tr>\n",
       "\n",
       "      <tr>\n",
       "        <td>Individuals</td>\n",
       "          <td>0</td>\n",
       "          <td>24 Bytes</td>\n",
       "          <td style=\"text-align: center;\">\n",
       "\n",
       "          </td>\n",
       "        </tr>\n",
       "\n",
       "      <tr>\n",
       "        <td>Migrations</td>\n",
       "          <td>0</td>\n",
       "          <td>8 Bytes</td>\n",
       "          <td style=\"text-align: center;\">\n",
       "\n",
       "          </td>\n",
       "        </tr>\n",
       "\n",
       "      <tr>\n",
       "        <td>Mutations</td>\n",
       "          <td>38778</td>\n",
       "          <td>1.4 MiB</td>\n",
       "          <td style=\"text-align: center;\">\n",
       "\n",
       "          </td>\n",
       "        </tr>\n",
       "\n",
       "      <tr>\n",
       "        <td>Nodes</td>\n",
       "          <td>44864</td>\n",
       "          <td>1.2 MiB</td>\n",
       "          <td style=\"text-align: center;\">\n",
       "\n",
       "          </td>\n",
       "        </tr>\n",
       "\n",
       "      <tr>\n",
       "        <td>Populations</td>\n",
       "          <td>1</td>\n",
       "          <td>16 Bytes</td>\n",
       "          <td style=\"text-align: center;\">\n",
       "\n",
       "          </td>\n",
       "        </tr>\n",
       "\n",
       "      <tr>\n",
       "        <td>Provenances</td>\n",
       "          <td>1</td>\n",
       "          <td>1.0 KiB</td>\n",
       "          <td style=\"text-align: center;\">\n",
       "\n",
       "          </td>\n",
       "        </tr>\n",
       "\n",
       "      <tr>\n",
       "        <td>Sites</td>\n",
       "          <td>38778</td>\n",
       "          <td>946.7 KiB</td>\n",
       "          <td style=\"text-align: center;\">\n",
       "\n",
       "          </td>\n",
       "        </tr>\n",
       "\n",
       "        </tbody>\n",
       "      </table>\n",
       "    </div>\n",
       "  </div>\n",
       "</div>\n"
      ],
      "text/plain": [
       "<tskit.trees.TreeSequence at 0x7fbee0f49dc0>"
      ]
     },
     "execution_count": 2,
     "metadata": {},
     "output_type": "execute_result"
    }
   ],
   "source": [
    "ts = tskit.load(\"data/computing_statistics.trees\")\n",
    "ts"
   ]
  },
  {
   "cell_type": "markdown",
   "id": "fb68c416",
   "metadata": {},
   "source": [
    "This tree sequence has ~36.6 thousand trees & ~39 thousand segregating sites.\n",
    "We'd now like to compute some statistics on this dataset.\n",
    "\n",
    "### One-way statistics\n",
    "\n",
    "We refer to statistics that are defined with respect to a single set of\n",
    "samples as \"one-way\". An example of such a statistic is diversity, which\n",
    "is computed using the {meth}`TreeSequence.diversity` method:"
   ]
  },
  {
   "cell_type": "code",
   "execution_count": 3,
   "id": "55c2986b",
   "metadata": {},
   "outputs": [
    {
     "name": "stdout",
     "output_type": "stream",
     "text": [
      "Average diversity per unit sequence length = {d:.3G}\n"
     ]
    }
   ],
   "source": [
    "d = ts.diversity()\n",
    "print(\"Average diversity per unit sequence length = {d:.3G}\")"
   ]
  },
  {
   "cell_type": "markdown",
   "id": "9a72d16f",
   "metadata": {},
   "source": [
    "This tells the average diversity across the whole sequence and returns a single\n",
    "number. We'll usually want to compute statistics in\n",
    "{ref}`windows <tskit:sec_stats_windows>` along the genome and we\n",
    "use the ``windows`` argument to do this:"
   ]
  },
  {
   "cell_type": "code",
   "execution_count": 4,
   "id": "c2b8b5de",
   "metadata": {},
   "outputs": [
    {
     "name": "stdout",
     "output_type": "stream",
     "text": [
      "[       0.  2500000.  5000000.  7500000. 10000000.]\n",
      "[0.00040717 0.00040891 0.00041644 0.00039899]\n"
     ]
    }
   ],
   "source": [
    "windows = np.linspace(0, ts.sequence_length, num=5)\n",
    "d = ts.diversity(windows=windows)\n",
    "print(windows, d, sep=\"\\n\")"
   ]
  },
  {
   "cell_type": "markdown",
   "id": "1bc74bb9",
   "metadata": {},
   "source": [
    "The ``windows`` argument takes a numpy array specifying the breakpoints\n",
    "along the genome. Here, we use numpy to create four equally spaced windows\n",
    "of size 2.5 megabases (the windows array contains k + 1 elements to define\n",
    "k windows). Because we have asked for values in windows, tskit now returns\n",
    "a numpy array rather than a single value. (See\n",
    "{ref}`sec_stats_output_dimensions` for a full description of how the output\n",
    "dimensions of statistics are determined by the ``windows`` argument.)\n",
    "\n",
    "Suppose we wanted to compute diversity within a specific subset of samples.\n",
    "We can do this using the ``sample_sets`` argument:"
   ]
  },
  {
   "cell_type": "code",
   "execution_count": 5,
   "id": "83746499",
   "metadata": {},
   "outputs": [
    {
     "name": "stdout",
     "output_type": "stream",
     "text": [
      "0.00041007806060604034\n"
     ]
    }
   ],
   "source": [
    "A = ts.samples()[:100]\n",
    "d = ts.diversity(sample_sets=A)\n",
    "print(d)"
   ]
  },
  {
   "cell_type": "markdown",
   "id": "84c8c428",
   "metadata": {},
   "source": [
    "Here, we've computed the average diversity within the first hundred samples across\n",
    "the whole genome. As we've not specified any windows, this is again a single value.\n",
    "\n",
    "We can also compute diversity in *multiple* sample sets at the same time by providing\n",
    "a list of sample sets as an argument:"
   ]
  },
  {
   "cell_type": "code",
   "execution_count": 6,
   "id": "898b41cc",
   "metadata": {},
   "outputs": [
    {
     "name": "stdout",
     "output_type": "stream",
     "text": [
      "[0.00041008 0.00040893 0.00040853]\n"
     ]
    }
   ],
   "source": [
    "A = ts.samples()[:100]\n",
    "B = ts.samples()[100:200]\n",
    "C = ts.samples()[200:300]\n",
    "d = ts.diversity(sample_sets=[A, B, C])\n",
    "print(d)"
   ]
  },
  {
   "cell_type": "markdown",
   "id": "5320facd",
   "metadata": {},
   "source": [
    "Because we've computed multiple statistics concurrently, tskit returns a numpy array\n",
    "of these statistics. We have asked for diversity within three different sample sets,\n",
    "and tskit therefore returns an array with three values. (In general, the\n",
    "dimensions of the input determines the dimensions of the output: see\n",
    "{ref}`tskit:sec_stats_output_dimensions` for a detailed description of the rules.)\n",
    "\n",
    "We can also compute multiple statistics in multiple windows:"
   ]
  },
  {
   "cell_type": "code",
   "execution_count": 7,
   "id": "51412330",
   "metadata": {},
   "outputs": [
    {
     "name": "stdout",
     "output_type": "stream",
     "text": [
      "shape =  (4, 3) \n",
      " [[0.00041199 0.00040542 0.00040588]\n",
      " [0.00040889 0.00041216 0.00041419]\n",
      " [0.00041636 0.00041463 0.0004128 ]\n",
      " [0.00040307 0.0004035  0.00040126]]\n"
     ]
    }
   ],
   "source": [
    "d = ts.diversity(sample_sets=[A, B, C], windows=windows)\n",
    "print(\"shape = \", d.shape, \"\\n\", d)"
   ]
  },
  {
   "cell_type": "markdown",
   "id": "83575105",
   "metadata": {},
   "source": [
    "We have computed diversity within three different sample sets across four\n",
    "genomic windows, and our output is therefore a 2D numpy array with four\n",
    "rows and three columns: each row contains the diversity values within\n",
    "A, B and C for a particular window.\n",
    "\n",
    "### Multi-way statistics\n",
    "\n",
    "Many population genetic statistics compare multiple sets of samples to\n",
    "each other. For example, the {meth}`TreeSequence.divergence` method computes\n",
    "the divergence between two subsets of samples:"
   ]
  },
  {
   "cell_type": "code",
   "execution_count": 8,
   "id": "08c0069a",
   "metadata": {},
   "outputs": [
    {
     "name": "stdout",
     "output_type": "stream",
     "text": [
      "0.0004059772800000012\n"
     ]
    }
   ],
   "source": [
    "A = ts.samples()[:100]\n",
    "B = ts.samples()[:100]\n",
    "d = ts.divergence([A, B])\n",
    "print(d)"
   ]
  },
  {
   "cell_type": "markdown",
   "id": "35e147a6",
   "metadata": {},
   "source": [
    "The divergence between two sets of samples A and B is a single number,\n",
    "and we we again return a single floating point value as the result. We can also\n",
    "compute this in windows along the genome, as before:"
   ]
  },
  {
   "cell_type": "code",
   "execution_count": 9,
   "id": "fba33407",
   "metadata": {},
   "outputs": [
    {
     "name": "stdout",
     "output_type": "stream",
     "text": [
      "[0.00040787 0.00040481 0.00041219 0.00039904]\n"
     ]
    }
   ],
   "source": [
    "d = ts.divergence([A, B], windows=windows)\n",
    "print(d)"
   ]
  },
  {
   "cell_type": "markdown",
   "id": "3d6f03ba",
   "metadata": {},
   "source": [
    "Again, as we have defined four genomic windows along the sequence, the result is\n",
    "numpy array with four values.\n",
    "\n",
    "A powerful feature of tskit's stats API is that we can compute the divergences\n",
    "between multiple sets of samples simultaneously using the ``indexes`` argument:"
   ]
  },
  {
   "cell_type": "code",
   "execution_count": 10,
   "id": "dd361166",
   "metadata": {},
   "outputs": [
    {
     "name": "stdout",
     "output_type": "stream",
     "text": [
      "[0.00040598 0.00040943]\n"
     ]
    }
   ],
   "source": [
    "d = ts.divergence([A, B, C], indexes=[(0, 1), (0, 2)])\n",
    "print(d)"
   ]
  },
  {
   "cell_type": "markdown",
   "id": "3ecd2b1f",
   "metadata": {},
   "source": [
    "Here, we've specified three sample sets A, B and C and we've computed the\n",
    "divergences between A and B,  and between A and C. The ``indexes`` argument is used\n",
    "to specify which pairs of sets we are interested in. In this example\n",
    "we've computed two different divergence values and the output is therefore\n",
    "a numpy array of length 2.\n",
    "\n",
    "As before, we can combine computing multiple statistics in multiple windows\n",
    "to return a 2D numpy array:"
   ]
  },
  {
   "cell_type": "code",
   "execution_count": 11,
   "id": "6a3bd7cb",
   "metadata": {},
   "outputs": [
    {
     "name": "stdout",
     "output_type": "stream",
     "text": [
      "[[0.00040787 0.00040834]\n",
      " [0.00040481 0.00041207]\n",
      " [0.00041219 0.00041464]\n",
      " [0.00039904 0.00040267]]\n"
     ]
    }
   ],
   "source": [
    "windows = np.linspace(0, ts.sequence_length, num=5)\n",
    "d = ts.divergence([A, B, C], indexes=[(0, 1), (0, 2)], windows=windows)\n",
    "print(d)"
   ]
  },
  {
   "cell_type": "markdown",
   "id": "1c5bb229",
   "metadata": {},
   "source": [
    "Each row again corresponds to a window, which contains the average divergence\n",
    "values between the chosen sets.\n",
    "\n",
    "If the ``indexes`` parameter is 1D array, we interpret this as specifying\n",
    "a single statistic and remove the empty outer dimension:"
   ]
  },
  {
   "cell_type": "code",
   "execution_count": 12,
   "id": "ba2deec0",
   "metadata": {},
   "outputs": [
    {
     "name": "stdout",
     "output_type": "stream",
     "text": [
      "0.0004059772800000012\n"
     ]
    }
   ],
   "source": [
    "d = ts.divergence([A, B, C], indexes=(0, 1))\n",
    "print(d)"
   ]
  },
  {
   "cell_type": "markdown",
   "id": "b79878cf",
   "metadata": {},
   "source": [
    "It's important to note that we don't **have** to remove empty dimensions: tskit\n",
    "will only do this if you explicitly ask it to. Here, for example, we can keep the\n",
    "output as an array with one value if we wish:\n",
    "\n",
    "```\n",
    "d = ts.divergence([A, B, C], indexes=[(0, 1)])\n",
    "print(d)\n",
    "```\n",
    "\n",
    "Please see {ref}`tskit:sec_stats_sample_sets` for a\n",
    "full description of the ``sample_sets`` and ``indexes`` arguments.\n",
    "\n",
    "(sec_tutorial_afs)=\n",
    "\n",
    "## Allele frequency spectra\n",
    "\n",
    "The allele frequency spectrum is a fundamental tool in population genetics, and\n",
    "tskit provides a flexible and powerful approach to computing such spectra.\n",
    "Suppose we have simulated the following tree sequence:"
   ]
  },
  {
   "cell_type": "code",
   "execution_count": 13,
   "id": "602ce989",
   "metadata": {},
   "outputs": [
    {
     "data": {
      "image/svg+xml": [
       "<svg baseProfile=\"full\" height=\"200\" version=\"1.1\" width=\"200\" xmlns=\"http://www.w3.org/2000/svg\" xmlns:ev=\"http://www.w3.org/2001/xml-events\" xmlns:xlink=\"http://www.w3.org/1999/xlink\"><defs><style type=\"text/css\"><![CDATA[.background path {fill: #808080; fill-opacity: 0}.background path:nth-child(odd) {fill-opacity: .1}.axes {font-size: 14px}.x-axis .tick .lab {font-weight: bold; dominant-baseline: hanging}.axes, .tree {font-size: 14px; text-anchor: middle}.axes line, .edge {stroke: black; fill: none}.y-axis .grid {stroke: #FAFAFA}.node > .sym {fill: black; stroke: none}.site > .sym {stroke: black}.mut text {fill: red; font-style: italic}.mut.extra text {fill: hotpink}.mut line {fill: none; stroke: none}.mut .sym {fill: none; stroke: red}.mut.extra .sym {stroke: hotpink}.node .mut .sym {stroke-width: 1.5px}.tree text, .tree-sequence text {dominant-baseline: central}.plotbox .lab.lft {text-anchor: end}.plotbox .lab.rgt {text-anchor: start}]]></style></defs><g class=\"tree t0\"><g class=\"plotbox\"><g class=\"c2 node n10 p0 root\" transform=\"translate(95 26.8)\"><g class=\"a10 c2 m2 m3 m4 m7 m8 m9 node n6 p0 s2 s3 s4 s7 s8 s9\" transform=\"translate(-48.3333 140.969)\"><g class=\"a6 leaf node n0 p0 sample\" transform=\"translate(-13.3333 0.431103)\"><path class=\"edge\" d=\"M 0 0 V -0.431103 H 13.3333\" /><rect class=\"sym\" height=\"6\" width=\"6\" x=\"-3\" y=\"-3\" /><text class=\"lab\" transform=\"translate(0 11)\">0</text></g><g class=\"a6 leaf node n1 p0 sample\" transform=\"translate(13.3333 0.431103)\"><path class=\"edge\" d=\"M 0 0 V -0.431103 H -13.3333\" /><rect class=\"sym\" height=\"6\" width=\"6\" x=\"-3\" y=\"-3\" /><text class=\"lab\" transform=\"translate(0 11)\">1</text></g><path class=\"edge\" d=\"M 0 0 V -140.969 H 48.3333\" /><g class=\"mut m2 s2 unknown_time\" transform=\"translate(0 -120.83)\"><line x1=\"0\" x2=\"0\" y1=\"0\" y2=\"120.83\" /><path class=\"sym\" d=\"M -3,-3 l 6,6 M -3,3 l 6,-6\" /><text class=\"lab lft\" transform=\"translate(-5 0)\">2</text></g><g class=\"mut m3 s3 unknown_time\" transform=\"translate(0 -100.692)\"><line x1=\"0\" x2=\"0\" y1=\"0\" y2=\"100.692\" /><path class=\"sym\" d=\"M -3,-3 l 6,6 M -3,3 l 6,-6\" /><text class=\"lab lft\" transform=\"translate(-5 0)\">3</text></g><g class=\"mut m4 s4 unknown_time\" transform=\"translate(0 -80.5537)\"><line x1=\"0\" x2=\"0\" y1=\"0\" y2=\"80.5537\" /><path class=\"sym\" d=\"M -3,-3 l 6,6 M -3,3 l 6,-6\" /><text class=\"lab lft\" transform=\"translate(-5 0)\">4</text></g><g class=\"mut m7 s7 unknown_time\" transform=\"translate(0 -60.4152)\"><line x1=\"0\" x2=\"0\" y1=\"0\" y2=\"60.4152\" /><path class=\"sym\" d=\"M -3,-3 l 6,6 M -3,3 l 6,-6\" /><text class=\"lab lft\" transform=\"translate(-5 0)\">7</text></g><g class=\"mut m8 s8 unknown_time\" transform=\"translate(0 -40.2768)\"><line x1=\"0\" x2=\"0\" y1=\"0\" y2=\"40.2768\" /><path class=\"sym\" d=\"M -3,-3 l 6,6 M -3,3 l 6,-6\" /><text class=\"lab lft\" transform=\"translate(-5 0)\">8</text></g><g class=\"mut m9 s9 unknown_time\" transform=\"translate(0 -20.1384)\"><line x1=\"0\" x2=\"0\" y1=\"0\" y2=\"20.1384\" /><path class=\"sym\" d=\"M -3,-3 l 6,6 M -3,3 l 6,-6\" /><text class=\"lab lft\" transform=\"translate(-5 0)\">9</text></g><circle class=\"sym\" cx=\"0\" cy=\"0\" r=\"3\" /><text class=\"lab lft\" transform=\"translate(-3 -7.0)\">6</text></g><g class=\"a10 c2 m6 node n9 p0 s6\" transform=\"translate(48.3333 55.6797)\"><g class=\"a9 leaf m0 node n4 p0 s0 sample\" transform=\"translate(23.3333 85.7203)\"><path class=\"edge\" d=\"M 0 0 V -85.7203 H -23.3333\" /><g class=\"mut m0 s0 unknown_time\" transform=\"translate(0 -42.8602)\"><line x1=\"0\" x2=\"0\" y1=\"0\" y2=\"42.8602\" /><path class=\"sym\" d=\"M -3,-3 l 6,6 M -3,3 l 6,-6\" /><text class=\"lab rgt\" transform=\"translate(5 0)\">0</text></g><rect class=\"sym\" height=\"6\" width=\"6\" x=\"-3\" y=\"-3\" /><text class=\"lab\" transform=\"translate(0 11)\">4</text></g><g class=\"a9 c2 m1 node n8 p0 s1\" transform=\"translate(-23.3333 68.5082)\"><g class=\"a8 leaf m5 node n5 p0 s5 sample\" transform=\"translate(20 17.2121)\"><path class=\"edge\" d=\"M 0 0 V -17.2121 H -20\" /><g class=\"mut m5 s5 unknown_time\" transform=\"translate(0 -8.60607)\"><line x1=\"0\" x2=\"0\" y1=\"0\" y2=\"8.60607\" /><path class=\"sym\" d=\"M -3,-3 l 6,6 M -3,3 l 6,-6\" /><text class=\"lab rgt\" transform=\"translate(5 0)\">5</text></g><rect class=\"sym\" height=\"6\" width=\"6\" x=\"-3\" y=\"-3\" /><text class=\"lab\" transform=\"translate(0 11)\">5</text></g><g class=\"a8 c2 node n7 p0\" transform=\"translate(-20 3.87441)\"><g class=\"a7 leaf node n2 p0 sample\" transform=\"translate(-13.3333 13.3377)\"><path class=\"edge\" d=\"M 0 0 V -13.3377 H 13.3333\" /><rect class=\"sym\" height=\"6\" width=\"6\" x=\"-3\" y=\"-3\" /><text class=\"lab\" transform=\"translate(0 11)\">2</text></g><g class=\"a7 leaf node n3 p0 sample\" transform=\"translate(13.3333 13.3377)\"><path class=\"edge\" d=\"M 0 0 V -13.3377 H -13.3333\" /><rect class=\"sym\" height=\"6\" width=\"6\" x=\"-3\" y=\"-3\" /><text class=\"lab\" transform=\"translate(0 11)\">3</text></g><path class=\"edge\" d=\"M 0 0 V -3.87441 H 20\" /><circle class=\"sym\" cx=\"0\" cy=\"0\" r=\"3\" /><text class=\"lab lft\" transform=\"translate(-3 -7.0)\">7</text></g><path class=\"edge\" d=\"M 0 0 V -68.5082 H 23.3333\" /><g class=\"mut m1 s1 unknown_time\" transform=\"translate(0 -34.2541)\"><line x1=\"0\" x2=\"0\" y1=\"0\" y2=\"34.2541\" /><path class=\"sym\" d=\"M -3,-3 l 6,6 M -3,3 l 6,-6\" /><text class=\"lab lft\" transform=\"translate(-5 0)\">1</text></g><circle class=\"sym\" cx=\"0\" cy=\"0\" r=\"3\" /><text class=\"lab lft\" transform=\"translate(-3 -7.0)\">8</text></g><path class=\"edge\" d=\"M 0 0 V -55.6797 H -48.3333\" /><g class=\"mut m6 s6 unknown_time\" transform=\"translate(0 -27.8398)\"><line x1=\"0\" x2=\"0\" y1=\"0\" y2=\"27.8398\" /><path class=\"sym\" d=\"M -3,-3 l 6,6 M -3,3 l 6,-6\" /><text class=\"lab rgt\" transform=\"translate(5 0)\">6</text></g><circle class=\"sym\" cx=\"0\" cy=\"0\" r=\"3\" /><text class=\"lab rgt\" transform=\"translate(3 -7.0)\">9</text></g><circle class=\"sym\" cx=\"0\" cy=\"0\" r=\"3\" /><text class=\"lab\" transform=\"translate(0 -11)\">10</text></g></g></g></svg>"
      ],
      "text/plain": [
       "'<svg baseProfile=\"full\" height=\"200\" version=\"1.1\" width=\"200\" xmlns=\"http://www.w3.org/2000/svg\" xmlns:ev=\"http://www.w3.org/2001/xml-events\" xmlns:xlink=\"http://www.w3.org/1999/xlink\"><defs><style type=\"text/css\"><![CDATA[.background path {fill: #808080; fill-opacity: 0}.background path:nth-child(odd) {fill-opacity: .1}.axes {font-size: 14px}.x-axis .tick .lab {font-weight: bold; dominant-baseline: hanging}.axes, .tree {font-size: 14px; text-anchor: middle}.axes line, .edge {stroke: black; fill: none}.y-axis .grid {stroke: #FAFAFA}.node > .sym {fill: black; stroke: none}.site > .sym {stroke: black}.mut text {fill: red; font-style: italic}.mut.extra text {fill: hotpink}.mut line {fill: none; stroke: none}.mut .sym {fill: none; stroke: red}.mut.extra .sym {stroke: hotpink}.node .mut .sym {stroke-width: 1.5px}.tree text, .tree-sequence text {dominant-baseline: central}.plotbox .lab.lft {text-anchor: end}.plotbox .lab.rgt {text-anchor: start}]]></style></defs><g class=\"tree t0\"><g class=\"plotbox\"><g class=\"c2 node n10 p0 root\" transform=\"translate(95 26.8)\"><g class=\"a10 c2 m2 m3 m4 m7 m8 m9 node n6 p0 s2 s3 s4 s7 s8 s9\" transform=\"translate(-48.3333 140.969)\"><g class=\"a6 leaf node n0 p0 sample\" transform=\"translate(-13.3333 0.431103)\"><path class=\"edge\" d=\"M 0 0 V -0.431103 H 13.3333\" /><rect class=\"sym\" height=\"6\" width=\"6\" x=\"-3\" y=\"-3\" /><text class=\"lab\" transform=\"translate(0 11)\">0</text></g><g class=\"a6 leaf node n1 p0 sample\" transform=\"translate(13.3333 0.431103)\"><path class=\"edge\" d=\"M 0 0 V -0.431103 H -13.3333\" /><rect class=\"sym\" height=\"6\" width=\"6\" x=\"-3\" y=\"-3\" /><text class=\"lab\" transform=\"translate(0 11)\">1</text></g><path class=\"edge\" d=\"M 0 0 V -140.969 H 48.3333\" /><g class=\"mut m2 s2 unknown_time\" transform=\"translate(0 -120.83)\"><line x1=\"0\" x2=\"0\" y1=\"0\" y2=\"120.83\" /><path class=\"sym\" d=\"M -3,-3 l 6,6 M -3,3 l 6,-6\" /><text class=\"lab lft\" transform=\"translate(-5 0)\">2</text></g><g class=\"mut m3 s3 unknown_time\" transform=\"translate(0 -100.692)\"><line x1=\"0\" x2=\"0\" y1=\"0\" y2=\"100.692\" /><path class=\"sym\" d=\"M -3,-3 l 6,6 M -3,3 l 6,-6\" /><text class=\"lab lft\" transform=\"translate(-5 0)\">3</text></g><g class=\"mut m4 s4 unknown_time\" transform=\"translate(0 -80.5537)\"><line x1=\"0\" x2=\"0\" y1=\"0\" y2=\"80.5537\" /><path class=\"sym\" d=\"M -3,-3 l 6,6 M -3,3 l 6,-6\" /><text class=\"lab lft\" transform=\"translate(-5 0)\">4</text></g><g class=\"mut m7 s7 unknown_time\" transform=\"translate(0 -60.4152)\"><line x1=\"0\" x2=\"0\" y1=\"0\" y2=\"60.4152\" /><path class=\"sym\" d=\"M -3,-3 l 6,6 M -3,3 l 6,-6\" /><text class=\"lab lft\" transform=\"translate(-5 0)\">7</text></g><g class=\"mut m8 s8 unknown_time\" transform=\"translate(0 -40.2768)\"><line x1=\"0\" x2=\"0\" y1=\"0\" y2=\"40.2768\" /><path class=\"sym\" d=\"M -3,-3 l 6,6 M -3,3 l 6,-6\" /><text class=\"lab lft\" transform=\"translate(-5 0)\">8</text></g><g class=\"mut m9 s9 unknown_time\" transform=\"translate(0 -20.1384)\"><line x1=\"0\" x2=\"0\" y1=\"0\" y2=\"20.1384\" /><path class=\"sym\" d=\"M -3,-3 l 6,6 M -3,3 l 6,-6\" /><text class=\"lab lft\" transform=\"translate(-5 0)\">9</text></g><circle class=\"sym\" cx=\"0\" cy=\"0\" r=\"3\" /><text class=\"lab lft\" transform=\"translate(-3 -7.0)\">6</text></g><g class=\"a10 c2 m6 node n9 p0 s6\" transform=\"translate(48.3333 55.6797)\"><g class=\"a9 leaf m0 node n4 p0 s0 sample\" transform=\"translate(23.3333 85.7203)\"><path class=\"edge\" d=\"M 0 0 V -85.7203 H -23.3333\" /><g class=\"mut m0 s0 unknown_time\" transform=\"translate(0 -42.8602)\"><line x1=\"0\" x2=\"0\" y1=\"0\" y2=\"42.8602\" /><path class=\"sym\" d=\"M -3,-3 l 6,6 M -3,3 l 6,-6\" /><text class=\"lab rgt\" transform=\"translate(5 0)\">0</text></g><rect class=\"sym\" height=\"6\" width=\"6\" x=\"-3\" y=\"-3\" /><text class=\"lab\" transform=\"translate(0 11)\">4</text></g><g class=\"a9 c2 m1 node n8 p0 s1\" transform=\"translate(-23.3333 68.5082)\"><g class=\"a8 leaf m5 node n5 p0 s5 sample\" transform=\"translate(20 17.2121)\"><path class=\"edge\" d=\"M 0 0 V -17.2121 H -20\" /><g class=\"mut m5 s5 unknown_time\" transform=\"translate(0 -8.60607)\"><line x1=\"0\" x2=\"0\" y1=\"0\" y2=\"8.60607\" /><path class=\"sym\" d=\"M -3,-3 l 6,6 M -3,3 l 6,-6\" /><text class=\"lab rgt\" transform=\"translate(5 0)\">5</text></g><rect class=\"sym\" height=\"6\" width=\"6\" x=\"-3\" y=\"-3\" /><text class=\"lab\" transform=\"translate(0 11)\">5</text></g><g class=\"a8 c2 node n7 p0\" transform=\"translate(-20 3.87441)\"><g class=\"a7 leaf node n2 p0 sample\" transform=\"translate(-13.3333 13.3377)\"><path class=\"edge\" d=\"M 0 0 V -13.3377 H 13.3333\" /><rect class=\"sym\" height=\"6\" width=\"6\" x=\"-3\" y=\"-3\" /><text class=\"lab\" transform=\"translate(0 11)\">2</text></g><g class=\"a7 leaf node n3 p0 sample\" transform=\"translate(13.3333 13.3377)\"><path class=\"edge\" d=\"M 0 0 V -13.3377 H -13.3333\" /><rect class=\"sym\" height=\"6\" width=\"6\" x=\"-3\" y=\"-3\" /><text class=\"lab\" transform=\"translate(0 11)\">3</text></g><path class=\"edge\" d=\"M 0 0 V -3.87441 H 20\" /><circle class=\"sym\" cx=\"0\" cy=\"0\" r=\"3\" /><text class=\"lab lft\" transform=\"translate(-3 -7.0)\">7</text></g><path class=\"edge\" d=\"M 0 0 V -68.5082 H 23.3333\" /><g class=\"mut m1 s1 unknown_time\" transform=\"translate(0 -34.2541)\"><line x1=\"0\" x2=\"0\" y1=\"0\" y2=\"34.2541\" /><path class=\"sym\" d=\"M -3,-3 l 6,6 M -3,3 l 6,-6\" /><text class=\"lab lft\" transform=\"translate(-5 0)\">1</text></g><circle class=\"sym\" cx=\"0\" cy=\"0\" r=\"3\" /><text class=\"lab lft\" transform=\"translate(-3 -7.0)\">8</text></g><path class=\"edge\" d=\"M 0 0 V -55.6797 H -48.3333\" /><g class=\"mut m6 s6 unknown_time\" transform=\"translate(0 -27.8398)\"><line x1=\"0\" x2=\"0\" y1=\"0\" y2=\"27.8398\" /><path class=\"sym\" d=\"M -3,-3 l 6,6 M -3,3 l 6,-6\" /><text class=\"lab rgt\" transform=\"translate(5 0)\">6</text></g><circle class=\"sym\" cx=\"0\" cy=\"0\" r=\"3\" /><text class=\"lab rgt\" transform=\"translate(3 -7.0)\">9</text></g><circle class=\"sym\" cx=\"0\" cy=\"0\" r=\"3\" /><text class=\"lab\" transform=\"translate(0 -11)\">10</text></g></g></g></svg>'"
      ]
     },
     "metadata": {
      "filenames": {
       "image/svg+xml": "/home/runner/work/tutorials/tutorials/_build/jupyter_execute/analysing_tree_sequences_25_0.svg"
      }
     },
     "output_type": "display_data"
    },
    {
     "data": {
      "text/html": [
       "\n",
       "            <div>\n",
       "                <style scoped=\"\">\n",
       "                    .tskit-table tbody tr th:only-of-type {vertical-align: middle;}\n",
       "                    .tskit-table tbody tr th {vertical-align: top;}\n",
       "                    .tskit-table tbody td {text-align: right;padding: 0.5em 0.5em;}\n",
       "                    .tskit-table tbody th {padding: 0.5em 0.5em;}\n",
       "                </style>\n",
       "                <table border=\"1\" class=\"tskit-table\">\n",
       "                    <thead>\n",
       "                        <tr>\n",
       "                            <th>id</th><th>position</th><th>ancestral_state</th><th>metadata</th>\n",
       "                        </tr>\n",
       "                    </thead>\n",
       "                    <tbody>\n",
       "                        <tr><td>0</td><td>0.30043643</td><td>0</td><td></td></tr>\n",
       "<tr><td>1</td><td>0.32220794</td><td>0</td><td></td></tr>\n",
       "<tr><td>2</td><td>0.36507027</td><td>0</td><td></td></tr>\n",
       "<tr><td>3</td><td>0.50940255</td><td>0</td><td></td></tr>\n",
       "<tr><td>4</td><td>0.51327137</td><td>0</td><td></td></tr>\n",
       "<tr><td>5</td><td>0.51400861</td><td>0</td><td></td></tr>\n",
       "<tr><td>6</td><td>0.54796110</td><td>0</td><td></td></tr>\n",
       "<tr><td>7</td><td>0.75929404</td><td>0</td><td></td></tr>\n",
       "<tr><td>8</td><td>0.80591800</td><td>0</td><td></td></tr>\n",
       "<tr><td>9</td><td>0.92324208</td><td>0</td><td></td></tr>\n",
       "\n",
       "                    </tbody>\n",
       "                </table>\n",
       "            </div>\n"
      ],
      "text/plain": [
       "<tskit.tables.SiteTable at 0x7fbed0098eb0>"
      ]
     },
     "execution_count": 13,
     "metadata": {},
     "output_type": "execute_result"
    }
   ],
   "source": [
    "from IPython.display import display\n",
    "ts = tskit.load(\"data/afs.trees\")\n",
    "tree = ts.first()\n",
    "display(tree.draw_svg())\n",
    "ts.tables.sites"
   ]
  },
  {
   "cell_type": "markdown",
   "id": "683ae636",
   "metadata": {},
   "source": [
    "Computing the allele frequency spectrum is then easy:"
   ]
  },
  {
   "cell_type": "code",
   "execution_count": 14,
   "id": "b1b7a320",
   "metadata": {},
   "outputs": [
    {
     "name": "stdout",
     "output_type": "stream",
     "text": [
      "[0. 2. 6. 1. 1. 0. 0.]\n"
     ]
    }
   ],
   "source": [
    "afs = ts.allele_frequency_spectrum(polarised=True, span_normalise=False)\n",
    "print(afs)"
   ]
  },
  {
   "cell_type": "markdown",
   "id": "b7aabed0",
   "metadata": {},
   "source": [
    "This tells us that we have two singletons, six doubletons and one 3-ton and\n",
    "one 4-ton. Note that the first element of the returned AFS array does *not* correspond\n",
    "to the singletons (see below for why). Because we have simulated these mutations,\n",
    "we know the ancestral and derived states we have set ``polarised`` to True. We\n",
    "can get the \"folded\" AFS by setting polarised to False. Because we want simple\n",
    "counts here and not averaged values, we set ``span_normalise=False``: by\n",
    "default, windowed statistics are divided by the sequence length, so they are\n",
    "comparable between windows.\n",
    "\n",
    "The returned value here is actually a 2D array, and this is because we can\n",
    "also perform these computations in windows along the genome:"
   ]
  },
  {
   "cell_type": "code",
   "execution_count": 15,
   "id": "a8aa836a",
   "metadata": {},
   "outputs": [
    {
     "name": "stdout",
     "output_type": "stream",
     "text": [
      "[[0. 1. 1. 1. 0. 0. 0.]\n",
      " [0. 1. 5. 0. 1. 0. 0.]]\n"
     ]
    }
   ],
   "source": [
    "afs = ts.allele_frequency_spectrum(windows=[0, 0.5, 1], span_normalise=False, polarised=True)\n",
    "print(afs)"
   ]
  },
  {
   "cell_type": "markdown",
   "id": "3f77b7a9",
   "metadata": {},
   "source": [
    "This time, we've asked for the number of sites at each frequency in two\n",
    "equal windows. Now we can see that in the first half of the sequence we\n",
    "have three sites (compare with the site table above): one singleton,\n",
    "one doubleton and one tripleton.\n",
    "\n",
    "### Joint spectra\n",
    "\n",
    "We can also compute allele frequencies within multiple sets of samples,\n",
    "the *joint allele frequency spectra*."
   ]
  },
  {
   "cell_type": "code",
   "execution_count": 16,
   "id": "ce28d1a3",
   "metadata": {},
   "outputs": [
    {
     "data": {
      "image/svg+xml": [
       "<svg baseProfile=\"full\" height=\"200\" version=\"1.1\" width=\"200\" xmlns=\"http://www.w3.org/2000/svg\" xmlns:ev=\"http://www.w3.org/2001/xml-events\" xmlns:xlink=\"http://www.w3.org/1999/xlink\"><defs><style type=\"text/css\"><![CDATA[.background path {fill: #808080; fill-opacity: 0}.background path:nth-child(odd) {fill-opacity: .1}.axes {font-size: 14px}.x-axis .tick .lab {font-weight: bold; dominant-baseline: hanging}.axes, .tree {font-size: 14px; text-anchor: middle}.axes line, .edge {stroke: black; fill: none}.y-axis .grid {stroke: #FAFAFA}.node > .sym {fill: black; stroke: none}.site > .sym {stroke: black}.mut text {fill: red; font-style: italic}.mut.extra text {fill: hotpink}.mut line {fill: none; stroke: none}.mut .sym {fill: none; stroke: red}.mut.extra .sym {stroke: hotpink}.node .mut .sym {stroke-width: 1.5px}.tree text, .tree-sequence text {dominant-baseline: central}.plotbox .lab.lft {text-anchor: end}.plotbox .lab.rgt {text-anchor: start}.n0 > .sym {fill: blue}.n2 > .sym {fill: blue}.n3 > .sym {fill: blue}.n1 > .sym {fill: green}.n4 > .sym {fill: green}.n5 > .sym {fill: green}]]></style></defs><g class=\"tree t0\"><g class=\"plotbox\"><g class=\"c2 node n10 p0 root\" transform=\"translate(95 26.8)\"><g class=\"a10 c2 m2 m3 m4 m7 m8 m9 node n6 p0 s2 s3 s4 s7 s8 s9\" transform=\"translate(-48.3333 140.969)\"><g class=\"a6 leaf node n0 p0 sample\" transform=\"translate(-13.3333 0.431103)\"><path class=\"edge\" d=\"M 0 0 V -0.431103 H 13.3333\" /><rect class=\"sym\" height=\"6\" width=\"6\" x=\"-3\" y=\"-3\" /><text class=\"lab\" transform=\"translate(0 11)\">0</text></g><g class=\"a6 leaf node n1 p0 sample\" transform=\"translate(13.3333 0.431103)\"><path class=\"edge\" d=\"M 0 0 V -0.431103 H -13.3333\" /><rect class=\"sym\" height=\"6\" width=\"6\" x=\"-3\" y=\"-3\" /><text class=\"lab\" transform=\"translate(0 11)\">1</text></g><path class=\"edge\" d=\"M 0 0 V -140.969 H 48.3333\" /><g class=\"mut m2 s2 unknown_time\" transform=\"translate(0 -120.83)\"><line x1=\"0\" x2=\"0\" y1=\"0\" y2=\"120.83\" /><path class=\"sym\" d=\"M -3,-3 l 6,6 M -3,3 l 6,-6\" /><text class=\"lab lft\" transform=\"translate(-5 0)\">2</text></g><g class=\"mut m3 s3 unknown_time\" transform=\"translate(0 -100.692)\"><line x1=\"0\" x2=\"0\" y1=\"0\" y2=\"100.692\" /><path class=\"sym\" d=\"M -3,-3 l 6,6 M -3,3 l 6,-6\" /><text class=\"lab lft\" transform=\"translate(-5 0)\">3</text></g><g class=\"mut m4 s4 unknown_time\" transform=\"translate(0 -80.5537)\"><line x1=\"0\" x2=\"0\" y1=\"0\" y2=\"80.5537\" /><path class=\"sym\" d=\"M -3,-3 l 6,6 M -3,3 l 6,-6\" /><text class=\"lab lft\" transform=\"translate(-5 0)\">4</text></g><g class=\"mut m7 s7 unknown_time\" transform=\"translate(0 -60.4152)\"><line x1=\"0\" x2=\"0\" y1=\"0\" y2=\"60.4152\" /><path class=\"sym\" d=\"M -3,-3 l 6,6 M -3,3 l 6,-6\" /><text class=\"lab lft\" transform=\"translate(-5 0)\">7</text></g><g class=\"mut m8 s8 unknown_time\" transform=\"translate(0 -40.2768)\"><line x1=\"0\" x2=\"0\" y1=\"0\" y2=\"40.2768\" /><path class=\"sym\" d=\"M -3,-3 l 6,6 M -3,3 l 6,-6\" /><text class=\"lab lft\" transform=\"translate(-5 0)\">8</text></g><g class=\"mut m9 s9 unknown_time\" transform=\"translate(0 -20.1384)\"><line x1=\"0\" x2=\"0\" y1=\"0\" y2=\"20.1384\" /><path class=\"sym\" d=\"M -3,-3 l 6,6 M -3,3 l 6,-6\" /><text class=\"lab lft\" transform=\"translate(-5 0)\">9</text></g><circle class=\"sym\" cx=\"0\" cy=\"0\" r=\"3\" /><text class=\"lab lft\" transform=\"translate(-3 -7.0)\">6</text></g><g class=\"a10 c2 m6 node n9 p0 s6\" transform=\"translate(48.3333 55.6797)\"><g class=\"a9 leaf m0 node n4 p0 s0 sample\" transform=\"translate(23.3333 85.7203)\"><path class=\"edge\" d=\"M 0 0 V -85.7203 H -23.3333\" /><g class=\"mut m0 s0 unknown_time\" transform=\"translate(0 -42.8602)\"><line x1=\"0\" x2=\"0\" y1=\"0\" y2=\"42.8602\" /><path class=\"sym\" d=\"M -3,-3 l 6,6 M -3,3 l 6,-6\" /><text class=\"lab rgt\" transform=\"translate(5 0)\">0</text></g><rect class=\"sym\" height=\"6\" width=\"6\" x=\"-3\" y=\"-3\" /><text class=\"lab\" transform=\"translate(0 11)\">4</text></g><g class=\"a9 c2 m1 node n8 p0 s1\" transform=\"translate(-23.3333 68.5082)\"><g class=\"a8 leaf m5 node n5 p0 s5 sample\" transform=\"translate(20 17.2121)\"><path class=\"edge\" d=\"M 0 0 V -17.2121 H -20\" /><g class=\"mut m5 s5 unknown_time\" transform=\"translate(0 -8.60607)\"><line x1=\"0\" x2=\"0\" y1=\"0\" y2=\"8.60607\" /><path class=\"sym\" d=\"M -3,-3 l 6,6 M -3,3 l 6,-6\" /><text class=\"lab rgt\" transform=\"translate(5 0)\">5</text></g><rect class=\"sym\" height=\"6\" width=\"6\" x=\"-3\" y=\"-3\" /><text class=\"lab\" transform=\"translate(0 11)\">5</text></g><g class=\"a8 c2 node n7 p0\" transform=\"translate(-20 3.87441)\"><g class=\"a7 leaf node n2 p0 sample\" transform=\"translate(-13.3333 13.3377)\"><path class=\"edge\" d=\"M 0 0 V -13.3377 H 13.3333\" /><rect class=\"sym\" height=\"6\" width=\"6\" x=\"-3\" y=\"-3\" /><text class=\"lab\" transform=\"translate(0 11)\">2</text></g><g class=\"a7 leaf node n3 p0 sample\" transform=\"translate(13.3333 13.3377)\"><path class=\"edge\" d=\"M 0 0 V -13.3377 H -13.3333\" /><rect class=\"sym\" height=\"6\" width=\"6\" x=\"-3\" y=\"-3\" /><text class=\"lab\" transform=\"translate(0 11)\">3</text></g><path class=\"edge\" d=\"M 0 0 V -3.87441 H 20\" /><circle class=\"sym\" cx=\"0\" cy=\"0\" r=\"3\" /><text class=\"lab lft\" transform=\"translate(-3 -7.0)\">7</text></g><path class=\"edge\" d=\"M 0 0 V -68.5082 H 23.3333\" /><g class=\"mut m1 s1 unknown_time\" transform=\"translate(0 -34.2541)\"><line x1=\"0\" x2=\"0\" y1=\"0\" y2=\"34.2541\" /><path class=\"sym\" d=\"M -3,-3 l 6,6 M -3,3 l 6,-6\" /><text class=\"lab lft\" transform=\"translate(-5 0)\">1</text></g><circle class=\"sym\" cx=\"0\" cy=\"0\" r=\"3\" /><text class=\"lab lft\" transform=\"translate(-3 -7.0)\">8</text></g><path class=\"edge\" d=\"M 0 0 V -55.6797 H -48.3333\" /><g class=\"mut m6 s6 unknown_time\" transform=\"translate(0 -27.8398)\"><line x1=\"0\" x2=\"0\" y1=\"0\" y2=\"27.8398\" /><path class=\"sym\" d=\"M -3,-3 l 6,6 M -3,3 l 6,-6\" /><text class=\"lab rgt\" transform=\"translate(5 0)\">6</text></g><circle class=\"sym\" cx=\"0\" cy=\"0\" r=\"3\" /><text class=\"lab rgt\" transform=\"translate(3 -7.0)\">9</text></g><circle class=\"sym\" cx=\"0\" cy=\"0\" r=\"3\" /><text class=\"lab\" transform=\"translate(0 -11)\">10</text></g></g></g></svg>"
      ],
      "text/plain": [
       "'<svg baseProfile=\"full\" height=\"200\" version=\"1.1\" width=\"200\" xmlns=\"http://www.w3.org/2000/svg\" xmlns:ev=\"http://www.w3.org/2001/xml-events\" xmlns:xlink=\"http://www.w3.org/1999/xlink\"><defs><style type=\"text/css\"><![CDATA[.background path {fill: #808080; fill-opacity: 0}.background path:nth-child(odd) {fill-opacity: .1}.axes {font-size: 14px}.x-axis .tick .lab {font-weight: bold; dominant-baseline: hanging}.axes, .tree {font-size: 14px; text-anchor: middle}.axes line, .edge {stroke: black; fill: none}.y-axis .grid {stroke: #FAFAFA}.node > .sym {fill: black; stroke: none}.site > .sym {stroke: black}.mut text {fill: red; font-style: italic}.mut.extra text {fill: hotpink}.mut line {fill: none; stroke: none}.mut .sym {fill: none; stroke: red}.mut.extra .sym {stroke: hotpink}.node .mut .sym {stroke-width: 1.5px}.tree text, .tree-sequence text {dominant-baseline: central}.plotbox .lab.lft {text-anchor: end}.plotbox .lab.rgt {text-anchor: start}.n0 > .sym {fill: blue}.n2 > .sym {fill: blue}.n3 > .sym {fill: blue}.n1 > .sym {fill: green}.n4 > .sym {fill: green}.n5 > .sym {fill: green}]]></style></defs><g class=\"tree t0\"><g class=\"plotbox\"><g class=\"c2 node n10 p0 root\" transform=\"translate(95 26.8)\"><g class=\"a10 c2 m2 m3 m4 m7 m8 m9 node n6 p0 s2 s3 s4 s7 s8 s9\" transform=\"translate(-48.3333 140.969)\"><g class=\"a6 leaf node n0 p0 sample\" transform=\"translate(-13.3333 0.431103)\"><path class=\"edge\" d=\"M 0 0 V -0.431103 H 13.3333\" /><rect class=\"sym\" height=\"6\" width=\"6\" x=\"-3\" y=\"-3\" /><text class=\"lab\" transform=\"translate(0 11)\">0</text></g><g class=\"a6 leaf node n1 p0 sample\" transform=\"translate(13.3333 0.431103)\"><path class=\"edge\" d=\"M 0 0 V -0.431103 H -13.3333\" /><rect class=\"sym\" height=\"6\" width=\"6\" x=\"-3\" y=\"-3\" /><text class=\"lab\" transform=\"translate(0 11)\">1</text></g><path class=\"edge\" d=\"M 0 0 V -140.969 H 48.3333\" /><g class=\"mut m2 s2 unknown_time\" transform=\"translate(0 -120.83)\"><line x1=\"0\" x2=\"0\" y1=\"0\" y2=\"120.83\" /><path class=\"sym\" d=\"M -3,-3 l 6,6 M -3,3 l 6,-6\" /><text class=\"lab lft\" transform=\"translate(-5 0)\">2</text></g><g class=\"mut m3 s3 unknown_time\" transform=\"translate(0 -100.692)\"><line x1=\"0\" x2=\"0\" y1=\"0\" y2=\"100.692\" /><path class=\"sym\" d=\"M -3,-3 l 6,6 M -3,3 l 6,-6\" /><text class=\"lab lft\" transform=\"translate(-5 0)\">3</text></g><g class=\"mut m4 s4 unknown_time\" transform=\"translate(0 -80.5537)\"><line x1=\"0\" x2=\"0\" y1=\"0\" y2=\"80.5537\" /><path class=\"sym\" d=\"M -3,-3 l 6,6 M -3,3 l 6,-6\" /><text class=\"lab lft\" transform=\"translate(-5 0)\">4</text></g><g class=\"mut m7 s7 unknown_time\" transform=\"translate(0 -60.4152)\"><line x1=\"0\" x2=\"0\" y1=\"0\" y2=\"60.4152\" /><path class=\"sym\" d=\"M -3,-3 l 6,6 M -3,3 l 6,-6\" /><text class=\"lab lft\" transform=\"translate(-5 0)\">7</text></g><g class=\"mut m8 s8 unknown_time\" transform=\"translate(0 -40.2768)\"><line x1=\"0\" x2=\"0\" y1=\"0\" y2=\"40.2768\" /><path class=\"sym\" d=\"M -3,-3 l 6,6 M -3,3 l 6,-6\" /><text class=\"lab lft\" transform=\"translate(-5 0)\">8</text></g><g class=\"mut m9 s9 unknown_time\" transform=\"translate(0 -20.1384)\"><line x1=\"0\" x2=\"0\" y1=\"0\" y2=\"20.1384\" /><path class=\"sym\" d=\"M -3,-3 l 6,6 M -3,3 l 6,-6\" /><text class=\"lab lft\" transform=\"translate(-5 0)\">9</text></g><circle class=\"sym\" cx=\"0\" cy=\"0\" r=\"3\" /><text class=\"lab lft\" transform=\"translate(-3 -7.0)\">6</text></g><g class=\"a10 c2 m6 node n9 p0 s6\" transform=\"translate(48.3333 55.6797)\"><g class=\"a9 leaf m0 node n4 p0 s0 sample\" transform=\"translate(23.3333 85.7203)\"><path class=\"edge\" d=\"M 0 0 V -85.7203 H -23.3333\" /><g class=\"mut m0 s0 unknown_time\" transform=\"translate(0 -42.8602)\"><line x1=\"0\" x2=\"0\" y1=\"0\" y2=\"42.8602\" /><path class=\"sym\" d=\"M -3,-3 l 6,6 M -3,3 l 6,-6\" /><text class=\"lab rgt\" transform=\"translate(5 0)\">0</text></g><rect class=\"sym\" height=\"6\" width=\"6\" x=\"-3\" y=\"-3\" /><text class=\"lab\" transform=\"translate(0 11)\">4</text></g><g class=\"a9 c2 m1 node n8 p0 s1\" transform=\"translate(-23.3333 68.5082)\"><g class=\"a8 leaf m5 node n5 p0 s5 sample\" transform=\"translate(20 17.2121)\"><path class=\"edge\" d=\"M 0 0 V -17.2121 H -20\" /><g class=\"mut m5 s5 unknown_time\" transform=\"translate(0 -8.60607)\"><line x1=\"0\" x2=\"0\" y1=\"0\" y2=\"8.60607\" /><path class=\"sym\" d=\"M -3,-3 l 6,6 M -3,3 l 6,-6\" /><text class=\"lab rgt\" transform=\"translate(5 0)\">5</text></g><rect class=\"sym\" height=\"6\" width=\"6\" x=\"-3\" y=\"-3\" /><text class=\"lab\" transform=\"translate(0 11)\">5</text></g><g class=\"a8 c2 node n7 p0\" transform=\"translate(-20 3.87441)\"><g class=\"a7 leaf node n2 p0 sample\" transform=\"translate(-13.3333 13.3377)\"><path class=\"edge\" d=\"M 0 0 V -13.3377 H 13.3333\" /><rect class=\"sym\" height=\"6\" width=\"6\" x=\"-3\" y=\"-3\" /><text class=\"lab\" transform=\"translate(0 11)\">2</text></g><g class=\"a7 leaf node n3 p0 sample\" transform=\"translate(13.3333 13.3377)\"><path class=\"edge\" d=\"M 0 0 V -13.3377 H -13.3333\" /><rect class=\"sym\" height=\"6\" width=\"6\" x=\"-3\" y=\"-3\" /><text class=\"lab\" transform=\"translate(0 11)\">3</text></g><path class=\"edge\" d=\"M 0 0 V -3.87441 H 20\" /><circle class=\"sym\" cx=\"0\" cy=\"0\" r=\"3\" /><text class=\"lab lft\" transform=\"translate(-3 -7.0)\">7</text></g><path class=\"edge\" d=\"M 0 0 V -68.5082 H 23.3333\" /><g class=\"mut m1 s1 unknown_time\" transform=\"translate(0 -34.2541)\"><line x1=\"0\" x2=\"0\" y1=\"0\" y2=\"34.2541\" /><path class=\"sym\" d=\"M -3,-3 l 6,6 M -3,3 l 6,-6\" /><text class=\"lab lft\" transform=\"translate(-5 0)\">1</text></g><circle class=\"sym\" cx=\"0\" cy=\"0\" r=\"3\" /><text class=\"lab lft\" transform=\"translate(-3 -7.0)\">8</text></g><path class=\"edge\" d=\"M 0 0 V -55.6797 H -48.3333\" /><g class=\"mut m6 s6 unknown_time\" transform=\"translate(0 -27.8398)\"><line x1=\"0\" x2=\"0\" y1=\"0\" y2=\"27.8398\" /><path class=\"sym\" d=\"M -3,-3 l 6,6 M -3,3 l 6,-6\" /><text class=\"lab rgt\" transform=\"translate(5 0)\">6</text></g><circle class=\"sym\" cx=\"0\" cy=\"0\" r=\"3\" /><text class=\"lab rgt\" transform=\"translate(3 -7.0)\">9</text></g><circle class=\"sym\" cx=\"0\" cy=\"0\" r=\"3\" /><text class=\"lab\" transform=\"translate(0 -11)\">10</text></g></g></g></svg>'"
      ]
     },
     "execution_count": 16,
     "metadata": {
      "filenames": {
       "image/svg+xml": "/home/runner/work/tutorials/tutorials/_build/jupyter_execute/analysing_tree_sequences_31_0.svg"
      }
     },
     "output_type": "execute_result"
    }
   ],
   "source": [
    "node_colours = {0: \"blue\", 2: \"blue\", 3: \"blue\", 1: \"green\", 4: \"green\", 5: \"green\"}\n",
    "styles = [f\".n{k} > .sym {{fill: {v}}}\" for k, v in node_colours.items()]\n",
    "tree.draw_svg(style = \"\".join(styles))"
   ]
  },
  {
   "cell_type": "markdown",
   "id": "d90ca02a",
   "metadata": {},
   "source": [
    "Here we've marked the samples as either blue or green (we can imagine\n",
    "these belonging to different populations, for example). We can then compute\n",
    "the joint AFS based on these two sets:"
   ]
  },
  {
   "cell_type": "code",
   "execution_count": 17,
   "id": "8c6b59d4",
   "metadata": {},
   "outputs": [
    {
     "name": "stdout",
     "output_type": "stream",
     "text": [
      "[[0. 2. 0. 0.]\n",
      " [0. 6. 0. 0.]\n",
      " [0. 1. 1. 0.]\n",
      " [0. 0. 0. 0.]]\n"
     ]
    }
   ],
   "source": [
    "afs = ts.allele_frequency_spectrum([[0, 2, 3], [1, 4, 5]], polarised=True)\n",
    "print(afs)"
   ]
  },
  {
   "cell_type": "markdown",
   "id": "b98e7e86",
   "metadata": {},
   "source": [
    "Now, each window in our AFS is a 2D numpy array, where each dimension\n",
    "corresponds to frequencies within the different sets. So, we see for example\n",
    "that there are six sites that are singletons in both sets, 1 site\n",
    "that is a doubleton in both sets, and 2 sites that singletons in $[1, 4, 5]$\n",
    "and not present in the other sample set.\n",
    "\n",
    "### Branch length spectra\n",
    "\n",
    "Up to now we've used the {meth}`~TreeSequence.allele_frequency_spectrum` method\n",
    "to summarise the number of sites that occur at different frequencies. We can also\n",
    "use this approach to compute the total branch lengths subtending a given\n",
    "number of samples by setting ``mode=\"branch\"``:"
   ]
  },
  {
   "cell_type": "code",
   "execution_count": 18,
   "id": "33c534bd",
   "metadata": {},
   "outputs": [
    {
     "name": "stdout",
     "output_type": "stream",
     "text": [
      "[0.         4.86089166 5.39638988 2.55239269 2.07444286 0.\n",
      " 0.        ]\n"
     ]
    }
   ],
   "source": [
    "afs = ts.allele_frequency_spectrum(mode=\"branch\", polarised=True, span_normalise=False)\n",
    "print(afs)"
   ]
  },
  {
   "cell_type": "markdown",
   "id": "c0950116",
   "metadata": {},
   "source": [
    "Thus, the total branch length over example one sample is 4.86, over two is\n",
    "5.39, and so on.\n",
    "\n",
    "\n",
    "(sec_tutorial_afs_zeroth_entry)=\n",
    "\n",
    "### Zeroth and final entries in the AFS\n",
    "\n",
    "The zeroth element of the AFS is significant when we are working with\n",
    "sample sets that are a subset of all samples in the tree sequence.\n",
    "For example, in the following we compute the AFS within the sample set\n",
    "[0, 1, 2]:"
   ]
  },
  {
   "cell_type": "code",
   "execution_count": 19,
   "id": "c1185051",
   "metadata": {},
   "outputs": [
    {
     "name": "stdout",
     "output_type": "stream",
     "text": [
      "[4.33184862 5.30022646 5.252042   0.        ]\n"
     ]
    }
   ],
   "source": [
    "afs = ts.allele_frequency_spectrum([[0, 1, 2]], mode=\"branch\", polarised=True)\n",
    "print(afs)"
   ]
  },
  {
   "cell_type": "markdown",
   "id": "1562f364",
   "metadata": {},
   "source": [
    "Thus, the total branch length over 0, 1 and 2 is 5.3, and over pairs from this set\n",
    "is 5.25. What does the zeroth value of 4.33 signify? This is the total branch length\n",
    "over all samples that are **not** in this sample set. By including this value, we\n",
    "maintain the property that for each tree, the sum of the AFS for any sample set\n",
    "is always equal to the total branch length. For example, here we compute:"
   ]
  },
  {
   "cell_type": "code",
   "execution_count": 20,
   "id": "6273e46b",
   "metadata": {},
   "outputs": [
    {
     "name": "stdout",
     "output_type": "stream",
     "text": [
      "sum afs          =  14.884117086717392\n",
      "total branch len =  14.884117086717396\n"
     ]
    }
   ],
   "source": [
    "print(\"sum afs          = \", np.sum(afs))\n",
    "print(\"total branch len = \", tree.total_branch_length)"
   ]
  },
  {
   "cell_type": "markdown",
   "id": "8c5bd9df",
   "metadata": {},
   "source": [
    "The final entry of the AFS is similar: it counts alleles (for mode=\"site\") or\n",
    "branches (for mode=\"branch\") that are ancestral to all of the given sample set,\n",
    "but are still polymorphic in the entire set of samples of the tree sequence.\n",
    "Note, however, that alleles fixed among all the samples, e.g., ones above\n",
    "the root of the tree, will not be included."
   ]
  }
 ],
 "metadata": {
  "jupytext": {
   "text_representation": {
    "extension": ".md",
    "format_name": "myst",
    "format_version": 0.12,
    "jupytext_version": "1.9.1"
   }
  },
  "kernelspec": {
   "display_name": "Python 3",
   "language": "python",
   "name": "python3"
  },
  "language_info": {
   "codemirror_mode": {
    "name": "ipython",
    "version": 3
   },
   "file_extension": ".py",
   "mimetype": "text/x-python",
   "name": "python",
   "nbconvert_exporter": "python",
   "pygments_lexer": "ipython3",
   "version": "3.8.14"
  },
  "source_map": [
   12,
   17,
   42,
   67,
   70,
   81,
   84,
   91,
   95,
   108,
   112,
   120,
   126,
   136,
   139,
   152,
   157,
   163,
   166,
   175,
   178,
   189,
   193,
   201,
   204,
   226,
   232,
   236,
   239,
   253,
   256,
   268,
   272,
   278,
   281,
   296,
   299,
   314,
   317,
   325,
   328
  ]
 },
 "nbformat": 4,
 "nbformat_minor": 5
}